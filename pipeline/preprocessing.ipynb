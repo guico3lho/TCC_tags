{
 "cells": [
  {
   "cell_type": "markdown",
   "source": [
    "## Packages"
   ],
   "metadata": {
    "collapsed": false
   }
  },
  {
   "cell_type": "code",
   "execution_count": 1,
   "outputs": [],
   "source": [
    "import pandas as pd\n",
    "import re\n",
    "import string\n",
    "import nltk\n",
    "from sklearn.manifold import TSNE\n",
    "import plotly.express as px\n",
    "import plotly.graph_objects as go\n",
    "import numpy as np"
   ],
   "metadata": {
    "collapsed": false
   }
  },
  {
   "cell_type": "markdown",
   "source": [
    "## Functions"
   ],
   "metadata": {
    "collapsed": false
   }
  },
  {
   "cell_type": "code",
   "execution_count": 2,
   "outputs": [],
   "source": [
    "def transformDocument(df, column_name, language):\n",
    "    stop_words = usingStopwords(language)\n",
    "    # 1. Aplicar preprocessamento nos títulos e textos completos\n",
    "    if language == 'pt':\n",
    "        # Substituir símbolos importantes\n",
    "        df[column_name] = df[column_name].map(lambda s: s.replace('-feira', ''))\n",
    "        df[column_name] = df[column_name].map(lambda s: s.replace('+', 'mais '))\n",
    "        df[column_name] = df[column_name].map(lambda s: s.replace('-', 'menos '))\n",
    "        df[column_name] = df[column_name].map(lambda s: s.replace('%', ' por cento'))\n",
    "        df[column_name] = df[column_name].map(lambda s: removeStopwords(s, stop_words))\n",
    "\n",
    "    elif language == 'en':\n",
    "        df[column_name] = df[column_name].map(lambda s: s.replace('-', 'less'))\n",
    "        df[column_name] = df[column_name].map(lambda s: s.replace('+', 'plus '))\n",
    "        df[column_name] = df[column_name].map(lambda s: s.replace('%', ' percent'))\n",
    "        df[column_name] = df[column_name].map(lambda s: removeStopwords(s, stop_words))\n",
    "\n",
    "    else:\n",
    "        pass\n",
    "\n",
    "    df[column_name] = df[column_name].map(lambda s: s.replace('R$', ''))\n",
    "    df[column_name] = df[column_name].map(lambda s: s.replace('U$', ''))\n",
    "    df[column_name] = df[column_name].map(lambda s: s.replace('US$', ''))\n",
    "    df[column_name] = df[column_name].map(lambda s: s.replace('S&P 500', 'spx'))\n",
    "\n",
    "    # Transformar em String e Letras Minúsculas nas Mensagens\n",
    "    df[column_name] = df[column_name].map(lambda s:\n",
    "                                              normalizarString(s))\n",
    "\n",
    "    # Remover Pontuações\n",
    "    # Remover Pontuações\n",
    "    df[column_name] = df[column_name].map(lambda s: s.translate(str.maketrans('', '', string.punctuation)))\n",
    "\n",
    "    # Remover Emojis\n",
    "    df[column_name] = df[column_name].map(lambda s: removeEmojis(s))\n",
    "\n",
    "    # Quebras de Linha desnecessárias\n",
    "    df[column_name] = df[column_name].map(lambda s: s.replace('\\n', ' '))\n",
    "\n",
    "    # Remover aspas duplas\n",
    "    df[column_name] = df[column_name].map(lambda s: s.replace('\\\"', ''))\n",
    "    df[column_name] = df[column_name].map(lambda s: s.replace('“', ''))\n",
    "    df[column_name] = df[column_name].map(lambda s: s.replace('”', ''))\n",
    "\n",
    "    # Remover valores\n",
    "    df[column_name] = df[column_name].map(lambda s: removeValores(s))\n",
    "\n",
    "    # Espaços desnecessários\n",
    "    df[column_name] = df[column_name].map(lambda s: s.strip())\n",
    "    return df\n",
    "\n",
    "\n",
    "\n",
    "def removeEmojis(sentence):\n",
    "    \"Remoção de Emojis nas mensagens de texto.\"\n",
    "\n",
    "    # Padrões dos Emojis\n",
    "    emoji_pattern = re.compile(\"[\"\n",
    "                               u\"\\U0001F600-\\U0001F64F\"  # emoticons\n",
    "                               u\"\\U0001F300-\\U0001F5FF\"  # symbols & pictographs\n",
    "                               u\"\\U0001F680-\\U0001F6FF\"  # transport & map symbols\n",
    "                               u\"\\U0001F1E0-\\U0001F1FF\"  # flags (iOS)\n",
    "                               u\"\\U00002702-\\U000027B0\"\n",
    "                               u\"\\U000024C2-\\U0001F251\"\n",
    "                               u\"\\U0001f926-\\U0001f937\"\n",
    "                               u'\\U00010000-\\U0010ffff'\n",
    "                               u\"\\u200d\"\n",
    "                               u\"\\u2640-\\u2642\"\n",
    "                               u\"\\u2600-\\u2B55\"\n",
    "                               u\"\\u23cf\"\n",
    "                               u\"\\u23e9\"\n",
    "                               u\"\\u231a\"\n",
    "                               u\"\\u3030\"\n",
    "                               u\"\\ufe0f\"\n",
    "                               \"]+\", flags=re.UNICODE)\n",
    "\n",
    "    return emoji_pattern.sub(r'', sentence)\n",
    "\n",
    "def removeValores(sentence):\n",
    "    new_sentece = ''\n",
    "\n",
    "    for token in sentence.split():\n",
    "        if token.isdigit():\n",
    "            token = '<NUM>'\n",
    "        new_sentece += ' {}'.format(token)\n",
    "\n",
    "    return new_sentece\n",
    "\n",
    "def usingStopwords(language):\n",
    "    stop_words = []\n",
    "\n",
    "    nltk.download('stopwords')\n",
    "\n",
    "    if language == 'pt':\n",
    "        stop_words = nltk.corpus.stopwords.words('portuguese')\n",
    "    elif language == 'en':\n",
    "        stop_words = nltk.corpus.stopwords.words('english')\n",
    "\n",
    "    return stop_words\n",
    "\n",
    "def removeStopwords(text, stop_words):\n",
    "    tokens = []\n",
    "    for word in text.split():\n",
    "        if word not in stop_words:\n",
    "            tokens.append(word)\n",
    "\n",
    "    text = ' '.join(tokens)\n",
    "    return text\n",
    "\n",
    "def normalizarString(text):\n",
    "    \"\"\"\n",
    "    Função para retirar acentuações e converter para minúscula\n",
    "    :param text:\n",
    "    :return text_normalizado\n",
    "    \"\"\"\n",
    "    import unicodedata\n",
    "\n",
    "    text = unicodedata.normalize('NFD', text).encode('ascii', 'ignore').decode(\"utf-8\")\n",
    "    return str(text.lower())"
   ],
   "metadata": {
    "collapsed": false
   }
  },
  {
   "cell_type": "markdown",
   "source": [
    "## Load dataset"
   ],
   "metadata": {
    "collapsed": false
   }
  },
  {
   "cell_type": "code",
   "execution_count": 2,
   "outputs": [],
   "source": [],
   "metadata": {
    "collapsed": false
   }
  },
  {
   "cell_type": "code",
   "execution_count": 3,
   "outputs": [
    {
     "data": {
      "text/plain": "                                                   title  \\\n0      Dividendos: As 10 ações preferidas por 11 anal...   \n1      Itaú, JHSF e Banco do Brasil: confira a agenda...   \n2      Destaques de Empresas: Petrobras (PETR4), JBS ...   \n3      Itaú Unibanco (ITUB4) vai pagar proventos no c...   \n4      Petrobras (PETR4) elege novo conselho com maio...   \n...                                                  ...   \n11951  Petrobras guia nova máxima do Ibovespa em sess...   \n11952  Petrobras estende vencimento de empréstimo com...   \n11953  Petrobras: percepção de risco sobre política d...   \n11954  BNDES espera vender cerca de R$ 2 bi em debênt...   \n11955  Em ano “ruim”, ações de bancos brasileiros pod...   \n\n                                                    tags  \\\n0      ['Carteira Recomendada', 'Comprar ou vender?',...   \n1      ['Alper (APER3)', 'balanços trimestrais', 'Bol...   \n2      ['Arezzo (ARZZ3)', 'Cia Hering (HGTX3)', 'dest...   \n3      ['Bancos', 'Dividendos', 'Empresas', 'Itaú Uni...   \n4      ['Ações', 'Adriano Pires', 'Combustíveis', 'Em...   \n...                                                  ...   \n11951  ['Ações', 'Empresas', 'Ibovespa', 'Leilão', 'M...   \n11952                          ['Empresas', 'Petrobras']   \n11953  ['Ações', 'Combustíveis', 'Commodities', 'Comp...   \n11954  ['BNDES', 'BNDESPar', 'debêntures', 'Vale (VAL...   \n11955  ['Ações', 'Banco do Brasil', 'Bancos', 'Brades...   \n\n                                                    link  label  \n0      https://www.moneytimes.com.br/dividendos-as-10...      1  \n1      https://www.suno.com.br/noticias/itau-jhsf-ban...      2  \n2      https://www.suno.com.br/noticias/destaques-de-...      0  \n3      https://www.moneytimes.com.br/itau-unibanco-it...      2  \n4      https://www.moneytimes.com.br/petrobras-petr4-...      0  \n...                                                  ...    ...  \n11951  https://www.moneytimes.com.br/petrobras-guia-n...      0  \n11952  https://www.moneytimes.com.br/petrobras-estend...      0  \n11953  https://www.moneytimes.com.br/petrobras-percep...      0  \n11954  https://www.suno.com.br/noticias/bndes-venda-d...      1  \n11955  https://www.moneytimes.com.br/em-ano-ruim-acoe...      2  \n\n[11956 rows x 4 columns]",
      "text/html": "<div>\n<style scoped>\n    .dataframe tbody tr th:only-of-type {\n        vertical-align: middle;\n    }\n\n    .dataframe tbody tr th {\n        vertical-align: top;\n    }\n\n    .dataframe thead th {\n        text-align: right;\n    }\n</style>\n<table border=\"1\" class=\"dataframe\">\n  <thead>\n    <tr style=\"text-align: right;\">\n      <th></th>\n      <th>title</th>\n      <th>tags</th>\n      <th>link</th>\n      <th>label</th>\n    </tr>\n  </thead>\n  <tbody>\n    <tr>\n      <th>0</th>\n      <td>Dividendos: As 10 ações preferidas por 11 anal...</td>\n      <td>['Carteira Recomendada', 'Comprar ou vender?',...</td>\n      <td>https://www.moneytimes.com.br/dividendos-as-10...</td>\n      <td>1</td>\n    </tr>\n    <tr>\n      <th>1</th>\n      <td>Itaú, JHSF e Banco do Brasil: confira a agenda...</td>\n      <td>['Alper (APER3)', 'balanços trimestrais', 'Bol...</td>\n      <td>https://www.suno.com.br/noticias/itau-jhsf-ban...</td>\n      <td>2</td>\n    </tr>\n    <tr>\n      <th>2</th>\n      <td>Destaques de Empresas: Petrobras (PETR4), JBS ...</td>\n      <td>['Arezzo (ARZZ3)', 'Cia Hering (HGTX3)', 'dest...</td>\n      <td>https://www.suno.com.br/noticias/destaques-de-...</td>\n      <td>0</td>\n    </tr>\n    <tr>\n      <th>3</th>\n      <td>Itaú Unibanco (ITUB4) vai pagar proventos no c...</td>\n      <td>['Bancos', 'Dividendos', 'Empresas', 'Itaú Uni...</td>\n      <td>https://www.moneytimes.com.br/itau-unibanco-it...</td>\n      <td>2</td>\n    </tr>\n    <tr>\n      <th>4</th>\n      <td>Petrobras (PETR4) elege novo conselho com maio...</td>\n      <td>['Ações', 'Adriano Pires', 'Combustíveis', 'Em...</td>\n      <td>https://www.moneytimes.com.br/petrobras-petr4-...</td>\n      <td>0</td>\n    </tr>\n    <tr>\n      <th>...</th>\n      <td>...</td>\n      <td>...</td>\n      <td>...</td>\n      <td>...</td>\n    </tr>\n    <tr>\n      <th>11951</th>\n      <td>Petrobras guia nova máxima do Ibovespa em sess...</td>\n      <td>['Ações', 'Empresas', 'Ibovespa', 'Leilão', 'M...</td>\n      <td>https://www.moneytimes.com.br/petrobras-guia-n...</td>\n      <td>0</td>\n    </tr>\n    <tr>\n      <th>11952</th>\n      <td>Petrobras estende vencimento de empréstimo com...</td>\n      <td>['Empresas', 'Petrobras']</td>\n      <td>https://www.moneytimes.com.br/petrobras-estend...</td>\n      <td>0</td>\n    </tr>\n    <tr>\n      <th>11953</th>\n      <td>Petrobras: percepção de risco sobre política d...</td>\n      <td>['Ações', 'Combustíveis', 'Commodities', 'Comp...</td>\n      <td>https://www.moneytimes.com.br/petrobras-percep...</td>\n      <td>0</td>\n    </tr>\n    <tr>\n      <th>11954</th>\n      <td>BNDES espera vender cerca de R$ 2 bi em debênt...</td>\n      <td>['BNDES', 'BNDESPar', 'debêntures', 'Vale (VAL...</td>\n      <td>https://www.suno.com.br/noticias/bndes-venda-d...</td>\n      <td>1</td>\n    </tr>\n    <tr>\n      <th>11955</th>\n      <td>Em ano “ruim”, ações de bancos brasileiros pod...</td>\n      <td>['Ações', 'Banco do Brasil', 'Bancos', 'Brades...</td>\n      <td>https://www.moneytimes.com.br/em-ano-ruim-acoe...</td>\n      <td>2</td>\n    </tr>\n  </tbody>\n</table>\n<p>11956 rows × 4 columns</p>\n</div>"
     },
     "execution_count": 3,
     "metadata": {},
     "output_type": "execute_result"
    }
   ],
   "source": [
    "df = pd.read_csv('../assets/df.csv')\n",
    "df"
   ],
   "metadata": {
    "collapsed": false
   }
  },
  {
   "cell_type": "code",
   "execution_count": 4,
   "outputs": [
    {
     "data": {
      "text/plain": "                                                   title  \\\n0      Dividendos: As 10 ações preferidas por 11 anal...   \n1      Itaú, JHSF e Banco do Brasil: confira a agenda...   \n2      Destaques de Empresas: Petrobras (PETR4), JBS ...   \n3      Itaú Unibanco (ITUB4) vai pagar proventos no c...   \n4      Petrobras (PETR4) elege novo conselho com maio...   \n...                                                  ...   \n11951  Petrobras guia nova máxima do Ibovespa em sess...   \n11952  Petrobras estende vencimento de empréstimo com...   \n11953  Petrobras: percepção de risco sobre política d...   \n11954  BNDES espera vender cerca de R$ 2 bi em debênt...   \n11955  Em ano “ruim”, ações de bancos brasileiros pod...   \n\n                                                    tags  \\\n0      ['Carteira Recomendada', 'Comprar ou vender?',...   \n1      ['Alper (APER3)', 'balanços trimestrais', 'Bol...   \n2      ['Arezzo (ARZZ3)', 'Cia Hering (HGTX3)', 'dest...   \n3      ['Bancos', 'Dividendos', 'Empresas', 'Itaú Uni...   \n4      ['Ações', 'Adriano Pires', 'Combustíveis', 'Em...   \n...                                                  ...   \n11951  ['Ações', 'Empresas', 'Ibovespa', 'Leilão', 'M...   \n11952                          ['Empresas', 'Petrobras']   \n11953  ['Ações', 'Combustíveis', 'Commodities', 'Comp...   \n11954  ['BNDES', 'BNDESPar', 'debêntures', 'Vale (VAL...   \n11955  ['Ações', 'Banco do Brasil', 'Bancos', 'Brades...   \n\n                                                    link  label  \n0      https://www.moneytimes.com.br/dividendos-as-10...      1  \n1      https://www.suno.com.br/noticias/itau-jhsf-ban...      2  \n2      https://www.suno.com.br/noticias/destaques-de-...      0  \n3      https://www.moneytimes.com.br/itau-unibanco-it...      2  \n4      https://www.moneytimes.com.br/petrobras-petr4-...      0  \n...                                                  ...    ...  \n11951  https://www.moneytimes.com.br/petrobras-guia-n...      0  \n11952  https://www.moneytimes.com.br/petrobras-estend...      0  \n11953  https://www.moneytimes.com.br/petrobras-percep...      0  \n11954  https://www.suno.com.br/noticias/bndes-venda-d...      1  \n11955  https://www.moneytimes.com.br/em-ano-ruim-acoe...      2  \n\n[11956 rows x 4 columns]",
      "text/html": "<div>\n<style scoped>\n    .dataframe tbody tr th:only-of-type {\n        vertical-align: middle;\n    }\n\n    .dataframe tbody tr th {\n        vertical-align: top;\n    }\n\n    .dataframe thead th {\n        text-align: right;\n    }\n</style>\n<table border=\"1\" class=\"dataframe\">\n  <thead>\n    <tr style=\"text-align: right;\">\n      <th></th>\n      <th>title</th>\n      <th>tags</th>\n      <th>link</th>\n      <th>label</th>\n    </tr>\n  </thead>\n  <tbody>\n    <tr>\n      <th>0</th>\n      <td>Dividendos: As 10 ações preferidas por 11 anal...</td>\n      <td>['Carteira Recomendada', 'Comprar ou vender?',...</td>\n      <td>https://www.moneytimes.com.br/dividendos-as-10...</td>\n      <td>1</td>\n    </tr>\n    <tr>\n      <th>1</th>\n      <td>Itaú, JHSF e Banco do Brasil: confira a agenda...</td>\n      <td>['Alper (APER3)', 'balanços trimestrais', 'Bol...</td>\n      <td>https://www.suno.com.br/noticias/itau-jhsf-ban...</td>\n      <td>2</td>\n    </tr>\n    <tr>\n      <th>2</th>\n      <td>Destaques de Empresas: Petrobras (PETR4), JBS ...</td>\n      <td>['Arezzo (ARZZ3)', 'Cia Hering (HGTX3)', 'dest...</td>\n      <td>https://www.suno.com.br/noticias/destaques-de-...</td>\n      <td>0</td>\n    </tr>\n    <tr>\n      <th>3</th>\n      <td>Itaú Unibanco (ITUB4) vai pagar proventos no c...</td>\n      <td>['Bancos', 'Dividendos', 'Empresas', 'Itaú Uni...</td>\n      <td>https://www.moneytimes.com.br/itau-unibanco-it...</td>\n      <td>2</td>\n    </tr>\n    <tr>\n      <th>4</th>\n      <td>Petrobras (PETR4) elege novo conselho com maio...</td>\n      <td>['Ações', 'Adriano Pires', 'Combustíveis', 'Em...</td>\n      <td>https://www.moneytimes.com.br/petrobras-petr4-...</td>\n      <td>0</td>\n    </tr>\n    <tr>\n      <th>...</th>\n      <td>...</td>\n      <td>...</td>\n      <td>...</td>\n      <td>...</td>\n    </tr>\n    <tr>\n      <th>11951</th>\n      <td>Petrobras guia nova máxima do Ibovespa em sess...</td>\n      <td>['Ações', 'Empresas', 'Ibovespa', 'Leilão', 'M...</td>\n      <td>https://www.moneytimes.com.br/petrobras-guia-n...</td>\n      <td>0</td>\n    </tr>\n    <tr>\n      <th>11952</th>\n      <td>Petrobras estende vencimento de empréstimo com...</td>\n      <td>['Empresas', 'Petrobras']</td>\n      <td>https://www.moneytimes.com.br/petrobras-estend...</td>\n      <td>0</td>\n    </tr>\n    <tr>\n      <th>11953</th>\n      <td>Petrobras: percepção de risco sobre política d...</td>\n      <td>['Ações', 'Combustíveis', 'Commodities', 'Comp...</td>\n      <td>https://www.moneytimes.com.br/petrobras-percep...</td>\n      <td>0</td>\n    </tr>\n    <tr>\n      <th>11954</th>\n      <td>BNDES espera vender cerca de R$ 2 bi em debênt...</td>\n      <td>['BNDES', 'BNDESPar', 'debêntures', 'Vale (VAL...</td>\n      <td>https://www.suno.com.br/noticias/bndes-venda-d...</td>\n      <td>1</td>\n    </tr>\n    <tr>\n      <th>11955</th>\n      <td>Em ano “ruim”, ações de bancos brasileiros pod...</td>\n      <td>['Ações', 'Banco do Brasil', 'Bancos', 'Brades...</td>\n      <td>https://www.moneytimes.com.br/em-ano-ruim-acoe...</td>\n      <td>2</td>\n    </tr>\n  </tbody>\n</table>\n<p>11956 rows × 4 columns</p>\n</div>"
     },
     "execution_count": 4,
     "metadata": {},
     "output_type": "execute_result"
    }
   ],
   "source": [
    "df"
   ],
   "metadata": {
    "collapsed": false
   }
  },
  {
   "cell_type": "markdown",
   "source": [
    "## Preprocessing dataset"
   ],
   "metadata": {
    "collapsed": false
   }
  },
  {
   "cell_type": "code",
   "execution_count": 5,
   "outputs": [
    {
     "name": "stderr",
     "output_type": "stream",
     "text": [
      "[nltk_data] Downloading package stopwords to\n",
      "[nltk_data]     C:\\Users\\Guilherme\\AppData\\Roaming\\nltk_data...\n",
      "[nltk_data]   Package stopwords is already up-to-date!\n"
     ]
    }
   ],
   "source": [
    "df_pp = df.copy()\n",
    "df_pp = transformDocument(df_pp, 'title', 'pt')"
   ],
   "metadata": {
    "collapsed": false
   }
  },
  {
   "cell_type": "code",
   "execution_count": 6,
   "outputs": [
    {
     "data": {
      "text/plain": "                                                   title  \\\n0      dividendos as <NUM> acoes preferidas <NUM> ana...   \n1      itau jhsf banco brasil confira agenda resultad...   \n2      destaques empresas petrobras petr4 jbs jbss3 h...   \n3      itau unibanco itub4 vai pagar proventos comeco...   \n4      petrobras petr4 elege novo conselho maior part...   \n...                                                  ...   \n11951  petrobras guia nova maxima ibovespa sessao meg...   \n11952  petrobras estende vencimento emprestimo banco ...   \n11953  petrobras percepcao risco sobre politica preco...   \n11954  bndes espera vender cerca <NUM> bi debentures ...   \n11955  em ano ruim acoes bancos brasileiros podem sub...   \n\n                                                    tags  \\\n0      ['Carteira Recomendada', 'Comprar ou vender?',...   \n1      ['Alper (APER3)', 'balanços trimestrais', 'Bol...   \n2      ['Arezzo (ARZZ3)', 'Cia Hering (HGTX3)', 'dest...   \n3      ['Bancos', 'Dividendos', 'Empresas', 'Itaú Uni...   \n4      ['Ações', 'Adriano Pires', 'Combustíveis', 'Em...   \n...                                                  ...   \n11951  ['Ações', 'Empresas', 'Ibovespa', 'Leilão', 'M...   \n11952                          ['Empresas', 'Petrobras']   \n11953  ['Ações', 'Combustíveis', 'Commodities', 'Comp...   \n11954  ['BNDES', 'BNDESPar', 'debêntures', 'Vale (VAL...   \n11955  ['Ações', 'Banco do Brasil', 'Bancos', 'Brades...   \n\n                                                    link  label  \n0      https://www.moneytimes.com.br/dividendos-as-10...      1  \n1      https://www.suno.com.br/noticias/itau-jhsf-ban...      2  \n2      https://www.suno.com.br/noticias/destaques-de-...      0  \n3      https://www.moneytimes.com.br/itau-unibanco-it...      2  \n4      https://www.moneytimes.com.br/petrobras-petr4-...      0  \n...                                                  ...    ...  \n11951  https://www.moneytimes.com.br/petrobras-guia-n...      0  \n11952  https://www.moneytimes.com.br/petrobras-estend...      0  \n11953  https://www.moneytimes.com.br/petrobras-percep...      0  \n11954  https://www.suno.com.br/noticias/bndes-venda-d...      1  \n11955  https://www.moneytimes.com.br/em-ano-ruim-acoe...      2  \n\n[11956 rows x 4 columns]",
      "text/html": "<div>\n<style scoped>\n    .dataframe tbody tr th:only-of-type {\n        vertical-align: middle;\n    }\n\n    .dataframe tbody tr th {\n        vertical-align: top;\n    }\n\n    .dataframe thead th {\n        text-align: right;\n    }\n</style>\n<table border=\"1\" class=\"dataframe\">\n  <thead>\n    <tr style=\"text-align: right;\">\n      <th></th>\n      <th>title</th>\n      <th>tags</th>\n      <th>link</th>\n      <th>label</th>\n    </tr>\n  </thead>\n  <tbody>\n    <tr>\n      <th>0</th>\n      <td>dividendos as &lt;NUM&gt; acoes preferidas &lt;NUM&gt; ana...</td>\n      <td>['Carteira Recomendada', 'Comprar ou vender?',...</td>\n      <td>https://www.moneytimes.com.br/dividendos-as-10...</td>\n      <td>1</td>\n    </tr>\n    <tr>\n      <th>1</th>\n      <td>itau jhsf banco brasil confira agenda resultad...</td>\n      <td>['Alper (APER3)', 'balanços trimestrais', 'Bol...</td>\n      <td>https://www.suno.com.br/noticias/itau-jhsf-ban...</td>\n      <td>2</td>\n    </tr>\n    <tr>\n      <th>2</th>\n      <td>destaques empresas petrobras petr4 jbs jbss3 h...</td>\n      <td>['Arezzo (ARZZ3)', 'Cia Hering (HGTX3)', 'dest...</td>\n      <td>https://www.suno.com.br/noticias/destaques-de-...</td>\n      <td>0</td>\n    </tr>\n    <tr>\n      <th>3</th>\n      <td>itau unibanco itub4 vai pagar proventos comeco...</td>\n      <td>['Bancos', 'Dividendos', 'Empresas', 'Itaú Uni...</td>\n      <td>https://www.moneytimes.com.br/itau-unibanco-it...</td>\n      <td>2</td>\n    </tr>\n    <tr>\n      <th>4</th>\n      <td>petrobras petr4 elege novo conselho maior part...</td>\n      <td>['Ações', 'Adriano Pires', 'Combustíveis', 'Em...</td>\n      <td>https://www.moneytimes.com.br/petrobras-petr4-...</td>\n      <td>0</td>\n    </tr>\n    <tr>\n      <th>...</th>\n      <td>...</td>\n      <td>...</td>\n      <td>...</td>\n      <td>...</td>\n    </tr>\n    <tr>\n      <th>11951</th>\n      <td>petrobras guia nova maxima ibovespa sessao meg...</td>\n      <td>['Ações', 'Empresas', 'Ibovespa', 'Leilão', 'M...</td>\n      <td>https://www.moneytimes.com.br/petrobras-guia-n...</td>\n      <td>0</td>\n    </tr>\n    <tr>\n      <th>11952</th>\n      <td>petrobras estende vencimento emprestimo banco ...</td>\n      <td>['Empresas', 'Petrobras']</td>\n      <td>https://www.moneytimes.com.br/petrobras-estend...</td>\n      <td>0</td>\n    </tr>\n    <tr>\n      <th>11953</th>\n      <td>petrobras percepcao risco sobre politica preco...</td>\n      <td>['Ações', 'Combustíveis', 'Commodities', 'Comp...</td>\n      <td>https://www.moneytimes.com.br/petrobras-percep...</td>\n      <td>0</td>\n    </tr>\n    <tr>\n      <th>11954</th>\n      <td>bndes espera vender cerca &lt;NUM&gt; bi debentures ...</td>\n      <td>['BNDES', 'BNDESPar', 'debêntures', 'Vale (VAL...</td>\n      <td>https://www.suno.com.br/noticias/bndes-venda-d...</td>\n      <td>1</td>\n    </tr>\n    <tr>\n      <th>11955</th>\n      <td>em ano ruim acoes bancos brasileiros podem sub...</td>\n      <td>['Ações', 'Banco do Brasil', 'Bancos', 'Brades...</td>\n      <td>https://www.moneytimes.com.br/em-ano-ruim-acoe...</td>\n      <td>2</td>\n    </tr>\n  </tbody>\n</table>\n<p>11956 rows × 4 columns</p>\n</div>"
     },
     "execution_count": 6,
     "metadata": {},
     "output_type": "execute_result"
    }
   ],
   "source": [
    "df_pp"
   ],
   "metadata": {
    "collapsed": false
   }
  },
  {
   "cell_type": "markdown",
   "source": [
    "## Exporting dataset preprocessed for word2vec and EDA"
   ],
   "metadata": {
    "collapsed": false
   }
  },
  {
   "cell_type": "code",
   "execution_count": 8,
   "outputs": [],
   "source": [
    "df_pp.to_csv('../assets/df_pp.csv', index=False)"
   ],
   "metadata": {
    "collapsed": false
   }
  }
 ],
 "metadata": {
  "kernelspec": {
   "display_name": "Python 3",
   "language": "python",
   "name": "python3"
  },
  "language_info": {
   "codemirror_mode": {
    "name": "ipython",
    "version": 2
   },
   "file_extension": ".py",
   "mimetype": "text/x-python",
   "name": "python",
   "nbconvert_exporter": "python",
   "pygments_lexer": "ipython2",
   "version": "2.7.6"
  }
 },
 "nbformat": 4,
 "nbformat_minor": 0
}
