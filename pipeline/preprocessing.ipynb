{
 "cells": [
  {
   "cell_type": "markdown",
   "source": [
    "## Packages"
   ],
   "metadata": {
    "collapsed": false
   }
  },
  {
   "cell_type": "code",
   "execution_count": 15,
   "outputs": [],
   "source": [
    "import pandas as pd\n",
    "import re\n",
    "import string\n",
    "import nltk\n",
    "from sklearn.manifold import TSNE\n",
    "import plotly.express as px\n",
    "import plotly.graph_objects as go\n",
    "import numpy as np"
   ],
   "metadata": {
    "collapsed": false,
    "ExecuteTime": {
     "end_time": "2023-05-15T12:17:16.617395300Z",
     "start_time": "2023-05-15T12:17:16.588411900Z"
    }
   }
  },
  {
   "cell_type": "markdown",
   "source": [
    "## Functions"
   ],
   "metadata": {
    "collapsed": false
   }
  },
  {
   "cell_type": "code",
   "execution_count": 16,
   "outputs": [],
   "source": [
    "def transformDocument(df, column_name, language):\n",
    "    stop_words = usingStopwords(language)\n",
    "    df_pp = df.copy()\n",
    "    # 1. Aplicar preprocessamento nos títulos e textos completos\n",
    "    if language == 'pt':\n",
    "        # Substituir símbolos importantes\n",
    "        df_pp[column_name] = df_pp[column_name].map(lambda s: s.replace('-feira', ''))\n",
    "        df_pp[column_name] = df_pp[column_name].map(lambda s: s.replace('+', 'mais '))\n",
    "        df_pp[column_name] = df_pp[column_name].map(lambda s: s.replace('-', 'menos '))\n",
    "        df_pp[column_name] = df_pp[column_name].map(lambda s: s.replace('%', ' por cento'))\n",
    "        df_pp[column_name] = df_pp[column_name].map(lambda s: removeStopwords(s, stop_words))\n",
    "\n",
    "    elif language == 'en':\n",
    "        df_pp[column_name] = df_pp[column_name].map(lambda s: s.replace('-', 'less'))\n",
    "        df_pp[column_name] = df_pp[column_name].map(lambda s: s.replace('+', 'plus '))\n",
    "        df_pp[column_name] = df_pp[column_name].map(lambda s: s.replace('%', ' percent'))\n",
    "        df_pp[column_name] = df_pp[column_name].map(lambda s: removeStopwords(s, stop_words))\n",
    "\n",
    "    else:\n",
    "        pass\n",
    "\n",
    "    df_pp[column_name] = df_pp[column_name].map(lambda s: s.replace('R$', ''))\n",
    "    df_pp[column_name] = df_pp[column_name].map(lambda s: s.replace('U$', ''))\n",
    "    df_pp[column_name] = df_pp[column_name].map(lambda s: s.replace('US$', ''))\n",
    "    df_pp[column_name] = df_pp[column_name].map(lambda s: s.replace('S&P 500', 'spx'))\n",
    "\n",
    "    # Transformar em String e Letras Minúsculas nas Mensagens\n",
    "    df_pp[column_name] = df_pp[column_name].map(lambda s:\n",
    "                                              normalizarString(s))\n",
    "\n",
    "    # Remover Pontuações\n",
    "    # Remover Pontuações\n",
    "    df_pp[column_name] = df_pp[column_name].map(lambda s: s.translate(str.maketrans('', '', string.punctuation)))\n",
    "\n",
    "    # Remover Emojis\n",
    "    df_pp[column_name] = df_pp[column_name].map(lambda s: removeEmojis(s))\n",
    "\n",
    "    # Quebras de Linha desnecessárias\n",
    "    df_pp[column_name] = df_pp[column_name].map(lambda s: s.replace('\\n', ' '))\n",
    "\n",
    "    # Remover aspas duplas\n",
    "    df_pp[column_name] = df_pp[column_name].map(lambda s: s.replace('\\\"', ''))\n",
    "    df_pp[column_name] = df_pp[column_name].map(lambda s: s.replace('“', ''))\n",
    "    df_pp[column_name] = df_pp[column_name].map(lambda s: s.replace('”', ''))\n",
    "\n",
    "    # Remover valores\n",
    "    df_pp[column_name] = df_pp[column_name].map(lambda s: removeValores(s))\n",
    "\n",
    "    # Espaços desnecessários\n",
    "    df_pp[column_name] = df_pp[column_name].map(lambda s: s.strip())\n",
    "    return df_pp\n",
    "\n",
    "\n",
    "\n",
    "def removeEmojis(sentence):\n",
    "    \"Remoção de Emojis nas mensagens de texto.\"\n",
    "\n",
    "    # Padrões dos Emojis\n",
    "    emoji_pattern = re.compile(\"[\"\n",
    "                               u\"\\U0001F600-\\U0001F64F\"  # emoticons\n",
    "                               u\"\\U0001F300-\\U0001F5FF\"  # symbols & pictographs\n",
    "                               u\"\\U0001F680-\\U0001F6FF\"  # transport & map symbols\n",
    "                               u\"\\U0001F1E0-\\U0001F1FF\"  # flags (iOS)\n",
    "                               u\"\\U00002702-\\U000027B0\"\n",
    "                               u\"\\U000024C2-\\U0001F251\"\n",
    "                               u\"\\U0001f926-\\U0001f937\"\n",
    "                               u'\\U00010000-\\U0010ffff'\n",
    "                               u\"\\u200d\"\n",
    "                               u\"\\u2640-\\u2642\"\n",
    "                               u\"\\u2600-\\u2B55\"\n",
    "                               u\"\\u23cf\"\n",
    "                               u\"\\u23e9\"\n",
    "                               u\"\\u231a\"\n",
    "                               u\"\\u3030\"\n",
    "                               u\"\\ufe0f\"\n",
    "                               \"]+\", flags=re.UNICODE)\n",
    "\n",
    "    return emoji_pattern.sub(r'', sentence)\n",
    "\n",
    "def removeValores(sentence):\n",
    "    new_sentece = ''\n",
    "\n",
    "    for token in sentence.split():\n",
    "        if token.isdigit():\n",
    "            token = '<NUM>'\n",
    "        new_sentece += ' {}'.format(token)\n",
    "\n",
    "    return new_sentece\n",
    "\n",
    "def usingStopwords(language):\n",
    "    stop_words = []\n",
    "\n",
    "    nltk.download('stopwords')\n",
    "\n",
    "    if language == 'pt':\n",
    "        stop_words = nltk.corpus.stopwords.words('portuguese')\n",
    "    elif language == 'en':\n",
    "        stop_words = nltk.corpus.stopwords.words('english')\n",
    "\n",
    "    return stop_words\n",
    "\n",
    "def removeStopwords(text, stop_words):\n",
    "    tokens = []\n",
    "    for word in text.split():\n",
    "        if word not in stop_words:\n",
    "            tokens.append(word)\n",
    "\n",
    "    text = ' '.join(tokens)\n",
    "    return text\n",
    "\n",
    "def normalizarString(text):\n",
    "    \"\"\"\n",
    "    Função para retirar acentuações e converter para minúscula\n",
    "    :param text:\n",
    "    :return text_normalizado\n",
    "    \"\"\"\n",
    "    import unicodedata\n",
    "\n",
    "    text = unicodedata.normalize('NFD', text).encode('ascii', 'ignore').decode(\"utf-8\")\n",
    "    return str(text.lower())"
   ],
   "metadata": {
    "collapsed": false,
    "ExecuteTime": {
     "end_time": "2023-05-15T12:17:16.700857200Z",
     "start_time": "2023-05-15T12:17:16.620396Z"
    }
   }
  },
  {
   "cell_type": "markdown",
   "source": [
    "## Load splits"
   ],
   "metadata": {
    "collapsed": false
   }
  },
  {
   "cell_type": "code",
   "execution_count": 17,
   "outputs": [],
   "source": [
    "train_raw = pd.read_csv('../assets/data/splits/train/raw.csv')\n",
    "test_raw = pd.read_csv('../assets/data/splits/test/raw.csv')\n",
    "df = pd.read_csv('../assets/data/df.csv')\n"
   ],
   "metadata": {
    "collapsed": false,
    "ExecuteTime": {
     "end_time": "2023-05-15T12:17:16.851741600Z",
     "start_time": "2023-05-15T12:17:16.632388Z"
    }
   }
  },
  {
   "cell_type": "code",
   "execution_count": 18,
   "outputs": [
    {
     "data": {
      "text/plain": "                                                   title  \\\n0      Fed declara que relatório de empregos dos EUA ...   \n1      Petrobras não está na lista de privatizações p...   \n2      Destaques de Empresas: Oi (OIBR3), Petrobras (...   \n3      Petrobras fecha venda de campos à Perenco por ...   \n4      Bancos partem para aquisições no digital; BTG ...   \n...                                                  ...   \n18007  Tesouro Direto: Confira as variações dos títul...   \n18008  Produção de petróleo e gás no país bate record...   \n18009  Petrobras inicia produção de quarta plataforma...   \n18010  Rodolfo Amstalden: Vale (VALE3) está menos ou ...   \n18011  Petrobras (PETR4): indicado a presidente nega ...   \n\n                                                    tags  \\\n0        ['Desemprego', 'EUA', 'Fed', 'federal reserve']   \n1      ['Economia', 'Eletrobras', 'Empresas', 'Jair B...   \n2      ['destaques de empresas', 'Gol Linhas Aéreas (...   \n3       ['Empresas', 'Petrobras', 'Petróleo', 'Reuters']   \n4      ['Itaú Unibanco (ITUB3/ITUB4)', 'Bradesco (BBD...   \n...                                                  ...   \n18007                                 ['Tesouro Direto']   \n18008       ['ANP', 'Economia', 'Petrobras', 'Petróleo']   \n18009              ['Empresas', 'Petrobras', 'Petróleo']   \n18010  ['Colunista Empiricus', 'Colunistas', 'Comprar...   \n18011  ['Petrobras (PETR4)', 'Jair Bolsonaro', 'Paulo...   \n\n                                                    link  label  \n0      https://www.sunoresearch.com.br/noticias/fed-e...      0  \n1      https://www.moneytimes.com.br/petrobras-nao-es...      1  \n2      https://www.suno.com.br/noticias/destaques-de-...      1  \n3      https://www.moneytimes.com.br/petrobras-fecha-...      1  \n4      https://www.suno.com.br/noticias/bancos-partem...      3  \n...                                                  ...    ...  \n18007  https://www.sunoresearch.com.br/noticias/tesou...      0  \n18008  https://www.moneytimes.com.br/producao-de-petr...      1  \n18009  https://www.moneytimes.com.br/petrobras-inicia...      1  \n18010  https://www.moneytimes.com.br/rodolfo-amstalde...      2  \n18011  https://www.suno.com.br/noticias/petrobras-pet...      1  \n\n[18012 rows x 4 columns]",
      "text/html": "<div>\n<style scoped>\n    .dataframe tbody tr th:only-of-type {\n        vertical-align: middle;\n    }\n\n    .dataframe tbody tr th {\n        vertical-align: top;\n    }\n\n    .dataframe thead th {\n        text-align: right;\n    }\n</style>\n<table border=\"1\" class=\"dataframe\">\n  <thead>\n    <tr style=\"text-align: right;\">\n      <th></th>\n      <th>title</th>\n      <th>tags</th>\n      <th>link</th>\n      <th>label</th>\n    </tr>\n  </thead>\n  <tbody>\n    <tr>\n      <th>0</th>\n      <td>Fed declara que relatório de empregos dos EUA ...</td>\n      <td>['Desemprego', 'EUA', 'Fed', 'federal reserve']</td>\n      <td>https://www.sunoresearch.com.br/noticias/fed-e...</td>\n      <td>0</td>\n    </tr>\n    <tr>\n      <th>1</th>\n      <td>Petrobras não está na lista de privatizações p...</td>\n      <td>['Economia', 'Eletrobras', 'Empresas', 'Jair B...</td>\n      <td>https://www.moneytimes.com.br/petrobras-nao-es...</td>\n      <td>1</td>\n    </tr>\n    <tr>\n      <th>2</th>\n      <td>Destaques de Empresas: Oi (OIBR3), Petrobras (...</td>\n      <td>['destaques de empresas', 'Gol Linhas Aéreas (...</td>\n      <td>https://www.suno.com.br/noticias/destaques-de-...</td>\n      <td>1</td>\n    </tr>\n    <tr>\n      <th>3</th>\n      <td>Petrobras fecha venda de campos à Perenco por ...</td>\n      <td>['Empresas', 'Petrobras', 'Petróleo', 'Reuters']</td>\n      <td>https://www.moneytimes.com.br/petrobras-fecha-...</td>\n      <td>1</td>\n    </tr>\n    <tr>\n      <th>4</th>\n      <td>Bancos partem para aquisições no digital; BTG ...</td>\n      <td>['Itaú Unibanco (ITUB3/ITUB4)', 'Bradesco (BBD...</td>\n      <td>https://www.suno.com.br/noticias/bancos-partem...</td>\n      <td>3</td>\n    </tr>\n    <tr>\n      <th>...</th>\n      <td>...</td>\n      <td>...</td>\n      <td>...</td>\n      <td>...</td>\n    </tr>\n    <tr>\n      <th>18007</th>\n      <td>Tesouro Direto: Confira as variações dos títul...</td>\n      <td>['Tesouro Direto']</td>\n      <td>https://www.sunoresearch.com.br/noticias/tesou...</td>\n      <td>0</td>\n    </tr>\n    <tr>\n      <th>18008</th>\n      <td>Produção de petróleo e gás no país bate record...</td>\n      <td>['ANP', 'Economia', 'Petrobras', 'Petróleo']</td>\n      <td>https://www.moneytimes.com.br/producao-de-petr...</td>\n      <td>1</td>\n    </tr>\n    <tr>\n      <th>18009</th>\n      <td>Petrobras inicia produção de quarta plataforma...</td>\n      <td>['Empresas', 'Petrobras', 'Petróleo']</td>\n      <td>https://www.moneytimes.com.br/petrobras-inicia...</td>\n      <td>1</td>\n    </tr>\n    <tr>\n      <th>18010</th>\n      <td>Rodolfo Amstalden: Vale (VALE3) está menos ou ...</td>\n      <td>['Colunista Empiricus', 'Colunistas', 'Comprar...</td>\n      <td>https://www.moneytimes.com.br/rodolfo-amstalde...</td>\n      <td>2</td>\n    </tr>\n    <tr>\n      <th>18011</th>\n      <td>Petrobras (PETR4): indicado a presidente nega ...</td>\n      <td>['Petrobras (PETR4)', 'Jair Bolsonaro', 'Paulo...</td>\n      <td>https://www.suno.com.br/noticias/petrobras-pet...</td>\n      <td>1</td>\n    </tr>\n  </tbody>\n</table>\n<p>18012 rows × 4 columns</p>\n</div>"
     },
     "execution_count": 18,
     "metadata": {},
     "output_type": "execute_result"
    }
   ],
   "source": [
    "df"
   ],
   "metadata": {
    "collapsed": false,
    "ExecuteTime": {
     "end_time": "2023-05-15T12:17:16.891717700Z",
     "start_time": "2023-05-15T12:17:16.855738600Z"
    }
   }
  },
  {
   "cell_type": "markdown",
   "source": [
    "## Preprocessing splits"
   ],
   "metadata": {
    "collapsed": false
   }
  },
  {
   "cell_type": "code",
   "execution_count": 19,
   "outputs": [
    {
     "name": "stderr",
     "output_type": "stream",
     "text": [
      "[nltk_data] Downloading package stopwords to\n",
      "[nltk_data]     C:\\Users\\Guilherme\\AppData\\Roaming\\nltk_data...\n",
      "[nltk_data]   Package stopwords is already up-to-date!\n",
      "[nltk_data] Downloading package stopwords to\n",
      "[nltk_data]     C:\\Users\\Guilherme\\AppData\\Roaming\\nltk_data...\n",
      "[nltk_data]   Package stopwords is already up-to-date!\n",
      "[nltk_data] Downloading package stopwords to\n",
      "[nltk_data]     C:\\Users\\Guilherme\\AppData\\Roaming\\nltk_data...\n",
      "[nltk_data]   Package stopwords is already up-to-date!\n",
      "[nltk_data] Downloading package stopwords to\n",
      "[nltk_data]     C:\\Users\\Guilherme\\AppData\\Roaming\\nltk_data...\n",
      "[nltk_data]   Package stopwords is already up-to-date!\n"
     ]
    }
   ],
   "source": [
    "train_pp = transformDocument(train_raw, 'title', 'pt')\n",
    "test_pp = transformDocument(test_raw, 'title', 'pt')\n",
    "df_pp = transformDocument(df, 'title', 'pt')"
   ],
   "metadata": {
    "collapsed": false,
    "ExecuteTime": {
     "end_time": "2023-05-15T12:17:19.373560100Z",
     "start_time": "2023-05-15T12:17:16.886720400Z"
    }
   }
  },
  {
   "cell_type": "code",
   "execution_count": 20,
   "outputs": [
    {
     "data": {
      "text/plain": "                                                   title  \\\n0       fed declara relatorio empregos eua bom resultado   \n1      petrobras lista privatizacoes primeiro mandato...   \n2      destaques empresas oi oibr3 petrobras petr4 sm...   \n3      petrobras fecha venda campos perenco total <NU...   \n4      bancos partem aquisicoes digital btg bpac11 de...   \n...                                                  ...   \n18007  tesouro direto confira variacoes titulos nesta...   \n18008  producao petroleo gas pais bate recorde maio d...   \n18009  petrobras inicia producao quarta plataforma ca...   \n18010        rodolfo amstalden vale vale3 menos atrativa   \n18011  petrobras petr4 indicado presidente nega inten...   \n\n                                                    tags  \\\n0        ['Desemprego', 'EUA', 'Fed', 'federal reserve']   \n1      ['Economia', 'Eletrobras', 'Empresas', 'Jair B...   \n2      ['destaques de empresas', 'Gol Linhas Aéreas (...   \n3       ['Empresas', 'Petrobras', 'Petróleo', 'Reuters']   \n4      ['Itaú Unibanco (ITUB3/ITUB4)', 'Bradesco (BBD...   \n...                                                  ...   \n18007                                 ['Tesouro Direto']   \n18008       ['ANP', 'Economia', 'Petrobras', 'Petróleo']   \n18009              ['Empresas', 'Petrobras', 'Petróleo']   \n18010  ['Colunista Empiricus', 'Colunistas', 'Comprar...   \n18011  ['Petrobras (PETR4)', 'Jair Bolsonaro', 'Paulo...   \n\n                                                    link  label  \n0      https://www.sunoresearch.com.br/noticias/fed-e...      0  \n1      https://www.moneytimes.com.br/petrobras-nao-es...      1  \n2      https://www.suno.com.br/noticias/destaques-de-...      1  \n3      https://www.moneytimes.com.br/petrobras-fecha-...      1  \n4      https://www.suno.com.br/noticias/bancos-partem...      3  \n...                                                  ...    ...  \n18007  https://www.sunoresearch.com.br/noticias/tesou...      0  \n18008  https://www.moneytimes.com.br/producao-de-petr...      1  \n18009  https://www.moneytimes.com.br/petrobras-inicia...      1  \n18010  https://www.moneytimes.com.br/rodolfo-amstalde...      2  \n18011  https://www.suno.com.br/noticias/petrobras-pet...      1  \n\n[18012 rows x 4 columns]",
      "text/html": "<div>\n<style scoped>\n    .dataframe tbody tr th:only-of-type {\n        vertical-align: middle;\n    }\n\n    .dataframe tbody tr th {\n        vertical-align: top;\n    }\n\n    .dataframe thead th {\n        text-align: right;\n    }\n</style>\n<table border=\"1\" class=\"dataframe\">\n  <thead>\n    <tr style=\"text-align: right;\">\n      <th></th>\n      <th>title</th>\n      <th>tags</th>\n      <th>link</th>\n      <th>label</th>\n    </tr>\n  </thead>\n  <tbody>\n    <tr>\n      <th>0</th>\n      <td>fed declara relatorio empregos eua bom resultado</td>\n      <td>['Desemprego', 'EUA', 'Fed', 'federal reserve']</td>\n      <td>https://www.sunoresearch.com.br/noticias/fed-e...</td>\n      <td>0</td>\n    </tr>\n    <tr>\n      <th>1</th>\n      <td>petrobras lista privatizacoes primeiro mandato...</td>\n      <td>['Economia', 'Eletrobras', 'Empresas', 'Jair B...</td>\n      <td>https://www.moneytimes.com.br/petrobras-nao-es...</td>\n      <td>1</td>\n    </tr>\n    <tr>\n      <th>2</th>\n      <td>destaques empresas oi oibr3 petrobras petr4 sm...</td>\n      <td>['destaques de empresas', 'Gol Linhas Aéreas (...</td>\n      <td>https://www.suno.com.br/noticias/destaques-de-...</td>\n      <td>1</td>\n    </tr>\n    <tr>\n      <th>3</th>\n      <td>petrobras fecha venda campos perenco total &lt;NU...</td>\n      <td>['Empresas', 'Petrobras', 'Petróleo', 'Reuters']</td>\n      <td>https://www.moneytimes.com.br/petrobras-fecha-...</td>\n      <td>1</td>\n    </tr>\n    <tr>\n      <th>4</th>\n      <td>bancos partem aquisicoes digital btg bpac11 de...</td>\n      <td>['Itaú Unibanco (ITUB3/ITUB4)', 'Bradesco (BBD...</td>\n      <td>https://www.suno.com.br/noticias/bancos-partem...</td>\n      <td>3</td>\n    </tr>\n    <tr>\n      <th>...</th>\n      <td>...</td>\n      <td>...</td>\n      <td>...</td>\n      <td>...</td>\n    </tr>\n    <tr>\n      <th>18007</th>\n      <td>tesouro direto confira variacoes titulos nesta...</td>\n      <td>['Tesouro Direto']</td>\n      <td>https://www.sunoresearch.com.br/noticias/tesou...</td>\n      <td>0</td>\n    </tr>\n    <tr>\n      <th>18008</th>\n      <td>producao petroleo gas pais bate recorde maio d...</td>\n      <td>['ANP', 'Economia', 'Petrobras', 'Petróleo']</td>\n      <td>https://www.moneytimes.com.br/producao-de-petr...</td>\n      <td>1</td>\n    </tr>\n    <tr>\n      <th>18009</th>\n      <td>petrobras inicia producao quarta plataforma ca...</td>\n      <td>['Empresas', 'Petrobras', 'Petróleo']</td>\n      <td>https://www.moneytimes.com.br/petrobras-inicia...</td>\n      <td>1</td>\n    </tr>\n    <tr>\n      <th>18010</th>\n      <td>rodolfo amstalden vale vale3 menos atrativa</td>\n      <td>['Colunista Empiricus', 'Colunistas', 'Comprar...</td>\n      <td>https://www.moneytimes.com.br/rodolfo-amstalde...</td>\n      <td>2</td>\n    </tr>\n    <tr>\n      <th>18011</th>\n      <td>petrobras petr4 indicado presidente nega inten...</td>\n      <td>['Petrobras (PETR4)', 'Jair Bolsonaro', 'Paulo...</td>\n      <td>https://www.suno.com.br/noticias/petrobras-pet...</td>\n      <td>1</td>\n    </tr>\n  </tbody>\n</table>\n<p>18012 rows × 4 columns</p>\n</div>"
     },
     "execution_count": 20,
     "metadata": {},
     "output_type": "execute_result"
    }
   ],
   "source": [
    "df_pp"
   ],
   "metadata": {
    "collapsed": false,
    "ExecuteTime": {
     "end_time": "2023-05-15T12:17:19.389562200Z",
     "start_time": "2023-05-15T12:17:19.374555Z"
    }
   }
  },
  {
   "cell_type": "markdown",
   "source": [
    "## Exporting preprocessed splits for EDA, word2vec and lstm_preprocessing"
   ],
   "metadata": {
    "collapsed": false
   }
  },
  {
   "cell_type": "code",
   "execution_count": 21,
   "outputs": [],
   "source": [
    "train_pp.to_csv('../assets/data/splits/train/preprocessed.csv', index=False)\n",
    "test_pp.to_csv('../assets/data/splits/test/preprocessed.csv', index=False)\n",
    "df_pp.to_csv('../assets/data/df_pp.csv', index=False)"
   ],
   "metadata": {
    "collapsed": false,
    "ExecuteTime": {
     "end_time": "2023-05-15T12:17:19.734891400Z",
     "start_time": "2023-05-15T12:17:19.390545300Z"
    }
   }
  }
 ],
 "metadata": {
  "kernelspec": {
   "display_name": "Python 3",
   "language": "python",
   "name": "python3"
  },
  "language_info": {
   "codemirror_mode": {
    "name": "ipython",
    "version": 2
   },
   "file_extension": ".py",
   "mimetype": "text/x-python",
   "name": "python",
   "nbconvert_exporter": "python",
   "pygments_lexer": "ipython2",
   "version": "2.7.6"
  }
 },
 "nbformat": 4,
 "nbformat_minor": 0
}
