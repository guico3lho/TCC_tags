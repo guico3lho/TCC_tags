{
 "cells": [
  {
   "cell_type": "markdown",
   "source": [
    "## Packages"
   ],
   "metadata": {
    "collapsed": false
   }
  },
  {
   "cell_type": "code",
   "execution_count": 1,
   "outputs": [],
   "source": [
    "import pandas as pd\n",
    "import re\n",
    "import string\n",
    "import nltk\n",
    "from sklearn.manifold import TSNE\n",
    "import plotly.express as px\n",
    "import plotly.graph_objects as go\n",
    "import numpy as np"
   ],
   "metadata": {
    "collapsed": false,
    "ExecuteTime": {
     "end_time": "2023-05-22T15:01:30.752966600Z",
     "start_time": "2023-05-22T15:01:07.568223200Z"
    }
   }
  },
  {
   "cell_type": "markdown",
   "source": [
    "## Functions"
   ],
   "metadata": {
    "collapsed": false
   }
  },
  {
   "cell_type": "code",
   "execution_count": 2,
   "outputs": [],
   "source": [
    "def transformDocument(df, column_name, language):\n",
    "    stop_words = usingStopwords(language)\n",
    "    df_pp = df.copy()\n",
    "    # 1. Aplicar preprocessamento nos títulos e textos completos\n",
    "    if language == 'pt':\n",
    "        # Substituir símbolos importantes\n",
    "        df_pp[column_name] = df_pp[column_name].map(lambda s: s.replace('-feira', ''))\n",
    "        df_pp[column_name] = df_pp[column_name].map(lambda s: s.replace('+', 'mais '))\n",
    "        df_pp[column_name] = df_pp[column_name].map(lambda s: s.replace('-', 'menos '))\n",
    "        df_pp[column_name] = df_pp[column_name].map(lambda s: s.replace('%', ' por cento'))\n",
    "        df_pp[column_name] = df_pp[column_name].map(lambda s: removeStopwords(s, stop_words))\n",
    "\n",
    "    elif language == 'en':\n",
    "        df_pp[column_name] = df_pp[column_name].map(lambda s: s.replace('-', 'less'))\n",
    "        df_pp[column_name] = df_pp[column_name].map(lambda s: s.replace('+', 'plus '))\n",
    "        df_pp[column_name] = df_pp[column_name].map(lambda s: s.replace('%', ' percent'))\n",
    "        df_pp[column_name] = df_pp[column_name].map(lambda s: removeStopwords(s, stop_words))\n",
    "\n",
    "    else:\n",
    "        pass\n",
    "\n",
    "    df_pp[column_name] = df_pp[column_name].map(lambda s: s.replace('R$', ''))\n",
    "    df_pp[column_name] = df_pp[column_name].map(lambda s: s.replace('U$', ''))\n",
    "    df_pp[column_name] = df_pp[column_name].map(lambda s: s.replace('US$', ''))\n",
    "    df_pp[column_name] = df_pp[column_name].map(lambda s: s.replace('S&P 500', 'spx'))\n",
    "\n",
    "    # Transformar em String e Letras Minúsculas nas Mensagens\n",
    "    df_pp[column_name] = df_pp[column_name].map(lambda s:\n",
    "                                              normalizarString(s))\n",
    "\n",
    "\n",
    "    # Remover Pontuações\n",
    "    # Remover Pontuações\n",
    "    df_pp[column_name] = df_pp[column_name].map(lambda s: s.translate(str.maketrans('', '', string.punctuation)))\n",
    "\n",
    "    # Remover Emojis\n",
    "    df_pp[column_name] = df_pp[column_name].map(lambda s: removeEmojis(s))\n",
    "\n",
    "    # Quebras de Linha desnecessárias\n",
    "    df_pp[column_name] = df_pp[column_name].map(lambda s: s.replace('\\n', ' '))\n",
    "\n",
    "    # Remover aspas duplas\n",
    "    df_pp[column_name] = df_pp[column_name].map(lambda s: s.replace('\\\"', ''))\n",
    "    df_pp[column_name] = df_pp[column_name].map(lambda s: s.replace('“', ''))\n",
    "    df_pp[column_name] = df_pp[column_name].map(lambda s: s.replace('”', ''))\n",
    "\n",
    "    # Remover valores\n",
    "    df_pp[column_name] = df_pp[column_name].map(lambda s: removeValores(s))\n",
    "\n",
    "    # Espaços desnecessários\n",
    "    df_pp[column_name] = df_pp[column_name].map(lambda s: s.strip())\n",
    "    return df_pp\n",
    "\n",
    "\n",
    "\n",
    "def removeEmojis(sentence):\n",
    "    \"Remoção de Emojis nas mensagens de texto.\"\n",
    "\n",
    "    # Padrões dos Emojis\n",
    "    emoji_pattern = re.compile(\"[\"\n",
    "                               u\"\\U0001F600-\\U0001F64F\"  # emoticons\n",
    "                               u\"\\U0001F300-\\U0001F5FF\"  # symbols & pictographs\n",
    "                               u\"\\U0001F680-\\U0001F6FF\"  # transport & map symbols\n",
    "                               u\"\\U0001F1E0-\\U0001F1FF\"  # flags (iOS)\n",
    "                               u\"\\U00002702-\\U000027B0\"\n",
    "                               u\"\\U000024C2-\\U0001F251\"\n",
    "                               u\"\\U0001f926-\\U0001f937\"\n",
    "                               u'\\U00010000-\\U0010ffff'\n",
    "                               u\"\\u200d\"\n",
    "                               u\"\\u2640-\\u2642\"\n",
    "                               u\"\\u2600-\\u2B55\"\n",
    "                               u\"\\u23cf\"\n",
    "                               u\"\\u23e9\"\n",
    "                               u\"\\u231a\"\n",
    "                               u\"\\u3030\"\n",
    "                               u\"\\ufe0f\"\n",
    "                               \"]+\", flags=re.UNICODE)\n",
    "\n",
    "    return emoji_pattern.sub(r'', sentence)\n",
    "\n",
    "def removeValores(sentence):\n",
    "    new_sentece = ''\n",
    "\n",
    "    for token in sentence.split():\n",
    "        if token.isdigit():\n",
    "            token = '<NUM>'\n",
    "        new_sentece += ' {}'.format(token)\n",
    "\n",
    "    return new_sentece\n",
    "\n",
    "def usingStopwords(language):\n",
    "    stop_words = []\n",
    "\n",
    "    nltk.download('stopwords')\n",
    "\n",
    "    if language == 'pt':\n",
    "        stop_words = nltk.corpus.stopwords.words('portuguese')\n",
    "    elif language == 'en':\n",
    "        stop_words = nltk.corpus.stopwords.words('english')\n",
    "\n",
    "    return stop_words\n",
    "\n",
    "def removeStopwords(text, stop_words):\n",
    "    tokens = []\n",
    "    for word in text.split():\n",
    "        if word not in stop_words:\n",
    "            tokens.append(word)\n",
    "\n",
    "    text = ' '.join(tokens)\n",
    "    return text\n",
    "\n",
    "def normalizarString(text):\n",
    "    \"\"\"\n",
    "    Função para retirar acentuações e converter para minúscula\n",
    "    :param text:\n",
    "    :return text_normalizado\n",
    "    \"\"\"\n",
    "    import unicodedata\n",
    "\n",
    "    text = unicodedata.normalize('NFD', text).encode('ascii', 'ignore').decode(\"utf-8\")\n",
    "    return str(text.lower())"
   ],
   "metadata": {
    "collapsed": false,
    "ExecuteTime": {
     "end_time": "2023-05-22T15:01:30.791945Z",
     "start_time": "2023-05-22T15:01:30.539085300Z"
    }
   }
  },
  {
   "cell_type": "markdown",
   "source": [
    "## Dependencies"
   ],
   "metadata": {
    "collapsed": false
   }
  },
  {
   "cell_type": "code",
   "execution_count": 3,
   "outputs": [
    {
     "data": {
      "text/plain": "                                                   title  \\\n0      Óleo que vazou foi extraído de três campos na ...   \n1      Futuros do minério de ferro recuam 1,56% na bo...   \n2        Conheça a Top Pick de 21 analistas para janeiro   \n3      Reino Unido deve aprovar vacina da Pfizer em p...   \n4      O que você ainda não leu sobre o reajuste feit...   \n...                                                  ...   \n18007  Açúcar bruto sobe na ICE, café arábica perde f...   \n18008         Fechamento: Ibovespa fica estável em 0,01%   \n18009  Fed alerta sobre risco para economia e adota m...   \n18010  Escritórios dos EUA pretendem abrir ação colet...   \n18011  Rede concede prazo de 90 dias para novos clien...   \n\n                                                    tags  \\\n0      ['Agência Brasil', 'Meio Ambiente', 'Nordeste'...   \n1              ['Mineração', 'Minério de ferro', 'Vale']   \n2      ['Carteira Recomendada', 'Comprar ou vender?',...   \n3      ['Pfizer', 'Reino Unido', 'vacina', 'vacina da...   \n4      ['Ações', 'Artigo', 'Biodiesel', 'Coluna do Pe...   \n...                                                  ...   \n18007  ['Açúcar', 'Agro Times', 'Agronegócio', 'Brasi...   \n18008  ['Ações', 'BM&FBovespa', 'CCR', 'CSN', 'Ecorod...   \n18009  ['EUA', 'Fed', 'federal reserve', 'Federal Res...   \n18010           ['Estados Unidos (EUA)', 'Vale (VALE3)']   \n18011  ['Cartão de Crédito', 'Itaú Unibanco', 'Rede',...   \n\n                                                    link  label  \n0      https://www.moneytimes.com.br/oleo-que-vazou-f...      1  \n1      https://www.moneytimes.com.br/futuros-do-miner...      2  \n2      https://www.moneytimes.com.br/conheca-a-top-pi...      1  \n3      https://www.sunoresearch.com.br/noticias/reino...      0  \n4      https://www.moneytimes.com.br/o-que-voce-ainda...      1  \n...                                                  ...    ...  \n18007  https://www.moneytimes.com.br/acucar-bruto-sob...      1  \n18008  https://www.moneytimes.com.br/fechamento-ibove...      1  \n18009  https://www.sunoresearch.com.br/noticias/fed-a...      0  \n18010  https://www.suno.com.br/noticias/escritorios-e...      2  \n18011  https://www.moneytimes.com.br/rede-concede-pra...      3  \n\n[18012 rows x 4 columns]",
      "text/html": "<div>\n<style scoped>\n    .dataframe tbody tr th:only-of-type {\n        vertical-align: middle;\n    }\n\n    .dataframe tbody tr th {\n        vertical-align: top;\n    }\n\n    .dataframe thead th {\n        text-align: right;\n    }\n</style>\n<table border=\"1\" class=\"dataframe\">\n  <thead>\n    <tr style=\"text-align: right;\">\n      <th></th>\n      <th>title</th>\n      <th>tags</th>\n      <th>link</th>\n      <th>label</th>\n    </tr>\n  </thead>\n  <tbody>\n    <tr>\n      <th>0</th>\n      <td>Óleo que vazou foi extraído de três campos na ...</td>\n      <td>['Agência Brasil', 'Meio Ambiente', 'Nordeste'...</td>\n      <td>https://www.moneytimes.com.br/oleo-que-vazou-f...</td>\n      <td>1</td>\n    </tr>\n    <tr>\n      <th>1</th>\n      <td>Futuros do minério de ferro recuam 1,56% na bo...</td>\n      <td>['Mineração', 'Minério de ferro', 'Vale']</td>\n      <td>https://www.moneytimes.com.br/futuros-do-miner...</td>\n      <td>2</td>\n    </tr>\n    <tr>\n      <th>2</th>\n      <td>Conheça a Top Pick de 21 analistas para janeiro</td>\n      <td>['Carteira Recomendada', 'Comprar ou vender?',...</td>\n      <td>https://www.moneytimes.com.br/conheca-a-top-pi...</td>\n      <td>1</td>\n    </tr>\n    <tr>\n      <th>3</th>\n      <td>Reino Unido deve aprovar vacina da Pfizer em p...</td>\n      <td>['Pfizer', 'Reino Unido', 'vacina', 'vacina da...</td>\n      <td>https://www.sunoresearch.com.br/noticias/reino...</td>\n      <td>0</td>\n    </tr>\n    <tr>\n      <th>4</th>\n      <td>O que você ainda não leu sobre o reajuste feit...</td>\n      <td>['Ações', 'Artigo', 'Biodiesel', 'Coluna do Pe...</td>\n      <td>https://www.moneytimes.com.br/o-que-voce-ainda...</td>\n      <td>1</td>\n    </tr>\n    <tr>\n      <th>...</th>\n      <td>...</td>\n      <td>...</td>\n      <td>...</td>\n      <td>...</td>\n    </tr>\n    <tr>\n      <th>18007</th>\n      <td>Açúcar bruto sobe na ICE, café arábica perde f...</td>\n      <td>['Açúcar', 'Agro Times', 'Agronegócio', 'Brasi...</td>\n      <td>https://www.moneytimes.com.br/acucar-bruto-sob...</td>\n      <td>1</td>\n    </tr>\n    <tr>\n      <th>18008</th>\n      <td>Fechamento: Ibovespa fica estável em 0,01%</td>\n      <td>['Ações', 'BM&amp;FBovespa', 'CCR', 'CSN', 'Ecorod...</td>\n      <td>https://www.moneytimes.com.br/fechamento-ibove...</td>\n      <td>1</td>\n    </tr>\n    <tr>\n      <th>18009</th>\n      <td>Fed alerta sobre risco para economia e adota m...</td>\n      <td>['EUA', 'Fed', 'federal reserve', 'Federal Res...</td>\n      <td>https://www.sunoresearch.com.br/noticias/fed-a...</td>\n      <td>0</td>\n    </tr>\n    <tr>\n      <th>18010</th>\n      <td>Escritórios dos EUA pretendem abrir ação colet...</td>\n      <td>['Estados Unidos (EUA)', 'Vale (VALE3)']</td>\n      <td>https://www.suno.com.br/noticias/escritorios-e...</td>\n      <td>2</td>\n    </tr>\n    <tr>\n      <th>18011</th>\n      <td>Rede concede prazo de 90 dias para novos clien...</td>\n      <td>['Cartão de Crédito', 'Itaú Unibanco', 'Rede',...</td>\n      <td>https://www.moneytimes.com.br/rede-concede-pra...</td>\n      <td>3</td>\n    </tr>\n  </tbody>\n</table>\n<p>18012 rows × 4 columns</p>\n</div>"
     },
     "execution_count": 3,
     "metadata": {},
     "output_type": "execute_result"
    }
   ],
   "source": [
    "train_raw = pd.read_csv('../assets/data/splits/train/raw.csv')\n",
    "val_raw = pd.read_csv('../assets/data/splits/val/raw.csv')\n",
    "test_raw = pd.read_csv('../assets/data/splits/test/raw.csv')\n",
    "df = pd.read_csv('../assets/data/df.csv')\n",
    "df"
   ],
   "metadata": {
    "collapsed": false,
    "ExecuteTime": {
     "end_time": "2023-05-22T15:01:31.845357200Z",
     "start_time": "2023-05-22T15:01:30.604049200Z"
    }
   }
  },
  {
   "cell_type": "code",
   "execution_count": 3,
   "outputs": [],
   "source": [],
   "metadata": {
    "collapsed": false,
    "ExecuteTime": {
     "end_time": "2023-05-22T15:01:31.846356300Z",
     "start_time": "2023-05-22T15:01:31.843358200Z"
    }
   }
  },
  {
   "cell_type": "markdown",
   "source": [
    "## Preprocessing splits"
   ],
   "metadata": {
    "collapsed": false
   }
  },
  {
   "cell_type": "code",
   "execution_count": 4,
   "outputs": [
    {
     "name": "stderr",
     "output_type": "stream",
     "text": [
      "[nltk_data] Downloading package stopwords to\n",
      "[nltk_data]     C:\\Users\\Guilherme\\AppData\\Roaming\\nltk_data...\n",
      "[nltk_data]   Package stopwords is already up-to-date!\n",
      "[nltk_data] Downloading package stopwords to\n",
      "[nltk_data]     C:\\Users\\Guilherme\\AppData\\Roaming\\nltk_data...\n",
      "[nltk_data]   Package stopwords is already up-to-date!\n",
      "[nltk_data] Downloading package stopwords to\n",
      "[nltk_data]     C:\\Users\\Guilherme\\AppData\\Roaming\\nltk_data...\n",
      "[nltk_data]   Package stopwords is already up-to-date!\n",
      "[nltk_data] Downloading package stopwords to\n",
      "[nltk_data]     C:\\Users\\Guilherme\\AppData\\Roaming\\nltk_data...\n",
      "[nltk_data]   Package stopwords is already up-to-date!\n"
     ]
    }
   ],
   "source": [
    "train_pp = transformDocument(train_raw, 'title', 'pt')\n",
    "val_pp = transformDocument(val_raw, 'title', 'pt')\n",
    "test_pp = transformDocument(test_raw, 'title', 'pt')\n",
    "df_pp = transformDocument(df, 'title', 'pt')"
   ],
   "metadata": {
    "collapsed": false,
    "ExecuteTime": {
     "end_time": "2023-05-22T15:01:35.609998700Z",
     "start_time": "2023-05-22T15:01:31.851353800Z"
    }
   }
  },
  {
   "cell_type": "code",
   "execution_count": 5,
   "outputs": [
    {
     "data": {
      "text/plain": "                                                   title  \\\n0      oleo vazou extraido tres campos venezuela diz ...   \n1      futuros minerio ferro recuam <NUM> cento bolsa...   \n2               conheca top pick <NUM> analistas janeiro   \n3      reino unido deve aprovar vacina pfizer poucos ...   \n4      o ainda leu sobre reajuste feito petrobras e b...   \n...                                                  ...   \n18007     acucar bruto sobe ice cafe arabica perde forca   \n18008       fechamento ibovespa fica estavel <NUM> cento   \n18009  fed alerta sobre risco economia adota media in...   \n18010  escritorios eua pretendem abrir acao coletiva ...   \n18011  rede concede prazo <NUM> dias novos clientes a...   \n\n                                                    tags  \\\n0      ['Agência Brasil', 'Meio Ambiente', 'Nordeste'...   \n1              ['Mineração', 'Minério de ferro', 'Vale']   \n2      ['Carteira Recomendada', 'Comprar ou vender?',...   \n3      ['Pfizer', 'Reino Unido', 'vacina', 'vacina da...   \n4      ['Ações', 'Artigo', 'Biodiesel', 'Coluna do Pe...   \n...                                                  ...   \n18007  ['Açúcar', 'Agro Times', 'Agronegócio', 'Brasi...   \n18008  ['Ações', 'BM&FBovespa', 'CCR', 'CSN', 'Ecorod...   \n18009  ['EUA', 'Fed', 'federal reserve', 'Federal Res...   \n18010           ['Estados Unidos (EUA)', 'Vale (VALE3)']   \n18011  ['Cartão de Crédito', 'Itaú Unibanco', 'Rede',...   \n\n                                                    link  label  \n0      https://www.moneytimes.com.br/oleo-que-vazou-f...      1  \n1      https://www.moneytimes.com.br/futuros-do-miner...      2  \n2      https://www.moneytimes.com.br/conheca-a-top-pi...      1  \n3      https://www.sunoresearch.com.br/noticias/reino...      0  \n4      https://www.moneytimes.com.br/o-que-voce-ainda...      1  \n...                                                  ...    ...  \n18007  https://www.moneytimes.com.br/acucar-bruto-sob...      1  \n18008  https://www.moneytimes.com.br/fechamento-ibove...      1  \n18009  https://www.sunoresearch.com.br/noticias/fed-a...      0  \n18010  https://www.suno.com.br/noticias/escritorios-e...      2  \n18011  https://www.moneytimes.com.br/rede-concede-pra...      3  \n\n[18012 rows x 4 columns]",
      "text/html": "<div>\n<style scoped>\n    .dataframe tbody tr th:only-of-type {\n        vertical-align: middle;\n    }\n\n    .dataframe tbody tr th {\n        vertical-align: top;\n    }\n\n    .dataframe thead th {\n        text-align: right;\n    }\n</style>\n<table border=\"1\" class=\"dataframe\">\n  <thead>\n    <tr style=\"text-align: right;\">\n      <th></th>\n      <th>title</th>\n      <th>tags</th>\n      <th>link</th>\n      <th>label</th>\n    </tr>\n  </thead>\n  <tbody>\n    <tr>\n      <th>0</th>\n      <td>oleo vazou extraido tres campos venezuela diz ...</td>\n      <td>['Agência Brasil', 'Meio Ambiente', 'Nordeste'...</td>\n      <td>https://www.moneytimes.com.br/oleo-que-vazou-f...</td>\n      <td>1</td>\n    </tr>\n    <tr>\n      <th>1</th>\n      <td>futuros minerio ferro recuam &lt;NUM&gt; cento bolsa...</td>\n      <td>['Mineração', 'Minério de ferro', 'Vale']</td>\n      <td>https://www.moneytimes.com.br/futuros-do-miner...</td>\n      <td>2</td>\n    </tr>\n    <tr>\n      <th>2</th>\n      <td>conheca top pick &lt;NUM&gt; analistas janeiro</td>\n      <td>['Carteira Recomendada', 'Comprar ou vender?',...</td>\n      <td>https://www.moneytimes.com.br/conheca-a-top-pi...</td>\n      <td>1</td>\n    </tr>\n    <tr>\n      <th>3</th>\n      <td>reino unido deve aprovar vacina pfizer poucos ...</td>\n      <td>['Pfizer', 'Reino Unido', 'vacina', 'vacina da...</td>\n      <td>https://www.sunoresearch.com.br/noticias/reino...</td>\n      <td>0</td>\n    </tr>\n    <tr>\n      <th>4</th>\n      <td>o ainda leu sobre reajuste feito petrobras e b...</td>\n      <td>['Ações', 'Artigo', 'Biodiesel', 'Coluna do Pe...</td>\n      <td>https://www.moneytimes.com.br/o-que-voce-ainda...</td>\n      <td>1</td>\n    </tr>\n    <tr>\n      <th>...</th>\n      <td>...</td>\n      <td>...</td>\n      <td>...</td>\n      <td>...</td>\n    </tr>\n    <tr>\n      <th>18007</th>\n      <td>acucar bruto sobe ice cafe arabica perde forca</td>\n      <td>['Açúcar', 'Agro Times', 'Agronegócio', 'Brasi...</td>\n      <td>https://www.moneytimes.com.br/acucar-bruto-sob...</td>\n      <td>1</td>\n    </tr>\n    <tr>\n      <th>18008</th>\n      <td>fechamento ibovespa fica estavel &lt;NUM&gt; cento</td>\n      <td>['Ações', 'BM&amp;FBovespa', 'CCR', 'CSN', 'Ecorod...</td>\n      <td>https://www.moneytimes.com.br/fechamento-ibove...</td>\n      <td>1</td>\n    </tr>\n    <tr>\n      <th>18009</th>\n      <td>fed alerta sobre risco economia adota media in...</td>\n      <td>['EUA', 'Fed', 'federal reserve', 'Federal Res...</td>\n      <td>https://www.sunoresearch.com.br/noticias/fed-a...</td>\n      <td>0</td>\n    </tr>\n    <tr>\n      <th>18010</th>\n      <td>escritorios eua pretendem abrir acao coletiva ...</td>\n      <td>['Estados Unidos (EUA)', 'Vale (VALE3)']</td>\n      <td>https://www.suno.com.br/noticias/escritorios-e...</td>\n      <td>2</td>\n    </tr>\n    <tr>\n      <th>18011</th>\n      <td>rede concede prazo &lt;NUM&gt; dias novos clientes a...</td>\n      <td>['Cartão de Crédito', 'Itaú Unibanco', 'Rede',...</td>\n      <td>https://www.moneytimes.com.br/rede-concede-pra...</td>\n      <td>3</td>\n    </tr>\n  </tbody>\n</table>\n<p>18012 rows × 4 columns</p>\n</div>"
     },
     "execution_count": 5,
     "metadata": {},
     "output_type": "execute_result"
    }
   ],
   "source": [
    "df_pp"
   ],
   "metadata": {
    "collapsed": false,
    "ExecuteTime": {
     "end_time": "2023-05-22T15:01:35.661154600Z",
     "start_time": "2023-05-22T15:01:35.608000300Z"
    }
   }
  },
  {
   "cell_type": "markdown",
   "source": [
    "## Outputs for EDA, word2vec and preprocessing"
   ],
   "metadata": {
    "collapsed": false
   }
  },
  {
   "cell_type": "code",
   "execution_count": 6,
   "outputs": [],
   "source": [
    "train_pp.to_csv('../assets/data/splits/train/preprocessed.csv', index=False)\n",
    "val_pp.to_csv('../assets/data/splits/val/preprocessed.csv', index=False)\n",
    "test_pp.to_csv('../assets/data/splits/test/preprocessed.csv', index=False)\n",
    "df_pp.to_csv('../assets/data/df_pp.csv', index=False)"
   ],
   "metadata": {
    "collapsed": false,
    "ExecuteTime": {
     "end_time": "2023-05-22T15:01:36.029902200Z",
     "start_time": "2023-05-22T15:01:35.646155600Z"
    }
   }
  }
 ],
 "metadata": {
  "kernelspec": {
   "display_name": "Python 3",
   "language": "python",
   "name": "python3"
  },
  "language_info": {
   "codemirror_mode": {
    "name": "ipython",
    "version": 2
   },
   "file_extension": ".py",
   "mimetype": "text/x-python",
   "name": "python",
   "nbconvert_exporter": "python",
   "pygments_lexer": "ipython2",
   "version": "2.7.6"
  }
 },
 "nbformat": 4,
 "nbformat_minor": 0
}
