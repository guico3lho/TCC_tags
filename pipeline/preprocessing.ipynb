{
 "cells": [
  {
   "cell_type": "markdown",
   "source": [
    "## Packages"
   ],
   "metadata": {
    "collapsed": false
   }
  },
  {
   "cell_type": "code",
   "execution_count": 1,
   "outputs": [],
   "source": [
    "import pandas as pd\n",
    "import re\n",
    "import string\n",
    "import nltk\n",
    "from sklearn.manifold import TSNE\n",
    "import plotly.express as px\n",
    "import plotly.graph_objects as go\n",
    "import numpy as np"
   ],
   "metadata": {
    "collapsed": false,
    "ExecuteTime": {
     "end_time": "2023-05-17T18:31:44.145506900Z",
     "start_time": "2023-05-17T18:31:38.571869600Z"
    }
   }
  },
  {
   "cell_type": "markdown",
   "source": [
    "## Functions"
   ],
   "metadata": {
    "collapsed": false
   }
  },
  {
   "cell_type": "code",
   "execution_count": 2,
   "outputs": [],
   "source": [
    "def transformDocument(df, column_name, language):\n",
    "    stop_words = usingStopwords(language)\n",
    "    df_pp = df.copy()\n",
    "    # 1. Aplicar preprocessamento nos títulos e textos completos\n",
    "    if language == 'pt':\n",
    "        # Substituir símbolos importantes\n",
    "        df_pp[column_name] = df_pp[column_name].map(lambda s: s.replace('-feira', ''))\n",
    "        df_pp[column_name] = df_pp[column_name].map(lambda s: s.replace('+', 'mais '))\n",
    "        df_pp[column_name] = df_pp[column_name].map(lambda s: s.replace('-', 'menos '))\n",
    "        df_pp[column_name] = df_pp[column_name].map(lambda s: s.replace('%', ' por cento'))\n",
    "        df_pp[column_name] = df_pp[column_name].map(lambda s: removeStopwords(s, stop_words))\n",
    "\n",
    "    elif language == 'en':\n",
    "        df_pp[column_name] = df_pp[column_name].map(lambda s: s.replace('-', 'less'))\n",
    "        df_pp[column_name] = df_pp[column_name].map(lambda s: s.replace('+', 'plus '))\n",
    "        df_pp[column_name] = df_pp[column_name].map(lambda s: s.replace('%', ' percent'))\n",
    "        df_pp[column_name] = df_pp[column_name].map(lambda s: removeStopwords(s, stop_words))\n",
    "\n",
    "    else:\n",
    "        pass\n",
    "\n",
    "    df_pp[column_name] = df_pp[column_name].map(lambda s: s.replace('R$', ''))\n",
    "    df_pp[column_name] = df_pp[column_name].map(lambda s: s.replace('U$', ''))\n",
    "    df_pp[column_name] = df_pp[column_name].map(lambda s: s.replace('US$', ''))\n",
    "    df_pp[column_name] = df_pp[column_name].map(lambda s: s.replace('S&P 500', 'spx'))\n",
    "\n",
    "    # Transformar em String e Letras Minúsculas nas Mensagens\n",
    "    df_pp[column_name] = df_pp[column_name].map(lambda s:\n",
    "                                              normalizarString(s))\n",
    "\n",
    "    # Remover Pontuações\n",
    "    # Remover Pontuações\n",
    "    df_pp[column_name] = df_pp[column_name].map(lambda s: s.translate(str.maketrans('', '', string.punctuation)))\n",
    "\n",
    "    # Remover Emojis\n",
    "    df_pp[column_name] = df_pp[column_name].map(lambda s: removeEmojis(s))\n",
    "\n",
    "    # Quebras de Linha desnecessárias\n",
    "    df_pp[column_name] = df_pp[column_name].map(lambda s: s.replace('\\n', ' '))\n",
    "\n",
    "    # Remover aspas duplas\n",
    "    df_pp[column_name] = df_pp[column_name].map(lambda s: s.replace('\\\"', ''))\n",
    "    df_pp[column_name] = df_pp[column_name].map(lambda s: s.replace('“', ''))\n",
    "    df_pp[column_name] = df_pp[column_name].map(lambda s: s.replace('”', ''))\n",
    "\n",
    "    # Remover valores\n",
    "    df_pp[column_name] = df_pp[column_name].map(lambda s: removeValores(s))\n",
    "\n",
    "    # Espaços desnecessários\n",
    "    df_pp[column_name] = df_pp[column_name].map(lambda s: s.strip())\n",
    "    return df_pp\n",
    "\n",
    "\n",
    "\n",
    "def removeEmojis(sentence):\n",
    "    \"Remoção de Emojis nas mensagens de texto.\"\n",
    "\n",
    "    # Padrões dos Emojis\n",
    "    emoji_pattern = re.compile(\"[\"\n",
    "                               u\"\\U0001F600-\\U0001F64F\"  # emoticons\n",
    "                               u\"\\U0001F300-\\U0001F5FF\"  # symbols & pictographs\n",
    "                               u\"\\U0001F680-\\U0001F6FF\"  # transport & map symbols\n",
    "                               u\"\\U0001F1E0-\\U0001F1FF\"  # flags (iOS)\n",
    "                               u\"\\U00002702-\\U000027B0\"\n",
    "                               u\"\\U000024C2-\\U0001F251\"\n",
    "                               u\"\\U0001f926-\\U0001f937\"\n",
    "                               u'\\U00010000-\\U0010ffff'\n",
    "                               u\"\\u200d\"\n",
    "                               u\"\\u2640-\\u2642\"\n",
    "                               u\"\\u2600-\\u2B55\"\n",
    "                               u\"\\u23cf\"\n",
    "                               u\"\\u23e9\"\n",
    "                               u\"\\u231a\"\n",
    "                               u\"\\u3030\"\n",
    "                               u\"\\ufe0f\"\n",
    "                               \"]+\", flags=re.UNICODE)\n",
    "\n",
    "    return emoji_pattern.sub(r'', sentence)\n",
    "\n",
    "def removeValores(sentence):\n",
    "    new_sentece = ''\n",
    "\n",
    "    for token in sentence.split():\n",
    "        if token.isdigit():\n",
    "            token = '<NUM>'\n",
    "        new_sentece += ' {}'.format(token)\n",
    "\n",
    "    return new_sentece\n",
    "\n",
    "def usingStopwords(language):\n",
    "    stop_words = []\n",
    "\n",
    "    nltk.download('stopwords')\n",
    "\n",
    "    if language == 'pt':\n",
    "        stop_words = nltk.corpus.stopwords.words('portuguese')\n",
    "    elif language == 'en':\n",
    "        stop_words = nltk.corpus.stopwords.words('english')\n",
    "\n",
    "    return stop_words\n",
    "\n",
    "def removeStopwords(text, stop_words):\n",
    "    tokens = []\n",
    "    for word in text.split():\n",
    "        if word not in stop_words:\n",
    "            tokens.append(word)\n",
    "\n",
    "    text = ' '.join(tokens)\n",
    "    return text\n",
    "\n",
    "def normalizarString(text):\n",
    "    \"\"\"\n",
    "    Função para retirar acentuações e converter para minúscula\n",
    "    :param text:\n",
    "    :return text_normalizado\n",
    "    \"\"\"\n",
    "    import unicodedata\n",
    "\n",
    "    text = unicodedata.normalize('NFD', text).encode('ascii', 'ignore').decode(\"utf-8\")\n",
    "    return str(text.lower())"
   ],
   "metadata": {
    "collapsed": false,
    "ExecuteTime": {
     "end_time": "2023-05-17T18:31:44.172491900Z",
     "start_time": "2023-05-17T18:31:44.142508900Z"
    }
   }
  },
  {
   "cell_type": "markdown",
   "source": [
    "## Load splits"
   ],
   "metadata": {
    "collapsed": false
   }
  },
  {
   "cell_type": "code",
   "execution_count": 3,
   "outputs": [],
   "source": [
    "train_raw = pd.read_csv('../assets/data/splits/train/raw.csv')\n",
    "test_raw = pd.read_csv('../assets/data/splits/test/raw.csv')\n",
    "df = pd.read_csv('../assets/data/df.csv')\n"
   ],
   "metadata": {
    "collapsed": false,
    "ExecuteTime": {
     "end_time": "2023-05-17T18:31:44.533285200Z",
     "start_time": "2023-05-17T18:31:44.179488800Z"
    }
   }
  },
  {
   "cell_type": "code",
   "execution_count": 4,
   "outputs": [
    {
     "data": {
      "text/plain": "                                                   title  \\\n0      Vale (VALE3) registra prejuízo de US$ 1,683 bi...   \n1      Bolsonaro sobre demissão de Silva e Luna na Pe...   \n2      Petrobras (PETR4) aprova contratação de 3 FPSO...   \n3        Google e Amazon recebem multa recorde na França   \n4      Mirando aquisição da Oi, Guide aposta na TIM p...   \n...                                                  ...   \n18007  Grupo de mineração manifesta preocupação com n...   \n18008  Cogna (COGN3) prioriza manutenção do caixa em ...   \n18009  Petrobras e norueguesa Equinor irão explorar g...   \n18010  Ações da Taurus disparam mais de 8% na Bolsa c...   \n18011  Gol (GOLL4) recebe termos de proposta de finan...   \n\n                                                    tags  \\\n0                   ['minério de ferro', 'Vale (VALE3)']   \n1      ['Combustíveis', 'Empresas', 'Estadão Conteúdo...   \n2      ['Bacia de Santos', 'PETR3', 'Petrobras (PETR4)']   \n3                                   ['Amazon', 'Google']   \n4      ['B3', 'Carteira Recomendada', 'Comprar ou ven...   \n...                                                  ...   \n18007  ['Barragens', 'Brumadinho', 'Meio Ambiente', '...   \n18008                                 ['COGN3', 'Cogna']   \n18009  ['Empresas', 'Equinor', 'Noruega', 'Petrobras'...   \n18010           ['Ações', 'Armas', 'B3', 'Forja Taurus']   \n18011         ['BNDES', 'financiamento', 'Gol', 'GOLL4']   \n\n                                                    link  label  \n0      https://www.suno.com.br/noticias/vale-prejuizo...      2  \n1      https://www.moneytimes.com.br/bolsonaro-sobre-...      1  \n2      https://www.suno.com.br/noticias/petrobras-pet...      1  \n3      https://www.sunoresearch.com.br/noticias/googl...      0  \n4      https://www.moneytimes.com.br/mirando-aquisica...      2  \n...                                                  ...    ...  \n18007  https://www.moneytimes.com.br/grupo-de-minerac...      2  \n18008  https://www.sunoresearch.com.br/noticias/cogna...      0  \n18009  https://www.moneytimes.com.br/petrobras-e-noru...      1  \n18010  https://www.sunoresearch.com.br/noticias/acoes...      0  \n18011  https://www.sunoresearch.com.br/noticias/gol-g...      0  \n\n[18012 rows x 4 columns]",
      "text/html": "<div>\n<style scoped>\n    .dataframe tbody tr th:only-of-type {\n        vertical-align: middle;\n    }\n\n    .dataframe tbody tr th {\n        vertical-align: top;\n    }\n\n    .dataframe thead th {\n        text-align: right;\n    }\n</style>\n<table border=\"1\" class=\"dataframe\">\n  <thead>\n    <tr style=\"text-align: right;\">\n      <th></th>\n      <th>title</th>\n      <th>tags</th>\n      <th>link</th>\n      <th>label</th>\n    </tr>\n  </thead>\n  <tbody>\n    <tr>\n      <th>0</th>\n      <td>Vale (VALE3) registra prejuízo de US$ 1,683 bi...</td>\n      <td>['minério de ferro', 'Vale (VALE3)']</td>\n      <td>https://www.suno.com.br/noticias/vale-prejuizo...</td>\n      <td>2</td>\n    </tr>\n    <tr>\n      <th>1</th>\n      <td>Bolsonaro sobre demissão de Silva e Luna na Pe...</td>\n      <td>['Combustíveis', 'Empresas', 'Estadão Conteúdo...</td>\n      <td>https://www.moneytimes.com.br/bolsonaro-sobre-...</td>\n      <td>1</td>\n    </tr>\n    <tr>\n      <th>2</th>\n      <td>Petrobras (PETR4) aprova contratação de 3 FPSO...</td>\n      <td>['Bacia de Santos', 'PETR3', 'Petrobras (PETR4)']</td>\n      <td>https://www.suno.com.br/noticias/petrobras-pet...</td>\n      <td>1</td>\n    </tr>\n    <tr>\n      <th>3</th>\n      <td>Google e Amazon recebem multa recorde na França</td>\n      <td>['Amazon', 'Google']</td>\n      <td>https://www.sunoresearch.com.br/noticias/googl...</td>\n      <td>0</td>\n    </tr>\n    <tr>\n      <th>4</th>\n      <td>Mirando aquisição da Oi, Guide aposta na TIM p...</td>\n      <td>['B3', 'Carteira Recomendada', 'Comprar ou ven...</td>\n      <td>https://www.moneytimes.com.br/mirando-aquisica...</td>\n      <td>2</td>\n    </tr>\n    <tr>\n      <th>...</th>\n      <td>...</td>\n      <td>...</td>\n      <td>...</td>\n      <td>...</td>\n    </tr>\n    <tr>\n      <th>18007</th>\n      <td>Grupo de mineração manifesta preocupação com n...</td>\n      <td>['Barragens', 'Brumadinho', 'Meio Ambiente', '...</td>\n      <td>https://www.moneytimes.com.br/grupo-de-minerac...</td>\n      <td>2</td>\n    </tr>\n    <tr>\n      <th>18008</th>\n      <td>Cogna (COGN3) prioriza manutenção do caixa em ...</td>\n      <td>['COGN3', 'Cogna']</td>\n      <td>https://www.sunoresearch.com.br/noticias/cogna...</td>\n      <td>0</td>\n    </tr>\n    <tr>\n      <th>18009</th>\n      <td>Petrobras e norueguesa Equinor irão explorar g...</td>\n      <td>['Empresas', 'Equinor', 'Noruega', 'Petrobras'...</td>\n      <td>https://www.moneytimes.com.br/petrobras-e-noru...</td>\n      <td>1</td>\n    </tr>\n    <tr>\n      <th>18010</th>\n      <td>Ações da Taurus disparam mais de 8% na Bolsa c...</td>\n      <td>['Ações', 'Armas', 'B3', 'Forja Taurus']</td>\n      <td>https://www.sunoresearch.com.br/noticias/acoes...</td>\n      <td>0</td>\n    </tr>\n    <tr>\n      <th>18011</th>\n      <td>Gol (GOLL4) recebe termos de proposta de finan...</td>\n      <td>['BNDES', 'financiamento', 'Gol', 'GOLL4']</td>\n      <td>https://www.sunoresearch.com.br/noticias/gol-g...</td>\n      <td>0</td>\n    </tr>\n  </tbody>\n</table>\n<p>18012 rows × 4 columns</p>\n</div>"
     },
     "execution_count": 4,
     "metadata": {},
     "output_type": "execute_result"
    }
   ],
   "source": [
    "df"
   ],
   "metadata": {
    "collapsed": false,
    "ExecuteTime": {
     "end_time": "2023-05-17T18:31:44.632228200Z",
     "start_time": "2023-05-17T18:31:44.532286400Z"
    }
   }
  },
  {
   "cell_type": "markdown",
   "source": [
    "## Preprocessing splits"
   ],
   "metadata": {
    "collapsed": false
   }
  },
  {
   "cell_type": "code",
   "execution_count": 5,
   "outputs": [
    {
     "name": "stderr",
     "output_type": "stream",
     "text": [
      "[nltk_data] Downloading package stopwords to\n",
      "[nltk_data]     C:\\Users\\Guilherme\\AppData\\Roaming\\nltk_data...\n",
      "[nltk_data]   Package stopwords is already up-to-date!\n",
      "[nltk_data] Downloading package stopwords to\n",
      "[nltk_data]     C:\\Users\\Guilherme\\AppData\\Roaming\\nltk_data...\n",
      "[nltk_data]   Package stopwords is already up-to-date!\n",
      "[nltk_data] Downloading package stopwords to\n",
      "[nltk_data]     C:\\Users\\Guilherme\\AppData\\Roaming\\nltk_data...\n",
      "[nltk_data]   Package stopwords is already up-to-date!\n"
     ]
    }
   ],
   "source": [
    "train_pp = transformDocument(train_raw, 'title', 'pt')\n",
    "test_pp = transformDocument(test_raw, 'title', 'pt')\n",
    "df_pp = transformDocument(df, 'title', 'pt')"
   ],
   "metadata": {
    "collapsed": false,
    "ExecuteTime": {
     "end_time": "2023-05-17T18:31:48.649928900Z",
     "start_time": "2023-05-17T18:31:44.606243300Z"
    }
   }
  },
  {
   "cell_type": "code",
   "execution_count": 6,
   "outputs": [
    {
     "data": {
      "text/plain": "                                                   title  \\\n0        vale vale3 registra prejuizo <NUM> bilhao <NUM>   \n1      bolsonaro sobre demissao silva luna petrobras ...   \n2      petrobras petr4 aprova contratacao <NUM> fpsos...   \n3             google amazon recebem multa recorde franca   \n4      mirando aquisicao oi guide aposta tim carteira...   \n...                                                  ...   \n18007  grupo mineracao manifesta preocupacao novos pa...   \n18008   cogna cogn3 prioriza manutencao caixa meio crise   \n18009  petrobras norueguesa equinor irao explorar gas...   \n18010  acoes taurus disparam <NUM> cento bolsa <NUM> ...   \n18011  gol goll4 recebe termos proposta financiamento...   \n\n                                                    tags  \\\n0                   ['minério de ferro', 'Vale (VALE3)']   \n1      ['Combustíveis', 'Empresas', 'Estadão Conteúdo...   \n2      ['Bacia de Santos', 'PETR3', 'Petrobras (PETR4)']   \n3                                   ['Amazon', 'Google']   \n4      ['B3', 'Carteira Recomendada', 'Comprar ou ven...   \n...                                                  ...   \n18007  ['Barragens', 'Brumadinho', 'Meio Ambiente', '...   \n18008                                 ['COGN3', 'Cogna']   \n18009  ['Empresas', 'Equinor', 'Noruega', 'Petrobras'...   \n18010           ['Ações', 'Armas', 'B3', 'Forja Taurus']   \n18011         ['BNDES', 'financiamento', 'Gol', 'GOLL4']   \n\n                                                    link  label  \n0      https://www.suno.com.br/noticias/vale-prejuizo...      2  \n1      https://www.moneytimes.com.br/bolsonaro-sobre-...      1  \n2      https://www.suno.com.br/noticias/petrobras-pet...      1  \n3      https://www.sunoresearch.com.br/noticias/googl...      0  \n4      https://www.moneytimes.com.br/mirando-aquisica...      2  \n...                                                  ...    ...  \n18007  https://www.moneytimes.com.br/grupo-de-minerac...      2  \n18008  https://www.sunoresearch.com.br/noticias/cogna...      0  \n18009  https://www.moneytimes.com.br/petrobras-e-noru...      1  \n18010  https://www.sunoresearch.com.br/noticias/acoes...      0  \n18011  https://www.sunoresearch.com.br/noticias/gol-g...      0  \n\n[18012 rows x 4 columns]",
      "text/html": "<div>\n<style scoped>\n    .dataframe tbody tr th:only-of-type {\n        vertical-align: middle;\n    }\n\n    .dataframe tbody tr th {\n        vertical-align: top;\n    }\n\n    .dataframe thead th {\n        text-align: right;\n    }\n</style>\n<table border=\"1\" class=\"dataframe\">\n  <thead>\n    <tr style=\"text-align: right;\">\n      <th></th>\n      <th>title</th>\n      <th>tags</th>\n      <th>link</th>\n      <th>label</th>\n    </tr>\n  </thead>\n  <tbody>\n    <tr>\n      <th>0</th>\n      <td>vale vale3 registra prejuizo &lt;NUM&gt; bilhao &lt;NUM&gt;</td>\n      <td>['minério de ferro', 'Vale (VALE3)']</td>\n      <td>https://www.suno.com.br/noticias/vale-prejuizo...</td>\n      <td>2</td>\n    </tr>\n    <tr>\n      <th>1</th>\n      <td>bolsonaro sobre demissao silva luna petrobras ...</td>\n      <td>['Combustíveis', 'Empresas', 'Estadão Conteúdo...</td>\n      <td>https://www.moneytimes.com.br/bolsonaro-sobre-...</td>\n      <td>1</td>\n    </tr>\n    <tr>\n      <th>2</th>\n      <td>petrobras petr4 aprova contratacao &lt;NUM&gt; fpsos...</td>\n      <td>['Bacia de Santos', 'PETR3', 'Petrobras (PETR4)']</td>\n      <td>https://www.suno.com.br/noticias/petrobras-pet...</td>\n      <td>1</td>\n    </tr>\n    <tr>\n      <th>3</th>\n      <td>google amazon recebem multa recorde franca</td>\n      <td>['Amazon', 'Google']</td>\n      <td>https://www.sunoresearch.com.br/noticias/googl...</td>\n      <td>0</td>\n    </tr>\n    <tr>\n      <th>4</th>\n      <td>mirando aquisicao oi guide aposta tim carteira...</td>\n      <td>['B3', 'Carteira Recomendada', 'Comprar ou ven...</td>\n      <td>https://www.moneytimes.com.br/mirando-aquisica...</td>\n      <td>2</td>\n    </tr>\n    <tr>\n      <th>...</th>\n      <td>...</td>\n      <td>...</td>\n      <td>...</td>\n      <td>...</td>\n    </tr>\n    <tr>\n      <th>18007</th>\n      <td>grupo mineracao manifesta preocupacao novos pa...</td>\n      <td>['Barragens', 'Brumadinho', 'Meio Ambiente', '...</td>\n      <td>https://www.moneytimes.com.br/grupo-de-minerac...</td>\n      <td>2</td>\n    </tr>\n    <tr>\n      <th>18008</th>\n      <td>cogna cogn3 prioriza manutencao caixa meio crise</td>\n      <td>['COGN3', 'Cogna']</td>\n      <td>https://www.sunoresearch.com.br/noticias/cogna...</td>\n      <td>0</td>\n    </tr>\n    <tr>\n      <th>18009</th>\n      <td>petrobras norueguesa equinor irao explorar gas...</td>\n      <td>['Empresas', 'Equinor', 'Noruega', 'Petrobras'...</td>\n      <td>https://www.moneytimes.com.br/petrobras-e-noru...</td>\n      <td>1</td>\n    </tr>\n    <tr>\n      <th>18010</th>\n      <td>acoes taurus disparam &lt;NUM&gt; cento bolsa &lt;NUM&gt; ...</td>\n      <td>['Ações', 'Armas', 'B3', 'Forja Taurus']</td>\n      <td>https://www.sunoresearch.com.br/noticias/acoes...</td>\n      <td>0</td>\n    </tr>\n    <tr>\n      <th>18011</th>\n      <td>gol goll4 recebe termos proposta financiamento...</td>\n      <td>['BNDES', 'financiamento', 'Gol', 'GOLL4']</td>\n      <td>https://www.sunoresearch.com.br/noticias/gol-g...</td>\n      <td>0</td>\n    </tr>\n  </tbody>\n</table>\n<p>18012 rows × 4 columns</p>\n</div>"
     },
     "execution_count": 6,
     "metadata": {},
     "output_type": "execute_result"
    }
   ],
   "source": [
    "df_pp"
   ],
   "metadata": {
    "collapsed": false,
    "ExecuteTime": {
     "end_time": "2023-05-17T18:31:48.687907500Z",
     "start_time": "2023-05-17T18:31:48.649928900Z"
    }
   }
  },
  {
   "cell_type": "markdown",
   "source": [
    "## Exporting preprocessed splits for EDA, word2vec and lstm_preprocessing"
   ],
   "metadata": {
    "collapsed": false
   }
  },
  {
   "cell_type": "code",
   "execution_count": 7,
   "outputs": [],
   "source": [
    "train_pp.to_csv('../assets/data/splits/train/preprocessed.csv', index=False)\n",
    "test_pp.to_csv('../assets/data/splits/test/preprocessed.csv', index=False)\n",
    "df_pp.to_csv('../assets/data/df_pp.csv', index=False)"
   ],
   "metadata": {
    "collapsed": false,
    "ExecuteTime": {
     "end_time": "2023-05-17T18:31:50.687102300Z",
     "start_time": "2023-05-17T18:31:48.678913Z"
    }
   }
  }
 ],
 "metadata": {
  "kernelspec": {
   "display_name": "Python 3",
   "language": "python",
   "name": "python3"
  },
  "language_info": {
   "codemirror_mode": {
    "name": "ipython",
    "version": 2
   },
   "file_extension": ".py",
   "mimetype": "text/x-python",
   "name": "python",
   "nbconvert_exporter": "python",
   "pygments_lexer": "ipython2",
   "version": "2.7.6"
  }
 },
 "nbformat": 4,
 "nbformat_minor": 0
}
