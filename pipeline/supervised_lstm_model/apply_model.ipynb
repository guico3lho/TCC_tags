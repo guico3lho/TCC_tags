{
 "cells": [
  {
   "cell_type": "markdown",
   "source": [
    "## Packages and Assets"
   ],
   "metadata": {
    "collapsed": false
   }
  },
  {
   "cell_type": "code",
   "execution_count": 1,
   "outputs": [],
   "source": [
    "import keras.models\n",
    "from sklearn.metrics import accuracy_score, precision_score, recall_score, f1_score, confusion_matrix, classification_report\n",
    "\n",
    "import seaborn as sns\n",
    "import json\n",
    "import matplotlib.pyplot as plt\n",
    "import numpy as np\n",
    "\n",
    "from keras.preprocessing.text import tokenizer_from_json\n",
    "\n",
    "from keras.utils import pad_sequences\n",
    "import pandas as pd\n",
    "import re\n",
    "import string\n",
    "import nltk\n"
   ],
   "metadata": {
    "collapsed": false,
    "ExecuteTime": {
     "end_time": "2023-05-15T12:36:11.933451500Z",
     "start_time": "2023-05-15T12:36:06.563577700Z"
    }
   }
  },
  {
   "cell_type": "code",
   "execution_count": 2,
   "outputs": [
    {
     "name": "stdout",
     "output_type": "stream",
     "text": [
      "Model: \"sequential\"\n",
      "_________________________________________________________________\n",
      " Layer (type)                Output Shape              Param #   \n",
      "=================================================================\n",
      " embedding (Embedding)       (None, 11, 300)           3110400   \n",
      "                                                                 \n",
      " bidirectional (Bidirectiona  (None, 11, 128)          186880    \n",
      " l)                                                              \n",
      "                                                                 \n",
      " bidirectional_1 (Bidirectio  (None, 128)              98816     \n",
      " nal)                                                            \n",
      "                                                                 \n",
      " dense (Dense)               (None, 32)                4128      \n",
      "                                                                 \n",
      " dense_1 (Dense)             (None, 4)                 132       \n",
      "                                                                 \n",
      "=================================================================\n",
      "Total params: 3,400,356\n",
      "Trainable params: 289,956\n",
      "Non-trainable params: 3,110,400\n",
      "_________________________________________________________________\n"
     ]
    }
   ],
   "source": [
    "model = keras.models.load_model('../../assets/lstm_assets/lstm_model')\n",
    "model.summary()"
   ],
   "metadata": {
    "collapsed": false,
    "ExecuteTime": {
     "end_time": "2023-05-15T12:36:23.314383800Z",
     "start_time": "2023-05-15T12:36:11.935450300Z"
    }
   }
  },
  {
   "cell_type": "code",
   "execution_count": 3,
   "outputs": [],
   "source": [
    "# Load the tokenizer from the file\n",
    "with open('../../assets/lstm_assets/tokenizer.json', 'r', encoding='utf-8') as f:\n",
    "    tokenizer_json = f.read()\n",
    "    tokenizer = tokenizer_from_json(tokenizer_json)\n",
    "    word_index = tokenizer.word_index"
   ],
   "metadata": {
    "collapsed": false,
    "ExecuteTime": {
     "end_time": "2023-05-15T12:36:23.381344600Z",
     "start_time": "2023-05-15T12:36:23.301390400Z"
    }
   }
  },
  {
   "cell_type": "markdown",
   "source": [],
   "metadata": {
    "collapsed": false
   }
  },
  {
   "cell_type": "markdown",
   "source": [
    "## Functions"
   ],
   "metadata": {
    "collapsed": false
   }
  },
  {
   "cell_type": "code",
   "execution_count": 4,
   "outputs": [],
   "source": [
    "def transformDocument(df, column_name, language):\n",
    "    stop_words = usingStopwords(language)\n",
    "    df_pp = df.copy()\n",
    "    # 1. Aplicar preprocessamento nos títulos e textos completos\n",
    "    if language == 'pt':\n",
    "        # Substituir símbolos importantes\n",
    "        df_pp[column_name] = df_pp[column_name].map(lambda s: s.replace('-feira', ''))\n",
    "        df_pp[column_name] = df_pp[column_name].map(lambda s: s.replace('+', 'mais '))\n",
    "        df_pp[column_name] = df_pp[column_name].map(lambda s: s.replace('-', 'menos '))\n",
    "        df_pp[column_name] = df_pp[column_name].map(lambda s: s.replace('%', ' por cento'))\n",
    "        df_pp[column_name] = df_pp[column_name].map(lambda s: removeStopwords(s, stop_words))\n",
    "\n",
    "    elif language == 'en':\n",
    "        df_pp[column_name] = df_pp[column_name].map(lambda s: s.replace('-', 'less'))\n",
    "        df_pp[column_name] = df_pp[column_name].map(lambda s: s.replace('+', 'plus '))\n",
    "        df_pp[column_name] = df_pp[column_name].map(lambda s: s.replace('%', ' percent'))\n",
    "        df_pp[column_name] = df_pp[column_name].map(lambda s: removeStopwords(s, stop_words))\n",
    "\n",
    "    else:\n",
    "        pass\n",
    "\n",
    "    df_pp[column_name] = df_pp[column_name].map(lambda s: s.replace('R$', ''))\n",
    "    df_pp[column_name] = df_pp[column_name].map(lambda s: s.replace('U$', ''))\n",
    "    df_pp[column_name] = df_pp[column_name].map(lambda s: s.replace('US$', ''))\n",
    "    df_pp[column_name] = df_pp[column_name].map(lambda s: s.replace('S&P 500', 'spx'))\n",
    "\n",
    "    # Transformar em String e Letras Minúsculas nas Mensagens\n",
    "    df_pp[column_name] = df_pp[column_name].map(lambda s:\n",
    "                                              normalizarString(s))\n",
    "\n",
    "    # Remover Pontuações\n",
    "    # Remover Pontuações\n",
    "    df_pp[column_name] = df_pp[column_name].map(lambda s: s.translate(str.maketrans('', '', string.punctuation)))\n",
    "\n",
    "    # Remover Emojis\n",
    "    df_pp[column_name] = df_pp[column_name].map(lambda s: removeEmojis(s))\n",
    "\n",
    "    # Quebras de Linha desnecessárias\n",
    "    df_pp[column_name] = df_pp[column_name].map(lambda s: s.replace('\\n', ' '))\n",
    "\n",
    "    # Remover aspas duplas\n",
    "    df_pp[column_name] = df_pp[column_name].map(lambda s: s.replace('\\\"', ''))\n",
    "    df_pp[column_name] = df_pp[column_name].map(lambda s: s.replace('“', ''))\n",
    "    df_pp[column_name] = df_pp[column_name].map(lambda s: s.replace('”', ''))\n",
    "\n",
    "    # Remover valores\n",
    "    df_pp[column_name] = df_pp[column_name].map(lambda s: removeValores(s))\n",
    "\n",
    "    # Espaços desnecessários\n",
    "    df_pp[column_name] = df_pp[column_name].map(lambda s: s.strip())\n",
    "    return df_pp\n",
    "\n",
    "def removeEmojis(sentence):\n",
    "    \"Remoção de Emojis nas mensagens de texto.\"\n",
    "\n",
    "    # Padrões dos Emojis\n",
    "    emoji_pattern = re.compile(\"[\"\n",
    "                               u\"\\U0001F600-\\U0001F64F\"  # emoticons\n",
    "                               u\"\\U0001F300-\\U0001F5FF\"  # symbols & pictographs\n",
    "                               u\"\\U0001F680-\\U0001F6FF\"  # transport & map symbols\n",
    "                               u\"\\U0001F1E0-\\U0001F1FF\"  # flags (iOS)\n",
    "                               u\"\\U00002702-\\U000027B0\"\n",
    "                               u\"\\U000024C2-\\U0001F251\"\n",
    "                               u\"\\U0001f926-\\U0001f937\"\n",
    "                               u'\\U00010000-\\U0010ffff'\n",
    "                               u\"\\u200d\"\n",
    "                               u\"\\u2640-\\u2642\"\n",
    "                               u\"\\u2600-\\u2B55\"\n",
    "                               u\"\\u23cf\"\n",
    "                               u\"\\u23e9\"\n",
    "                               u\"\\u231a\"\n",
    "                               u\"\\u3030\"\n",
    "                               u\"\\ufe0f\"\n",
    "                               \"]+\", flags=re.UNICODE)\n",
    "\n",
    "    return emoji_pattern.sub(r'', sentence)\n",
    "\n",
    "def removeValores(sentence):\n",
    "    new_sentece = ''\n",
    "\n",
    "    for token in sentence.split():\n",
    "        if token.isdigit():\n",
    "            token = '<NUM>'\n",
    "        new_sentece += ' {}'.format(token)\n",
    "\n",
    "    return new_sentece\n",
    "\n",
    "def usingStopwords(language):\n",
    "    stop_words = []\n",
    "\n",
    "    nltk.download('stopwords')\n",
    "\n",
    "    if language == 'pt':\n",
    "        stop_words = nltk.corpus.stopwords.words('portuguese')\n",
    "    elif language == 'en':\n",
    "        stop_words = nltk.corpus.stopwords.words('english')\n",
    "\n",
    "    return stop_words\n",
    "\n",
    "def removeStopwords(text, stop_words):\n",
    "    tokens = []\n",
    "    for word in text.split():\n",
    "        if word not in stop_words:\n",
    "            tokens.append(word)\n",
    "\n",
    "    text = ' '.join(tokens)\n",
    "    return text\n",
    "\n",
    "def normalizarString(text):\n",
    "    \"\"\"\n",
    "    Função para retirar acentuações e converter para minúscula\n",
    "    :param text:\n",
    "    :return text_normalizado\n",
    "    \"\"\"\n",
    "    import unicodedata\n",
    "\n",
    "    text = unicodedata.normalize('NFD', text).encode('ascii', 'ignore').decode(\"utf-8\")\n",
    "    return str(text.lower())"
   ],
   "metadata": {
    "collapsed": false,
    "ExecuteTime": {
     "end_time": "2023-05-15T12:36:23.486285500Z",
     "start_time": "2023-05-15T12:36:23.384343500Z"
    }
   }
  },
  {
   "cell_type": "markdown",
   "source": [
    "## Loading test data"
   ],
   "metadata": {
    "collapsed": false
   }
  },
  {
   "cell_type": "code",
   "execution_count": 5,
   "outputs": [
    {
     "data": {
      "text/plain": "                                                  title  \\\n0     Ação da Vale despenca com relatório da CPI; Ve...   \n1     Petrobras vê “tendência de estabilização” de c...   \n2     Itaú define valores e datas de pagamentos de p...   \n3     Petrobras (PETR4): mudanças em Conselho e gest...   \n4     Dólar em queda com guerra comercial, cheque es...   \n...                                                 ...   \n1797  Francesa Total vende fatia em blocos na Foz do...   \n1798  Mais uma plataforma começa a produzir no pré-s...   \n1799  Ibovespa tem leve alta no começo de mês normal...   \n1800            Os gringos vêm ou não vêm para a Bolsa?   \n1801  Novo plano de recuperação da Oi (OIBR3) é homo...   \n\n                                                   tags  \\\n0     ['Brumadinho', 'Carlos Viana', 'CPI', 'Empresa...   \n1     ['Brasil', 'Coronavírus', 'Empresas', 'EUA', '...   \n2     ['Dividendos', 'Economia', 'Empresas', 'Itaú U...   \n3                        ['PETR3', 'Petrobras (PETR4)']   \n4                                             ['dólar']   \n...                                                 ...   \n1797  ['Amazonas', 'BP', 'Brasil', 'Empresas', 'Ibam...   \n1798  ['Commodities', 'Petrobras', 'Petróleo', 'Pré-...   \n1799  ['Ações', 'Banco Central', 'Banco do Brasil', ...   \n1800  ['Brasil Plural', 'Colunistas', 'Comprar ou ve...   \n1801             ['Oi', 'OIBR3', 'recuperação judical']   \n\n                                                   link  label  \n0     https://www.moneytimes.com.br/acao-da-vale-des...      2  \n1     https://www.moneytimes.com.br/petrobras-ve-ten...      1  \n2     https://www.moneytimes.com.br/itau-define-valo...      3  \n3     https://www.suno.com.br/noticias/mudancas-gera...      1  \n4     https://www.sunoresearch.com.br/noticias/dolar...      0  \n...                                                 ...    ...  \n1797  https://www.moneytimes.com.br/francesa-total-v...      1  \n1798  https://www.moneytimes.com.br/mais-uma-platafo...      1  \n1799  https://www.moneytimes.com.br/ibovespa-fecha-e...      3  \n1800  https://www.moneytimes.com.br/os-gringos-vem-o...      1  \n1801  https://www.sunoresearch.com.br/noticias/plano...      0  \n\n[1802 rows x 4 columns]",
      "text/html": "<div>\n<style scoped>\n    .dataframe tbody tr th:only-of-type {\n        vertical-align: middle;\n    }\n\n    .dataframe tbody tr th {\n        vertical-align: top;\n    }\n\n    .dataframe thead th {\n        text-align: right;\n    }\n</style>\n<table border=\"1\" class=\"dataframe\">\n  <thead>\n    <tr style=\"text-align: right;\">\n      <th></th>\n      <th>title</th>\n      <th>tags</th>\n      <th>link</th>\n      <th>label</th>\n    </tr>\n  </thead>\n  <tbody>\n    <tr>\n      <th>0</th>\n      <td>Ação da Vale despenca com relatório da CPI; Ve...</td>\n      <td>['Brumadinho', 'Carlos Viana', 'CPI', 'Empresa...</td>\n      <td>https://www.moneytimes.com.br/acao-da-vale-des...</td>\n      <td>2</td>\n    </tr>\n    <tr>\n      <th>1</th>\n      <td>Petrobras vê “tendência de estabilização” de c...</td>\n      <td>['Brasil', 'Coronavírus', 'Empresas', 'EUA', '...</td>\n      <td>https://www.moneytimes.com.br/petrobras-ve-ten...</td>\n      <td>1</td>\n    </tr>\n    <tr>\n      <th>2</th>\n      <td>Itaú define valores e datas de pagamentos de p...</td>\n      <td>['Dividendos', 'Economia', 'Empresas', 'Itaú U...</td>\n      <td>https://www.moneytimes.com.br/itau-define-valo...</td>\n      <td>3</td>\n    </tr>\n    <tr>\n      <th>3</th>\n      <td>Petrobras (PETR4): mudanças em Conselho e gest...</td>\n      <td>['PETR3', 'Petrobras (PETR4)']</td>\n      <td>https://www.suno.com.br/noticias/mudancas-gera...</td>\n      <td>1</td>\n    </tr>\n    <tr>\n      <th>4</th>\n      <td>Dólar em queda com guerra comercial, cheque es...</td>\n      <td>['dólar']</td>\n      <td>https://www.sunoresearch.com.br/noticias/dolar...</td>\n      <td>0</td>\n    </tr>\n    <tr>\n      <th>...</th>\n      <td>...</td>\n      <td>...</td>\n      <td>...</td>\n      <td>...</td>\n    </tr>\n    <tr>\n      <th>1797</th>\n      <td>Francesa Total vende fatia em blocos na Foz do...</td>\n      <td>['Amazonas', 'BP', 'Brasil', 'Empresas', 'Ibam...</td>\n      <td>https://www.moneytimes.com.br/francesa-total-v...</td>\n      <td>1</td>\n    </tr>\n    <tr>\n      <th>1798</th>\n      <td>Mais uma plataforma começa a produzir no pré-s...</td>\n      <td>['Commodities', 'Petrobras', 'Petróleo', 'Pré-...</td>\n      <td>https://www.moneytimes.com.br/mais-uma-platafo...</td>\n      <td>1</td>\n    </tr>\n    <tr>\n      <th>1799</th>\n      <td>Ibovespa tem leve alta no começo de mês normal...</td>\n      <td>['Ações', 'Banco Central', 'Banco do Brasil', ...</td>\n      <td>https://www.moneytimes.com.br/ibovespa-fecha-e...</td>\n      <td>3</td>\n    </tr>\n    <tr>\n      <th>1800</th>\n      <td>Os gringos vêm ou não vêm para a Bolsa?</td>\n      <td>['Brasil Plural', 'Colunistas', 'Comprar ou ve...</td>\n      <td>https://www.moneytimes.com.br/os-gringos-vem-o...</td>\n      <td>1</td>\n    </tr>\n    <tr>\n      <th>1801</th>\n      <td>Novo plano de recuperação da Oi (OIBR3) é homo...</td>\n      <td>['Oi', 'OIBR3', 'recuperação judical']</td>\n      <td>https://www.sunoresearch.com.br/noticias/plano...</td>\n      <td>0</td>\n    </tr>\n  </tbody>\n</table>\n<p>1802 rows × 4 columns</p>\n</div>"
     },
     "execution_count": 5,
     "metadata": {},
     "output_type": "execute_result"
    }
   ],
   "source": [
    "test_raw = pd.read_csv('../../assets/data/splits/test/raw.csv')\n",
    "test_raw"
   ],
   "metadata": {
    "collapsed": false,
    "ExecuteTime": {
     "end_time": "2023-05-15T12:36:23.572441700Z",
     "start_time": "2023-05-15T12:36:23.488284500Z"
    }
   }
  },
  {
   "cell_type": "code",
   "execution_count": 6,
   "outputs": [
    {
     "name": "stderr",
     "output_type": "stream",
     "text": [
      "[nltk_data] Downloading package stopwords to\n",
      "[nltk_data]     C:\\Users\\Guilherme\\AppData\\Roaming\\nltk_data...\n",
      "[nltk_data]   Package stopwords is already up-to-date!\n"
     ]
    },
    {
     "data": {
      "text/plain": "array([[   29,     5,   763, ...,     0,     0,     0],\n       [    3,    79,  1901, ...,     2,    72,   825],\n       [    7,   772,   595, ...,     0,     0,     0],\n       ...,\n       [   10,   139,    11, ...,     0,     0,     0],\n       [ 1477, 10091,   684, ...,     0,     0,     0],\n       [   55,   219,   174, ...,     0,     0,     0]])"
     },
     "execution_count": 6,
     "metadata": {},
     "output_type": "execute_result"
    }
   ],
   "source": [
    "test_preprocessed = transformDocument(test_raw, 'title', 'pt')\n",
    "\n",
    "X_test = test_preprocessed.title\n",
    "y_test = test_preprocessed.to_numpy()[:, -1]\n",
    "\n",
    "test_sequences = tokenizer.texts_to_sequences(X_test)\n",
    "test_padded = pad_sequences(test_sequences, maxlen=11, padding='post', truncating='post')\n",
    "test_padded"
   ],
   "metadata": {
    "collapsed": false,
    "ExecuteTime": {
     "end_time": "2023-05-15T12:36:24.020343500Z",
     "start_time": "2023-05-15T12:36:23.572441700Z"
    }
   }
  },
  {
   "cell_type": "markdown",
   "source": [
    "### Functions"
   ],
   "metadata": {
    "collapsed": false
   }
  },
  {
   "cell_type": "code",
   "execution_count": 7,
   "outputs": [],
   "source": [
    "def index2word(word_index):\n",
    "    index_word = {}\n",
    "    for key in word_index:\n",
    "        index_word[word_index[key]] = key\n",
    "    return index_word\n",
    "\n",
    "\n",
    "def seq2text(seq, index_word):\n",
    "    text = []\n",
    "    for index in seq:\n",
    "        text.append(index_word[index])\n",
    "    return text\n",
    "\n",
    "def show_confusion_matrix(cm):\n",
    "        print(\"Confusion Matrix\")\n",
    "        plt.figure(figsize=(10, 7))\n",
    "\n",
    "        sns.heatmap(cm, annot=True, fmt='d', cmap='Blues', xticklabels=['Negative', 'Positive'],\n",
    "                    yticklabels=['Negative', 'Positive'])\n",
    "        plt.xlabel('Predicted')\n",
    "        plt.ylabel('Truth')\n",
    "        plt.title('Confusion Matrix')\n",
    "        plt.show()"
   ],
   "metadata": {
    "collapsed": false,
    "ExecuteTime": {
     "end_time": "2023-05-15T12:36:24.088304600Z",
     "start_time": "2023-05-15T12:36:24.021342800Z"
    }
   }
  },
  {
   "cell_type": "code",
   "execution_count": 8,
   "outputs": [],
   "source": [
    "index_word = index2word(word_index)"
   ],
   "metadata": {
    "collapsed": false,
    "ExecuteTime": {
     "end_time": "2023-05-15T12:36:24.103297200Z",
     "start_time": "2023-05-15T12:36:24.038333400Z"
    }
   }
  },
  {
   "cell_type": "code",
   "execution_count": 9,
   "outputs": [
    {
     "name": "stdout",
     "output_type": "stream",
     "text": [
      "57/57 [==============================] - 3s 9ms/step\n"
     ]
    }
   ],
   "source": [
    "pred_prob = model.predict(test_padded)"
   ],
   "metadata": {
    "collapsed": false,
    "ExecuteTime": {
     "end_time": "2023-05-15T12:36:26.856313400Z",
     "start_time": "2023-05-15T12:36:24.050326300Z"
    }
   }
  },
  {
   "cell_type": "code",
   "execution_count": 10,
   "outputs": [],
   "source": [
    "# y_pred = [1 if p > 0.5 else 0 for p in pred_prob]\n",
    "y_pred = np.argmax(pred_prob, axis=1)"
   ],
   "metadata": {
    "collapsed": false,
    "ExecuteTime": {
     "end_time": "2023-05-15T12:36:26.873304200Z",
     "start_time": "2023-05-15T12:36:26.860312Z"
    }
   }
  },
  {
   "cell_type": "code",
   "execution_count": 11,
   "outputs": [
    {
     "data": {
      "text/plain": "                                              sequence  \\\n0               [29, 5, 763, 816, 601, 32, 2631, 6198]   \n1     [3, 79, 1901, 1608, 975, 333, 2, 14, 2, 72, 825]   \n2                      [7, 772, 595, 804, 738, 933, 2]   \n3         [3, 9, 407, 110, 1009, 296, 1175, 1098, 403]   \n4              [28, 12, 166, 126, 1514, 901, 681, 705]   \n...                                                ...   \n1797         [3773, 377, 154, 156, 775, 2771, 1487, 3]   \n1798          [702, 326, 727, 1876, 86, 112, 277, 493]   \n1799              [10, 139, 11, 3267, 175, 5533, 2078]   \n1800                       [1477, 10091, 684, 684, 46]   \n1801                       [55, 219, 174, 147, 301, 1]   \n\n                                                 X_test  \\\n0     acao vale despenca relatorio cpi veja document...   \n1     petrobras ve tendencia estabilizacao casos cov...   \n2     itau define valores datas pagamentos proventos...   \n3     petrobras petr4 mudancas conselho gestao podem...   \n4     dolar queda guerra comercial cheque especial b...   \n...                                                 ...   \n1797  francesa total vende fatia blocos foz amazonas...   \n1798  mais plataforma comeca produzir premenos sal b...   \n1799  ibovespa leve alta comeco mes normalmente volatil   \n1800                           os gringos vem vem bolsa   \n1801         novo plano recuperacao oi oibr3 homologado   \n\n                                               seq2text  y_pred  y_true  \n0     [acao, vale, despenca, relatorio, cpi, veja, d...       2       2  \n1     [petrobras, ve, tendencia, estabilizacao, caso...       1       1  \n2     [itau, define, valores, datas, pagamentos, pro...       3       3  \n3     [petrobras, petr4, mudancas, conselho, gestao,...       1       1  \n4     [dolar, queda, guerra, comercial, cheque, espe...       0       0  \n...                                                 ...     ...     ...  \n1797  [francesa, total, vende, fatia, blocos, foz, a...       1       1  \n1798  [mais, plataforma, comeca, produzir, premenos,...       0       1  \n1799  [ibovespa, leve, alta, comeco, mes, normalment...       0       3  \n1800                     [os, gringos, vem, vem, bolsa]       0       1  \n1801       [novo, plano, recuperacao, oi, oibr3, <OOV>]       0       0  \n\n[1802 rows x 5 columns]",
      "text/html": "<div>\n<style scoped>\n    .dataframe tbody tr th:only-of-type {\n        vertical-align: middle;\n    }\n\n    .dataframe tbody tr th {\n        vertical-align: top;\n    }\n\n    .dataframe thead th {\n        text-align: right;\n    }\n</style>\n<table border=\"1\" class=\"dataframe\">\n  <thead>\n    <tr style=\"text-align: right;\">\n      <th></th>\n      <th>sequence</th>\n      <th>X_test</th>\n      <th>seq2text</th>\n      <th>y_pred</th>\n      <th>y_true</th>\n    </tr>\n  </thead>\n  <tbody>\n    <tr>\n      <th>0</th>\n      <td>[29, 5, 763, 816, 601, 32, 2631, 6198]</td>\n      <td>acao vale despenca relatorio cpi veja document...</td>\n      <td>[acao, vale, despenca, relatorio, cpi, veja, d...</td>\n      <td>2</td>\n      <td>2</td>\n    </tr>\n    <tr>\n      <th>1</th>\n      <td>[3, 79, 1901, 1608, 975, 333, 2, 14, 2, 72, 825]</td>\n      <td>petrobras ve tendencia estabilizacao casos cov...</td>\n      <td>[petrobras, ve, tendencia, estabilizacao, caso...</td>\n      <td>1</td>\n      <td>1</td>\n    </tr>\n    <tr>\n      <th>2</th>\n      <td>[7, 772, 595, 804, 738, 933, 2]</td>\n      <td>itau define valores datas pagamentos proventos...</td>\n      <td>[itau, define, valores, datas, pagamentos, pro...</td>\n      <td>3</td>\n      <td>3</td>\n    </tr>\n    <tr>\n      <th>3</th>\n      <td>[3, 9, 407, 110, 1009, 296, 1175, 1098, 403]</td>\n      <td>petrobras petr4 mudancas conselho gestao podem...</td>\n      <td>[petrobras, petr4, mudancas, conselho, gestao,...</td>\n      <td>1</td>\n      <td>1</td>\n    </tr>\n    <tr>\n      <th>4</th>\n      <td>[28, 12, 166, 126, 1514, 901, 681, 705]</td>\n      <td>dolar queda guerra comercial cheque especial b...</td>\n      <td>[dolar, queda, guerra, comercial, cheque, espe...</td>\n      <td>0</td>\n      <td>0</td>\n    </tr>\n    <tr>\n      <th>...</th>\n      <td>...</td>\n      <td>...</td>\n      <td>...</td>\n      <td>...</td>\n      <td>...</td>\n    </tr>\n    <tr>\n      <th>1797</th>\n      <td>[3773, 377, 154, 156, 775, 2771, 1487, 3]</td>\n      <td>francesa total vende fatia blocos foz amazonas...</td>\n      <td>[francesa, total, vende, fatia, blocos, foz, a...</td>\n      <td>1</td>\n      <td>1</td>\n    </tr>\n    <tr>\n      <th>1798</th>\n      <td>[702, 326, 727, 1876, 86, 112, 277, 493]</td>\n      <td>mais plataforma comeca produzir premenos sal b...</td>\n      <td>[mais, plataforma, comeca, produzir, premenos,...</td>\n      <td>0</td>\n      <td>1</td>\n    </tr>\n    <tr>\n      <th>1799</th>\n      <td>[10, 139, 11, 3267, 175, 5533, 2078]</td>\n      <td>ibovespa leve alta comeco mes normalmente volatil</td>\n      <td>[ibovespa, leve, alta, comeco, mes, normalment...</td>\n      <td>0</td>\n      <td>3</td>\n    </tr>\n    <tr>\n      <th>1800</th>\n      <td>[1477, 10091, 684, 684, 46]</td>\n      <td>os gringos vem vem bolsa</td>\n      <td>[os, gringos, vem, vem, bolsa]</td>\n      <td>0</td>\n      <td>1</td>\n    </tr>\n    <tr>\n      <th>1801</th>\n      <td>[55, 219, 174, 147, 301, 1]</td>\n      <td>novo plano recuperacao oi oibr3 homologado</td>\n      <td>[novo, plano, recuperacao, oi, oibr3, &lt;OOV&gt;]</td>\n      <td>0</td>\n      <td>0</td>\n    </tr>\n  </tbody>\n</table>\n<p>1802 rows × 5 columns</p>\n</div>"
     },
     "execution_count": 11,
     "metadata": {},
     "output_type": "execute_result"
    }
   ],
   "source": [
    "df_results = pd.DataFrame()\n",
    "X_test = list(X_test)\n",
    "y_test = list(y_test)\n",
    "df_results['sequence'] = test_sequences\n",
    "df_results['X_test'] = X_test\n",
    "df_results['seq2text'] = df_results['sequence'].apply(lambda x: seq2text(x, index_word))\n",
    "df_results['y_pred'] = y_pred\n",
    "df_results['y_true'] = y_test\n",
    "df_results"
   ],
   "metadata": {
    "collapsed": false,
    "ExecuteTime": {
     "end_time": "2023-05-15T12:36:26.920382500Z",
     "start_time": "2023-05-15T12:36:26.874304600Z"
    }
   }
  },
  {
   "cell_type": "markdown",
   "source": [
    "### Metrics"
   ],
   "metadata": {
    "collapsed": false
   }
  },
  {
   "cell_type": "code",
   "execution_count": 12,
   "outputs": [],
   "source": [
    "# accuracy = accuracy_score(y_true=y_test, y_pred=y_pred)\n",
    "# precision = precision_score(average='macro', y_true=y_test, y_pred=y_pred)\n",
    "# recall = recall_score(average='macro', y_true=y_test, y_pred=y_pred)\n",
    "# f1 = f1_score(average='macro', y_true=y_test, y_pred=y_pred)\n",
    "# cm = confusion_matrix(y_true=y_test, y_pred=y_pred)"
   ],
   "metadata": {
    "collapsed": false,
    "ExecuteTime": {
     "end_time": "2023-05-15T12:36:26.964387Z",
     "start_time": "2023-05-15T12:36:26.922381900Z"
    }
   }
  },
  {
   "cell_type": "code",
   "execution_count": 13,
   "outputs": [
    {
     "name": "stdout",
     "output_type": "stream",
     "text": [
      "              precision    recall  f1-score   support\n",
      "\n",
      "           0       0.70      0.90      0.78       581\n",
      "           1       0.93      0.76      0.83       628\n",
      "           2       0.75      0.81      0.78       376\n",
      "           3       0.87      0.53      0.66       217\n",
      "\n",
      "    accuracy                           0.79      1802\n",
      "   macro avg       0.81      0.75      0.76      1802\n",
      "weighted avg       0.81      0.79      0.79      1802\n",
      "\n",
      "Confusion Matrix\n"
     ]
    },
    {
     "data": {
      "text/plain": "<Figure size 1000x700 with 2 Axes>",
      "image/png": "[encoded data removed]"
     },
     "metadata": {},
     "output_type": "display_data"
    }
   ],
   "source": [
    "print(classification_report(y_test,y_pred))\n",
    "cm = confusion_matrix(y_true=y_test, y_pred=y_pred)\n",
    "show_confusion_matrix(cm)"
   ],
   "metadata": {
    "collapsed": false,
    "ExecuteTime": {
     "end_time": "2023-05-15T12:36:27.342190300Z",
     "start_time": "2023-05-15T12:36:26.937403300Z"
    }
   }
  }
 ],
 "metadata": {
  "kernelspec": {
   "display_name": "Python 3",
   "language": "python",
   "name": "python3"
  },
  "language_info": {
   "codemirror_mode": {
    "name": "ipython",
    "version": 2
   },
   "file_extension": ".py",
   "mimetype": "text/x-python",
   "name": "python",
   "nbconvert_exporter": "python",
   "pygments_lexer": "ipython2",
   "version": "2.7.6"
  }
 },
 "nbformat": 4,
 "nbformat_minor": 0
}
