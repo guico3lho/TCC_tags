{
 "cells": [
  {
   "cell_type": "markdown",
   "source": [
    "## Packages and Assets"
   ],
   "metadata": {
    "collapsed": false
   }
  },
  {
   "cell_type": "code",
   "execution_count": 13,
   "outputs": [],
   "source": [
    "import keras.models\n",
    "from sklearn.metrics import accuracy_score, precision_score, recall_score, f1_score, confusion_matrix, classification_report\n",
    "\n",
    "import seaborn as sns\n",
    "import json\n",
    "import matplotlib.pyplot as plt\n",
    "import numpy as np\n",
    "\n",
    "from keras.preprocessing.text import tokenizer_from_json\n",
    "\n",
    "from keras.utils import pad_sequences\n",
    "import pandas as pd\n",
    "import re\n",
    "import string\n",
    "import nltk\n"
   ],
   "metadata": {
    "collapsed": false
   }
  },
  {
   "cell_type": "code",
   "execution_count": 14,
   "outputs": [
    {
     "name": "stdout",
     "output_type": "stream",
     "text": [
      "Model: \"sequential_1\"\n",
      "_________________________________________________________________\n",
      " Layer (type)                Output Shape              Param #   \n",
      "=================================================================\n",
      " embedding_1 (Embedding)     (None, 11, 300)           3127800   \n",
      "                                                                 \n",
      " bidirectional_2 (Bidirectio  (None, 11, 128)          186880    \n",
      " nal)                                                            \n",
      "                                                                 \n",
      " bidirectional_3 (Bidirectio  (None, 128)              98816     \n",
      " nal)                                                            \n",
      "                                                                 \n",
      " dense_2 (Dense)             (None, 32)                4128      \n",
      "                                                                 \n",
      " dense_3 (Dense)             (None, 4)                 132       \n",
      "                                                                 \n",
      "=================================================================\n",
      "Total params: 3,417,756\n",
      "Trainable params: 289,956\n",
      "Non-trainable params: 3,127,800\n",
      "_________________________________________________________________\n"
     ]
    }
   ],
   "source": [
    "model = keras.models.load_model('../../assets/lstm_assets/lstm_model')\n",
    "model.summary()"
   ],
   "metadata": {
    "collapsed": false
   }
  },
  {
   "cell_type": "code",
   "execution_count": 15,
   "outputs": [],
   "source": [
    "# Load the tokenizer from the file\n",
    "with open('../../assets/lstm_assets/tokenizer.json', 'r', encoding='utf-8') as f:\n",
    "    tokenizer_json = f.read()\n",
    "    tokenizer = tokenizer_from_json(tokenizer_json)\n",
    "    word_index = tokenizer.word_index"
   ],
   "metadata": {
    "collapsed": false
   }
  },
  {
   "cell_type": "markdown",
   "source": [],
   "metadata": {
    "collapsed": false
   }
  },
  {
   "cell_type": "markdown",
   "source": [
    "## Functions"
   ],
   "metadata": {
    "collapsed": false
   }
  },
  {
   "cell_type": "code",
   "execution_count": 16,
   "outputs": [],
   "source": [
    "def transformDocument(df, column_name, language):\n",
    "    stop_words = usingStopwords(language)\n",
    "    # 1. Aplicar preprocessamento nos títulos e textos completos\n",
    "    if language == 'pt':\n",
    "        # Substituir símbolos importantes\n",
    "        df[column_name] = df[column_name].map(lambda s: s.replace('-feira', ''))\n",
    "        df[column_name] = df[column_name].map(lambda s: s.replace('+', 'mais '))\n",
    "        df[column_name] = df[column_name].map(lambda s: s.replace('-', 'menos '))\n",
    "        df[column_name] = df[column_name].map(lambda s: s.replace('%', ' por cento'))\n",
    "        df[column_name] = df[column_name].map(lambda s: removeStopwords(s, stop_words))\n",
    "\n",
    "    elif language == 'en':\n",
    "        df[column_name] = df[column_name].map(lambda s: s.replace('-', 'less'))\n",
    "        df[column_name] = df[column_name].map(lambda s: s.replace('+', 'plus '))\n",
    "        df[column_name] = df[column_name].map(lambda s: s.replace('%', ' percent'))\n",
    "        df[column_name] = df[column_name].map(lambda s: removeStopwords(s, stop_words))\n",
    "\n",
    "    else:\n",
    "        pass\n",
    "\n",
    "    df[column_name] = df[column_name].map(lambda s: s.replace('R$', ''))\n",
    "    df[column_name] = df[column_name].map(lambda s: s.replace('U$', ''))\n",
    "    df[column_name] = df[column_name].map(lambda s: s.replace('US$', ''))\n",
    "    df[column_name] = df[column_name].map(lambda s: s.replace('S&P 500', 'spx'))\n",
    "\n",
    "    # Transformar em String e Letras Minúsculas nas Mensagens\n",
    "    df[column_name] = df[column_name].map(lambda s:\n",
    "                                              normalizarString(s))\n",
    "\n",
    "    # Remover Pontuações\n",
    "    # Remover Pontuações\n",
    "    df[column_name] = df[column_name].map(lambda s: s.translate(str.maketrans('', '', string.punctuation)))\n",
    "\n",
    "    # Remover Emojis\n",
    "    df[column_name] = df[column_name].map(lambda s: removeEmojis(s))\n",
    "\n",
    "    # Quebras de Linha desnecessárias\n",
    "    df[column_name] = df[column_name].map(lambda s: s.replace('\\n', ' '))\n",
    "\n",
    "    # Remover aspas duplas\n",
    "    df[column_name] = df[column_name].map(lambda s: s.replace('\\\"', ''))\n",
    "    df[column_name] = df[column_name].map(lambda s: s.replace('“', ''))\n",
    "    df[column_name] = df[column_name].map(lambda s: s.replace('”', ''))\n",
    "\n",
    "    # Remover valores\n",
    "    df[column_name] = df[column_name].map(lambda s: removeValores(s))\n",
    "\n",
    "    # Espaços desnecessários\n",
    "    df[column_name] = df[column_name].map(lambda s: s.strip())\n",
    "    return df\n",
    "\n",
    "def removeEmojis(sentence):\n",
    "    \"Remoção de Emojis nas mensagens de texto.\"\n",
    "\n",
    "    # Padrões dos Emojis\n",
    "    emoji_pattern = re.compile(\"[\"\n",
    "                               u\"\\U0001F600-\\U0001F64F\"  # emoticons\n",
    "                               u\"\\U0001F300-\\U0001F5FF\"  # symbols & pictographs\n",
    "                               u\"\\U0001F680-\\U0001F6FF\"  # transport & map symbols\n",
    "                               u\"\\U0001F1E0-\\U0001F1FF\"  # flags (iOS)\n",
    "                               u\"\\U00002702-\\U000027B0\"\n",
    "                               u\"\\U000024C2-\\U0001F251\"\n",
    "                               u\"\\U0001f926-\\U0001f937\"\n",
    "                               u'\\U00010000-\\U0010ffff'\n",
    "                               u\"\\u200d\"\n",
    "                               u\"\\u2640-\\u2642\"\n",
    "                               u\"\\u2600-\\u2B55\"\n",
    "                               u\"\\u23cf\"\n",
    "                               u\"\\u23e9\"\n",
    "                               u\"\\u231a\"\n",
    "                               u\"\\u3030\"\n",
    "                               u\"\\ufe0f\"\n",
    "                               \"]+\", flags=re.UNICODE)\n",
    "\n",
    "    return emoji_pattern.sub(r'', sentence)\n",
    "\n",
    "def removeValores(sentence):\n",
    "    new_sentece = ''\n",
    "\n",
    "    for token in sentence.split():\n",
    "        if token.isdigit():\n",
    "            token = '<NUM>'\n",
    "        new_sentece += ' {}'.format(token)\n",
    "\n",
    "    return new_sentece\n",
    "\n",
    "def usingStopwords(language):\n",
    "    stop_words = []\n",
    "\n",
    "    nltk.download('stopwords')\n",
    "\n",
    "    if language == 'pt':\n",
    "        stop_words = nltk.corpus.stopwords.words('portuguese')\n",
    "    elif language == 'en':\n",
    "        stop_words = nltk.corpus.stopwords.words('english')\n",
    "\n",
    "    return stop_words\n",
    "\n",
    "def removeStopwords(text, stop_words):\n",
    "    tokens = []\n",
    "    for word in text.split():\n",
    "        if word not in stop_words:\n",
    "            tokens.append(word)\n",
    "\n",
    "    text = ' '.join(tokens)\n",
    "    return text\n",
    "\n",
    "def normalizarString(text):\n",
    "    \"\"\"\n",
    "    Função para retirar acentuações e converter para minúscula\n",
    "    :param text:\n",
    "    :return text_normalizado\n",
    "    \"\"\"\n",
    "    import unicodedata\n",
    "\n",
    "    text = unicodedata.normalize('NFD', text).encode('ascii', 'ignore').decode(\"utf-8\")\n",
    "    return str(text.lower())"
   ],
   "metadata": {
    "collapsed": false
   }
  },
  {
   "cell_type": "markdown",
   "source": [
    "## Loading test data"
   ],
   "metadata": {
    "collapsed": false
   }
  },
  {
   "cell_type": "code",
   "execution_count": 17,
   "outputs": [
    {
     "data": {
      "text/plain": "                                                  title  \\\n0     IRB Brasil (IRBR3) apresenta representação cri...   \n1     Títulos indexados do Tesouro Direto apresentam...   \n2     Guide Investimentos retira Petrobras, Gerdau e...   \n3     Justiça extingue ação de hipoteca judiciária d...   \n4     Mesmo com produção da Opep em queda, sauditas ...   \n...                                                 ...   \n1791  Metaverso: Veja as 4 ações que você precisa te...   \n1792  Promotores da Itália pedem que donos da Techin...   \n1793  Rali do minério pode esfriar por riscos na Chi...   \n1794  Boletim Focus: mercado reduz previsão para PIB...   \n1795  ANM diz que 10% de barragens a montante não el...   \n\n                                                   tags  \\\n0                               ['IRB Brasil', 'IRBR3']   \n1                ['Tesouro Direto', 'Tesouro Nacional']   \n2     ['BB Seguridade', 'Braskem', 'Comprar ou vende...   \n3     ['Commodities', 'Empresas', 'Petrobras', 'Petr...   \n4                                  ['OPEP', 'petróleo']   \n...                                                 ...   \n1791  ['COE', 'Comprar ou vender?', 'Facebook', 'Int...   \n1792  ['Empresas', 'Internacional', 'Petrobras', 'Re...   \n1793  ['Austrália', 'Bloomberg', 'Brasil', 'Brumadin...   \n1794  ['Banco Central', 'Boletim Focus', 'inflação',...   \n1795  ['ANM', 'Barragens', 'Brumadinho', 'Empresas',...   \n\n                                                   link  label  \n0     https://www.sunoresearch.com.br/noticias/irb-b...      0  \n1     https://www.sunoresearch.com.br/noticias/tesou...      0  \n2     https://www.moneytimes.com.br/guide-retira-pet...      1  \n3     https://www.moneytimes.com.br/justica-extingue...      1  \n4     https://www.sunoresearch.com.br/noticias/mesmo...      0  \n...                                                 ...    ...  \n1791  https://www.moneytimes.com.br/metaverso-veja-a...      3  \n1792  https://www.moneytimes.com.br/promotores-da-it...      1  \n1793  https://www.moneytimes.com.br/rali-do-minerio-...      2  \n1794  https://www.sunoresearch.com.br/noticias/bolet...      0  \n1795  https://www.moneytimes.com.br/anm-diz-que-10-d...      2  \n\n[1796 rows x 4 columns]",
      "text/html": "<div>\n<style scoped>\n    .dataframe tbody tr th:only-of-type {\n        vertical-align: middle;\n    }\n\n    .dataframe tbody tr th {\n        vertical-align: top;\n    }\n\n    .dataframe thead th {\n        text-align: right;\n    }\n</style>\n<table border=\"1\" class=\"dataframe\">\n  <thead>\n    <tr style=\"text-align: right;\">\n      <th></th>\n      <th>title</th>\n      <th>tags</th>\n      <th>link</th>\n      <th>label</th>\n    </tr>\n  </thead>\n  <tbody>\n    <tr>\n      <th>0</th>\n      <td>IRB Brasil (IRBR3) apresenta representação cri...</td>\n      <td>['IRB Brasil', 'IRBR3']</td>\n      <td>https://www.sunoresearch.com.br/noticias/irb-b...</td>\n      <td>0</td>\n    </tr>\n    <tr>\n      <th>1</th>\n      <td>Títulos indexados do Tesouro Direto apresentam...</td>\n      <td>['Tesouro Direto', 'Tesouro Nacional']</td>\n      <td>https://www.sunoresearch.com.br/noticias/tesou...</td>\n      <td>0</td>\n    </tr>\n    <tr>\n      <th>2</th>\n      <td>Guide Investimentos retira Petrobras, Gerdau e...</td>\n      <td>['BB Seguridade', 'Braskem', 'Comprar ou vende...</td>\n      <td>https://www.moneytimes.com.br/guide-retira-pet...</td>\n      <td>1</td>\n    </tr>\n    <tr>\n      <th>3</th>\n      <td>Justiça extingue ação de hipoteca judiciária d...</td>\n      <td>['Commodities', 'Empresas', 'Petrobras', 'Petr...</td>\n      <td>https://www.moneytimes.com.br/justica-extingue...</td>\n      <td>1</td>\n    </tr>\n    <tr>\n      <th>4</th>\n      <td>Mesmo com produção da Opep em queda, sauditas ...</td>\n      <td>['OPEP', 'petróleo']</td>\n      <td>https://www.sunoresearch.com.br/noticias/mesmo...</td>\n      <td>0</td>\n    </tr>\n    <tr>\n      <th>...</th>\n      <td>...</td>\n      <td>...</td>\n      <td>...</td>\n      <td>...</td>\n    </tr>\n    <tr>\n      <th>1791</th>\n      <td>Metaverso: Veja as 4 ações que você precisa te...</td>\n      <td>['COE', 'Comprar ou vender?', 'Facebook', 'Int...</td>\n      <td>https://www.moneytimes.com.br/metaverso-veja-a...</td>\n      <td>3</td>\n    </tr>\n    <tr>\n      <th>1792</th>\n      <td>Promotores da Itália pedem que donos da Techin...</td>\n      <td>['Empresas', 'Internacional', 'Petrobras', 'Re...</td>\n      <td>https://www.moneytimes.com.br/promotores-da-it...</td>\n      <td>1</td>\n    </tr>\n    <tr>\n      <th>1793</th>\n      <td>Rali do minério pode esfriar por riscos na Chi...</td>\n      <td>['Austrália', 'Bloomberg', 'Brasil', 'Brumadin...</td>\n      <td>https://www.moneytimes.com.br/rali-do-minerio-...</td>\n      <td>2</td>\n    </tr>\n    <tr>\n      <th>1794</th>\n      <td>Boletim Focus: mercado reduz previsão para PIB...</td>\n      <td>['Banco Central', 'Boletim Focus', 'inflação',...</td>\n      <td>https://www.sunoresearch.com.br/noticias/bolet...</td>\n      <td>0</td>\n    </tr>\n    <tr>\n      <th>1795</th>\n      <td>ANM diz que 10% de barragens a montante não el...</td>\n      <td>['ANM', 'Barragens', 'Brumadinho', 'Empresas',...</td>\n      <td>https://www.moneytimes.com.br/anm-diz-que-10-d...</td>\n      <td>2</td>\n    </tr>\n  </tbody>\n</table>\n<p>1796 rows × 4 columns</p>\n</div>"
     },
     "execution_count": 17,
     "metadata": {},
     "output_type": "execute_result"
    }
   ],
   "source": [
    "test_raw = pd.read_csv('../../assets/data/splits/test/raw.csv')\n",
    "test_raw"
   ],
   "metadata": {
    "collapsed": false
   }
  },
  {
   "cell_type": "code",
   "execution_count": 18,
   "outputs": [
    {
     "name": "stderr",
     "output_type": "stream",
     "text": [
      "[nltk_data] Downloading package stopwords to\n",
      "[nltk_data]     C:\\Users\\Guilherme\\AppData\\Roaming\\nltk_data...\n",
      "[nltk_data]   Package stopwords is already up-to-date!\n"
     ]
    },
    {
     "data": {
      "text/plain": "array([[ 223,   14,  509, ..., 4022,    0,    0],\n       [ 101,  877,   97, ...,    0,    0,    0],\n       [ 307,   81,  628, ...,    0,    0,    0],\n       ...,\n       [1602,   15,   29, ...,    0,    0,    0],\n       [ 443,  418,   32, ...,    0,    0,    0],\n       [1216,    6,    2, ..., 1062,  244,    0]])"
     },
     "execution_count": 18,
     "metadata": {},
     "output_type": "execute_result"
    }
   ],
   "source": [
    "test_preprocessed = transformDocument(test_raw, 'title', 'pt')\n",
    "\n",
    "X_test = test_preprocessed.title\n",
    "y_test = test_preprocessed.to_numpy()[:, -1]\n",
    "\n",
    "test_sequences = tokenizer.texts_to_sequences(X_test)\n",
    "test_padded = pad_sequences(test_sequences, maxlen=11, padding='post', truncating='post')\n",
    "test_padded"
   ],
   "metadata": {
    "collapsed": false
   }
  },
  {
   "cell_type": "markdown",
   "source": [
    "### Functions"
   ],
   "metadata": {
    "collapsed": false
   }
  },
  {
   "cell_type": "code",
   "execution_count": 19,
   "outputs": [],
   "source": [
    "def index2word(word_index):\n",
    "    index_word = {}\n",
    "    for key in word_index:\n",
    "        index_word[word_index[key]] = key\n",
    "    return index_word\n",
    "\n",
    "\n",
    "def seq2text(seq, index_word):\n",
    "    text = []\n",
    "    for index in seq:\n",
    "        text.append(index_word[index])\n",
    "    return text\n",
    "\n",
    "def show_confusion_matrix(cm):\n",
    "        print(\"Confusion Matrix\")\n",
    "        plt.figure(figsize=(10, 7))\n",
    "\n",
    "        sns.heatmap(cm, annot=True, fmt='d', cmap='Blues', xticklabels=['Negative', 'Positive'],\n",
    "                    yticklabels=['Negative', 'Positive'])\n",
    "        plt.xlabel('Predicted')\n",
    "        plt.ylabel('Truth')\n",
    "        plt.title('Confusion Matrix')\n",
    "        plt.show()"
   ],
   "metadata": {
    "collapsed": false
   }
  },
  {
   "cell_type": "code",
   "execution_count": 20,
   "outputs": [],
   "source": [
    "index_word = index2word(word_index)"
   ],
   "metadata": {
    "collapsed": false
   }
  },
  {
   "cell_type": "code",
   "execution_count": 21,
   "outputs": [
    {
     "name": "stdout",
     "output_type": "stream",
     "text": [
      "57/57 [==============================] - 2s 7ms/step\n"
     ]
    }
   ],
   "source": [
    "pred_prob = model.predict(test_padded)"
   ],
   "metadata": {
    "collapsed": false
   }
  },
  {
   "cell_type": "code",
   "execution_count": 22,
   "outputs": [],
   "source": [
    "# y_pred = [1 if p > 0.5 else 0 for p in pred_prob]\n",
    "y_pred = np.argmax(pred_prob, axis=1)"
   ],
   "metadata": {
    "collapsed": false
   }
  },
  {
   "cell_type": "code",
   "execution_count": 23,
   "outputs": [
    {
     "data": {
      "text/plain": "                                           sequence  \\\n0      [223, 14, 509, 277, 1, 2743, 16, 1904, 4022]   \n1             [101, 877, 97, 103, 572, 520, 94, 61]   \n2               [307, 81, 628, 3, 400, 165, 17, 91]   \n3           [107, 3013, 30, 1, 10423, 1340, 105, 3]   \n4              [1464, 37, 975, 12, 4794, 3722, 152]   \n...                                             ...   \n1791        [2973, 36, 2, 9, 806, 124, 83, 4136, 7]   \n1792       [1, 2249, 873, 3862, 1, 1, 361, 3540, 3]   \n1793            [1602, 15, 29, 1, 673, 60, 6, 3298]   \n1794                 [443, 418, 32, 86, 390, 82, 2]   \n1795  [1216, 6, 2, 4, 284, 1848, 1, 211, 1062, 244]   \n\n                                                 X_test  \\\n0     irb brasil irbr3 apresenta representacao crimi...   \n1     titulos indexados tesouro direto apresentam es...   \n2     guide investimentos retira petrobras gerdau it...   \n3     justica extingue acao hipoteca judiciaria prev...   \n4      mesmo producao opep queda sauditas batem recorde   \n...                                                 ...   \n1791  metaverso veja <NUM> acoes precisa ter segundo...   \n1792  promotores italia pedem donos techint julgados...   \n1793  rali minerio pode esfriar riscos china diz aus...   \n1794     boletim focus mercado reduz previsao pib <NUM>   \n1795  anm diz <NUM> cento barragens montante elabora...   \n\n                                               seq2text  y_pred  y_true  \n0     [irb, brasil, irbr3, apresenta, <OOV>, crimina...       0       0  \n1     [titulos, indexados, tesouro, direto, apresent...       0       0  \n2     [guide, investimentos, retira, petrobras, gerd...       1       1  \n3     [justica, extingue, acao, <OOV>, judiciaria, p...       1       1  \n4     [mesmo, producao, opep, queda, sauditas, batem...       2       0  \n...                                                 ...     ...     ...  \n1791  [metaverso, veja, num, acoes, precisa, ter, se...       2       3  \n1792  [<OOV>, italia, pedem, donos, <OOV>, <OOV>, ca...       1       1  \n1793  [rali, minerio, pode, <OOV>, riscos, china, di...       2       2  \n1794  [boletim, focus, mercado, reduz, previsao, pib...       0       0  \n1795  [anm, diz, num, cento, barragens, montante, <O...       0       2  \n\n[1796 rows x 5 columns]",
      "text/html": "<div>\n<style scoped>\n    .dataframe tbody tr th:only-of-type {\n        vertical-align: middle;\n    }\n\n    .dataframe tbody tr th {\n        vertical-align: top;\n    }\n\n    .dataframe thead th {\n        text-align: right;\n    }\n</style>\n<table border=\"1\" class=\"dataframe\">\n  <thead>\n    <tr style=\"text-align: right;\">\n      <th></th>\n      <th>sequence</th>\n      <th>X_test</th>\n      <th>seq2text</th>\n      <th>y_pred</th>\n      <th>y_true</th>\n    </tr>\n  </thead>\n  <tbody>\n    <tr>\n      <th>0</th>\n      <td>[223, 14, 509, 277, 1, 2743, 16, 1904, 4022]</td>\n      <td>irb brasil irbr3 apresenta representacao crimi...</td>\n      <td>[irb, brasil, irbr3, apresenta, &lt;OOV&gt;, crimina...</td>\n      <td>0</td>\n      <td>0</td>\n    </tr>\n    <tr>\n      <th>1</th>\n      <td>[101, 877, 97, 103, 572, 520, 94, 61]</td>\n      <td>titulos indexados tesouro direto apresentam es...</td>\n      <td>[titulos, indexados, tesouro, direto, apresent...</td>\n      <td>0</td>\n      <td>0</td>\n    </tr>\n    <tr>\n      <th>2</th>\n      <td>[307, 81, 628, 3, 400, 165, 17, 91]</td>\n      <td>guide investimentos retira petrobras gerdau it...</td>\n      <td>[guide, investimentos, retira, petrobras, gerd...</td>\n      <td>1</td>\n      <td>1</td>\n    </tr>\n    <tr>\n      <th>3</th>\n      <td>[107, 3013, 30, 1, 10423, 1340, 105, 3]</td>\n      <td>justica extingue acao hipoteca judiciaria prev...</td>\n      <td>[justica, extingue, acao, &lt;OOV&gt;, judiciaria, p...</td>\n      <td>1</td>\n      <td>1</td>\n    </tr>\n    <tr>\n      <th>4</th>\n      <td>[1464, 37, 975, 12, 4794, 3722, 152]</td>\n      <td>mesmo producao opep queda sauditas batem recorde</td>\n      <td>[mesmo, producao, opep, queda, sauditas, batem...</td>\n      <td>2</td>\n      <td>0</td>\n    </tr>\n    <tr>\n      <th>...</th>\n      <td>...</td>\n      <td>...</td>\n      <td>...</td>\n      <td>...</td>\n      <td>...</td>\n    </tr>\n    <tr>\n      <th>1791</th>\n      <td>[2973, 36, 2, 9, 806, 124, 83, 4136, 7]</td>\n      <td>metaverso veja &lt;NUM&gt; acoes precisa ter segundo...</td>\n      <td>[metaverso, veja, num, acoes, precisa, ter, se...</td>\n      <td>2</td>\n      <td>3</td>\n    </tr>\n    <tr>\n      <th>1792</th>\n      <td>[1, 2249, 873, 3862, 1, 1, 361, 3540, 3]</td>\n      <td>promotores italia pedem donos techint julgados...</td>\n      <td>[&lt;OOV&gt;, italia, pedem, donos, &lt;OOV&gt;, &lt;OOV&gt;, ca...</td>\n      <td>1</td>\n      <td>1</td>\n    </tr>\n    <tr>\n      <th>1793</th>\n      <td>[1602, 15, 29, 1, 673, 60, 6, 3298]</td>\n      <td>rali minerio pode esfriar riscos china diz aus...</td>\n      <td>[rali, minerio, pode, &lt;OOV&gt;, riscos, china, di...</td>\n      <td>2</td>\n      <td>2</td>\n    </tr>\n    <tr>\n      <th>1794</th>\n      <td>[443, 418, 32, 86, 390, 82, 2]</td>\n      <td>boletim focus mercado reduz previsao pib &lt;NUM&gt;</td>\n      <td>[boletim, focus, mercado, reduz, previsao, pib...</td>\n      <td>0</td>\n      <td>0</td>\n    </tr>\n    <tr>\n      <th>1795</th>\n      <td>[1216, 6, 2, 4, 284, 1848, 1, 211, 1062, 244]</td>\n      <td>anm diz &lt;NUM&gt; cento barragens montante elabora...</td>\n      <td>[anm, diz, num, cento, barragens, montante, &lt;O...</td>\n      <td>0</td>\n      <td>2</td>\n    </tr>\n  </tbody>\n</table>\n<p>1796 rows × 5 columns</p>\n</div>"
     },
     "execution_count": 23,
     "metadata": {},
     "output_type": "execute_result"
    }
   ],
   "source": [
    "df_results = pd.DataFrame()\n",
    "X_test = list(X_test)\n",
    "y_test = list(y_test)\n",
    "df_results['sequence'] = test_sequences\n",
    "df_results['X_test'] = X_test\n",
    "df_results['seq2text'] = df_results['sequence'].apply(lambda x: seq2text(x, index_word))\n",
    "df_results['y_pred'] = y_pred\n",
    "df_results['y_true'] = y_test\n",
    "df_results"
   ],
   "metadata": {
    "collapsed": false
   }
  },
  {
   "cell_type": "markdown",
   "source": [
    "### Metrics"
   ],
   "metadata": {
    "collapsed": false
   }
  },
  {
   "cell_type": "code",
   "execution_count": 24,
   "outputs": [],
   "source": [
    "# accuracy = accuracy_score(y_true=y_test, y_pred=y_pred)\n",
    "# precision = precision_score(average='macro', y_true=y_test, y_pred=y_pred)\n",
    "# recall = recall_score(average='macro', y_true=y_test, y_pred=y_pred)\n",
    "# f1 = f1_score(average='macro', y_true=y_test, y_pred=y_pred)\n",
    "# cm = confusion_matrix(y_true=y_test, y_pred=y_pred)"
   ],
   "metadata": {
    "collapsed": false
   }
  },
  {
   "cell_type": "code",
   "execution_count": 25,
   "outputs": [
    {
     "name": "stdout",
     "output_type": "stream",
     "text": [
      "              precision    recall  f1-score   support\n",
      "\n",
      "           0       0.65      0.93      0.77       590\n",
      "           1       0.85      0.77      0.81       623\n",
      "           2       0.92      0.69      0.79       395\n",
      "           3       0.88      0.44      0.59       188\n",
      "\n",
      "    accuracy                           0.77      1796\n",
      "   macro avg       0.83      0.71      0.74      1796\n",
      "weighted avg       0.81      0.77      0.77      1796\n",
      "\n",
      "Confusion Matrix\n"
     ]
    },
    {
     "data": {
      "text/plain": "<Figure size 1000x700 with 2 Axes>",
      "image/png": "[encoded data removed]"
     },
     "metadata": {},
     "output_type": "display_data"
    }
   ],
   "source": [
    "print(classification_report(y_test,y_pred))\n",
    "cm = confusion_matrix(y_true=y_test, y_pred=y_pred)\n",
    "show_confusion_matrix(cm)"
   ],
   "metadata": {
    "collapsed": false
   }
  }
 ],
 "metadata": {
  "kernelspec": {
   "display_name": "Python 3",
   "language": "python",
   "name": "python3"
  },
  "language_info": {
   "codemirror_mode": {
    "name": "ipython",
    "version": 2
   },
   "file_extension": ".py",
   "mimetype": "text/x-python",
   "name": "python",
   "nbconvert_exporter": "python",
   "pygments_lexer": "ipython2",
   "version": "2.7.6"
  }
 },
 "nbformat": 4,
 "nbformat_minor": 0
}
