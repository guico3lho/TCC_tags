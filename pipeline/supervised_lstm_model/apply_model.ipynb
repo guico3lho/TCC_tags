{
 "cells": [
  {
   "cell_type": "markdown",
   "source": [
    "## Packages and Assets"
   ],
   "metadata": {
    "collapsed": false
   }
  },
  {
   "cell_type": "code",
   "execution_count": 1,
   "outputs": [],
   "source": [
    "import keras.models\n",
    "from sklearn.metrics import accuracy_score, precision_score, recall_score, f1_score, confusion_matrix, classification_report\n",
    "\n",
    "import seaborn as sns\n",
    "import json\n",
    "import matplotlib.pyplot as plt\n",
    "import numpy as np\n",
    "\n",
    "from keras.preprocessing.text import tokenizer_from_json\n",
    "\n",
    "from keras.utils import pad_sequences\n",
    "import pandas as pd\n",
    "import re\n",
    "import string\n",
    "import nltk\n"
   ],
   "metadata": {
    "collapsed": false
   }
  },
  {
   "cell_type": "code",
   "execution_count": 2,
   "outputs": [
    {
     "name": "stdout",
     "output_type": "stream",
     "text": [
      "Model: \"sequential\"\n",
      "_________________________________________________________________\n",
      " Layer (type)                Output Shape              Param #   \n",
      "=================================================================\n",
      " embedding (Embedding)       (None, 11, 300)           3110400   \n",
      "                                                                 \n",
      " bidirectional (Bidirectiona  (None, 11, 128)          186880    \n",
      " l)                                                              \n",
      "                                                                 \n",
      " bidirectional_1 (Bidirectio  (None, 128)              98816     \n",
      " nal)                                                            \n",
      "                                                                 \n",
      " dense (Dense)               (None, 32)                4128      \n",
      "                                                                 \n",
      " dense_1 (Dense)             (None, 4)                 132       \n",
      "                                                                 \n",
      "=================================================================\n",
      "Total params: 3,400,356\n",
      "Trainable params: 289,956\n",
      "Non-trainable params: 3,110,400\n",
      "_________________________________________________________________\n"
     ]
    }
   ],
   "source": [
    "model = keras.models.load_model('../../assets/lstm_assets/lstm_model')\n",
    "model.summary()"
   ],
   "metadata": {
    "collapsed": false
   }
  },
  {
   "cell_type": "code",
   "execution_count": 3,
   "outputs": [],
   "source": [
    "# Load the tokenizer from the file\n",
    "with open('../../assets/lstm_assets/tokenizer.json', 'r', encoding='utf-8') as f:\n",
    "    tokenizer_json = f.read()\n",
    "    tokenizer = tokenizer_from_json(tokenizer_json)\n",
    "    word_index = tokenizer.word_index"
   ],
   "metadata": {
    "collapsed": false
   }
  },
  {
   "cell_type": "markdown",
   "source": [],
   "metadata": {
    "collapsed": false
   }
  },
  {
   "cell_type": "markdown",
   "source": [
    "## Functions"
   ],
   "metadata": {
    "collapsed": false
   }
  },
  {
   "cell_type": "code",
   "execution_count": 4,
   "outputs": [],
   "source": [
    "def transformDocument(df, column_name, language):\n",
    "    stop_words = usingStopwords(language)\n",
    "    # 1. Aplicar preprocessamento nos títulos e textos completos\n",
    "    if language == 'pt':\n",
    "        # Substituir símbolos importantes\n",
    "        df[column_name] = df[column_name].map(lambda s: s.replace('-feira', ''))\n",
    "        df[column_name] = df[column_name].map(lambda s: s.replace('+', 'mais '))\n",
    "        df[column_name] = df[column_name].map(lambda s: s.replace('-', 'menos '))\n",
    "        df[column_name] = df[column_name].map(lambda s: s.replace('%', ' por cento'))\n",
    "        df[column_name] = df[column_name].map(lambda s: removeStopwords(s, stop_words))\n",
    "\n",
    "    elif language == 'en':\n",
    "        df[column_name] = df[column_name].map(lambda s: s.replace('-', 'less'))\n",
    "        df[column_name] = df[column_name].map(lambda s: s.replace('+', 'plus '))\n",
    "        df[column_name] = df[column_name].map(lambda s: s.replace('%', ' percent'))\n",
    "        df[column_name] = df[column_name].map(lambda s: removeStopwords(s, stop_words))\n",
    "\n",
    "    else:\n",
    "        pass\n",
    "\n",
    "    df[column_name] = df[column_name].map(lambda s: s.replace('R$', ''))\n",
    "    df[column_name] = df[column_name].map(lambda s: s.replace('U$', ''))\n",
    "    df[column_name] = df[column_name].map(lambda s: s.replace('US$', ''))\n",
    "    df[column_name] = df[column_name].map(lambda s: s.replace('S&P 500', 'spx'))\n",
    "\n",
    "    # Transformar em String e Letras Minúsculas nas Mensagens\n",
    "    df[column_name] = df[column_name].map(lambda s:\n",
    "                                              normalizarString(s))\n",
    "\n",
    "    # Remover Pontuações\n",
    "    # Remover Pontuações\n",
    "    df[column_name] = df[column_name].map(lambda s: s.translate(str.maketrans('', '', string.punctuation)))\n",
    "\n",
    "    # Remover Emojis\n",
    "    df[column_name] = df[column_name].map(lambda s: removeEmojis(s))\n",
    "\n",
    "    # Quebras de Linha desnecessárias\n",
    "    df[column_name] = df[column_name].map(lambda s: s.replace('\\n', ' '))\n",
    "\n",
    "    # Remover aspas duplas\n",
    "    df[column_name] = df[column_name].map(lambda s: s.replace('\\\"', ''))\n",
    "    df[column_name] = df[column_name].map(lambda s: s.replace('“', ''))\n",
    "    df[column_name] = df[column_name].map(lambda s: s.replace('”', ''))\n",
    "\n",
    "    # Remover valores\n",
    "    df[column_name] = df[column_name].map(lambda s: removeValores(s))\n",
    "\n",
    "    # Espaços desnecessários\n",
    "    df[column_name] = df[column_name].map(lambda s: s.strip())\n",
    "    return df\n",
    "\n",
    "def removeEmojis(sentence):\n",
    "    \"Remoção de Emojis nas mensagens de texto.\"\n",
    "\n",
    "    # Padrões dos Emojis\n",
    "    emoji_pattern = re.compile(\"[\"\n",
    "                               u\"\\U0001F600-\\U0001F64F\"  # emoticons\n",
    "                               u\"\\U0001F300-\\U0001F5FF\"  # symbols & pictographs\n",
    "                               u\"\\U0001F680-\\U0001F6FF\"  # transport & map symbols\n",
    "                               u\"\\U0001F1E0-\\U0001F1FF\"  # flags (iOS)\n",
    "                               u\"\\U00002702-\\U000027B0\"\n",
    "                               u\"\\U000024C2-\\U0001F251\"\n",
    "                               u\"\\U0001f926-\\U0001f937\"\n",
    "                               u'\\U00010000-\\U0010ffff'\n",
    "                               u\"\\u200d\"\n",
    "                               u\"\\u2640-\\u2642\"\n",
    "                               u\"\\u2600-\\u2B55\"\n",
    "                               u\"\\u23cf\"\n",
    "                               u\"\\u23e9\"\n",
    "                               u\"\\u231a\"\n",
    "                               u\"\\u3030\"\n",
    "                               u\"\\ufe0f\"\n",
    "                               \"]+\", flags=re.UNICODE)\n",
    "\n",
    "    return emoji_pattern.sub(r'', sentence)\n",
    "\n",
    "def removeValores(sentence):\n",
    "    new_sentece = ''\n",
    "\n",
    "    for token in sentence.split():\n",
    "        if token.isdigit():\n",
    "            token = '<NUM>'\n",
    "        new_sentece += ' {}'.format(token)\n",
    "\n",
    "    return new_sentece\n",
    "\n",
    "def usingStopwords(language):\n",
    "    stop_words = []\n",
    "\n",
    "    nltk.download('stopwords')\n",
    "\n",
    "    if language == 'pt':\n",
    "        stop_words = nltk.corpus.stopwords.words('portuguese')\n",
    "    elif language == 'en':\n",
    "        stop_words = nltk.corpus.stopwords.words('english')\n",
    "\n",
    "    return stop_words\n",
    "\n",
    "def removeStopwords(text, stop_words):\n",
    "    tokens = []\n",
    "    for word in text.split():\n",
    "        if word not in stop_words:\n",
    "            tokens.append(word)\n",
    "\n",
    "    text = ' '.join(tokens)\n",
    "    return text\n",
    "\n",
    "def normalizarString(text):\n",
    "    \"\"\"\n",
    "    Função para retirar acentuações e converter para minúscula\n",
    "    :param text:\n",
    "    :return text_normalizado\n",
    "    \"\"\"\n",
    "    import unicodedata\n",
    "\n",
    "    text = unicodedata.normalize('NFD', text).encode('ascii', 'ignore').decode(\"utf-8\")\n",
    "    return str(text.lower())"
   ],
   "metadata": {
    "collapsed": false
   }
  },
  {
   "cell_type": "markdown",
   "source": [
    "## Loading test data"
   ],
   "metadata": {
    "collapsed": false
   }
  },
  {
   "cell_type": "code",
   "execution_count": 5,
   "outputs": [
    {
     "data": {
      "text/plain": "                                                  title  \\\n0     Agenda do Dia: Vale; Embraer; Gafisa; Braskem;...   \n1     Etanol confirma liquidação nas usinas antes do...   \n2     IRB Brasil chega a cair 15,17% após carta da S...   \n3     Em recuperação judicial, Livraria Saraiva fech...   \n4     Dólar encerra em queda de 1,1%, cotado em R$ 5,08   \n...                                                 ...   \n1797  Facebook notifica brasileiros que tiveram dado...   \n1798  Tesouro Direto: confira os preços desta sexta-...   \n1799  Petrobras convoca assembleia para 27 de agosto...   \n1800  Itaú (ITUB4), Bradesco (BBDC4): Inadimplência ...   \n1801  TJSP decreta fim da recuperação judicial do Ae...   \n\n                                                   tags  \\\n0     ['agenda do dia', 'Santos Brasil (STBP3)', 'Va...   \n1     ['Agronegócio', 'Cana-de-Açúcar', 'Etanol', 'G...   \n2                               ['IRB Brasil', 'IRBR3']   \n3         ['recuperação judicial', 'Saraiva Livrarias']   \n4     ['Banco da Inglaterra', 'coronavírus', 'dólar'...   \n...                                                 ...   \n1797                       ['Facebook', 'Investidores']   \n1798             ['Tesouro Direto', 'Tesouro Nacional']   \n1799  ['Empresas', 'Petrobras', 'Reuters', 'Tesouro ...   \n1800  ['B3 (B3SA3)', 'B3 (B3SA3)', 'Banco do Brasil ...   \n1801  ['Aeroportos Brasil Viracopos', 'Triunfo Parti...   \n\n                                                   link  label  \n0     https://www.suno.com.br/noticias/agenda-do-dia...      2  \n1     https://www.moneytimes.com.br/etanol-confirma-...      1  \n2     https://www.sunoresearch.com.br/noticias/irb-b...      0  \n3     https://www.sunoresearch.com.br/noticias/livra...      0  \n4     https://www.sunoresearch.com.br/noticias/dolar...      0  \n...                                                 ...    ...  \n1797  https://www.sunoresearch.com.br/noticias/faceb...      0  \n1798  https://www.sunoresearch.com.br/noticias/tesou...      0  \n1799  https://www.moneytimes.com.br/petrobras-convoc...      1  \n1800  https://www.suno.com.br/noticias/inadimplencia...      3  \n1801  https://www.sunoresearch.com.br/noticias/recup...      0  \n\n[1802 rows x 4 columns]",
      "text/html": "<div>\n<style scoped>\n    .dataframe tbody tr th:only-of-type {\n        vertical-align: middle;\n    }\n\n    .dataframe tbody tr th {\n        vertical-align: top;\n    }\n\n    .dataframe thead th {\n        text-align: right;\n    }\n</style>\n<table border=\"1\" class=\"dataframe\">\n  <thead>\n    <tr style=\"text-align: right;\">\n      <th></th>\n      <th>title</th>\n      <th>tags</th>\n      <th>link</th>\n      <th>label</th>\n    </tr>\n  </thead>\n  <tbody>\n    <tr>\n      <th>0</th>\n      <td>Agenda do Dia: Vale; Embraer; Gafisa; Braskem;...</td>\n      <td>['agenda do dia', 'Santos Brasil (STBP3)', 'Va...</td>\n      <td>https://www.suno.com.br/noticias/agenda-do-dia...</td>\n      <td>2</td>\n    </tr>\n    <tr>\n      <th>1</th>\n      <td>Etanol confirma liquidação nas usinas antes do...</td>\n      <td>['Agronegócio', 'Cana-de-Açúcar', 'Etanol', 'G...</td>\n      <td>https://www.moneytimes.com.br/etanol-confirma-...</td>\n      <td>1</td>\n    </tr>\n    <tr>\n      <th>2</th>\n      <td>IRB Brasil chega a cair 15,17% após carta da S...</td>\n      <td>['IRB Brasil', 'IRBR3']</td>\n      <td>https://www.sunoresearch.com.br/noticias/irb-b...</td>\n      <td>0</td>\n    </tr>\n    <tr>\n      <th>3</th>\n      <td>Em recuperação judicial, Livraria Saraiva fech...</td>\n      <td>['recuperação judicial', 'Saraiva Livrarias']</td>\n      <td>https://www.sunoresearch.com.br/noticias/livra...</td>\n      <td>0</td>\n    </tr>\n    <tr>\n      <th>4</th>\n      <td>Dólar encerra em queda de 1,1%, cotado em R$ 5,08</td>\n      <td>['Banco da Inglaterra', 'coronavírus', 'dólar'...</td>\n      <td>https://www.sunoresearch.com.br/noticias/dolar...</td>\n      <td>0</td>\n    </tr>\n    <tr>\n      <th>...</th>\n      <td>...</td>\n      <td>...</td>\n      <td>...</td>\n      <td>...</td>\n    </tr>\n    <tr>\n      <th>1797</th>\n      <td>Facebook notifica brasileiros que tiveram dado...</td>\n      <td>['Facebook', 'Investidores']</td>\n      <td>https://www.sunoresearch.com.br/noticias/faceb...</td>\n      <td>0</td>\n    </tr>\n    <tr>\n      <th>1798</th>\n      <td>Tesouro Direto: confira os preços desta sexta-...</td>\n      <td>['Tesouro Direto', 'Tesouro Nacional']</td>\n      <td>https://www.sunoresearch.com.br/noticias/tesou...</td>\n      <td>0</td>\n    </tr>\n    <tr>\n      <th>1799</th>\n      <td>Petrobras convoca assembleia para 27 de agosto...</td>\n      <td>['Empresas', 'Petrobras', 'Reuters', 'Tesouro ...</td>\n      <td>https://www.moneytimes.com.br/petrobras-convoc...</td>\n      <td>1</td>\n    </tr>\n    <tr>\n      <th>1800</th>\n      <td>Itaú (ITUB4), Bradesco (BBDC4): Inadimplência ...</td>\n      <td>['B3 (B3SA3)', 'B3 (B3SA3)', 'Banco do Brasil ...</td>\n      <td>https://www.suno.com.br/noticias/inadimplencia...</td>\n      <td>3</td>\n    </tr>\n    <tr>\n      <th>1801</th>\n      <td>TJSP decreta fim da recuperação judicial do Ae...</td>\n      <td>['Aeroportos Brasil Viracopos', 'Triunfo Parti...</td>\n      <td>https://www.sunoresearch.com.br/noticias/recup...</td>\n      <td>0</td>\n    </tr>\n  </tbody>\n</table>\n<p>1802 rows × 4 columns</p>\n</div>"
     },
     "execution_count": 5,
     "metadata": {},
     "output_type": "execute_result"
    }
   ],
   "source": [
    "test_raw = pd.read_csv('../../assets/data/splits/test/raw.csv')\n",
    "test_raw"
   ],
   "metadata": {
    "collapsed": false
   }
  },
  {
   "cell_type": "code",
   "execution_count": 6,
   "outputs": [
    {
     "name": "stderr",
     "output_type": "stream",
     "text": [
      "[nltk_data] Downloading package stopwords to\n",
      "[nltk_data]     C:\\Users\\Guilherme\\AppData\\Roaming\\nltk_data...\n",
      "[nltk_data]   Package stopwords is already up-to-date!\n"
     ]
    },
    {
     "data": {
      "text/plain": "array([[ 118,   53,    5, ...,    0,    0,    0],\n       [ 153,  258, 2909, ..., 1934,   40,    0],\n       [ 167,   13,  291, ..., 3789,   83,    0],\n       ...,\n       [   3, 1306,  404, ...,    0,    0,    0],\n       [   7,   42,   77, ..., 2368,  459,   59],\n       [8949, 2354,  313, ...,    0,    0,    0]])"
     },
     "execution_count": 6,
     "metadata": {},
     "output_type": "execute_result"
    }
   ],
   "source": [
    "test_preprocessed = transformDocument(test_raw, 'title', 'pt')\n",
    "\n",
    "X_test = test_preprocessed.title\n",
    "y_test = test_preprocessed.to_numpy()[:, -1]\n",
    "\n",
    "test_sequences = tokenizer.texts_to_sequences(X_test)\n",
    "test_padded = pad_sequences(test_sequences, maxlen=11, padding='post', truncating='post')\n",
    "test_padded"
   ],
   "metadata": {
    "collapsed": false
   }
  },
  {
   "cell_type": "markdown",
   "source": [
    "### Functions"
   ],
   "metadata": {
    "collapsed": false
   }
  },
  {
   "cell_type": "code",
   "execution_count": 7,
   "outputs": [],
   "source": [
    "def index2word(word_index):\n",
    "    index_word = {}\n",
    "    for key in word_index:\n",
    "        index_word[word_index[key]] = key\n",
    "    return index_word\n",
    "\n",
    "\n",
    "def seq2text(seq, index_word):\n",
    "    text = []\n",
    "    for index in seq:\n",
    "        text.append(index_word[index])\n",
    "    return text\n",
    "\n",
    "def show_confusion_matrix(cm):\n",
    "        print(\"Confusion Matrix\")\n",
    "        plt.figure(figsize=(10, 7))\n",
    "\n",
    "        sns.heatmap(cm, annot=True, fmt='d', cmap='Blues', xticklabels=['Negative', 'Positive'],\n",
    "                    yticklabels=['Negative', 'Positive'])\n",
    "        plt.xlabel('Predicted')\n",
    "        plt.ylabel('Truth')\n",
    "        plt.title('Confusion Matrix')\n",
    "        plt.show()"
   ],
   "metadata": {
    "collapsed": false
   }
  },
  {
   "cell_type": "code",
   "execution_count": 8,
   "outputs": [],
   "source": [
    "index_word = index2word(word_index)"
   ],
   "metadata": {
    "collapsed": false
   }
  },
  {
   "cell_type": "code",
   "execution_count": 9,
   "outputs": [
    {
     "name": "stdout",
     "output_type": "stream",
     "text": [
      "57/57 [==============================] - 2s 6ms/step\n"
     ]
    }
   ],
   "source": [
    "pred_prob = model.predict(test_padded)"
   ],
   "metadata": {
    "collapsed": false
   }
  },
  {
   "cell_type": "code",
   "execution_count": 10,
   "outputs": [],
   "source": [
    "# y_pred = [1 if p > 0.5 else 0 for p in pred_prob]\n",
    "y_pred = np.argmax(pred_prob, axis=1)"
   ],
   "metadata": {
    "collapsed": false
   }
  },
  {
   "cell_type": "code",
   "execution_count": 11,
   "outputs": [
    {
     "data": {
      "text/plain": "                                               sequence  \\\n0                 [118, 53, 5, 330, 1393, 136, 493, 13]   \n1     [153, 258, 2909, 752, 323, 2, 1404, 274, 1934,...   \n2         [167, 13, 291, 758, 2, 4, 14, 2044, 3789, 83]   \n3             [316, 174, 427, 4531, 1843, 36, 262, 315]   \n4                           [28, 103, 12, 2, 4, 400, 2]   \n...                                                 ...   \n1797                           [712, 2280, 361, 445, 1]   \n1798                       [101, 105, 82, 58, 615, 182]   \n1799            [3, 1306, 404, 2, 231, 2793, 1668, 110]   \n1800  [7, 42, 77, 397, 1380, 755, 17, 109, 2368, 459...   \n1801              [8949, 2354, 313, 174, 427, 1, 10165]   \n\n                                                 X_test  \\\n0     agenda dia vale embraer gafisa braskem santos ...   \n1     etanol confirma liquidacao usinas antes <NUM> ...   \n2     irb brasil chega cair <NUM> cento apos carta s...   \n3     em recuperacao judicial livraria saraiva fecha...   \n4          dolar encerra queda <NUM> cento cotado <NUM>   \n...                                                 ...   \n1797       facebook notifica brasileiros dados roubados   \n1798          tesouro direto confira precos desta sexta   \n1799  petrobras convoca assembleia <NUM> agosto eleg...   \n1800  itau itub4 bradesco bbdc4 inadimplencia pressa...   \n1801  tjsp decreta fim recuperacao judicial aeroport...   \n\n                                               seq2text  y_pred  y_true  \n0     [agenda, dia, vale, embraer, gafisa, braskem, ...       2       2  \n1     [etanol, confirma, liquidacao, usinas, antes, ...       1       1  \n2     [irb, brasil, chega, cair, num, cento, apos, c...       0       0  \n3     [em, recuperacao, judicial, livraria, saraiva,...       2       0  \n4      [dolar, encerra, queda, num, cento, cotado, num]       0       0  \n...                                                 ...     ...     ...  \n1797    [facebook, notifica, brasileiros, dados, <OOV>]       0       0  \n1798   [tesouro, direto, confira, precos, desta, sexta]       0       0  \n1799  [petrobras, convoca, assembleia, num, agosto, ...       1       1  \n1800  [itau, itub4, bradesco, bbdc4, inadimplencia, ...       3       3  \n1801  [tjsp, decreta, fim, recuperacao, judicial, <O...       0       0  \n\n[1802 rows x 5 columns]",
      "text/html": "<div>\n<style scoped>\n    .dataframe tbody tr th:only-of-type {\n        vertical-align: middle;\n    }\n\n    .dataframe tbody tr th {\n        vertical-align: top;\n    }\n\n    .dataframe thead th {\n        text-align: right;\n    }\n</style>\n<table border=\"1\" class=\"dataframe\">\n  <thead>\n    <tr style=\"text-align: right;\">\n      <th></th>\n      <th>sequence</th>\n      <th>X_test</th>\n      <th>seq2text</th>\n      <th>y_pred</th>\n      <th>y_true</th>\n    </tr>\n  </thead>\n  <tbody>\n    <tr>\n      <th>0</th>\n      <td>[118, 53, 5, 330, 1393, 136, 493, 13]</td>\n      <td>agenda dia vale embraer gafisa braskem santos ...</td>\n      <td>[agenda, dia, vale, embraer, gafisa, braskem, ...</td>\n      <td>2</td>\n      <td>2</td>\n    </tr>\n    <tr>\n      <th>1</th>\n      <td>[153, 258, 2909, 752, 323, 2, 1404, 274, 1934,...</td>\n      <td>etanol confirma liquidacao usinas antes &lt;NUM&gt; ...</td>\n      <td>[etanol, confirma, liquidacao, usinas, antes, ...</td>\n      <td>1</td>\n      <td>1</td>\n    </tr>\n    <tr>\n      <th>2</th>\n      <td>[167, 13, 291, 758, 2, 4, 14, 2044, 3789, 83]</td>\n      <td>irb brasil chega cair &lt;NUM&gt; cento apos carta s...</td>\n      <td>[irb, brasil, chega, cair, num, cento, apos, c...</td>\n      <td>0</td>\n      <td>0</td>\n    </tr>\n    <tr>\n      <th>3</th>\n      <td>[316, 174, 427, 4531, 1843, 36, 262, 315]</td>\n      <td>em recuperacao judicial livraria saraiva fecha...</td>\n      <td>[em, recuperacao, judicial, livraria, saraiva,...</td>\n      <td>2</td>\n      <td>0</td>\n    </tr>\n    <tr>\n      <th>4</th>\n      <td>[28, 103, 12, 2, 4, 400, 2]</td>\n      <td>dolar encerra queda &lt;NUM&gt; cento cotado &lt;NUM&gt;</td>\n      <td>[dolar, encerra, queda, num, cento, cotado, num]</td>\n      <td>0</td>\n      <td>0</td>\n    </tr>\n    <tr>\n      <th>...</th>\n      <td>...</td>\n      <td>...</td>\n      <td>...</td>\n      <td>...</td>\n      <td>...</td>\n    </tr>\n    <tr>\n      <th>1797</th>\n      <td>[712, 2280, 361, 445, 1]</td>\n      <td>facebook notifica brasileiros dados roubados</td>\n      <td>[facebook, notifica, brasileiros, dados, &lt;OOV&gt;]</td>\n      <td>0</td>\n      <td>0</td>\n    </tr>\n    <tr>\n      <th>1798</th>\n      <td>[101, 105, 82, 58, 615, 182]</td>\n      <td>tesouro direto confira precos desta sexta</td>\n      <td>[tesouro, direto, confira, precos, desta, sexta]</td>\n      <td>0</td>\n      <td>0</td>\n    </tr>\n    <tr>\n      <th>1799</th>\n      <td>[3, 1306, 404, 2, 231, 2793, 1668, 110]</td>\n      <td>petrobras convoca assembleia &lt;NUM&gt; agosto eleg...</td>\n      <td>[petrobras, convoca, assembleia, num, agosto, ...</td>\n      <td>1</td>\n      <td>1</td>\n    </tr>\n    <tr>\n      <th>1800</th>\n      <td>[7, 42, 77, 397, 1380, 755, 17, 109, 2368, 459...</td>\n      <td>itau itub4 bradesco bbdc4 inadimplencia pressa...</td>\n      <td>[itau, itub4, bradesco, bbdc4, inadimplencia, ...</td>\n      <td>3</td>\n      <td>3</td>\n    </tr>\n    <tr>\n      <th>1801</th>\n      <td>[8949, 2354, 313, 174, 427, 1, 10165]</td>\n      <td>tjsp decreta fim recuperacao judicial aeroport...</td>\n      <td>[tjsp, decreta, fim, recuperacao, judicial, &lt;O...</td>\n      <td>0</td>\n      <td>0</td>\n    </tr>\n  </tbody>\n</table>\n<p>1802 rows × 5 columns</p>\n</div>"
     },
     "execution_count": 11,
     "metadata": {},
     "output_type": "execute_result"
    }
   ],
   "source": [
    "df_results = pd.DataFrame()\n",
    "X_test = list(X_test)\n",
    "y_test = list(y_test)\n",
    "df_results['sequence'] = test_sequences\n",
    "df_results['X_test'] = X_test\n",
    "df_results['seq2text'] = df_results['sequence'].apply(lambda x: seq2text(x, index_word))\n",
    "df_results['y_pred'] = y_pred\n",
    "df_results['y_true'] = y_test\n",
    "df_results"
   ],
   "metadata": {
    "collapsed": false
   }
  },
  {
   "cell_type": "markdown",
   "source": [
    "### Metrics"
   ],
   "metadata": {
    "collapsed": false
   }
  },
  {
   "cell_type": "code",
   "execution_count": 12,
   "outputs": [],
   "source": [
    "# accuracy = accuracy_score(y_true=y_test, y_pred=y_pred)\n",
    "# precision = precision_score(average='macro', y_true=y_test, y_pred=y_pred)\n",
    "# recall = recall_score(average='macro', y_true=y_test, y_pred=y_pred)\n",
    "# f1 = f1_score(average='macro', y_true=y_test, y_pred=y_pred)\n",
    "# cm = confusion_matrix(y_true=y_test, y_pred=y_pred)"
   ],
   "metadata": {
    "collapsed": false
   }
  },
  {
   "cell_type": "code",
   "execution_count": 13,
   "outputs": [
    {
     "name": "stdout",
     "output_type": "stream",
     "text": [
      "              precision    recall  f1-score   support\n",
      "\n",
      "           0       0.71      0.92      0.80       609\n",
      "           1       0.86      0.79      0.83       589\n",
      "           2       0.87      0.80      0.83       379\n",
      "           3       0.94      0.52      0.66       225\n",
      "\n",
      "    accuracy                           0.80      1802\n",
      "   macro avg       0.84      0.76      0.78      1802\n",
      "weighted avg       0.82      0.80      0.80      1802\n",
      "\n",
      "Confusion Matrix\n"
     ]
    },
    {
     "data": {
      "text/plain": "<Figure size 1000x700 with 2 Axes>",
      "image/png": "[encoded data removed]"
     },
     "metadata": {},
     "output_type": "display_data"
    }
   ],
   "source": [
    "print(classification_report(y_test,y_pred))\n",
    "cm = confusion_matrix(y_true=y_test, y_pred=y_pred)\n",
    "show_confusion_matrix(cm)"
   ],
   "metadata": {
    "collapsed": false
   }
  }
 ],
 "metadata": {
  "kernelspec": {
   "display_name": "Python 3",
   "language": "python",
   "name": "python3"
  },
  "language_info": {
   "codemirror_mode": {
    "name": "ipython",
    "version": 2
   },
   "file_extension": ".py",
   "mimetype": "text/x-python",
   "name": "python",
   "nbconvert_exporter": "python",
   "pygments_lexer": "ipython2",
   "version": "2.7.6"
  }
 },
 "nbformat": 4,
 "nbformat_minor": 0
}
