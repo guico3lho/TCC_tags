{
 "cells": [
  {
   "cell_type": "code",
   "execution_count": 40,
   "metadata": {
    "collapsed": true
   },
   "outputs": [],
   "source": []
  },
  {
   "cell_type": "markdown",
   "source": [
    "# Predictions"
   ],
   "metadata": {
    "collapsed": false
   }
  },
  {
   "cell_type": "markdown",
   "source": [
    "## Packages and Assets"
   ],
   "metadata": {
    "collapsed": false
   }
  },
  {
   "cell_type": "code",
   "execution_count": 41,
   "outputs": [],
   "source": [
    "import keras.models\n",
    "from sklearn.metrics import accuracy_score, precision_score, recall_score, f1_score, confusion_matrix, classification_report\n",
    "\n",
    "import seaborn as sns\n",
    "import json\n",
    "import matplotlib.pyplot as plt\n",
    "import pandas as pd\n",
    "import numpy as np\n",
    "\n",
    "from keras.preprocessing.text import Tokenizer, tokenizer_from_json\n",
    "from keras.utils import pad_sequences\n"
   ],
   "metadata": {
    "collapsed": false
   }
  },
  {
   "cell_type": "code",
   "execution_count": 42,
   "outputs": [
    {
     "name": "stdout",
     "output_type": "stream",
     "text": [
      "Model: \"sequential_1\"\n",
      "_________________________________________________________________\n",
      " Layer (type)                Output Shape              Param #   \n",
      "=================================================================\n",
      " embedding_1 (Embedding)     (None, 11, 300)           2406300   \n",
      "                                                                 \n",
      " bidirectional_2 (Bidirectio  (None, 11, 128)          186880    \n",
      " nal)                                                            \n",
      "                                                                 \n",
      " bidirectional_3 (Bidirectio  (None, 128)              98816     \n",
      " nal)                                                            \n",
      "                                                                 \n",
      " dense_2 (Dense)             (None, 32)                4128      \n",
      "                                                                 \n",
      " dense_3 (Dense)             (None, 3)                 99        \n",
      "                                                                 \n",
      "=================================================================\n",
      "Total params: 2,696,223\n",
      "Trainable params: 289,923\n",
      "Non-trainable params: 2,406,300\n",
      "_________________________________________________________________\n"
     ]
    }
   ],
   "source": [
    "model = keras.models.load_model('../../assets/lstm_model')\n",
    "model.summary()"
   ],
   "metadata": {
    "collapsed": false
   }
  },
  {
   "cell_type": "code",
   "execution_count": 43,
   "outputs": [],
   "source": [
    "with open('../../assets/word_index.json', 'r') as f:\n",
    "    word_index = json.load(f)\n",
    "    word_index = dict(word_index)"
   ],
   "metadata": {
    "collapsed": false
   }
  },
  {
   "cell_type": "code",
   "execution_count": 44,
   "outputs": [],
   "source": [
    "# Load the tokenizer from the file\n",
    "with open('../../assets/tokenizer.json', 'r', encoding='utf-8') as f:\n",
    "    tokenizer_json = f.read()\n",
    "    tokenizer = tokenizer_from_json(tokenizer_json)"
   ],
   "metadata": {
    "collapsed": false
   }
  },
  {
   "cell_type": "markdown",
   "source": [],
   "metadata": {
    "collapsed": false
   }
  },
  {
   "cell_type": "markdown",
   "source": [
    "## Functions"
   ],
   "metadata": {
    "collapsed": false
   }
  },
  {
   "cell_type": "code",
   "execution_count": 45,
   "outputs": [],
   "source": [
    "from keras.preprocessing.text import Tokenizer\n",
    "from keras.utils import pad_sequences\n",
    "import pandas as pd\n",
    "import re\n",
    "import string\n",
    "import nltk"
   ],
   "metadata": {
    "collapsed": false
   }
  },
  {
   "cell_type": "code",
   "execution_count": 46,
   "outputs": [],
   "source": [
    "def transformDocument(df, column_name, language):\n",
    "    stop_words = usingStopwords(language)\n",
    "    # 1. Aplicar preprocessamento nos títulos e textos completos\n",
    "    if language == 'pt':\n",
    "        # Substituir símbolos importantes\n",
    "        df[column_name] = df[column_name].map(lambda s: s.replace('-feira', ''))\n",
    "        df[column_name] = df[column_name].map(lambda s: s.replace('+', 'mais '))\n",
    "        df[column_name] = df[column_name].map(lambda s: s.replace('-', 'menos '))\n",
    "        df[column_name] = df[column_name].map(lambda s: s.replace('%', ' por cento'))\n",
    "        df[column_name] = df[column_name].map(lambda s: removeStopwords(s, stop_words))\n",
    "\n",
    "    elif language == 'en':\n",
    "        df[column_name] = df[column_name].map(lambda s: s.replace('-', 'less'))\n",
    "        df[column_name] = df[column_name].map(lambda s: s.replace('+', 'plus '))\n",
    "        df[column_name] = df[column_name].map(lambda s: s.replace('%', ' percent'))\n",
    "        df[column_name] = df[column_name].map(lambda s: removeStopwords(s, stop_words))\n",
    "\n",
    "    else:\n",
    "        pass\n",
    "\n",
    "    df[column_name] = df[column_name].map(lambda s: s.replace('R$', ''))\n",
    "    df[column_name] = df[column_name].map(lambda s: s.replace('U$', ''))\n",
    "    df[column_name] = df[column_name].map(lambda s: s.replace('US$', ''))\n",
    "    df[column_name] = df[column_name].map(lambda s: s.replace('S&P 500', 'spx'))\n",
    "\n",
    "    # Transformar em String e Letras Minúsculas nas Mensagens\n",
    "    df[column_name] = df[column_name].map(lambda s:\n",
    "                                              normalizarString(s))\n",
    "\n",
    "    # Remover Pontuações\n",
    "    # Remover Pontuações\n",
    "    df[column_name] = df[column_name].map(lambda s: s.translate(str.maketrans('', '', string.punctuation)))\n",
    "\n",
    "    # Remover Emojis\n",
    "    df[column_name] = df[column_name].map(lambda s: removeEmojis(s))\n",
    "\n",
    "    # Quebras de Linha desnecessárias\n",
    "    df[column_name] = df[column_name].map(lambda s: s.replace('\\n', ' '))\n",
    "\n",
    "    # Remover aspas duplas\n",
    "    df[column_name] = df[column_name].map(lambda s: s.replace('\\\"', ''))\n",
    "    df[column_name] = df[column_name].map(lambda s: s.replace('“', ''))\n",
    "    df[column_name] = df[column_name].map(lambda s: s.replace('”', ''))\n",
    "\n",
    "    # Remover valores\n",
    "    df[column_name] = df[column_name].map(lambda s: removeValores(s))\n",
    "\n",
    "    # Espaços desnecessários\n",
    "    df[column_name] = df[column_name].map(lambda s: s.strip())\n",
    "    return df\n",
    "\n",
    "def removeEmojis(sentence):\n",
    "    \"Remoção de Emojis nas mensagens de texto.\"\n",
    "\n",
    "    # Padrões dos Emojis\n",
    "    emoji_pattern = re.compile(\"[\"\n",
    "                               u\"\\U0001F600-\\U0001F64F\"  # emoticons\n",
    "                               u\"\\U0001F300-\\U0001F5FF\"  # symbols & pictographs\n",
    "                               u\"\\U0001F680-\\U0001F6FF\"  # transport & map symbols\n",
    "                               u\"\\U0001F1E0-\\U0001F1FF\"  # flags (iOS)\n",
    "                               u\"\\U00002702-\\U000027B0\"\n",
    "                               u\"\\U000024C2-\\U0001F251\"\n",
    "                               u\"\\U0001f926-\\U0001f937\"\n",
    "                               u'\\U00010000-\\U0010ffff'\n",
    "                               u\"\\u200d\"\n",
    "                               u\"\\u2640-\\u2642\"\n",
    "                               u\"\\u2600-\\u2B55\"\n",
    "                               u\"\\u23cf\"\n",
    "                               u\"\\u23e9\"\n",
    "                               u\"\\u231a\"\n",
    "                               u\"\\u3030\"\n",
    "                               u\"\\ufe0f\"\n",
    "                               \"]+\", flags=re.UNICODE)\n",
    "\n",
    "    return emoji_pattern.sub(r'', sentence)\n",
    "\n",
    "def removeValores(sentence):\n",
    "    new_sentece = ''\n",
    "\n",
    "    for token in sentence.split():\n",
    "        if token.isdigit():\n",
    "            token = '<NUM>'\n",
    "        new_sentece += ' {}'.format(token)\n",
    "\n",
    "    return new_sentece\n",
    "\n",
    "def usingStopwords(language):\n",
    "    stop_words = []\n",
    "\n",
    "    nltk.download('stopwords')\n",
    "\n",
    "    if language == 'pt':\n",
    "        stop_words = nltk.corpus.stopwords.words('portuguese')\n",
    "    elif language == 'en':\n",
    "        stop_words = nltk.corpus.stopwords.words('english')\n",
    "\n",
    "    return stop_words\n",
    "\n",
    "def removeStopwords(text, stop_words):\n",
    "    tokens = []\n",
    "    for word in text.split():\n",
    "        if word not in stop_words:\n",
    "            tokens.append(word)\n",
    "\n",
    "    text = ' '.join(tokens)\n",
    "    return text\n",
    "\n",
    "def normalizarString(text):\n",
    "    \"\"\"\n",
    "    Função para retirar acentuações e converter para minúscula\n",
    "    :param text:\n",
    "    :return text_normalizado\n",
    "    \"\"\"\n",
    "    import unicodedata\n",
    "\n",
    "    text = unicodedata.normalize('NFD', text).encode('ascii', 'ignore').decode(\"utf-8\")\n",
    "    return str(text.lower())"
   ],
   "metadata": {
    "collapsed": false
   }
  },
  {
   "cell_type": "markdown",
   "source": [
    "## Preparing test data"
   ],
   "metadata": {
    "collapsed": false
   }
  },
  {
   "cell_type": "code",
   "execution_count": 47,
   "outputs": [],
   "source": [
    "train_preprocessed = pd.read_csv('../../assets/data/train/preprocessed.csv')\n",
    "X_train = train_preprocessed.title"
   ],
   "metadata": {
    "collapsed": false
   }
  },
  {
   "cell_type": "code",
   "execution_count": 48,
   "outputs": [
    {
     "data": {
      "text/plain": "                                                  title  \\\n0     Gasolina cai ao menor valor em quase 3 anos no...   \n1     Radar: Petrobras (PETR4) atualiza dividendos, ...   \n2         Justiça mineira bloqueia R$ 5 bilhões da Vale   \n3     Bolsonaro não quer e não pode intervir em preç...   \n4     BofA eleva preço-alvo da Petrobras (PETR4) ao ...   \n...                                                 ...   \n1191  Etanol: como no boi, mesmo com consumo fraco p...   \n1192  Petrobras reporta emissão de gases em refinari...   \n1193        Petrobras não precisará republicar balanços   \n1194  Petrobras deve receber ofertas por refinaria d...   \n1195  Conselho decide incluir novas áreas em leilões...   \n\n                                                   tags  \\\n0     ['Cepea', 'Combustíveis', 'Coronavírus', 'Econ...   \n1     ['Petrobras (PETR4)', 'CVC (CVCB3)', 'Embraer ...   \n2                     ['Empresas', 'Mineração', 'Vale']   \n3     ['Combustíveis', 'Diesel', 'Economia', 'Jair B...   \n4     ['Bank Of America (BOAC34)', 'PETR3', 'Petrobr...   \n...                                                 ...   \n1191  ['Açúcar', 'Agro Times', 'Cepea', 'Etanol', 'G...   \n1192                          ['Empresas', 'Petrobras']   \n1193                   ['CVM', 'Empresas', 'Petrobras']   \n1194  ['Bahia', 'Emirados Árabes Unidos', 'Empresas'...   \n1195  ['Economia', 'Empresas', 'Petrobras', 'Petróleo']   \n\n                                                   link  label  \n0     https://www.moneytimes.com.br/gasolina-cai-ao-...      0  \n1     https://www.suno.com.br/noticias/radar-petrobr...      0  \n2     https://www.moneytimes.com.br/justica-mineira-...      1  \n3     https://www.moneytimes.com.br/bolsonaro-nao-qu...      0  \n4     https://www.suno.com.br/noticias/bofa-eleva-pr...      0  \n...                                                 ...    ...  \n1191  https://www.moneytimes.com.br/etanol-como-no-b...      0  \n1192  https://www.moneytimes.com.br/petrobras-report...      0  \n1193  https://www.moneytimes.com.br/petrobras-nao-pr...      0  \n1194  https://www.moneytimes.com.br/petrobras-deve-r...      0  \n1195  https://www.moneytimes.com.br/conselho-decide-...      0  \n\n[1196 rows x 4 columns]",
      "text/html": "<div>\n<style scoped>\n    .dataframe tbody tr th:only-of-type {\n        vertical-align: middle;\n    }\n\n    .dataframe tbody tr th {\n        vertical-align: top;\n    }\n\n    .dataframe thead th {\n        text-align: right;\n    }\n</style>\n<table border=\"1\" class=\"dataframe\">\n  <thead>\n    <tr style=\"text-align: right;\">\n      <th></th>\n      <th>title</th>\n      <th>tags</th>\n      <th>link</th>\n      <th>label</th>\n    </tr>\n  </thead>\n  <tbody>\n    <tr>\n      <th>0</th>\n      <td>Gasolina cai ao menor valor em quase 3 anos no...</td>\n      <td>['Cepea', 'Combustíveis', 'Coronavírus', 'Econ...</td>\n      <td>https://www.moneytimes.com.br/gasolina-cai-ao-...</td>\n      <td>0</td>\n    </tr>\n    <tr>\n      <th>1</th>\n      <td>Radar: Petrobras (PETR4) atualiza dividendos, ...</td>\n      <td>['Petrobras (PETR4)', 'CVC (CVCB3)', 'Embraer ...</td>\n      <td>https://www.suno.com.br/noticias/radar-petrobr...</td>\n      <td>0</td>\n    </tr>\n    <tr>\n      <th>2</th>\n      <td>Justiça mineira bloqueia R$ 5 bilhões da Vale</td>\n      <td>['Empresas', 'Mineração', 'Vale']</td>\n      <td>https://www.moneytimes.com.br/justica-mineira-...</td>\n      <td>1</td>\n    </tr>\n    <tr>\n      <th>3</th>\n      <td>Bolsonaro não quer e não pode intervir em preç...</td>\n      <td>['Combustíveis', 'Diesel', 'Economia', 'Jair B...</td>\n      <td>https://www.moneytimes.com.br/bolsonaro-nao-qu...</td>\n      <td>0</td>\n    </tr>\n    <tr>\n      <th>4</th>\n      <td>BofA eleva preço-alvo da Petrobras (PETR4) ao ...</td>\n      <td>['Bank Of America (BOAC34)', 'PETR3', 'Petrobr...</td>\n      <td>https://www.suno.com.br/noticias/bofa-eleva-pr...</td>\n      <td>0</td>\n    </tr>\n    <tr>\n      <th>...</th>\n      <td>...</td>\n      <td>...</td>\n      <td>...</td>\n      <td>...</td>\n    </tr>\n    <tr>\n      <th>1191</th>\n      <td>Etanol: como no boi, mesmo com consumo fraco p...</td>\n      <td>['Açúcar', 'Agro Times', 'Cepea', 'Etanol', 'G...</td>\n      <td>https://www.moneytimes.com.br/etanol-como-no-b...</td>\n      <td>0</td>\n    </tr>\n    <tr>\n      <th>1192</th>\n      <td>Petrobras reporta emissão de gases em refinari...</td>\n      <td>['Empresas', 'Petrobras']</td>\n      <td>https://www.moneytimes.com.br/petrobras-report...</td>\n      <td>0</td>\n    </tr>\n    <tr>\n      <th>1193</th>\n      <td>Petrobras não precisará republicar balanços</td>\n      <td>['CVM', 'Empresas', 'Petrobras']</td>\n      <td>https://www.moneytimes.com.br/petrobras-nao-pr...</td>\n      <td>0</td>\n    </tr>\n    <tr>\n      <th>1194</th>\n      <td>Petrobras deve receber ofertas por refinaria d...</td>\n      <td>['Bahia', 'Emirados Árabes Unidos', 'Empresas'...</td>\n      <td>https://www.moneytimes.com.br/petrobras-deve-r...</td>\n      <td>0</td>\n    </tr>\n    <tr>\n      <th>1195</th>\n      <td>Conselho decide incluir novas áreas em leilões...</td>\n      <td>['Economia', 'Empresas', 'Petrobras', 'Petróleo']</td>\n      <td>https://www.moneytimes.com.br/conselho-decide-...</td>\n      <td>0</td>\n    </tr>\n  </tbody>\n</table>\n<p>1196 rows × 4 columns</p>\n</div>"
     },
     "execution_count": 48,
     "metadata": {},
     "output_type": "execute_result"
    }
   ],
   "source": [
    "test_raw = pd.read_csv('../../assets/data/test/raw.csv')\n",
    "test_raw"
   ],
   "metadata": {
    "collapsed": false
   }
  },
  {
   "cell_type": "code",
   "execution_count": 60,
   "outputs": [
    {
     "name": "stderr",
     "output_type": "stream",
     "text": [
      "[nltk_data] Downloading package stopwords to\n",
      "[nltk_data]     C:\\Users\\guimi\\AppData\\Roaming\\nltk_data...\n",
      "[nltk_data]   Package stopwords is already up-to-date!\n"
     ]
    }
   ],
   "source": [
    "test_preprocessed = transformDocument(test_raw, 'title', 'pt')\n",
    "\n",
    "X_test = test_preprocessed.title\n",
    "y_test = test_preprocessed.to_numpy()[:, -1]\n",
    "\n",
    "test_sequences = tokenizer.texts_to_sequences(X_test)\n",
    "test_padded = pad_sequences(test_sequences, maxlen=11, padding='post', truncating='post')\n"
   ],
   "metadata": {
    "collapsed": false
   }
  },
  {
   "cell_type": "code",
   "execution_count": 50,
   "outputs": [
    {
     "data": {
      "text/plain": "array([[  26,   54,  260, ...,    7,  775,  692],\n       [  87,    3,    8, ...,  151,  514,  626],\n       [ 110, 3122, 1544, ...,    0,    0,    0],\n       ...,\n       [   3, 5548,    1, ...,    0,    0,    0],\n       [   3,   63,  714, ...,   20,  315,    0],\n       [  97,  649, 6576, ...,    0,    0,    0]])"
     },
     "execution_count": 50,
     "metadata": {},
     "output_type": "execute_result"
    }
   ],
   "source": [
    "test_padded"
   ],
   "metadata": {
    "collapsed": false
   }
  },
  {
   "cell_type": "markdown",
   "source": [
    "### Functions"
   ],
   "metadata": {
    "collapsed": false
   }
  },
  {
   "cell_type": "code",
   "execution_count": 51,
   "outputs": [],
   "source": [
    "def index2word(word_index):\n",
    "    index_word = {}\n",
    "    for key in word_index:\n",
    "        index_word[word_index[key]] = key\n",
    "    return index_word\n",
    "\n",
    "\n",
    "def seq2text(seq, index_word):\n",
    "    text = []\n",
    "    for index in seq:\n",
    "        text.append(index_word[index])\n",
    "    return text\n",
    "\n",
    "def show_confusion_matrix(cm):\n",
    "        print(\"Confusion Matrix\")\n",
    "        plt.figure(figsize=(10, 7))\n",
    "\n",
    "        sns.heatmap(cm, annot=True, fmt='d', cmap='Blues', xticklabels=['Negative', 'Positive'],\n",
    "                    yticklabels=['Negative', 'Positive'])\n",
    "        plt.xlabel('Predicted')\n",
    "        plt.ylabel('Truth')\n",
    "        plt.title('Confusion Matrix')\n",
    "        plt.show()"
   ],
   "metadata": {
    "collapsed": false
   }
  },
  {
   "cell_type": "code",
   "execution_count": 52,
   "outputs": [],
   "source": [
    "index_word = index2word(word_index)"
   ],
   "metadata": {
    "collapsed": false
   }
  },
  {
   "cell_type": "code",
   "execution_count": 53,
   "outputs": [
    {
     "name": "stdout",
     "output_type": "stream",
     "text": [
      "38/38 [==============================] - 2s 8ms/step\n"
     ]
    }
   ],
   "source": [
    "pred_prob = model.predict(test_padded)"
   ],
   "metadata": {
    "collapsed": false
   }
  },
  {
   "cell_type": "code",
   "execution_count": 54,
   "outputs": [],
   "source": [
    "# y_pred = [1 if p > 0.5 else 0 for p in pred_prob]\n"
   ],
   "metadata": {
    "collapsed": false
   }
  },
  {
   "cell_type": "code",
   "execution_count": 55,
   "outputs": [],
   "source": [
    "y_pred = np.argmax(pred_prob, axis=1)"
   ],
   "metadata": {
    "collapsed": false
   }
  },
  {
   "cell_type": "code",
   "execution_count": 58,
   "outputs": [
    {
     "data": {
      "text/plain": "array([0, 0, 1, ..., 0, 0, 0], dtype=object)"
     },
     "execution_count": 58,
     "metadata": {},
     "output_type": "execute_result"
    }
   ],
   "source": [
    "y_test"
   ],
   "metadata": {
    "collapsed": false
   }
  },
  {
   "cell_type": "code",
   "execution_count": 63,
   "outputs": [
    {
     "data": {
      "text/plain": "                                               sequence  \\\n0          [26, 54, 260, 94, 146, 145, 20, 7, 775, 692]   \n1     [87, 3, 8, 292, 18, 373, 410, 656, 151, 514, 6...   \n2                              [110, 3122, 1544, 30, 4]   \n3                      [50, 106, 33, 2397, 47, 7, 1, 1]   \n4     [484, 68, 181, 129, 3, 8, 1226, 791, 1695, 628...   \n...                                                 ...   \n1191          [96, 7897, 731, 3057, 28, 45, 1, 71, 258]   \n1192                      [3, 1, 391, 1, 177, 978, 124]   \n1193                                  [3, 5548, 1, 481]   \n1194      [3, 63, 714, 634, 177, 237, 322, 75, 20, 315]   \n1195                 [97, 649, 6576, 186, 597, 555, 22]   \n\n                                                 X_test  \\\n0     gasolina cai menor valor quase anos brasil diz...   \n1     radar petrobras petr4 atualiza dividendos prej...   \n2                 justica mineira bloqueia bilhoes vale   \n3     bolsonaro quer pode intervir precos diz portam...   \n4     bofa eleva precomenos alvo petrobras petr4 ver...   \n...                                                 ...   \n1191  etanol boi consumo fraco preco sobe origem ofe...   \n1192  petrobras reporta emissao gases refinaria pasa...   \n1193            petrobras precisara republicar balancos   \n1194  petrobras deve receber ofertas refinaria bahia...   \n1195  conselho decide incluir novas areas leiloes pe...   \n\n                                               seq2text  y_pred  y_true  \n0     [gasolina, cai, menor, valor, quase, anos, bra...       1       0  \n1     [radar, petrobras, petr4, atualiza, dividendos...       0       0  \n2           [justica, mineira, bloqueia, bilhoes, vale]       1       1  \n3     [bolsonaro, quer, pode, intervir, precos, diz,...       2       0  \n4     [bofa, eleva, precomenos, alvo, petrobras, pet...       0       0  \n...                                                 ...     ...     ...  \n1191  [etanol, boi, consumo, fraco, preco, sobe, <OO...       0       0  \n1192  [petrobras, <OOV>, emissao, <OOV>, refinaria, ...       0       0  \n1193            [petrobras, precisara, <OOV>, balancos]       0       0  \n1194  [petrobras, deve, receber, ofertas, refinaria,...       0       0  \n1195  [conselho, decide, incluir, novas, areas, leil...       1       0  \n\n[1196 rows x 5 columns]",
      "text/html": "<div>\n<style scoped>\n    .dataframe tbody tr th:only-of-type {\n        vertical-align: middle;\n    }\n\n    .dataframe tbody tr th {\n        vertical-align: top;\n    }\n\n    .dataframe thead th {\n        text-align: right;\n    }\n</style>\n<table border=\"1\" class=\"dataframe\">\n  <thead>\n    <tr style=\"text-align: right;\">\n      <th></th>\n      <th>sequence</th>\n      <th>X_test</th>\n      <th>seq2text</th>\n      <th>y_pred</th>\n      <th>y_true</th>\n    </tr>\n  </thead>\n  <tbody>\n    <tr>\n      <th>0</th>\n      <td>[26, 54, 260, 94, 146, 145, 20, 7, 775, 692]</td>\n      <td>gasolina cai menor valor quase anos brasil diz...</td>\n      <td>[gasolina, cai, menor, valor, quase, anos, bra...</td>\n      <td>1</td>\n      <td>0</td>\n    </tr>\n    <tr>\n      <th>1</th>\n      <td>[87, 3, 8, 292, 18, 373, 410, 656, 151, 514, 6...</td>\n      <td>radar petrobras petr4 atualiza dividendos prej...</td>\n      <td>[radar, petrobras, petr4, atualiza, dividendos...</td>\n      <td>0</td>\n      <td>0</td>\n    </tr>\n    <tr>\n      <th>2</th>\n      <td>[110, 3122, 1544, 30, 4]</td>\n      <td>justica mineira bloqueia bilhoes vale</td>\n      <td>[justica, mineira, bloqueia, bilhoes, vale]</td>\n      <td>1</td>\n      <td>1</td>\n    </tr>\n    <tr>\n      <th>3</th>\n      <td>[50, 106, 33, 2397, 47, 7, 1, 1]</td>\n      <td>bolsonaro quer pode intervir precos diz portam...</td>\n      <td>[bolsonaro, quer, pode, intervir, precos, diz,...</td>\n      <td>2</td>\n      <td>0</td>\n    </tr>\n    <tr>\n      <th>4</th>\n      <td>[484, 68, 181, 129, 3, 8, 1226, 791, 1695, 628...</td>\n      <td>bofa eleva precomenos alvo petrobras petr4 ver...</td>\n      <td>[bofa, eleva, precomenos, alvo, petrobras, pet...</td>\n      <td>0</td>\n      <td>0</td>\n    </tr>\n    <tr>\n      <th>...</th>\n      <td>...</td>\n      <td>...</td>\n      <td>...</td>\n      <td>...</td>\n      <td>...</td>\n    </tr>\n    <tr>\n      <th>1191</th>\n      <td>[96, 7897, 731, 3057, 28, 45, 1, 71, 258]</td>\n      <td>etanol boi consumo fraco preco sobe origem ofe...</td>\n      <td>[etanol, boi, consumo, fraco, preco, sobe, &lt;OO...</td>\n      <td>0</td>\n      <td>0</td>\n    </tr>\n    <tr>\n      <th>1192</th>\n      <td>[3, 1, 391, 1, 177, 978, 124]</td>\n      <td>petrobras reporta emissao gases refinaria pasa...</td>\n      <td>[petrobras, &lt;OOV&gt;, emissao, &lt;OOV&gt;, refinaria, ...</td>\n      <td>0</td>\n      <td>0</td>\n    </tr>\n    <tr>\n      <th>1193</th>\n      <td>[3, 5548, 1, 481]</td>\n      <td>petrobras precisara republicar balancos</td>\n      <td>[petrobras, precisara, &lt;OOV&gt;, balancos]</td>\n      <td>0</td>\n      <td>0</td>\n    </tr>\n    <tr>\n      <th>1194</th>\n      <td>[3, 63, 714, 634, 177, 237, 322, 75, 20, 315]</td>\n      <td>petrobras deve receber ofertas refinaria bahia...</td>\n      <td>[petrobras, deve, receber, ofertas, refinaria,...</td>\n      <td>0</td>\n      <td>0</td>\n    </tr>\n    <tr>\n      <th>1195</th>\n      <td>[97, 649, 6576, 186, 597, 555, 22]</td>\n      <td>conselho decide incluir novas areas leiloes pe...</td>\n      <td>[conselho, decide, incluir, novas, areas, leil...</td>\n      <td>1</td>\n      <td>0</td>\n    </tr>\n  </tbody>\n</table>\n<p>1196 rows × 5 columns</p>\n</div>"
     },
     "execution_count": 63,
     "metadata": {},
     "output_type": "execute_result"
    }
   ],
   "source": [
    "df_results = pd.DataFrame()\n",
    "X_test = list(X_test)\n",
    "y_test = list(y_test)\n",
    "df_results['sequence'] = test_sequences\n",
    "df_results['X_test'] = X_test\n",
    "df_results['seq2text'] = df_results['sequence'].apply(lambda x: seq2text(x, index_word))\n",
    "df_results['y_pred'] = y_pred\n",
    "df_results['y_true'] = y_test\n",
    "df_results"
   ],
   "metadata": {
    "collapsed": false
   }
  },
  {
   "cell_type": "markdown",
   "source": [
    "### Metrics"
   ],
   "metadata": {
    "collapsed": false
   }
  },
  {
   "cell_type": "code",
   "execution_count": 68,
   "outputs": [],
   "source": [
    "# accuracy = accuracy_score(y_true=y_test, y_pred=y_pred)\n",
    "# precision = precision_score(average='macro', y_true=y_test, y_pred=y_pred)\n",
    "# recall = recall_score(average='macro', y_true=y_test, y_pred=y_pred)\n",
    "# f1 = f1_score(average='macro', y_true=y_test, y_pred=y_pred)\n",
    "cm = confusion_matrix(y_true=y_test, y_pred=y_pred)"
   ],
   "metadata": {
    "collapsed": false
   }
  },
  {
   "cell_type": "code",
   "execution_count": 65,
   "outputs": [
    {
     "name": "stdout",
     "output_type": "stream",
     "text": [
      "              precision    recall  f1-score   support\n",
      "\n",
      "           0       0.74      0.79      0.76       596\n",
      "           1       0.68      0.69      0.68       388\n",
      "           2       0.56      0.45      0.50       212\n",
      "\n",
      "    accuracy                           0.69      1196\n",
      "   macro avg       0.66      0.64      0.65      1196\n",
      "weighted avg       0.69      0.69      0.69      1196\n",
      "\n",
      "Confusion Matrix\n"
     ]
    },
    {
     "data": {
      "text/plain": "<Figure size 1000x700 with 2 Axes>",
      "image/png": "[encoded data removed]"
     },
     "metadata": {},
     "output_type": "display_data"
    }
   ],
   "source": [
    "print(classification_report(y_test,y_pred))\n",
    "show_confusion_matrix(cm)"
   ],
   "metadata": {
    "collapsed": false
   }
  }
 ],
 "metadata": {
  "kernelspec": {
   "display_name": "Python 3",
   "language": "python",
   "name": "python3"
  },
  "language_info": {
   "codemirror_mode": {
    "name": "ipython",
    "version": 2
   },
   "file_extension": ".py",
   "mimetype": "text/x-python",
   "name": "python",
   "nbconvert_exporter": "python",
   "pygments_lexer": "ipython2",
   "version": "2.7.6"
  }
 },
 "nbformat": 4,
 "nbformat_minor": 0
}
