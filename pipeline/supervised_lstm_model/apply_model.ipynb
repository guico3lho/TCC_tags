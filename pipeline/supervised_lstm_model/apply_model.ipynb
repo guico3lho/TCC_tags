{
 "cells": [
  {
   "cell_type": "markdown",
   "source": [
    "## Packages and Assets"
   ],
   "metadata": {
    "collapsed": false
   }
  },
  {
   "cell_type": "code",
   "execution_count": 3,
   "outputs": [],
   "source": [
    "import keras.models\n",
    "from sklearn.metrics import accuracy_score, precision_score, recall_score, f1_score, confusion_matrix, classification_report\n",
    "\n",
    "import seaborn as sns\n",
    "import json\n",
    "import matplotlib.pyplot as plt\n",
    "import numpy as np\n",
    "\n",
    "from keras.preprocessing.text import tokenizer_from_json\n",
    "\n",
    "from keras.utils import pad_sequences\n",
    "import pandas as pd\n",
    "import re\n",
    "import string\n",
    "import nltk\n"
   ],
   "metadata": {
    "collapsed": false
   }
  },
  {
   "cell_type": "code",
   "execution_count": 4,
   "outputs": [
    {
     "name": "stdout",
     "output_type": "stream",
     "text": [
      "Model: \"sequential_1\"\n",
      "_________________________________________________________________\n",
      " Layer (type)                Output Shape              Param #   \n",
      "=================================================================\n",
      " embedding_1 (Embedding)     (None, 11, 300)           2403000   \n",
      "                                                                 \n",
      " bidirectional_2 (Bidirectio  (None, 11, 128)          186880    \n",
      " nal)                                                            \n",
      "                                                                 \n",
      " bidirectional_3 (Bidirectio  (None, 128)              98816     \n",
      " nal)                                                            \n",
      "                                                                 \n",
      " dense_2 (Dense)             (None, 32)                4128      \n",
      "                                                                 \n",
      " dense_3 (Dense)             (None, 3)                 99        \n",
      "                                                                 \n",
      "=================================================================\n",
      "Total params: 2,692,923\n",
      "Trainable params: 289,923\n",
      "Non-trainable params: 2,403,000\n",
      "_________________________________________________________________\n"
     ]
    }
   ],
   "source": [
    "model = keras.models.load_model('../../assets/lstm_model')\n",
    "model.summary()"
   ],
   "metadata": {
    "collapsed": false
   }
  },
  {
   "cell_type": "code",
   "execution_count": 5,
   "outputs": [],
   "source": [
    "with open('../../assets/word_index.json', 'r') as f:\n",
    "    word_index = json.load(f)\n",
    "    word_index = dict(word_index)"
   ],
   "metadata": {
    "collapsed": false
   }
  },
  {
   "cell_type": "code",
   "execution_count": 6,
   "outputs": [],
   "source": [
    "# Load the tokenizer from the file\n",
    "with open('../../assets/tokenizer.json', 'r', encoding='utf-8') as f:\n",
    "    tokenizer_json = f.read()\n",
    "    tokenizer = tokenizer_from_json(tokenizer_json)"
   ],
   "metadata": {
    "collapsed": false
   }
  },
  {
   "cell_type": "markdown",
   "source": [],
   "metadata": {
    "collapsed": false
   }
  },
  {
   "cell_type": "markdown",
   "source": [
    "## Functions"
   ],
   "metadata": {
    "collapsed": false
   }
  },
  {
   "cell_type": "code",
   "execution_count": 7,
   "outputs": [],
   "source": [
    "def transformDocument(df, column_name, language):\n",
    "    stop_words = usingStopwords(language)\n",
    "    # 1. Aplicar preprocessamento nos títulos e textos completos\n",
    "    if language == 'pt':\n",
    "        # Substituir símbolos importantes\n",
    "        df[column_name] = df[column_name].map(lambda s: s.replace('-feira', ''))\n",
    "        df[column_name] = df[column_name].map(lambda s: s.replace('+', 'mais '))\n",
    "        df[column_name] = df[column_name].map(lambda s: s.replace('-', 'menos '))\n",
    "        df[column_name] = df[column_name].map(lambda s: s.replace('%', ' por cento'))\n",
    "        df[column_name] = df[column_name].map(lambda s: removeStopwords(s, stop_words))\n",
    "\n",
    "    elif language == 'en':\n",
    "        df[column_name] = df[column_name].map(lambda s: s.replace('-', 'less'))\n",
    "        df[column_name] = df[column_name].map(lambda s: s.replace('+', 'plus '))\n",
    "        df[column_name] = df[column_name].map(lambda s: s.replace('%', ' percent'))\n",
    "        df[column_name] = df[column_name].map(lambda s: removeStopwords(s, stop_words))\n",
    "\n",
    "    else:\n",
    "        pass\n",
    "\n",
    "    df[column_name] = df[column_name].map(lambda s: s.replace('R$', ''))\n",
    "    df[column_name] = df[column_name].map(lambda s: s.replace('U$', ''))\n",
    "    df[column_name] = df[column_name].map(lambda s: s.replace('US$', ''))\n",
    "    df[column_name] = df[column_name].map(lambda s: s.replace('S&P 500', 'spx'))\n",
    "\n",
    "    # Transformar em String e Letras Minúsculas nas Mensagens\n",
    "    df[column_name] = df[column_name].map(lambda s:\n",
    "                                              normalizarString(s))\n",
    "\n",
    "    # Remover Pontuações\n",
    "    # Remover Pontuações\n",
    "    df[column_name] = df[column_name].map(lambda s: s.translate(str.maketrans('', '', string.punctuation)))\n",
    "\n",
    "    # Remover Emojis\n",
    "    df[column_name] = df[column_name].map(lambda s: removeEmojis(s))\n",
    "\n",
    "    # Quebras de Linha desnecessárias\n",
    "    df[column_name] = df[column_name].map(lambda s: s.replace('\\n', ' '))\n",
    "\n",
    "    # Remover aspas duplas\n",
    "    df[column_name] = df[column_name].map(lambda s: s.replace('\\\"', ''))\n",
    "    df[column_name] = df[column_name].map(lambda s: s.replace('“', ''))\n",
    "    df[column_name] = df[column_name].map(lambda s: s.replace('”', ''))\n",
    "\n",
    "    # Remover valores\n",
    "    df[column_name] = df[column_name].map(lambda s: removeValores(s))\n",
    "\n",
    "    # Espaços desnecessários\n",
    "    df[column_name] = df[column_name].map(lambda s: s.strip())\n",
    "    return df\n",
    "\n",
    "def removeEmojis(sentence):\n",
    "    \"Remoção de Emojis nas mensagens de texto.\"\n",
    "\n",
    "    # Padrões dos Emojis\n",
    "    emoji_pattern = re.compile(\"[\"\n",
    "                               u\"\\U0001F600-\\U0001F64F\"  # emoticons\n",
    "                               u\"\\U0001F300-\\U0001F5FF\"  # symbols & pictographs\n",
    "                               u\"\\U0001F680-\\U0001F6FF\"  # transport & map symbols\n",
    "                               u\"\\U0001F1E0-\\U0001F1FF\"  # flags (iOS)\n",
    "                               u\"\\U00002702-\\U000027B0\"\n",
    "                               u\"\\U000024C2-\\U0001F251\"\n",
    "                               u\"\\U0001f926-\\U0001f937\"\n",
    "                               u'\\U00010000-\\U0010ffff'\n",
    "                               u\"\\u200d\"\n",
    "                               u\"\\u2640-\\u2642\"\n",
    "                               u\"\\u2600-\\u2B55\"\n",
    "                               u\"\\u23cf\"\n",
    "                               u\"\\u23e9\"\n",
    "                               u\"\\u231a\"\n",
    "                               u\"\\u3030\"\n",
    "                               u\"\\ufe0f\"\n",
    "                               \"]+\", flags=re.UNICODE)\n",
    "\n",
    "    return emoji_pattern.sub(r'', sentence)\n",
    "\n",
    "def removeValores(sentence):\n",
    "    new_sentece = ''\n",
    "\n",
    "    for token in sentence.split():\n",
    "        if token.isdigit():\n",
    "            token = '<NUM>'\n",
    "        new_sentece += ' {}'.format(token)\n",
    "\n",
    "    return new_sentece\n",
    "\n",
    "def usingStopwords(language):\n",
    "    stop_words = []\n",
    "\n",
    "    nltk.download('stopwords')\n",
    "\n",
    "    if language == 'pt':\n",
    "        stop_words = nltk.corpus.stopwords.words('portuguese')\n",
    "    elif language == 'en':\n",
    "        stop_words = nltk.corpus.stopwords.words('english')\n",
    "\n",
    "    return stop_words\n",
    "\n",
    "def removeStopwords(text, stop_words):\n",
    "    tokens = []\n",
    "    for word in text.split():\n",
    "        if word not in stop_words:\n",
    "            tokens.append(word)\n",
    "\n",
    "    text = ' '.join(tokens)\n",
    "    return text\n",
    "\n",
    "def normalizarString(text):\n",
    "    \"\"\"\n",
    "    Função para retirar acentuações e converter para minúscula\n",
    "    :param text:\n",
    "    :return text_normalizado\n",
    "    \"\"\"\n",
    "    import unicodedata\n",
    "\n",
    "    text = unicodedata.normalize('NFD', text).encode('ascii', 'ignore').decode(\"utf-8\")\n",
    "    return str(text.lower())"
   ],
   "metadata": {
    "collapsed": false
   }
  },
  {
   "cell_type": "markdown",
   "source": [
    "## Loading test data"
   ],
   "metadata": {
    "collapsed": false
   }
  },
  {
   "cell_type": "code",
   "execution_count": 8,
   "outputs": [
    {
     "data": {
      "text/plain": "                                                  title  \\\n0     Ex-diretor da Petrobras (PETR4) assume presidê...   \n1     Petrobras (PETR4): XP eleva o preço-alvo após ...   \n2     Vale: benefícios de nova governança independem...   \n3     Produção de minério de ferro da Vale soma 89,4...   \n4     Petrobras irá vender Braskem e BR Distribuidor...   \n...                                                 ...   \n1191  Gerdau anuncia programa de recompra de até 6 m...   \n1192  CEO da Petrobras critica atividades “terrorist...   \n1193  “Comprar a queda” é o lema para ação da Petrob...   \n1194  Petrobras (PETR4): Cade aprova venda de partic...   \n1195  Petrobras exerce direito em Sépia, leva Atapu ...   \n\n                                                   tags  \\\n0                        ['PETR3', 'Petrobras (PETR4)']   \n1     ['Especialistas', 'Petrobras (PETR4)', 'XP Inv...   \n2                                  ['Empresas', 'Vale']   \n3     ['Brumadinho', 'Commodities', 'Empresas', 'Min...   \n4     ['BR Distribuidora', 'Braskem', 'Empresas', 'P...   \n...                                                 ...   \n1191  ['Ações', 'BTG Pactual', 'Gerdau', 'Itaú Uniba...   \n1192  ['Empresas', 'Greve', 'Petrobras', 'Petróleo',...   \n1193        ['Citi', 'Comprar ou vender?', 'Petrobras']   \n1194                  ['Petrobras (PETR4)', 'Petróleo']   \n1195  ['Combustíveis', 'Commodities', 'Empresas', 'L...   \n\n                                                   link  label  \n0     https://www.suno.com.br/noticias/ex-diretor-pe...      0  \n1     https://www.suno.com.br/noticias/petrobras-pet...      0  \n2     https://www.moneytimes.com.br/vale-beneficios-...      1  \n3     https://www.moneytimes.com.br/producao-de-mine...      1  \n4     https://www.moneytimes.com.br/petrobras-ira-ve...      0  \n...                                                 ...    ...  \n1191  https://www.moneytimes.com.br/gerdau-anuncia-p...      2  \n1192  https://www.moneytimes.com.br/ceo-da-petrobras...      0  \n1193  https://www.moneytimes.com.br/comprar-a-queda-...      0  \n1194  https://www.suno.com.br/noticias/petrobras-pet...      0  \n1195  https://www.moneytimes.com.br/petrobras-exerce...      0  \n\n[1196 rows x 4 columns]",
      "text/html": "<div>\n<style scoped>\n    .dataframe tbody tr th:only-of-type {\n        vertical-align: middle;\n    }\n\n    .dataframe tbody tr th {\n        vertical-align: top;\n    }\n\n    .dataframe thead th {\n        text-align: right;\n    }\n</style>\n<table border=\"1\" class=\"dataframe\">\n  <thead>\n    <tr style=\"text-align: right;\">\n      <th></th>\n      <th>title</th>\n      <th>tags</th>\n      <th>link</th>\n      <th>label</th>\n    </tr>\n  </thead>\n  <tbody>\n    <tr>\n      <th>0</th>\n      <td>Ex-diretor da Petrobras (PETR4) assume presidê...</td>\n      <td>['PETR3', 'Petrobras (PETR4)']</td>\n      <td>https://www.suno.com.br/noticias/ex-diretor-pe...</td>\n      <td>0</td>\n    </tr>\n    <tr>\n      <th>1</th>\n      <td>Petrobras (PETR4): XP eleva o preço-alvo após ...</td>\n      <td>['Especialistas', 'Petrobras (PETR4)', 'XP Inv...</td>\n      <td>https://www.suno.com.br/noticias/petrobras-pet...</td>\n      <td>0</td>\n    </tr>\n    <tr>\n      <th>2</th>\n      <td>Vale: benefícios de nova governança independem...</td>\n      <td>['Empresas', 'Vale']</td>\n      <td>https://www.moneytimes.com.br/vale-beneficios-...</td>\n      <td>1</td>\n    </tr>\n    <tr>\n      <th>3</th>\n      <td>Produção de minério de ferro da Vale soma 89,4...</td>\n      <td>['Brumadinho', 'Commodities', 'Empresas', 'Min...</td>\n      <td>https://www.moneytimes.com.br/producao-de-mine...</td>\n      <td>1</td>\n    </tr>\n    <tr>\n      <th>4</th>\n      <td>Petrobras irá vender Braskem e BR Distribuidor...</td>\n      <td>['BR Distribuidora', 'Braskem', 'Empresas', 'P...</td>\n      <td>https://www.moneytimes.com.br/petrobras-ira-ve...</td>\n      <td>0</td>\n    </tr>\n    <tr>\n      <th>...</th>\n      <td>...</td>\n      <td>...</td>\n      <td>...</td>\n      <td>...</td>\n    </tr>\n    <tr>\n      <th>1191</th>\n      <td>Gerdau anuncia programa de recompra de até 6 m...</td>\n      <td>['Ações', 'BTG Pactual', 'Gerdau', 'Itaú Uniba...</td>\n      <td>https://www.moneytimes.com.br/gerdau-anuncia-p...</td>\n      <td>2</td>\n    </tr>\n    <tr>\n      <th>1192</th>\n      <td>CEO da Petrobras critica atividades “terrorist...</td>\n      <td>['Empresas', 'Greve', 'Petrobras', 'Petróleo',...</td>\n      <td>https://www.moneytimes.com.br/ceo-da-petrobras...</td>\n      <td>0</td>\n    </tr>\n    <tr>\n      <th>1193</th>\n      <td>“Comprar a queda” é o lema para ação da Petrob...</td>\n      <td>['Citi', 'Comprar ou vender?', 'Petrobras']</td>\n      <td>https://www.moneytimes.com.br/comprar-a-queda-...</td>\n      <td>0</td>\n    </tr>\n    <tr>\n      <th>1194</th>\n      <td>Petrobras (PETR4): Cade aprova venda de partic...</td>\n      <td>['Petrobras (PETR4)', 'Petróleo']</td>\n      <td>https://www.suno.com.br/noticias/petrobras-pet...</td>\n      <td>0</td>\n    </tr>\n    <tr>\n      <th>1195</th>\n      <td>Petrobras exerce direito em Sépia, leva Atapu ...</td>\n      <td>['Combustíveis', 'Commodities', 'Empresas', 'L...</td>\n      <td>https://www.moneytimes.com.br/petrobras-exerce...</td>\n      <td>0</td>\n    </tr>\n  </tbody>\n</table>\n<p>1196 rows × 4 columns</p>\n</div>"
     },
     "execution_count": 8,
     "metadata": {},
     "output_type": "execute_result"
    }
   ],
   "source": [
    "test_raw = pd.read_csv('../../assets/data/test/raw.csv')\n",
    "test_raw"
   ],
   "metadata": {
    "collapsed": false
   }
  },
  {
   "cell_type": "code",
   "execution_count": 9,
   "outputs": [
    {
     "name": "stderr",
     "output_type": "stream",
     "text": [
      "[nltk_data] Downloading package stopwords to\n",
      "[nltk_data]     C:\\Users\\Guilherme\\AppData\\Roaming\\nltk_data...\n",
      "[nltk_data]   Package stopwords is already up-to-date!\n"
     ]
    },
    {
     "data": {
      "text/plain": "array([[ 149,  247,    3, ...,    0,    0,    0],\n       [   3,    8,   40, ..., 1749,  794,   25],\n       [   4, 3187,   39, ...,    0,    0,    0],\n       ...,\n       [ 126,   23,    1, ...,    0,    0,    0],\n       [   3,    8,  171, ...,    0,    0,    0],\n       [   3, 5061, 1274, ...,    0,    0,    0]])"
     },
     "execution_count": 9,
     "metadata": {},
     "output_type": "execute_result"
    }
   ],
   "source": [
    "test_preprocessed = transformDocument(test_raw, 'title', 'pt')\n",
    "\n",
    "X_test = test_preprocessed.title\n",
    "y_test = test_preprocessed.to_numpy()[:, -1]\n",
    "\n",
    "test_sequences = tokenizer.texts_to_sequences(X_test)\n",
    "test_padded = pad_sequences(test_sequences, maxlen=11, padding='post', truncating='post')\n",
    "test_padded"
   ],
   "metadata": {
    "collapsed": false
   }
  },
  {
   "cell_type": "markdown",
   "source": [
    "### Functions"
   ],
   "metadata": {
    "collapsed": false
   }
  },
  {
   "cell_type": "code",
   "execution_count": 10,
   "outputs": [],
   "source": [
    "def index2word(word_index):\n",
    "    index_word = {}\n",
    "    for key in word_index:\n",
    "        index_word[word_index[key]] = key\n",
    "    return index_word\n",
    "\n",
    "\n",
    "def seq2text(seq, index_word):\n",
    "    text = []\n",
    "    for index in seq:\n",
    "        text.append(index_word[index])\n",
    "    return text\n",
    "\n",
    "def show_confusion_matrix(cm):\n",
    "        print(\"Confusion Matrix\")\n",
    "        plt.figure(figsize=(10, 7))\n",
    "\n",
    "        sns.heatmap(cm, annot=True, fmt='d', cmap='Blues', xticklabels=['Negative', 'Positive'],\n",
    "                    yticklabels=['Negative', 'Positive'])\n",
    "        plt.xlabel('Predicted')\n",
    "        plt.ylabel('Truth')\n",
    "        plt.title('Confusion Matrix')\n",
    "        plt.show()"
   ],
   "metadata": {
    "collapsed": false
   }
  },
  {
   "cell_type": "code",
   "execution_count": 11,
   "outputs": [],
   "source": [
    "index_word = index2word(word_index)"
   ],
   "metadata": {
    "collapsed": false
   }
  },
  {
   "cell_type": "code",
   "execution_count": 12,
   "outputs": [
    {
     "name": "stdout",
     "output_type": "stream",
     "text": [
      "38/38 [==============================] - 3s 6ms/step\n"
     ]
    }
   ],
   "source": [
    "pred_prob = model.predict(test_padded)"
   ],
   "metadata": {
    "collapsed": false
   }
  },
  {
   "cell_type": "code",
   "execution_count": 13,
   "outputs": [],
   "source": [
    "# y_pred = [1 if p > 0.5 else 0 for p in pred_prob]\n",
    "y_pred = np.argmax(pred_prob, axis=1)"
   ],
   "metadata": {
    "collapsed": false
   }
  },
  {
   "cell_type": "code",
   "execution_count": 14,
   "outputs": [
    {
     "data": {
      "text/plain": "                                               sequence  \\\n0                      [149, 247, 3, 8, 963, 394, 5568]   \n1     [3, 8, 40, 63, 180, 131, 16, 2313, 1749, 794, ...   \n2                   [4, 3187, 39, 520, 1, 2971, 54, 31]   \n3     [30, 11, 13, 4, 692, 2, 80, 1938, 2, 216, 15, ...   \n4     [3, 212, 121, 125, 77, 111, 25, 1, 3246, 39, 867]   \n...                                                 ...   \n1191                      [316, 68, 281, 327, 2, 38, 9]   \n1192               [79, 3, 845, 631, 1, 105, 2837, 106]   \n1193                        [126, 23, 1, 24, 3, 7, 579]   \n1194                    [3, 8, 171, 71, 18, 65, 213, 1]   \n1195         [3, 5061, 1274, 755, 693, 914, 3350, 1400]   \n\n                                                 X_test  \\\n0     exmenos diretor petrobras petr4 assume preside...   \n1     petrobras petr4 xp eleva precomenos alvo apos ...   \n2     vale beneficios nova governanca independem mig...   \n3     producao minerio ferro vale soma <NUM> mi t <N...   \n4     petrobras ira vender braskem br distribuidora ...   \n...                                                 ...   \n1191  gerdau anuncia programa recompra <NUM> milhoes...   \n1192  ceo petrobras critica atividades terroristas c...   \n1193         comprar queda lema acao petrobras diz citi   \n1194  petrobras petr4 cade aprova venda participacao...   \n1195  petrobras exerce direito sepia leva atapu tota...   \n\n                                               seq2text  y_pred  y_true  \n0     [leve, desde, petrobras, petr4, conselheiros, ...       0       0  \n1     [petrobras, petr4, nova, deve, mina, dolar, ve...       0       0  \n2     [vale, incluida, bancos, indicacoes, <OOV>, re...       1       1  \n3     [bilhoes, minerio, ferro, vale, log, num, ceo,...       1       1  \n4     [petrobras, partir, barragem, recorde, preside...       0       0  \n...                                                 ...     ...     ...  \n1191      [crise, eleva, top, parceria, num, xp, acoes]       0       2  \n1192  [trimestre, petrobras, receita, parte, <OOV>, ...       0       0  \n1193  [avanca, queda, <OOV>, acao, petrobras, diz, i...       0       0  \n1194  [petrobras, petr4, projeto, oferta, dividendos...       0       0  \n1195  [petrobras, segure, puxada, volume, relatorio,...       0       0  \n\n[1196 rows x 5 columns]",
      "text/html": "<div>\n<style scoped>\n    .dataframe tbody tr th:only-of-type {\n        vertical-align: middle;\n    }\n\n    .dataframe tbody tr th {\n        vertical-align: top;\n    }\n\n    .dataframe thead th {\n        text-align: right;\n    }\n</style>\n<table border=\"1\" class=\"dataframe\">\n  <thead>\n    <tr style=\"text-align: right;\">\n      <th></th>\n      <th>sequence</th>\n      <th>X_test</th>\n      <th>seq2text</th>\n      <th>y_pred</th>\n      <th>y_true</th>\n    </tr>\n  </thead>\n  <tbody>\n    <tr>\n      <th>0</th>\n      <td>[149, 247, 3, 8, 963, 394, 5568]</td>\n      <td>exmenos diretor petrobras petr4 assume preside...</td>\n      <td>[leve, desde, petrobras, petr4, conselheiros, ...</td>\n      <td>0</td>\n      <td>0</td>\n    </tr>\n    <tr>\n      <th>1</th>\n      <td>[3, 8, 40, 63, 180, 131, 16, 2313, 1749, 794, ...</td>\n      <td>petrobras petr4 xp eleva precomenos alvo apos ...</td>\n      <td>[petrobras, petr4, nova, deve, mina, dolar, ve...</td>\n      <td>0</td>\n      <td>0</td>\n    </tr>\n    <tr>\n      <th>2</th>\n      <td>[4, 3187, 39, 520, 1, 2971, 54, 31]</td>\n      <td>vale beneficios nova governanca independem mig...</td>\n      <td>[vale, incluida, bancos, indicacoes, &lt;OOV&gt;, re...</td>\n      <td>1</td>\n      <td>1</td>\n    </tr>\n    <tr>\n      <th>3</th>\n      <td>[30, 11, 13, 4, 692, 2, 80, 1938, 2, 216, 15, ...</td>\n      <td>producao minerio ferro vale soma &lt;NUM&gt; mi t &lt;N...</td>\n      <td>[bilhoes, minerio, ferro, vale, log, num, ceo,...</td>\n      <td>1</td>\n      <td>1</td>\n    </tr>\n    <tr>\n      <th>4</th>\n      <td>[3, 212, 121, 125, 77, 111, 25, 1, 3246, 39, 867]</td>\n      <td>petrobras ira vender braskem br distribuidora ...</td>\n      <td>[petrobras, partir, barragem, recorde, preside...</td>\n      <td>0</td>\n      <td>0</td>\n    </tr>\n    <tr>\n      <th>...</th>\n      <td>...</td>\n      <td>...</td>\n      <td>...</td>\n      <td>...</td>\n      <td>...</td>\n    </tr>\n    <tr>\n      <th>1191</th>\n      <td>[316, 68, 281, 327, 2, 38, 9]</td>\n      <td>gerdau anuncia programa recompra &lt;NUM&gt; milhoes...</td>\n      <td>[crise, eleva, top, parceria, num, xp, acoes]</td>\n      <td>0</td>\n      <td>2</td>\n    </tr>\n    <tr>\n      <th>1192</th>\n      <td>[79, 3, 845, 631, 1, 105, 2837, 106]</td>\n      <td>ceo petrobras critica atividades terroristas c...</td>\n      <td>[trimestre, petrobras, receita, parte, &lt;OOV&gt;, ...</td>\n      <td>0</td>\n      <td>0</td>\n    </tr>\n    <tr>\n      <th>1193</th>\n      <td>[126, 23, 1, 24, 3, 7, 579]</td>\n      <td>comprar queda lema acao petrobras diz citi</td>\n      <td>[avanca, queda, &lt;OOV&gt;, acao, petrobras, diz, i...</td>\n      <td>0</td>\n      <td>0</td>\n    </tr>\n    <tr>\n      <th>1194</th>\n      <td>[3, 8, 171, 71, 18, 65, 213, 1]</td>\n      <td>petrobras petr4 cade aprova venda participacao...</td>\n      <td>[petrobras, petr4, projeto, oferta, dividendos...</td>\n      <td>0</td>\n      <td>0</td>\n    </tr>\n    <tr>\n      <th>1195</th>\n      <td>[3, 5061, 1274, 755, 693, 914, 3350, 1400]</td>\n      <td>petrobras exerce direito sepia leva atapu tota...</td>\n      <td>[petrobras, segure, puxada, volume, relatorio,...</td>\n      <td>0</td>\n      <td>0</td>\n    </tr>\n  </tbody>\n</table>\n<p>1196 rows × 5 columns</p>\n</div>"
     },
     "execution_count": 14,
     "metadata": {},
     "output_type": "execute_result"
    }
   ],
   "source": [
    "df_results = pd.DataFrame()\n",
    "X_test = list(X_test)\n",
    "y_test = list(y_test)\n",
    "df_results['sequence'] = test_sequences\n",
    "df_results['X_test'] = X_test\n",
    "df_results['seq2text'] = df_results['sequence'].apply(lambda x: seq2text(x, index_word))\n",
    "df_results['y_pred'] = y_pred\n",
    "df_results['y_true'] = y_test\n",
    "df_results"
   ],
   "metadata": {
    "collapsed": false
   }
  },
  {
   "cell_type": "markdown",
   "source": [
    "### Metrics"
   ],
   "metadata": {
    "collapsed": false
   }
  },
  {
   "cell_type": "code",
   "execution_count": 15,
   "outputs": [],
   "source": [
    "# accuracy = accuracy_score(y_true=y_test, y_pred=y_pred)\n",
    "# precision = precision_score(average='macro', y_true=y_test, y_pred=y_pred)\n",
    "# recall = recall_score(average='macro', y_true=y_test, y_pred=y_pred)\n",
    "# f1 = f1_score(average='macro', y_true=y_test, y_pred=y_pred)\n",
    "cm = confusion_matrix(y_true=y_test, y_pred=y_pred)"
   ],
   "metadata": {
    "collapsed": false
   }
  },
  {
   "cell_type": "code",
   "execution_count": 16,
   "outputs": [
    {
     "name": "stdout",
     "output_type": "stream",
     "text": [
      "              precision    recall  f1-score   support\n",
      "\n",
      "           0       0.80      0.89      0.84       614\n",
      "           1       0.82      0.75      0.78       359\n",
      "           2       0.63      0.53      0.58       223\n",
      "\n",
      "    accuracy                           0.78      1196\n",
      "   macro avg       0.75      0.72      0.73      1196\n",
      "weighted avg       0.78      0.78      0.78      1196\n",
      "\n",
      "Confusion Matrix\n"
     ]
    },
    {
     "data": {
      "text/plain": "<Figure size 1000x700 with 2 Axes>",
      "image/png": "[encoded data removed]"
     },
     "metadata": {},
     "output_type": "display_data"
    }
   ],
   "source": [
    "print(classification_report(y_test,y_pred))\n",
    "show_confusion_matrix(cm)"
   ],
   "metadata": {
    "collapsed": false
   }
  }
 ],
 "metadata": {
  "kernelspec": {
   "display_name": "Python 3",
   "language": "python",
   "name": "python3"
  },
  "language_info": {
   "codemirror_mode": {
    "name": "ipython",
    "version": 2
   },
   "file_extension": ".py",
   "mimetype": "text/x-python",
   "name": "python",
   "nbconvert_exporter": "python",
   "pygments_lexer": "ipython2",
   "version": "2.7.6"
  }
 },
 "nbformat": 4,
 "nbformat_minor": 0
}
