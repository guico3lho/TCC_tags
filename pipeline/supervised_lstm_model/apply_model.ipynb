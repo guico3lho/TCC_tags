{
 "cells": [
  {
   "cell_type": "markdown",
   "source": [
    "## Packages and Assets"
   ],
   "metadata": {
    "collapsed": false
   }
  },
  {
   "cell_type": "code",
   "execution_count": 35,
   "outputs": [],
   "source": [
    "import keras.models\n",
    "from sklearn.metrics import accuracy_score, precision_score, recall_score, f1_score, confusion_matrix, classification_report\n",
    "\n",
    "import seaborn as sns\n",
    "import json\n",
    "import matplotlib.pyplot as plt\n",
    "import numpy as np\n",
    "\n",
    "from keras.preprocessing.text import tokenizer_from_json\n",
    "\n",
    "from keras.utils import pad_sequences\n",
    "import pandas as pd\n",
    "import re\n",
    "import string\n",
    "import nltk\n"
   ],
   "metadata": {
    "collapsed": false
   }
  },
  {
   "cell_type": "code",
   "execution_count": 36,
   "outputs": [
    {
     "name": "stdout",
     "output_type": "stream",
     "text": [
      "Model: \"sequential_1\"\n",
      "_________________________________________________________________\n",
      " Layer (type)                Output Shape              Param #   \n",
      "=================================================================\n",
      " embedding_1 (Embedding)     (None, 11, 300)           2405100   \n",
      "                                                                 \n",
      " bidirectional_2 (Bidirectio  (None, 11, 128)          186880    \n",
      " nal)                                                            \n",
      "                                                                 \n",
      " bidirectional_3 (Bidirectio  (None, 128)              98816     \n",
      " nal)                                                            \n",
      "                                                                 \n",
      " dense_2 (Dense)             (None, 32)                4128      \n",
      "                                                                 \n",
      " dense_3 (Dense)             (None, 3)                 99        \n",
      "                                                                 \n",
      "=================================================================\n",
      "Total params: 2,695,023\n",
      "Trainable params: 289,923\n",
      "Non-trainable params: 2,405,100\n",
      "_________________________________________________________________\n"
     ]
    }
   ],
   "source": [
    "model = keras.models.load_model('../../assets/lstm_assets/lstm_model')\n",
    "model.summary()"
   ],
   "metadata": {
    "collapsed": false
   }
  },
  {
   "cell_type": "code",
   "execution_count": 37,
   "outputs": [],
   "source": [
    "with open('../../assets/lstm_assets/word_index.json', 'r') as f:\n",
    "    word_index = json.load(f)\n",
    "    word_index = dict(word_index)"
   ],
   "metadata": {
    "collapsed": false
   }
  },
  {
   "cell_type": "code",
   "execution_count": 38,
   "outputs": [],
   "source": [
    "# Load the tokenizer from the file\n",
    "with open('../../assets/lstm_assets/tokenizer.json', 'r', encoding='utf-8') as f:\n",
    "    tokenizer_json = f.read()\n",
    "    tokenizer = tokenizer_from_json(tokenizer_json)"
   ],
   "metadata": {
    "collapsed": false
   }
  },
  {
   "cell_type": "markdown",
   "source": [],
   "metadata": {
    "collapsed": false
   }
  },
  {
   "cell_type": "markdown",
   "source": [
    "## Functions"
   ],
   "metadata": {
    "collapsed": false
   }
  },
  {
   "cell_type": "code",
   "execution_count": 39,
   "outputs": [],
   "source": [
    "def transformDocument(df, column_name, language):\n",
    "    stop_words = usingStopwords(language)\n",
    "    # 1. Aplicar preprocessamento nos títulos e textos completos\n",
    "    if language == 'pt':\n",
    "        # Substituir símbolos importantes\n",
    "        df[column_name] = df[column_name].map(lambda s: s.replace('-feira', ''))\n",
    "        df[column_name] = df[column_name].map(lambda s: s.replace('+', 'mais '))\n",
    "        df[column_name] = df[column_name].map(lambda s: s.replace('-', 'menos '))\n",
    "        df[column_name] = df[column_name].map(lambda s: s.replace('%', ' por cento'))\n",
    "        df[column_name] = df[column_name].map(lambda s: removeStopwords(s, stop_words))\n",
    "\n",
    "    elif language == 'en':\n",
    "        df[column_name] = df[column_name].map(lambda s: s.replace('-', 'less'))\n",
    "        df[column_name] = df[column_name].map(lambda s: s.replace('+', 'plus '))\n",
    "        df[column_name] = df[column_name].map(lambda s: s.replace('%', ' percent'))\n",
    "        df[column_name] = df[column_name].map(lambda s: removeStopwords(s, stop_words))\n",
    "\n",
    "    else:\n",
    "        pass\n",
    "\n",
    "    df[column_name] = df[column_name].map(lambda s: s.replace('R$', ''))\n",
    "    df[column_name] = df[column_name].map(lambda s: s.replace('U$', ''))\n",
    "    df[column_name] = df[column_name].map(lambda s: s.replace('US$', ''))\n",
    "    df[column_name] = df[column_name].map(lambda s: s.replace('S&P 500', 'spx'))\n",
    "\n",
    "    # Transformar em String e Letras Minúsculas nas Mensagens\n",
    "    df[column_name] = df[column_name].map(lambda s:\n",
    "                                              normalizarString(s))\n",
    "\n",
    "    # Remover Pontuações\n",
    "    # Remover Pontuações\n",
    "    df[column_name] = df[column_name].map(lambda s: s.translate(str.maketrans('', '', string.punctuation)))\n",
    "\n",
    "    # Remover Emojis\n",
    "    df[column_name] = df[column_name].map(lambda s: removeEmojis(s))\n",
    "\n",
    "    # Quebras de Linha desnecessárias\n",
    "    df[column_name] = df[column_name].map(lambda s: s.replace('\\n', ' '))\n",
    "\n",
    "    # Remover aspas duplas\n",
    "    df[column_name] = df[column_name].map(lambda s: s.replace('\\\"', ''))\n",
    "    df[column_name] = df[column_name].map(lambda s: s.replace('“', ''))\n",
    "    df[column_name] = df[column_name].map(lambda s: s.replace('”', ''))\n",
    "\n",
    "    # Remover valores\n",
    "    df[column_name] = df[column_name].map(lambda s: removeValores(s))\n",
    "\n",
    "    # Espaços desnecessários\n",
    "    df[column_name] = df[column_name].map(lambda s: s.strip())\n",
    "    return df\n",
    "\n",
    "def removeEmojis(sentence):\n",
    "    \"Remoção de Emojis nas mensagens de texto.\"\n",
    "\n",
    "    # Padrões dos Emojis\n",
    "    emoji_pattern = re.compile(\"[\"\n",
    "                               u\"\\U0001F600-\\U0001F64F\"  # emoticons\n",
    "                               u\"\\U0001F300-\\U0001F5FF\"  # symbols & pictographs\n",
    "                               u\"\\U0001F680-\\U0001F6FF\"  # transport & map symbols\n",
    "                               u\"\\U0001F1E0-\\U0001F1FF\"  # flags (iOS)\n",
    "                               u\"\\U00002702-\\U000027B0\"\n",
    "                               u\"\\U000024C2-\\U0001F251\"\n",
    "                               u\"\\U0001f926-\\U0001f937\"\n",
    "                               u'\\U00010000-\\U0010ffff'\n",
    "                               u\"\\u200d\"\n",
    "                               u\"\\u2640-\\u2642\"\n",
    "                               u\"\\u2600-\\u2B55\"\n",
    "                               u\"\\u23cf\"\n",
    "                               u\"\\u23e9\"\n",
    "                               u\"\\u231a\"\n",
    "                               u\"\\u3030\"\n",
    "                               u\"\\ufe0f\"\n",
    "                               \"]+\", flags=re.UNICODE)\n",
    "\n",
    "    return emoji_pattern.sub(r'', sentence)\n",
    "\n",
    "def removeValores(sentence):\n",
    "    new_sentece = ''\n",
    "\n",
    "    for token in sentence.split():\n",
    "        if token.isdigit():\n",
    "            token = '<NUM>'\n",
    "        new_sentece += ' {}'.format(token)\n",
    "\n",
    "    return new_sentece\n",
    "\n",
    "def usingStopwords(language):\n",
    "    stop_words = []\n",
    "\n",
    "    nltk.download('stopwords')\n",
    "\n",
    "    if language == 'pt':\n",
    "        stop_words = nltk.corpus.stopwords.words('portuguese')\n",
    "    elif language == 'en':\n",
    "        stop_words = nltk.corpus.stopwords.words('english')\n",
    "\n",
    "    return stop_words\n",
    "\n",
    "def removeStopwords(text, stop_words):\n",
    "    tokens = []\n",
    "    for word in text.split():\n",
    "        if word not in stop_words:\n",
    "            tokens.append(word)\n",
    "\n",
    "    text = ' '.join(tokens)\n",
    "    return text\n",
    "\n",
    "def normalizarString(text):\n",
    "    \"\"\"\n",
    "    Função para retirar acentuações e converter para minúscula\n",
    "    :param text:\n",
    "    :return text_normalizado\n",
    "    \"\"\"\n",
    "    import unicodedata\n",
    "\n",
    "    text = unicodedata.normalize('NFD', text).encode('ascii', 'ignore').decode(\"utf-8\")\n",
    "    return str(text.lower())"
   ],
   "metadata": {
    "collapsed": false
   }
  },
  {
   "cell_type": "markdown",
   "source": [
    "## Loading test data"
   ],
   "metadata": {
    "collapsed": false
   }
  },
  {
   "cell_type": "code",
   "execution_count": 40,
   "outputs": [
    {
     "data": {
      "text/plain": "                                                  title  \\\n0     Relator mantém imposto de exportação em novo p...   \n1     Petrobras informa descoberta de petróleo em po...   \n2     Itaúsa compra 8,5% da empresa de saneamento Ae...   \n3     Petrobras (PETR4) afunda 20,71% no pior dia de...   \n4     Petrobras aumenta diesel em 4,2% e gasolina em...   \n...                                                 ...   \n1191  Futuros do minério de ferro avançam 0,33% na b...   \n1192  Com sucesso de operação do Daycoval, bancos ca...   \n1193  Vale (VALE3): Justiça de Belo Horizonte aceita...   \n1194  Petrobras anuncia reabertura de refinaria de P...   \n1195  Grandes bancos brasileiros têm maior dividend ...   \n\n                                                   tags  \\\n0     ['Combustíveis', 'Diesel', 'Dividendos', 'Econ...   \n1     ['ANP', 'Brasil', 'Commodities', 'Empresas', '...   \n2     ['Aegea', 'Brasil', 'Empresas', 'Itaú Unibanco...   \n3                        ['PETR3', 'Petrobras (PETR4)']   \n4     ['Diesel', 'Economia', 'Empresas', 'Gasolina',...   \n...                                                 ...   \n1191  ['China', 'Commodities', 'Minério de ferro', '...   \n1192  ['ABC Brasil', 'Banco do Brasil', 'Banco Pan',...   \n1193  ['recuperação judicial', 'Samarco', 'Vale (VAL...   \n1194          ['Empresas', 'Petrobras', 'Petroquímico']   \n1195  ['Ações', 'Banco do Brasil', 'Bancos', 'Brades...   \n\n                                                   link  label  \n0     https://www.moneytimes.com.br/relator-mantem-i...      0  \n1     https://www.moneytimes.com.br/petrobras-inform...      0  \n2     https://www.moneytimes.com.br/itausa-compra-85...      2  \n3     https://www.suno.com.br/noticias/petrobras-pet...      0  \n4     https://www.moneytimes.com.br/petrobras-vai-el...      0  \n...                                                 ...    ...  \n1191  https://www.moneytimes.com.br/futuros-do-miner...      1  \n1192  https://www.moneytimes.com.br/com-sucesso-de-o...      2  \n1193  https://www.suno.com.br/noticias/vale-vale3-ju...      1  \n1194  https://www.moneytimes.com.br/petrobras-anunci...      0  \n1195  https://www.moneytimes.com.br/grandes-bancos-b...      2  \n\n[1196 rows x 4 columns]",
      "text/html": "<div>\n<style scoped>\n    .dataframe tbody tr th:only-of-type {\n        vertical-align: middle;\n    }\n\n    .dataframe tbody tr th {\n        vertical-align: top;\n    }\n\n    .dataframe thead th {\n        text-align: right;\n    }\n</style>\n<table border=\"1\" class=\"dataframe\">\n  <thead>\n    <tr style=\"text-align: right;\">\n      <th></th>\n      <th>title</th>\n      <th>tags</th>\n      <th>link</th>\n      <th>label</th>\n    </tr>\n  </thead>\n  <tbody>\n    <tr>\n      <th>0</th>\n      <td>Relator mantém imposto de exportação em novo p...</td>\n      <td>['Combustíveis', 'Diesel', 'Dividendos', 'Econ...</td>\n      <td>https://www.moneytimes.com.br/relator-mantem-i...</td>\n      <td>0</td>\n    </tr>\n    <tr>\n      <th>1</th>\n      <td>Petrobras informa descoberta de petróleo em po...</td>\n      <td>['ANP', 'Brasil', 'Commodities', 'Empresas', '...</td>\n      <td>https://www.moneytimes.com.br/petrobras-inform...</td>\n      <td>0</td>\n    </tr>\n    <tr>\n      <th>2</th>\n      <td>Itaúsa compra 8,5% da empresa de saneamento Ae...</td>\n      <td>['Aegea', 'Brasil', 'Empresas', 'Itaú Unibanco...</td>\n      <td>https://www.moneytimes.com.br/itausa-compra-85...</td>\n      <td>2</td>\n    </tr>\n    <tr>\n      <th>3</th>\n      <td>Petrobras (PETR4) afunda 20,71% no pior dia de...</td>\n      <td>['PETR3', 'Petrobras (PETR4)']</td>\n      <td>https://www.suno.com.br/noticias/petrobras-pet...</td>\n      <td>0</td>\n    </tr>\n    <tr>\n      <th>4</th>\n      <td>Petrobras aumenta diesel em 4,2% e gasolina em...</td>\n      <td>['Diesel', 'Economia', 'Empresas', 'Gasolina',...</td>\n      <td>https://www.moneytimes.com.br/petrobras-vai-el...</td>\n      <td>0</td>\n    </tr>\n    <tr>\n      <th>...</th>\n      <td>...</td>\n      <td>...</td>\n      <td>...</td>\n      <td>...</td>\n    </tr>\n    <tr>\n      <th>1191</th>\n      <td>Futuros do minério de ferro avançam 0,33% na b...</td>\n      <td>['China', 'Commodities', 'Minério de ferro', '...</td>\n      <td>https://www.moneytimes.com.br/futuros-do-miner...</td>\n      <td>1</td>\n    </tr>\n    <tr>\n      <th>1192</th>\n      <td>Com sucesso de operação do Daycoval, bancos ca...</td>\n      <td>['ABC Brasil', 'Banco do Brasil', 'Banco Pan',...</td>\n      <td>https://www.moneytimes.com.br/com-sucesso-de-o...</td>\n      <td>2</td>\n    </tr>\n    <tr>\n      <th>1193</th>\n      <td>Vale (VALE3): Justiça de Belo Horizonte aceita...</td>\n      <td>['recuperação judicial', 'Samarco', 'Vale (VAL...</td>\n      <td>https://www.suno.com.br/noticias/vale-vale3-ju...</td>\n      <td>1</td>\n    </tr>\n    <tr>\n      <th>1194</th>\n      <td>Petrobras anuncia reabertura de refinaria de P...</td>\n      <td>['Empresas', 'Petrobras', 'Petroquímico']</td>\n      <td>https://www.moneytimes.com.br/petrobras-anunci...</td>\n      <td>0</td>\n    </tr>\n    <tr>\n      <th>1195</th>\n      <td>Grandes bancos brasileiros têm maior dividend ...</td>\n      <td>['Ações', 'Banco do Brasil', 'Bancos', 'Brades...</td>\n      <td>https://www.moneytimes.com.br/grandes-bancos-b...</td>\n      <td>2</td>\n    </tr>\n  </tbody>\n</table>\n<p>1196 rows × 4 columns</p>\n</div>"
     },
     "execution_count": 40,
     "metadata": {},
     "output_type": "execute_result"
    }
   ],
   "source": [
    "test_raw = pd.read_csv('../../assets/data/splits/test/raw.csv')\n",
    "test_raw"
   ],
   "metadata": {
    "collapsed": false
   }
  },
  {
   "cell_type": "code",
   "execution_count": 41,
   "outputs": [
    {
     "name": "stderr",
     "output_type": "stream",
     "text": [
      "[nltk_data] Downloading package stopwords to\n",
      "[nltk_data]     C:\\Users\\Guilherme\\AppData\\Roaming\\nltk_data...\n",
      "[nltk_data]   Package stopwords is already up-to-date!\n"
     ]
    },
    {
     "data": {
      "text/plain": "array([[1291,  101, 1359, ...,   55,    0,    0],\n       [   3,  503, 2006, ...,    0,    0,    0],\n       [ 122,   56,    2, ...,  191,    0,    0],\n       ...,\n       [   4,   12,   97, ...,  177,    0,    0],\n       [   3,   68, 6799, ...,    0,    0,    0],\n       [ 494,   46,  456, ...,  153,    7, 1667]])"
     },
     "execution_count": 41,
     "metadata": {},
     "output_type": "execute_result"
    }
   ],
   "source": [
    "test_preprocessed = transformDocument(test_raw, 'title', 'pt')\n",
    "\n",
    "X_test = test_preprocessed.title\n",
    "y_test = test_preprocessed.to_numpy()[:, -1]\n",
    "\n",
    "test_sequences = tokenizer.texts_to_sequences(X_test)\n",
    "test_padded = pad_sequences(test_sequences, maxlen=11, padding='post', truncating='post')\n",
    "test_padded"
   ],
   "metadata": {
    "collapsed": false
   }
  },
  {
   "cell_type": "markdown",
   "source": [
    "### Functions"
   ],
   "metadata": {
    "collapsed": false
   }
  },
  {
   "cell_type": "code",
   "execution_count": 42,
   "outputs": [],
   "source": [
    "def index2word(word_index):\n",
    "    index_word = {}\n",
    "    for key in word_index:\n",
    "        index_word[word_index[key]] = key\n",
    "    return index_word\n",
    "\n",
    "\n",
    "def seq2text(seq, index_word):\n",
    "    text = []\n",
    "    for index in seq:\n",
    "        text.append(index_word[index])\n",
    "    return text\n",
    "\n",
    "def show_confusion_matrix(cm):\n",
    "        print(\"Confusion Matrix\")\n",
    "        plt.figure(figsize=(10, 7))\n",
    "\n",
    "        sns.heatmap(cm, annot=True, fmt='d', cmap='Blues', xticklabels=['Negative', 'Positive'],\n",
    "                    yticklabels=['Negative', 'Positive'])\n",
    "        plt.xlabel('Predicted')\n",
    "        plt.ylabel('Truth')\n",
    "        plt.title('Confusion Matrix')\n",
    "        plt.show()"
   ],
   "metadata": {
    "collapsed": false
   }
  },
  {
   "cell_type": "code",
   "execution_count": 43,
   "outputs": [],
   "source": [
    "index_word = index2word(word_index)"
   ],
   "metadata": {
    "collapsed": false
   }
  },
  {
   "cell_type": "code",
   "execution_count": 44,
   "outputs": [
    {
     "name": "stdout",
     "output_type": "stream",
     "text": [
      "38/38 [==============================] - 4s 18ms/step\n"
     ]
    }
   ],
   "source": [
    "pred_prob = model.predict(test_padded)"
   ],
   "metadata": {
    "collapsed": false
   }
  },
  {
   "cell_type": "code",
   "execution_count": 45,
   "outputs": [],
   "source": [
    "# y_pred = [1 if p > 0.5 else 0 for p in pred_prob]\n",
    "y_pred = np.argmax(pred_prob, axis=1)"
   ],
   "metadata": {
    "collapsed": false
   }
  },
  {
   "cell_type": "code",
   "execution_count": 46,
   "outputs": [
    {
     "data": {
      "text/plain": "                                               sequence  \\\n0        [1291, 101, 1359, 444, 53, 2051, 19, 4461, 55]   \n1               [3, 503, 2006, 21, 1043, 702, 176, 111]   \n2                 [122, 56, 2, 5, 114, 3722, 1, 2, 191]   \n3     [3, 8, 1221, 2, 5, 1139, 57, 286, 134, 335, 1894]   \n4                      [3, 145, 35, 2, 5, 26, 2, 5, 67]   \n...                                                 ...   \n1191               [83, 11, 13, 375, 2, 5, 36, 168, 44]   \n1192       [162, 3010, 239, 3910, 46, 1, 2, 29, 154, 2]   \n1193          [4, 12, 97, 4635, 1, 1243, 265, 538, 177]   \n1194                  [3, 68, 6799, 166, 990, 16, 1, 1]   \n1195  [494, 46, 456, 128, 75, 2770, 1313, 2, 153, 7,...   \n\n                                                 X_test  \\\n0     relator mantem imposto exportacao novo parecer...   \n1     petrobras informa descoberta petroleo poco blo...   \n2     itausa compra <NUM> cento empresa saneamento a...   \n3     petrobras petr4 afunda <NUM> cento pior dia de...   \n4     petrobras aumenta diesel <NUM> cento gasolina ...   \n...                                                 ...   \n1191  futuros minerio ferro avancam <NUM> cento bols...   \n1192  com sucesso operacao daycoval bancos captam <N...   \n1193  vale vale3 justica belo horizonte aceita recup...   \n1194  petrobras anuncia reabertura refinaria pasaden...   \n1195  grandes bancos brasileiros tem maior dividend ...   \n\n                                               seq2text  y_pred  y_true  \n0     [combate, fatia, estrategico, futura, combusti...       2       0  \n1     [petrobras, futuro, pronta, semana, externa, m...       0       0  \n2     [ter, btg, num, cento, ainda, temem, <OOV>, nu...       2       2  \n3     [petrobras, petr4, leste, num, cento, fleury, ...       0       0  \n4     [petrobras, anos, diesel, num, cento, gasolina...       0       0  \n...                                                 ...     ...     ...  \n1191  [agora, minerio, ferro, suspensao, num, cento,...       1       1  \n1192  [o, vamo3, capital, comercializacao, fecha, <O...       1       2  \n1193  [vale, vale3, conselho, atuam, <OOV>, negociad...       1       1  \n1194  [petrobras, eleva, instituto, bba, nacional, v...       0       0  \n1195  [cielo, fecha, brkm5, processo, maior, investi...       2       2  \n\n[1196 rows x 5 columns]",
      "text/html": "<div>\n<style scoped>\n    .dataframe tbody tr th:only-of-type {\n        vertical-align: middle;\n    }\n\n    .dataframe tbody tr th {\n        vertical-align: top;\n    }\n\n    .dataframe thead th {\n        text-align: right;\n    }\n</style>\n<table border=\"1\" class=\"dataframe\">\n  <thead>\n    <tr style=\"text-align: right;\">\n      <th></th>\n      <th>sequence</th>\n      <th>X_test</th>\n      <th>seq2text</th>\n      <th>y_pred</th>\n      <th>y_true</th>\n    </tr>\n  </thead>\n  <tbody>\n    <tr>\n      <th>0</th>\n      <td>[1291, 101, 1359, 444, 53, 2051, 19, 4461, 55]</td>\n      <td>relator mantem imposto exportacao novo parecer...</td>\n      <td>[combate, fatia, estrategico, futura, combusti...</td>\n      <td>2</td>\n      <td>0</td>\n    </tr>\n    <tr>\n      <th>1</th>\n      <td>[3, 503, 2006, 21, 1043, 702, 176, 111]</td>\n      <td>petrobras informa descoberta petroleo poco blo...</td>\n      <td>[petrobras, futuro, pronta, semana, externa, m...</td>\n      <td>0</td>\n      <td>0</td>\n    </tr>\n    <tr>\n      <th>2</th>\n      <td>[122, 56, 2, 5, 114, 3722, 1, 2, 191]</td>\n      <td>itausa compra &lt;NUM&gt; cento empresa saneamento a...</td>\n      <td>[ter, btg, num, cento, ainda, temem, &lt;OOV&gt;, nu...</td>\n      <td>2</td>\n      <td>2</td>\n    </tr>\n    <tr>\n      <th>3</th>\n      <td>[3, 8, 1221, 2, 5, 1139, 57, 286, 134, 335, 1894]</td>\n      <td>petrobras petr4 afunda &lt;NUM&gt; cento pior dia de...</td>\n      <td>[petrobras, petr4, leste, num, cento, fleury, ...</td>\n      <td>0</td>\n      <td>0</td>\n    </tr>\n    <tr>\n      <th>4</th>\n      <td>[3, 145, 35, 2, 5, 26, 2, 5, 67]</td>\n      <td>petrobras aumenta diesel &lt;NUM&gt; cento gasolina ...</td>\n      <td>[petrobras, anos, diesel, num, cento, gasolina...</td>\n      <td>0</td>\n      <td>0</td>\n    </tr>\n    <tr>\n      <th>...</th>\n      <td>...</td>\n      <td>...</td>\n      <td>...</td>\n      <td>...</td>\n      <td>...</td>\n    </tr>\n    <tr>\n      <th>1191</th>\n      <td>[83, 11, 13, 375, 2, 5, 36, 168, 44]</td>\n      <td>futuros minerio ferro avancam &lt;NUM&gt; cento bols...</td>\n      <td>[agora, minerio, ferro, suspensao, num, cento,...</td>\n      <td>1</td>\n      <td>1</td>\n    </tr>\n    <tr>\n      <th>1192</th>\n      <td>[162, 3010, 239, 3910, 46, 1, 2, 29, 154, 2]</td>\n      <td>com sucesso operacao daycoval bancos captam &lt;N...</td>\n      <td>[o, vamo3, capital, comercializacao, fecha, &lt;O...</td>\n      <td>1</td>\n      <td>2</td>\n    </tr>\n    <tr>\n      <th>1193</th>\n      <td>[4, 12, 97, 4635, 1, 1243, 265, 538, 177]</td>\n      <td>vale vale3 justica belo horizonte aceita recup...</td>\n      <td>[vale, vale3, conselho, atuam, &lt;OOV&gt;, negociad...</td>\n      <td>1</td>\n      <td>1</td>\n    </tr>\n    <tr>\n      <th>1194</th>\n      <td>[3, 68, 6799, 166, 990, 16, 1, 1]</td>\n      <td>petrobras anuncia reabertura refinaria pasaden...</td>\n      <td>[petrobras, eleva, instituto, bba, nacional, v...</td>\n      <td>0</td>\n      <td>0</td>\n    </tr>\n    <tr>\n      <th>1195</th>\n      <td>[494, 46, 456, 128, 75, 2770, 1313, 2, 153, 7,...</td>\n      <td>grandes bancos brasileiros tem maior dividend ...</td>\n      <td>[cielo, fecha, brkm5, processo, maior, investi...</td>\n      <td>2</td>\n      <td>2</td>\n    </tr>\n  </tbody>\n</table>\n<p>1196 rows × 5 columns</p>\n</div>"
     },
     "execution_count": 46,
     "metadata": {},
     "output_type": "execute_result"
    }
   ],
   "source": [
    "df_results = pd.DataFrame()\n",
    "X_test = list(X_test)\n",
    "y_test = list(y_test)\n",
    "df_results['sequence'] = test_sequences\n",
    "df_results['X_test'] = X_test\n",
    "df_results['seq2text'] = df_results['sequence'].apply(lambda x: seq2text(x, index_word))\n",
    "df_results['y_pred'] = y_pred\n",
    "df_results['y_true'] = y_test\n",
    "df_results"
   ],
   "metadata": {
    "collapsed": false
   }
  },
  {
   "cell_type": "markdown",
   "source": [
    "### Metrics"
   ],
   "metadata": {
    "collapsed": false
   }
  },
  {
   "cell_type": "code",
   "execution_count": 47,
   "outputs": [],
   "source": [
    "# accuracy = accuracy_score(y_true=y_test, y_pred=y_pred)\n",
    "# precision = precision_score(average='macro', y_true=y_test, y_pred=y_pred)\n",
    "# recall = recall_score(average='macro', y_true=y_test, y_pred=y_pred)\n",
    "# f1 = f1_score(average='macro', y_true=y_test, y_pred=y_pred)\n",
    "# cm = confusion_matrix(y_true=y_test, y_pred=y_pred)"
   ],
   "metadata": {
    "collapsed": false
   }
  },
  {
   "cell_type": "code",
   "execution_count": 48,
   "outputs": [
    {
     "name": "stdout",
     "output_type": "stream",
     "text": [
      "              precision    recall  f1-score   support\n",
      "\n",
      "           0       0.96      0.77      0.85       614\n",
      "           1       0.75      0.84      0.79       375\n",
      "           2       0.51      0.71      0.59       207\n",
      "\n",
      "    accuracy                           0.78      1196\n",
      "   macro avg       0.74      0.77      0.75      1196\n",
      "weighted avg       0.81      0.78      0.79      1196\n",
      "\n",
      "Confusion Matrix\n"
     ]
    },
    {
     "data": {
      "text/plain": "<Figure size 1000x700 with 2 Axes>",
      "image/png": "[encoded data removed]"
     },
     "metadata": {},
     "output_type": "display_data"
    }
   ],
   "source": [
    "print(classification_report(y_test,y_pred))\n",
    "cm = confusion_matrix(y_true=y_test, y_pred=y_pred)\n",
    "show_confusion_matrix(cm)"
   ],
   "metadata": {
    "collapsed": false
   }
  }
 ],
 "metadata": {
  "kernelspec": {
   "display_name": "Python 3",
   "language": "python",
   "name": "python3"
  },
  "language_info": {
   "codemirror_mode": {
    "name": "ipython",
    "version": 2
   },
   "file_extension": ".py",
   "mimetype": "text/x-python",
   "name": "python",
   "nbconvert_exporter": "python",
   "pygments_lexer": "ipython2",
   "version": "2.7.6"
  }
 },
 "nbformat": 4,
 "nbformat_minor": 0
}
