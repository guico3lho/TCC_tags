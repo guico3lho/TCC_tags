{
 "cells": [
  {
   "cell_type": "markdown",
   "source": [
    "## Packages"
   ],
   "metadata": {
    "collapsed": false
   }
  },
  {
   "cell_type": "code",
   "execution_count": 2,
   "outputs": [],
   "source": [
    "import pandas as pd"
   ],
   "metadata": {
    "collapsed": false
   }
  },
  {
   "cell_type": "markdown",
   "source": [
    "## Functions"
   ],
   "metadata": {
    "collapsed": false
   }
  },
  {
   "cell_type": "code",
   "execution_count": 3,
   "outputs": [
    {
     "data": {
      "text/plain": "                                                   title  \\\n0      dividendos as <NUM> acoes preferidas <NUM> ana...   \n1      itau jhsf banco brasil confira agenda resultad...   \n2      destaques empresas petrobras petr4 jbs jbss3 h...   \n3      itau unibanco itub4 vai pagar proventos comeco...   \n4      petrobras petr4 elege novo conselho maior part...   \n...                                                  ...   \n11951  petrobras guia nova maxima ibovespa sessao meg...   \n11952  petrobras estende vencimento emprestimo banco ...   \n11953  petrobras percepcao risco sobre politica preco...   \n11954  bndes espera vender cerca <NUM> bi debentures ...   \n11955  em ano ruim acoes bancos brasileiros podem sub...   \n\n                                                    tags  \\\n0      ['Carteira Recomendada', 'Comprar ou vender?',...   \n1      ['Alper (APER3)', 'balanços trimestrais', 'Bol...   \n2      ['Arezzo (ARZZ3)', 'Cia Hering (HGTX3)', 'dest...   \n3      ['Bancos', 'Dividendos', 'Empresas', 'Itaú Uni...   \n4      ['Ações', 'Adriano Pires', 'Combustíveis', 'Em...   \n...                                                  ...   \n11951  ['Ações', 'Empresas', 'Ibovespa', 'Leilão', 'M...   \n11952                          ['Empresas', 'Petrobras']   \n11953  ['Ações', 'Combustíveis', 'Commodities', 'Comp...   \n11954  ['BNDES', 'BNDESPar', 'debêntures', 'Vale (VAL...   \n11955  ['Ações', 'Banco do Brasil', 'Bancos', 'Brades...   \n\n                                                    link  label  \n0      https://www.moneytimes.com.br/dividendos-as-10...      1  \n1      https://www.suno.com.br/noticias/itau-jhsf-ban...      2  \n2      https://www.suno.com.br/noticias/destaques-de-...      0  \n3      https://www.moneytimes.com.br/itau-unibanco-it...      2  \n4      https://www.moneytimes.com.br/petrobras-petr4-...      0  \n...                                                  ...    ...  \n11951  https://www.moneytimes.com.br/petrobras-guia-n...      0  \n11952  https://www.moneytimes.com.br/petrobras-estend...      0  \n11953  https://www.moneytimes.com.br/petrobras-percep...      0  \n11954  https://www.suno.com.br/noticias/bndes-venda-d...      1  \n11955  https://www.moneytimes.com.br/em-ano-ruim-acoe...      2  \n\n[11956 rows x 4 columns]",
      "text/html": "<div>\n<style scoped>\n    .dataframe tbody tr th:only-of-type {\n        vertical-align: middle;\n    }\n\n    .dataframe tbody tr th {\n        vertical-align: top;\n    }\n\n    .dataframe thead th {\n        text-align: right;\n    }\n</style>\n<table border=\"1\" class=\"dataframe\">\n  <thead>\n    <tr style=\"text-align: right;\">\n      <th></th>\n      <th>title</th>\n      <th>tags</th>\n      <th>link</th>\n      <th>label</th>\n    </tr>\n  </thead>\n  <tbody>\n    <tr>\n      <th>0</th>\n      <td>dividendos as &lt;NUM&gt; acoes preferidas &lt;NUM&gt; ana...</td>\n      <td>['Carteira Recomendada', 'Comprar ou vender?',...</td>\n      <td>https://www.moneytimes.com.br/dividendos-as-10...</td>\n      <td>1</td>\n    </tr>\n    <tr>\n      <th>1</th>\n      <td>itau jhsf banco brasil confira agenda resultad...</td>\n      <td>['Alper (APER3)', 'balanços trimestrais', 'Bol...</td>\n      <td>https://www.suno.com.br/noticias/itau-jhsf-ban...</td>\n      <td>2</td>\n    </tr>\n    <tr>\n      <th>2</th>\n      <td>destaques empresas petrobras petr4 jbs jbss3 h...</td>\n      <td>['Arezzo (ARZZ3)', 'Cia Hering (HGTX3)', 'dest...</td>\n      <td>https://www.suno.com.br/noticias/destaques-de-...</td>\n      <td>0</td>\n    </tr>\n    <tr>\n      <th>3</th>\n      <td>itau unibanco itub4 vai pagar proventos comeco...</td>\n      <td>['Bancos', 'Dividendos', 'Empresas', 'Itaú Uni...</td>\n      <td>https://www.moneytimes.com.br/itau-unibanco-it...</td>\n      <td>2</td>\n    </tr>\n    <tr>\n      <th>4</th>\n      <td>petrobras petr4 elege novo conselho maior part...</td>\n      <td>['Ações', 'Adriano Pires', 'Combustíveis', 'Em...</td>\n      <td>https://www.moneytimes.com.br/petrobras-petr4-...</td>\n      <td>0</td>\n    </tr>\n    <tr>\n      <th>...</th>\n      <td>...</td>\n      <td>...</td>\n      <td>...</td>\n      <td>...</td>\n    </tr>\n    <tr>\n      <th>11951</th>\n      <td>petrobras guia nova maxima ibovespa sessao meg...</td>\n      <td>['Ações', 'Empresas', 'Ibovespa', 'Leilão', 'M...</td>\n      <td>https://www.moneytimes.com.br/petrobras-guia-n...</td>\n      <td>0</td>\n    </tr>\n    <tr>\n      <th>11952</th>\n      <td>petrobras estende vencimento emprestimo banco ...</td>\n      <td>['Empresas', 'Petrobras']</td>\n      <td>https://www.moneytimes.com.br/petrobras-estend...</td>\n      <td>0</td>\n    </tr>\n    <tr>\n      <th>11953</th>\n      <td>petrobras percepcao risco sobre politica preco...</td>\n      <td>['Ações', 'Combustíveis', 'Commodities', 'Comp...</td>\n      <td>https://www.moneytimes.com.br/petrobras-percep...</td>\n      <td>0</td>\n    </tr>\n    <tr>\n      <th>11954</th>\n      <td>bndes espera vender cerca &lt;NUM&gt; bi debentures ...</td>\n      <td>['BNDES', 'BNDESPar', 'debêntures', 'Vale (VAL...</td>\n      <td>https://www.suno.com.br/noticias/bndes-venda-d...</td>\n      <td>1</td>\n    </tr>\n    <tr>\n      <th>11955</th>\n      <td>em ano ruim acoes bancos brasileiros podem sub...</td>\n      <td>['Ações', 'Banco do Brasil', 'Bancos', 'Brades...</td>\n      <td>https://www.moneytimes.com.br/em-ano-ruim-acoe...</td>\n      <td>2</td>\n    </tr>\n  </tbody>\n</table>\n<p>11956 rows × 4 columns</p>\n</div>"
     },
     "execution_count": 3,
     "metadata": {},
     "output_type": "execute_result"
    }
   ],
   "source": [],
   "metadata": {
    "collapsed": false
   }
  },
  {
   "cell_type": "markdown",
   "source": [
    "## Load data"
   ],
   "metadata": {
    "collapsed": false
   }
  },
  {
   "cell_type": "code",
   "execution_count": 4,
   "outputs": [
    {
     "data": {
      "text/plain": "                                                   title  \\\n0      dividendos as <NUM> acoes preferidas <NUM> ana...   \n1      itau jhsf banco brasil confira agenda resultad...   \n2      destaques empresas petrobras petr4 jbs jbss3 h...   \n3      itau unibanco itub4 vai pagar proventos comeco...   \n4      petrobras petr4 elege novo conselho maior part...   \n...                                                  ...   \n11951  petrobras guia nova maxima ibovespa sessao meg...   \n11952  petrobras estende vencimento emprestimo banco ...   \n11953  petrobras percepcao risco sobre politica preco...   \n11954  bndes espera vender cerca <NUM> bi debentures ...   \n11955  em ano ruim acoes bancos brasileiros podem sub...   \n\n                                                    tags  \\\n0      ['Carteira Recomendada', 'Comprar ou vender?',...   \n1      ['Alper (APER3)', 'balanços trimestrais', 'Bol...   \n2      ['Arezzo (ARZZ3)', 'Cia Hering (HGTX3)', 'dest...   \n3      ['Bancos', 'Dividendos', 'Empresas', 'Itaú Uni...   \n4      ['Ações', 'Adriano Pires', 'Combustíveis', 'Em...   \n...                                                  ...   \n11951  ['Ações', 'Empresas', 'Ibovespa', 'Leilão', 'M...   \n11952                          ['Empresas', 'Petrobras']   \n11953  ['Ações', 'Combustíveis', 'Commodities', 'Comp...   \n11954  ['BNDES', 'BNDESPar', 'debêntures', 'Vale (VAL...   \n11955  ['Ações', 'Banco do Brasil', 'Bancos', 'Brades...   \n\n                                                    link  label  \n0      https://www.moneytimes.com.br/dividendos-as-10...      1  \n1      https://www.suno.com.br/noticias/itau-jhsf-ban...      2  \n2      https://www.suno.com.br/noticias/destaques-de-...      0  \n3      https://www.moneytimes.com.br/itau-unibanco-it...      2  \n4      https://www.moneytimes.com.br/petrobras-petr4-...      0  \n...                                                  ...    ...  \n11951  https://www.moneytimes.com.br/petrobras-guia-n...      0  \n11952  https://www.moneytimes.com.br/petrobras-estend...      0  \n11953  https://www.moneytimes.com.br/petrobras-percep...      0  \n11954  https://www.suno.com.br/noticias/bndes-venda-d...      1  \n11955  https://www.moneytimes.com.br/em-ano-ruim-acoe...      2  \n\n[11956 rows x 4 columns]",
      "text/html": "<div>\n<style scoped>\n    .dataframe tbody tr th:only-of-type {\n        vertical-align: middle;\n    }\n\n    .dataframe tbody tr th {\n        vertical-align: top;\n    }\n\n    .dataframe thead th {\n        text-align: right;\n    }\n</style>\n<table border=\"1\" class=\"dataframe\">\n  <thead>\n    <tr style=\"text-align: right;\">\n      <th></th>\n      <th>title</th>\n      <th>tags</th>\n      <th>link</th>\n      <th>label</th>\n    </tr>\n  </thead>\n  <tbody>\n    <tr>\n      <th>0</th>\n      <td>dividendos as &lt;NUM&gt; acoes preferidas &lt;NUM&gt; ana...</td>\n      <td>['Carteira Recomendada', 'Comprar ou vender?',...</td>\n      <td>https://www.moneytimes.com.br/dividendos-as-10...</td>\n      <td>1</td>\n    </tr>\n    <tr>\n      <th>1</th>\n      <td>itau jhsf banco brasil confira agenda resultad...</td>\n      <td>['Alper (APER3)', 'balanços trimestrais', 'Bol...</td>\n      <td>https://www.suno.com.br/noticias/itau-jhsf-ban...</td>\n      <td>2</td>\n    </tr>\n    <tr>\n      <th>2</th>\n      <td>destaques empresas petrobras petr4 jbs jbss3 h...</td>\n      <td>['Arezzo (ARZZ3)', 'Cia Hering (HGTX3)', 'dest...</td>\n      <td>https://www.suno.com.br/noticias/destaques-de-...</td>\n      <td>0</td>\n    </tr>\n    <tr>\n      <th>3</th>\n      <td>itau unibanco itub4 vai pagar proventos comeco...</td>\n      <td>['Bancos', 'Dividendos', 'Empresas', 'Itaú Uni...</td>\n      <td>https://www.moneytimes.com.br/itau-unibanco-it...</td>\n      <td>2</td>\n    </tr>\n    <tr>\n      <th>4</th>\n      <td>petrobras petr4 elege novo conselho maior part...</td>\n      <td>['Ações', 'Adriano Pires', 'Combustíveis', 'Em...</td>\n      <td>https://www.moneytimes.com.br/petrobras-petr4-...</td>\n      <td>0</td>\n    </tr>\n    <tr>\n      <th>...</th>\n      <td>...</td>\n      <td>...</td>\n      <td>...</td>\n      <td>...</td>\n    </tr>\n    <tr>\n      <th>11951</th>\n      <td>petrobras guia nova maxima ibovespa sessao meg...</td>\n      <td>['Ações', 'Empresas', 'Ibovespa', 'Leilão', 'M...</td>\n      <td>https://www.moneytimes.com.br/petrobras-guia-n...</td>\n      <td>0</td>\n    </tr>\n    <tr>\n      <th>11952</th>\n      <td>petrobras estende vencimento emprestimo banco ...</td>\n      <td>['Empresas', 'Petrobras']</td>\n      <td>https://www.moneytimes.com.br/petrobras-estend...</td>\n      <td>0</td>\n    </tr>\n    <tr>\n      <th>11953</th>\n      <td>petrobras percepcao risco sobre politica preco...</td>\n      <td>['Ações', 'Combustíveis', 'Commodities', 'Comp...</td>\n      <td>https://www.moneytimes.com.br/petrobras-percep...</td>\n      <td>0</td>\n    </tr>\n    <tr>\n      <th>11954</th>\n      <td>bndes espera vender cerca &lt;NUM&gt; bi debentures ...</td>\n      <td>['BNDES', 'BNDESPar', 'debêntures', 'Vale (VAL...</td>\n      <td>https://www.suno.com.br/noticias/bndes-venda-d...</td>\n      <td>1</td>\n    </tr>\n    <tr>\n      <th>11955</th>\n      <td>em ano ruim acoes bancos brasileiros podem sub...</td>\n      <td>['Ações', 'Banco do Brasil', 'Bancos', 'Brades...</td>\n      <td>https://www.moneytimes.com.br/em-ano-ruim-acoe...</td>\n      <td>2</td>\n    </tr>\n  </tbody>\n</table>\n<p>11956 rows × 4 columns</p>\n</div>"
     },
     "execution_count": 4,
     "metadata": {},
     "output_type": "execute_result"
    }
   ],
   "source": [
    "df_pp = pd.read_csv('../../assets/df_pp.csv')\n",
    "df_pp"
   ],
   "metadata": {
    "collapsed": false
   }
  },
  {
   "cell_type": "markdown",
   "source": [
    "## Splitting Dataset"
   ],
   "metadata": {
    "collapsed": false
   }
  },
  {
   "cell_type": "code",
   "execution_count": null,
   "outputs": [],
   "source": [
    "X = df_pp.title\n",
    "y = df_pp.label"
   ],
   "metadata": {
    "collapsed": false
   }
  },
  {
   "cell_type": "code",
   "execution_count": null,
   "outputs": [],
   "source": [
    "# Split data into train and test\n",
    "X_train, X_rem, y_train, y_rem = train_test_split(X, y, train_size=0.8, random_state=52)  # 80% train\n",
    "\n",
    "X_val, X_test, y_val, y_test = train_test_split(X_rem, y_rem, test_size=0.5, random_state=52)  # 10% val, 10% testc"
   ],
   "metadata": {
    "collapsed": false
   }
  }
 ],
 "metadata": {
  "kernelspec": {
   "display_name": "Python 3",
   "language": "python",
   "name": "python3"
  },
  "language_info": {
   "codemirror_mode": {
    "name": "ipython",
    "version": 2
   },
   "file_extension": ".py",
   "mimetype": "text/x-python",
   "name": "python",
   "nbconvert_exporter": "python",
   "pygments_lexer": "ipython2",
   "version": "2.7.6"
  }
 },
 "nbformat": 4,
 "nbformat_minor": 0
}
