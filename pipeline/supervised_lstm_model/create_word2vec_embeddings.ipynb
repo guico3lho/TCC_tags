{
 "cells": [
  {
   "cell_type": "markdown",
   "source": [
    "## Packages and Assets"
   ],
   "metadata": {
    "collapsed": false
   }
  },
  {
   "cell_type": "code",
   "execution_count": 1,
   "outputs": [],
   "source": [
    "import pandas as pd\n",
    "import re\n",
    "import string\n",
    "import nltk\n",
    "from sklearn.manifold import TSNE\n",
    "import plotly.express as px\n",
    "import plotly.graph_objects as go\n",
    "import numpy as np\n",
    "from gensim.models import Word2Vec"
   ],
   "metadata": {
    "collapsed": false
   }
  },
  {
   "cell_type": "code",
   "execution_count": 2,
   "outputs": [
    {
     "data": {
      "text/plain": "                                                   title  \\\n0      economia brasileira recuperado gradualmente di...   \n1      gasolina vai ficar cara veja politica precos p...   \n2      vale vale3 ubs recomenda vender acao rapido po...   \n3      vale entrega plano desmonte barragem barao coc...   \n4      black friday corretoras incentivo abertura con...   \n...                                                  ...   \n18007  acao disparou <NUM> cento estreia <NUM> indica...   \n18008  balanca comercial superavit <NUM> bilhoes feve...   \n18009  agenda dia oi riachuelo banco inter locaweb ca...   \n18010  petrobras arremata producao dois campos bacia ...   \n18011  dolar opera alta brexit novidades sobre guerra...   \n\n                                                    tags  \\\n0               ['Copom', 'taxa de juros', 'taxa selic']   \n1      ['Combustíveis', 'Diesel', 'Etanol', 'Gasolina...   \n2      ['Ações', \"ADR's\", 'Bancos', 'China', 'Comprar...   \n3                                       ['Vale (VALE3)']   \n4      ['Black Friday 2020', 'Black Friday das corret...   \n...                                                  ...   \n18007  ['Ações', 'Ativa Investimentos', 'Banco Inter'...   \n18008  ['balança comercial', 'exportações', 'importaç...   \n18009  ['agenda', 'Banco Inter', 'BIDI11', 'Caixa Eco...   \n18010                          ['Empresas', 'Petrobras']   \n18011                     ['Brexit', 'guerra comercial']   \n\n                                                    link  label  \n0      https://www.sunoresearch.com.br/noticias/econo...      0  \n1      https://www.moneytimes.com.br/gasolina-vai-fic...      1  \n2      https://www.moneytimes.com.br/vale-vale3-ubs-r...      2  \n3      https://www.suno.com.br/noticias/vale-plano-de...      2  \n4      https://www.sunoresearch.com.br/noticias/black...      0  \n...                                                  ...    ...  \n18007  https://www.moneytimes.com.br/acao-que-disparo...      2  \n18008  https://www.sunoresearch.com.br/noticias/balan...      0  \n18009  https://www.sunoresearch.com.br/noticias/agend...      0  \n18010  https://www.moneytimes.com.br/petrobras-arrema...      1  \n18011  https://www.sunoresearch.com.br/noticias/dolar...      0  \n\n[18012 rows x 4 columns]",
      "text/html": "<div>\n<style scoped>\n    .dataframe tbody tr th:only-of-type {\n        vertical-align: middle;\n    }\n\n    .dataframe tbody tr th {\n        vertical-align: top;\n    }\n\n    .dataframe thead th {\n        text-align: right;\n    }\n</style>\n<table border=\"1\" class=\"dataframe\">\n  <thead>\n    <tr style=\"text-align: right;\">\n      <th></th>\n      <th>title</th>\n      <th>tags</th>\n      <th>link</th>\n      <th>label</th>\n    </tr>\n  </thead>\n  <tbody>\n    <tr>\n      <th>0</th>\n      <td>economia brasileira recuperado gradualmente di...</td>\n      <td>['Copom', 'taxa de juros', 'taxa selic']</td>\n      <td>https://www.sunoresearch.com.br/noticias/econo...</td>\n      <td>0</td>\n    </tr>\n    <tr>\n      <th>1</th>\n      <td>gasolina vai ficar cara veja politica precos p...</td>\n      <td>['Combustíveis', 'Diesel', 'Etanol', 'Gasolina...</td>\n      <td>https://www.moneytimes.com.br/gasolina-vai-fic...</td>\n      <td>1</td>\n    </tr>\n    <tr>\n      <th>2</th>\n      <td>vale vale3 ubs recomenda vender acao rapido po...</td>\n      <td>['Ações', \"ADR's\", 'Bancos', 'China', 'Comprar...</td>\n      <td>https://www.moneytimes.com.br/vale-vale3-ubs-r...</td>\n      <td>2</td>\n    </tr>\n    <tr>\n      <th>3</th>\n      <td>vale entrega plano desmonte barragem barao coc...</td>\n      <td>['Vale (VALE3)']</td>\n      <td>https://www.suno.com.br/noticias/vale-plano-de...</td>\n      <td>2</td>\n    </tr>\n    <tr>\n      <th>4</th>\n      <td>black friday corretoras incentivo abertura con...</td>\n      <td>['Black Friday 2020', 'Black Friday das corret...</td>\n      <td>https://www.sunoresearch.com.br/noticias/black...</td>\n      <td>0</td>\n    </tr>\n    <tr>\n      <th>...</th>\n      <td>...</td>\n      <td>...</td>\n      <td>...</td>\n      <td>...</td>\n    </tr>\n    <tr>\n      <th>18007</th>\n      <td>acao disparou &lt;NUM&gt; cento estreia &lt;NUM&gt; indica...</td>\n      <td>['Ações', 'Ativa Investimentos', 'Banco Inter'...</td>\n      <td>https://www.moneytimes.com.br/acao-que-disparo...</td>\n      <td>2</td>\n    </tr>\n    <tr>\n      <th>18008</th>\n      <td>balanca comercial superavit &lt;NUM&gt; bilhoes feve...</td>\n      <td>['balança comercial', 'exportações', 'importaç...</td>\n      <td>https://www.sunoresearch.com.br/noticias/balan...</td>\n      <td>0</td>\n    </tr>\n    <tr>\n      <th>18009</th>\n      <td>agenda dia oi riachuelo banco inter locaweb ca...</td>\n      <td>['agenda', 'Banco Inter', 'BIDI11', 'Caixa Eco...</td>\n      <td>https://www.sunoresearch.com.br/noticias/agend...</td>\n      <td>0</td>\n    </tr>\n    <tr>\n      <th>18010</th>\n      <td>petrobras arremata producao dois campos bacia ...</td>\n      <td>['Empresas', 'Petrobras']</td>\n      <td>https://www.moneytimes.com.br/petrobras-arrema...</td>\n      <td>1</td>\n    </tr>\n    <tr>\n      <th>18011</th>\n      <td>dolar opera alta brexit novidades sobre guerra...</td>\n      <td>['Brexit', 'guerra comercial']</td>\n      <td>https://www.sunoresearch.com.br/noticias/dolar...</td>\n      <td>0</td>\n    </tr>\n  </tbody>\n</table>\n<p>18012 rows × 4 columns</p>\n</div>"
     },
     "execution_count": 2,
     "metadata": {},
     "output_type": "execute_result"
    }
   ],
   "source": [
    "df_pp = pd.read_csv('../../assets/data/df_pp.csv')\n",
    "df_pp"
   ],
   "metadata": {
    "collapsed": false
   }
  },
  {
   "cell_type": "markdown",
   "source": [
    "## Functions"
   ],
   "metadata": {
    "collapsed": false
   }
  },
  {
   "cell_type": "markdown",
   "source": [
    "## Loading Word2vec Model"
   ],
   "metadata": {
    "collapsed": false
   }
  },
  {
   "cell_type": "markdown",
   "source": [
    "## Word2Vec Model"
   ],
   "metadata": {
    "collapsed": false
   }
  },
  {
   "cell_type": "code",
   "execution_count": 3,
   "outputs": [],
   "source": [
    "hasModel = False\n",
    "if not hasModel:\n",
    "\n",
    "    tokenized_corpus = []\n",
    "    for title in df_pp['title']:\n",
    "        tokenized_corpus.append(title.split())\n",
    "    model = Word2Vec(sentences=tokenized_corpus, vector_size=300, window=20, min_count=5,workers =4)\n",
    "    model.save(\"../../assets/lstm_assets/word2vec.model\")\n",
    "else:\n",
    "    print(\"Model Exists!\")\n",
    "    model = Word2Vec.load(\"../../assets/lstm_assets/word2vec.model\")\n",
    "    print(model.wv.most_similar('queda'))\n"
   ],
   "metadata": {
    "collapsed": false
   }
  },
  {
   "cell_type": "code",
   "execution_count": 4,
   "outputs": [
    {
     "data": {
      "text/plain": "array([[-0.03236833,  0.03023816,  0.06029034, ..., -0.08823165,\n         0.0872182 , -0.02627683],\n       [-0.00204058,  0.0962977 ,  0.03250765, ..., -0.02544235,\n         0.02294619,  0.00153643],\n       [-0.00075033,  0.01500599,  0.08460046, ..., -0.06417342,\n         0.10984575, -0.05269717],\n       ...,\n       [-0.00301698,  0.09577885, -0.01550451, ..., -0.05175942,\n         0.02537947, -0.01378746],\n       [-0.01466258,  0.07552481,  0.03784581, ..., -0.06458158,\n         0.05610614, -0.02230895],\n       [-0.02195597,  0.00314152,  0.06380174, ..., -0.08491288,\n         0.07712409, -0.02078664]], dtype=float32)"
     },
     "execution_count": 4,
     "metadata": {},
     "output_type": "execute_result"
    }
   ],
   "source": [
    "model.wv.get_normed_vectors()"
   ],
   "metadata": {
    "collapsed": false
   }
  },
  {
   "cell_type": "code",
   "execution_count": 5,
   "outputs": [
    {
     "data": {
      "text/plain": "['<NUM>',\n 'petrobras',\n 'cento',\n 'vale',\n 'diz',\n 'itau',\n 'acoes',\n 'petr4',\n 'ibovespa',\n 'alta',\n 'queda',\n 'brasil',\n 'apos',\n 'minerio',\n 'sobre',\n 'carteira',\n 'vale3',\n 'bi',\n 'ferro',\n 'venda',\n 'milhoes',\n 'semana',\n 'dividendos',\n 'lucro',\n 'bilhoes',\n 'petroleo',\n 'dolar',\n 'pode',\n 'mercado',\n 'acao',\n 'banco',\n 'acordo',\n 'veja',\n 'bolsonaro',\n 'fecha',\n 'producao',\n 'preco',\n 'governo',\n 'itub4',\n 'gasolina',\n 'nesta',\n 'anuncia',\n 'eua',\n 'vai',\n 'nova',\n 'bolsa',\n 'dia',\n 'sobe',\n 'precos',\n 'brumadinho',\n 'abre',\n 'xp',\n 'coronavirus',\n 'cai',\n 'novo',\n 'mi',\n 'china',\n 'compra',\n 'diesel',\n 'bancos',\n 'deve',\n 'registra',\n 'trimestre',\n 'aprova',\n 'btg',\n 'gas',\n 'presidente',\n 'dalian',\n 'maior',\n 'oferta',\n 'radar',\n 'participacao',\n 'empresas',\n 'mil',\n 'inicia',\n 'bradesco',\n 'recomendada',\n 'investimentos',\n 've',\n 'combustiveis',\n 'confira',\n 'segundo',\n 'semanal',\n 'pontos',\n 'troca',\n 'liquido',\n 'eleva',\n 'reduz',\n 'ano',\n 'pib',\n 'premenos',\n 'ipo',\n 'br',\n 'empresa',\n 'reforma',\n 'encerra',\n 'tesouro',\n 'contra',\n 'futuros',\n 'ceo',\n 'refinarias',\n 'titulos',\n 'credito',\n 'direto',\n 'justica',\n 'juros',\n 'valor',\n 'quer',\n 'agenda',\n 'previdencia',\n 'preve',\n 'conselho',\n 'santander',\n 'mantem',\n 'aumento',\n 'anp',\n 'anos',\n 'ativos',\n 'comercial',\n 'politica',\n 'sal',\n 'b3',\n 'agora',\n 'ter',\n 'oi',\n 'faz',\n 'bb',\n 'avanca',\n 'comprar',\n 'capital',\n 'guedes',\n 'prejuizo',\n 'caixa',\n 'leilao',\n 'setor',\n 'destaques',\n 'pagamento',\n 'campos',\n 'braskem',\n 'fatia',\n 'unibanco',\n 'ainda',\n 'pagar',\n 'bilhao',\n 'leve',\n 'recorde',\n 'eletrobras',\n 'maio',\n 'vendas',\n 'tem',\n 'distribuidora',\n 'economia',\n 'etanol',\n 'vende',\n 'aumenta',\n 'analistas',\n 'vender',\n 'fase',\n 'guerra',\n 'abril',\n 'resultados',\n 'marco',\n 'volta',\n 'campo',\n 'itausa',\n 'cessao',\n 'sexta',\n 'cade',\n 'processo',\n 'irb',\n 'inflacao',\n 'exterior',\n 'decisao',\n 'recua',\n 'recuperacao',\n 'janeiro',\n 'greve',\n 'aponta',\n 'alvo',\n 'quarta',\n 'pede',\n 'mes',\n 'inter',\n 'barragem',\n 'segunda',\n 'novas',\n 'cresce',\n 'avalia',\n 'forte',\n 'risco',\n 'trump',\n 'opera',\n 'plano',\n 'quase',\n 'ira',\n 'divulga',\n 'exmenos',\n 'terca',\n 'dispara',\n 'prazo',\n 'luiza',\n 'pagara',\n 'o',\n 'conclui',\n 'magazine',\n 'bc',\n 'onerosa',\n 'menor',\n 'julho',\n 'quinta',\n 'selic',\n 'projeto',\n 'bndes',\n 'fed',\n 'crescimento',\n 'cvm',\n 'recebe',\n 'energia',\n 'varejo',\n 'chinesa',\n 'baixa',\n 'operacao',\n 'afirma',\n 'menos',\n 'outubro',\n 'valorizacao',\n 'fevereiro',\n 'investir',\n 'lanca',\n 'barragens',\n 'com',\n 'operacoes',\n 'agosto',\n 'desde',\n 'credit',\n 'jornal',\n 'estados',\n 'tres',\n 'tri',\n 'corte',\n 'devem',\n 'contrato',\n 'azul',\n 'suisse',\n 'reducao',\n 'mg',\n 'meses',\n 'acionistas',\n 'espera',\n 'diretor',\n 'paulo',\n 'demanda',\n 'refinaria',\n 'nubank',\n 'hoje',\n 'divida',\n 'programa',\n 'caem',\n 'novembro',\n 'gol',\n 'vinculante',\n 'reduzir',\n 'atinge',\n 'setembro',\n 'taxa',\n 'crise',\n 'via',\n 'reajuste',\n 'confirma',\n 'junho',\n 'indica',\n 'suspende',\n 'funcionarios',\n 'central',\n 'proposta',\n 'oibr3',\n 'bba',\n 'minas',\n 'petrorio',\n 'samarco',\n 'resultado',\n 'chega',\n 'fundo',\n 'jato',\n 'senado',\n 'investimento',\n 'apresenta',\n 'grupo',\n 'novos',\n 'aposta',\n 'privatizacao',\n 'csn',\n 'postos',\n 'jbs',\n 'guide',\n 'debentures',\n 'maiores',\n 'camara',\n 'podem',\n 'precomenos',\n 'lava',\n 'dias',\n 'fim',\n 'pedido',\n 'partir',\n 'pandemia',\n 'bacia',\n 'terra',\n 'assina',\n 'lojas',\n 'rio',\n 'polo',\n 'ganhos',\n 'mina',\n 'embraer',\n 'ativa',\n 'stf',\n 'impacto',\n 'balanco',\n 'em',\n 'parceria',\n 'argentina',\n 'ubs',\n 'brf',\n 'covidmenos',\n 'combustivel',\n 'global',\n 'dezembro',\n 'estuda',\n 'jcp',\n 'sobem',\n 'ny',\n 'financeiro',\n 'sp',\n 'nega',\n 'cenario',\n 'renda',\n 'projecao',\n 'tragedia',\n 'vacina',\n 'fundos',\n 'antes',\n 'caminhoneiros',\n 'operam',\n 'investidores',\n 'meio',\n 'dizem',\n 'fica',\n 'olho',\n 'coronavoucher',\n 'cotado',\n 'inclui',\n 'receita',\n 'duas',\n 'ministro',\n 'plataforma',\n 'elite',\n 'melhor',\n 'pactual',\n 'perde',\n 'bbas3',\n 'america',\n 'safra',\n 'bahia',\n 'fecham',\n 'entenda',\n 'contratos',\n 'retomada',\n 'rede',\n 'mudancas',\n 'registram',\n 'acionaria',\n 'copom',\n 'top',\n 'estavel',\n 'usiminas',\n 'para',\n 'siderurgicas',\n 'noticias',\n 'gerdau',\n 'sao',\n '2t20',\n 'a',\n 'bradespar',\n 'acima',\n 'brasileiros',\n 'corta',\n 'suspensao',\n 'mglu3',\n 'marfrig',\n 'bbdc4',\n 'perdas',\n 'primeiro',\n 'abaixo',\n 'estatal',\n 'mp',\n 'nivel',\n 'luna',\n 'caso',\n '3t20',\n 'recompra',\n 'mirae',\n 'mundo',\n 'judicial',\n 'assembleia',\n 'planeja',\n 'federal',\n 'previsao',\n 'emissao',\n 'pais',\n 'paga',\n 'cvc',\n 'bolsas',\n 'realiza',\n 'uniao',\n 'lista',\n 'boletim',\n 'contrata',\n 'focus',\n 'total',\n 'dois',\n 'alerta',\n 'busca',\n 'taxas',\n 'irbr3',\n 'possivel',\n 'esperado',\n 'aquisicao',\n 'balancos',\n 'atualiza',\n 'proxima',\n 'clientes',\n 'mineracao',\n 'dados',\n '1t20',\n 'cielo',\n 'weg',\n 'positivo',\n 'lidera',\n 'conta',\n '3r',\n 'odebrecht',\n 'nao',\n 'altas',\n 'operar',\n 'commodities',\n 'elet3',\n 'comissao',\n 'negociacoes',\n 'parente',\n 'recomenda',\n 'as',\n 'inicio',\n 'cria',\n 'auxilio',\n 'bate',\n 'lula',\n 'presidencia',\n 'entra',\n 'abertura',\n 'aumentar',\n 'imoveis',\n 'avianca',\n 'futuro',\n 'previa',\n 'quatro',\n 'da',\n 'cosan',\n 'avancam',\n 'cinco',\n 'fiscal',\n 'defende',\n 'klabin',\n 'suzano',\n 'ipca',\n 'podera',\n 'negocios',\n 'e',\n 'principais',\n 'subsidiaria',\n 'renner',\n 'tim',\n 'vez',\n 'informa',\n 'retoma',\n 'oleo',\n 'eleicoes',\n 'subir',\n 'apresentam',\n 'desemprego',\n 'meta',\n 'primeira',\n 'icms',\n 'natura',\n 'grandes',\n 'apesar',\n 'melhores',\n 'santos',\n 'brasileiro',\n 'unidade',\n 'congresso',\n 'supera',\n '4t21',\n 'pretende',\n 'avanco',\n 'esperar',\n 'buzios',\n 'itsa4',\n 'companhia',\n 'proprio',\n 'negociacao',\n 'cerca',\n 'prio3',\n 'ganhar',\n 'exportacao',\n 'otimismo',\n 'latina',\n 'area',\n 'acucar',\n 'distribuicao',\n 'tributaria',\n 'mudanca',\n 'terceiro',\n 'amazon',\n 'numero',\n 'segue',\n 'fusao',\n 'mensal',\n 'unidos',\n 'mycap',\n 'economica',\n 'publica',\n 'globais',\n 'brkm5',\n 'on',\n 'fazer',\n 'silva',\n 'branco',\n 'autoriza',\n 'imobiliario',\n 'goldman',\n 'recomendacao',\n 'pessoas',\n 'por',\n 'reuniao',\n 'imposto',\n 'natural',\n 'livre',\n 'goll4',\n 'ue',\n 'administracao',\n 'vao',\n 'muda',\n 'final',\n 'estreia',\n 'mariana',\n 'trabalho',\n 'passa',\n 'contas',\n 'cargo',\n 'portfolio',\n 'estatais',\n 'ultrapar',\n 'neste',\n 'ibge',\n 'maia',\n 'marca',\n 'ante',\n 'americanas',\n 'niquel',\n 'estabilidade',\n 'foco',\n 'dividas',\n 'morgan',\n 'cpi',\n 'disputa',\n 'desta',\n 'petroleum',\n 'negocia',\n 'eneva',\n 'gerais',\n 'quedas',\n 'recursos',\n 'plataformas',\n 'votacao',\n 'distribuidoras',\n 'lei',\n 'brexit',\n 'mais',\n 'saida',\n 'jbss3',\n 'prepara',\n 'multa',\n 'ranking',\n 'ministerio',\n 'ficar',\n 'petroleiros',\n 'ambev',\n 'fara',\n 'salta',\n 'rompimento',\n 'tarifas',\n 'outras',\n 'retira',\n 'ofertas',\n 'medio',\n 'libera',\n 'manter',\n 'trabalhadores',\n 'deixa',\n 'perto',\n 'futura',\n 'indice',\n 'demissao',\n 'decide',\n 'precisa',\n 'renuncia',\n 'diminui',\n 'apoio',\n 'saiba',\n 'saude',\n 'medidas',\n 'amplia',\n 'dinheiro',\n 'indenizacao',\n 'vitimas',\n 'fitch',\n 'desastre',\n 'valores',\n 'maxima',\n 'retomar',\n 'adia',\n 'bofa',\n 'cemig',\n 'brasileira',\n 'estimulos',\n 'uber',\n 'mira',\n 'cvcb3',\n 'terminal',\n 'fmi',\n 'recomendacoes',\n 'rating',\n 'interesse',\n 'recuam',\n 'rodada',\n 'sanb11',\n 'rumo',\n 'usina',\n 'porto',\n 'soma',\n 'proximos',\n 'riscos',\n 'liquigas',\n 'renova',\n 'expectativa',\n 'apple',\n 'estima',\n 'fabrica',\n 'divulgacao',\n 'fala',\n 'comercio',\n 'quais',\n 'pacote',\n 'diretoria',\n 'negociado',\n 'traz',\n 'mostra',\n 'mineradora',\n 'lucra',\n 'azul4',\n 'digital',\n 'fechar',\n 'moodys',\n 'seguranca',\n 'agencia',\n 'vem',\n 'black',\n 'aes',\n 'tecnologia',\n 'agitam',\n 'sachs',\n 'devido',\n 'ccr',\n 'pressao',\n 'internacional',\n 'cozinha',\n 'deficit',\n 'esg',\n 'servicos',\n 'crescer',\n 'tcu',\n 'friday',\n 'pedro',\n 'atividades',\n 'indicacao',\n 'citi',\n 'necton',\n 'barris',\n 'linx',\n '1t22',\n 'tudo',\n 'determina',\n 'nacional',\n 'cair',\n 'fgts',\n 'lideram',\n 'totvs',\n 'blocos',\n 'linha',\n 'industrial',\n 'comeca',\n 'sessao',\n 'historia',\n 'projecoes',\n 'usinas',\n 'credores',\n 'lidas',\n 'fechamento',\n 'petros',\n 'receber',\n 'potencial',\n 'nubr33',\n 'produtos',\n 'semestre',\n 'parte',\n 'euro',\n 'pagamentos',\n 'tesla',\n 'albacora',\n 'boeing',\n 'refino',\n 'relatorio',\n 'como',\n 'ganha',\n 'perspectiva',\n 'durante',\n 'proximo',\n 'externo',\n 'lucros',\n 'leiloes',\n 'google',\n 'baixo',\n 'curto',\n 'disparam',\n 'gpa',\n 'ucrania',\n 'fgv',\n 'embr3',\n 'indicacoes',\n 'executivos',\n 'verde',\n 'dona',\n 'define',\n 'tag',\n 'facebook',\n 'aco',\n 'lucrar',\n 'mrv',\n 'russia',\n 'aplicativo',\n 'cocais',\n 'small',\n 'caps',\n 'investidor',\n 'bank',\n 'barao',\n 'privatizar',\n 'startup',\n 'toneladas',\n 'milhao',\n 'rj',\n 'bem',\n 'carteiras',\n 'papeis',\n 'aprovada',\n 'vivo',\n '3t19',\n 'fertilizantes',\n 'b3sa3',\n 'secretario',\n 'estimativa',\n 'negocio',\n 'financiamento',\n 'chines',\n 'emissoes',\n 'rentabilidade',\n 'sob',\n 'castello',\n 'temer',\n 'negativo',\n 'governanca',\n 'expectativas',\n 'log',\n 'wall',\n 'gaspetro',\n 'propoe',\n 'mrfg3',\n 'aprovacao',\n 'puxado',\n 'adquire',\n 'wege3',\n 'paralisacao',\n 'grande',\n 'impostos',\n 'bidi11',\n 'datas',\n 'obtem',\n 'investigacao',\n 'cartao',\n 'latam',\n 'lira',\n 'cortes',\n 'debate',\n 'sistema',\n 'terrestres',\n 'entram',\n 'exploracao',\n 'gastos',\n 'financeira',\n 'mpf',\n 'telefonica',\n 'feriado',\n 'aval',\n 'sul',\n 'testes',\n 'geral',\n 'startups',\n 'mercados',\n 'projeta',\n 'amanha',\n 'regras',\n 'opep',\n 'reitera',\n 'especial',\n 'custos',\n 'pedidos',\n 'despenca',\n 'ajuda',\n 'areas',\n 'canada',\n 'forca',\n 'industria',\n 'conter',\n 'entrada',\n 'seguir',\n 'barata',\n 'musk',\n 'tiete',\n 'confianca',\n 'reverte',\n 'exportacoes',\n 'reforca',\n 'todos',\n 'devera',\n 'metade',\n 'notredame',\n 'desinvestimentos',\n 'cyrela',\n 'followmenos',\n 'smiles',\n 'saber',\n 'anuncio',\n 'europa',\n 'custo',\n 'csna3',\n 'stone',\n 'boa',\n 'entrega',\n 'reestruturacao',\n 'blackrock',\n 'comando',\n 'parcela',\n 'glp',\n 'retorno',\n 'projetos',\n 'importacao',\n 'localiza',\n 'construcao',\n 'prorroga',\n 'imobiliarios',\n 'zona',\n 'corretora',\n 'raizen',\n 'york',\n 'causa',\n 'elege',\n 'onde',\n 'pesquisa',\n 'demite',\n 'rejeita',\n 'levantar',\n 'desconto',\n 'tiktok',\n 'hapvida',\n 'defasagem',\n 'denuncia',\n 'deixar',\n 'recuo',\n 'executivo',\n 'street',\n 'neto',\n 'brap4',\n 'stanley',\n 'cisao',\n 'mourao',\n 'tradingview',\n 'sindicato',\n 'nota',\n 'jair',\n 'destaque',\n 'm',\n 'relacao',\n 'seguro',\n '4t19',\n 'pior',\n 'aprovar',\n 'money',\n 'acordos',\n 'correios',\n 'critica',\n 'enquanto',\n 'melhora',\n 'recupera',\n 'negociar',\n 'cartoes',\n 'captacao',\n 'consumo',\n 'investira',\n 'mundial',\n 'bloco',\n 'casos',\n 'familias',\n 'mexico',\n 'se',\n 'huawei',\n 'chegar',\n 'voos',\n 'cfo',\n 'leva',\n 'cautela',\n 'antecipa',\n 'edp',\n 'gnl',\n 'pao',\n 'lote',\n 'liminar',\n 'outros',\n 'pix',\n 'eleicao',\n 'copel',\n 'social',\n 'bpac11',\n 'reino',\n 'unido',\n 'brasileiras',\n 'ciel3',\n 'aprovam',\n 'engie',\n 'softbank',\n 'geracao',\n 'pec',\n 'atencao',\n 'emergencia',\n 'ghosn',\n 'fazem',\n 'ouro',\n 'casa',\n 'altera',\n 'rrrp3',\n 'iguatemi',\n 'expansao',\n 'elevar',\n 'anunciar',\n 'bater',\n 'falta',\n 'seguridade',\n 'omc',\n 'vira',\n 'alto',\n 'incendio',\n 'querem',\n 'sugere',\n 'encerrar',\n 'pf',\n 'realizar',\n 'sete',\n 'enfrentar',\n 'apresentar',\n 'emprestimo',\n 'moro',\n 'ticket',\n 'analise',\n 'novidades',\n 'evitar',\n 'bhp',\n 'emergencial',\n 'prisao',\n 'balanca',\n 'office',\n ...]"
     },
     "execution_count": 5,
     "metadata": {},
     "output_type": "execute_result"
    }
   ],
   "source": [
    "model.wv.index_to_key"
   ],
   "metadata": {
    "collapsed": false
   }
  },
  {
   "cell_type": "code",
   "execution_count": 6,
   "outputs": [],
   "source": [
    "word_embeddings = []\n",
    "vocab = []\n",
    "\n",
    "for i, word in enumerate(model.wv.index_to_key):\n",
    "    vocab.append(word)\n",
    "    word_embeddings.append(model.wv[word])"
   ],
   "metadata": {
    "collapsed": false
   }
  },
  {
   "cell_type": "code",
   "execution_count": 7,
   "outputs": [
    {
     "data": {
      "text/plain": "             0         1         2         3         4         5         6  \\\n0    -0.168238  0.157166  0.313365  0.357736 -0.401158 -0.410387  0.485782   \n1    -0.011100  0.523845  0.176837  0.533204  0.062346  0.199473  0.141219   \n2    -0.005005  0.100099  0.564339  0.299671 -0.418595 -0.392340  0.957735   \n3    -0.427080 -0.106793 -0.064216  0.114558  0.066548 -0.560485 -0.348762   \n4    -0.077757  0.246810 -0.003233  0.377013  0.044431 -0.022526  0.045652   \n...        ...       ...       ...       ...       ...       ...       ...   \n3429 -0.004428  0.034264 -0.000436  0.019951  0.007822 -0.047770  0.023769   \n3430 -0.003093  0.045650  0.003019  0.024420  0.008195 -0.066893  0.020750   \n3431 -0.001058  0.033581 -0.005436  0.021415  0.005841 -0.048823  0.012083   \n3432 -0.003932  0.020255  0.010150  0.014465  0.000675 -0.032429  0.029480   \n3433 -0.005303  0.000759  0.015411  0.011748 -0.008928 -0.026770  0.027169   \n\n             7         8         9  ...       291       292       293  \\\n0     0.727607 -0.253907 -0.416206  ...  0.190522  0.598968 -0.409415   \n1     0.709443  0.764909 -0.557238  ...  0.490605  0.552759  0.524615   \n2     0.670811 -0.248862 -0.658701  ...  0.474809  0.715989 -0.195722   \n3     0.581624 -0.104919  0.168650  ...  0.016313 -0.002347 -0.393555   \n4     0.578031  0.594330 -0.263887  ...  0.430558  0.418529  0.206729   \n...        ...       ...       ...  ...       ...       ...       ...   \n3429  0.075056  0.025227 -0.027746  ...  0.047084  0.034527  0.010385   \n3430  0.089837  0.023538 -0.026120  ...  0.048199  0.043542  0.000799   \n3431  0.071119  0.025709 -0.014731  ...  0.041705  0.028832  0.009880   \n3432  0.045026  0.004291 -0.016730  ...  0.026421  0.024662  0.001112   \n3433  0.034587 -0.005289 -0.015915  ...  0.010893  0.021148 -0.015401   \n\n           294       295       296       297       298       299         nome  \n0     0.776612  0.187728  0.167323 -0.458593  0.453326 -0.136577        <NUM>  \n1     0.640188  0.557422 -0.017307 -0.138403  0.124824  0.008358    petrobras  \n2     0.786600  0.281371  0.240041 -0.428077  0.732741 -0.351524        cento  \n3     0.090410  0.022970 -0.105865 -0.387094  0.093603  0.347530         vale  \n4     0.312358  0.399935 -0.005026 -0.117615  0.103631  0.132893          diz  \n...        ...       ...       ...       ...       ...       ...          ...  \n3429  0.036306  0.043360 -0.002662 -0.022751  0.012984 -0.011608        sente  \n3430  0.048957  0.051348 -0.005324 -0.026963  0.011436 -0.010457          big  \n3431  0.031835  0.041015 -0.005824 -0.018147  0.008898 -0.004834       tentar  \n3432  0.021668  0.029526  0.004431 -0.017320  0.015047 -0.005983  sinalizacao  \n3433  0.027443  0.013434 -0.001149 -0.020510  0.018629 -0.005021        bayer  \n\n[3434 rows x 301 columns]",
      "text/html": "<div>\n<style scoped>\n    .dataframe tbody tr th:only-of-type {\n        vertical-align: middle;\n    }\n\n    .dataframe tbody tr th {\n        vertical-align: top;\n    }\n\n    .dataframe thead th {\n        text-align: right;\n    }\n</style>\n<table border=\"1\" class=\"dataframe\">\n  <thead>\n    <tr style=\"text-align: right;\">\n      <th></th>\n      <th>0</th>\n      <th>1</th>\n      <th>2</th>\n      <th>3</th>\n      <th>4</th>\n      <th>5</th>\n      <th>6</th>\n      <th>7</th>\n      <th>8</th>\n      <th>9</th>\n      <th>...</th>\n      <th>291</th>\n      <th>292</th>\n      <th>293</th>\n      <th>294</th>\n      <th>295</th>\n      <th>296</th>\n      <th>297</th>\n      <th>298</th>\n      <th>299</th>\n      <th>nome</th>\n    </tr>\n  </thead>\n  <tbody>\n    <tr>\n      <th>0</th>\n      <td>-0.168238</td>\n      <td>0.157166</td>\n      <td>0.313365</td>\n      <td>0.357736</td>\n      <td>-0.401158</td>\n      <td>-0.410387</td>\n      <td>0.485782</td>\n      <td>0.727607</td>\n      <td>-0.253907</td>\n      <td>-0.416206</td>\n      <td>...</td>\n      <td>0.190522</td>\n      <td>0.598968</td>\n      <td>-0.409415</td>\n      <td>0.776612</td>\n      <td>0.187728</td>\n      <td>0.167323</td>\n      <td>-0.458593</td>\n      <td>0.453326</td>\n      <td>-0.136577</td>\n      <td>&lt;NUM&gt;</td>\n    </tr>\n    <tr>\n      <th>1</th>\n      <td>-0.011100</td>\n      <td>0.523845</td>\n      <td>0.176837</td>\n      <td>0.533204</td>\n      <td>0.062346</td>\n      <td>0.199473</td>\n      <td>0.141219</td>\n      <td>0.709443</td>\n      <td>0.764909</td>\n      <td>-0.557238</td>\n      <td>...</td>\n      <td>0.490605</td>\n      <td>0.552759</td>\n      <td>0.524615</td>\n      <td>0.640188</td>\n      <td>0.557422</td>\n      <td>-0.017307</td>\n      <td>-0.138403</td>\n      <td>0.124824</td>\n      <td>0.008358</td>\n      <td>petrobras</td>\n    </tr>\n    <tr>\n      <th>2</th>\n      <td>-0.005005</td>\n      <td>0.100099</td>\n      <td>0.564339</td>\n      <td>0.299671</td>\n      <td>-0.418595</td>\n      <td>-0.392340</td>\n      <td>0.957735</td>\n      <td>0.670811</td>\n      <td>-0.248862</td>\n      <td>-0.658701</td>\n      <td>...</td>\n      <td>0.474809</td>\n      <td>0.715989</td>\n      <td>-0.195722</td>\n      <td>0.786600</td>\n      <td>0.281371</td>\n      <td>0.240041</td>\n      <td>-0.428077</td>\n      <td>0.732741</td>\n      <td>-0.351524</td>\n      <td>cento</td>\n    </tr>\n    <tr>\n      <th>3</th>\n      <td>-0.427080</td>\n      <td>-0.106793</td>\n      <td>-0.064216</td>\n      <td>0.114558</td>\n      <td>0.066548</td>\n      <td>-0.560485</td>\n      <td>-0.348762</td>\n      <td>0.581624</td>\n      <td>-0.104919</td>\n      <td>0.168650</td>\n      <td>...</td>\n      <td>0.016313</td>\n      <td>-0.002347</td>\n      <td>-0.393555</td>\n      <td>0.090410</td>\n      <td>0.022970</td>\n      <td>-0.105865</td>\n      <td>-0.387094</td>\n      <td>0.093603</td>\n      <td>0.347530</td>\n      <td>vale</td>\n    </tr>\n    <tr>\n      <th>4</th>\n      <td>-0.077757</td>\n      <td>0.246810</td>\n      <td>-0.003233</td>\n      <td>0.377013</td>\n      <td>0.044431</td>\n      <td>-0.022526</td>\n      <td>0.045652</td>\n      <td>0.578031</td>\n      <td>0.594330</td>\n      <td>-0.263887</td>\n      <td>...</td>\n      <td>0.430558</td>\n      <td>0.418529</td>\n      <td>0.206729</td>\n      <td>0.312358</td>\n      <td>0.399935</td>\n      <td>-0.005026</td>\n      <td>-0.117615</td>\n      <td>0.103631</td>\n      <td>0.132893</td>\n      <td>diz</td>\n    </tr>\n    <tr>\n      <th>...</th>\n      <td>...</td>\n      <td>...</td>\n      <td>...</td>\n      <td>...</td>\n      <td>...</td>\n      <td>...</td>\n      <td>...</td>\n      <td>...</td>\n      <td>...</td>\n      <td>...</td>\n      <td>...</td>\n      <td>...</td>\n      <td>...</td>\n      <td>...</td>\n      <td>...</td>\n      <td>...</td>\n      <td>...</td>\n      <td>...</td>\n      <td>...</td>\n      <td>...</td>\n      <td>...</td>\n    </tr>\n    <tr>\n      <th>3429</th>\n      <td>-0.004428</td>\n      <td>0.034264</td>\n      <td>-0.000436</td>\n      <td>0.019951</td>\n      <td>0.007822</td>\n      <td>-0.047770</td>\n      <td>0.023769</td>\n      <td>0.075056</td>\n      <td>0.025227</td>\n      <td>-0.027746</td>\n      <td>...</td>\n      <td>0.047084</td>\n      <td>0.034527</td>\n      <td>0.010385</td>\n      <td>0.036306</td>\n      <td>0.043360</td>\n      <td>-0.002662</td>\n      <td>-0.022751</td>\n      <td>0.012984</td>\n      <td>-0.011608</td>\n      <td>sente</td>\n    </tr>\n    <tr>\n      <th>3430</th>\n      <td>-0.003093</td>\n      <td>0.045650</td>\n      <td>0.003019</td>\n      <td>0.024420</td>\n      <td>0.008195</td>\n      <td>-0.066893</td>\n      <td>0.020750</td>\n      <td>0.089837</td>\n      <td>0.023538</td>\n      <td>-0.026120</td>\n      <td>...</td>\n      <td>0.048199</td>\n      <td>0.043542</td>\n      <td>0.000799</td>\n      <td>0.048957</td>\n      <td>0.051348</td>\n      <td>-0.005324</td>\n      <td>-0.026963</td>\n      <td>0.011436</td>\n      <td>-0.010457</td>\n      <td>big</td>\n    </tr>\n    <tr>\n      <th>3431</th>\n      <td>-0.001058</td>\n      <td>0.033581</td>\n      <td>-0.005436</td>\n      <td>0.021415</td>\n      <td>0.005841</td>\n      <td>-0.048823</td>\n      <td>0.012083</td>\n      <td>0.071119</td>\n      <td>0.025709</td>\n      <td>-0.014731</td>\n      <td>...</td>\n      <td>0.041705</td>\n      <td>0.028832</td>\n      <td>0.009880</td>\n      <td>0.031835</td>\n      <td>0.041015</td>\n      <td>-0.005824</td>\n      <td>-0.018147</td>\n      <td>0.008898</td>\n      <td>-0.004834</td>\n      <td>tentar</td>\n    </tr>\n    <tr>\n      <th>3432</th>\n      <td>-0.003932</td>\n      <td>0.020255</td>\n      <td>0.010150</td>\n      <td>0.014465</td>\n      <td>0.000675</td>\n      <td>-0.032429</td>\n      <td>0.029480</td>\n      <td>0.045026</td>\n      <td>0.004291</td>\n      <td>-0.016730</td>\n      <td>...</td>\n      <td>0.026421</td>\n      <td>0.024662</td>\n      <td>0.001112</td>\n      <td>0.021668</td>\n      <td>0.029526</td>\n      <td>0.004431</td>\n      <td>-0.017320</td>\n      <td>0.015047</td>\n      <td>-0.005983</td>\n      <td>sinalizacao</td>\n    </tr>\n    <tr>\n      <th>3433</th>\n      <td>-0.005303</td>\n      <td>0.000759</td>\n      <td>0.015411</td>\n      <td>0.011748</td>\n      <td>-0.008928</td>\n      <td>-0.026770</td>\n      <td>0.027169</td>\n      <td>0.034587</td>\n      <td>-0.005289</td>\n      <td>-0.015915</td>\n      <td>...</td>\n      <td>0.010893</td>\n      <td>0.021148</td>\n      <td>-0.015401</td>\n      <td>0.027443</td>\n      <td>0.013434</td>\n      <td>-0.001149</td>\n      <td>-0.020510</td>\n      <td>0.018629</td>\n      <td>-0.005021</td>\n      <td>bayer</td>\n    </tr>\n  </tbody>\n</table>\n<p>3434 rows × 301 columns</p>\n</div>"
     },
     "execution_count": 7,
     "metadata": {},
     "output_type": "execute_result"
    }
   ],
   "source": [
    "emb_df = pd.DataFrame(word_embeddings)\n",
    "emb_df = emb_df.assign(nome=vocab)\n",
    "emb_df"
   ],
   "metadata": {
    "collapsed": false
   }
  },
  {
   "cell_type": "code",
   "execution_count": null,
   "outputs": [],
   "source": [
    "tsne = TSNE(n_components=2,perplexity=40, n_iter=2500, random_state=23, learning_rate=100,metric='euclidean',init='pca')\n",
    "X_tsne = tsne.fit_transform(np.array(word_embeddings))\n",
    "X_tsne[1:4,:]\n",
    "emb_df['x'] = X_tsne[:,0]\n",
    "emb_df['y'] = X_tsne[:,1]\n",
    "fig = px.scatter(emb_df,x='x',y='y',hover_data={'x':False, 'y':False,'nome':True})\n",
    "fig.show()"
   ],
   "metadata": {
    "collapsed": false,
    "pycharm": {
     "is_executing": true
    }
   }
  },
  {
   "cell_type": "markdown",
   "source": [],
   "metadata": {
    "collapsed": false
   }
  }
 ],
 "metadata": {
  "kernelspec": {
   "display_name": "Python 3",
   "language": "python",
   "name": "python3"
  },
  "language_info": {
   "codemirror_mode": {
    "name": "ipython",
    "version": 2
   },
   "file_extension": ".py",
   "mimetype": "text/x-python",
   "name": "python",
   "nbconvert_exporter": "python",
   "pygments_lexer": "ipython2",
   "version": "2.7.6"
  }
 },
 "nbformat": 4,
 "nbformat_minor": 0
}
