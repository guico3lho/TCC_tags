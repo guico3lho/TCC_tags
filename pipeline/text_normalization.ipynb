{
 "cells": [
  {
   "cell_type": "markdown",
   "source": [
    "## Packages"
   ],
   "metadata": {
    "collapsed": false
   }
  },
  {
   "cell_type": "code",
   "execution_count": 2,
   "outputs": [],
   "source": [
    "import pandas as pd\n",
    "import re\n",
    "import string\n",
    "import nltk"
   ],
   "metadata": {
    "collapsed": false,
    "ExecuteTime": {
     "end_time": "2023-11-30T21:28:48.179382200Z",
     "start_time": "2023-11-30T21:28:01.485193500Z"
    }
   }
  },
  {
   "cell_type": "markdown",
   "source": [
    "## Functions"
   ],
   "metadata": {
    "collapsed": false
   }
  },
  {
   "cell_type": "markdown",
   "source": [
    "### Main funcs"
   ],
   "metadata": {
    "collapsed": false
   }
  },
  {
   "cell_type": "code",
   "execution_count": 29,
   "outputs": [],
   "source": [
    "def normalizar_texto_coluna_df(df: pd.DataFrame, column_name: str, language: str):\n",
    "\n",
    "    df_copy = df.copy()\n",
    "    df_transformado = transformar_texto_coluna_df(df_copy, column_name, language)\n",
    "    df_tokenized = tokenizar_texto_coluna_df(df_transformado, column_name)\n",
    "    df_without_stopwords = remover_stopwords_coluna_df(df_tokenized, column_name, language)\n",
    "    df_stemmed = stemizar_tokens_coluna_df(df_without_stopwords, column_name)\n",
    "    df_resultado_final = get_resultado_final(df_stemmed, column_name)\n",
    "\n",
    "    df_normalizado = df_resultado_final.copy()\n",
    "    return df_normalizado\n",
    "    # df_without_stopwords = remover_stopwords_coluna_df(df_transformado, column_name, language)\n",
    "\n",
    "\n",
    "def transformar_texto_coluna_df(df: pd.DataFrame, column_name: str, language: str):\n",
    "    # transformação de texto (default case, emoji, symbols, regular expressions)\n",
    "    # transformar_texto\n",
    "    df_transformado = df.copy()\n",
    "\n",
    "    df_transformado[column_name] = df_transformado[column_name].map(lambda s:\n",
    "                                                                    remove_acentos(s))\n",
    "    \n",
    "    df_transformado[column_name] = df_transformado[column_name].map(lambda s: s.lower())\n",
    "    # 1. Aplicar preprocessamento nos títulos e textos completos\n",
    "    if language == 'pt':\n",
    "        # Substituir símbolos importantes\n",
    "        df_transformado[column_name] = df_transformado[column_name].map(lambda s: s.replace('-feira', ''))\n",
    "        df_transformado[column_name] = df_transformado[column_name].map(lambda s: s.replace('+', 'mais '))\n",
    "        df_transformado[column_name] = df_transformado[column_name].map(lambda s: s.replace('-', 'menos '))\n",
    "        df_transformado[column_name] = df_transformado[column_name].map(lambda s: s.replace('%', ' por cento'))\n",
    "\n",
    "    elif language == 'en':\n",
    "        df_transformado[column_name] = df_transformado[column_name].map(lambda s: s.replace('-', 'less'))\n",
    "        df_transformado[column_name] = df_transformado[column_name].map(lambda s: s.replace('+', 'plus '))\n",
    "        df_transformado[column_name] = df_transformado[column_name].map(lambda s: s.replace('%', ' percent'))\n",
    "\n",
    "    else:\n",
    "        pass\n",
    "\n",
    "    df_transformado[column_name] = df_transformado[column_name].map(lambda s: s.replace('r$', ''))\n",
    "    df_transformado[column_name] = df_transformado[column_name].map(lambda s: s.replace('u$', ''))\n",
    "    df_transformado[column_name] = df_transformado[column_name].map(lambda s: s.replace('us$', ''))\n",
    "    df_transformado[column_name] = df_transformado[column_name].map(lambda s: s.replace('s&p 500', 'spx'))\n",
    "\n",
    "    # Transformar em String e Letras Minúsculas nas Mensagens\n",
    "\n",
    "    # Remover Pontuações\n",
    "    df_transformado[column_name] = df_transformado[column_name].map(\n",
    "        lambda s: s.translate(str.maketrans('', '', string.punctuation)))\n",
    "\n",
    "    # Remover Emojis\n",
    "    df_transformado[column_name] = df_transformado[column_name].map(lambda s: remove_emojis(s))\n",
    "\n",
    "    # Quebras de Linha desnecessárias\n",
    "    df_transformado[column_name] = df_transformado[column_name].map(lambda s: s.replace('\\n', ' '))\n",
    "\n",
    "    # Remover aspas duplas\n",
    "    df_transformado[column_name] = df_transformado[column_name].map(lambda s: s.replace('\\\"', ''))\n",
    "    df_transformado[column_name] = df_transformado[column_name].map(lambda s: s.replace('“', ''))\n",
    "    df_transformado[column_name] = df_transformado[column_name].map(lambda s: s.replace('”', ''))\n",
    "\n",
    "    # Remover valores\n",
    "    df_transformado[column_name] = df_transformado[column_name].map(lambda s: remove_numeros(s))\n",
    "\n",
    "    # Espaços desnecessários\n",
    "    df_transformado[column_name] = df_transformado[column_name].map(lambda s: s.strip())\n",
    "    return df_transformado\n",
    "\n",
    "def tokenizar_texto_coluna_df(df: pd.DataFrame, column_name: str):\n",
    "    df_tokenized = df.copy()\n",
    "    from nltk.tokenize import RegexpTokenizer\n",
    "    tokenizer = RegexpTokenizer(r'\\w+')\n",
    "    df_tokenized[column_name] = df_tokenized[column_name].map(lambda s: tokenizer.tokenize(s))\n",
    "    return df_tokenized\n",
    "\n",
    "def remover_stopwords_coluna_df(df: pd.DataFrame, column_name: str, language: str):\n",
    "    df_without_stopwords = df.copy()\n",
    "    stop_words = get_stopwords(language)\n",
    "    df_without_stopwords[column_name] = df_without_stopwords[column_name].map(\n",
    "        lambda tokens: remove_stopwords(tokens, stop_words))\n",
    "    return df_without_stopwords\n",
    "\n",
    "def stemizar_tokens_coluna_df(df: pd.DataFrame, column_name: str):\n",
    "    \n",
    "    df_stemized = df.copy()\n",
    "    from nltk.stem import SnowballStemmer\n",
    "    stemmer = SnowballStemmer('portuguese')\n",
    "    df_stemized[column_name] = df_stemized[column_name].map(lambda tokens: [stemmer.stem(token) for token in tokens])\n",
    "    return df_stemized\n",
    "\n",
    "def get_resultado_final(df: pd.DataFrame, column_name: str):\n",
    "    df_resultado_final = df.copy()\n",
    "    df_resultado_final[column_name] = df_resultado_final[column_name].map(lambda s: ' '.join(s))\n",
    "    return df_resultado_final\n",
    "    "
   ],
   "metadata": {
    "collapsed": false,
    "ExecuteTime": {
     "end_time": "2023-11-30T21:49:53.826925800Z",
     "start_time": "2023-11-30T21:49:53.820428900Z"
    }
   }
  },
  {
   "cell_type": "markdown",
   "source": [
    "### Aux funcs"
   ],
   "metadata": {
    "collapsed": false
   }
  },
  {
   "cell_type": "code",
   "execution_count": 22,
   "outputs": [],
   "source": [
    "def remove_emojis(sentence):\n",
    "    \"Remoção de Emojis nas mensagens de texto.\"\n",
    "\n",
    "    # Padrões dos Emojis\n",
    "    emoji_pattern = re.compile(\"[\"\n",
    "                               u\"\\U0001F600-\\U0001F64F\"  # emoticons\n",
    "                               u\"\\U0001F300-\\U0001F5FF\"  # symbols & pictographs\n",
    "                               u\"\\U0001F680-\\U0001F6FF\"  # transport & map symbols\n",
    "                               u\"\\U0001F1E0-\\U0001F1FF\"  # flags (iOS)\n",
    "                               u\"\\U00002702-\\U000027B0\"\n",
    "                               u\"\\U000024C2-\\U0001F251\"\n",
    "                               u\"\\U0001f926-\\U0001f937\"\n",
    "                               u'\\U00010000-\\U0010ffff'\n",
    "                               u\"\\u200d\"\n",
    "                               u\"\\u2640-\\u2642\"\n",
    "                               u\"\\u2600-\\u2B55\"\n",
    "                               u\"\\u23cf\"\n",
    "                               u\"\\u23e9\"\n",
    "                               u\"\\u231a\"\n",
    "                               u\"\\u3030\"\n",
    "                               u\"\\ufe0f\"\n",
    "                               \"]+\", flags=re.UNICODE)\n",
    "\n",
    "    return emoji_pattern.sub(r'', sentence)\n",
    "\n",
    "\n",
    "def remove_numeros(sentence):\n",
    "    new_sentece = ''\n",
    "\n",
    "    for token in sentence.split():\n",
    "        if token.isdigit():\n",
    "            token = '<NUM>'\n",
    "        new_sentece += ' {}'.format(token)\n",
    "\n",
    "    return new_sentece\n",
    "\n",
    "\n",
    "def get_stopwords(language):\n",
    "    stop_words = []\n",
    "\n",
    "    nltk.download('stopwords')\n",
    "\n",
    "    if language == 'pt':\n",
    "        stop_words = nltk.corpus.stopwords.words('portuguese')\n",
    "    elif language == 'en':\n",
    "        stop_words = nltk.corpus.stopwords.words('english')\n",
    "\n",
    "    return stop_words\n",
    "\n",
    "\n",
    "def remove_stopwords(tokens, stop_words):\n",
    "    tokens_without_sw = []\n",
    "    for word in tokens:\n",
    "        if word not in stop_words:\n",
    "            tokens_without_sw.append(word)\n",
    "\n",
    "    return tokens_without_sw\n",
    "\n",
    "\n",
    "def remove_acentos(text):\n",
    "    \"\"\"\n",
    "    Função para retirar acentuações e converter para minúscula\n",
    "    :param text:\n",
    "    :return text_normalizado\n",
    "    \"\"\"\n",
    "    import unicodedata\n",
    "\n",
    "    text = unicodedata.normalize('NFD', text).encode('ascii', 'ignore').decode(\"utf-8\")\n",
    "    return text\n",
    "\n",
    "\n",
    "\n",
    "\n",
    "\n"
   ],
   "metadata": {
    "collapsed": false,
    "ExecuteTime": {
     "end_time": "2023-11-30T21:45:47.964152800Z",
     "start_time": "2023-11-30T21:45:47.958938600Z"
    }
   }
  },
  {
   "cell_type": "markdown",
   "source": [
    "## Scratches"
   ],
   "metadata": {
    "collapsed": false
   }
  },
  {
   "cell_type": "code",
   "execution_count": 25,
   "outputs": [
    {
     "data": {
      "text/plain": "         topic                                              title  \\\n0      Mercado  Ibovespa segue exterior e amplia alta; Marfrig...   \n19    Negócios  Radar: Mercado Livre (MELI34) é o BDR mais neg...   \n33    Negócios  Radar: Arezzo (ARZZ3) pagará proventos de R$ 6...   \n38    Política  Prefeituras de MG pedem que moradores deixem a...   \n42    Negócios  CSN (CSNA3) e CSN Mineração (CMIN3) interrompe...   \n...        ...                                                ...   \n1183   Mercado  Cotação do minério de ferro sobe na China após...   \n1190   Mercado  Ibovespa fecha em queda de 0,41% após volta de...   \n1196  Política  Israel enviará equipamentos de resgates em Bru...   \n1197   Mercado  Ibovespa abre quarta-feira com alta de +0,29%;...   \n1210  Negócios  Terça-feira em negócios: acordo de R$ 2,5bi da...   \n\n                  date          search_date  \\\n0     19/07/2022 11:50  2022-08-04 00:12:08   \n19    07/04/2022 21:23  2022-08-04 00:13:47   \n33    10/01/2022 22:14  2022-08-04 00:14:32   \n38    10/01/2022 15:44  2022-08-04 00:14:35   \n42    10/01/2022 10:47  2022-08-04 00:14:38   \n...                ...                  ...   \n1183  11/02/2019 09:12  2022-05-03 16:48:11   \n1190  06/03/2019 18:50  2022-05-03 16:48:17   \n1196  26/01/2019 21:33  2022-05-03 16:48:51   \n1197  24/10/2018 10:55  2022-05-03 16:48:56   \n1210  11/09/2018 12:20  2022-05-03 16:49:25   \n\n                                                   link  \\\n0     https://www.suno.com.br/noticias/ibovespa-hoje...   \n19    https://www.suno.com.br/noticias/radar-mercado...   \n33    https://www.suno.com.br/noticias/radar-arezzo-...   \n38    https://www.suno.com.br/noticias/mg-prefeitura...   \n42    https://www.suno.com.br/noticias/csn-mineracao...   \n...                                                 ...   \n1183  https://www.suno.com.br/noticias/cotacao-miner...   \n1190  https://www.suno.com.br/noticias/ibovespa-qued...   \n1196  https://www.suno.com.br/noticias/israel-enviar...   \n1197  https://www.suno.com.br/noticias/ibovespa-abre...   \n1210  https://www.suno.com.br/noticias/negocios-acor...   \n\n                                                   tags  \n0     ['Ibovespa', 'Embraer (EMBR3)', 'Fleury (FLRY3...  \n19    ['Vale (VALE3)', 'Azul', 'AZUL4', 'Eletrobras ...  \n33    ['Vale (VALE3)', 'Arezzo (ARZZ3)', 'CSN Minera...  \n38     ['Vale (VALE3)', 'Minas Gerais', 'Vale (VALE3)']  \n42    ['Vale (VALE3)', 'CSN (CSNA3)', 'CSN Mineração...  \n...                                                 ...  \n1183  ['Bolsa de Valores', 'China', 'minério de ferr...  \n1190  ['Banco Central (BC)', 'Boletim Focus', 'Bruma...  \n1196  ['Benjamin Netanyahu', 'Brumadinho', 'Israel',...  \n1197  ['Ações', 'Bolsa de Valores', 'China', 'dólar'...  \n1210  ['Azul', 'BB Seguridade (BBSE3)', 'Bradespar (...  \n\n[204 rows x 6 columns]",
      "text/html": "<div>\n<style scoped>\n    .dataframe tbody tr th:only-of-type {\n        vertical-align: middle;\n    }\n\n    .dataframe tbody tr th {\n        vertical-align: top;\n    }\n\n    .dataframe thead th {\n        text-align: right;\n    }\n</style>\n<table border=\"1\" class=\"dataframe\">\n  <thead>\n    <tr style=\"text-align: right;\">\n      <th></th>\n      <th>topic</th>\n      <th>title</th>\n      <th>date</th>\n      <th>search_date</th>\n      <th>link</th>\n      <th>tags</th>\n    </tr>\n  </thead>\n  <tbody>\n    <tr>\n      <th>0</th>\n      <td>Mercado</td>\n      <td>Ibovespa segue exterior e amplia alta; Marfrig...</td>\n      <td>19/07/2022 11:50</td>\n      <td>2022-08-04 00:12:08</td>\n      <td>https://www.suno.com.br/noticias/ibovespa-hoje...</td>\n      <td>['Ibovespa', 'Embraer (EMBR3)', 'Fleury (FLRY3...</td>\n    </tr>\n    <tr>\n      <th>19</th>\n      <td>Negócios</td>\n      <td>Radar: Mercado Livre (MELI34) é o BDR mais neg...</td>\n      <td>07/04/2022 21:23</td>\n      <td>2022-08-04 00:13:47</td>\n      <td>https://www.suno.com.br/noticias/radar-mercado...</td>\n      <td>['Vale (VALE3)', 'Azul', 'AZUL4', 'Eletrobras ...</td>\n    </tr>\n    <tr>\n      <th>33</th>\n      <td>Negócios</td>\n      <td>Radar: Arezzo (ARZZ3) pagará proventos de R$ 6...</td>\n      <td>10/01/2022 22:14</td>\n      <td>2022-08-04 00:14:32</td>\n      <td>https://www.suno.com.br/noticias/radar-arezzo-...</td>\n      <td>['Vale (VALE3)', 'Arezzo (ARZZ3)', 'CSN Minera...</td>\n    </tr>\n    <tr>\n      <th>38</th>\n      <td>Política</td>\n      <td>Prefeituras de MG pedem que moradores deixem a...</td>\n      <td>10/01/2022 15:44</td>\n      <td>2022-08-04 00:14:35</td>\n      <td>https://www.suno.com.br/noticias/mg-prefeitura...</td>\n      <td>['Vale (VALE3)', 'Minas Gerais', 'Vale (VALE3)']</td>\n    </tr>\n    <tr>\n      <th>42</th>\n      <td>Negócios</td>\n      <td>CSN (CSNA3) e CSN Mineração (CMIN3) interrompe...</td>\n      <td>10/01/2022 10:47</td>\n      <td>2022-08-04 00:14:38</td>\n      <td>https://www.suno.com.br/noticias/csn-mineracao...</td>\n      <td>['Vale (VALE3)', 'CSN (CSNA3)', 'CSN Mineração...</td>\n    </tr>\n    <tr>\n      <th>...</th>\n      <td>...</td>\n      <td>...</td>\n      <td>...</td>\n      <td>...</td>\n      <td>...</td>\n      <td>...</td>\n    </tr>\n    <tr>\n      <th>1183</th>\n      <td>Mercado</td>\n      <td>Cotação do minério de ferro sobe na China após...</td>\n      <td>11/02/2019 09:12</td>\n      <td>2022-05-03 16:48:11</td>\n      <td>https://www.suno.com.br/noticias/cotacao-miner...</td>\n      <td>['Bolsa de Valores', 'China', 'minério de ferr...</td>\n    </tr>\n    <tr>\n      <th>1190</th>\n      <td>Mercado</td>\n      <td>Ibovespa fecha em queda de 0,41% após volta de...</td>\n      <td>06/03/2019 18:50</td>\n      <td>2022-05-03 16:48:17</td>\n      <td>https://www.suno.com.br/noticias/ibovespa-qued...</td>\n      <td>['Banco Central (BC)', 'Boletim Focus', 'Bruma...</td>\n    </tr>\n    <tr>\n      <th>1196</th>\n      <td>Política</td>\n      <td>Israel enviará equipamentos de resgates em Bru...</td>\n      <td>26/01/2019 21:33</td>\n      <td>2022-05-03 16:48:51</td>\n      <td>https://www.suno.com.br/noticias/israel-enviar...</td>\n      <td>['Benjamin Netanyahu', 'Brumadinho', 'Israel',...</td>\n    </tr>\n    <tr>\n      <th>1197</th>\n      <td>Mercado</td>\n      <td>Ibovespa abre quarta-feira com alta de +0,29%;...</td>\n      <td>24/10/2018 10:55</td>\n      <td>2022-05-03 16:48:56</td>\n      <td>https://www.suno.com.br/noticias/ibovespa-abre...</td>\n      <td>['Ações', 'Bolsa de Valores', 'China', 'dólar'...</td>\n    </tr>\n    <tr>\n      <th>1210</th>\n      <td>Negócios</td>\n      <td>Terça-feira em negócios: acordo de R$ 2,5bi da...</td>\n      <td>11/09/2018 12:20</td>\n      <td>2022-05-03 16:49:25</td>\n      <td>https://www.suno.com.br/noticias/negocios-acor...</td>\n      <td>['Azul', 'BB Seguridade (BBSE3)', 'Bradespar (...</td>\n    </tr>\n  </tbody>\n</table>\n<p>204 rows × 6 columns</p>\n</div>"
     },
     "execution_count": 25,
     "metadata": {},
     "output_type": "execute_result"
    }
   ],
   "source": [
    "df_vale3_without_valestr = pd.read_csv('../assets/data/vale3_without_valestr.csv', index_col=0)\n",
    "df_vale3_without_valestr"
   ],
   "metadata": {
    "collapsed": false,
    "ExecuteTime": {
     "end_time": "2023-11-30T21:47:06.309805Z",
     "start_time": "2023-11-30T21:47:06.255176500Z"
    }
   }
  },
  {
   "cell_type": "code",
   "execution_count": 30,
   "outputs": [
    {
     "name": "stderr",
     "output_type": "stream",
     "text": [
      "[nltk_data] Downloading package stopwords to\n",
      "[nltk_data]     C:\\Users\\Guilherme\\AppData\\Roaming\\nltk_data...\n",
      "[nltk_data]   Package stopwords is already up-to-date!\n"
     ]
    }
   ],
   "source": [
    "df_normalizado = normalizar_texto_coluna_df(df_vale3_without_valestr, 'title', 'pt')"
   ],
   "metadata": {
    "collapsed": false,
    "ExecuteTime": {
     "end_time": "2023-11-30T21:50:00.027471400Z",
     "start_time": "2023-11-30T21:49:59.912472600Z"
    }
   }
  },
  {
   "cell_type": "markdown",
   "source": [
    "## Dependencies"
   ],
   "metadata": {
    "collapsed": false
   }
  },
  {
   "cell_type": "code",
   "execution_count": null,
   "outputs": [],
   "source": [
    "train_raw = pd.read_csv('../assets/data/splits/train/raw.csv')\n",
    "val_raw = pd.read_csv('../assets/data/splits/val/raw.csv')\n",
    "test_raw = pd.read_csv('../assets/data/splits/test/raw.csv')\n",
    "df_raw = pd.concat([train_raw, val_raw, test_raw])\n",
    "df_raw.sample(10, random_state=42)[['title', 'label']].reset_index(drop=True)"
   ],
   "metadata": {
    "collapsed": false,
    "ExecuteTime": {
     "start_time": "2023-11-30T01:47:58.814928400Z"
    }
   }
  },
  {
   "cell_type": "markdown",
   "source": [
    "## Preprocessing splits"
   ],
   "metadata": {
    "collapsed": false
   }
  },
  {
   "cell_type": "code",
   "execution_count": null,
   "outputs": [],
   "source": [
    "train_pp = normalizar_texto_coluna_df(train_raw, 'title', 'pt')\n",
    "val_pp = normalizar_texto_coluna_df(val_raw, 'title', 'pt')\n",
    "test_pp = normalizar_texto_coluna_df(test_raw, 'title', 'pt')\n",
    "df_pp = pd.concat([train_pp, val_pp, test_pp])\n",
    "df_pp.sample(10, random_state=42)[['title', 'label']].reset_index(drop=True)\n"
   ],
   "metadata": {
    "collapsed": false,
    "ExecuteTime": {
     "start_time": "2023-11-30T01:47:58.820927500Z"
    }
   }
  },
  {
   "cell_type": "markdown",
   "source": [
    "## Outputs for EDA, word2vec and preprocessing"
   ],
   "metadata": {
    "collapsed": false
   }
  },
  {
   "cell_type": "code",
   "execution_count": null,
   "outputs": [],
   "source": [
    "train_pp.to_csv('../assets/data/splits/train/preprocessed.csv', index=False)\n",
    "val_pp.to_csv('../assets/data/splits/val/preprocessed.csv', index=False)\n",
    "test_pp.to_csv('../assets/data/splits/test/preprocessed.csv', index=False)"
   ],
   "metadata": {
    "collapsed": false,
    "ExecuteTime": {
     "start_time": "2023-11-30T01:47:58.823926900Z"
    }
   }
  }
 ],
 "metadata": {
  "kernelspec": {
   "display_name": "Python 3",
   "language": "python",
   "name": "python3"
  },
  "language_info": {
   "codemirror_mode": {
    "name": "ipython",
    "version": 2
   },
   "file_extension": ".py",
   "mimetype": "text/x-python",
   "name": "python",
   "nbconvert_exporter": "python",
   "pygments_lexer": "ipython2",
   "version": "2.7.6"
  }
 },
 "nbformat": 4,
 "nbformat_minor": 0
}
