{
 "cells": [
  {
   "cell_type": "markdown",
   "source": [
    "## Packages"
   ],
   "metadata": {
    "collapsed": false
   }
  },
  {
   "cell_type": "code",
   "execution_count": 1,
   "outputs": [],
   "source": [
    "import pandas as pd\n",
    "import re\n",
    "import string\n",
    "import nltk\n",
    "from sklearn.manifold import TSNE\n",
    "import plotly.express as px\n",
    "import plotly.graph_objects as go\n",
    "import numpy as np"
   ],
   "metadata": {
    "collapsed": false,
    "ExecuteTime": {
     "end_time": "2023-06-27T11:26:25.641939800Z",
     "start_time": "2023-06-27T11:26:22.335050100Z"
    }
   }
  },
  {
   "cell_type": "markdown",
   "source": [
    "## Functions"
   ],
   "metadata": {
    "collapsed": false
   }
  },
  {
   "cell_type": "code",
   "execution_count": 2,
   "outputs": [],
   "source": [
    "def transformDocument(df, column_name, language):\n",
    "    stop_words = usingStopwords(language)\n",
    "    df_pp = df.copy()\n",
    "    # 1. Aplicar preprocessamento nos títulos e textos completos\n",
    "    if language == 'pt':\n",
    "        # Substituir símbolos importantes\n",
    "        df_pp[column_name] = df_pp[column_name].map(lambda s: s.replace('-feira', ''))\n",
    "        df_pp[column_name] = df_pp[column_name].map(lambda s: s.replace('+', 'mais '))\n",
    "        df_pp[column_name] = df_pp[column_name].map(lambda s: s.replace('-', 'menos '))\n",
    "        df_pp[column_name] = df_pp[column_name].map(lambda s: s.replace('%', ' por cento'))\n",
    "        df_pp[column_name] = df_pp[column_name].map(lambda s: removeStopwords(s, stop_words))\n",
    "\n",
    "    elif language == 'en':\n",
    "        df_pp[column_name] = df_pp[column_name].map(lambda s: s.replace('-', 'less'))\n",
    "        df_pp[column_name] = df_pp[column_name].map(lambda s: s.replace('+', 'plus '))\n",
    "        df_pp[column_name] = df_pp[column_name].map(lambda s: s.replace('%', ' percent'))\n",
    "        df_pp[column_name] = df_pp[column_name].map(lambda s: removeStopwords(s, stop_words))\n",
    "\n",
    "    else:\n",
    "        pass\n",
    "\n",
    "    df_pp[column_name] = df_pp[column_name].map(lambda s: s.replace('R$', ''))\n",
    "    df_pp[column_name] = df_pp[column_name].map(lambda s: s.replace('U$', ''))\n",
    "    df_pp[column_name] = df_pp[column_name].map(lambda s: s.replace('US$', ''))\n",
    "    df_pp[column_name] = df_pp[column_name].map(lambda s: s.replace('S&P 500', 'spx'))\n",
    "\n",
    "    # Transformar em String e Letras Minúsculas nas Mensagens\n",
    "    df_pp[column_name] = df_pp[column_name].map(lambda s:\n",
    "                                              normalizarString(s))\n",
    "\n",
    "\n",
    "    # Remover Pontuações\n",
    "    # Remover Pontuações\n",
    "    df_pp[column_name] = df_pp[column_name].map(lambda s: s.translate(str.maketrans('', '', string.punctuation)))\n",
    "\n",
    "    # Remover Emojis\n",
    "    df_pp[column_name] = df_pp[column_name].map(lambda s: removeEmojis(s))\n",
    "\n",
    "    # Quebras de Linha desnecessárias\n",
    "    df_pp[column_name] = df_pp[column_name].map(lambda s: s.replace('\\n', ' '))\n",
    "\n",
    "    # Remover aspas duplas\n",
    "    df_pp[column_name] = df_pp[column_name].map(lambda s: s.replace('\\\"', ''))\n",
    "    df_pp[column_name] = df_pp[column_name].map(lambda s: s.replace('“', ''))\n",
    "    df_pp[column_name] = df_pp[column_name].map(lambda s: s.replace('”', ''))\n",
    "\n",
    "    # Remover valores\n",
    "    df_pp[column_name] = df_pp[column_name].map(lambda s: removeValores(s))\n",
    "\n",
    "    # Espaços desnecessários\n",
    "    df_pp[column_name] = df_pp[column_name].map(lambda s: s.strip())\n",
    "    return df_pp\n",
    "\n",
    "\n",
    "\n",
    "def removeEmojis(sentence):\n",
    "    \"Remoção de Emojis nas mensagens de texto.\"\n",
    "\n",
    "    # Padrões dos Emojis\n",
    "    emoji_pattern = re.compile(\"[\"\n",
    "                               u\"\\U0001F600-\\U0001F64F\"  # emoticons\n",
    "                               u\"\\U0001F300-\\U0001F5FF\"  # symbols & pictographs\n",
    "                               u\"\\U0001F680-\\U0001F6FF\"  # transport & map symbols\n",
    "                               u\"\\U0001F1E0-\\U0001F1FF\"  # flags (iOS)\n",
    "                               u\"\\U00002702-\\U000027B0\"\n",
    "                               u\"\\U000024C2-\\U0001F251\"\n",
    "                               u\"\\U0001f926-\\U0001f937\"\n",
    "                               u'\\U00010000-\\U0010ffff'\n",
    "                               u\"\\u200d\"\n",
    "                               u\"\\u2640-\\u2642\"\n",
    "                               u\"\\u2600-\\u2B55\"\n",
    "                               u\"\\u23cf\"\n",
    "                               u\"\\u23e9\"\n",
    "                               u\"\\u231a\"\n",
    "                               u\"\\u3030\"\n",
    "                               u\"\\ufe0f\"\n",
    "                               \"]+\", flags=re.UNICODE)\n",
    "\n",
    "    return emoji_pattern.sub(r'', sentence)\n",
    "\n",
    "def removeValores(sentence):\n",
    "    new_sentece = ''\n",
    "\n",
    "    for token in sentence.split():\n",
    "        if token.isdigit():\n",
    "            token = '<NUM>'\n",
    "        new_sentece += ' {}'.format(token)\n",
    "\n",
    "    return new_sentece\n",
    "\n",
    "def usingStopwords(language):\n",
    "    stop_words = []\n",
    "\n",
    "    nltk.download('stopwords')\n",
    "\n",
    "    if language == 'pt':\n",
    "        stop_words = nltk.corpus.stopwords.words('portuguese')\n",
    "    elif language == 'en':\n",
    "        stop_words = nltk.corpus.stopwords.words('english')\n",
    "\n",
    "    return stop_words\n",
    "\n",
    "def removeStopwords(text, stop_words):\n",
    "    tokens = []\n",
    "    for word in text.split():\n",
    "        if word not in stop_words:\n",
    "            tokens.append(word)\n",
    "\n",
    "    text = ' '.join(tokens)\n",
    "    return text\n",
    "\n",
    "def normalizarString(text):\n",
    "    \"\"\"\n",
    "    Função para retirar acentuações e converter para minúscula\n",
    "    :param text:\n",
    "    :return text_normalizado\n",
    "    \"\"\"\n",
    "    import unicodedata\n",
    "\n",
    "    text = unicodedata.normalize('NFD', text).encode('ascii', 'ignore').decode(\"utf-8\")\n",
    "    return str(text.lower())"
   ],
   "metadata": {
    "collapsed": false,
    "ExecuteTime": {
     "end_time": "2023-06-27T11:26:25.677625300Z",
     "start_time": "2023-06-27T11:26:25.642940100Z"
    }
   }
  },
  {
   "cell_type": "markdown",
   "source": [
    "## Dependencies"
   ],
   "metadata": {
    "collapsed": false
   }
  },
  {
   "cell_type": "code",
   "execution_count": 3,
   "outputs": [
    {
     "data": {
      "text/plain": "                                                  title  \\\n0     Vale decide desembolsar US$ 5 bilhões de linha...   \n1     Gasolina sobe quase 10% nos postos na 1ª metad...   \n2     Jair Bolsonaro anuncia o ministro da Defesa de...   \n3     Senado votará nessa quarta-feira novo marco do...   \n4     Ibovespa opera acima dos 97 mil pontos nesta m...   \n...                                                 ...   \n1797  Weg (WEGE3) pagará milhões em JCP e a ameaça d...   \n1798  Vale renova mandato de Schvartsman por mais do...   \n1799  Petrobras confirma IPO da BR e listagem no Nov...   \n1800  Dólar abre em queda de 1,2% após dados do dese...   \n1801  Vale diz que suas barragens têm plano de ação ...   \n\n                                                   tags  \\\n0     ['Coronavírus', 'Crédito', 'Empresas', 'Minera...   \n1     ['Brasil', 'Combustíveis', 'Economia', 'Empres...   \n2                        ['Jair Bolsonaro', 'Política']   \n3     ['Jair Bolsonaro', 'marco do saneamento', 'Sen...   \n4                                          ['ibovespa']   \n...                                                 ...   \n1797  ['Weg (WEGE3)', 'Magazine Luiza (MGLU3)', 'Oi ...   \n1798          ['Fabio Schvartsman', 'Mercados', 'Vale']   \n1799  ['BR Distribuidora', 'Empresas', 'IPO', 'Petro...   \n1800  ['bce', 'Desemprego', 'dólar', 'EUA', 'Tesouro...   \n1801              ['Minas Gerais', 'Mineração', 'Vale']   \n\n                                                   link  label  \n0     https://www.moneytimes.com.br/vale-decide-dese...      2  \n1     https://www.moneytimes.com.br/gasolina-sobe-qu...      1  \n2     https://www.sunoresearch.com.br/noticias/jair-...      0  \n3     https://www.sunoresearch.com.br/noticias/senad...      0  \n4     https://www.sunoresearch.com.br/noticias/ibove...      0  \n...                                                 ...    ...  \n1797  https://www.suno.com.br/noticias/weg-wege3-div...      1  \n1798  https://www.moneytimes.com.br/vale-renova-mand...      2  \n1799  https://www.moneytimes.com.br/petrobras-confir...      1  \n1800  https://www.sunoresearch.com.br/noticias/dolar...      0  \n1801  https://www.moneytimes.com.br/vale-diz-que-sua...      2  \n\n[18012 rows x 4 columns]",
      "text/html": "<div>\n<style scoped>\n    .dataframe tbody tr th:only-of-type {\n        vertical-align: middle;\n    }\n\n    .dataframe tbody tr th {\n        vertical-align: top;\n    }\n\n    .dataframe thead th {\n        text-align: right;\n    }\n</style>\n<table border=\"1\" class=\"dataframe\">\n  <thead>\n    <tr style=\"text-align: right;\">\n      <th></th>\n      <th>title</th>\n      <th>tags</th>\n      <th>link</th>\n      <th>label</th>\n    </tr>\n  </thead>\n  <tbody>\n    <tr>\n      <th>0</th>\n      <td>Vale decide desembolsar US$ 5 bilhões de linha...</td>\n      <td>['Coronavírus', 'Crédito', 'Empresas', 'Minera...</td>\n      <td>https://www.moneytimes.com.br/vale-decide-dese...</td>\n      <td>2</td>\n    </tr>\n    <tr>\n      <th>1</th>\n      <td>Gasolina sobe quase 10% nos postos na 1ª metad...</td>\n      <td>['Brasil', 'Combustíveis', 'Economia', 'Empres...</td>\n      <td>https://www.moneytimes.com.br/gasolina-sobe-qu...</td>\n      <td>1</td>\n    </tr>\n    <tr>\n      <th>2</th>\n      <td>Jair Bolsonaro anuncia o ministro da Defesa de...</td>\n      <td>['Jair Bolsonaro', 'Política']</td>\n      <td>https://www.sunoresearch.com.br/noticias/jair-...</td>\n      <td>0</td>\n    </tr>\n    <tr>\n      <th>3</th>\n      <td>Senado votará nessa quarta-feira novo marco do...</td>\n      <td>['Jair Bolsonaro', 'marco do saneamento', 'Sen...</td>\n      <td>https://www.sunoresearch.com.br/noticias/senad...</td>\n      <td>0</td>\n    </tr>\n    <tr>\n      <th>4</th>\n      <td>Ibovespa opera acima dos 97 mil pontos nesta m...</td>\n      <td>['ibovespa']</td>\n      <td>https://www.sunoresearch.com.br/noticias/ibove...</td>\n      <td>0</td>\n    </tr>\n    <tr>\n      <th>...</th>\n      <td>...</td>\n      <td>...</td>\n      <td>...</td>\n      <td>...</td>\n    </tr>\n    <tr>\n      <th>1797</th>\n      <td>Weg (WEGE3) pagará milhões em JCP e a ameaça d...</td>\n      <td>['Weg (WEGE3)', 'Magazine Luiza (MGLU3)', 'Oi ...</td>\n      <td>https://www.suno.com.br/noticias/weg-wege3-div...</td>\n      <td>1</td>\n    </tr>\n    <tr>\n      <th>1798</th>\n      <td>Vale renova mandato de Schvartsman por mais do...</td>\n      <td>['Fabio Schvartsman', 'Mercados', 'Vale']</td>\n      <td>https://www.moneytimes.com.br/vale-renova-mand...</td>\n      <td>2</td>\n    </tr>\n    <tr>\n      <th>1799</th>\n      <td>Petrobras confirma IPO da BR e listagem no Nov...</td>\n      <td>['BR Distribuidora', 'Empresas', 'IPO', 'Petro...</td>\n      <td>https://www.moneytimes.com.br/petrobras-confir...</td>\n      <td>1</td>\n    </tr>\n    <tr>\n      <th>1800</th>\n      <td>Dólar abre em queda de 1,2% após dados do dese...</td>\n      <td>['bce', 'Desemprego', 'dólar', 'EUA', 'Tesouro...</td>\n      <td>https://www.sunoresearch.com.br/noticias/dolar...</td>\n      <td>0</td>\n    </tr>\n    <tr>\n      <th>1801</th>\n      <td>Vale diz que suas barragens têm plano de ação ...</td>\n      <td>['Minas Gerais', 'Mineração', 'Vale']</td>\n      <td>https://www.moneytimes.com.br/vale-diz-que-sua...</td>\n      <td>2</td>\n    </tr>\n  </tbody>\n</table>\n<p>18012 rows × 4 columns</p>\n</div>"
     },
     "execution_count": 3,
     "metadata": {},
     "output_type": "execute_result"
    }
   ],
   "source": [
    "train_raw = pd.read_csv('../assets/data/splits/train/raw.csv')\n",
    "val_raw = pd.read_csv('../assets/data/splits/val/raw.csv')\n",
    "test_raw = pd.read_csv('../assets/data/splits/test/raw.csv')\n",
    "df_raw = pd.concat([train_raw, val_raw, test_raw])\n",
    "df_raw"
   ],
   "metadata": {
    "collapsed": false,
    "ExecuteTime": {
     "end_time": "2023-06-27T11:26:25.801443600Z",
     "start_time": "2023-06-27T11:26:25.675625100Z"
    }
   }
  },
  {
   "cell_type": "code",
   "execution_count": 3,
   "outputs": [],
   "source": [],
   "metadata": {
    "collapsed": false,
    "ExecuteTime": {
     "end_time": "2023-06-27T11:26:25.816478200Z",
     "start_time": "2023-06-27T11:26:25.802443300Z"
    }
   }
  },
  {
   "cell_type": "markdown",
   "source": [
    "## Preprocessing splits"
   ],
   "metadata": {
    "collapsed": false
   }
  },
  {
   "cell_type": "code",
   "execution_count": 4,
   "outputs": [
    {
     "name": "stderr",
     "output_type": "stream",
     "text": [
      "[nltk_data] Downloading package stopwords to\n",
      "[nltk_data]     C:\\Users\\Guilherme\\AppData\\Roaming\\nltk_data...\n",
      "[nltk_data]   Package stopwords is already up-to-date!\n",
      "[nltk_data] Downloading package stopwords to\n",
      "[nltk_data]     C:\\Users\\Guilherme\\AppData\\Roaming\\nltk_data...\n",
      "[nltk_data]   Package stopwords is already up-to-date!\n",
      "[nltk_data] Downloading package stopwords to\n",
      "[nltk_data]     C:\\Users\\Guilherme\\AppData\\Roaming\\nltk_data...\n",
      "[nltk_data]   Package stopwords is already up-to-date!\n"
     ]
    }
   ],
   "source": [
    "train_pp = transformDocument(train_raw, 'title', 'pt')\n",
    "val_pp = transformDocument(val_raw, 'title', 'pt')\n",
    "test_pp = transformDocument(test_raw, 'title', 'pt')"
   ],
   "metadata": {
    "collapsed": false,
    "ExecuteTime": {
     "end_time": "2023-06-27T11:26:27.085488700Z",
     "start_time": "2023-06-27T11:26:25.818476900Z"
    }
   }
  },
  {
   "cell_type": "markdown",
   "source": [
    "## Outputs for EDA, word2vec and preprocessing"
   ],
   "metadata": {
    "collapsed": false
   }
  },
  {
   "cell_type": "code",
   "execution_count": 5,
   "outputs": [],
   "source": [
    "train_pp.to_csv('../assets/data/splits/train/preprocessed.csv', index=False)\n",
    "val_pp.to_csv('../assets/data/splits/val/preprocessed.csv', index=False)\n",
    "test_pp.to_csv('../assets/data/splits/test/preprocessed.csv', index=False)"
   ],
   "metadata": {
    "collapsed": false,
    "ExecuteTime": {
     "end_time": "2023-06-27T11:26:27.243609800Z",
     "start_time": "2023-06-27T11:26:27.088486800Z"
    }
   }
  }
 ],
 "metadata": {
  "kernelspec": {
   "display_name": "Python 3",
   "language": "python",
   "name": "python3"
  },
  "language_info": {
   "codemirror_mode": {
    "name": "ipython",
    "version": 2
   },
   "file_extension": ".py",
   "mimetype": "text/x-python",
   "name": "python",
   "nbconvert_exporter": "python",
   "pygments_lexer": "ipython2",
   "version": "2.7.6"
  }
 },
 "nbformat": 4,
 "nbformat_minor": 0
}
