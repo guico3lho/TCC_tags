{
 "cells": [
  {
   "cell_type": "code",
   "execution_count": 1,
   "outputs": [],
   "source": [
    "import pickle\n",
    "import pandas as pd"
   ],
   "metadata": {
    "collapsed": false,
    "ExecuteTime": {
     "end_time": "2023-06-27T15:15:12.318658200Z",
     "start_time": "2023-06-27T15:15:12.303033900Z"
    }
   }
  },
  {
   "cell_type": "markdown",
   "source": [
    "## Packages"
   ],
   "metadata": {
    "collapsed": false
   }
  },
  {
   "cell_type": "markdown",
   "source": [
    "## Dependencies"
   ],
   "metadata": {
    "collapsed": false
   }
  },
  {
   "cell_type": "code",
   "execution_count": 2,
   "outputs": [],
   "source": [
    "train = pd.read_csv('../../assets/data/splits/train/preprocessed.csv')"
   ],
   "metadata": {
    "collapsed": false,
    "ExecuteTime": {
     "end_time": "2023-06-27T15:15:12.403292200Z",
     "start_time": "2023-06-27T15:15:12.318658200Z"
    }
   }
  },
  {
   "cell_type": "markdown",
   "source": [
    "## Functions and Assets"
   ],
   "metadata": {
    "collapsed": false
   }
  },
  {
   "cell_type": "markdown",
   "source": [
    "## CountVectorizer"
   ],
   "metadata": {
    "collapsed": false
   }
  },
  {
   "cell_type": "code",
   "execution_count": 3,
   "outputs": [
    {
     "data": {
      "text/plain": "       abaixo  abandonar  abastecer  abastecimento  abater  abdalla  abecip  \\\n0           0          0          0              0       0        0       0   \n1           0          0          0              0       0        0       0   \n2           0          0          0              0       0        0       0   \n3           0          0          0              0       0        0       0   \n4           0          0          0              0       0        0       0   \n...       ...        ...        ...            ...     ...      ...     ...   \n14404       0          0          0              0       0        0       0   \n14405       0          0          0              0       0        0       0   \n14406       0          0          0              0       0        0       0   \n14407       0          0          0              0       0        0       0   \n14408       0          0          0              0       0        0       0   \n\n       abegas  aberta  abertas  ...  westwing  wework  whatsapp  wilson  \\\n0           0       0        0  ...         0       0         0       0   \n1           0       0        0  ...         0       0         0       0   \n2           0       0        0  ...         0       0         0       0   \n3           0       0        0  ...         0       0         0       0   \n4           0       0        0  ...         0       0         0       0   \n...       ...     ...      ...  ...       ...     ...       ...     ...   \n14404       0       0        0  ...         0       0         0       0   \n14405       0       0        0  ...         0       0         0       0   \n14406       0       0        0  ...         0       0         0       0   \n14407       0       0        0  ...         0       0         0       0   \n14408       0       0        0  ...         0       0         0       0   \n\n       wirecard  xangai  xiaomi  xpbr31  yields  zuckerberg  \n0             0       0       0       0       0           0  \n1             0       0       0       0       0           0  \n2             0       0       0       0       0           0  \n3             0       0       0       0       0           0  \n4             0       0       0       0       0           0  \n...         ...     ...     ...     ...     ...         ...  \n14404         0       0       0       0       0           0  \n14405         0       0       0       0       0           0  \n14406         0       0       0       0       0           0  \n14407         0       0       0       0       0           0  \n14408         0       0       0       0       0           0  \n\n[14409 rows x 4247 columns]",
      "text/html": "<div>\n<style scoped>\n    .dataframe tbody tr th:only-of-type {\n        vertical-align: middle;\n    }\n\n    .dataframe tbody tr th {\n        vertical-align: top;\n    }\n\n    .dataframe thead th {\n        text-align: right;\n    }\n</style>\n<table border=\"1\" class=\"dataframe\">\n  <thead>\n    <tr style=\"text-align: right;\">\n      <th></th>\n      <th>abaixo</th>\n      <th>abandonar</th>\n      <th>abastecer</th>\n      <th>abastecimento</th>\n      <th>abater</th>\n      <th>abdalla</th>\n      <th>abecip</th>\n      <th>abegas</th>\n      <th>aberta</th>\n      <th>abertas</th>\n      <th>...</th>\n      <th>westwing</th>\n      <th>wework</th>\n      <th>whatsapp</th>\n      <th>wilson</th>\n      <th>wirecard</th>\n      <th>xangai</th>\n      <th>xiaomi</th>\n      <th>xpbr31</th>\n      <th>yields</th>\n      <th>zuckerberg</th>\n    </tr>\n  </thead>\n  <tbody>\n    <tr>\n      <th>0</th>\n      <td>0</td>\n      <td>0</td>\n      <td>0</td>\n      <td>0</td>\n      <td>0</td>\n      <td>0</td>\n      <td>0</td>\n      <td>0</td>\n      <td>0</td>\n      <td>0</td>\n      <td>...</td>\n      <td>0</td>\n      <td>0</td>\n      <td>0</td>\n      <td>0</td>\n      <td>0</td>\n      <td>0</td>\n      <td>0</td>\n      <td>0</td>\n      <td>0</td>\n      <td>0</td>\n    </tr>\n    <tr>\n      <th>1</th>\n      <td>0</td>\n      <td>0</td>\n      <td>0</td>\n      <td>0</td>\n      <td>0</td>\n      <td>0</td>\n      <td>0</td>\n      <td>0</td>\n      <td>0</td>\n      <td>0</td>\n      <td>...</td>\n      <td>0</td>\n      <td>0</td>\n      <td>0</td>\n      <td>0</td>\n      <td>0</td>\n      <td>0</td>\n      <td>0</td>\n      <td>0</td>\n      <td>0</td>\n      <td>0</td>\n    </tr>\n    <tr>\n      <th>2</th>\n      <td>0</td>\n      <td>0</td>\n      <td>0</td>\n      <td>0</td>\n      <td>0</td>\n      <td>0</td>\n      <td>0</td>\n      <td>0</td>\n      <td>0</td>\n      <td>0</td>\n      <td>...</td>\n      <td>0</td>\n      <td>0</td>\n      <td>0</td>\n      <td>0</td>\n      <td>0</td>\n      <td>0</td>\n      <td>0</td>\n      <td>0</td>\n      <td>0</td>\n      <td>0</td>\n    </tr>\n    <tr>\n      <th>3</th>\n      <td>0</td>\n      <td>0</td>\n      <td>0</td>\n      <td>0</td>\n      <td>0</td>\n      <td>0</td>\n      <td>0</td>\n      <td>0</td>\n      <td>0</td>\n      <td>0</td>\n      <td>...</td>\n      <td>0</td>\n      <td>0</td>\n      <td>0</td>\n      <td>0</td>\n      <td>0</td>\n      <td>0</td>\n      <td>0</td>\n      <td>0</td>\n      <td>0</td>\n      <td>0</td>\n    </tr>\n    <tr>\n      <th>4</th>\n      <td>0</td>\n      <td>0</td>\n      <td>0</td>\n      <td>0</td>\n      <td>0</td>\n      <td>0</td>\n      <td>0</td>\n      <td>0</td>\n      <td>0</td>\n      <td>0</td>\n      <td>...</td>\n      <td>0</td>\n      <td>0</td>\n      <td>0</td>\n      <td>0</td>\n      <td>0</td>\n      <td>0</td>\n      <td>0</td>\n      <td>0</td>\n      <td>0</td>\n      <td>0</td>\n    </tr>\n    <tr>\n      <th>...</th>\n      <td>...</td>\n      <td>...</td>\n      <td>...</td>\n      <td>...</td>\n      <td>...</td>\n      <td>...</td>\n      <td>...</td>\n      <td>...</td>\n      <td>...</td>\n      <td>...</td>\n      <td>...</td>\n      <td>...</td>\n      <td>...</td>\n      <td>...</td>\n      <td>...</td>\n      <td>...</td>\n      <td>...</td>\n      <td>...</td>\n      <td>...</td>\n      <td>...</td>\n      <td>...</td>\n    </tr>\n    <tr>\n      <th>14404</th>\n      <td>0</td>\n      <td>0</td>\n      <td>0</td>\n      <td>0</td>\n      <td>0</td>\n      <td>0</td>\n      <td>0</td>\n      <td>0</td>\n      <td>0</td>\n      <td>0</td>\n      <td>...</td>\n      <td>0</td>\n      <td>0</td>\n      <td>0</td>\n      <td>0</td>\n      <td>0</td>\n      <td>0</td>\n      <td>0</td>\n      <td>0</td>\n      <td>0</td>\n      <td>0</td>\n    </tr>\n    <tr>\n      <th>14405</th>\n      <td>0</td>\n      <td>0</td>\n      <td>0</td>\n      <td>0</td>\n      <td>0</td>\n      <td>0</td>\n      <td>0</td>\n      <td>0</td>\n      <td>0</td>\n      <td>0</td>\n      <td>...</td>\n      <td>0</td>\n      <td>0</td>\n      <td>0</td>\n      <td>0</td>\n      <td>0</td>\n      <td>0</td>\n      <td>0</td>\n      <td>0</td>\n      <td>0</td>\n      <td>0</td>\n    </tr>\n    <tr>\n      <th>14406</th>\n      <td>0</td>\n      <td>0</td>\n      <td>0</td>\n      <td>0</td>\n      <td>0</td>\n      <td>0</td>\n      <td>0</td>\n      <td>0</td>\n      <td>0</td>\n      <td>0</td>\n      <td>...</td>\n      <td>0</td>\n      <td>0</td>\n      <td>0</td>\n      <td>0</td>\n      <td>0</td>\n      <td>0</td>\n      <td>0</td>\n      <td>0</td>\n      <td>0</td>\n      <td>0</td>\n    </tr>\n    <tr>\n      <th>14407</th>\n      <td>0</td>\n      <td>0</td>\n      <td>0</td>\n      <td>0</td>\n      <td>0</td>\n      <td>0</td>\n      <td>0</td>\n      <td>0</td>\n      <td>0</td>\n      <td>0</td>\n      <td>...</td>\n      <td>0</td>\n      <td>0</td>\n      <td>0</td>\n      <td>0</td>\n      <td>0</td>\n      <td>0</td>\n      <td>0</td>\n      <td>0</td>\n      <td>0</td>\n      <td>0</td>\n    </tr>\n    <tr>\n      <th>14408</th>\n      <td>0</td>\n      <td>0</td>\n      <td>0</td>\n      <td>0</td>\n      <td>0</td>\n      <td>0</td>\n      <td>0</td>\n      <td>0</td>\n      <td>0</td>\n      <td>0</td>\n      <td>...</td>\n      <td>0</td>\n      <td>0</td>\n      <td>0</td>\n      <td>0</td>\n      <td>0</td>\n      <td>0</td>\n      <td>0</td>\n      <td>0</td>\n      <td>0</td>\n      <td>0</td>\n    </tr>\n  </tbody>\n</table>\n<p>14409 rows × 4247 columns</p>\n</div>"
     },
     "execution_count": 3,
     "metadata": {},
     "output_type": "execute_result"
    }
   ],
   "source": [
    "from sklearn.feature_extraction.text import CountVectorizer\n",
    "\n",
    "stop_words = [\"da\", \"meu\", \"em\", \"voce\", \"de\", \"ao\", \"os\", \"cento\"]\n",
    "\n",
    "cv_vec = CountVectorizer(ngram_range=(1, 1), token_pattern=r'\\b[a-zA-Z]{3}[a-zA-Z0-9]{3,}\\b', max_df=0.5, min_df=2, stop_words=stop_words)\n",
    "X_train_cv = cv_vec.fit_transform(train['title']).toarray()\n",
    "\n",
    "X_train_names_cv = pd.DataFrame(X_train_cv, columns=cv_vec.get_feature_names_out())\n",
    "X_train_names_cv"
   ],
   "metadata": {
    "collapsed": false,
    "ExecuteTime": {
     "end_time": "2023-06-27T15:15:12.919861800Z",
     "start_time": "2023-06-27T15:15:12.403292200Z"
    }
   }
  },
  {
   "cell_type": "code",
   "execution_count": 4,
   "outputs": [
    {
     "data": {
      "text/plain": "   aponta  bilhoes  coronavirus  credito  decide  desembolsar  gasolina  \\\n0       0        1            1        1       1            1         0   \n1       1        0            0        0       0            0         1   \n\n   linhas  metade  postos  rotativo  valecard  \n0       1       0       0         1         0  \n1       0       1       1         0         1  ",
      "text/html": "<div>\n<style scoped>\n    .dataframe tbody tr th:only-of-type {\n        vertical-align: middle;\n    }\n\n    .dataframe tbody tr th {\n        vertical-align: top;\n    }\n\n    .dataframe thead th {\n        text-align: right;\n    }\n</style>\n<table border=\"1\" class=\"dataframe\">\n  <thead>\n    <tr style=\"text-align: right;\">\n      <th></th>\n      <th>aponta</th>\n      <th>bilhoes</th>\n      <th>coronavirus</th>\n      <th>credito</th>\n      <th>decide</th>\n      <th>desembolsar</th>\n      <th>gasolina</th>\n      <th>linhas</th>\n      <th>metade</th>\n      <th>postos</th>\n      <th>rotativo</th>\n      <th>valecard</th>\n    </tr>\n  </thead>\n  <tbody>\n    <tr>\n      <th>0</th>\n      <td>0</td>\n      <td>1</td>\n      <td>1</td>\n      <td>1</td>\n      <td>1</td>\n      <td>1</td>\n      <td>0</td>\n      <td>1</td>\n      <td>0</td>\n      <td>0</td>\n      <td>1</td>\n      <td>0</td>\n    </tr>\n    <tr>\n      <th>1</th>\n      <td>1</td>\n      <td>0</td>\n      <td>0</td>\n      <td>0</td>\n      <td>0</td>\n      <td>0</td>\n      <td>1</td>\n      <td>0</td>\n      <td>1</td>\n      <td>1</td>\n      <td>0</td>\n      <td>1</td>\n    </tr>\n  </tbody>\n</table>\n</div>"
     },
     "execution_count": 4,
     "metadata": {},
     "output_type": "execute_result"
    }
   ],
   "source": [
    "import numpy as np\n",
    "X_train_cv_vis = X_train_names_cv.copy()\n",
    "X_train_cv_vis = X_train_cv_vis.iloc[:2]\n",
    "X_train_cv_vis = X_train_cv_vis.replace(0, np.nan).dropna(axis=1, how='all')\n",
    "X_train_cv_vis = X_train_cv_vis.replace(np.nan, 0)\n",
    "X_train_cv_vis.astype(int)"
   ],
   "metadata": {
    "collapsed": false,
    "ExecuteTime": {
     "end_time": "2023-06-27T15:15:14.998635100Z",
     "start_time": "2023-06-27T15:15:12.919861800Z"
    }
   }
  },
  {
   "cell_type": "markdown",
   "source": [
    "## TFIDF Vectorizer"
   ],
   "metadata": {
    "collapsed": false
   }
  },
  {
   "cell_type": "code",
   "execution_count": 5,
   "outputs": [
    {
     "data": {
      "text/plain": "       abaixo  abandonar  abastecer  abastecimento  abater  abdalla  abecip  \\\n0         0.0        0.0        0.0            0.0     0.0      0.0     0.0   \n1         0.0        0.0        0.0            0.0     0.0      0.0     0.0   \n2         0.0        0.0        0.0            0.0     0.0      0.0     0.0   \n3         0.0        0.0        0.0            0.0     0.0      0.0     0.0   \n4         0.0        0.0        0.0            0.0     0.0      0.0     0.0   \n...       ...        ...        ...            ...     ...      ...     ...   \n14404     0.0        0.0        0.0            0.0     0.0      0.0     0.0   \n14405     0.0        0.0        0.0            0.0     0.0      0.0     0.0   \n14406     0.0        0.0        0.0            0.0     0.0      0.0     0.0   \n14407     0.0        0.0        0.0            0.0     0.0      0.0     0.0   \n14408     0.0        0.0        0.0            0.0     0.0      0.0     0.0   \n\n       abegas  aberta  abertas  ...  westwing  wework  whatsapp  wilson  \\\n0         0.0     0.0      0.0  ...       0.0     0.0       0.0     0.0   \n1         0.0     0.0      0.0  ...       0.0     0.0       0.0     0.0   \n2         0.0     0.0      0.0  ...       0.0     0.0       0.0     0.0   \n3         0.0     0.0      0.0  ...       0.0     0.0       0.0     0.0   \n4         0.0     0.0      0.0  ...       0.0     0.0       0.0     0.0   \n...       ...     ...      ...  ...       ...     ...       ...     ...   \n14404     0.0     0.0      0.0  ...       0.0     0.0       0.0     0.0   \n14405     0.0     0.0      0.0  ...       0.0     0.0       0.0     0.0   \n14406     0.0     0.0      0.0  ...       0.0     0.0       0.0     0.0   \n14407     0.0     0.0      0.0  ...       0.0     0.0       0.0     0.0   \n14408     0.0     0.0      0.0  ...       0.0     0.0       0.0     0.0   \n\n       wirecard  xangai  xiaomi  xpbr31  yields  zuckerberg  \n0           0.0     0.0     0.0     0.0     0.0         0.0  \n1           0.0     0.0     0.0     0.0     0.0         0.0  \n2           0.0     0.0     0.0     0.0     0.0         0.0  \n3           0.0     0.0     0.0     0.0     0.0         0.0  \n4           0.0     0.0     0.0     0.0     0.0         0.0  \n...         ...     ...     ...     ...     ...         ...  \n14404       0.0     0.0     0.0     0.0     0.0         0.0  \n14405       0.0     0.0     0.0     0.0     0.0         0.0  \n14406       0.0     0.0     0.0     0.0     0.0         0.0  \n14407       0.0     0.0     0.0     0.0     0.0         0.0  \n14408       0.0     0.0     0.0     0.0     0.0         0.0  \n\n[14409 rows x 4247 columns]",
      "text/html": "<div>\n<style scoped>\n    .dataframe tbody tr th:only-of-type {\n        vertical-align: middle;\n    }\n\n    .dataframe tbody tr th {\n        vertical-align: top;\n    }\n\n    .dataframe thead th {\n        text-align: right;\n    }\n</style>\n<table border=\"1\" class=\"dataframe\">\n  <thead>\n    <tr style=\"text-align: right;\">\n      <th></th>\n      <th>abaixo</th>\n      <th>abandonar</th>\n      <th>abastecer</th>\n      <th>abastecimento</th>\n      <th>abater</th>\n      <th>abdalla</th>\n      <th>abecip</th>\n      <th>abegas</th>\n      <th>aberta</th>\n      <th>abertas</th>\n      <th>...</th>\n      <th>westwing</th>\n      <th>wework</th>\n      <th>whatsapp</th>\n      <th>wilson</th>\n      <th>wirecard</th>\n      <th>xangai</th>\n      <th>xiaomi</th>\n      <th>xpbr31</th>\n      <th>yields</th>\n      <th>zuckerberg</th>\n    </tr>\n  </thead>\n  <tbody>\n    <tr>\n      <th>0</th>\n      <td>0.0</td>\n      <td>0.0</td>\n      <td>0.0</td>\n      <td>0.0</td>\n      <td>0.0</td>\n      <td>0.0</td>\n      <td>0.0</td>\n      <td>0.0</td>\n      <td>0.0</td>\n      <td>0.0</td>\n      <td>...</td>\n      <td>0.0</td>\n      <td>0.0</td>\n      <td>0.0</td>\n      <td>0.0</td>\n      <td>0.0</td>\n      <td>0.0</td>\n      <td>0.0</td>\n      <td>0.0</td>\n      <td>0.0</td>\n      <td>0.0</td>\n    </tr>\n    <tr>\n      <th>1</th>\n      <td>0.0</td>\n      <td>0.0</td>\n      <td>0.0</td>\n      <td>0.0</td>\n      <td>0.0</td>\n      <td>0.0</td>\n      <td>0.0</td>\n      <td>0.0</td>\n      <td>0.0</td>\n      <td>0.0</td>\n      <td>...</td>\n      <td>0.0</td>\n      <td>0.0</td>\n      <td>0.0</td>\n      <td>0.0</td>\n      <td>0.0</td>\n      <td>0.0</td>\n      <td>0.0</td>\n      <td>0.0</td>\n      <td>0.0</td>\n      <td>0.0</td>\n    </tr>\n    <tr>\n      <th>2</th>\n      <td>0.0</td>\n      <td>0.0</td>\n      <td>0.0</td>\n      <td>0.0</td>\n      <td>0.0</td>\n      <td>0.0</td>\n      <td>0.0</td>\n      <td>0.0</td>\n      <td>0.0</td>\n      <td>0.0</td>\n      <td>...</td>\n      <td>0.0</td>\n      <td>0.0</td>\n      <td>0.0</td>\n      <td>0.0</td>\n      <td>0.0</td>\n      <td>0.0</td>\n      <td>0.0</td>\n      <td>0.0</td>\n      <td>0.0</td>\n      <td>0.0</td>\n    </tr>\n    <tr>\n      <th>3</th>\n      <td>0.0</td>\n      <td>0.0</td>\n      <td>0.0</td>\n      <td>0.0</td>\n      <td>0.0</td>\n      <td>0.0</td>\n      <td>0.0</td>\n      <td>0.0</td>\n      <td>0.0</td>\n      <td>0.0</td>\n      <td>...</td>\n      <td>0.0</td>\n      <td>0.0</td>\n      <td>0.0</td>\n      <td>0.0</td>\n      <td>0.0</td>\n      <td>0.0</td>\n      <td>0.0</td>\n      <td>0.0</td>\n      <td>0.0</td>\n      <td>0.0</td>\n    </tr>\n    <tr>\n      <th>4</th>\n      <td>0.0</td>\n      <td>0.0</td>\n      <td>0.0</td>\n      <td>0.0</td>\n      <td>0.0</td>\n      <td>0.0</td>\n      <td>0.0</td>\n      <td>0.0</td>\n      <td>0.0</td>\n      <td>0.0</td>\n      <td>...</td>\n      <td>0.0</td>\n      <td>0.0</td>\n      <td>0.0</td>\n      <td>0.0</td>\n      <td>0.0</td>\n      <td>0.0</td>\n      <td>0.0</td>\n      <td>0.0</td>\n      <td>0.0</td>\n      <td>0.0</td>\n    </tr>\n    <tr>\n      <th>...</th>\n      <td>...</td>\n      <td>...</td>\n      <td>...</td>\n      <td>...</td>\n      <td>...</td>\n      <td>...</td>\n      <td>...</td>\n      <td>...</td>\n      <td>...</td>\n      <td>...</td>\n      <td>...</td>\n      <td>...</td>\n      <td>...</td>\n      <td>...</td>\n      <td>...</td>\n      <td>...</td>\n      <td>...</td>\n      <td>...</td>\n      <td>...</td>\n      <td>...</td>\n      <td>...</td>\n    </tr>\n    <tr>\n      <th>14404</th>\n      <td>0.0</td>\n      <td>0.0</td>\n      <td>0.0</td>\n      <td>0.0</td>\n      <td>0.0</td>\n      <td>0.0</td>\n      <td>0.0</td>\n      <td>0.0</td>\n      <td>0.0</td>\n      <td>0.0</td>\n      <td>...</td>\n      <td>0.0</td>\n      <td>0.0</td>\n      <td>0.0</td>\n      <td>0.0</td>\n      <td>0.0</td>\n      <td>0.0</td>\n      <td>0.0</td>\n      <td>0.0</td>\n      <td>0.0</td>\n      <td>0.0</td>\n    </tr>\n    <tr>\n      <th>14405</th>\n      <td>0.0</td>\n      <td>0.0</td>\n      <td>0.0</td>\n      <td>0.0</td>\n      <td>0.0</td>\n      <td>0.0</td>\n      <td>0.0</td>\n      <td>0.0</td>\n      <td>0.0</td>\n      <td>0.0</td>\n      <td>...</td>\n      <td>0.0</td>\n      <td>0.0</td>\n      <td>0.0</td>\n      <td>0.0</td>\n      <td>0.0</td>\n      <td>0.0</td>\n      <td>0.0</td>\n      <td>0.0</td>\n      <td>0.0</td>\n      <td>0.0</td>\n    </tr>\n    <tr>\n      <th>14406</th>\n      <td>0.0</td>\n      <td>0.0</td>\n      <td>0.0</td>\n      <td>0.0</td>\n      <td>0.0</td>\n      <td>0.0</td>\n      <td>0.0</td>\n      <td>0.0</td>\n      <td>0.0</td>\n      <td>0.0</td>\n      <td>...</td>\n      <td>0.0</td>\n      <td>0.0</td>\n      <td>0.0</td>\n      <td>0.0</td>\n      <td>0.0</td>\n      <td>0.0</td>\n      <td>0.0</td>\n      <td>0.0</td>\n      <td>0.0</td>\n      <td>0.0</td>\n    </tr>\n    <tr>\n      <th>14407</th>\n      <td>0.0</td>\n      <td>0.0</td>\n      <td>0.0</td>\n      <td>0.0</td>\n      <td>0.0</td>\n      <td>0.0</td>\n      <td>0.0</td>\n      <td>0.0</td>\n      <td>0.0</td>\n      <td>0.0</td>\n      <td>...</td>\n      <td>0.0</td>\n      <td>0.0</td>\n      <td>0.0</td>\n      <td>0.0</td>\n      <td>0.0</td>\n      <td>0.0</td>\n      <td>0.0</td>\n      <td>0.0</td>\n      <td>0.0</td>\n      <td>0.0</td>\n    </tr>\n    <tr>\n      <th>14408</th>\n      <td>0.0</td>\n      <td>0.0</td>\n      <td>0.0</td>\n      <td>0.0</td>\n      <td>0.0</td>\n      <td>0.0</td>\n      <td>0.0</td>\n      <td>0.0</td>\n      <td>0.0</td>\n      <td>0.0</td>\n      <td>...</td>\n      <td>0.0</td>\n      <td>0.0</td>\n      <td>0.0</td>\n      <td>0.0</td>\n      <td>0.0</td>\n      <td>0.0</td>\n      <td>0.0</td>\n      <td>0.0</td>\n      <td>0.0</td>\n      <td>0.0</td>\n    </tr>\n  </tbody>\n</table>\n<p>14409 rows × 4247 columns</p>\n</div>"
     },
     "execution_count": 5,
     "metadata": {},
     "output_type": "execute_result"
    }
   ],
   "source": [
    "from sklearn.feature_extraction.text import TfidfVectorizer\n",
    "\n",
    "stop_words = [\"da\", \"meu\", \"em\", \"voce\", \"de\", \"ao\", \"os\", \"cento\"]\n",
    "\n",
    "tfidf_vec = TfidfVectorizer(ngram_range=(1, 1), token_pattern=r'\\b[a-zA-Z]{3}[a-zA-Z0-9]{3,}\\b', max_df=0.5, min_df=2,stop_words=stop_words)\n",
    "X_train_tfidf = tfidf_vec.fit_transform(train['title']).toarray()\n",
    "\n",
    "X_train_names_tfidf = pd.DataFrame(X_train_tfidf, columns=tfidf_vec.get_feature_names_out())\n",
    "X_train_names_tfidf\n",
    "# X_val_tfidf = cv_vec.transform(val['title']).toarray()"
   ],
   "metadata": {
    "collapsed": false,
    "ExecuteTime": {
     "end_time": "2023-06-27T15:15:15.376730900Z",
     "start_time": "2023-06-27T15:15:14.998635100Z"
    }
   }
  },
  {
   "cell_type": "code",
   "execution_count": 6,
   "outputs": [
    {
     "data": {
      "text/plain": "     aponta   bilhoes  coronavirus   credito    decide  desembolsar  gasolina  \\\n0  0.000000  0.242942     0.259807  0.297781  0.374145      0.50711  0.000000   \n1  0.410901  0.000000     0.000000  0.000000  0.000000      0.00000  0.319117   \n\n     linhas    metade    postos  rotativo  valecard  \n0  0.408341  0.000000  0.000000   0.47002  0.000000  \n1  0.000000  0.525466  0.420828   0.00000  0.525466  ",
      "text/html": "<div>\n<style scoped>\n    .dataframe tbody tr th:only-of-type {\n        vertical-align: middle;\n    }\n\n    .dataframe tbody tr th {\n        vertical-align: top;\n    }\n\n    .dataframe thead th {\n        text-align: right;\n    }\n</style>\n<table border=\"1\" class=\"dataframe\">\n  <thead>\n    <tr style=\"text-align: right;\">\n      <th></th>\n      <th>aponta</th>\n      <th>bilhoes</th>\n      <th>coronavirus</th>\n      <th>credito</th>\n      <th>decide</th>\n      <th>desembolsar</th>\n      <th>gasolina</th>\n      <th>linhas</th>\n      <th>metade</th>\n      <th>postos</th>\n      <th>rotativo</th>\n      <th>valecard</th>\n    </tr>\n  </thead>\n  <tbody>\n    <tr>\n      <th>0</th>\n      <td>0.000000</td>\n      <td>0.242942</td>\n      <td>0.259807</td>\n      <td>0.297781</td>\n      <td>0.374145</td>\n      <td>0.50711</td>\n      <td>0.000000</td>\n      <td>0.408341</td>\n      <td>0.000000</td>\n      <td>0.000000</td>\n      <td>0.47002</td>\n      <td>0.000000</td>\n    </tr>\n    <tr>\n      <th>1</th>\n      <td>0.410901</td>\n      <td>0.000000</td>\n      <td>0.000000</td>\n      <td>0.000000</td>\n      <td>0.000000</td>\n      <td>0.00000</td>\n      <td>0.319117</td>\n      <td>0.000000</td>\n      <td>0.525466</td>\n      <td>0.420828</td>\n      <td>0.00000</td>\n      <td>0.525466</td>\n    </tr>\n  </tbody>\n</table>\n</div>"
     },
     "execution_count": 6,
     "metadata": {},
     "output_type": "execute_result"
    }
   ],
   "source": [
    "import numpy as np\n",
    "X_train_tfidf_vis = X_train_names_tfidf.copy()\n",
    "X_train_tfidf_vis = X_train_tfidf_vis.iloc[:2]\n",
    "X_train_tfidf_vis = X_train_tfidf_vis.replace(0, np.nan).dropna(axis=1, how='all')\n",
    "X_train_tfidf_vis = X_train_tfidf_vis.replace(np.nan, 0)\n",
    "X_train_tfidf_vis"
   ],
   "metadata": {
    "collapsed": false,
    "ExecuteTime": {
     "end_time": "2023-06-27T15:15:16.774462Z",
     "start_time": "2023-06-27T15:15:15.376730900Z"
    }
   }
  },
  {
   "cell_type": "markdown",
   "source": [
    "## Output"
   ],
   "metadata": {
    "collapsed": false
   }
  },
  {
   "cell_type": "code",
   "execution_count": 7,
   "outputs": [],
   "source": [
    "with open('../../assets/trad_assets/cv_vec.pkl', 'wb') as fout:\n",
    "    pickle.dump(cv_vec, fout)"
   ],
   "metadata": {
    "collapsed": false,
    "ExecuteTime": {
     "end_time": "2023-06-27T15:15:16.804136400Z",
     "start_time": "2023-06-27T15:15:16.774462Z"
    }
   }
  },
  {
   "cell_type": "code",
   "execution_count": 8,
   "outputs": [],
   "source": [
    "with open('../../assets/trad_assets/tfidf_vec.pkl', 'wb') as fout:\n",
    "    pickle.dump(tfidf_vec, fout)"
   ],
   "metadata": {
    "collapsed": false,
    "ExecuteTime": {
     "end_time": "2023-06-27T15:15:16.851009800Z",
     "start_time": "2023-06-27T15:15:16.804136400Z"
    }
   }
  }
 ],
 "metadata": {
  "kernelspec": {
   "display_name": "Python 3",
   "language": "python",
   "name": "python3"
  },
  "language_info": {
   "codemirror_mode": {
    "name": "ipython",
    "version": 2
   },
   "file_extension": ".py",
   "mimetype": "text/x-python",
   "name": "python",
   "nbconvert_exporter": "python",
   "pygments_lexer": "ipython2",
   "version": "2.7.6"
  }
 },
 "nbformat": 4,
 "nbformat_minor": 0
}
