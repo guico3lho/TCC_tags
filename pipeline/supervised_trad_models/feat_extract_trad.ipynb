{
 "cells": [
  {
   "cell_type": "code",
   "execution_count": 1,
   "outputs": [],
   "source": [
    "import pickle\n",
    "import pandas as pd"
   ],
   "metadata": {
    "collapsed": false,
    "ExecuteTime": {
     "end_time": "2023-07-10T13:59:12.676927100Z",
     "start_time": "2023-07-10T13:59:12.662934400Z"
    }
   }
  },
  {
   "cell_type": "markdown",
   "source": [
    "## Packages"
   ],
   "metadata": {
    "collapsed": false
   }
  },
  {
   "cell_type": "markdown",
   "source": [
    "## Dependencies"
   ],
   "metadata": {
    "collapsed": false
   }
  },
  {
   "cell_type": "code",
   "execution_count": 2,
   "outputs": [],
   "source": [
    "train = pd.read_csv('../../assets/data/splits/train/preprocessed.csv')"
   ],
   "metadata": {
    "collapsed": false,
    "ExecuteTime": {
     "end_time": "2023-07-10T13:59:12.786864200Z",
     "start_time": "2023-07-10T13:59:12.678925300Z"
    }
   }
  },
  {
   "cell_type": "markdown",
   "source": [
    "## Functions and Assets"
   ],
   "metadata": {
    "collapsed": false
   }
  },
  {
   "cell_type": "markdown",
   "source": [
    "## CountVectorizer"
   ],
   "metadata": {
    "collapsed": false
   }
  },
  {
   "cell_type": "code",
   "execution_count": 3,
   "outputs": [
    {
     "data": {
      "text/plain": "       abaixo  abandonar  abastecer  abastecimento  abater  abdalla  abecip  \\\n0           0          0          0              0       0        0       0   \n1           0          0          0              0       0        0       0   \n2           0          0          0              0       0        0       0   \n3           0          0          0              0       0        0       0   \n4           0          0          0              0       0        0       0   \n...       ...        ...        ...            ...     ...      ...     ...   \n14404       0          0          0              0       0        0       0   \n14405       0          0          0              0       0        0       0   \n14406       0          0          0              0       0        0       0   \n14407       0          0          0              0       0        0       0   \n14408       0          0          0              0       0        0       0   \n\n       abegas  aberta  abertas  ...  westwing  wework  whatsapp  wilson  \\\n0           0       0        0  ...         0       0         0       0   \n1           0       0        0  ...         0       0         0       0   \n2           0       0        0  ...         0       0         0       0   \n3           0       0        0  ...         0       0         0       0   \n4           0       0        0  ...         0       0         0       0   \n...       ...     ...      ...  ...       ...     ...       ...     ...   \n14404       0       0        0  ...         0       0         0       0   \n14405       0       0        0  ...         0       0         0       0   \n14406       0       0        0  ...         0       0         0       0   \n14407       0       0        0  ...         0       0         0       0   \n14408       0       0        0  ...         0       0         0       0   \n\n       wirecard  xangai  xiaomi  xpbr31  yields  zuckerberg  \n0             0       0       0       0       0           0  \n1             0       0       0       0       0           0  \n2             0       0       0       0       0           0  \n3             0       0       0       0       0           0  \n4             0       0       0       0       0           0  \n...         ...     ...     ...     ...     ...         ...  \n14404         0       0       0       0       0           0  \n14405         0       0       0       0       0           0  \n14406         0       0       0       0       0           0  \n14407         0       0       0       0       0           0  \n14408         0       0       0       0       0           0  \n\n[14409 rows x 4247 columns]",
      "text/html": "<div>\n<style scoped>\n    .dataframe tbody tr th:only-of-type {\n        vertical-align: middle;\n    }\n\n    .dataframe tbody tr th {\n        vertical-align: top;\n    }\n\n    .dataframe thead th {\n        text-align: right;\n    }\n</style>\n<table border=\"1\" class=\"dataframe\">\n  <thead>\n    <tr style=\"text-align: right;\">\n      <th></th>\n      <th>abaixo</th>\n      <th>abandonar</th>\n      <th>abastecer</th>\n      <th>abastecimento</th>\n      <th>abater</th>\n      <th>abdalla</th>\n      <th>abecip</th>\n      <th>abegas</th>\n      <th>aberta</th>\n      <th>abertas</th>\n      <th>...</th>\n      <th>westwing</th>\n      <th>wework</th>\n      <th>whatsapp</th>\n      <th>wilson</th>\n      <th>wirecard</th>\n      <th>xangai</th>\n      <th>xiaomi</th>\n      <th>xpbr31</th>\n      <th>yields</th>\n      <th>zuckerberg</th>\n    </tr>\n  </thead>\n  <tbody>\n    <tr>\n      <th>0</th>\n      <td>0</td>\n      <td>0</td>\n      <td>0</td>\n      <td>0</td>\n      <td>0</td>\n      <td>0</td>\n      <td>0</td>\n      <td>0</td>\n      <td>0</td>\n      <td>0</td>\n      <td>...</td>\n      <td>0</td>\n      <td>0</td>\n      <td>0</td>\n      <td>0</td>\n      <td>0</td>\n      <td>0</td>\n      <td>0</td>\n      <td>0</td>\n      <td>0</td>\n      <td>0</td>\n    </tr>\n    <tr>\n      <th>1</th>\n      <td>0</td>\n      <td>0</td>\n      <td>0</td>\n      <td>0</td>\n      <td>0</td>\n      <td>0</td>\n      <td>0</td>\n      <td>0</td>\n      <td>0</td>\n      <td>0</td>\n      <td>...</td>\n      <td>0</td>\n      <td>0</td>\n      <td>0</td>\n      <td>0</td>\n      <td>0</td>\n      <td>0</td>\n      <td>0</td>\n      <td>0</td>\n      <td>0</td>\n      <td>0</td>\n    </tr>\n    <tr>\n      <th>2</th>\n      <td>0</td>\n      <td>0</td>\n      <td>0</td>\n      <td>0</td>\n      <td>0</td>\n      <td>0</td>\n      <td>0</td>\n      <td>0</td>\n      <td>0</td>\n      <td>0</td>\n      <td>...</td>\n      <td>0</td>\n      <td>0</td>\n      <td>0</td>\n      <td>0</td>\n      <td>0</td>\n      <td>0</td>\n      <td>0</td>\n      <td>0</td>\n      <td>0</td>\n      <td>0</td>\n    </tr>\n    <tr>\n      <th>3</th>\n      <td>0</td>\n      <td>0</td>\n      <td>0</td>\n      <td>0</td>\n      <td>0</td>\n      <td>0</td>\n      <td>0</td>\n      <td>0</td>\n      <td>0</td>\n      <td>0</td>\n      <td>...</td>\n      <td>0</td>\n      <td>0</td>\n      <td>0</td>\n      <td>0</td>\n      <td>0</td>\n      <td>0</td>\n      <td>0</td>\n      <td>0</td>\n      <td>0</td>\n      <td>0</td>\n    </tr>\n    <tr>\n      <th>4</th>\n      <td>0</td>\n      <td>0</td>\n      <td>0</td>\n      <td>0</td>\n      <td>0</td>\n      <td>0</td>\n      <td>0</td>\n      <td>0</td>\n      <td>0</td>\n      <td>0</td>\n      <td>...</td>\n      <td>0</td>\n      <td>0</td>\n      <td>0</td>\n      <td>0</td>\n      <td>0</td>\n      <td>0</td>\n      <td>0</td>\n      <td>0</td>\n      <td>0</td>\n      <td>0</td>\n    </tr>\n    <tr>\n      <th>...</th>\n      <td>...</td>\n      <td>...</td>\n      <td>...</td>\n      <td>...</td>\n      <td>...</td>\n      <td>...</td>\n      <td>...</td>\n      <td>...</td>\n      <td>...</td>\n      <td>...</td>\n      <td>...</td>\n      <td>...</td>\n      <td>...</td>\n      <td>...</td>\n      <td>...</td>\n      <td>...</td>\n      <td>...</td>\n      <td>...</td>\n      <td>...</td>\n      <td>...</td>\n      <td>...</td>\n    </tr>\n    <tr>\n      <th>14404</th>\n      <td>0</td>\n      <td>0</td>\n      <td>0</td>\n      <td>0</td>\n      <td>0</td>\n      <td>0</td>\n      <td>0</td>\n      <td>0</td>\n      <td>0</td>\n      <td>0</td>\n      <td>...</td>\n      <td>0</td>\n      <td>0</td>\n      <td>0</td>\n      <td>0</td>\n      <td>0</td>\n      <td>0</td>\n      <td>0</td>\n      <td>0</td>\n      <td>0</td>\n      <td>0</td>\n    </tr>\n    <tr>\n      <th>14405</th>\n      <td>0</td>\n      <td>0</td>\n      <td>0</td>\n      <td>0</td>\n      <td>0</td>\n      <td>0</td>\n      <td>0</td>\n      <td>0</td>\n      <td>0</td>\n      <td>0</td>\n      <td>...</td>\n      <td>0</td>\n      <td>0</td>\n      <td>0</td>\n      <td>0</td>\n      <td>0</td>\n      <td>0</td>\n      <td>0</td>\n      <td>0</td>\n      <td>0</td>\n      <td>0</td>\n    </tr>\n    <tr>\n      <th>14406</th>\n      <td>0</td>\n      <td>0</td>\n      <td>0</td>\n      <td>0</td>\n      <td>0</td>\n      <td>0</td>\n      <td>0</td>\n      <td>0</td>\n      <td>0</td>\n      <td>0</td>\n      <td>...</td>\n      <td>0</td>\n      <td>0</td>\n      <td>0</td>\n      <td>0</td>\n      <td>0</td>\n      <td>0</td>\n      <td>0</td>\n      <td>0</td>\n      <td>0</td>\n      <td>0</td>\n    </tr>\n    <tr>\n      <th>14407</th>\n      <td>0</td>\n      <td>0</td>\n      <td>0</td>\n      <td>0</td>\n      <td>0</td>\n      <td>0</td>\n      <td>0</td>\n      <td>0</td>\n      <td>0</td>\n      <td>0</td>\n      <td>...</td>\n      <td>0</td>\n      <td>0</td>\n      <td>0</td>\n      <td>0</td>\n      <td>0</td>\n      <td>0</td>\n      <td>0</td>\n      <td>0</td>\n      <td>0</td>\n      <td>0</td>\n    </tr>\n    <tr>\n      <th>14408</th>\n      <td>0</td>\n      <td>0</td>\n      <td>0</td>\n      <td>0</td>\n      <td>0</td>\n      <td>0</td>\n      <td>0</td>\n      <td>0</td>\n      <td>0</td>\n      <td>0</td>\n      <td>...</td>\n      <td>0</td>\n      <td>0</td>\n      <td>0</td>\n      <td>0</td>\n      <td>0</td>\n      <td>0</td>\n      <td>0</td>\n      <td>0</td>\n      <td>0</td>\n      <td>0</td>\n    </tr>\n  </tbody>\n</table>\n<p>14409 rows × 4247 columns</p>\n</div>"
     },
     "execution_count": 3,
     "metadata": {},
     "output_type": "execute_result"
    }
   ],
   "source": [
    "from sklearn.feature_extraction.text import CountVectorizer\n",
    "\n",
    "stop_words = [\"da\", \"meu\", \"em\", \"voce\", \"de\", \"ao\", \"os\", \"cento\"]\n",
    "\n",
    "cv_vec = CountVectorizer(ngram_range=(1, 1), token_pattern=r'\\b[a-zA-Z]{3}[a-zA-Z0-9]{3,}\\b', max_df=0.5, min_df=2, stop_words=stop_words)\n",
    "X_train_cv = cv_vec.fit_transform(train['title']).toarray()\n",
    "\n",
    "X_train_names_cv = pd.DataFrame(X_train_cv, columns=cv_vec.get_feature_names_out())\n",
    "X_train_names_cv"
   ],
   "metadata": {
    "collapsed": false,
    "ExecuteTime": {
     "end_time": "2023-07-10T13:59:14.558172200Z",
     "start_time": "2023-07-10T13:59:12.787863900Z"
    }
   }
  },
  {
   "cell_type": "code",
   "execution_count": 11,
   "outputs": [
    {
     "data": {
      "text/plain": "   alckmin  aprova  campos  cessao  comeca  fortalecimento  mercado  \\\n8        0       1       1       1       0               0        0   \n9        1       0       0       0       1               1        1   \n\n   participacao  petrobras  petroleo  precificar  \n8             1          1         1           0  \n9             0          0         0           1  ",
      "text/html": "<div>\n<style scoped>\n    .dataframe tbody tr th:only-of-type {\n        vertical-align: middle;\n    }\n\n    .dataframe tbody tr th {\n        vertical-align: top;\n    }\n\n    .dataframe thead th {\n        text-align: right;\n    }\n</style>\n<table border=\"1\" class=\"dataframe\">\n  <thead>\n    <tr style=\"text-align: right;\">\n      <th></th>\n      <th>alckmin</th>\n      <th>aprova</th>\n      <th>campos</th>\n      <th>cessao</th>\n      <th>comeca</th>\n      <th>fortalecimento</th>\n      <th>mercado</th>\n      <th>participacao</th>\n      <th>petrobras</th>\n      <th>petroleo</th>\n      <th>precificar</th>\n    </tr>\n  </thead>\n  <tbody>\n    <tr>\n      <th>8</th>\n      <td>0</td>\n      <td>1</td>\n      <td>1</td>\n      <td>1</td>\n      <td>0</td>\n      <td>0</td>\n      <td>0</td>\n      <td>1</td>\n      <td>1</td>\n      <td>1</td>\n      <td>0</td>\n    </tr>\n    <tr>\n      <th>9</th>\n      <td>1</td>\n      <td>0</td>\n      <td>0</td>\n      <td>0</td>\n      <td>1</td>\n      <td>1</td>\n      <td>1</td>\n      <td>0</td>\n      <td>0</td>\n      <td>0</td>\n      <td>1</td>\n    </tr>\n  </tbody>\n</table>\n</div>"
     },
     "execution_count": 11,
     "metadata": {},
     "output_type": "execute_result"
    }
   ],
   "source": [
    "import numpy as np\n",
    "X_train_cv_vis = X_train_names_cv.copy()\n",
    "X_train_cv_vis = X_train_cv_vis.iloc[8:10]\n",
    "X_train_cv_vis = X_train_cv_vis.replace(0, np.nan).dropna(axis=1, how='all')\n",
    "X_train_cv_vis = X_train_cv_vis.replace(np.nan, 0)\n",
    "X_train_cv_vis.astype(int)"
   ],
   "metadata": {
    "collapsed": false,
    "ExecuteTime": {
     "end_time": "2023-07-10T14:21:57.130723900Z",
     "start_time": "2023-07-10T14:21:54.061367400Z"
    }
   }
  },
  {
   "cell_type": "markdown",
   "source": [
    "## TFIDF Vectorizer"
   ],
   "metadata": {
    "collapsed": false
   }
  },
  {
   "cell_type": "code",
   "execution_count": 5,
   "outputs": [
    {
     "data": {
      "text/plain": "       abaixo  abandonar  abastecer  abastecimento  abater  abdalla  abecip  \\\n0         0.0        0.0        0.0            0.0     0.0      0.0     0.0   \n1         0.0        0.0        0.0            0.0     0.0      0.0     0.0   \n2         0.0        0.0        0.0            0.0     0.0      0.0     0.0   \n3         0.0        0.0        0.0            0.0     0.0      0.0     0.0   \n4         0.0        0.0        0.0            0.0     0.0      0.0     0.0   \n...       ...        ...        ...            ...     ...      ...     ...   \n14404     0.0        0.0        0.0            0.0     0.0      0.0     0.0   \n14405     0.0        0.0        0.0            0.0     0.0      0.0     0.0   \n14406     0.0        0.0        0.0            0.0     0.0      0.0     0.0   \n14407     0.0        0.0        0.0            0.0     0.0      0.0     0.0   \n14408     0.0        0.0        0.0            0.0     0.0      0.0     0.0   \n\n       abegas  aberta  abertas  ...  westwing  wework  whatsapp  wilson  \\\n0         0.0     0.0      0.0  ...       0.0     0.0       0.0     0.0   \n1         0.0     0.0      0.0  ...       0.0     0.0       0.0     0.0   \n2         0.0     0.0      0.0  ...       0.0     0.0       0.0     0.0   \n3         0.0     0.0      0.0  ...       0.0     0.0       0.0     0.0   \n4         0.0     0.0      0.0  ...       0.0     0.0       0.0     0.0   \n...       ...     ...      ...  ...       ...     ...       ...     ...   \n14404     0.0     0.0      0.0  ...       0.0     0.0       0.0     0.0   \n14405     0.0     0.0      0.0  ...       0.0     0.0       0.0     0.0   \n14406     0.0     0.0      0.0  ...       0.0     0.0       0.0     0.0   \n14407     0.0     0.0      0.0  ...       0.0     0.0       0.0     0.0   \n14408     0.0     0.0      0.0  ...       0.0     0.0       0.0     0.0   \n\n       wirecard  xangai  xiaomi  xpbr31  yields  zuckerberg  \n0           0.0     0.0     0.0     0.0     0.0         0.0  \n1           0.0     0.0     0.0     0.0     0.0         0.0  \n2           0.0     0.0     0.0     0.0     0.0         0.0  \n3           0.0     0.0     0.0     0.0     0.0         0.0  \n4           0.0     0.0     0.0     0.0     0.0         0.0  \n...         ...     ...     ...     ...     ...         ...  \n14404       0.0     0.0     0.0     0.0     0.0         0.0  \n14405       0.0     0.0     0.0     0.0     0.0         0.0  \n14406       0.0     0.0     0.0     0.0     0.0         0.0  \n14407       0.0     0.0     0.0     0.0     0.0         0.0  \n14408       0.0     0.0     0.0     0.0     0.0         0.0  \n\n[14409 rows x 4247 columns]",
      "text/html": "<div>\n<style scoped>\n    .dataframe tbody tr th:only-of-type {\n        vertical-align: middle;\n    }\n\n    .dataframe tbody tr th {\n        vertical-align: top;\n    }\n\n    .dataframe thead th {\n        text-align: right;\n    }\n</style>\n<table border=\"1\" class=\"dataframe\">\n  <thead>\n    <tr style=\"text-align: right;\">\n      <th></th>\n      <th>abaixo</th>\n      <th>abandonar</th>\n      <th>abastecer</th>\n      <th>abastecimento</th>\n      <th>abater</th>\n      <th>abdalla</th>\n      <th>abecip</th>\n      <th>abegas</th>\n      <th>aberta</th>\n      <th>abertas</th>\n      <th>...</th>\n      <th>westwing</th>\n      <th>wework</th>\n      <th>whatsapp</th>\n      <th>wilson</th>\n      <th>wirecard</th>\n      <th>xangai</th>\n      <th>xiaomi</th>\n      <th>xpbr31</th>\n      <th>yields</th>\n      <th>zuckerberg</th>\n    </tr>\n  </thead>\n  <tbody>\n    <tr>\n      <th>0</th>\n      <td>0.0</td>\n      <td>0.0</td>\n      <td>0.0</td>\n      <td>0.0</td>\n      <td>0.0</td>\n      <td>0.0</td>\n      <td>0.0</td>\n      <td>0.0</td>\n      <td>0.0</td>\n      <td>0.0</td>\n      <td>...</td>\n      <td>0.0</td>\n      <td>0.0</td>\n      <td>0.0</td>\n      <td>0.0</td>\n      <td>0.0</td>\n      <td>0.0</td>\n      <td>0.0</td>\n      <td>0.0</td>\n      <td>0.0</td>\n      <td>0.0</td>\n    </tr>\n    <tr>\n      <th>1</th>\n      <td>0.0</td>\n      <td>0.0</td>\n      <td>0.0</td>\n      <td>0.0</td>\n      <td>0.0</td>\n      <td>0.0</td>\n      <td>0.0</td>\n      <td>0.0</td>\n      <td>0.0</td>\n      <td>0.0</td>\n      <td>...</td>\n      <td>0.0</td>\n      <td>0.0</td>\n      <td>0.0</td>\n      <td>0.0</td>\n      <td>0.0</td>\n      <td>0.0</td>\n      <td>0.0</td>\n      <td>0.0</td>\n      <td>0.0</td>\n      <td>0.0</td>\n    </tr>\n    <tr>\n      <th>2</th>\n      <td>0.0</td>\n      <td>0.0</td>\n      <td>0.0</td>\n      <td>0.0</td>\n      <td>0.0</td>\n      <td>0.0</td>\n      <td>0.0</td>\n      <td>0.0</td>\n      <td>0.0</td>\n      <td>0.0</td>\n      <td>...</td>\n      <td>0.0</td>\n      <td>0.0</td>\n      <td>0.0</td>\n      <td>0.0</td>\n      <td>0.0</td>\n      <td>0.0</td>\n      <td>0.0</td>\n      <td>0.0</td>\n      <td>0.0</td>\n      <td>0.0</td>\n    </tr>\n    <tr>\n      <th>3</th>\n      <td>0.0</td>\n      <td>0.0</td>\n      <td>0.0</td>\n      <td>0.0</td>\n      <td>0.0</td>\n      <td>0.0</td>\n      <td>0.0</td>\n      <td>0.0</td>\n      <td>0.0</td>\n      <td>0.0</td>\n      <td>...</td>\n      <td>0.0</td>\n      <td>0.0</td>\n      <td>0.0</td>\n      <td>0.0</td>\n      <td>0.0</td>\n      <td>0.0</td>\n      <td>0.0</td>\n      <td>0.0</td>\n      <td>0.0</td>\n      <td>0.0</td>\n    </tr>\n    <tr>\n      <th>4</th>\n      <td>0.0</td>\n      <td>0.0</td>\n      <td>0.0</td>\n      <td>0.0</td>\n      <td>0.0</td>\n      <td>0.0</td>\n      <td>0.0</td>\n      <td>0.0</td>\n      <td>0.0</td>\n      <td>0.0</td>\n      <td>...</td>\n      <td>0.0</td>\n      <td>0.0</td>\n      <td>0.0</td>\n      <td>0.0</td>\n      <td>0.0</td>\n      <td>0.0</td>\n      <td>0.0</td>\n      <td>0.0</td>\n      <td>0.0</td>\n      <td>0.0</td>\n    </tr>\n    <tr>\n      <th>...</th>\n      <td>...</td>\n      <td>...</td>\n      <td>...</td>\n      <td>...</td>\n      <td>...</td>\n      <td>...</td>\n      <td>...</td>\n      <td>...</td>\n      <td>...</td>\n      <td>...</td>\n      <td>...</td>\n      <td>...</td>\n      <td>...</td>\n      <td>...</td>\n      <td>...</td>\n      <td>...</td>\n      <td>...</td>\n      <td>...</td>\n      <td>...</td>\n      <td>...</td>\n      <td>...</td>\n    </tr>\n    <tr>\n      <th>14404</th>\n      <td>0.0</td>\n      <td>0.0</td>\n      <td>0.0</td>\n      <td>0.0</td>\n      <td>0.0</td>\n      <td>0.0</td>\n      <td>0.0</td>\n      <td>0.0</td>\n      <td>0.0</td>\n      <td>0.0</td>\n      <td>...</td>\n      <td>0.0</td>\n      <td>0.0</td>\n      <td>0.0</td>\n      <td>0.0</td>\n      <td>0.0</td>\n      <td>0.0</td>\n      <td>0.0</td>\n      <td>0.0</td>\n      <td>0.0</td>\n      <td>0.0</td>\n    </tr>\n    <tr>\n      <th>14405</th>\n      <td>0.0</td>\n      <td>0.0</td>\n      <td>0.0</td>\n      <td>0.0</td>\n      <td>0.0</td>\n      <td>0.0</td>\n      <td>0.0</td>\n      <td>0.0</td>\n      <td>0.0</td>\n      <td>0.0</td>\n      <td>...</td>\n      <td>0.0</td>\n      <td>0.0</td>\n      <td>0.0</td>\n      <td>0.0</td>\n      <td>0.0</td>\n      <td>0.0</td>\n      <td>0.0</td>\n      <td>0.0</td>\n      <td>0.0</td>\n      <td>0.0</td>\n    </tr>\n    <tr>\n      <th>14406</th>\n      <td>0.0</td>\n      <td>0.0</td>\n      <td>0.0</td>\n      <td>0.0</td>\n      <td>0.0</td>\n      <td>0.0</td>\n      <td>0.0</td>\n      <td>0.0</td>\n      <td>0.0</td>\n      <td>0.0</td>\n      <td>...</td>\n      <td>0.0</td>\n      <td>0.0</td>\n      <td>0.0</td>\n      <td>0.0</td>\n      <td>0.0</td>\n      <td>0.0</td>\n      <td>0.0</td>\n      <td>0.0</td>\n      <td>0.0</td>\n      <td>0.0</td>\n    </tr>\n    <tr>\n      <th>14407</th>\n      <td>0.0</td>\n      <td>0.0</td>\n      <td>0.0</td>\n      <td>0.0</td>\n      <td>0.0</td>\n      <td>0.0</td>\n      <td>0.0</td>\n      <td>0.0</td>\n      <td>0.0</td>\n      <td>0.0</td>\n      <td>...</td>\n      <td>0.0</td>\n      <td>0.0</td>\n      <td>0.0</td>\n      <td>0.0</td>\n      <td>0.0</td>\n      <td>0.0</td>\n      <td>0.0</td>\n      <td>0.0</td>\n      <td>0.0</td>\n      <td>0.0</td>\n    </tr>\n    <tr>\n      <th>14408</th>\n      <td>0.0</td>\n      <td>0.0</td>\n      <td>0.0</td>\n      <td>0.0</td>\n      <td>0.0</td>\n      <td>0.0</td>\n      <td>0.0</td>\n      <td>0.0</td>\n      <td>0.0</td>\n      <td>0.0</td>\n      <td>...</td>\n      <td>0.0</td>\n      <td>0.0</td>\n      <td>0.0</td>\n      <td>0.0</td>\n      <td>0.0</td>\n      <td>0.0</td>\n      <td>0.0</td>\n      <td>0.0</td>\n      <td>0.0</td>\n      <td>0.0</td>\n    </tr>\n  </tbody>\n</table>\n<p>14409 rows × 4247 columns</p>\n</div>"
     },
     "execution_count": 5,
     "metadata": {},
     "output_type": "execute_result"
    }
   ],
   "source": [
    "from sklearn.feature_extraction.text import TfidfVectorizer\n",
    "\n",
    "stop_words = [\"da\", \"meu\", \"em\", \"voce\", \"de\", \"ao\", \"os\", \"cento\"]\n",
    "\n",
    "tfidf_vec = TfidfVectorizer(ngram_range=(1, 1), token_pattern=r'\\b[a-zA-Z]{3}[a-zA-Z0-9]{3,}\\b', max_df=0.5, min_df=2,stop_words=stop_words)\n",
    "X_train_tfidf = tfidf_vec.fit_transform(train['title']).toarray()\n",
    "\n",
    "X_train_names_tfidf = pd.DataFrame(X_train_tfidf, columns=tfidf_vec.get_feature_names_out())\n",
    "X_train_names_tfidf\n",
    "# X_val_tfidf = cv_vec.transform(val['title']).toarray()"
   ],
   "metadata": {
    "collapsed": false,
    "ExecuteTime": {
     "end_time": "2023-07-10T13:59:18.867368100Z",
     "start_time": "2023-07-10T13:59:18.295295100Z"
    }
   }
  },
  {
   "cell_type": "code",
   "execution_count": 12,
   "outputs": [
    {
     "data": {
      "text/plain": "    alckmin    aprova    campos    cessao    comeca  fortalecimento   mercado  \\\n8  0.000000  0.415057  0.477482  0.485977  0.000000        0.000000  0.000000   \n9  0.483356  0.000000  0.000000  0.000000  0.405709        0.502202  0.260378   \n\n   participacao  petrobras  petroleo  precificar  \n8      0.429965    0.20054  0.372127    0.000000  \n9      0.000000    0.00000  0.000000    0.530814  ",
      "text/html": "<div>\n<style scoped>\n    .dataframe tbody tr th:only-of-type {\n        vertical-align: middle;\n    }\n\n    .dataframe tbody tr th {\n        vertical-align: top;\n    }\n\n    .dataframe thead th {\n        text-align: right;\n    }\n</style>\n<table border=\"1\" class=\"dataframe\">\n  <thead>\n    <tr style=\"text-align: right;\">\n      <th></th>\n      <th>alckmin</th>\n      <th>aprova</th>\n      <th>campos</th>\n      <th>cessao</th>\n      <th>comeca</th>\n      <th>fortalecimento</th>\n      <th>mercado</th>\n      <th>participacao</th>\n      <th>petrobras</th>\n      <th>petroleo</th>\n      <th>precificar</th>\n    </tr>\n  </thead>\n  <tbody>\n    <tr>\n      <th>8</th>\n      <td>0.000000</td>\n      <td>0.415057</td>\n      <td>0.477482</td>\n      <td>0.485977</td>\n      <td>0.000000</td>\n      <td>0.000000</td>\n      <td>0.000000</td>\n      <td>0.429965</td>\n      <td>0.20054</td>\n      <td>0.372127</td>\n      <td>0.000000</td>\n    </tr>\n    <tr>\n      <th>9</th>\n      <td>0.483356</td>\n      <td>0.000000</td>\n      <td>0.000000</td>\n      <td>0.000000</td>\n      <td>0.405709</td>\n      <td>0.502202</td>\n      <td>0.260378</td>\n      <td>0.000000</td>\n      <td>0.00000</td>\n      <td>0.000000</td>\n      <td>0.530814</td>\n    </tr>\n  </tbody>\n</table>\n</div>"
     },
     "execution_count": 12,
     "metadata": {},
     "output_type": "execute_result"
    }
   ],
   "source": [
    "import numpy as np\n",
    "X_train_tfidf_vis = X_train_names_tfidf.copy()\n",
    "X_train_tfidf_vis = X_train_tfidf_vis.iloc[8:10]\n",
    "X_train_tfidf_vis = X_train_tfidf_vis.replace(0, np.nan).dropna(axis=1, how='all')\n",
    "X_train_tfidf_vis = X_train_tfidf_vis.replace(np.nan, 0)\n",
    "X_train_tfidf_vis"
   ],
   "metadata": {
    "collapsed": false,
    "ExecuteTime": {
     "end_time": "2023-07-10T14:22:00.773271Z",
     "start_time": "2023-07-10T14:21:58.899337200Z"
    }
   }
  },
  {
   "cell_type": "markdown",
   "source": [
    "## Output"
   ],
   "metadata": {
    "collapsed": false
   }
  },
  {
   "cell_type": "code",
   "execution_count": 7,
   "outputs": [],
   "source": [
    "with open('../../assets/trad_assets/cv_vec.pkl', 'wb') as fout:\n",
    "    pickle.dump(cv_vec, fout)"
   ],
   "metadata": {
    "collapsed": false,
    "ExecuteTime": {
     "end_time": "2023-07-10T13:59:21.660313600Z",
     "start_time": "2023-07-10T13:59:21.435440600Z"
    }
   }
  },
  {
   "cell_type": "code",
   "execution_count": 8,
   "outputs": [],
   "source": [
    "with open('../../assets/trad_assets/tfidf_vec.pkl', 'wb') as fout:\n",
    "    pickle.dump(tfidf_vec, fout)"
   ],
   "metadata": {
    "collapsed": false,
    "ExecuteTime": {
     "end_time": "2023-07-10T13:59:21.666310200Z",
     "start_time": "2023-07-10T13:59:21.483413400Z"
    }
   }
  }
 ],
 "metadata": {
  "kernelspec": {
   "display_name": "Python 3",
   "language": "python",
   "name": "python3"
  },
  "language_info": {
   "codemirror_mode": {
    "name": "ipython",
    "version": 2
   },
   "file_extension": ".py",
   "mimetype": "text/x-python",
   "name": "python",
   "nbconvert_exporter": "python",
   "pygments_lexer": "ipython2",
   "version": "2.7.6"
  }
 },
 "nbformat": 4,
 "nbformat_minor": 0
}
