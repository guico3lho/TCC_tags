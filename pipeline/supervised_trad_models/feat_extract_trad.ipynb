{
 "cells": [
  {
   "cell_type": "code",
   "execution_count": 1,
   "outputs": [],
   "source": [
    "import pickle\n",
    "import pandas as pd"
   ],
   "metadata": {
    "collapsed": false,
    "ExecuteTime": {
     "end_time": "2023-12-01T20:03:31.453312500Z",
     "start_time": "2023-12-01T20:03:23.809112100Z"
    }
   }
  },
  {
   "cell_type": "markdown",
   "source": [
    "## Packages"
   ],
   "metadata": {
    "collapsed": false
   }
  },
  {
   "cell_type": "markdown",
   "source": [
    "## Dependencies"
   ],
   "metadata": {
    "collapsed": false
   }
  },
  {
   "cell_type": "code",
   "execution_count": 2,
   "outputs": [],
   "source": [
    "train = pd.read_csv('../../assets/data/splits/train/normalized.csv')\n",
    "train = train.iloc[1096:1500]\n"
   ],
   "metadata": {
    "collapsed": false,
    "ExecuteTime": {
     "end_time": "2023-12-01T20:03:31.638421500Z",
     "start_time": "2023-12-01T20:03:31.452313800Z"
    }
   }
  },
  {
   "cell_type": "markdown",
   "source": [
    "## Functions and Assets"
   ],
   "metadata": {
    "collapsed": false
   }
  },
  {
   "cell_type": "markdown",
   "source": [
    "## CountVectorizer"
   ],
   "metadata": {
    "collapsed": false
   }
  },
  {
   "cell_type": "code",
   "execution_count": 3,
   "outputs": [],
   "source": [
    "from sklearn.feature_extraction.text import CountVectorizer\n",
    "\n",
    "cv_vec = CountVectorizer(ngram_range=(1, 1),  analyzer='word')\n",
    "X_train_cv = cv_vec.fit_transform(train['title']).toarray()\n",
    "\n",
    "\n",
    "X_train_names_cv = pd.DataFrame(X_train_cv, columns=cv_vec.get_feature_names_out())"
   ],
   "metadata": {
    "collapsed": false,
    "ExecuteTime": {
     "end_time": "2023-12-01T20:04:05.154608600Z",
     "start_time": "2023-12-01T20:03:31.640422800Z"
    }
   }
  },
  {
   "cell_type": "code",
   "execution_count": 4,
   "outputs": [
    {
     "data": {
      "text/plain": "0      1\n1      0\n2      0\n3      0\n4      0\n      ..\n399    0\n400    0\n401    0\n402    0\n403    0\nName: chuv, Length: 404, dtype: int64"
     },
     "execution_count": 4,
     "metadata": {},
     "output_type": "execute_result"
    }
   ],
   "source": [
    "X_train_names_cv['chuv']"
   ],
   "metadata": {
    "collapsed": false,
    "ExecuteTime": {
     "end_time": "2023-12-01T20:04:05.213294900Z",
     "start_time": "2023-12-01T20:04:05.155610Z"
    }
   }
  },
  {
   "cell_type": "code",
   "execution_count": 5,
   "outputs": [
    {
     "data": {
      "text/plain": "   bilha  camp  chuv  comparec  dav  diz  econom  fiemg  forum  ger  min  \\\n0      1     0     1         0    0    1       0      1      0    2    1   \n1      0     1     0         1    1    0       1      0      1    0    0   \n\n   mundial  nao  net  num  perd  pod  \n0        0    0    0    1     1    1  \n1        1    1    1    0     0    0  ",
      "text/html": "<div>\n<style scoped>\n    .dataframe tbody tr th:only-of-type {\n        vertical-align: middle;\n    }\n\n    .dataframe tbody tr th {\n        vertical-align: top;\n    }\n\n    .dataframe thead th {\n        text-align: right;\n    }\n</style>\n<table border=\"1\" class=\"dataframe\">\n  <thead>\n    <tr style=\"text-align: right;\">\n      <th></th>\n      <th>bilha</th>\n      <th>camp</th>\n      <th>chuv</th>\n      <th>comparec</th>\n      <th>dav</th>\n      <th>diz</th>\n      <th>econom</th>\n      <th>fiemg</th>\n      <th>forum</th>\n      <th>ger</th>\n      <th>min</th>\n      <th>mundial</th>\n      <th>nao</th>\n      <th>net</th>\n      <th>num</th>\n      <th>perd</th>\n      <th>pod</th>\n    </tr>\n  </thead>\n  <tbody>\n    <tr>\n      <th>0</th>\n      <td>1</td>\n      <td>0</td>\n      <td>1</td>\n      <td>0</td>\n      <td>0</td>\n      <td>1</td>\n      <td>0</td>\n      <td>1</td>\n      <td>0</td>\n      <td>2</td>\n      <td>1</td>\n      <td>0</td>\n      <td>0</td>\n      <td>0</td>\n      <td>1</td>\n      <td>1</td>\n      <td>1</td>\n    </tr>\n    <tr>\n      <th>1</th>\n      <td>0</td>\n      <td>1</td>\n      <td>0</td>\n      <td>1</td>\n      <td>1</td>\n      <td>0</td>\n      <td>1</td>\n      <td>0</td>\n      <td>1</td>\n      <td>0</td>\n      <td>0</td>\n      <td>1</td>\n      <td>1</td>\n      <td>1</td>\n      <td>0</td>\n      <td>0</td>\n      <td>0</td>\n    </tr>\n  </tbody>\n</table>\n</div>"
     },
     "execution_count": 5,
     "metadata": {},
     "output_type": "execute_result"
    }
   ],
   "source": [
    "import numpy as np\n",
    "X_train_cv_vis = X_train_names_cv.copy()\n",
    "X_train_cv_vis = X_train_cv_vis.loc[0:1]\n",
    "X_train_cv_vis = X_train_cv_vis.replace(0, np.nan).dropna(axis=1, how='all')\n",
    "X_train_cv_vis = X_train_cv_vis.replace(np.nan, 0)\n",
    "X_train_cv_vis.astype(int)"
   ],
   "metadata": {
    "collapsed": false,
    "ExecuteTime": {
     "end_time": "2023-12-01T20:04:05.583009700Z",
     "start_time": "2023-12-01T20:04:05.194407Z"
    }
   }
  },
  {
   "cell_type": "code",
   "execution_count": 6,
   "outputs": [
    {
     "data": {
      "text/plain": "2t20      0\n2t22      0\n315men    0\n3t21      0\n4t19      0\n         ..\nxp        0\nxpbr31    0\nyduq3     0\nyduqs     0\nzon       0\nName: 0, Length: 1247, dtype: int64"
     },
     "execution_count": 6,
     "metadata": {},
     "output_type": "execute_result"
    }
   ],
   "source": [
    "X_train_names_cv.loc[0]"
   ],
   "metadata": {
    "collapsed": false,
    "ExecuteTime": {
     "end_time": "2023-12-01T20:04:05.603891800Z",
     "start_time": "2023-12-01T20:04:05.584011100Z"
    }
   }
  },
  {
   "cell_type": "markdown",
   "source": [
    "## TFIDF Vectorizer"
   ],
   "metadata": {
    "collapsed": false
   }
  },
  {
   "cell_type": "code",
   "execution_count": 8,
   "outputs": [],
   "source": [
    "from sklearn.feature_extraction.text import TfidfVectorizer\n",
    "\n",
    "tfidf_vec = TfidfVectorizer(ngram_range=(1, 1), analyzer='word')\n",
    "X_train_tfidf = tfidf_vec.fit_transform(train['title']).toarray()\n",
    "\n",
    "X_train_names_tfidf = pd.DataFrame(X_train_tfidf, columns=tfidf_vec.get_feature_names_out())\n",
    "# X_val_tfidf = cv_vec.transform(val['title']).toarray()"
   ],
   "metadata": {
    "collapsed": false,
    "ExecuteTime": {
     "end_time": "2023-12-01T20:07:09.602007900Z",
     "start_time": "2023-12-01T20:07:09.553227800Z"
    }
   }
  },
  {
   "cell_type": "code",
   "execution_count": 9,
   "outputs": [
    {
     "data": {
      "text/plain": "      bilha      camp      chuv  comparec       dav       diz    econom  \\\n0  0.319019  0.000000  0.319019  0.000000  0.000000  0.177903  0.000000   \n1  0.000000  0.299555  0.000000  0.383883  0.383883  0.000000  0.317055   \n\n      fiemg     forum       ger       min   mundial       nao       net  \\\n0  0.358382  0.000000  0.638038  0.261571  0.000000  0.000000  0.000000   \n1  0.000000  0.383883  0.000000  0.000000  0.383883  0.270021  0.383883   \n\n        num      perd      pod  \n0  0.104441  0.306347  0.23685  \n1  0.000000  0.000000  0.00000  ",
      "text/html": "<div>\n<style scoped>\n    .dataframe tbody tr th:only-of-type {\n        vertical-align: middle;\n    }\n\n    .dataframe tbody tr th {\n        vertical-align: top;\n    }\n\n    .dataframe thead th {\n        text-align: right;\n    }\n</style>\n<table border=\"1\" class=\"dataframe\">\n  <thead>\n    <tr style=\"text-align: right;\">\n      <th></th>\n      <th>bilha</th>\n      <th>camp</th>\n      <th>chuv</th>\n      <th>comparec</th>\n      <th>dav</th>\n      <th>diz</th>\n      <th>econom</th>\n      <th>fiemg</th>\n      <th>forum</th>\n      <th>ger</th>\n      <th>min</th>\n      <th>mundial</th>\n      <th>nao</th>\n      <th>net</th>\n      <th>num</th>\n      <th>perd</th>\n      <th>pod</th>\n    </tr>\n  </thead>\n  <tbody>\n    <tr>\n      <th>0</th>\n      <td>0.319019</td>\n      <td>0.000000</td>\n      <td>0.319019</td>\n      <td>0.000000</td>\n      <td>0.000000</td>\n      <td>0.177903</td>\n      <td>0.000000</td>\n      <td>0.358382</td>\n      <td>0.000000</td>\n      <td>0.638038</td>\n      <td>0.261571</td>\n      <td>0.000000</td>\n      <td>0.000000</td>\n      <td>0.000000</td>\n      <td>0.104441</td>\n      <td>0.306347</td>\n      <td>0.23685</td>\n    </tr>\n    <tr>\n      <th>1</th>\n      <td>0.000000</td>\n      <td>0.299555</td>\n      <td>0.000000</td>\n      <td>0.383883</td>\n      <td>0.383883</td>\n      <td>0.000000</td>\n      <td>0.317055</td>\n      <td>0.000000</td>\n      <td>0.383883</td>\n      <td>0.000000</td>\n      <td>0.000000</td>\n      <td>0.383883</td>\n      <td>0.270021</td>\n      <td>0.383883</td>\n      <td>0.000000</td>\n      <td>0.000000</td>\n      <td>0.00000</td>\n    </tr>\n  </tbody>\n</table>\n</div>"
     },
     "execution_count": 9,
     "metadata": {},
     "output_type": "execute_result"
    }
   ],
   "source": [
    "import numpy as np\n",
    "X_train_tfidf_vis = X_train_names_tfidf.copy()\n",
    "X_train_tfidf_vis = X_train_tfidf_vis.loc[0:1]\n",
    "X_train_tfidf_vis = X_train_tfidf_vis.replace(0, np.nan).dropna(axis=1, how='all')\n",
    "X_train_tfidf_vis = X_train_tfidf_vis.replace(np.nan, 0)\n",
    "X_train_tfidf_vis"
   ],
   "metadata": {
    "collapsed": false,
    "ExecuteTime": {
     "end_time": "2023-12-01T20:07:10.928716800Z",
     "start_time": "2023-12-01T20:07:10.882528300Z"
    }
   }
  },
  {
   "cell_type": "code",
   "execution_count": null,
   "outputs": [],
   "source": [
    "train[train['title'].str.contains('fiemg')]"
   ],
   "metadata": {
    "collapsed": false,
    "ExecuteTime": {
     "start_time": "2023-12-01T20:04:07.994760200Z"
    }
   }
  },
  {
   "cell_type": "code",
   "execution_count": null,
   "outputs": [],
   "source": [
    "train.iloc[1096]"
   ],
   "metadata": {
    "collapsed": false,
    "ExecuteTime": {
     "start_time": "2023-12-01T20:04:07.998761Z"
    }
   }
  },
  {
   "cell_type": "markdown",
   "source": [
    "## Output"
   ],
   "metadata": {
    "collapsed": false
   }
  },
  {
   "cell_type": "code",
   "execution_count": null,
   "outputs": [],
   "source": [
    "with open('../../assets/trad_assets/cv_vec.pkl', 'wb') as fout:\n",
    "    pickle.dump(cv_vec, fout)"
   ],
   "metadata": {
    "collapsed": false,
    "ExecuteTime": {
     "end_time": "2023-12-01T20:04:08.087418800Z",
     "start_time": "2023-12-01T20:04:08.003760200Z"
    }
   }
  },
  {
   "cell_type": "code",
   "execution_count": null,
   "outputs": [],
   "source": [
    "with open('../../assets/trad_assets/tfidf_vec.pkl', 'wb') as fout:\n",
    "    pickle.dump(tfidf_vec, fout)"
   ],
   "metadata": {
    "collapsed": false,
    "ExecuteTime": {
     "start_time": "2023-12-01T20:04:08.032761300Z"
    }
   }
  }
 ],
 "metadata": {
  "kernelspec": {
   "display_name": "Python 3",
   "language": "python",
   "name": "python3"
  },
  "language_info": {
   "codemirror_mode": {
    "name": "ipython",
    "version": 2
   },
   "file_extension": ".py",
   "mimetype": "text/x-python",
   "name": "python",
   "nbconvert_exporter": "python",
   "pygments_lexer": "ipython2",
   "version": "2.7.6"
  }
 },
 "nbformat": 4,
 "nbformat_minor": 0
}
