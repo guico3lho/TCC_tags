{
 "cells": [
  {
   "cell_type": "code",
   "execution_count": 19,
   "outputs": [],
   "source": [
    "import pickle\n",
    "from sklearn.base import BaseEstimator\n",
    "from sklearn.linear_model import LogisticRegression\n",
    "from sklearn.svm import SVC\n",
    "from sklearn.feature_extraction.text import CountVectorizer\n",
    "from sklearn.feature_extraction.text import TfidfTransformer\n",
    "from sklearn.pipeline import Pipeline\n",
    "import pandas as pd\n",
    "\n"
   ],
   "metadata": {
    "collapsed": false,
    "ExecuteTime": {
     "end_time": "2023-05-21T03:09:49.085167900Z",
     "start_time": "2023-05-21T03:09:48.944248400Z"
    }
   }
  },
  {
   "cell_type": "markdown",
   "source": [
    "## Packages and Asset"
   ],
   "metadata": {
    "collapsed": false
   }
  },
  {
   "cell_type": "markdown",
   "source": [
    "## Classes and Functions"
   ],
   "metadata": {
    "collapsed": false
   }
  },
  {
   "cell_type": "code",
   "execution_count": 19,
   "outputs": [],
   "source": [],
   "metadata": {
    "collapsed": false,
    "ExecuteTime": {
     "end_time": "2023-05-21T03:09:49.215092900Z",
     "start_time": "2023-05-21T03:09:48.957240600Z"
    }
   }
  },
  {
   "cell_type": "markdown",
   "source": [
    "## Dependencies"
   ],
   "metadata": {
    "collapsed": false
   }
  },
  {
   "cell_type": "code",
   "execution_count": 20,
   "outputs": [],
   "source": [
    "train = pd.read_csv('../../assets/data/splits/train/preprocessed.csv')\n",
    "y_train = train['label']\n",
    "# X_train and X_val will be created later..."
   ],
   "metadata": {
    "collapsed": false,
    "ExecuteTime": {
     "end_time": "2023-05-21T03:09:50.371465Z",
     "start_time": "2023-05-21T03:09:48.971233300Z"
    }
   }
  },
  {
   "cell_type": "markdown",
   "source": [
    "## Models and Params"
   ],
   "metadata": {
    "collapsed": false
   }
  },
  {
   "cell_type": "markdown",
   "source": [
    "### KNN"
   ],
   "metadata": {
    "collapsed": false
   }
  },
  {
   "cell_type": "code",
   "execution_count": 21,
   "outputs": [],
   "source": [
    "from sklearn.neighbors import KNeighborsClassifier\n",
    "\n",
    "knn_params = {\n",
    "    'n_neighbors': [11,21,40,60,80,100],\n",
    "    'metric': ['cosine'],\n",
    "    # 'weights': ['distance']\n",
    "    'weights': ['uniform', 'distance'],\n",
    "    # 'metric': ['cosine']\n",
    "}"
   ],
   "metadata": {
    "collapsed": false,
    "ExecuteTime": {
     "end_time": "2023-05-21T03:09:50.387456200Z",
     "start_time": "2023-05-21T03:09:50.375464300Z"
    }
   }
  },
  {
   "cell_type": "markdown",
   "source": [],
   "metadata": {
    "collapsed": false
   }
  },
  {
   "cell_type": "markdown",
   "source": [
    "### SVM"
   ],
   "metadata": {
    "collapsed": false
   }
  },
  {
   "cell_type": "code",
   "execution_count": 22,
   "outputs": [],
   "source": [
    "from sklearn.svm import SVC\n",
    "\n",
    "svm_params = {\n",
    "    'C': [10,50,100],\n",
    "    'kernel': ['rbf','linear','poly'],\n",
    "}"
   ],
   "metadata": {
    "collapsed": false,
    "ExecuteTime": {
     "end_time": "2023-05-21T03:09:50.411442800Z",
     "start_time": "2023-05-21T03:09:50.389455300Z"
    }
   }
  },
  {
   "cell_type": "markdown",
   "source": [
    "### Naive Bayes"
   ],
   "metadata": {
    "collapsed": false
   }
  },
  {
   "cell_type": "code",
   "execution_count": 23,
   "outputs": [],
   "source": [
    "from sklearn.naive_bayes import MultinomialNB\n",
    "\n",
    "nb_params = {\n",
    "    'alpha': [0.1, 1, 10],\n",
    "    'fit_prior': [True, False]\n",
    "}"
   ],
   "metadata": {
    "collapsed": false,
    "ExecuteTime": {
     "end_time": "2023-05-21T03:09:50.429432100Z",
     "start_time": "2023-05-21T03:09:50.407445500Z"
    }
   }
  },
  {
   "cell_type": "markdown",
   "source": [
    "### Logistic Regression"
   ],
   "metadata": {
    "collapsed": false
   }
  },
  {
   "cell_type": "markdown",
   "source": [],
   "metadata": {
    "collapsed": false
   }
  },
  {
   "cell_type": "code",
   "execution_count": 24,
   "outputs": [],
   "source": [
    "from sklearn.linear_model import LogisticRegression\n",
    "\n",
    "lr_params = {\n",
    "    'penalty': ['l2', None],\n",
    "    'C': [0.1, 1, 10],\n",
    "    'solver': ['liblinear','lbfgs','newtgon-cg', 'sag', 'saga']\n",
    "}"
   ],
   "metadata": {
    "collapsed": false,
    "ExecuteTime": {
     "end_time": "2023-05-21T03:09:50.433430Z",
     "start_time": "2023-05-21T03:09:50.418439400Z"
    }
   }
  },
  {
   "cell_type": "markdown",
   "source": [
    "## CountVectorizer"
   ],
   "metadata": {
    "collapsed": false
   }
  },
  {
   "cell_type": "markdown",
   "source": [
    "### Declaration and fit"
   ],
   "metadata": {
    "collapsed": false
   }
  },
  {
   "cell_type": "code",
   "execution_count": 25,
   "outputs": [],
   "source": [
    "cv_vec = CountVectorizer(ngram_range=(1, 1))\n",
    "X_train_cv = cv_vec.fit_transform(train['title']).toarray()\n",
    "\n"
   ],
   "metadata": {
    "collapsed": false,
    "ExecuteTime": {
     "end_time": "2023-05-21T03:09:51.101048100Z",
     "start_time": "2023-05-21T03:09:50.434428700Z"
    }
   }
  },
  {
   "cell_type": "markdown",
   "source": [
    "### Features visualization"
   ],
   "metadata": {
    "collapsed": false
   }
  },
  {
   "cell_type": "code",
   "execution_count": 26,
   "outputs": [
    {
     "data": {
      "text/plain": "       00945litro  014cota  015l  033litro  10h30  110mil  13barril  13bi  \\\n0               0        0     0         0      0       0         0     0   \n1               0        0     0         0      0       0         0     0   \n2               0        0     0         0      0       0         0     0   \n3               0        0     0         0      0       0         0     0   \n4               0        0     0         0      0       0         0     0   \n...           ...      ...   ...       ...    ...     ...       ...   ...   \n16205           0        0     0         0      0       0         0     0   \n16206           0        0     0         0      0       0         0     0   \n16207           0        0     0         0      0       0         0     0   \n16208           0        0     0         0      0       0         0     0   \n16209           0        0     0         0      0       0         0     0   \n\n       14h  16h30  ...  zeram  zerar  zero  zerou  ziviani  zona  zoom  \\\n0        0      0  ...      0      0     0      0        0     0     0   \n1        0      0  ...      0      0     0      0        0     0     0   \n2        0      0  ...      0      0     0      0        0     0     0   \n3        0      0  ...      0      0     0      0        0     0     0   \n4        0      0  ...      0      0     0      0        0     0     0   \n...    ...    ...  ...    ...    ...   ...    ...      ...   ...   ...   \n16205    0      0  ...      0      0     0      0        0     0     0   \n16206    0      0  ...      0      0     0      0        0     0     0   \n16207    0      0  ...      0      0     0      0        0     0     0   \n16208    0      0  ...      0      0     0      0        0     0     0   \n16209    0      0  ...      0      0     0      0        0     0     0   \n\n       zuckerberg  zuckerman  zup  \n0               0          0    0  \n1               0          0    0  \n2               0          0    0  \n3               0          0    0  \n4               0          0    0  \n...           ...        ...  ...  \n16205           0          0    0  \n16206           0          0    0  \n16207           0          0    0  \n16208           0          0    0  \n16209           0          0    0  \n\n[16210 rows x 10915 columns]",
      "text/html": "<div>\n<style scoped>\n    .dataframe tbody tr th:only-of-type {\n        vertical-align: middle;\n    }\n\n    .dataframe tbody tr th {\n        vertical-align: top;\n    }\n\n    .dataframe thead th {\n        text-align: right;\n    }\n</style>\n<table border=\"1\" class=\"dataframe\">\n  <thead>\n    <tr style=\"text-align: right;\">\n      <th></th>\n      <th>00945litro</th>\n      <th>014cota</th>\n      <th>015l</th>\n      <th>033litro</th>\n      <th>10h30</th>\n      <th>110mil</th>\n      <th>13barril</th>\n      <th>13bi</th>\n      <th>14h</th>\n      <th>16h30</th>\n      <th>...</th>\n      <th>zeram</th>\n      <th>zerar</th>\n      <th>zero</th>\n      <th>zerou</th>\n      <th>ziviani</th>\n      <th>zona</th>\n      <th>zoom</th>\n      <th>zuckerberg</th>\n      <th>zuckerman</th>\n      <th>zup</th>\n    </tr>\n  </thead>\n  <tbody>\n    <tr>\n      <th>0</th>\n      <td>0</td>\n      <td>0</td>\n      <td>0</td>\n      <td>0</td>\n      <td>0</td>\n      <td>0</td>\n      <td>0</td>\n      <td>0</td>\n      <td>0</td>\n      <td>0</td>\n      <td>...</td>\n      <td>0</td>\n      <td>0</td>\n      <td>0</td>\n      <td>0</td>\n      <td>0</td>\n      <td>0</td>\n      <td>0</td>\n      <td>0</td>\n      <td>0</td>\n      <td>0</td>\n    </tr>\n    <tr>\n      <th>1</th>\n      <td>0</td>\n      <td>0</td>\n      <td>0</td>\n      <td>0</td>\n      <td>0</td>\n      <td>0</td>\n      <td>0</td>\n      <td>0</td>\n      <td>0</td>\n      <td>0</td>\n      <td>...</td>\n      <td>0</td>\n      <td>0</td>\n      <td>0</td>\n      <td>0</td>\n      <td>0</td>\n      <td>0</td>\n      <td>0</td>\n      <td>0</td>\n      <td>0</td>\n      <td>0</td>\n    </tr>\n    <tr>\n      <th>2</th>\n      <td>0</td>\n      <td>0</td>\n      <td>0</td>\n      <td>0</td>\n      <td>0</td>\n      <td>0</td>\n      <td>0</td>\n      <td>0</td>\n      <td>0</td>\n      <td>0</td>\n      <td>...</td>\n      <td>0</td>\n      <td>0</td>\n      <td>0</td>\n      <td>0</td>\n      <td>0</td>\n      <td>0</td>\n      <td>0</td>\n      <td>0</td>\n      <td>0</td>\n      <td>0</td>\n    </tr>\n    <tr>\n      <th>3</th>\n      <td>0</td>\n      <td>0</td>\n      <td>0</td>\n      <td>0</td>\n      <td>0</td>\n      <td>0</td>\n      <td>0</td>\n      <td>0</td>\n      <td>0</td>\n      <td>0</td>\n      <td>...</td>\n      <td>0</td>\n      <td>0</td>\n      <td>0</td>\n      <td>0</td>\n      <td>0</td>\n      <td>0</td>\n      <td>0</td>\n      <td>0</td>\n      <td>0</td>\n      <td>0</td>\n    </tr>\n    <tr>\n      <th>4</th>\n      <td>0</td>\n      <td>0</td>\n      <td>0</td>\n      <td>0</td>\n      <td>0</td>\n      <td>0</td>\n      <td>0</td>\n      <td>0</td>\n      <td>0</td>\n      <td>0</td>\n      <td>...</td>\n      <td>0</td>\n      <td>0</td>\n      <td>0</td>\n      <td>0</td>\n      <td>0</td>\n      <td>0</td>\n      <td>0</td>\n      <td>0</td>\n      <td>0</td>\n      <td>0</td>\n    </tr>\n    <tr>\n      <th>...</th>\n      <td>...</td>\n      <td>...</td>\n      <td>...</td>\n      <td>...</td>\n      <td>...</td>\n      <td>...</td>\n      <td>...</td>\n      <td>...</td>\n      <td>...</td>\n      <td>...</td>\n      <td>...</td>\n      <td>...</td>\n      <td>...</td>\n      <td>...</td>\n      <td>...</td>\n      <td>...</td>\n      <td>...</td>\n      <td>...</td>\n      <td>...</td>\n      <td>...</td>\n      <td>...</td>\n    </tr>\n    <tr>\n      <th>16205</th>\n      <td>0</td>\n      <td>0</td>\n      <td>0</td>\n      <td>0</td>\n      <td>0</td>\n      <td>0</td>\n      <td>0</td>\n      <td>0</td>\n      <td>0</td>\n      <td>0</td>\n      <td>...</td>\n      <td>0</td>\n      <td>0</td>\n      <td>0</td>\n      <td>0</td>\n      <td>0</td>\n      <td>0</td>\n      <td>0</td>\n      <td>0</td>\n      <td>0</td>\n      <td>0</td>\n    </tr>\n    <tr>\n      <th>16206</th>\n      <td>0</td>\n      <td>0</td>\n      <td>0</td>\n      <td>0</td>\n      <td>0</td>\n      <td>0</td>\n      <td>0</td>\n      <td>0</td>\n      <td>0</td>\n      <td>0</td>\n      <td>...</td>\n      <td>0</td>\n      <td>0</td>\n      <td>0</td>\n      <td>0</td>\n      <td>0</td>\n      <td>0</td>\n      <td>0</td>\n      <td>0</td>\n      <td>0</td>\n      <td>0</td>\n    </tr>\n    <tr>\n      <th>16207</th>\n      <td>0</td>\n      <td>0</td>\n      <td>0</td>\n      <td>0</td>\n      <td>0</td>\n      <td>0</td>\n      <td>0</td>\n      <td>0</td>\n      <td>0</td>\n      <td>0</td>\n      <td>...</td>\n      <td>0</td>\n      <td>0</td>\n      <td>0</td>\n      <td>0</td>\n      <td>0</td>\n      <td>0</td>\n      <td>0</td>\n      <td>0</td>\n      <td>0</td>\n      <td>0</td>\n    </tr>\n    <tr>\n      <th>16208</th>\n      <td>0</td>\n      <td>0</td>\n      <td>0</td>\n      <td>0</td>\n      <td>0</td>\n      <td>0</td>\n      <td>0</td>\n      <td>0</td>\n      <td>0</td>\n      <td>0</td>\n      <td>...</td>\n      <td>0</td>\n      <td>0</td>\n      <td>0</td>\n      <td>0</td>\n      <td>0</td>\n      <td>0</td>\n      <td>0</td>\n      <td>0</td>\n      <td>0</td>\n      <td>0</td>\n    </tr>\n    <tr>\n      <th>16209</th>\n      <td>0</td>\n      <td>0</td>\n      <td>0</td>\n      <td>0</td>\n      <td>0</td>\n      <td>0</td>\n      <td>0</td>\n      <td>0</td>\n      <td>0</td>\n      <td>0</td>\n      <td>...</td>\n      <td>0</td>\n      <td>0</td>\n      <td>0</td>\n      <td>0</td>\n      <td>0</td>\n      <td>0</td>\n      <td>0</td>\n      <td>0</td>\n      <td>0</td>\n      <td>0</td>\n    </tr>\n  </tbody>\n</table>\n<p>16210 rows × 10915 columns</p>\n</div>"
     },
     "execution_count": 26,
     "metadata": {},
     "output_type": "execute_result"
    }
   ],
   "source": [
    "X_train_names = pd.DataFrame(X_train_cv, columns=cv_vec.get_feature_names_out())\n",
    "X_train_names"
   ],
   "metadata": {
    "collapsed": false,
    "ExecuteTime": {
     "end_time": "2023-05-21T03:09:51.351905Z",
     "start_time": "2023-05-21T03:09:51.104045900Z"
    }
   }
  },
  {
   "cell_type": "markdown",
   "source": [
    "### Evaluate models"
   ],
   "metadata": {
    "collapsed": false
   }
  },
  {
   "cell_type": "code",
   "execution_count": 27,
   "outputs": [
    {
     "name": "stdout",
     "output_type": "stream",
     "text": [
      "Best CV results for KNeighborsClassifier\n",
      "Best Score of train set: 0.8398519432449105\n",
      "Best estimator: KNeighborsClassifier(metric='cosine', n_neighbors=21, weights='distance')\n",
      "Best parameter set: {'metric': 'cosine', 'n_neighbors': 21, 'weights': 'distance'}\n",
      "Best CV results for SVC\n",
      "Best Score of train set: 0.8841455891425046\n",
      "Best estimator: SVC(C=10)\n",
      "Best parameter set: {'C': 10, 'kernel': 'rbf'}\n",
      "Best CV results for MultinomialNB\n",
      "Best Score of train set: 0.8576804441702652\n",
      "Best estimator: MultinomialNB(alpha=1)\n",
      "Best parameter set: {'alpha': 1, 'fit_prior': True}\n",
      "Best CV results for LogisticRegression\n",
      "Best Score of train set: 0.8818630475015423\n",
      "Best estimator: LogisticRegression(C=1, penalty='l1', solver='liblinear')\n",
      "Best parameter set: {'C': 1, 'penalty': 'l1', 'solver': 'liblinear'}\n"
     ]
    },
    {
     "data": {
      "text/plain": "             model_name  best_score  \\\n0  KNeighborsClassifier    0.839852   \n1                   SVC    0.884146   \n2         MultinomialNB    0.857680   \n3    LogisticRegression    0.881863   \n\n                                      best_estimator  \\\n0  KNeighborsClassifier(metric='cosine', n_neighb...   \n1                                          SVC(C=10)   \n2                             MultinomialNB(alpha=1)   \n3  LogisticRegression(C=1, penalty='l1', solver='...   \n\n                                         best_params  \n0  {'metric': 'cosine', 'n_neighbors': 21, 'weigh...  \n1                         {'C': 10, 'kernel': 'rbf'}  \n2                    {'alpha': 1, 'fit_prior': True}  \n3   {'C': 1, 'penalty': 'l1', 'solver': 'liblinear'}  ",
      "text/html": "<div>\n<style scoped>\n    .dataframe tbody tr th:only-of-type {\n        vertical-align: middle;\n    }\n\n    .dataframe tbody tr th {\n        vertical-align: top;\n    }\n\n    .dataframe thead th {\n        text-align: right;\n    }\n</style>\n<table border=\"1\" class=\"dataframe\">\n  <thead>\n    <tr style=\"text-align: right;\">\n      <th></th>\n      <th>model_name</th>\n      <th>best_score</th>\n      <th>best_estimator</th>\n      <th>best_params</th>\n    </tr>\n  </thead>\n  <tbody>\n    <tr>\n      <th>0</th>\n      <td>KNeighborsClassifier</td>\n      <td>0.839852</td>\n      <td>KNeighborsClassifier(metric='cosine', n_neighb...</td>\n      <td>{'metric': 'cosine', 'n_neighbors': 21, 'weigh...</td>\n    </tr>\n    <tr>\n      <th>1</th>\n      <td>SVC</td>\n      <td>0.884146</td>\n      <td>SVC(C=10)</td>\n      <td>{'C': 10, 'kernel': 'rbf'}</td>\n    </tr>\n    <tr>\n      <th>2</th>\n      <td>MultinomialNB</td>\n      <td>0.857680</td>\n      <td>MultinomialNB(alpha=1)</td>\n      <td>{'alpha': 1, 'fit_prior': True}</td>\n    </tr>\n    <tr>\n      <th>3</th>\n      <td>LogisticRegression</td>\n      <td>0.881863</td>\n      <td>LogisticRegression(C=1, penalty='l1', solver='...</td>\n      <td>{'C': 1, 'penalty': 'l1', 'solver': 'liblinear'}</td>\n    </tr>\n  </tbody>\n</table>\n</div>"
     },
     "execution_count": 27,
     "metadata": {},
     "output_type": "execute_result"
    }
   ],
   "source": [
    "from sklearn.model_selection import GridSearchCV\n",
    "\n",
    "model_params = ([KNeighborsClassifier(), SVC(), MultinomialNB(), LogisticRegression()],\n",
    "                [knn_params, svm_params, nb_params, lr_params])\n",
    "\n",
    "list_best_models_params = []\n",
    "for model, params in zip(model_params[0], model_params[1]):\n",
    "    gs = GridSearchCV(model,\n",
    "                      param_grid=params,\n",
    "                      scoring='f1-micro',\n",
    "                      cv=2)\n",
    "\n",
    "    gs.fit(X_train_cv, y_train)\n",
    "    print(f\"Best CV results for {model.__class__.__name__}\")\n",
    "    print(\"Best Score of train set: \" + str(gs.best_score_))\n",
    "    print(\"Best estimator: \" + str(gs.best_estimator_))\n",
    "    print(\"Best parameter set: \" + str(gs.best_params_))\n",
    "\n",
    "    store_best_model_configs = {\n",
    "        'model_name': model.__class__.__name__,\n",
    "        'best_score': gs.best_score_,\n",
    "        'best_estimator': gs.best_estimator_,\n",
    "        'best_params': gs.best_params_\n",
    "    }\n",
    "\n",
    "\n",
    "    list_best_models_params.append(store_best_model_configs)\n",
    "\n",
    "df_best_models_params = pd.DataFrame(list_best_models_params)\n",
    "df_best_models_params\n",
    "    # cv_best_model = gs.best_estimator_\n",
    "    # print(\"Test Score: \" + str(gs.score(X_val_cv, y_val)))\n",
    "    # print(\"----------------------------------------------------\")"
   ],
   "metadata": {
    "collapsed": false,
    "ExecuteTime": {
     "end_time": "2023-05-21T10:55:10.095131500Z",
     "start_time": "2023-05-21T03:09:51.355902100Z"
    }
   }
  },
  {
   "cell_type": "code",
   "execution_count": 32,
   "outputs": [],
   "source": [
    "df_best_models_params.to_csv('../../assets/traditional_assets/best_models_params_1.csv', index=False)\n",
    "\n"
   ],
   "metadata": {
    "collapsed": false,
    "ExecuteTime": {
     "end_time": "2023-05-21T15:44:42.194245700Z",
     "start_time": "2023-05-21T15:44:42.137815900Z"
    }
   }
  },
  {
   "cell_type": "markdown",
   "source": [
    "_b## TF-IDF"
   ],
   "metadata": {
    "collapsed": false
   }
  },
  {
   "cell_type": "markdown",
   "source": [
    "### Declaration and fit"
   ],
   "metadata": {
    "collapsed": false
   }
  },
  {
   "cell_type": "code",
   "execution_count": 30,
   "outputs": [],
   "source": [
    "from sklearn.feature_extraction.text import TfidfVectorizer\n",
    "\n",
    "tfidf_vec = TfidfVectorizer(ngram_range=(1, 1))\n",
    "X_train_tfidf = tfidf_vec.fit_transform(train['title']).toarray()"
   ],
   "metadata": {
    "collapsed": false
   }
  },
  {
   "cell_type": "markdown",
   "source": [
    "### Features visualization"
   ],
   "metadata": {
    "collapsed": false
   }
  },
  {
   "cell_type": "code",
   "execution_count": null,
   "outputs": [],
   "source": [
    "X_train_names = pd.DataFrame(X_train_tfidf, columns=cv_vec.get_feature_names_out())\n",
    "X_train_names"
   ],
   "metadata": {
    "collapsed": false
   }
  },
  {
   "cell_type": "markdown",
   "source": [
    "### Evaluate models"
   ],
   "metadata": {
    "collapsed": false
   }
  },
  {
   "cell_type": "code",
   "execution_count": null,
   "outputs": [],
   "source": [
    "from sklearn.model_selection import GridSearchCV\n",
    "\n",
    "model_params = ([KNeighborsClassifier(), SVC(), MultinomialNB(), LogisticRegression()],\n",
    "                [knn_params, svm_params, nb_params, lr_params])\n",
    "\n",
    "list_best_models_params = []\n",
    "for model, params in zip(model_params[0], model_params[1]):\n",
    "    gs = GridSearchCV(model,\n",
    "                      param_grid=params,\n",
    "                      scoring='f1-micro',\n",
    "                      cv=2)\n",
    "\n",
    "    gs.fit(X_train_tfidf, y_train)\n",
    "    print(f\"Best TF-IDF results for {model.__class__.__name__}\")\n",
    "    print(\"Best Score on train set: \" + str(gs.best_score_))\n",
    "    print(\"Best estimator: \" + str(gs.best_estimator_))\n",
    "    print(\"Best parameter set: \" + str(gs.best_params_) + \"\\n\")\n",
    "    # tfidf_best_model = gs.best_estimator_\n",
    "    # tfidf_best_model = gs.best_estimator_\n",
    "    store_best_model_configs = {\n",
    "        'model_name': model.__class__.__name__,\n",
    "        'best_score': gs.best_score_,\n",
    "        'best_estimator': gs.best_estimator_,\n",
    "        'best_params': gs.best_params_\n",
    "    }\n",
    "\n",
    "\n",
    "    list_best_models_params.append(store_best_model_configs)\n",
    "\n",
    "df_best_models_params = pd.DataFrame(list_best_models_params)\n",
    "df_best_models_params\n",
    "\n",
    "\n",
    "\n",
    "\n",
    "\n",
    "\n",
    "# decide_best_model =\n",
    "    # print(\"Test Score: \" + str(gs.score(X_val, y_val)))\n",
    "    # print(\"----------------------------------------------------\")\n"
   ],
   "metadata": {
    "collapsed": false
   }
  },
  {
   "cell_type": "markdown",
   "source": [
    "## Outputs"
   ],
   "metadata": {
    "collapsed": false
   }
  },
  {
   "cell_type": "code",
   "execution_count": null,
   "outputs": [],
   "source": [
    "\n",
    "\n",
    "\n",
    "# with open('../../assets/traditional_assets/cv_set.pkl', 'rb') as fout:\n",
    "#     pickle.dump((cv_vec, cv_best_model), fout)\n",
    "\n",
    "# with open('../../assets/traditional_assets/tfidf_set.pkl', 'rb') as fout:\n",
    "#     pickle.dump((tfidf_vec, tfidf_best_model), fout)\n"
   ],
   "metadata": {
    "collapsed": false
   }
  }
 ],
 "metadata": {
  "kernelspec": {
   "display_name": "Python 3",
   "language": "python",
   "name": "python3"
  },
  "language_info": {
   "codemirror_mode": {
    "name": "ipython",
    "version": 2
   },
   "file_extension": ".py",
   "mimetype": "text/x-python",
   "name": "python",
   "nbconvert_exporter": "python",
   "pygments_lexer": "ipython2",
   "version": "2.7.6"
  }
 },
 "nbformat": 4,
 "nbformat_minor": 0
}
