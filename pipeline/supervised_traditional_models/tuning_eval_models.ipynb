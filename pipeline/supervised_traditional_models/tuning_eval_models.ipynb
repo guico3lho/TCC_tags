{
 "cells": [
  {
   "cell_type": "markdown",
   "source": [
    "## Packages"
   ],
   "metadata": {
    "collapsed": false
   }
  },
  {
   "cell_type": "code",
   "execution_count": 78,
   "outputs": [],
   "source": [
    "import pickle\n",
    "import pandas as pd"
   ],
   "metadata": {
    "collapsed": false,
    "ExecuteTime": {
     "end_time": "2023-05-22T02:20:41.144483800Z",
     "start_time": "2023-05-22T02:20:40.867663400Z"
    }
   }
  },
  {
   "cell_type": "markdown",
   "source": [
    "## Classes and Functions"
   ],
   "metadata": {
    "collapsed": false
   }
  },
  {
   "cell_type": "code",
   "execution_count": 78,
   "outputs": [],
   "source": [],
   "metadata": {
    "collapsed": false,
    "ExecuteTime": {
     "end_time": "2023-05-22T02:20:41.222449800Z",
     "start_time": "2023-05-22T02:20:40.883654Z"
    }
   }
  },
  {
   "cell_type": "markdown",
   "source": [
    "## Dependencies"
   ],
   "metadata": {
    "collapsed": false
   }
  },
  {
   "cell_type": "code",
   "execution_count": 79,
   "outputs": [],
   "source": [
    "X_train = pd.read_csv('../../assets/data/splits/train/preprocessed.csv')\n",
    "X_val = pd.read_csv('../../assets/data/splits/val/preprocessed.csv')"
   ],
   "metadata": {
    "collapsed": false,
    "ExecuteTime": {
     "end_time": "2023-05-22T02:20:41.659149300Z",
     "start_time": "2023-05-22T02:20:40.901641700Z"
    }
   }
  },
  {
   "cell_type": "code",
   "execution_count": 79,
   "outputs": [],
   "source": [
    "\n"
   ],
   "metadata": {
    "collapsed": false,
    "ExecuteTime": {
     "end_time": "2023-05-22T02:20:41.659149300Z",
     "start_time": "2023-05-22T02:20:40.993582Z"
    }
   }
  },
  {
   "cell_type": "code",
   "execution_count": 80,
   "outputs": [],
   "source": [
    "y_train = pd.read_csv('../../assets/data/splits/train/raw.csv')['label']\n",
    "y_val = pd.read_csv('../../assets/data/splits/val/raw.csv')['label']"
   ],
   "metadata": {
    "collapsed": false,
    "ExecuteTime": {
     "end_time": "2023-05-22T02:20:41.683133Z",
     "start_time": "2023-05-22T02:20:41.006573200Z"
    }
   }
  },
  {
   "cell_type": "code",
   "execution_count": 81,
   "outputs": [],
   "source": [
    "with open('../../assets/traditional_assets/cv_vec.pkl', 'rb') as fout:\n",
    "    cv_vec = pickle.load(fout)\n"
   ],
   "metadata": {
    "collapsed": false,
    "ExecuteTime": {
     "end_time": "2023-05-22T02:20:41.683133Z",
     "start_time": "2023-05-22T02:20:41.260407900Z"
    }
   }
  },
  {
   "cell_type": "code",
   "execution_count": 82,
   "outputs": [],
   "source": [
    "with open('../../assets/traditional_assets/tfidf_vec.pkl', 'rb') as fout:\n",
    "    tfidf_vec = pickle.load(fout)"
   ],
   "metadata": {
    "collapsed": false,
    "ExecuteTime": {
     "end_time": "2023-05-22T02:20:41.683133Z",
     "start_time": "2023-05-22T02:20:41.289389300Z"
    }
   }
  },
  {
   "cell_type": "markdown",
   "source": [],
   "metadata": {
    "collapsed": false
   }
  },
  {
   "cell_type": "markdown",
   "source": [
    "## Grid Params"
   ],
   "metadata": {
    "collapsed": false
   }
  },
  {
   "cell_type": "markdown",
   "source": [
    "### KNN"
   ],
   "metadata": {
    "collapsed": false
   }
  },
  {
   "cell_type": "code",
   "execution_count": 83,
   "outputs": [],
   "source": [
    "from sklearn.neighbors import KNeighborsClassifier\n",
    "\n",
    "knn_params = {\n",
    "    'n_neighbors': [11, 21, 40, 60, 80, 100],\n",
    "    'metric': ['cosine'],\n",
    "    # 'weights': ['distance']\n",
    "    'weights': ['uniform', 'distance'],\n",
    "    # 'metric': ['cosine']\n",
    "}"
   ],
   "metadata": {
    "collapsed": false,
    "ExecuteTime": {
     "end_time": "2023-05-22T02:20:41.683133Z",
     "start_time": "2023-05-22T02:20:41.304379Z"
    }
   }
  },
  {
   "cell_type": "markdown",
   "source": [],
   "metadata": {
    "collapsed": false
   }
  },
  {
   "cell_type": "markdown",
   "source": [
    "### SVM"
   ],
   "metadata": {
    "collapsed": false
   }
  },
  {
   "cell_type": "code",
   "execution_count": 84,
   "outputs": [],
   "source": [
    "from sklearn.svm import SVC\n",
    "\n",
    "svm_params = {\n",
    "    'C': [10, 50, 100],\n",
    "    'kernel': ['rbf', 'linear', 'poly'],\n",
    "}"
   ],
   "metadata": {
    "collapsed": false,
    "ExecuteTime": {
     "end_time": "2023-05-22T02:20:41.684132700Z",
     "start_time": "2023-05-22T02:20:41.321368700Z"
    }
   }
  },
  {
   "cell_type": "markdown",
   "source": [
    "### Naive Bayes"
   ],
   "metadata": {
    "collapsed": false
   }
  },
  {
   "cell_type": "code",
   "execution_count": 85,
   "outputs": [],
   "source": [
    "from sklearn.naive_bayes import MultinomialNB\n",
    "\n",
    "nb_params = {\n",
    "    'alpha': [0.1, 1, 10],\n",
    "    'fit_prior': [True, False]\n",
    "}"
   ],
   "metadata": {
    "collapsed": false,
    "ExecuteTime": {
     "end_time": "2023-05-22T02:20:41.685132100Z",
     "start_time": "2023-05-22T02:20:41.342354900Z"
    }
   }
  },
  {
   "cell_type": "markdown",
   "source": [
    "### Logistic Regression"
   ],
   "metadata": {
    "collapsed": false
   }
  },
  {
   "cell_type": "markdown",
   "source": [],
   "metadata": {
    "collapsed": false
   }
  },
  {
   "cell_type": "code",
   "execution_count": 86,
   "outputs": [],
   "source": [
    "from sklearn.linear_model import LogisticRegression\n",
    "\n",
    "lr_params = {\n",
    "    'penalty': ['l2', None],\n",
    "    'C': [0.1, 1, 10],\n",
    "    'solver': ['liblinear', 'lbfgs', 'newtgon-cg', 'sag', 'saga']\n",
    "}"
   ],
   "metadata": {
    "collapsed": false,
    "ExecuteTime": {
     "end_time": "2023-05-22T02:20:41.685132100Z",
     "start_time": "2023-05-22T02:20:41.350349700Z"
    }
   }
  },
  {
   "cell_type": "markdown",
   "source": [
    "## Tuning and Evaluation"
   ],
   "metadata": {
    "collapsed": false
   }
  },
  {
   "cell_type": "code",
   "execution_count": 87,
   "outputs": [
    {
     "name": "stderr",
     "output_type": "stream",
     "text": [
      "C:\\Users\\Guilherme\\AppData\\Local\\Temp\\ipykernel_56124\\1690835414.py:7: FutureWarning: The frame.append method is deprecated and will be removed from pandas in a future version. Use pandas.concat instead.\n",
      "  X = X.append(X_val)\n"
     ]
    }
   ],
   "source": [
    "import numpy as np\n",
    "from sklearn.model_selection import PredefinedSplit\n",
    "\n",
    "split_index = [-1] * len(X_train) + [0] * len(X_val)\n",
    "\n",
    "X = pd.DataFrame(X_train)\n",
    "X = X.append(X_val)\n",
    "\n",
    "y = np.concatenate((y_train, y_val), axis=0)\n",
    "pds = PredefinedSplit(test_fold=split_index)\n",
    "\n",
    "\n",
    "\n"
   ],
   "metadata": {
    "collapsed": false,
    "ExecuteTime": {
     "end_time": "2023-05-22T02:20:41.685132100Z",
     "start_time": "2023-05-22T02:20:41.368338500Z"
    }
   }
  },
  {
   "cell_type": "markdown",
   "source": [
    "### Count Vectorizer"
   ],
   "metadata": {
    "collapsed": false
   }
  },
  {
   "cell_type": "code",
   "execution_count": 88,
   "outputs": [
    {
     "ename": "MemoryError",
     "evalue": "Unable to allocate 1.25 GiB for an array with shape (16210, 10390) and data type int64",
     "output_type": "error",
     "traceback": [
      "\u001B[1;31m---------------------------------------------------------------------------\u001B[0m",
      "\u001B[1;31mMemoryError\u001B[0m                               Traceback (most recent call last)",
      "Cell \u001B[1;32mIn[88], line 1\u001B[0m\n\u001B[1;32m----> 1\u001B[0m X_cv \u001B[38;5;241m=\u001B[39m \u001B[43mcv_vec\u001B[49m\u001B[38;5;241;43m.\u001B[39;49m\u001B[43mtransform\u001B[49m\u001B[43m(\u001B[49m\u001B[43mX\u001B[49m\u001B[43m[\u001B[49m\u001B[38;5;124;43m'\u001B[39;49m\u001B[38;5;124;43mtitle\u001B[39;49m\u001B[38;5;124;43m'\u001B[39;49m\u001B[43m]\u001B[49m\u001B[43m)\u001B[49m\u001B[38;5;241;43m.\u001B[39;49m\u001B[43mtoarray\u001B[49m\u001B[43m(\u001B[49m\u001B[43m)\u001B[49m\n\u001B[0;32m      2\u001B[0m pd\u001B[38;5;241m.\u001B[39mDataFrame(X_cv, columns\u001B[38;5;241m=\u001B[39mcv_vec\u001B[38;5;241m.\u001B[39mget_feature_names_out())\n",
      "File \u001B[1;32m~\\AppData\\Roaming\\Python\\Python310\\site-packages\\scipy\\sparse\\_compressed.py:1051\u001B[0m, in \u001B[0;36m_cs_matrix.toarray\u001B[1;34m(self, order, out)\u001B[0m\n\u001B[0;32m   1049\u001B[0m \u001B[38;5;28;01mif\u001B[39;00m out \u001B[38;5;129;01mis\u001B[39;00m \u001B[38;5;28;01mNone\u001B[39;00m \u001B[38;5;129;01mand\u001B[39;00m order \u001B[38;5;129;01mis\u001B[39;00m \u001B[38;5;28;01mNone\u001B[39;00m:\n\u001B[0;32m   1050\u001B[0m     order \u001B[38;5;241m=\u001B[39m \u001B[38;5;28mself\u001B[39m\u001B[38;5;241m.\u001B[39m_swap(\u001B[38;5;124m'\u001B[39m\u001B[38;5;124mcf\u001B[39m\u001B[38;5;124m'\u001B[39m)[\u001B[38;5;241m0\u001B[39m]\n\u001B[1;32m-> 1051\u001B[0m out \u001B[38;5;241m=\u001B[39m \u001B[38;5;28;43mself\u001B[39;49m\u001B[38;5;241;43m.\u001B[39;49m\u001B[43m_process_toarray_args\u001B[49m\u001B[43m(\u001B[49m\u001B[43morder\u001B[49m\u001B[43m,\u001B[49m\u001B[43m \u001B[49m\u001B[43mout\u001B[49m\u001B[43m)\u001B[49m\n\u001B[0;32m   1052\u001B[0m \u001B[38;5;28;01mif\u001B[39;00m \u001B[38;5;129;01mnot\u001B[39;00m (out\u001B[38;5;241m.\u001B[39mflags\u001B[38;5;241m.\u001B[39mc_contiguous \u001B[38;5;129;01mor\u001B[39;00m out\u001B[38;5;241m.\u001B[39mflags\u001B[38;5;241m.\u001B[39mf_contiguous):\n\u001B[0;32m   1053\u001B[0m     \u001B[38;5;28;01mraise\u001B[39;00m \u001B[38;5;167;01mValueError\u001B[39;00m(\u001B[38;5;124m'\u001B[39m\u001B[38;5;124mOutput array must be C or F contiguous\u001B[39m\u001B[38;5;124m'\u001B[39m)\n",
      "File \u001B[1;32m~\\AppData\\Roaming\\Python\\Python310\\site-packages\\scipy\\sparse\\_base.py:1298\u001B[0m, in \u001B[0;36mspmatrix._process_toarray_args\u001B[1;34m(self, order, out)\u001B[0m\n\u001B[0;32m   1296\u001B[0m     \u001B[38;5;28;01mreturn\u001B[39;00m out\n\u001B[0;32m   1297\u001B[0m \u001B[38;5;28;01melse\u001B[39;00m:\n\u001B[1;32m-> 1298\u001B[0m     \u001B[38;5;28;01mreturn\u001B[39;00m \u001B[43mnp\u001B[49m\u001B[38;5;241;43m.\u001B[39;49m\u001B[43mzeros\u001B[49m\u001B[43m(\u001B[49m\u001B[38;5;28;43mself\u001B[39;49m\u001B[38;5;241;43m.\u001B[39;49m\u001B[43mshape\u001B[49m\u001B[43m,\u001B[49m\u001B[43m \u001B[49m\u001B[43mdtype\u001B[49m\u001B[38;5;241;43m=\u001B[39;49m\u001B[38;5;28;43mself\u001B[39;49m\u001B[38;5;241;43m.\u001B[39;49m\u001B[43mdtype\u001B[49m\u001B[43m,\u001B[49m\u001B[43m \u001B[49m\u001B[43morder\u001B[49m\u001B[38;5;241;43m=\u001B[39;49m\u001B[43morder\u001B[49m\u001B[43m)\u001B[49m\n",
      "\u001B[1;31mMemoryError\u001B[0m: Unable to allocate 1.25 GiB for an array with shape (16210, 10390) and data type int64"
     ]
    }
   ],
   "source": [
    "X_cv = cv_vec.transform(X['title']).toarray()\n",
    "pd.DataFrame(X_cv, columns=cv_vec.get_feature_names_out())"
   ],
   "metadata": {
    "collapsed": false,
    "ExecuteTime": {
     "end_time": "2023-05-22T02:20:41.945962800Z",
     "start_time": "2023-05-22T02:20:41.384327800Z"
    }
   }
  },
  {
   "cell_type": "code",
   "execution_count": null,
   "outputs": [],
   "source": [
    "from sklearn.model_selection import GridSearchCV\n",
    "\n",
    "# from hypopt import GridSearch\n",
    "\n",
    "model_params = ([KNeighborsClassifier(), SVC(), MultinomialNB(), LogisticRegression()],\n",
    "                [knn_params, svm_params, nb_params, lr_params])\n",
    "\n",
    "list_best_models_params = []\n",
    "for model, params in zip(model_params[0], model_params[1]):\n",
    "    gs = GridSearchCV(model,\n",
    "                      param_grid=params,\n",
    "                      )\n",
    "\n",
    "    gs.fit(X_cv, y)\n",
    "    print(f\"Best CV results for {model.__class__.__name__}\")\n",
    "    print(\"Best Score of train set: \" + str(gs.best_score_))\n",
    "    print(\"Best estimator: \" + str(gs.best_estimator_))\n",
    "    print(\"Best parameter set: \" + str(gs.best_params_))\n",
    "\n",
    "    store_best_model_configs = {\n",
    "        'model_name': model.__class__.__name__,\n",
    "        'best_score': gs.best_score_,\n",
    "        'best_estimator': gs.best_estimator_,\n",
    "        'best_params': gs.best_params_\n",
    "    }\n",
    "\n",
    "    list_best_models_params.append(store_best_model_configs)\n",
    "\n",
    "df_best_models_params = pd.DataFrame(list_best_models_params)\n",
    "df_best_models_params.to_csv('../../assets/traditional_assets/best_models_params_cv.csv', index=False)\n",
    "\n",
    "df_best_models_params\n",
    "# cv_best_model = gs.best_estimator_\n",
    "# print(\"Test Score: \" + str(gs.score(X_val_cv, y_val)))\n",
    "# print(\"----------------------------------------------------\")"
   ],
   "metadata": {
    "collapsed": false
   }
  },
  {
   "cell_type": "code",
   "execution_count": null,
   "outputs": [],
   "source": [
    "\n",
    "cv_best_model = gs.best_estimator_\n",
    "cv_best_model"
   ],
   "metadata": {
    "collapsed": false
   }
  },
  {
   "cell_type": "code",
   "execution_count": null,
   "outputs": [],
   "source": [],
   "metadata": {
    "collapsed": false
   }
  },
  {
   "cell_type": "markdown",
   "source": [
    "### TF-IDF"
   ],
   "metadata": {
    "collapsed": false
   }
  },
  {
   "cell_type": "code",
   "execution_count": null,
   "outputs": [],
   "source": [
    "# X_train_tfidf = tfidf_vec.transform(X_train['title'])\n",
    "# X_val_tfidf = tfidf_vec.transform(X_val['title'])\n",
    "# X_train_tfidf\n",
    "X_tfidf = tfidf_vec.transform(X['title']).toarray()\n",
    "pd.DataFrame(X_cv, columns=tfidf_vec.get_feature_names_out())"
   ],
   "metadata": {
    "collapsed": false
   }
  },
  {
   "cell_type": "code",
   "execution_count": null,
   "outputs": [],
   "source": [
    "# from sklearn.model_selection import GridSearchCVCV\n",
    "\n",
    "model_params = ([KNeighborsClassifier(), SVC(), MultinomialNB(), LogisticRegression()],\n",
    "                [knn_params, svm_params, nb_params, lr_params])\n",
    "\n",
    "list_best_models_params = []\n",
    "for model, params in zip(model_params[0], model_params[1]):\n",
    "    gs = GridSearchCV(model,\n",
    "                      param_grid=params,\n",
    "                      )\n",
    "    gs.fit(X_tfidf, y)\n",
    "    print(f\"Best TF-IDF results for {model.__class__.__name__}\")\n",
    "    print(\"Best Score on train set: \" + str(gs.best_score_))\n",
    "    print(\"Best estimator: \" + str(gs.best_estimator_))\n",
    "    print(\"Best parameter set: \" + str(gs.best_params_) + \"\\n\")\n",
    "    store_best_model_configs = {\n",
    "        'model_name': model.__class__.__name__,\n",
    "        'best_score': gs.best_score_,\n",
    "        'best_estimator': gs.best_estimator_,\n",
    "        'best_params': gs.best_params_\n",
    "    }\n",
    "\n",
    "    list_best_models_params.append(store_best_model_configs)\n",
    "\n",
    "df_best_models_params = pd.DataFrame(list_best_models_params)\n",
    "df_best_models_params.to_csv('../../assets/traditional_assets/best_models_params_tfidf.csv', index=False)\n",
    "df_best_models_params\n",
    "\n",
    "\n",
    "# decide_best_model =\n",
    "# print(\"Test Score: \" + str(gs.score(X_val, y_val)))\n",
    "# print(\"----------------------------------------------------\")\n"
   ],
   "metadata": {
    "collapsed": false
   }
  },
  {
   "cell_type": "code",
   "execution_count": null,
   "outputs": [],
   "source": [
    "tfidf_best_model = gs.best_estimator_\n",
    "tfidf_best_model"
   ],
   "metadata": {
    "collapsed": false
   }
  },
  {
   "cell_type": "markdown",
   "source": [
    "## Outputs"
   ],
   "metadata": {
    "collapsed": false
   }
  },
  {
   "cell_type": "code",
   "execution_count": null,
   "outputs": [],
   "source": [
    "with open('../../assets/traditional_assets/cv_set,pkl', 'wb') as fout:\n",
    "    pickle.dump((cv_vec, cv_best_model), fout)\n",
    "\n",
    "with open('../../assets/traditional_assets/tfidf_set.pkl', 'wb') as fout:\n",
    "    pickle.dump((tfidf_vec, cv_best_model), fout)\n"
   ],
   "metadata": {
    "collapsed": false
   }
  }
 ],
 "metadata": {
  "kernelspec": {
   "display_name": "Python 3",
   "language": "python",
   "name": "python3"
  },
  "language_info": {
   "codemirror_mode": {
    "name": "ipython",
    "version": 2
   },
   "file_extension": ".py",
   "mimetype": "text/x-python",
   "name": "python",
   "nbconvert_exporter": "python",
   "pygments_lexer": "ipython2",
   "version": "2.7.6"
  }
 },
 "nbformat": 4,
 "nbformat_minor": 0
}
