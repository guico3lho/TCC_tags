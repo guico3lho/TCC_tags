{
 "cells": [
  {
   "cell_type": "code",
   "execution_count": 2,
   "outputs": [],
   "source": [
    "import pickle\n",
    "from sklearn.base import BaseEstimator\n",
    "from sklearn.linear_model import LogisticRegression\n",
    "from sklearn.svm import SVC\n",
    "from sklearn.feature_extraction.text import CountVectorizer\n",
    "from sklearn.feature_extraction.text import TfidfTransformer\n",
    "from sklearn.pipeline import Pipeline\n",
    "import pandas as pd\n",
    "\n"
   ],
   "metadata": {
    "collapsed": false,
    "ExecuteTime": {
     "end_time": "2023-05-17T14:27:29.619486600Z",
     "start_time": "2023-05-17T14:27:29.339306500Z"
    }
   }
  },
  {
   "cell_type": "markdown",
   "source": [
    "## Packages and Asset"
   ],
   "metadata": {
    "collapsed": false
   }
  },
  {
   "cell_type": "markdown",
   "source": [
    "## Classes and Functions"
   ],
   "metadata": {
    "collapsed": false
   }
  },
  {
   "cell_type": "code",
   "execution_count": null,
   "outputs": [],
   "source": [],
   "metadata": {
    "collapsed": false
   }
  },
  {
   "cell_type": "markdown",
   "source": [
    "## Dependencies"
   ],
   "metadata": {
    "collapsed": false
   }
  },
  {
   "cell_type": "code",
   "execution_count": null,
   "outputs": [],
   "source": [
    "train = pd.read_csv('../../assets/data/splits/train/preprocessed.csv')\n",
    "y_train = train['label']\n",
    "# X_train and X_val will be created later..."
   ],
   "metadata": {
    "collapsed": false
   }
  },
  {
   "cell_type": "markdown",
   "source": [
    "## Models and Params"
   ],
   "metadata": {
    "collapsed": false
   }
  },
  {
   "cell_type": "markdown",
   "source": [
    "### KNN"
   ],
   "metadata": {
    "collapsed": false
   }
  },
  {
   "cell_type": "code",
   "execution_count": null,
   "outputs": [],
   "source": [
    "from sklearn.neighbors import KNeighborsClassifier\n",
    "\n",
    "knn_params = {\n",
    "    'n_neighbors': [3, 5, 7, 9, 11, 13, 15, 17, 19, 21],\n",
    "    'weights': ['uniform', 'distance'],\n",
    "    'metric': ['cosine']\n",
    "}"
   ],
   "metadata": {
    "collapsed": false
   }
  },
  {
   "cell_type": "markdown",
   "source": [
    "### SVM"
   ],
   "metadata": {
    "collapsed": false
   }
  },
  {
   "cell_type": "code",
   "execution_count": null,
   "outputs": [],
   "source": [
    "from sklearn.svm import SVC\n",
    "\n",
    "svm_params = {\n",
    "    'C': [0.1, 1, 10],\n",
    "    'kernel': ['linear', 'rbf'],\n",
    "}"
   ],
   "metadata": {
    "collapsed": false
   }
  },
  {
   "cell_type": "markdown",
   "source": [
    "### Naive Bayes"
   ],
   "metadata": {
    "collapsed": false
   }
  },
  {
   "cell_type": "code",
   "execution_count": null,
   "outputs": [],
   "source": [
    "from sklearn.naive_bayes import MultinomialNB\n",
    "\n",
    "nb_params = {\n",
    "    'alpha': [0.1, 1, 10],\n",
    "    'fit_prior': [True, False]\n",
    "}"
   ],
   "metadata": {
    "collapsed": false
   }
  },
  {
   "cell_type": "markdown",
   "source": [
    "### Logistic Regression"
   ],
   "metadata": {
    "collapsed": false
   }
  },
  {
   "cell_type": "markdown",
   "source": [],
   "metadata": {
    "collapsed": false
   }
  },
  {
   "cell_type": "code",
   "execution_count": null,
   "outputs": [],
   "source": [
    "from sklearn.linear_model import LogisticRegression\n",
    "\n",
    "lr_params = {\n",
    "    'penalty': ['l1', 'l2'],\n",
    "    'C': [0.1, 1, 10],\n",
    "    'solver': ['liblinear']\n",
    "}"
   ],
   "metadata": {
    "collapsed": false
   }
  },
  {
   "cell_type": "markdown",
   "source": [
    "## CountVectorizer"
   ],
   "metadata": {
    "collapsed": false
   }
  },
  {
   "cell_type": "markdown",
   "source": [
    "### Declaration and fit"
   ],
   "metadata": {
    "collapsed": false
   }
  },
  {
   "cell_type": "code",
   "execution_count": null,
   "outputs": [],
   "source": [
    "cv_vec = CountVectorizer(ngram_range=(1, 1))\n",
    "X_train_cv = cv_vec.fit_transform(train['title']).toarray()\n",
    "\n"
   ],
   "metadata": {
    "collapsed": false
   }
  },
  {
   "cell_type": "markdown",
   "source": [
    "### Features visualization"
   ],
   "metadata": {
    "collapsed": false
   }
  },
  {
   "cell_type": "code",
   "execution_count": null,
   "outputs": [],
   "source": [
    "X_train_names = pd.DataFrame(X_train_cv, columns=cv_vec.get_feature_names_out())\n",
    "X_train_names"
   ],
   "metadata": {
    "collapsed": false
   }
  },
  {
   "cell_type": "markdown",
   "source": [
    "### Evaluate models"
   ],
   "metadata": {
    "collapsed": false
   }
  },
  {
   "cell_type": "code",
   "execution_count": 1,
   "outputs": [
    {
     "ename": "NameError",
     "evalue": "name 'model' is not defined",
     "output_type": "error",
     "traceback": [
      "\u001B[1;31m---------------------------------------------------------------------------\u001B[0m",
      "\u001B[1;31mNameError\u001B[0m                                 Traceback (most recent call last)",
      "Cell \u001B[1;32mIn[1], line 3\u001B[0m\n\u001B[0;32m      1\u001B[0m \u001B[38;5;28;01mfrom\u001B[39;00m \u001B[38;5;21;01msklearn\u001B[39;00m\u001B[38;5;21;01m.\u001B[39;00m\u001B[38;5;21;01mmodel_selection\u001B[39;00m \u001B[38;5;28;01mimport\u001B[39;00m GridSearchCV\n\u001B[1;32m----> 3\u001B[0m gs \u001B[38;5;241m=\u001B[39m GridSearchCV(\u001B[43mmodel\u001B[49m,  \u001B[38;5;66;03m# model\u001B[39;00m\n\u001B[0;32m      4\u001B[0m                    param_grid\u001B[38;5;241m=\u001B[39mmodel_params,  \u001B[38;5;66;03m# hyperparameters\u001B[39;00m\n\u001B[0;32m      5\u001B[0m                    scoring\u001B[38;5;241m=\u001B[39m\u001B[38;5;124m'\u001B[39m\u001B[38;5;124maccuracy\u001B[39m\u001B[38;5;124m'\u001B[39m,  \u001B[38;5;66;03m# metric for scoring\u001B[39;00m\n\u001B[0;32m      6\u001B[0m                    cv\u001B[38;5;241m=\u001B[39m\u001B[38;5;241m10\u001B[39m)\n\u001B[0;32m      8\u001B[0m gs\u001B[38;5;241m.\u001B[39mfit(X_train, y_train)\n\u001B[0;32m      9\u001B[0m \u001B[38;5;28mprint\u001B[39m\n",
      "\u001B[1;31mNameError\u001B[0m: name 'model' is not defined"
     ]
    }
   ],
   "source": [
    "from sklearn.model_selection import GridSearchCV\n",
    "\n",
    "model_params = ([KNeighborsClassifier(), SVC(), MultinomialNB(), LogisticRegression()],\n",
    "                [knn_params, svm_params, nb_params, lr_params])\n",
    "\n",
    "list_best_models_params = []\n",
    "for model, params in zip(model_params[0], model_params[1]):\n",
    "    gs = GridSearchCV(model,\n",
    "                      param_grid=params,\n",
    "                      scoring='accuracy',\n",
    "                      cv=5)\n",
    "\n",
    "    gs.fit(X_train_cv, y_train)\n",
    "    print(f\"Best CV results for {model.__class__.__name__}\")\n",
    "    print(\"Best Score of train set: \" + str(gs.best_score_))\n",
    "    print(\"Best estimator: \" + str(gs.best_estimator_))\n",
    "    print(\"Best parameter set: \" + str(gs.best_params_))\n",
    "\n",
    "    store_best_model_configs = {\n",
    "        'model_name': model.__class__.__name__,\n",
    "        'best_score': gs.best_score_,\n",
    "        'best_estimator': gs.best_estimator_,\n",
    "        'best_params': gs.best_params_\n",
    "    }\n",
    "\n",
    "\n",
    "    list_best_models_params.append(store_best_model_configs)\n",
    "\n",
    "df_best_models_params = pd.DataFrame(list_best_models_params)\n",
    "df_best_models_params\n",
    "    # cv_best_model = gs.best_estimator_\n",
    "    # print(\"Test Score: \" + str(gs.score(X_val_cv, y_val)))\n",
    "    # print(\"----------------------------------------------------\")"
   ],
   "metadata": {
    "collapsed": false,
    "ExecuteTime": {
     "end_time": "2023-05-17T13:43:40.812060500Z",
     "start_time": "2023-05-17T13:43:38.912666100Z"
    }
   }
  },
  {
   "cell_type": "markdown",
   "source": [
    "## TF-IDF"
   ],
   "metadata": {
    "collapsed": false
   }
  },
  {
   "cell_type": "markdown",
   "source": [
    "### Declaration and fit"
   ],
   "metadata": {
    "collapsed": false
   }
  },
  {
   "cell_type": "code",
   "execution_count": null,
   "outputs": [],
   "source": [
    "tfidf_vec = TfidfTransformer()\n",
    "X_train_tfidf = tfidf_vec.fit_transform(train['title']).toarray()"
   ],
   "metadata": {
    "collapsed": false
   }
  },
  {
   "cell_type": "markdown",
   "source": [
    "### Features visualization"
   ],
   "metadata": {
    "collapsed": false
   }
  },
  {
   "cell_type": "code",
   "execution_count": null,
   "outputs": [],
   "source": [
    "X_train_names = pd.DataFrame(X_train_tfidf, columns=cv_vec.get_feature_names_out())\n",
    "X_train_names"
   ],
   "metadata": {
    "collapsed": false
   }
  },
  {
   "cell_type": "markdown",
   "source": [
    "### Evaluate models"
   ],
   "metadata": {
    "collapsed": false
   }
  },
  {
   "cell_type": "code",
   "execution_count": null,
   "outputs": [],
   "source": [
    "from sklearn.model_selection import GridSearchCV\n",
    "\n",
    "model_params = ([KNeighborsClassifier(), SVC(), MultinomialNB(), LogisticRegression()],\n",
    "                [knn_params, svm_params, nb_params, lr_params])\n",
    "\n",
    "list_best_models_params = []\n",
    "for model, params in zip(model_params[0], model_params[1]):\n",
    "    gs = GridSearchCV(model,\n",
    "                      param_grid=params,\n",
    "                      scoring='accuracy',\n",
    "                      cv=5)\n",
    "\n",
    "    gs.fit(X_train_tfidf, y_train)\n",
    "    print(f\"Best TF-IDF results for {model.__class__.__name__}\")\n",
    "    print(\"Best Score on train set: \" + str(gs.best_score_))\n",
    "    print(\"Best estimator: \" + str(gs.best_estimator_))\n",
    "    print(\"Best parameter set: \" + str(gs.best_params_) + \"\\n\")\n",
    "    # tfidf_best_model = gs.best_estimator_\n",
    "    # tfidf_best_model = gs.best_estimator_\n",
    "    store_best_model_configs = {\n",
    "        'model_name': model.__class__.__name__,\n",
    "        'best_score': gs.best_score_,\n",
    "        'best_estimator': gs.best_estimator_,\n",
    "        'best_params': gs.best_params_\n",
    "    }\n",
    "\n",
    "\n",
    "    list_best_models_params.append(store_best_model_configs)\n",
    "\n",
    "df_best_models_params = pd.DataFrame(list_best_models_params)\n",
    "df_best_models_params\n",
    "\n",
    "\n",
    "\n",
    "\n",
    "\n",
    "\n",
    "# decide_best_model =\n",
    "    # print(\"Test Score: \" + str(gs.score(X_val, y_val)))\n",
    "    # print(\"----------------------------------------------------\")\n"
   ],
   "metadata": {
    "collapsed": false
   }
  },
  {
   "cell_type": "markdown",
   "source": [
    "## Outputs"
   ],
   "metadata": {
    "collapsed": false
   }
  },
  {
   "cell_type": "code",
   "execution_count": null,
   "outputs": [],
   "source": [
    "\n",
    "\n",
    "\n",
    "# with open('../../assets/traditional_assets/cv_set.pkl', 'rb') as fout:\n",
    "#     pickle.dump((cv_vec, cv_best_model), fout)\n",
    "\n",
    "# with open('../../assets/traditional_assets/tfidf_set.pkl', 'rb') as fout:\n",
    "#     pickle.dump((tfidf_vec, tfidf_best_model), fout)\n"
   ],
   "metadata": {
    "collapsed": false
   }
  }
 ],
 "metadata": {
  "kernelspec": {
   "display_name": "Python 3",
   "language": "python",
   "name": "python3"
  },
  "language_info": {
   "codemirror_mode": {
    "name": "ipython",
    "version": 2
   },
   "file_extension": ".py",
   "mimetype": "text/x-python",
   "name": "python",
   "nbconvert_exporter": "python",
   "pygments_lexer": "ipython2",
   "version": "2.7.6"
  }
 },
 "nbformat": 4,
 "nbformat_minor": 0
}
