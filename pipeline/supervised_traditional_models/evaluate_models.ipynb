{
 "cells": [
  {
   "cell_type": "markdown",
   "source": [
    "## Packages and Assets"
   ],
   "metadata": {
    "collapsed": false
   }
  },
  {
   "cell_type": "code",
   "execution_count": 1,
   "outputs": [],
   "source": [
    "import pandas as pd\n",
    "import numpy as np\n",
    "\n",
    "from sklearn.linear_model import LogisticRegression\n",
    "from sklearn.naive_bayes import MultinomialNB\n",
    "from sklearn.neighbors import KNeighborsClassifier\n",
    "from sklearn.svm import SVC\n",
    "from sklearn.metrics import accuracy_score\n",
    "from sklearn import model_selection\n",
    "import json"
   ],
   "metadata": {
    "collapsed": false,
    "ExecuteTime": {
     "end_time": "2023-05-15T12:21:45.958578600Z",
     "start_time": "2023-05-15T12:21:44.528332100Z"
    }
   }
  },
  {
   "cell_type": "code",
   "execution_count": 2,
   "outputs": [],
   "source": [
    "train = pd.read_csv('../../assets/data/splits/train/preprocessed.csv')\n",
    "val = pd.read_csv('../../assets/data/splits/val/preprocessed.csv')"
   ],
   "metadata": {
    "collapsed": false,
    "ExecuteTime": {
     "end_time": "2023-05-15T12:21:46.054183700Z",
     "start_time": "2023-05-15T12:21:45.962573100Z"
    }
   }
  },
  {
   "cell_type": "code",
   "execution_count": 3,
   "outputs": [],
   "source": [
    "from sklearn.feature_extraction.text import CountVectorizer\n",
    "from sklearn.feature_extraction.text import TfidfTransformer\n"
   ],
   "metadata": {
    "collapsed": false,
    "ExecuteTime": {
     "end_time": "2023-05-15T12:21:46.089487700Z",
     "start_time": "2023-05-15T12:21:46.056182200Z"
    }
   }
  },
  {
   "cell_type": "code",
   "execution_count": 4,
   "outputs": [
    {
     "data": {
      "text/plain": "       00945litro  015l  033litro  10h30  10x  110mil  13barril  13bi  14h  \\\n0               0     0         0      0    0       0         0     0    0   \n1               0     0         0      0    0       0         0     0    0   \n2               0     0         0      0    0       0         0     0    0   \n3               0     0         0      0    0       0         0     0    0   \n4               0     0         0      0    0       0         0     0    0   \n...           ...   ...       ...    ...  ...     ...       ...   ...  ...   \n14404           0     0         0      0    0       0         0     0    0   \n14405           0     0         0      0    0       0         0     0    0   \n14406           0     0         0      0    0       0         0     0    0   \n14407           0     0         0      0    0       0         0     0    0   \n14408           0     0         0      0    0       0         0     0    0   \n\n       16h30  ...  zeram  zerar  zero  ziviani  zombou  zona  zoom  \\\n0          0  ...      0      0     0        0       0     0     0   \n1          0  ...      0      0     0        0       0     0     0   \n2          0  ...      0      0     0        0       0     0     0   \n3          0  ...      0      0     0        0       0     0     0   \n4          0  ...      0      0     0        0       0     0     0   \n...      ...  ...    ...    ...   ...      ...     ...   ...   ...   \n14404      0  ...      0      0     0        0       0     0     0   \n14405      0  ...      0      0     0        0       0     0     0   \n14406      0  ...      0      0     0        0       0     0     0   \n14407      0  ...      0      0     0        0       0     0     0   \n14408      0  ...      0      0     0        0       0     0     0   \n\n       zuckerberg  zup  zurich  \n0               0    0       0  \n1               0    0       0  \n2               0    0       0  \n3               0    0       0  \n4               0    0       0  \n...           ...  ...     ...  \n14404           0    0       0  \n14405           0    0       0  \n14406           0    0       0  \n14407           0    0       0  \n14408           0    0       0  \n\n[14409 rows x 10359 columns]",
      "text/html": "<div>\n<style scoped>\n    .dataframe tbody tr th:only-of-type {\n        vertical-align: middle;\n    }\n\n    .dataframe tbody tr th {\n        vertical-align: top;\n    }\n\n    .dataframe thead th {\n        text-align: right;\n    }\n</style>\n<table border=\"1\" class=\"dataframe\">\n  <thead>\n    <tr style=\"text-align: right;\">\n      <th></th>\n      <th>00945litro</th>\n      <th>015l</th>\n      <th>033litro</th>\n      <th>10h30</th>\n      <th>10x</th>\n      <th>110mil</th>\n      <th>13barril</th>\n      <th>13bi</th>\n      <th>14h</th>\n      <th>16h30</th>\n      <th>...</th>\n      <th>zeram</th>\n      <th>zerar</th>\n      <th>zero</th>\n      <th>ziviani</th>\n      <th>zombou</th>\n      <th>zona</th>\n      <th>zoom</th>\n      <th>zuckerberg</th>\n      <th>zup</th>\n      <th>zurich</th>\n    </tr>\n  </thead>\n  <tbody>\n    <tr>\n      <th>0</th>\n      <td>0</td>\n      <td>0</td>\n      <td>0</td>\n      <td>0</td>\n      <td>0</td>\n      <td>0</td>\n      <td>0</td>\n      <td>0</td>\n      <td>0</td>\n      <td>0</td>\n      <td>...</td>\n      <td>0</td>\n      <td>0</td>\n      <td>0</td>\n      <td>0</td>\n      <td>0</td>\n      <td>0</td>\n      <td>0</td>\n      <td>0</td>\n      <td>0</td>\n      <td>0</td>\n    </tr>\n    <tr>\n      <th>1</th>\n      <td>0</td>\n      <td>0</td>\n      <td>0</td>\n      <td>0</td>\n      <td>0</td>\n      <td>0</td>\n      <td>0</td>\n      <td>0</td>\n      <td>0</td>\n      <td>0</td>\n      <td>...</td>\n      <td>0</td>\n      <td>0</td>\n      <td>0</td>\n      <td>0</td>\n      <td>0</td>\n      <td>0</td>\n      <td>0</td>\n      <td>0</td>\n      <td>0</td>\n      <td>0</td>\n    </tr>\n    <tr>\n      <th>2</th>\n      <td>0</td>\n      <td>0</td>\n      <td>0</td>\n      <td>0</td>\n      <td>0</td>\n      <td>0</td>\n      <td>0</td>\n      <td>0</td>\n      <td>0</td>\n      <td>0</td>\n      <td>...</td>\n      <td>0</td>\n      <td>0</td>\n      <td>0</td>\n      <td>0</td>\n      <td>0</td>\n      <td>0</td>\n      <td>0</td>\n      <td>0</td>\n      <td>0</td>\n      <td>0</td>\n    </tr>\n    <tr>\n      <th>3</th>\n      <td>0</td>\n      <td>0</td>\n      <td>0</td>\n      <td>0</td>\n      <td>0</td>\n      <td>0</td>\n      <td>0</td>\n      <td>0</td>\n      <td>0</td>\n      <td>0</td>\n      <td>...</td>\n      <td>0</td>\n      <td>0</td>\n      <td>0</td>\n      <td>0</td>\n      <td>0</td>\n      <td>0</td>\n      <td>0</td>\n      <td>0</td>\n      <td>0</td>\n      <td>0</td>\n    </tr>\n    <tr>\n      <th>4</th>\n      <td>0</td>\n      <td>0</td>\n      <td>0</td>\n      <td>0</td>\n      <td>0</td>\n      <td>0</td>\n      <td>0</td>\n      <td>0</td>\n      <td>0</td>\n      <td>0</td>\n      <td>...</td>\n      <td>0</td>\n      <td>0</td>\n      <td>0</td>\n      <td>0</td>\n      <td>0</td>\n      <td>0</td>\n      <td>0</td>\n      <td>0</td>\n      <td>0</td>\n      <td>0</td>\n    </tr>\n    <tr>\n      <th>...</th>\n      <td>...</td>\n      <td>...</td>\n      <td>...</td>\n      <td>...</td>\n      <td>...</td>\n      <td>...</td>\n      <td>...</td>\n      <td>...</td>\n      <td>...</td>\n      <td>...</td>\n      <td>...</td>\n      <td>...</td>\n      <td>...</td>\n      <td>...</td>\n      <td>...</td>\n      <td>...</td>\n      <td>...</td>\n      <td>...</td>\n      <td>...</td>\n      <td>...</td>\n      <td>...</td>\n    </tr>\n    <tr>\n      <th>14404</th>\n      <td>0</td>\n      <td>0</td>\n      <td>0</td>\n      <td>0</td>\n      <td>0</td>\n      <td>0</td>\n      <td>0</td>\n      <td>0</td>\n      <td>0</td>\n      <td>0</td>\n      <td>...</td>\n      <td>0</td>\n      <td>0</td>\n      <td>0</td>\n      <td>0</td>\n      <td>0</td>\n      <td>0</td>\n      <td>0</td>\n      <td>0</td>\n      <td>0</td>\n      <td>0</td>\n    </tr>\n    <tr>\n      <th>14405</th>\n      <td>0</td>\n      <td>0</td>\n      <td>0</td>\n      <td>0</td>\n      <td>0</td>\n      <td>0</td>\n      <td>0</td>\n      <td>0</td>\n      <td>0</td>\n      <td>0</td>\n      <td>...</td>\n      <td>0</td>\n      <td>0</td>\n      <td>0</td>\n      <td>0</td>\n      <td>0</td>\n      <td>0</td>\n      <td>0</td>\n      <td>0</td>\n      <td>0</td>\n      <td>0</td>\n    </tr>\n    <tr>\n      <th>14406</th>\n      <td>0</td>\n      <td>0</td>\n      <td>0</td>\n      <td>0</td>\n      <td>0</td>\n      <td>0</td>\n      <td>0</td>\n      <td>0</td>\n      <td>0</td>\n      <td>0</td>\n      <td>...</td>\n      <td>0</td>\n      <td>0</td>\n      <td>0</td>\n      <td>0</td>\n      <td>0</td>\n      <td>0</td>\n      <td>0</td>\n      <td>0</td>\n      <td>0</td>\n      <td>0</td>\n    </tr>\n    <tr>\n      <th>14407</th>\n      <td>0</td>\n      <td>0</td>\n      <td>0</td>\n      <td>0</td>\n      <td>0</td>\n      <td>0</td>\n      <td>0</td>\n      <td>0</td>\n      <td>0</td>\n      <td>0</td>\n      <td>...</td>\n      <td>0</td>\n      <td>0</td>\n      <td>0</td>\n      <td>0</td>\n      <td>0</td>\n      <td>0</td>\n      <td>0</td>\n      <td>0</td>\n      <td>0</td>\n      <td>0</td>\n    </tr>\n    <tr>\n      <th>14408</th>\n      <td>0</td>\n      <td>0</td>\n      <td>0</td>\n      <td>0</td>\n      <td>0</td>\n      <td>0</td>\n      <td>0</td>\n      <td>0</td>\n      <td>0</td>\n      <td>0</td>\n      <td>...</td>\n      <td>0</td>\n      <td>0</td>\n      <td>0</td>\n      <td>0</td>\n      <td>0</td>\n      <td>0</td>\n      <td>0</td>\n      <td>0</td>\n      <td>0</td>\n      <td>0</td>\n    </tr>\n  </tbody>\n</table>\n<p>14409 rows × 10359 columns</p>\n</div>"
     },
     "execution_count": 4,
     "metadata": {},
     "output_type": "execute_result"
    }
   ],
   "source": [
    "y_train = train['label']\n",
    "cv = CountVectorizer(ngram_range=(1, 1))\n",
    "X_train = cv.fit_transform(train['title']).toarray()\n",
    "X_train_names = pd.DataFrame(X_train, columns=cv.get_feature_names_out())\n",
    "X_train_names"
   ],
   "metadata": {
    "collapsed": false,
    "ExecuteTime": {
     "end_time": "2023-05-15T12:21:46.494736100Z",
     "start_time": "2023-05-15T12:21:46.088487700Z"
    }
   }
  },
  {
   "cell_type": "code",
   "execution_count": 5,
   "outputs": [],
   "source": [
    "X_val = cv.transform(val['title']).toarray()\n",
    "y_val = val['label']"
   ],
   "metadata": {
    "collapsed": false,
    "ExecuteTime": {
     "end_time": "2023-05-15T12:21:46.621664Z",
     "start_time": "2023-05-15T12:21:46.494736100Z"
    }
   }
  },
  {
   "cell_type": "markdown",
   "source": [
    "## Functions"
   ],
   "metadata": {
    "collapsed": false
   }
  },
  {
   "cell_type": "code",
   "execution_count": 6,
   "outputs": [],
   "source": [
    "def evaluateModels(X_train, y_train, models, n_splits):\n",
    "    print(f\"{n_splits}-Fold Cross validation\")\n",
    "    results = []\n",
    "    names = []\n",
    "    for name, model in models:\n",
    "        kfold = model_selection.StratifiedKFold(n_splits=n_splits, shuffle=True, random_state=2)\n",
    "        cv_results = model_selection.cross_val_score(model, X_train, y_train, cv=kfold, scoring='accuracy')\n",
    "        results.append(cv_results)\n",
    "        names.append(name)\n",
    "        print(f\"{name}: Mean Accuracy={cv_results.mean():.5f}, Standard Deviation={cv_results.std():.5f}\")"
   ],
   "metadata": {
    "collapsed": false,
    "ExecuteTime": {
     "end_time": "2023-05-15T12:21:46.622663400Z",
     "start_time": "2023-05-15T12:21:46.563697600Z"
    }
   }
  },
  {
   "cell_type": "code",
   "execution_count": 7,
   "outputs": [],
   "source": [
    "def viewPredictedRows(X_test, y_test, y_pred):\n",
    "    df = pd.DataFrame({'y_test': y_test, 'y_pred': y_pred})\n",
    "    df['correct'] = df['y_test'] == df['y_pred']\n",
    "    df['correct'] = df['correct'].apply(lambda x: 'Correct' if x else 'Incorrect')\n",
    "    df['title'] = X_test\n",
    "    return df\n"
   ],
   "metadata": {
    "collapsed": false,
    "ExecuteTime": {
     "end_time": "2023-05-15T12:21:46.623662300Z",
     "start_time": "2023-05-15T12:21:46.577689200Z"
    }
   }
  },
  {
   "cell_type": "code",
   "execution_count": 8,
   "outputs": [],
   "source": [
    "\n",
    "def evaluateModelsWithoutKfold(X_train, y_train, X_test, y_test, models):\n",
    "    results = []\n",
    "    names = []\n",
    "    for name, model in models:\n",
    "        model.fit(X_train, y_train)\n",
    "        y_pred = model.predict(X_test)\n",
    "        accuracy = accuracy_score(y_test, y_pred)\n",
    "        results.append(accuracy)\n",
    "        names.append(name)\n",
    "        print(f\"{name}: Accuracy={accuracy:.5f}\")"
   ],
   "metadata": {
    "collapsed": false,
    "ExecuteTime": {
     "end_time": "2023-05-15T12:21:46.623662300Z",
     "start_time": "2023-05-15T12:21:46.597677100Z"
    }
   }
  },
  {
   "cell_type": "markdown",
   "source": [
    "## Evaluating Models"
   ],
   "metadata": {
    "collapsed": false
   }
  },
  {
   "cell_type": "code",
   "execution_count": 9,
   "outputs": [],
   "source": [
    "models = []\n",
    "\n",
    "models.append(('LR', LogisticRegression(max_iter=10000, multi_class='ovr', C=0.001, penalty='l2', solver='newton-cg')))\n",
    "models.append(('SVM', SVC(C=1, kernel='linear')))\n",
    "models.append(('KNN', KNeighborsClassifier(metric='cosine', n_neighbors=7, weights='distance')))\n",
    "models.append(('NB', MultinomialNB(alpha=0.1, fit_prior=True)))\n",
    "\n",
    "evaluateModelsWithoutKfold(X_train, y_train, X_val, y_val, models)"
   ],
   "metadata": {
    "collapsed": false,
    "ExecuteTime": {
     "end_time": "2023-05-15T12:21:46.720606800Z",
     "start_time": "2023-05-15T12:21:46.626661Z"
    }
   }
  },
  {
   "cell_type": "code",
   "execution_count": 10,
   "outputs": [],
   "source": [
    "# models = []\n",
    "#\n",
    "# models.append(('LR', LogisticRegression(max_iter=10000, multi_class='ovr', C=0.001, penalty='l2', solver='newton-cg')))\n",
    "# models.append(('SVM', SVC(C=1, kernel='linear')))\n",
    "# models.append(('KNN', KNeighborsClassifier(metric='cosine', n_neighbors=7, weights='distance')))\n",
    "# models.append(('NB', MultinomialNB(alpha=0.1, fit_prior=True)))\n",
    "#\n",
    "# evaluateModelsWithoutKfold(X_train, y_train, X_val, y_val, models)"
   ],
   "metadata": {
    "collapsed": false,
    "ExecuteTime": {
     "end_time": "2023-05-15T12:21:46.721606600Z",
     "start_time": "2023-05-15T12:21:46.657643500Z"
    }
   }
  },
  {
   "cell_type": "code",
   "execution_count": 11,
   "outputs": [
    {
     "name": "stdout",
     "output_type": "stream",
     "text": [
      "              precision    recall  f1-score   support\n",
      "\n",
      "           0       0.90      0.84      0.87       623\n",
      "           1       0.89      0.88      0.88       593\n",
      "           2       0.86      0.89      0.87       371\n",
      "           3       0.69      0.83      0.75       214\n",
      "\n",
      "    accuracy                           0.86      1801\n",
      "   macro avg       0.84      0.86      0.84      1801\n",
      "weighted avg       0.86      0.86      0.86      1801\n",
      "\n"
     ]
    }
   ],
   "source": [
    "from sklearn.metrics import classification_report\n",
    "\n",
    "model = MultinomialNB(alpha=0.1, fit_prior=True)\n",
    "model.fit(X_train, y_train)\n",
    "y_pred = model.predict(X_val)\n",
    "print(classification_report(y_val, y_pred))"
   ],
   "metadata": {
    "collapsed": false,
    "ExecuteTime": {
     "end_time": "2023-05-15T12:21:58.398892600Z",
     "start_time": "2023-05-15T12:21:46.685627200Z"
    }
   }
  },
  {
   "cell_type": "code",
   "execution_count": 12,
   "outputs": [
    {
     "data": {
      "text/plain": "      y_test  y_pred    correct  \\\n0          0       3  Incorrect   \n1          2       2    Correct   \n2          3       3    Correct   \n3          2       2    Correct   \n4          0       0    Correct   \n...      ...     ...        ...   \n1796       1       1    Correct   \n1797       0       0    Correct   \n1798       1       1    Correct   \n1799       0       0    Correct   \n1800       0       0    Correct   \n\n                                                  title  \n0     banco inter bidi3 anuncia pagamento juros sobr...  \n1     tem minerio ferro praca precos tem maior queda...  \n2     lucro tres maiores bancos privados atinge segu...  \n3     vale derrete <NUM> cento tres dias praticament...  \n4     agenda dia oi magazine luiza hypera aliansce s...  \n...                                                 ...  \n1796  petrobras apoio odebrecht sair braskem via mer...  \n1797    dolar abre alta coronavirus vendas varejo radar  \n1798  petrobras lancara <NUM> milhoes balanco <NUM> ...  \n1799    dolar opera alta devido tensoes cenario externo  \n1800         gol goll4 apresenta prejuizo <NUM> bi 1t20  \n\n[1801 rows x 4 columns]",
      "text/html": "<div>\n<style scoped>\n    .dataframe tbody tr th:only-of-type {\n        vertical-align: middle;\n    }\n\n    .dataframe tbody tr th {\n        vertical-align: top;\n    }\n\n    .dataframe thead th {\n        text-align: right;\n    }\n</style>\n<table border=\"1\" class=\"dataframe\">\n  <thead>\n    <tr style=\"text-align: right;\">\n      <th></th>\n      <th>y_test</th>\n      <th>y_pred</th>\n      <th>correct</th>\n      <th>title</th>\n    </tr>\n  </thead>\n  <tbody>\n    <tr>\n      <th>0</th>\n      <td>0</td>\n      <td>3</td>\n      <td>Incorrect</td>\n      <td>banco inter bidi3 anuncia pagamento juros sobr...</td>\n    </tr>\n    <tr>\n      <th>1</th>\n      <td>2</td>\n      <td>2</td>\n      <td>Correct</td>\n      <td>tem minerio ferro praca precos tem maior queda...</td>\n    </tr>\n    <tr>\n      <th>2</th>\n      <td>3</td>\n      <td>3</td>\n      <td>Correct</td>\n      <td>lucro tres maiores bancos privados atinge segu...</td>\n    </tr>\n    <tr>\n      <th>3</th>\n      <td>2</td>\n      <td>2</td>\n      <td>Correct</td>\n      <td>vale derrete &lt;NUM&gt; cento tres dias praticament...</td>\n    </tr>\n    <tr>\n      <th>4</th>\n      <td>0</td>\n      <td>0</td>\n      <td>Correct</td>\n      <td>agenda dia oi magazine luiza hypera aliansce s...</td>\n    </tr>\n    <tr>\n      <th>...</th>\n      <td>...</td>\n      <td>...</td>\n      <td>...</td>\n      <td>...</td>\n    </tr>\n    <tr>\n      <th>1796</th>\n      <td>1</td>\n      <td>1</td>\n      <td>Correct</td>\n      <td>petrobras apoio odebrecht sair braskem via mer...</td>\n    </tr>\n    <tr>\n      <th>1797</th>\n      <td>0</td>\n      <td>0</td>\n      <td>Correct</td>\n      <td>dolar abre alta coronavirus vendas varejo radar</td>\n    </tr>\n    <tr>\n      <th>1798</th>\n      <td>1</td>\n      <td>1</td>\n      <td>Correct</td>\n      <td>petrobras lancara &lt;NUM&gt; milhoes balanco &lt;NUM&gt; ...</td>\n    </tr>\n    <tr>\n      <th>1799</th>\n      <td>0</td>\n      <td>0</td>\n      <td>Correct</td>\n      <td>dolar opera alta devido tensoes cenario externo</td>\n    </tr>\n    <tr>\n      <th>1800</th>\n      <td>0</td>\n      <td>0</td>\n      <td>Correct</td>\n      <td>gol goll4 apresenta prejuizo &lt;NUM&gt; bi 1t20</td>\n    </tr>\n  </tbody>\n</table>\n<p>1801 rows × 4 columns</p>\n</div>"
     },
     "execution_count": 12,
     "metadata": {},
     "output_type": "execute_result"
    }
   ],
   "source": [
    "df_results = viewPredictedRows(val['title'], y_val, y_pred)\n",
    "df_results\n"
   ],
   "metadata": {
    "collapsed": false,
    "ExecuteTime": {
     "end_time": "2023-05-15T12:21:58.454860500Z",
     "start_time": "2023-05-15T12:21:58.398892600Z"
    }
   }
  },
  {
   "cell_type": "markdown",
   "source": [
    "## Exports"
   ],
   "metadata": {
    "collapsed": false
   }
  },
  {
   "cell_type": "code",
   "execution_count": 13,
   "outputs": [],
   "source": [
    "with open('../../assets/traditional_assets/count_vectorizer_vocab.json', 'w', encoding='utf-8') as f:\n",
    "    json.dump(cv.vocabulary_, f)"
   ],
   "metadata": {
    "collapsed": false,
    "ExecuteTime": {
     "end_time": "2023-05-15T12:21:58.492837900Z",
     "start_time": "2023-05-15T12:21:58.439868500Z"
    }
   }
  },
  {
   "cell_type": "code",
   "execution_count": 14,
   "outputs": [],
   "source": [
    "import pickle\n",
    "filename = 'naive_bayes_model.sav'\n",
    "pickle.dump(model, open(f\"../../assets/traditional_assets/{filename}\", 'wb'))"
   ],
   "metadata": {
    "collapsed": false,
    "ExecuteTime": {
     "end_time": "2023-05-15T12:21:58.544809300Z",
     "start_time": "2023-05-15T12:21:58.478846800Z"
    }
   }
  },
  {
   "cell_type": "code",
   "execution_count": 15,
   "outputs": [],
   "source": [
    "# from sklearn.feature_extraction.text import CountVectorizer\n",
    "# from sklearn.feature_extraction.text import TfidfTransformer\n",
    "# from sklearn.pipeline import Pipeline\n",
    "# from sklearn.linear_model import SGDClassifier\n",
    "# from sklearn.model_selection import GridSearchCV\n",
    "# from sklearn.metrics import classification_report\n",
    "# from sklearn.metrics import confusion_matrix\n",
    "# from sklearn.metrics import accuracy_score"
   ],
   "metadata": {
    "collapsed": false,
    "ExecuteTime": {
     "end_time": "2023-05-15T12:21:58.582787300Z",
     "start_time": "2023-05-15T12:21:58.506830700Z"
    }
   }
  },
  {
   "cell_type": "code",
   "execution_count": 16,
   "outputs": [],
   "source": [
    "# text_clf = Pipeline([('vect', CountVectorizer()),\n",
    "#                      ('tfidf', TfidfTransformer()),\n",
    "#                      ('clf', SGDClassifier(loss='hinge', penalty='l2',\n",
    "#                                            alpha=1e-3, random_state=42,\n",
    "#                                            max_iter=5, tol=None)),\n",
    "#                      ])\n",
    "#\n"
   ],
   "metadata": {
    "collapsed": false,
    "ExecuteTime": {
     "end_time": "2023-05-15T12:21:58.583786700Z",
     "start_time": "2023-05-15T12:21:58.523821400Z"
    }
   }
  },
  {
   "cell_type": "code",
   "execution_count": 17,
   "outputs": [],
   "source": [
    "# parameters = {\n",
    "#     'vect__ngram_range': [(1, 1), (1, 2)],\n",
    "#     'tfidf__use_idf': (True, False),\n",
    "#     'clf__alpha': (1e-2, 1e-3),\n",
    "# }"
   ],
   "metadata": {
    "collapsed": false,
    "ExecuteTime": {
     "end_time": "2023-05-15T12:21:58.583786700Z",
     "start_time": "2023-05-15T12:21:58.538812500Z"
    }
   }
  },
  {
   "cell_type": "code",
   "execution_count": 18,
   "outputs": [],
   "source": [
    "# gs_clf = GridSearchCV(text_clf, parameters, cv=5, iid=False, n_jobs=-1)"
   ],
   "metadata": {
    "collapsed": false,
    "ExecuteTime": {
     "end_time": "2023-05-15T12:21:58.584785900Z",
     "start_time": "2023-05-15T12:21:58.555804300Z"
    }
   }
  },
  {
   "cell_type": "code",
   "execution_count": 19,
   "outputs": [],
   "source": [
    "# gs_clf = gs_clf.fit(train['text'], train['label'])"
   ],
   "metadata": {
    "collapsed": false,
    "ExecuteTime": {
     "end_time": "2023-05-15T12:21:58.584785900Z",
     "start_time": "2023-05-15T12:21:58.568795100Z"
    }
   }
  },
  {
   "cell_type": "code",
   "execution_count": 19,
   "outputs": [],
   "source": [],
   "metadata": {
    "collapsed": false,
    "ExecuteTime": {
     "end_time": "2023-05-15T12:21:58.609771900Z",
     "start_time": "2023-05-15T12:21:58.582787300Z"
    }
   }
  },
  {
   "cell_type": "code",
   "execution_count": 19,
   "outputs": [],
   "source": [],
   "metadata": {
    "collapsed": false,
    "ExecuteTime": {
     "end_time": "2023-05-15T12:21:58.658632500Z",
     "start_time": "2023-05-15T12:21:58.601776700Z"
    }
   }
  },
  {
   "cell_type": "markdown",
   "source": [],
   "metadata": {
    "collapsed": false
   }
  }
 ],
 "metadata": {
  "kernelspec": {
   "display_name": "Python 3",
   "language": "python",
   "name": "python3"
  },
  "language_info": {
   "codemirror_mode": {
    "name": "ipython",
    "version": 2
   },
   "file_extension": ".py",
   "mimetype": "text/x-python",
   "name": "python",
   "nbconvert_exporter": "python",
   "pygments_lexer": "ipython2",
   "version": "2.7.6"
  }
 },
 "nbformat": 4,
 "nbformat_minor": 0
}
