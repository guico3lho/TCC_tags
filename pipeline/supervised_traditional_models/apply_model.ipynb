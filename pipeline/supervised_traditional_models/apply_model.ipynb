{
 "cells": [
  {
   "cell_type": "markdown",
   "source": [
    "## Packages and Assets"
   ],
   "metadata": {
    "collapsed": false
   }
  },
  {
   "cell_type": "code",
   "execution_count": 1,
   "outputs": [],
   "source": [
    "import pandas as pd\n",
    "from sklearn.metrics import accuracy_score, precision_score, recall_score, f1_score, confusion_matrix, classification_report\n",
    "\n",
    "import seaborn as sns\n",
    "\n",
    "import matplotlib.pyplot as plt\n",
    "\n",
    "import json\n",
    "import pickle\n",
    "from sklearn.feature_extraction.text import CountVectorizer\n",
    "from sklearn.feature_extraction.text import TfidfTransformer"
   ],
   "metadata": {
    "collapsed": false
   }
  },
  {
   "cell_type": "code",
   "execution_count": 2,
   "outputs": [],
   "source": [
    "test = pd.read_csv('../../assets/data/splits/test/preprocessed.csv')"
   ],
   "metadata": {
    "collapsed": false
   }
  },
  {
   "cell_type": "code",
   "execution_count": 3,
   "outputs": [],
   "source": [
    "with open('../../assets/traditional_assets/count_vectorizer_vocab.json', 'r') as f:\n",
    "    count_vectorizer_vocab = json.load(f)\n",
    "    count_vectorizer_vocab = dict(count_vectorizer_vocab)"
   ],
   "metadata": {
    "collapsed": false
   }
  },
  {
   "cell_type": "code",
   "execution_count": 4,
   "outputs": [],
   "source": [
    "model = pickle.load(open(\"../../assets/traditional_assets/naive_bayes_model.sav\", 'rb'))"
   ],
   "metadata": {
    "collapsed": false
   }
  },
  {
   "cell_type": "markdown",
   "source": [
    "## Functions"
   ],
   "metadata": {
    "collapsed": false
   }
  },
  {
   "cell_type": "code",
   "execution_count": 5,
   "outputs": [],
   "source": [
    "def viewPredictedRows(X_test, y_test, y_pred):\n",
    "    df = pd.DataFrame({'y_test': y_test, 'y_pred': y_pred})\n",
    "    df['correct'] = df['y_test'] == df['y_pred']\n",
    "    df['correct'] = df['correct'].apply(lambda x: 'Correct' if x else 'Incorrect')\n",
    "    df['title'] = X_test\n",
    "    return df\n"
   ],
   "metadata": {
    "collapsed": false
   }
  },
  {
   "cell_type": "code",
   "execution_count": 6,
   "outputs": [],
   "source": [
    "def show_confusion_matrix(cm):\n",
    "        print(\"Confusion Matrix\")\n",
    "        plt.figure(figsize=(10, 7))\n",
    "\n",
    "        sns.heatmap(cm, annot=True, fmt='d', cmap='Blues', xticklabels=['Negative', 'Positive'],\n",
    "                    yticklabels=['Negative', 'Positive'])\n",
    "        plt.xlabel('Predicted')\n",
    "        plt.ylabel('Truth')\n",
    "        plt.title('Confusion Matrix')\n",
    "        plt.show()"
   ],
   "metadata": {
    "collapsed": false
   }
  },
  {
   "cell_type": "markdown",
   "source": [
    "## Predictions"
   ],
   "metadata": {
    "collapsed": false
   }
  },
  {
   "cell_type": "code",
   "execution_count": 7,
   "outputs": [],
   "source": [
    "cv = CountVectorizer(ngram_range=(1, 1), vocabulary=count_vectorizer_vocab)\n",
    "X_test = cv.transform(test['title']).toarray()\n",
    "X_test_names = pd.DataFrame(X_test, columns=cv.get_feature_names_out())\n",
    "\n",
    "\n",
    "# cv = CountVectorizer(ngram_range=(1, 1))\n",
    "# X_test = cv.fit_transform(test['title']).toarray()\n",
    "# # X_test_names = pd.DataFrame(X_test, columns=cv.get_feature_names_out())\n",
    "# X_test_names"
   ],
   "metadata": {
    "collapsed": false
   }
  },
  {
   "cell_type": "code",
   "execution_count": 8,
   "outputs": [],
   "source": [
    "y_test = test['label']"
   ],
   "metadata": {
    "collapsed": false
   }
  },
  {
   "cell_type": "code",
   "execution_count": 9,
   "outputs": [
    {
     "name": "stdout",
     "output_type": "stream",
     "text": [
      "              precision    recall  f1-score   support\n",
      "\n",
      "           0       0.93      0.89      0.91       609\n",
      "           1       0.93      0.91      0.92       589\n",
      "           2       0.90      0.92      0.91       379\n",
      "           3       0.81      0.91      0.85       225\n",
      "\n",
      "    accuracy                           0.91      1802\n",
      "   macro avg       0.89      0.91      0.90      1802\n",
      "weighted avg       0.91      0.91      0.91      1802\n",
      "\n",
      "Confusion Matrix\n"
     ]
    },
    {
     "data": {
      "text/plain": "<Figure size 1000x700 with 2 Axes>",
      "image/png": "[encoded data removed]"
     },
     "metadata": {},
     "output_type": "display_data"
    }
   ],
   "source": [
    "\n",
    "\n",
    "\n",
    "y_pred = model.predict(X_test)\n",
    "print(classification_report(y_test, y_pred))\n",
    "cm = confusion_matrix(y_true=y_test, y_pred=y_pred)\n",
    "show_confusion_matrix(cm)"
   ],
   "metadata": {
    "collapsed": false
   }
  },
  {
   "cell_type": "code",
   "execution_count": 10,
   "outputs": [
    {
     "data": {
      "text/plain": "      y_test  y_pred  correct  \\\n0          2       2  Correct   \n1          1       1  Correct   \n2          0       0  Correct   \n3          0       0  Correct   \n4          0       0  Correct   \n...      ...     ...      ...   \n1797       0       0  Correct   \n1798       0       0  Correct   \n1799       1       1  Correct   \n1800       3       3  Correct   \n1801       0       0  Correct   \n\n                                                  title  \n0     agenda dia vale embraer gafisa braskem santos ...  \n1     etanol confirma liquidacao usinas antes <NUM> ...  \n2     irb brasil chega cair <NUM> cento apos carta s...  \n3     em recuperacao judicial livraria saraiva fecha...  \n4          dolar encerra queda <NUM> cento cotado <NUM>  \n...                                                 ...  \n1797       facebook notifica brasileiros dados roubados  \n1798          tesouro direto confira precos desta sexta  \n1799  petrobras convoca assembleia <NUM> agosto eleg...  \n1800  itau itub4 bradesco bbdc4 inadimplencia pressa...  \n1801  tjsp decreta fim recuperacao judicial aeroport...  \n\n[1802 rows x 4 columns]",
      "text/html": "<div>\n<style scoped>\n    .dataframe tbody tr th:only-of-type {\n        vertical-align: middle;\n    }\n\n    .dataframe tbody tr th {\n        vertical-align: top;\n    }\n\n    .dataframe thead th {\n        text-align: right;\n    }\n</style>\n<table border=\"1\" class=\"dataframe\">\n  <thead>\n    <tr style=\"text-align: right;\">\n      <th></th>\n      <th>y_test</th>\n      <th>y_pred</th>\n      <th>correct</th>\n      <th>title</th>\n    </tr>\n  </thead>\n  <tbody>\n    <tr>\n      <th>0</th>\n      <td>2</td>\n      <td>2</td>\n      <td>Correct</td>\n      <td>agenda dia vale embraer gafisa braskem santos ...</td>\n    </tr>\n    <tr>\n      <th>1</th>\n      <td>1</td>\n      <td>1</td>\n      <td>Correct</td>\n      <td>etanol confirma liquidacao usinas antes &lt;NUM&gt; ...</td>\n    </tr>\n    <tr>\n      <th>2</th>\n      <td>0</td>\n      <td>0</td>\n      <td>Correct</td>\n      <td>irb brasil chega cair &lt;NUM&gt; cento apos carta s...</td>\n    </tr>\n    <tr>\n      <th>3</th>\n      <td>0</td>\n      <td>0</td>\n      <td>Correct</td>\n      <td>em recuperacao judicial livraria saraiva fecha...</td>\n    </tr>\n    <tr>\n      <th>4</th>\n      <td>0</td>\n      <td>0</td>\n      <td>Correct</td>\n      <td>dolar encerra queda &lt;NUM&gt; cento cotado &lt;NUM&gt;</td>\n    </tr>\n    <tr>\n      <th>...</th>\n      <td>...</td>\n      <td>...</td>\n      <td>...</td>\n      <td>...</td>\n    </tr>\n    <tr>\n      <th>1797</th>\n      <td>0</td>\n      <td>0</td>\n      <td>Correct</td>\n      <td>facebook notifica brasileiros dados roubados</td>\n    </tr>\n    <tr>\n      <th>1798</th>\n      <td>0</td>\n      <td>0</td>\n      <td>Correct</td>\n      <td>tesouro direto confira precos desta sexta</td>\n    </tr>\n    <tr>\n      <th>1799</th>\n      <td>1</td>\n      <td>1</td>\n      <td>Correct</td>\n      <td>petrobras convoca assembleia &lt;NUM&gt; agosto eleg...</td>\n    </tr>\n    <tr>\n      <th>1800</th>\n      <td>3</td>\n      <td>3</td>\n      <td>Correct</td>\n      <td>itau itub4 bradesco bbdc4 inadimplencia pressa...</td>\n    </tr>\n    <tr>\n      <th>1801</th>\n      <td>0</td>\n      <td>0</td>\n      <td>Correct</td>\n      <td>tjsp decreta fim recuperacao judicial aeroport...</td>\n    </tr>\n  </tbody>\n</table>\n<p>1802 rows × 4 columns</p>\n</div>"
     },
     "execution_count": 10,
     "metadata": {},
     "output_type": "execute_result"
    }
   ],
   "source": [
    "df_results = viewPredictedRows(test['title'], y_test, y_pred)\n",
    "df_results\n"
   ],
   "metadata": {
    "collapsed": false
   }
  },
  {
   "cell_type": "code",
   "execution_count": null,
   "outputs": [],
   "source": [],
   "metadata": {
    "collapsed": false
   }
  }
 ],
 "metadata": {
  "kernelspec": {
   "display_name": "Python 3",
   "language": "python",
   "name": "python3"
  },
  "language_info": {
   "codemirror_mode": {
    "name": "ipython",
    "version": 2
   },
   "file_extension": ".py",
   "mimetype": "text/x-python",
   "name": "python",
   "nbconvert_exporter": "python",
   "pygments_lexer": "ipython2",
   "version": "2.7.6"
  }
 },
 "nbformat": 4,
 "nbformat_minor": 0
}
