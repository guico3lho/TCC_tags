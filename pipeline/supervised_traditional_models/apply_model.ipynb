{
 "cells": [
  {
   "cell_type": "markdown",
   "source": [
    "## Packages and Assets"
   ],
   "metadata": {
    "collapsed": false
   }
  },
  {
   "cell_type": "code",
   "execution_count": 9,
   "outputs": [],
   "source": [
    "import pandas as pd\n",
    "\n",
    "from sklearn.svm import SVC\n",
    "\n",
    "import json\n",
    "import pickle\n",
    "from sklearn.feature_extraction.text import CountVectorizer\n",
    "from sklearn.feature_extraction.text import TfidfTransformer"
   ],
   "metadata": {
    "collapsed": false
   }
  },
  {
   "cell_type": "code",
   "execution_count": 2,
   "outputs": [],
   "source": [
    "test = pd.read_csv('../../assets/data/splits/test/preprocessed.csv')"
   ],
   "metadata": {
    "collapsed": false
   }
  },
  {
   "cell_type": "code",
   "execution_count": 3,
   "outputs": [],
   "source": [
    "with open('../../assets/traditional_assets/count_vectorizer_vocab.json', 'r') as f:\n",
    "    count_vectorizer_vocab = json.load(f)\n",
    "    count_vectorizer_vocab = dict(count_vectorizer_vocab)"
   ],
   "metadata": {
    "collapsed": false
   }
  },
  {
   "cell_type": "code",
   "execution_count": 10,
   "outputs": [],
   "source": [
    "model = pickle.load(open(\"../../assets/traditional_assets/naive_bayes_model.sav\", 'rb'))"
   ],
   "metadata": {
    "collapsed": false
   }
  },
  {
   "cell_type": "markdown",
   "source": [
    "## Functions"
   ],
   "metadata": {
    "collapsed": false
   }
  },
  {
   "cell_type": "code",
   "execution_count": 4,
   "outputs": [],
   "source": [
    "def viewPredictedRows(X_test, y_test, y_pred):\n",
    "    df = pd.DataFrame({'y_test': y_test, 'y_pred': y_pred})\n",
    "    df['correct'] = df['y_test'] == df['y_pred']\n",
    "    df['correct'] = df['correct'].apply(lambda x: 'Correct' if x else 'Incorrect')\n",
    "    df['title'] = X_test\n",
    "    return df\n"
   ],
   "metadata": {
    "collapsed": false
   }
  },
  {
   "cell_type": "code",
   "execution_count": 6,
   "outputs": [],
   "source": [
    "cv = CountVectorizer(ngram_range=(1, 1), vocabulary=count_vectorizer_vocab)\n",
    "X_test = cv.transform(test['title']).toarray()\n",
    "X_test_names = pd.DataFrame(X_test, columns=cv.get_feature_names_out())\n",
    "\n",
    "\n",
    "# cv = CountVectorizer(ngram_range=(1, 1))\n",
    "# X_test = cv.fit_transform(test['title']).toarray()\n",
    "# # X_test_names = pd.DataFrame(X_test, columns=cv.get_feature_names_out())\n",
    "# X_test_names"
   ],
   "metadata": {
    "collapsed": false
   }
  },
  {
   "cell_type": "code",
   "execution_count": 7,
   "outputs": [],
   "source": [
    "y_test = test['label']"
   ],
   "metadata": {
    "collapsed": false
   }
  },
  {
   "cell_type": "code",
   "execution_count": 11,
   "outputs": [
    {
     "name": "stdout",
     "output_type": "stream",
     "text": [
      "              precision    recall  f1-score   support\n",
      "\n",
      "           0       0.96      0.92      0.94       614\n",
      "           1       0.87      0.91      0.89       375\n",
      "           2       0.82      0.84      0.83       207\n",
      "\n",
      "    accuracy                           0.90      1196\n",
      "   macro avg       0.88      0.89      0.88      1196\n",
      "weighted avg       0.90      0.90      0.90      1196\n",
      "\n"
     ]
    }
   ],
   "source": [
    "from sklearn.metrics import classification_report\n",
    "\n",
    "from sklearn.metrics import classification_report\n",
    "\n",
    "\n",
    "y_pred = model.predict(X_test)\n",
    "print(classification_report(y_test, y_pred))"
   ],
   "metadata": {
    "collapsed": false
   }
  },
  {
   "cell_type": "code",
   "execution_count": 12,
   "outputs": [
    {
     "data": {
      "text/plain": "      y_test  y_pred  correct  \\\n0          0       0  Correct   \n1          0       0  Correct   \n2          2       2  Correct   \n3          0       0  Correct   \n4          0       0  Correct   \n...      ...     ...      ...   \n1191       1       1  Correct   \n1192       2       2  Correct   \n1193       1       1  Correct   \n1194       0       0  Correct   \n1195       2       2  Correct   \n\n                                                  title  \n0     relator mantem imposto exportacao novo parecer...  \n1     petrobras informa descoberta petroleo poco blo...  \n2     itausa compra <NUM> cento empresa saneamento a...  \n3     petrobras petr4 afunda <NUM> cento pior dia de...  \n4     petrobras aumenta diesel <NUM> cento gasolina ...  \n...                                                 ...  \n1191  futuros minerio ferro avancam <NUM> cento bols...  \n1192  com sucesso operacao daycoval bancos captam <N...  \n1193  vale vale3 justica belo horizonte aceita recup...  \n1194  petrobras anuncia reabertura refinaria pasaden...  \n1195  grandes bancos brasileiros tem maior dividend ...  \n\n[1196 rows x 4 columns]",
      "text/html": "<div>\n<style scoped>\n    .dataframe tbody tr th:only-of-type {\n        vertical-align: middle;\n    }\n\n    .dataframe tbody tr th {\n        vertical-align: top;\n    }\n\n    .dataframe thead th {\n        text-align: right;\n    }\n</style>\n<table border=\"1\" class=\"dataframe\">\n  <thead>\n    <tr style=\"text-align: right;\">\n      <th></th>\n      <th>y_test</th>\n      <th>y_pred</th>\n      <th>correct</th>\n      <th>title</th>\n    </tr>\n  </thead>\n  <tbody>\n    <tr>\n      <th>0</th>\n      <td>0</td>\n      <td>0</td>\n      <td>Correct</td>\n      <td>relator mantem imposto exportacao novo parecer...</td>\n    </tr>\n    <tr>\n      <th>1</th>\n      <td>0</td>\n      <td>0</td>\n      <td>Correct</td>\n      <td>petrobras informa descoberta petroleo poco blo...</td>\n    </tr>\n    <tr>\n      <th>2</th>\n      <td>2</td>\n      <td>2</td>\n      <td>Correct</td>\n      <td>itausa compra &lt;NUM&gt; cento empresa saneamento a...</td>\n    </tr>\n    <tr>\n      <th>3</th>\n      <td>0</td>\n      <td>0</td>\n      <td>Correct</td>\n      <td>petrobras petr4 afunda &lt;NUM&gt; cento pior dia de...</td>\n    </tr>\n    <tr>\n      <th>4</th>\n      <td>0</td>\n      <td>0</td>\n      <td>Correct</td>\n      <td>petrobras aumenta diesel &lt;NUM&gt; cento gasolina ...</td>\n    </tr>\n    <tr>\n      <th>...</th>\n      <td>...</td>\n      <td>...</td>\n      <td>...</td>\n      <td>...</td>\n    </tr>\n    <tr>\n      <th>1191</th>\n      <td>1</td>\n      <td>1</td>\n      <td>Correct</td>\n      <td>futuros minerio ferro avancam &lt;NUM&gt; cento bols...</td>\n    </tr>\n    <tr>\n      <th>1192</th>\n      <td>2</td>\n      <td>2</td>\n      <td>Correct</td>\n      <td>com sucesso operacao daycoval bancos captam &lt;N...</td>\n    </tr>\n    <tr>\n      <th>1193</th>\n      <td>1</td>\n      <td>1</td>\n      <td>Correct</td>\n      <td>vale vale3 justica belo horizonte aceita recup...</td>\n    </tr>\n    <tr>\n      <th>1194</th>\n      <td>0</td>\n      <td>0</td>\n      <td>Correct</td>\n      <td>petrobras anuncia reabertura refinaria pasaden...</td>\n    </tr>\n    <tr>\n      <th>1195</th>\n      <td>2</td>\n      <td>2</td>\n      <td>Correct</td>\n      <td>grandes bancos brasileiros tem maior dividend ...</td>\n    </tr>\n  </tbody>\n</table>\n<p>1196 rows × 4 columns</p>\n</div>"
     },
     "execution_count": 12,
     "metadata": {},
     "output_type": "execute_result"
    }
   ],
   "source": [
    "df_results = viewPredictedRows(test['title'], y_test, y_pred)\n",
    "df_results\n"
   ],
   "metadata": {
    "collapsed": false
   }
  }
 ],
 "metadata": {
  "kernelspec": {
   "display_name": "Python 3",
   "language": "python",
   "name": "python3"
  },
  "language_info": {
   "codemirror_mode": {
    "name": "ipython",
    "version": 2
   },
   "file_extension": ".py",
   "mimetype": "text/x-python",
   "name": "python",
   "nbconvert_exporter": "python",
   "pygments_lexer": "ipython2",
   "version": "2.7.6"
  }
 },
 "nbformat": 4,
 "nbformat_minor": 0
}
