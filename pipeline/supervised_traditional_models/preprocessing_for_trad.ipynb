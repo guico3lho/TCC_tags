{
 "cells": [
  {
   "cell_type": "code",
   "execution_count": 1,
   "outputs": [],
   "source": [
    "import pickle\n",
    "import pandas as pd"
   ],
   "metadata": {
    "collapsed": false,
    "ExecuteTime": {
     "start_time": "2023-05-22T23:37:43.419315100Z"
    }
   }
  },
  {
   "cell_type": "markdown",
   "source": [
    "## Packages"
   ],
   "metadata": {
    "collapsed": false
   }
  },
  {
   "cell_type": "markdown",
   "source": [
    "## Dependencies"
   ],
   "metadata": {
    "collapsed": false
   }
  },
  {
   "cell_type": "code",
   "execution_count": 77,
   "outputs": [],
   "source": [
    "train = pd.read_csv('../../assets/data/splits/train/preprocessed.csv')"
   ],
   "metadata": {
    "collapsed": false,
    "ExecuteTime": {
     "end_time": "2023-05-22T15:35:55.430011300Z",
     "start_time": "2023-05-22T15:35:55.302496100Z"
    }
   }
  },
  {
   "cell_type": "markdown",
   "source": [
    "## Functions and Assets"
   ],
   "metadata": {
    "collapsed": false
   }
  },
  {
   "cell_type": "markdown",
   "source": [
    "## CountVectorizer"
   ],
   "metadata": {
    "collapsed": false
   }
  },
  {
   "cell_type": "code",
   "execution_count": 78,
   "outputs": [
    {
     "data": {
      "text/plain": "       abaixo  abandona  abastecer  abastecimento  abegas  aberta  abertas  \\\n0           0         0          0              0       0       0        0   \n1           0         0          0              0       0       0        0   \n2           0         0          0              0       0       0        0   \n3           0         0          0              0       0       0        0   \n4           0         0          0              0       0       0        0   \n...       ...       ...        ...            ...     ...     ...      ...   \n14404       0         0          0              0       0       0        0   \n14405       0         0          0              0       0       0        0   \n14406       0         0          0              0       0       0        0   \n14407       0         0          0              0       0       0        0   \n14408       0         0          0              0       0       0        0   \n\n       aberto  abertura  abicom  ...  wework  whatsapp  whatscall  wilson  \\\n0           0         0       0  ...       0         0          0       0   \n1           0         0       0  ...       0         0          0       0   \n2           0         0       0  ...       0         0          0       0   \n3           0         0       0  ...       0         0          0       0   \n4           0         0       0  ...       0         0          0       0   \n...       ...       ...     ...  ...     ...       ...        ...     ...   \n14404       0         0       0  ...       0         0          0       0   \n14405       0         0       0  ...       0         0          0       0   \n14406       0         0       0  ...       0         0          0       0   \n14407       0         0       0  ...       0         0          0       0   \n14408       0         0       0  ...       0         0          0       0   \n\n       wirecard  xangai  xpbr31  xpipespe  yields  zuckerberg  \n0             0       0       0         0       0           0  \n1             0       0       0         0       0           0  \n2             0       0       0         0       0           0  \n3             0       0       0         0       0           0  \n4             0       0       0         0       0           0  \n...         ...     ...     ...       ...     ...         ...  \n14404         0       0       0         0       0           0  \n14405         0       0       0         0       0           0  \n14406         0       0       0         0       0           0  \n14407         0       0       0         0       0           0  \n14408         0       0       0         0       0           0  \n\n[14409 rows x 4240 columns]",
      "text/html": "<div>\n<style scoped>\n    .dataframe tbody tr th:only-of-type {\n        vertical-align: middle;\n    }\n\n    .dataframe tbody tr th {\n        vertical-align: top;\n    }\n\n    .dataframe thead th {\n        text-align: right;\n    }\n</style>\n<table border=\"1\" class=\"dataframe\">\n  <thead>\n    <tr style=\"text-align: right;\">\n      <th></th>\n      <th>abaixo</th>\n      <th>abandona</th>\n      <th>abastecer</th>\n      <th>abastecimento</th>\n      <th>abegas</th>\n      <th>aberta</th>\n      <th>abertas</th>\n      <th>aberto</th>\n      <th>abertura</th>\n      <th>abicom</th>\n      <th>...</th>\n      <th>wework</th>\n      <th>whatsapp</th>\n      <th>whatscall</th>\n      <th>wilson</th>\n      <th>wirecard</th>\n      <th>xangai</th>\n      <th>xpbr31</th>\n      <th>xpipespe</th>\n      <th>yields</th>\n      <th>zuckerberg</th>\n    </tr>\n  </thead>\n  <tbody>\n    <tr>\n      <th>0</th>\n      <td>0</td>\n      <td>0</td>\n      <td>0</td>\n      <td>0</td>\n      <td>0</td>\n      <td>0</td>\n      <td>0</td>\n      <td>0</td>\n      <td>0</td>\n      <td>0</td>\n      <td>...</td>\n      <td>0</td>\n      <td>0</td>\n      <td>0</td>\n      <td>0</td>\n      <td>0</td>\n      <td>0</td>\n      <td>0</td>\n      <td>0</td>\n      <td>0</td>\n      <td>0</td>\n    </tr>\n    <tr>\n      <th>1</th>\n      <td>0</td>\n      <td>0</td>\n      <td>0</td>\n      <td>0</td>\n      <td>0</td>\n      <td>0</td>\n      <td>0</td>\n      <td>0</td>\n      <td>0</td>\n      <td>0</td>\n      <td>...</td>\n      <td>0</td>\n      <td>0</td>\n      <td>0</td>\n      <td>0</td>\n      <td>0</td>\n      <td>0</td>\n      <td>0</td>\n      <td>0</td>\n      <td>0</td>\n      <td>0</td>\n    </tr>\n    <tr>\n      <th>2</th>\n      <td>0</td>\n      <td>0</td>\n      <td>0</td>\n      <td>0</td>\n      <td>0</td>\n      <td>0</td>\n      <td>0</td>\n      <td>0</td>\n      <td>0</td>\n      <td>0</td>\n      <td>...</td>\n      <td>0</td>\n      <td>0</td>\n      <td>0</td>\n      <td>0</td>\n      <td>0</td>\n      <td>0</td>\n      <td>0</td>\n      <td>0</td>\n      <td>0</td>\n      <td>0</td>\n    </tr>\n    <tr>\n      <th>3</th>\n      <td>0</td>\n      <td>0</td>\n      <td>0</td>\n      <td>0</td>\n      <td>0</td>\n      <td>0</td>\n      <td>0</td>\n      <td>0</td>\n      <td>0</td>\n      <td>0</td>\n      <td>...</td>\n      <td>0</td>\n      <td>0</td>\n      <td>0</td>\n      <td>0</td>\n      <td>0</td>\n      <td>0</td>\n      <td>0</td>\n      <td>0</td>\n      <td>0</td>\n      <td>0</td>\n    </tr>\n    <tr>\n      <th>4</th>\n      <td>0</td>\n      <td>0</td>\n      <td>0</td>\n      <td>0</td>\n      <td>0</td>\n      <td>0</td>\n      <td>0</td>\n      <td>0</td>\n      <td>0</td>\n      <td>0</td>\n      <td>...</td>\n      <td>0</td>\n      <td>0</td>\n      <td>0</td>\n      <td>0</td>\n      <td>0</td>\n      <td>0</td>\n      <td>0</td>\n      <td>0</td>\n      <td>0</td>\n      <td>0</td>\n    </tr>\n    <tr>\n      <th>...</th>\n      <td>...</td>\n      <td>...</td>\n      <td>...</td>\n      <td>...</td>\n      <td>...</td>\n      <td>...</td>\n      <td>...</td>\n      <td>...</td>\n      <td>...</td>\n      <td>...</td>\n      <td>...</td>\n      <td>...</td>\n      <td>...</td>\n      <td>...</td>\n      <td>...</td>\n      <td>...</td>\n      <td>...</td>\n      <td>...</td>\n      <td>...</td>\n      <td>...</td>\n      <td>...</td>\n    </tr>\n    <tr>\n      <th>14404</th>\n      <td>0</td>\n      <td>0</td>\n      <td>0</td>\n      <td>0</td>\n      <td>0</td>\n      <td>0</td>\n      <td>0</td>\n      <td>0</td>\n      <td>0</td>\n      <td>0</td>\n      <td>...</td>\n      <td>0</td>\n      <td>0</td>\n      <td>0</td>\n      <td>0</td>\n      <td>0</td>\n      <td>0</td>\n      <td>0</td>\n      <td>0</td>\n      <td>0</td>\n      <td>0</td>\n    </tr>\n    <tr>\n      <th>14405</th>\n      <td>0</td>\n      <td>0</td>\n      <td>0</td>\n      <td>0</td>\n      <td>0</td>\n      <td>0</td>\n      <td>0</td>\n      <td>0</td>\n      <td>0</td>\n      <td>0</td>\n      <td>...</td>\n      <td>0</td>\n      <td>0</td>\n      <td>0</td>\n      <td>0</td>\n      <td>0</td>\n      <td>0</td>\n      <td>0</td>\n      <td>0</td>\n      <td>0</td>\n      <td>0</td>\n    </tr>\n    <tr>\n      <th>14406</th>\n      <td>0</td>\n      <td>0</td>\n      <td>0</td>\n      <td>0</td>\n      <td>0</td>\n      <td>0</td>\n      <td>0</td>\n      <td>0</td>\n      <td>0</td>\n      <td>0</td>\n      <td>...</td>\n      <td>0</td>\n      <td>0</td>\n      <td>0</td>\n      <td>0</td>\n      <td>0</td>\n      <td>0</td>\n      <td>0</td>\n      <td>0</td>\n      <td>0</td>\n      <td>0</td>\n    </tr>\n    <tr>\n      <th>14407</th>\n      <td>0</td>\n      <td>0</td>\n      <td>0</td>\n      <td>0</td>\n      <td>0</td>\n      <td>0</td>\n      <td>0</td>\n      <td>0</td>\n      <td>0</td>\n      <td>0</td>\n      <td>...</td>\n      <td>0</td>\n      <td>0</td>\n      <td>0</td>\n      <td>0</td>\n      <td>0</td>\n      <td>0</td>\n      <td>0</td>\n      <td>0</td>\n      <td>0</td>\n      <td>0</td>\n    </tr>\n    <tr>\n      <th>14408</th>\n      <td>0</td>\n      <td>0</td>\n      <td>0</td>\n      <td>0</td>\n      <td>0</td>\n      <td>0</td>\n      <td>0</td>\n      <td>0</td>\n      <td>0</td>\n      <td>0</td>\n      <td>...</td>\n      <td>0</td>\n      <td>0</td>\n      <td>0</td>\n      <td>0</td>\n      <td>0</td>\n      <td>0</td>\n      <td>0</td>\n      <td>0</td>\n      <td>0</td>\n      <td>0</td>\n    </tr>\n  </tbody>\n</table>\n<p>14409 rows × 4240 columns</p>\n</div>"
     },
     "execution_count": 78,
     "metadata": {},
     "output_type": "execute_result"
    }
   ],
   "source": [
    "from sklearn.feature_extraction.text import CountVectorizer\n",
    "\n",
    "stop_words = [\"da\", \"meu\", \"em\", \"voce\", \"de\", \"ao\", \"os\", \"cento\"]\n",
    "\n",
    "cv_vec = CountVectorizer(ngram_range=(1, 1), token_pattern=r'\\b[a-zA-Z]{3}[a-zA-Z0-9]{3,}\\b', max_df=0.5, min_df=2, stop_words=stop_words)\n",
    "X_train_cv = cv_vec.fit_transform(train['title']).toarray()\n",
    "\n",
    "X_train_names_cv = pd.DataFrame(X_train_cv, columns=cv_vec.get_feature_names_out())\n",
    "X_train_names_cv"
   ],
   "metadata": {
    "collapsed": false,
    "ExecuteTime": {
     "end_time": "2023-05-22T15:35:55.699989900Z",
     "start_time": "2023-05-22T15:35:55.435016100Z"
    }
   }
  },
  {
   "cell_type": "markdown",
   "source": [
    "## TFIDF Vectorizer"
   ],
   "metadata": {
    "collapsed": false
   }
  },
  {
   "cell_type": "code",
   "execution_count": 79,
   "outputs": [
    {
     "data": {
      "text/plain": "       abaixo  abandona  abastecer  abastecimento  abegas  aberta  abertas  \\\n0         0.0       0.0        0.0            0.0     0.0     0.0      0.0   \n1         0.0       0.0        0.0            0.0     0.0     0.0      0.0   \n2         0.0       0.0        0.0            0.0     0.0     0.0      0.0   \n3         0.0       0.0        0.0            0.0     0.0     0.0      0.0   \n4         0.0       0.0        0.0            0.0     0.0     0.0      0.0   \n...       ...       ...        ...            ...     ...     ...      ...   \n14404     0.0       0.0        0.0            0.0     0.0     0.0      0.0   \n14405     0.0       0.0        0.0            0.0     0.0     0.0      0.0   \n14406     0.0       0.0        0.0            0.0     0.0     0.0      0.0   \n14407     0.0       0.0        0.0            0.0     0.0     0.0      0.0   \n14408     0.0       0.0        0.0            0.0     0.0     0.0      0.0   \n\n       aberto  abertura  abicom  ...  wework  whatsapp  whatscall  wilson  \\\n0         0.0       0.0     0.0  ...     0.0       0.0        0.0     0.0   \n1         0.0       0.0     0.0  ...     0.0       0.0        0.0     0.0   \n2         0.0       0.0     0.0  ...     0.0       0.0        0.0     0.0   \n3         0.0       0.0     0.0  ...     0.0       0.0        0.0     0.0   \n4         0.0       0.0     0.0  ...     0.0       0.0        0.0     0.0   \n...       ...       ...     ...  ...     ...       ...        ...     ...   \n14404     0.0       0.0     0.0  ...     0.0       0.0        0.0     0.0   \n14405     0.0       0.0     0.0  ...     0.0       0.0        0.0     0.0   \n14406     0.0       0.0     0.0  ...     0.0       0.0        0.0     0.0   \n14407     0.0       0.0     0.0  ...     0.0       0.0        0.0     0.0   \n14408     0.0       0.0     0.0  ...     0.0       0.0        0.0     0.0   \n\n       wirecard  xangai  xpbr31  xpipespe  yields  zuckerberg  \n0           0.0     0.0     0.0       0.0     0.0         0.0  \n1           0.0     0.0     0.0       0.0     0.0         0.0  \n2           0.0     0.0     0.0       0.0     0.0         0.0  \n3           0.0     0.0     0.0       0.0     0.0         0.0  \n4           0.0     0.0     0.0       0.0     0.0         0.0  \n...         ...     ...     ...       ...     ...         ...  \n14404       0.0     0.0     0.0       0.0     0.0         0.0  \n14405       0.0     0.0     0.0       0.0     0.0         0.0  \n14406       0.0     0.0     0.0       0.0     0.0         0.0  \n14407       0.0     0.0     0.0       0.0     0.0         0.0  \n14408       0.0     0.0     0.0       0.0     0.0         0.0  \n\n[14409 rows x 4240 columns]",
      "text/html": "<div>\n<style scoped>\n    .dataframe tbody tr th:only-of-type {\n        vertical-align: middle;\n    }\n\n    .dataframe tbody tr th {\n        vertical-align: top;\n    }\n\n    .dataframe thead th {\n        text-align: right;\n    }\n</style>\n<table border=\"1\" class=\"dataframe\">\n  <thead>\n    <tr style=\"text-align: right;\">\n      <th></th>\n      <th>abaixo</th>\n      <th>abandona</th>\n      <th>abastecer</th>\n      <th>abastecimento</th>\n      <th>abegas</th>\n      <th>aberta</th>\n      <th>abertas</th>\n      <th>aberto</th>\n      <th>abertura</th>\n      <th>abicom</th>\n      <th>...</th>\n      <th>wework</th>\n      <th>whatsapp</th>\n      <th>whatscall</th>\n      <th>wilson</th>\n      <th>wirecard</th>\n      <th>xangai</th>\n      <th>xpbr31</th>\n      <th>xpipespe</th>\n      <th>yields</th>\n      <th>zuckerberg</th>\n    </tr>\n  </thead>\n  <tbody>\n    <tr>\n      <th>0</th>\n      <td>0.0</td>\n      <td>0.0</td>\n      <td>0.0</td>\n      <td>0.0</td>\n      <td>0.0</td>\n      <td>0.0</td>\n      <td>0.0</td>\n      <td>0.0</td>\n      <td>0.0</td>\n      <td>0.0</td>\n      <td>...</td>\n      <td>0.0</td>\n      <td>0.0</td>\n      <td>0.0</td>\n      <td>0.0</td>\n      <td>0.0</td>\n      <td>0.0</td>\n      <td>0.0</td>\n      <td>0.0</td>\n      <td>0.0</td>\n      <td>0.0</td>\n    </tr>\n    <tr>\n      <th>1</th>\n      <td>0.0</td>\n      <td>0.0</td>\n      <td>0.0</td>\n      <td>0.0</td>\n      <td>0.0</td>\n      <td>0.0</td>\n      <td>0.0</td>\n      <td>0.0</td>\n      <td>0.0</td>\n      <td>0.0</td>\n      <td>...</td>\n      <td>0.0</td>\n      <td>0.0</td>\n      <td>0.0</td>\n      <td>0.0</td>\n      <td>0.0</td>\n      <td>0.0</td>\n      <td>0.0</td>\n      <td>0.0</td>\n      <td>0.0</td>\n      <td>0.0</td>\n    </tr>\n    <tr>\n      <th>2</th>\n      <td>0.0</td>\n      <td>0.0</td>\n      <td>0.0</td>\n      <td>0.0</td>\n      <td>0.0</td>\n      <td>0.0</td>\n      <td>0.0</td>\n      <td>0.0</td>\n      <td>0.0</td>\n      <td>0.0</td>\n      <td>...</td>\n      <td>0.0</td>\n      <td>0.0</td>\n      <td>0.0</td>\n      <td>0.0</td>\n      <td>0.0</td>\n      <td>0.0</td>\n      <td>0.0</td>\n      <td>0.0</td>\n      <td>0.0</td>\n      <td>0.0</td>\n    </tr>\n    <tr>\n      <th>3</th>\n      <td>0.0</td>\n      <td>0.0</td>\n      <td>0.0</td>\n      <td>0.0</td>\n      <td>0.0</td>\n      <td>0.0</td>\n      <td>0.0</td>\n      <td>0.0</td>\n      <td>0.0</td>\n      <td>0.0</td>\n      <td>...</td>\n      <td>0.0</td>\n      <td>0.0</td>\n      <td>0.0</td>\n      <td>0.0</td>\n      <td>0.0</td>\n      <td>0.0</td>\n      <td>0.0</td>\n      <td>0.0</td>\n      <td>0.0</td>\n      <td>0.0</td>\n    </tr>\n    <tr>\n      <th>4</th>\n      <td>0.0</td>\n      <td>0.0</td>\n      <td>0.0</td>\n      <td>0.0</td>\n      <td>0.0</td>\n      <td>0.0</td>\n      <td>0.0</td>\n      <td>0.0</td>\n      <td>0.0</td>\n      <td>0.0</td>\n      <td>...</td>\n      <td>0.0</td>\n      <td>0.0</td>\n      <td>0.0</td>\n      <td>0.0</td>\n      <td>0.0</td>\n      <td>0.0</td>\n      <td>0.0</td>\n      <td>0.0</td>\n      <td>0.0</td>\n      <td>0.0</td>\n    </tr>\n    <tr>\n      <th>...</th>\n      <td>...</td>\n      <td>...</td>\n      <td>...</td>\n      <td>...</td>\n      <td>...</td>\n      <td>...</td>\n      <td>...</td>\n      <td>...</td>\n      <td>...</td>\n      <td>...</td>\n      <td>...</td>\n      <td>...</td>\n      <td>...</td>\n      <td>...</td>\n      <td>...</td>\n      <td>...</td>\n      <td>...</td>\n      <td>...</td>\n      <td>...</td>\n      <td>...</td>\n      <td>...</td>\n    </tr>\n    <tr>\n      <th>14404</th>\n      <td>0.0</td>\n      <td>0.0</td>\n      <td>0.0</td>\n      <td>0.0</td>\n      <td>0.0</td>\n      <td>0.0</td>\n      <td>0.0</td>\n      <td>0.0</td>\n      <td>0.0</td>\n      <td>0.0</td>\n      <td>...</td>\n      <td>0.0</td>\n      <td>0.0</td>\n      <td>0.0</td>\n      <td>0.0</td>\n      <td>0.0</td>\n      <td>0.0</td>\n      <td>0.0</td>\n      <td>0.0</td>\n      <td>0.0</td>\n      <td>0.0</td>\n    </tr>\n    <tr>\n      <th>14405</th>\n      <td>0.0</td>\n      <td>0.0</td>\n      <td>0.0</td>\n      <td>0.0</td>\n      <td>0.0</td>\n      <td>0.0</td>\n      <td>0.0</td>\n      <td>0.0</td>\n      <td>0.0</td>\n      <td>0.0</td>\n      <td>...</td>\n      <td>0.0</td>\n      <td>0.0</td>\n      <td>0.0</td>\n      <td>0.0</td>\n      <td>0.0</td>\n      <td>0.0</td>\n      <td>0.0</td>\n      <td>0.0</td>\n      <td>0.0</td>\n      <td>0.0</td>\n    </tr>\n    <tr>\n      <th>14406</th>\n      <td>0.0</td>\n      <td>0.0</td>\n      <td>0.0</td>\n      <td>0.0</td>\n      <td>0.0</td>\n      <td>0.0</td>\n      <td>0.0</td>\n      <td>0.0</td>\n      <td>0.0</td>\n      <td>0.0</td>\n      <td>...</td>\n      <td>0.0</td>\n      <td>0.0</td>\n      <td>0.0</td>\n      <td>0.0</td>\n      <td>0.0</td>\n      <td>0.0</td>\n      <td>0.0</td>\n      <td>0.0</td>\n      <td>0.0</td>\n      <td>0.0</td>\n    </tr>\n    <tr>\n      <th>14407</th>\n      <td>0.0</td>\n      <td>0.0</td>\n      <td>0.0</td>\n      <td>0.0</td>\n      <td>0.0</td>\n      <td>0.0</td>\n      <td>0.0</td>\n      <td>0.0</td>\n      <td>0.0</td>\n      <td>0.0</td>\n      <td>...</td>\n      <td>0.0</td>\n      <td>0.0</td>\n      <td>0.0</td>\n      <td>0.0</td>\n      <td>0.0</td>\n      <td>0.0</td>\n      <td>0.0</td>\n      <td>0.0</td>\n      <td>0.0</td>\n      <td>0.0</td>\n    </tr>\n    <tr>\n      <th>14408</th>\n      <td>0.0</td>\n      <td>0.0</td>\n      <td>0.0</td>\n      <td>0.0</td>\n      <td>0.0</td>\n      <td>0.0</td>\n      <td>0.0</td>\n      <td>0.0</td>\n      <td>0.0</td>\n      <td>0.0</td>\n      <td>...</td>\n      <td>0.0</td>\n      <td>0.0</td>\n      <td>0.0</td>\n      <td>0.0</td>\n      <td>0.0</td>\n      <td>0.0</td>\n      <td>0.0</td>\n      <td>0.0</td>\n      <td>0.0</td>\n      <td>0.0</td>\n    </tr>\n  </tbody>\n</table>\n<p>14409 rows × 4240 columns</p>\n</div>"
     },
     "execution_count": 79,
     "metadata": {},
     "output_type": "execute_result"
    }
   ],
   "source": [
    "from sklearn.feature_extraction.text import TfidfVectorizer\n",
    "\n",
    "tfidf_vec = TfidfVectorizer(ngram_range=(1, 1), token_pattern=r'\\b[a-zA-Z]{3}[a-zA-Z0-9]{3,}\\b', max_df=0.5, min_df=2,stop_words=stop_words)\n",
    "X_train_tfidf = tfidf_vec.fit_transform(train['title']).toarray()\n",
    "\n",
    "X_train_names_tfidf = pd.DataFrame(X_train_tfidf, columns=tfidf_vec.get_feature_names_out())\n",
    "X_train_names_tfidf\n",
    "# X_val_tfidf = cv_vec.transform(val['title']).toarray()"
   ],
   "metadata": {
    "collapsed": false,
    "ExecuteTime": {
     "end_time": "2023-05-22T15:35:56.029870200Z",
     "start_time": "2023-05-22T15:35:55.699989900Z"
    }
   }
  },
  {
   "cell_type": "markdown",
   "source": [
    "## Output"
   ],
   "metadata": {
    "collapsed": false
   }
  },
  {
   "cell_type": "code",
   "execution_count": 80,
   "outputs": [],
   "source": [
    "# X_train_names_cv.to_csv('../../assets/data/splits/train/bow_cv.csv', index=False)\n",
    "# X_val_names_cv.to_csv('../../assets/data/splits/val/bow_cv.csv', index=False)\n",
    "#\n",
    "# X_train_names_tfidf.to_csv('../../assets/data/splits/train/bow_tfidf.csv', index=False)\n",
    "# X_val_names_tfidf.to_csv('../../assets/data/splits/val/bow_tfidf.csv', index=False)\n"
   ],
   "metadata": {
    "collapsed": false,
    "ExecuteTime": {
     "end_time": "2023-05-22T15:35:56.034875100Z",
     "start_time": "2023-05-22T15:35:56.029870200Z"
    }
   }
  },
  {
   "cell_type": "code",
   "execution_count": 80,
   "outputs": [],
   "source": [],
   "metadata": {
    "collapsed": false,
    "ExecuteTime": {
     "end_time": "2023-05-22T15:35:56.049753900Z",
     "start_time": "2023-05-22T15:35:56.034875100Z"
    }
   }
  },
  {
   "cell_type": "code",
   "execution_count": 81,
   "outputs": [],
   "source": [
    "with open('../../assets/traditional_assets/cv_vec.pkl', 'wb') as fout:\n",
    "    pickle.dump(cv_vec, fout)"
   ],
   "metadata": {
    "collapsed": false,
    "ExecuteTime": {
     "end_time": "2023-05-22T15:35:56.100102800Z",
     "start_time": "2023-05-22T15:35:56.049753900Z"
    }
   }
  },
  {
   "cell_type": "code",
   "execution_count": 82,
   "outputs": [],
   "source": [
    "with open('../../assets/traditional_assets/tfidf_vec.pkl', 'wb') as fout:\n",
    "    pickle.dump(tfidf_vec, fout)"
   ],
   "metadata": {
    "collapsed": false,
    "ExecuteTime": {
     "end_time": "2023-05-22T15:35:56.129727900Z",
     "start_time": "2023-05-22T15:35:56.070080800Z"
    }
   }
  },
  {
   "cell_type": "code",
   "execution_count": 82,
   "outputs": [],
   "source": [],
   "metadata": {
    "collapsed": false,
    "ExecuteTime": {
     "end_time": "2023-05-22T15:35:56.129727900Z",
     "start_time": "2023-05-22T15:35:56.089974500Z"
    }
   }
  }
 ],
 "metadata": {
  "kernelspec": {
   "display_name": "Python 3",
   "language": "python",
   "name": "python3"
  },
  "language_info": {
   "codemirror_mode": {
    "name": "ipython",
    "version": 2
   },
   "file_extension": ".py",
   "mimetype": "text/x-python",
   "name": "python",
   "nbconvert_exporter": "python",
   "pygments_lexer": "ipython2",
   "version": "2.7.6"
  }
 },
 "nbformat": 4,
 "nbformat_minor": 0
}
