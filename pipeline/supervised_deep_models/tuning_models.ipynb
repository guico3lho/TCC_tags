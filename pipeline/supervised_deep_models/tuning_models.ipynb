{
 "cells": [
  {
   "cell_type": "markdown",
   "source": [
    "## Packages"
   ],
   "metadata": {
    "collapsed": false
   }
  },
  {
   "cell_type": "code",
   "execution_count": 1,
   "outputs": [],
   "source": [
    "from gensim.models import Word2Vec\n",
    "import numpy as np\n",
    "import pandas as pd\n",
    "from keras.callbacks import EarlyStopping\n",
    "import seaborn as sns\n",
    "import keras_tuner as kt\n",
    "from tensorflow.keras.optimizers import SGD, RMSprop, Adam\n",
    "\n",
    "from keras.models import Sequential\n",
    "from keras.layers import Embedding, LSTM, Dense, Dropout, Bidirectional\n",
    "import matplotlib.pyplot as plt\n",
    "from keras.preprocessing.text import tokenizer_from_json\n",
    "import os, sys\n",
    "from keras.losses import BinaryCrossentropy\n",
    "\n",
    "import keras.backend as K"
   ],
   "metadata": {
    "collapsed": false,
    "ExecuteTime": {
     "end_time": "2023-06-27T12:21:50.065214300Z",
     "start_time": "2023-06-27T12:21:44.973234100Z"
    }
   }
  },
  {
   "cell_type": "code",
   "execution_count": 2,
   "outputs": [
    {
     "name": "stdout",
     "output_type": "stream",
     "text": [
      "C:\\Users\\Guilherme\\.conda\\envs\\nlp2\\python.exe\n",
      "C:\\Users\\Guilherme\\Documents\\Programming\\Python\\DataScience\\TCC\\pipeline\\supervised_deep_models\n"
     ]
    }
   ],
   "source": [
    "print(sys.executable)\n",
    "print(os.getcwd())"
   ],
   "metadata": {
    "collapsed": false,
    "ExecuteTime": {
     "end_time": "2023-06-27T12:21:50.081653800Z",
     "start_time": "2023-06-27T12:21:50.068212800Z"
    }
   }
  },
  {
   "cell_type": "markdown",
   "source": [
    "## Dependencies"
   ],
   "metadata": {
    "collapsed": false
   }
  },
  {
   "cell_type": "code",
   "execution_count": 3,
   "outputs": [
    {
     "data": {
      "text/plain": "10412"
     },
     "execution_count": 3,
     "metadata": {},
     "output_type": "execute_result"
    }
   ],
   "source": [
    "with open('../../assets/deep_assets/tokenizer.json', 'r', encoding='utf-8') as f:\n",
    "    tokenizer_json = f.read()\n",
    "    tokenizer = tokenizer_from_json(tokenizer_json)\n",
    "    word_index = tokenizer.word_index\n",
    "\n",
    "len(word_index)"
   ],
   "metadata": {
    "collapsed": false,
    "ExecuteTime": {
     "end_time": "2023-06-27T12:21:50.134622900Z",
     "start_time": "2023-06-27T12:21:50.084652200Z"
    }
   }
  },
  {
   "cell_type": "code",
   "execution_count": 4,
   "outputs": [
    {
     "name": "stdout",
     "output_type": "stream",
     "text": [
      "[('petrobras', 0.9945626854896545), ('venda', 0.9822978973388672), ('diz', 0.9617841243743896), ('vinculante', 0.9607778787612915), ('valemenos', 0.9528304934501648), ('fase', 0.9456454515457153), ('rlam', 0.9394487142562866), ('bauna', 0.9372807741165161), ('deten', 0.9350878596305847), ('sal', 0.9342561364173889)]\n"
     ]
    }
   ],
   "source": [
    "model_we = Word2Vec.load('../../assets/deep_assets/word2vec.model')\n",
    "\n",
    "print(model_we.wv.most_similar('petr4'))\n",
    "\n",
    "# List of nparrays of size 300\n",
    "embeddings_dict = {}\n",
    "for word in model_we.wv.index_to_key:\n",
    "    embeddings_dict[word] = model_we.wv[word]\n",
    "\n",
    "embeddings_on_this_context = np.zeros((len(word_index), 300))\n",
    "for word, i in word_index.items():\n",
    "    embeddings_vector = embeddings_dict.get(word)\n",
    "    if embeddings_vector is not None:\n",
    "        embeddings_on_this_context[i - 1] = embeddings_vector\n"
   ],
   "metadata": {
    "collapsed": false,
    "ExecuteTime": {
     "end_time": "2023-06-27T12:21:50.209595700Z",
     "start_time": "2023-06-27T12:21:50.135623400Z"
    }
   }
  },
  {
   "cell_type": "code",
   "execution_count": 5,
   "outputs": [],
   "source": [
    "train_padded = pd.read_csv('../../assets/data/splits/train/padded.csv')\n",
    "val_padded = pd.read_csv('../../assets/data/splits/val/padded.csv')"
   ],
   "metadata": {
    "collapsed": false,
    "ExecuteTime": {
     "end_time": "2023-06-27T12:21:50.258568200Z",
     "start_time": "2023-06-27T12:21:50.209595700Z"
    }
   }
  },
  {
   "cell_type": "markdown",
   "source": [
    "## Functions"
   ],
   "metadata": {
    "collapsed": false
   }
  },
  {
   "cell_type": "code",
   "execution_count": 6,
   "outputs": [],
   "source": [
    "def index2word(word_index):\n",
    "    index_word = {}\n",
    "    for key in word_index:\n",
    "        index_word[word_index[key]] = key\n",
    "    return index_word\n",
    "\n",
    "\n",
    "def seq2text(seq, index_word):\n",
    "    text = []\n",
    "    for index in seq:\n",
    "        text.append(index_word[index])\n",
    "    return text\n",
    "\n",
    "\n",
    "def show_confusion_matrix(cm):\n",
    "    print(\"Confusion Matrix\")\n",
    "    plt.figure(figsize=(10, 7))\n",
    "\n",
    "    sns.heatmap(cm, annot=True, fmt='d', cmap='Blues', xticklabels=['Negative', 'Positive'],\n",
    "                yticklabels=['Negative', 'Positive'])\n",
    "    plt.xlabel('Predicted')\n",
    "    plt.ylabel('Truth')\n",
    "    plt.title('Confusion Matrix')\n",
    "    plt.show()"
   ],
   "metadata": {
    "collapsed": false,
    "ExecuteTime": {
     "end_time": "2023-06-27T12:21:50.272560200Z",
     "start_time": "2023-06-27T12:21:50.253573200Z"
    }
   }
  },
  {
   "cell_type": "markdown",
   "source": [
    "## RNN Models"
   ],
   "metadata": {
    "collapsed": false
   }
  },
  {
   "cell_type": "markdown",
   "source": [
    "Tuning Architecture Hyperparams using RandomSearch and Early Stopping"
   ],
   "metadata": {
    "collapsed": false
   }
  },
  {
   "cell_type": "markdown",
   "source": [
    "### Preparing RNN inputs"
   ],
   "metadata": {
    "collapsed": false
   }
  },
  {
   "cell_type": "code",
   "execution_count": 7,
   "outputs": [],
   "source": [
    "X_train = train_padded.to_numpy()[:, :-1]\n",
    "X_val = val_padded.to_numpy()[:, :-1]\n",
    "y_train = train_padded.to_numpy()[:, -1]\n",
    "y_val = val_padded.to_numpy()[:, -1]"
   ],
   "metadata": {
    "collapsed": false,
    "ExecuteTime": {
     "end_time": "2023-06-27T12:21:50.303284700Z",
     "start_time": "2023-06-27T12:21:50.273559100Z"
    }
   }
  },
  {
   "cell_type": "markdown",
   "source": [],
   "metadata": {
    "collapsed": false
   }
  },
  {
   "cell_type": "markdown",
   "source": [
    "### LSTM"
   ],
   "metadata": {
    "collapsed": false
   }
  },
  {
   "cell_type": "markdown",
   "source": [
    "#### Tuning"
   ],
   "metadata": {
    "collapsed": false
   }
  },
  {
   "cell_type": "code",
   "execution_count": 8,
   "outputs": [],
   "source": [
    "def build_model(hp):\n",
    "    model = Sequential([\n",
    "        Embedding(input_dim=len(word_index), output_dim= 300, input_length=X_train.shape[1], trainable=False, weights=[embeddings_on_this_context]),\n",
    "        LSTM(hp.Choice('units_lstm_1', [16, 32, 64]), return_sequences=True),\n",
    "        Dropout(hp.Float('rate_dp_1', 0, 0.3, step=0.1)),\n",
    "        LSTM(hp.Choice('units_lstm_2', [16, 32, 64])),\n",
    "        Dense(hp.Choice('units_dense', [16, 32, 64]), hp.Choice('activation', ['tanh'])),\n",
    "        Dropout(hp.Float('rate_dp_2', 0, 0.3, step=0.1)),\n",
    "        Dense(4,  activation='softmax')\n",
    "    ])\n",
    "    loss = 'sparse_categorical_crossentropy'\n",
    "    # optimizer = RMSprop())\n",
    "    metrics = ['accuracy']\n",
    "    # metrics = ['accuracy', Precision(), Recall()]\n",
    "\n",
    "    optimizer = 'adam'\n",
    "\n",
    "    model.compile(loss=loss, optimizer=optimizer, metrics=metrics)\n",
    "    return model\n",
    "\n",
    "\n",
    "\n",
    "es = EarlyStopping(monitor='val_loss', mode='min', verbose=1, patience=10)"
   ],
   "metadata": {
    "collapsed": false,
    "ExecuteTime": {
     "end_time": "2023-06-27T12:21:50.304283900Z",
     "start_time": "2023-06-27T12:21:50.285187800Z"
    }
   }
  },
  {
   "cell_type": "code",
   "execution_count": 9,
   "outputs": [
    {
     "name": "stdout",
     "output_type": "stream",
     "text": [
      "Search space summary\n",
      "Default search space size: 6\n",
      "units_lstm_1 (Choice)\n",
      "{'default': 16, 'conditions': [], 'values': [16, 32, 64], 'ordered': True}\n",
      "rate_dp_1 (Float)\n",
      "{'default': 0.0, 'conditions': [], 'min_value': 0.0, 'max_value': 0.3, 'step': 0.1, 'sampling': 'linear'}\n",
      "units_lstm_2 (Choice)\n",
      "{'default': 16, 'conditions': [], 'values': [16, 32, 64], 'ordered': True}\n",
      "units_dense (Choice)\n",
      "{'default': 16, 'conditions': [], 'values': [16, 32, 64], 'ordered': True}\n",
      "activation (Choice)\n",
      "{'default': 'tanh', 'conditions': [], 'values': ['tanh'], 'ordered': False}\n",
      "rate_dp_2 (Float)\n",
      "{'default': 0.0, 'conditions': [], 'min_value': 0.0, 'max_value': 0.3, 'step': 0.1, 'sampling': 'linear'}\n"
     ]
    }
   ],
   "source": [
    "# amanha testar dropout 0.0, 0.1, 0.2\n",
    "tuner = kt.RandomSearch(\n",
    "    build_model,\n",
    "    objective='val_accuracy',\n",
    "    max_trials=10,\n",
    "    executions_per_trial=1,\n",
    "    directory='../../assets/deep_assets',\n",
    "    overwrite=True,\n",
    "    project_name='lstm_tuning')\n",
    "\n",
    "tuner.search_space_summary()"
   ],
   "metadata": {
    "collapsed": false,
    "ExecuteTime": {
     "end_time": "2023-06-27T12:21:51.226737Z",
     "start_time": "2023-06-27T12:21:50.301284700Z"
    }
   }
  },
  {
   "cell_type": "code",
   "execution_count": 10,
   "outputs": [
    {
     "name": "stdout",
     "output_type": "stream",
     "text": [
      "Trial 10 Complete [00h 02m 10s]\n",
      "val_accuracy: 0.8306496143341064\n",
      "\n",
      "Best val_accuracy So Far: 0.8306496143341064\n",
      "Total elapsed time: 00h 24m 01s\n",
      "INFO:tensorflow:Oracle triggered exit\n",
      "Results summary\n",
      "Results in ../../assets/deep_assets\\lstm_tuning\n",
      "Showing 10 best trials\n",
      "Objective(name=\"val_accuracy\", direction=\"max\")\n",
      "\n",
      "Trial 09 summary\n",
      "Hyperparameters:\n",
      "units_lstm_1: 64\n",
      "rate_dp_1: 0.1\n",
      "units_lstm_2: 64\n",
      "units_dense: 64\n",
      "activation: tanh\n",
      "rate_dp_2: 0.0\n",
      "Score: 0.8306496143341064\n",
      "\n",
      "Trial 07 summary\n",
      "Hyperparameters:\n",
      "units_lstm_1: 16\n",
      "rate_dp_1: 0.0\n",
      "units_lstm_2: 64\n",
      "units_dense: 16\n",
      "activation: tanh\n",
      "rate_dp_2: 0.0\n",
      "Score: 0.8234314322471619\n",
      "\n",
      "Trial 01 summary\n",
      "Hyperparameters:\n",
      "units_lstm_1: 32\n",
      "rate_dp_1: 0.1\n",
      "units_lstm_2: 64\n",
      "units_dense: 64\n",
      "activation: tanh\n",
      "rate_dp_2: 0.0\n",
      "Score: 0.8223209381103516\n",
      "\n",
      "Trial 00 summary\n",
      "Hyperparameters:\n",
      "units_lstm_1: 64\n",
      "rate_dp_1: 0.1\n",
      "units_lstm_2: 64\n",
      "units_dense: 16\n",
      "activation: tanh\n",
      "rate_dp_2: 0.2\n",
      "Score: 0.821765661239624\n",
      "\n",
      "Trial 05 summary\n",
      "Hyperparameters:\n",
      "units_lstm_1: 16\n",
      "rate_dp_1: 0.1\n",
      "units_lstm_2: 16\n",
      "units_dense: 64\n",
      "activation: tanh\n",
      "rate_dp_2: 0.1\n",
      "Score: 0.8206551671028137\n",
      "\n",
      "Trial 02 summary\n",
      "Hyperparameters:\n",
      "units_lstm_1: 32\n",
      "rate_dp_1: 0.2\n",
      "units_lstm_2: 32\n",
      "units_dense: 16\n",
      "activation: tanh\n",
      "rate_dp_2: 0.2\n",
      "Score: 0.820099949836731\n",
      "\n",
      "Trial 03 summary\n",
      "Hyperparameters:\n",
      "units_lstm_1: 32\n",
      "rate_dp_1: 0.1\n",
      "units_lstm_2: 16\n",
      "units_dense: 64\n",
      "activation: tanh\n",
      "rate_dp_2: 0.1\n",
      "Score: 0.8195446729660034\n",
      "\n",
      "Trial 04 summary\n",
      "Hyperparameters:\n",
      "units_lstm_1: 64\n",
      "rate_dp_1: 0.0\n",
      "units_lstm_2: 64\n",
      "units_dense: 16\n",
      "activation: tanh\n",
      "rate_dp_2: 0.2\n",
      "Score: 0.8195446729660034\n",
      "\n",
      "Trial 06 summary\n",
      "Hyperparameters:\n",
      "units_lstm_1: 16\n",
      "rate_dp_1: 0.0\n",
      "units_lstm_2: 16\n",
      "units_dense: 32\n",
      "activation: tanh\n",
      "rate_dp_2: 0.2\n",
      "Score: 0.8184341788291931\n",
      "\n",
      "Trial 08 summary\n",
      "Hyperparameters:\n",
      "units_lstm_1: 64\n",
      "rate_dp_1: 0.2\n",
      "units_lstm_2: 32\n",
      "units_dense: 64\n",
      "activation: tanh\n",
      "rate_dp_2: 0.1\n",
      "Score: 0.8151026964187622\n"
     ]
    }
   ],
   "source": [
    "tuner.search(X_train, y_train, epochs=4000, validation_data=(X_val, y_val), callbacks=[es], batch_size=32, verbose=2)\n",
    "tuner.results_summary()"
   ],
   "metadata": {
    "collapsed": false
   }
  },
  {
   "cell_type": "code",
   "execution_count": 11,
   "outputs": [],
   "source": [
    "best_model_lstm_params = tuner.get_best_hyperparameters()[0].values"
   ],
   "metadata": {
    "collapsed": false,
    "ExecuteTime": {
     "end_time": "2023-06-27T12:45:51.880490200Z",
     "start_time": "2023-06-27T12:45:51.864862600Z"
    }
   }
  },
  {
   "cell_type": "markdown",
   "source": [
    "#### Declaring Best Model and Plotting Accuracy and Loss"
   ],
   "metadata": {
    "collapsed": false
   }
  },
  {
   "cell_type": "code",
   "execution_count": 12,
   "outputs": [
    {
     "name": "stdout",
     "output_type": "stream",
     "text": [
      "Model: \"sequential_1\"\n",
      "_________________________________________________________________\n",
      " Layer (type)                Output Shape              Param #   \n",
      "=================================================================\n",
      " embedding_1 (Embedding)     (None, 11, 300)           3123600   \n",
      "                                                                 \n",
      " lstm_2 (LSTM)               (None, 11, 64)            93440     \n",
      "                                                                 \n",
      " dropout_2 (Dropout)         (None, 11, 64)            0         \n",
      "                                                                 \n",
      " lstm_3 (LSTM)               (None, 64)                33024     \n",
      "                                                                 \n",
      " dense_2 (Dense)             (None, 64)                4160      \n",
      "                                                                 \n",
      " dense_3 (Dense)             (None, 4)                 260       \n",
      "                                                                 \n",
      "=================================================================\n",
      "Total params: 3,254,484\n",
      "Trainable params: 130,884\n",
      "Non-trainable params: 3,123,600\n",
      "_________________________________________________________________\n"
     ]
    }
   ],
   "source": [
    "best_model_lstm = Sequential([\n",
    "    Embedding(input_dim=len(word_index), output_dim= 300, input_length=X_train.shape[1], trainable=False, weights=[embeddings_on_this_context]),\n",
    "    LSTM(best_model_lstm_params['units_lstm_1'], return_sequences=True),\n",
    "    Dropout(best_model_lstm_params['rate_dp_1']),\n",
    "    # Bidirectional(LSTM(hp.Choice('units',[32,64]))),\n",
    "    LSTM(best_model_lstm_params['units_lstm_2']),\n",
    "    Dense(best_model_lstm_params['units_dense'], activation=best_model_lstm_params['activation']),\n",
    "    # Dropout(0.73),\n",
    "    Dense(4,  activation='softmax')\n",
    "])\n",
    "\n",
    "loss = 'sparse_categorical_crossentropy'\n",
    "#\n",
    "optimizer = 'adam'\n",
    "\n",
    "metrics = ['accuracy']\n",
    "\n",
    "best_model_lstm.compile(loss=loss, optimizer=optimizer, metrics=metrics)\n",
    "\n",
    "es = EarlyStopping(monitor='val_loss', mode='min', verbose=1, patience=10)\n",
    "\n",
    "best_model_lstm.summary()\n"
   ],
   "metadata": {
    "collapsed": false,
    "ExecuteTime": {
     "end_time": "2023-06-27T12:45:52.481623700Z",
     "start_time": "2023-06-27T12:45:51.880490200Z"
    }
   }
  },
  {
   "cell_type": "code",
   "execution_count": 13,
   "outputs": [
    {
     "name": "stdout",
     "output_type": "stream",
     "text": [
      "Epoch 1/4000\n",
      "451/451 - 8s - loss: 0.8684 - accuracy: 0.6591 - val_loss: 0.7334 - val_accuracy: 0.7279 - 8s/epoch - 18ms/step\n",
      "Epoch 2/4000\n",
      "451/451 - 4s - loss: 0.6784 - accuracy: 0.7447 - val_loss: 0.6930 - val_accuracy: 0.7346 - 4s/epoch - 9ms/step\n",
      "Epoch 3/4000\n",
      "451/451 - 4s - loss: 0.6139 - accuracy: 0.7710 - val_loss: 0.6219 - val_accuracy: 0.7735 - 4s/epoch - 9ms/step\n",
      "Epoch 4/4000\n",
      "451/451 - 4s - loss: 0.5734 - accuracy: 0.7884 - val_loss: 0.6120 - val_accuracy: 0.7773 - 4s/epoch - 9ms/step\n",
      "Epoch 5/4000\n",
      "451/451 - 4s - loss: 0.5520 - accuracy: 0.7983 - val_loss: 0.5946 - val_accuracy: 0.7846 - 4s/epoch - 9ms/step\n",
      "Epoch 6/4000\n",
      "451/451 - 4s - loss: 0.5316 - accuracy: 0.8053 - val_loss: 0.5854 - val_accuracy: 0.7829 - 4s/epoch - 9ms/step\n",
      "Epoch 7/4000\n",
      "451/451 - 4s - loss: 0.5154 - accuracy: 0.8103 - val_loss: 0.6041 - val_accuracy: 0.7868 - 4s/epoch - 9ms/step\n",
      "Epoch 8/4000\n",
      "451/451 - 4s - loss: 0.5026 - accuracy: 0.8171 - val_loss: 0.5576 - val_accuracy: 0.7968 - 4s/epoch - 9ms/step\n",
      "Epoch 9/4000\n",
      "451/451 - 4s - loss: 0.4889 - accuracy: 0.8237 - val_loss: 0.5606 - val_accuracy: 0.8046 - 4s/epoch - 9ms/step\n",
      "Epoch 10/4000\n",
      "451/451 - 4s - loss: 0.4817 - accuracy: 0.8241 - val_loss: 0.5512 - val_accuracy: 0.8090 - 4s/epoch - 9ms/step\n",
      "Epoch 11/4000\n",
      "451/451 - 4s - loss: 0.4681 - accuracy: 0.8305 - val_loss: 0.5494 - val_accuracy: 0.8101 - 4s/epoch - 9ms/step\n",
      "Epoch 12/4000\n",
      "451/451 - 4s - loss: 0.4586 - accuracy: 0.8325 - val_loss: 0.5432 - val_accuracy: 0.7984 - 4s/epoch - 9ms/step\n",
      "Epoch 13/4000\n",
      "451/451 - 4s - loss: 0.4424 - accuracy: 0.8388 - val_loss: 0.5359 - val_accuracy: 0.8101 - 4s/epoch - 9ms/step\n",
      "Epoch 14/4000\n",
      "451/451 - 4s - loss: 0.4355 - accuracy: 0.8405 - val_loss: 0.5280 - val_accuracy: 0.8168 - 4s/epoch - 9ms/step\n",
      "Epoch 15/4000\n",
      "451/451 - 4s - loss: 0.4230 - accuracy: 0.8461 - val_loss: 0.5200 - val_accuracy: 0.8179 - 4s/epoch - 9ms/step\n",
      "Epoch 16/4000\n",
      "451/451 - 4s - loss: 0.4142 - accuracy: 0.8495 - val_loss: 0.5429 - val_accuracy: 0.8007 - 4s/epoch - 9ms/step\n",
      "Epoch 17/4000\n",
      "451/451 - 4s - loss: 0.4036 - accuracy: 0.8524 - val_loss: 0.5365 - val_accuracy: 0.8101 - 4s/epoch - 9ms/step\n",
      "Epoch 18/4000\n",
      "451/451 - 4s - loss: 0.3938 - accuracy: 0.8550 - val_loss: 0.5319 - val_accuracy: 0.8179 - 4s/epoch - 9ms/step\n",
      "Epoch 19/4000\n",
      "451/451 - 4s - loss: 0.3815 - accuracy: 0.8610 - val_loss: 0.5403 - val_accuracy: 0.8251 - 4s/epoch - 9ms/step\n",
      "Epoch 20/4000\n",
      "451/451 - 4s - loss: 0.3706 - accuracy: 0.8653 - val_loss: 0.5432 - val_accuracy: 0.8168 - 4s/epoch - 9ms/step\n",
      "Epoch 21/4000\n",
      "451/451 - 4s - loss: 0.3580 - accuracy: 0.8690 - val_loss: 0.5657 - val_accuracy: 0.8162 - 4s/epoch - 9ms/step\n",
      "Epoch 22/4000\n",
      "451/451 - 4s - loss: 0.3509 - accuracy: 0.8729 - val_loss: 0.5517 - val_accuracy: 0.8118 - 4s/epoch - 9ms/step\n",
      "Epoch 23/4000\n",
      "451/451 - 4s - loss: 0.3338 - accuracy: 0.8802 - val_loss: 0.6175 - val_accuracy: 0.8046 - 4s/epoch - 9ms/step\n",
      "Epoch 24/4000\n",
      "451/451 - 4s - loss: 0.3260 - accuracy: 0.8827 - val_loss: 0.6239 - val_accuracy: 0.8073 - 4s/epoch - 9ms/step\n",
      "Epoch 25/4000\n",
      "451/451 - 4s - loss: 0.3127 - accuracy: 0.8855 - val_loss: 0.5982 - val_accuracy: 0.8112 - 4s/epoch - 9ms/step\n",
      "Epoch 25: early stopping\n"
     ]
    }
   ],
   "source": [
    "history = best_model_lstm.fit(X_train, y_train, epochs=4000, batch_size=32, validation_data=(X_val, y_val), verbose=2,\n",
    "                              callbacks=[es])"
   ],
   "metadata": {
    "collapsed": false,
    "ExecuteTime": {
     "end_time": "2023-06-27T12:47:37.843678Z",
     "start_time": "2023-06-27T12:45:52.443863Z"
    }
   }
  },
  {
   "cell_type": "code",
   "execution_count": 14,
   "outputs": [
    {
     "data": {
      "text/plain": "<Figure size 1500x500 with 2 Axes>",
      "image/png": "[encoded data removed]"
     },
     "metadata": {},
     "output_type": "display_data"
    }
   ],
   "source": [
    "fig, (ax1, ax2) = plt.subplots(1, 2, figsize=(15, 5))\n",
    "ax1.plot(history.history['accuracy'])\n",
    "ax1.plot(history.history['val_accuracy'])\n",
    "ax1.set_title('Model Accuracy')\n",
    "ax1.set_ylabel('Accuracy')\n",
    "ax1.set_xlabel('Epoch')\n",
    "ax1.legend(['Train', 'Validation'], loc='upper left')\n",
    "\n",
    "ax2.plot(history.history['loss'])\n",
    "ax2.plot(history.history['val_loss'])\n",
    "ax2.set_title('Model Loss')\n",
    "ax2.set_ylabel('Loss')\n",
    "ax2.set_xlabel('Epoch')\n",
    "ax2.legend(['Train', 'Validation'], loc='upper left')\n",
    "plt.show()"
   ],
   "metadata": {
    "collapsed": false,
    "ExecuteTime": {
     "end_time": "2023-06-27T12:47:38.745644800Z",
     "start_time": "2023-06-27T12:47:37.843678Z"
    }
   }
  },
  {
   "cell_type": "markdown",
   "source": [
    "### BiLSTM"
   ],
   "metadata": {
    "collapsed": false
   }
  },
  {
   "cell_type": "markdown",
   "source": [
    "#### Tuning"
   ],
   "metadata": {
    "collapsed": false
   }
  },
  {
   "cell_type": "code",
   "execution_count": 15,
   "outputs": [],
   "source": [
    "def build_model(hp):\n",
    "    model = Sequential([\n",
    "        Embedding(input_dim=len(word_index), output_dim= 300, input_length=X_train.shape[1], trainable=False, weights=[embeddings_on_this_context]),\n",
    "        Bidirectional(LSTM(hp.Choice('units_bilstm_1', [16, 32, 64]), return_sequences=True)),\n",
    "        Dropout(hp.Float('rate_dp_1', 0, 0.3, step=0.1)),\n",
    "        Bidirectional(LSTM(hp.Choice('units_bilstm_2', [16, 32, 64]))),\n",
    "        Dense(hp.Choice('units_dense', [16, 32, 64]), hp.Choice('activation', ['tanh'])),\n",
    "        Dropout(hp.Float('rate_dp_2', 0, 0.3, step=0.1)),\n",
    "        Dense(4,  activation='softmax')\n",
    "    ])\n",
    "    loss = 'sparse_categorical_crossentropy'\n",
    "    # optimizer = 'adam')\n",
    "    metrics = ['accuracy']\n",
    "\n",
    "    optimizer = 'adam'\n",
    "\n",
    "    # metrics = ['accuracy', Precision(), Recall()]\n",
    "\n",
    "    model.compile(loss=loss, optimizer=optimizer, metrics=metrics)\n",
    "    return model\n",
    "\n",
    "\n",
    "es = EarlyStopping(monitor='val_loss', mode='min', verbose=1, patience=10)"
   ],
   "metadata": {
    "collapsed": false,
    "ExecuteTime": {
     "end_time": "2023-06-27T12:47:38.899102300Z",
     "start_time": "2023-06-27T12:47:38.745644800Z"
    }
   }
  },
  {
   "cell_type": "code",
   "execution_count": 16,
   "outputs": [
    {
     "name": "stdout",
     "output_type": "stream",
     "text": [
      "Search space summary\n",
      "Default search space size: 6\n",
      "units_bilstm_1 (Choice)\n",
      "{'default': 16, 'conditions': [], 'values': [16, 32, 64], 'ordered': True}\n",
      "rate_dp_1 (Float)\n",
      "{'default': 0.0, 'conditions': [], 'min_value': 0.0, 'max_value': 0.3, 'step': 0.1, 'sampling': 'linear'}\n",
      "units_bilstm_2 (Choice)\n",
      "{'default': 16, 'conditions': [], 'values': [16, 32, 64], 'ordered': True}\n",
      "units_dense (Choice)\n",
      "{'default': 16, 'conditions': [], 'values': [16, 32, 64], 'ordered': True}\n",
      "activation (Choice)\n",
      "{'default': 'tanh', 'conditions': [], 'values': ['tanh'], 'ordered': False}\n",
      "rate_dp_2 (Float)\n",
      "{'default': 0.0, 'conditions': [], 'min_value': 0.0, 'max_value': 0.3, 'step': 0.1, 'sampling': 'linear'}\n"
     ]
    }
   ],
   "source": [
    "# amanha testar dropout 0.0, 0.1, 0.2\n",
    "tuner = kt.RandomSearch(\n",
    "    build_model,\n",
    "    objective='val_accuracy',\n",
    "    max_trials=10,\n",
    "    executions_per_trial=1,\n",
    "    directory='../../assets/deep_assets',\n",
    "    overwrite=True,\n",
    "    project_name='bilstm_tuning')\n",
    "\n",
    "tuner.search_space_summary()"
   ],
   "metadata": {
    "collapsed": false,
    "ExecuteTime": {
     "end_time": "2023-06-27T12:47:39.878022400Z",
     "start_time": "2023-06-27T12:47:38.774208900Z"
    }
   }
  },
  {
   "cell_type": "code",
   "execution_count": 17,
   "outputs": [
    {
     "name": "stdout",
     "output_type": "stream",
     "text": [
      "Trial 10 Complete [00h 03m 19s]\n",
      "val_accuracy: 0.8212104439735413\n",
      "\n",
      "Best val_accuracy So Far: 0.8262076377868652\n",
      "Total elapsed time: 00h 25m 45s\n",
      "INFO:tensorflow:Oracle triggered exit\n",
      "Results summary\n",
      "Results in ../../assets/deep_assets\\bilstm_tuning\n",
      "Showing 10 best trials\n",
      "Objective(name=\"val_accuracy\", direction=\"max\")\n",
      "\n",
      "Trial 00 summary\n",
      "Hyperparameters:\n",
      "units_bilstm_1: 16\n",
      "rate_dp_1: 0.2\n",
      "units_bilstm_2: 64\n",
      "units_dense: 64\n",
      "activation: tanh\n",
      "rate_dp_2: 0.0\n",
      "Score: 0.8262076377868652\n",
      "\n",
      "Trial 05 summary\n",
      "Hyperparameters:\n",
      "units_bilstm_1: 32\n",
      "rate_dp_1: 0.1\n",
      "units_bilstm_2: 32\n",
      "units_dense: 32\n",
      "activation: tanh\n",
      "rate_dp_2: 0.1\n",
      "Score: 0.8250971436500549\n",
      "\n",
      "Trial 06 summary\n",
      "Hyperparameters:\n",
      "units_bilstm_1: 32\n",
      "rate_dp_1: 0.0\n",
      "units_bilstm_2: 16\n",
      "units_dense: 16\n",
      "activation: tanh\n",
      "rate_dp_2: 0.2\n",
      "Score: 0.8250971436500549\n",
      "\n",
      "Trial 01 summary\n",
      "Hyperparameters:\n",
      "units_bilstm_1: 64\n",
      "rate_dp_1: 0.2\n",
      "units_bilstm_2: 16\n",
      "units_dense: 64\n",
      "activation: tanh\n",
      "rate_dp_2: 0.2\n",
      "Score: 0.8228761553764343\n",
      "\n",
      "Trial 03 summary\n",
      "Hyperparameters:\n",
      "units_bilstm_1: 16\n",
      "rate_dp_1: 0.1\n",
      "units_bilstm_2: 32\n",
      "units_dense: 16\n",
      "activation: tanh\n",
      "rate_dp_2: 0.1\n",
      "Score: 0.8212104439735413\n",
      "\n",
      "Trial 09 summary\n",
      "Hyperparameters:\n",
      "units_bilstm_1: 64\n",
      "rate_dp_1: 0.1\n",
      "units_bilstm_2: 16\n",
      "units_dense: 32\n",
      "activation: tanh\n",
      "rate_dp_2: 0.2\n",
      "Score: 0.8212104439735413\n",
      "\n",
      "Trial 07 summary\n",
      "Hyperparameters:\n",
      "units_bilstm_1: 16\n",
      "rate_dp_1: 0.2\n",
      "units_bilstm_2: 64\n",
      "units_dense: 32\n",
      "activation: tanh\n",
      "rate_dp_2: 0.0\n",
      "Score: 0.820099949836731\n",
      "\n",
      "Trial 02 summary\n",
      "Hyperparameters:\n",
      "units_bilstm_1: 16\n",
      "rate_dp_1: 0.0\n",
      "units_bilstm_2: 32\n",
      "units_dense: 64\n",
      "activation: tanh\n",
      "rate_dp_2: 0.1\n",
      "Score: 0.8195446729660034\n",
      "\n",
      "Trial 04 summary\n",
      "Hyperparameters:\n",
      "units_bilstm_1: 64\n",
      "rate_dp_1: 0.2\n",
      "units_bilstm_2: 16\n",
      "units_dense: 64\n",
      "activation: tanh\n",
      "rate_dp_2: 0.1\n",
      "Score: 0.8178789615631104\n",
      "\n",
      "Trial 08 summary\n",
      "Hyperparameters:\n",
      "units_bilstm_1: 16\n",
      "rate_dp_1: 0.0\n",
      "units_bilstm_2: 32\n",
      "units_dense: 32\n",
      "activation: tanh\n",
      "rate_dp_2: 0.1\n",
      "Score: 0.8139922022819519\n"
     ]
    }
   ],
   "source": [
    "tuner.search(X_train, y_train, epochs=4000, validation_data=(X_val, y_val), callbacks=[es], batch_size=32, verbose=2)\n",
    "tuner.results_summary()\n"
   ],
   "metadata": {
    "collapsed": false
   }
  },
  {
   "cell_type": "code",
   "execution_count": 18,
   "outputs": [],
   "source": [
    "best_model_bilstm_params = tuner.get_best_hyperparameters()[0].values"
   ],
   "metadata": {
    "collapsed": false,
    "ExecuteTime": {
     "end_time": "2023-06-27T13:13:25.132772500Z",
     "start_time": "2023-06-27T13:13:25.117012Z"
    }
   }
  },
  {
   "cell_type": "markdown",
   "source": [
    "#### Declaring Best Model and Plotting Accuracy and Loss"
   ],
   "metadata": {
    "collapsed": false
   }
  },
  {
   "cell_type": "code",
   "execution_count": 19,
   "outputs": [
    {
     "name": "stdout",
     "output_type": "stream",
     "text": [
      "Model: \"sequential_1\"\n",
      "_________________________________________________________________\n",
      " Layer (type)                Output Shape              Param #   \n",
      "=================================================================\n",
      " embedding_1 (Embedding)     (None, 11, 300)           3123600   \n",
      "                                                                 \n",
      " bidirectional_2 (Bidirectio  (None, 11, 32)           40576     \n",
      " nal)                                                            \n",
      "                                                                 \n",
      " dropout_2 (Dropout)         (None, 11, 32)            0         \n",
      "                                                                 \n",
      " bidirectional_3 (Bidirectio  (None, 128)              49664     \n",
      " nal)                                                            \n",
      "                                                                 \n",
      " dense_2 (Dense)             (None, 64)                8256      \n",
      "                                                                 \n",
      " dense_3 (Dense)             (None, 4)                 260       \n",
      "                                                                 \n",
      "=================================================================\n",
      "Total params: 3,222,356\n",
      "Trainable params: 98,756\n",
      "Non-trainable params: 3,123,600\n",
      "_________________________________________________________________\n"
     ]
    }
   ],
   "source": [
    "# trainable=False,\n",
    "# weights=[embeddings_on_this_context]),\n",
    "best_model_bilstm = Sequential([\n",
    "    Embedding(input_dim=len(word_index), output_dim= 300, input_length=X_train.shape[1], trainable=False, weights=[embeddings_on_this_context]),\n",
    "    Bidirectional(LSTM(best_model_bilstm_params['units_bilstm_1'], return_sequences=True)),\n",
    "    Dropout(best_model_bilstm_params['rate_dp_1']),\n",
    "    # Bidirectional(LSTM(hp.Choice('units',[32,64]))),\n",
    "    Bidirectional(LSTM(best_model_bilstm_params['units_bilstm_2'])),\n",
    "    Dense(best_model_bilstm_params['units_dense'], activation=best_model_bilstm_params['activation']),\n",
    "    # Dropout(0.73),\n",
    "    Dense(4,  activation='softmax')\n",
    "])\n",
    "\n",
    "loss = 'sparse_categorical_crossentropy'\n",
    "\n",
    "metrics = ['accuracy']\n",
    "\n",
    "optimizer = 'adam'\n",
    "\n",
    "best_model_bilstm.compile(loss=loss, optimizer=optimizer, metrics=metrics)\n",
    "\n",
    "es = EarlyStopping(monitor='val_loss', mode='min', verbose=1, patience=10)\n",
    "\n",
    "best_model_bilstm.summary()\n"
   ],
   "metadata": {
    "collapsed": false,
    "ExecuteTime": {
     "end_time": "2023-06-27T13:13:26.188305800Z",
     "start_time": "2023-06-27T13:13:25.132772500Z"
    }
   }
  },
  {
   "cell_type": "code",
   "execution_count": 20,
   "outputs": [
    {
     "name": "stdout",
     "output_type": "stream",
     "text": [
      "Epoch 1/4000\n",
      "451/451 - 13s - loss: 0.8869 - accuracy: 0.6508 - val_loss: 0.7624 - val_accuracy: 0.7085 - 13s/epoch - 28ms/step\n",
      "Epoch 2/4000\n",
      "451/451 - 5s - loss: 0.6956 - accuracy: 0.7405 - val_loss: 0.6931 - val_accuracy: 0.7390 - 5s/epoch - 11ms/step\n",
      "Epoch 3/4000\n",
      "451/451 - 5s - loss: 0.6338 - accuracy: 0.7658 - val_loss: 0.6541 - val_accuracy: 0.7485 - 5s/epoch - 11ms/step\n",
      "Epoch 4/4000\n",
      "451/451 - 5s - loss: 0.5890 - accuracy: 0.7849 - val_loss: 0.6161 - val_accuracy: 0.7790 - 5s/epoch - 11ms/step\n",
      "Epoch 5/4000\n",
      "451/451 - 5s - loss: 0.5572 - accuracy: 0.7972 - val_loss: 0.5725 - val_accuracy: 0.7934 - 5s/epoch - 11ms/step\n",
      "Epoch 6/4000\n",
      "451/451 - 5s - loss: 0.5420 - accuracy: 0.8040 - val_loss: 0.5731 - val_accuracy: 0.7907 - 5s/epoch - 11ms/step\n",
      "Epoch 7/4000\n",
      "451/451 - 5s - loss: 0.5261 - accuracy: 0.8089 - val_loss: 0.5553 - val_accuracy: 0.7951 - 5s/epoch - 11ms/step\n",
      "Epoch 8/4000\n",
      "451/451 - 5s - loss: 0.5108 - accuracy: 0.8133 - val_loss: 0.5504 - val_accuracy: 0.8084 - 5s/epoch - 11ms/step\n",
      "Epoch 9/4000\n",
      "451/451 - 5s - loss: 0.5041 - accuracy: 0.8177 - val_loss: 0.5367 - val_accuracy: 0.8068 - 5s/epoch - 11ms/step\n",
      "Epoch 10/4000\n",
      "451/451 - 5s - loss: 0.4926 - accuracy: 0.8205 - val_loss: 0.5417 - val_accuracy: 0.8040 - 5s/epoch - 11ms/step\n",
      "Epoch 11/4000\n",
      "451/451 - 5s - loss: 0.4817 - accuracy: 0.8266 - val_loss: 0.5353 - val_accuracy: 0.8123 - 5s/epoch - 11ms/step\n",
      "Epoch 12/4000\n",
      "451/451 - 5s - loss: 0.4751 - accuracy: 0.8253 - val_loss: 0.5213 - val_accuracy: 0.8090 - 5s/epoch - 11ms/step\n",
      "Epoch 13/4000\n",
      "451/451 - 5s - loss: 0.4648 - accuracy: 0.8337 - val_loss: 0.5275 - val_accuracy: 0.8168 - 5s/epoch - 11ms/step\n",
      "Epoch 14/4000\n",
      "451/451 - 5s - loss: 0.4588 - accuracy: 0.8350 - val_loss: 0.5454 - val_accuracy: 0.8140 - 5s/epoch - 11ms/step\n",
      "Epoch 15/4000\n",
      "451/451 - 5s - loss: 0.4487 - accuracy: 0.8379 - val_loss: 0.5086 - val_accuracy: 0.8273 - 5s/epoch - 11ms/step\n",
      "Epoch 16/4000\n",
      "451/451 - 5s - loss: 0.4409 - accuracy: 0.8408 - val_loss: 0.5199 - val_accuracy: 0.8190 - 5s/epoch - 11ms/step\n",
      "Epoch 17/4000\n",
      "451/451 - 5s - loss: 0.4367 - accuracy: 0.8416 - val_loss: 0.5217 - val_accuracy: 0.8268 - 5s/epoch - 11ms/step\n",
      "Epoch 18/4000\n",
      "451/451 - 5s - loss: 0.4258 - accuracy: 0.8445 - val_loss: 0.5211 - val_accuracy: 0.8162 - 5s/epoch - 11ms/step\n",
      "Epoch 19/4000\n",
      "451/451 - 5s - loss: 0.4207 - accuracy: 0.8502 - val_loss: 0.5150 - val_accuracy: 0.8257 - 5s/epoch - 11ms/step\n",
      "Epoch 20/4000\n",
      "451/451 - 5s - loss: 0.4139 - accuracy: 0.8506 - val_loss: 0.5377 - val_accuracy: 0.8218 - 5s/epoch - 11ms/step\n",
      "Epoch 21/4000\n",
      "451/451 - 5s - loss: 0.4072 - accuracy: 0.8520 - val_loss: 0.5261 - val_accuracy: 0.8190 - 5s/epoch - 11ms/step\n",
      "Epoch 22/4000\n",
      "451/451 - 5s - loss: 0.4006 - accuracy: 0.8541 - val_loss: 0.5184 - val_accuracy: 0.8251 - 5s/epoch - 11ms/step\n",
      "Epoch 23/4000\n",
      "451/451 - 5s - loss: 0.3875 - accuracy: 0.8594 - val_loss: 0.5337 - val_accuracy: 0.8240 - 5s/epoch - 11ms/step\n",
      "Epoch 24/4000\n",
      "451/451 - 5s - loss: 0.3831 - accuracy: 0.8607 - val_loss: 0.5242 - val_accuracy: 0.8290 - 5s/epoch - 11ms/step\n",
      "Epoch 25/4000\n",
      "451/451 - 5s - loss: 0.3775 - accuracy: 0.8621 - val_loss: 0.5234 - val_accuracy: 0.8212 - 5s/epoch - 11ms/step\n",
      "Epoch 25: early stopping\n"
     ]
    }
   ],
   "source": [
    "history = best_model_bilstm.fit(X_train, y_train, epochs=4000, batch_size=32, validation_data=(X_val, y_val), verbose=2,\n",
    "                                callbacks=[es])"
   ],
   "metadata": {
    "collapsed": false,
    "ExecuteTime": {
     "end_time": "2023-06-27T13:15:35.397690Z",
     "start_time": "2023-06-27T13:13:26.151032800Z"
    }
   }
  },
  {
   "cell_type": "code",
   "execution_count": 21,
   "outputs": [
    {
     "data": {
      "text/plain": "<Figure size 1500x500 with 2 Axes>",
      "image/png": "[encoded data removed]"
     },
     "metadata": {},
     "output_type": "display_data"
    }
   ],
   "source": [
    "fig, (ax1, ax2) = plt.subplots(1, 2, figsize=(15, 5))\n",
    "ax1.plot(history.history['accuracy'])\n",
    "ax1.plot(history.history['val_accuracy'])\n",
    "ax1.set_title('Model Accuracy')\n",
    "ax1.set_ylabel('Accuracy')\n",
    "ax1.set_xlabel('Epoch')\n",
    "ax1.legend(['Train', 'Validation'], loc='upper left')\n",
    "\n",
    "ax2.plot(history.history['loss'])\n",
    "ax2.plot(history.history['val_loss'])\n",
    "ax2.set_title('Model Loss')\n",
    "ax2.set_ylabel('Loss')\n",
    "ax2.set_xlabel('Epoch')\n",
    "ax2.legend(['Train', 'Validation'], loc='upper left')\n",
    "plt.show()"
   ],
   "metadata": {
    "collapsed": false,
    "ExecuteTime": {
     "end_time": "2023-06-27T13:15:54.796274700Z",
     "start_time": "2023-06-27T13:15:35.397690Z"
    }
   }
  },
  {
   "cell_type": "markdown",
   "source": [
    "## Exporting model"
   ],
   "metadata": {
    "collapsed": false
   }
  },
  {
   "cell_type": "code",
   "execution_count": 22,
   "outputs": [
    {
     "name": "stderr",
     "output_type": "stream",
     "text": [
      "WARNING:absl:Found untraced functions such as _update_step_xla, lstm_cell_2_layer_call_fn, lstm_cell_2_layer_call_and_return_conditional_losses, lstm_cell_3_layer_call_fn, lstm_cell_3_layer_call_and_return_conditional_losses while saving (showing 5 of 5). These functions will not be directly callable after loading.\n"
     ]
    },
    {
     "name": "stdout",
     "output_type": "stream",
     "text": [
      "INFO:tensorflow:Assets written to: ../../assets/deep_assets/lstm_model\\assets\n"
     ]
    },
    {
     "name": "stderr",
     "output_type": "stream",
     "text": [
      "INFO:tensorflow:Assets written to: ../../assets/deep_assets/lstm_model\\assets\n",
      "WARNING:absl:Found untraced functions such as _update_step_xla, lstm_cell_7_layer_call_fn, lstm_cell_7_layer_call_and_return_conditional_losses, lstm_cell_8_layer_call_fn, lstm_cell_8_layer_call_and_return_conditional_losses while saving (showing 5 of 9). These functions will not be directly callable after loading.\n"
     ]
    },
    {
     "name": "stdout",
     "output_type": "stream",
     "text": [
      "INFO:tensorflow:Assets written to: ../../assets/deep_assets/bilstm_model\\assets\n"
     ]
    },
    {
     "name": "stderr",
     "output_type": "stream",
     "text": [
      "INFO:tensorflow:Assets written to: ../../assets/deep_assets/bilstm_model\\assets\n"
     ]
    }
   ],
   "source": [
    "best_model_lstm.save('../../assets/deep_assets/lstm_model')\n",
    "best_model_bilstm.save('../../assets/deep_assets/bilstm_model')"
   ],
   "metadata": {
    "collapsed": false,
    "ExecuteTime": {
     "end_time": "2023-06-27T13:16:25.837598300Z",
     "start_time": "2023-06-27T13:15:54.796274700Z"
    }
   }
  }
 ],
 "metadata": {
  "kernelspec": {
   "display_name": "Python 3",
   "language": "python",
   "name": "python3"
  },
  "language_info": {
   "codemirror_mode": {
    "name": "ipython",
    "version": 2
   },
   "file_extension": ".py",
   "mimetype": "text/x-python",
   "name": "python",
   "nbconvert_exporter": "python",
   "pygments_lexer": "ipython2",
   "version": "2.7.6"
  }
 },
 "nbformat": 4,
 "nbformat_minor": 0
}
