{
 "cells": [
  {
   "cell_type": "markdown",
   "source": [
    "## Packages and Assets"
   ],
   "metadata": {
    "collapsed": false
   }
  },
  {
   "cell_type": "code",
   "execution_count": 12,
   "outputs": [],
   "source": [
    "import pandas as pd\n",
    "from sklearn.model_selection import train_test_split\n",
    "from keras.preprocessing.text import Tokenizer\n",
    "from keras.utils import pad_sequences\n",
    "from gensim.models import Word2Vec\n",
    "import numpy as np\n",
    "import json"
   ],
   "metadata": {
    "collapsed": false,
    "ExecuteTime": {
     "end_time": "2023-05-22T00:02:39.288512400Z",
     "start_time": "2023-05-22T00:02:39.185571800Z"
    }
   }
  },
  {
   "cell_type": "code",
   "execution_count": 13,
   "outputs": [],
   "source": [
    "df_train_preprocessed = pd.read_csv('../../assets/data/splits/train/preprocessed.csv')\n",
    "\n",
    "df_val_preprocessed = pd.read_csv('../../assets/data/splits/val/preprocessed.csv')"
   ],
   "metadata": {
    "collapsed": false,
    "ExecuteTime": {
     "end_time": "2023-05-22T00:02:39.372463500Z",
     "start_time": "2023-05-22T00:02:39.193568200Z"
    }
   }
  },
  {
   "cell_type": "markdown",
   "source": [
    "## Functions"
   ],
   "metadata": {
    "collapsed": false
   }
  },
  {
   "cell_type": "code",
   "execution_count": 14,
   "outputs": [],
   "source": [
    "def createVocabulary(corpus):\n",
    "    \"\"\"\n",
    "    - Cria vocab (palavra e sua respectiva frequência no corpus)\n",
    "    - Cria tokens (palavras do corpus)\n",
    "\n",
    "    :param corpus: lista de string\n",
    "    :return vocab, tokens, vocab_size:\n",
    "    \"\"\"\n",
    "    tokens = []  # {'deeds', 'old', ...} 71666\n",
    "    vocab = {}  # {'deeds': 2, 'old': 20', ...} 17971\n",
    "    for text in corpus:\n",
    "        for token in text.split():\n",
    "            tokens.append(token)\n",
    "            if token in vocab:\n",
    "                vocab[token] += 1\n",
    "            else:\n",
    "                vocab[token] = 1\n",
    "    vocab_size = len(vocab)\n",
    "    return tokens, vocab, vocab_size"
   ],
   "metadata": {
    "collapsed": false,
    "ExecuteTime": {
     "end_time": "2023-05-22T00:02:39.372463500Z",
     "start_time": "2023-05-22T00:02:39.299506300Z"
    }
   }
  },
  {
   "cell_type": "code",
   "execution_count": 15,
   "outputs": [],
   "source": [
    "def findMaxLen(sequence):\n",
    "    max_len = 0\n",
    "    for text in sequence:\n",
    "        if len(text) > max_len:\n",
    "            max_len = len(text)\n",
    "    return max_len\n",
    "\n",
    "def findAverageLen(sequence):\n",
    "    total_len = 0\n",
    "    for text in sequence:\n",
    "        total_len += len(text)\n",
    "    return total_len / len(sequence)"
   ],
   "metadata": {
    "collapsed": false,
    "ExecuteTime": {
     "end_time": "2023-05-22T00:02:39.373463800Z",
     "start_time": "2023-05-22T00:02:39.314497500Z"
    }
   }
  },
  {
   "cell_type": "markdown",
   "source": [
    "## Separating each split into features (X) and target (y)"
   ],
   "metadata": {
    "collapsed": false
   }
  },
  {
   "cell_type": "code",
   "execution_count": 16,
   "outputs": [],
   "source": [
    "X_train = df_train_preprocessed.title\n",
    "y_train = df_train_preprocessed.label\n",
    "\n",
    "X_val = df_val_preprocessed.title\n",
    "y_val = df_val_preprocessed.label\n"
   ],
   "metadata": {
    "collapsed": false,
    "ExecuteTime": {
     "end_time": "2023-05-22T00:02:39.373463800Z",
     "start_time": "2023-05-22T00:02:39.332488700Z"
    }
   }
  },
  {
   "cell_type": "markdown",
   "source": [
    "## Generating tokens and vocabulary"
   ],
   "metadata": {
    "collapsed": false
   }
  },
  {
   "cell_type": "code",
   "execution_count": 17,
   "outputs": [
    {
     "data": {
      "text/plain": "10402"
     },
     "execution_count": 17,
     "metadata": {},
     "output_type": "execute_result"
    }
   ],
   "source": [
    "tokens, vocab, vocab_size = createVocabulary(X_train)\n",
    "len(vocab)"
   ],
   "metadata": {
    "collapsed": false,
    "ExecuteTime": {
     "end_time": "2023-05-22T00:02:39.459413800Z",
     "start_time": "2023-05-22T00:02:39.347479500Z"
    }
   }
  },
  {
   "cell_type": "markdown",
   "source": [
    "## Numericalization"
   ],
   "metadata": {
    "collapsed": false
   }
  },
  {
   "cell_type": "code",
   "execution_count": 18,
   "outputs": [],
   "source": [
    "tokenizer = Tokenizer(num_words=vocab_size, oov_token='<OOV>')\n",
    "tokenizer.fit_on_texts(X_train)\n",
    "word_index = tokenizer.word_index\n",
    "train_sequences = tokenizer.texts_to_sequences(X_train)\n",
    "val_sequences = tokenizer.texts_to_sequences(X_val)"
   ],
   "metadata": {
    "collapsed": false,
    "ExecuteTime": {
     "end_time": "2023-05-22T00:02:40.111281500Z",
     "start_time": "2023-05-22T00:02:39.461412100Z"
    }
   }
  },
  {
   "cell_type": "markdown",
   "source": [
    "## Padding"
   ],
   "metadata": {
    "collapsed": false
   }
  },
  {
   "cell_type": "code",
   "execution_count": 19,
   "outputs": [],
   "source": [
    "max_len = findMaxLen(train_sequences)\n",
    "max_len = int(max_len/2)"
   ],
   "metadata": {
    "collapsed": false,
    "ExecuteTime": {
     "end_time": "2023-05-22T00:02:40.127444900Z",
     "start_time": "2023-05-22T00:02:40.112281Z"
    }
   }
  },
  {
   "cell_type": "code",
   "execution_count": 20,
   "outputs": [],
   "source": [
    "train_padded = pad_sequences(train_sequences, maxlen=max_len, padding='post', truncating='post')\n",
    "val_padded = pad_sequences(val_sequences, maxlen=max_len, padding='post', truncating='post')\n",
    "train_padded = np.insert(train_padded, 11, y_train, 1)\n",
    "val_padded = np.insert(val_padded, 11, y_val, 1)"
   ],
   "metadata": {
    "collapsed": false,
    "ExecuteTime": {
     "end_time": "2023-05-22T00:02:40.188518700Z",
     "start_time": "2023-05-22T00:02:40.127444900Z"
    }
   }
  },
  {
   "cell_type": "markdown",
   "source": [
    "## Exports"
   ],
   "metadata": {
    "collapsed": false
   }
  },
  {
   "cell_type": "code",
   "execution_count": 21,
   "outputs": [],
   "source": [
    "# Convert the tokenizer to a dictionary\n",
    "tokenizer_json = tokenizer.to_json()\n",
    "\n",
    "# Save the tokenizer to a file\n",
    "with open('../../assets/deep_assets/tokenizer.json', 'w', encoding='utf-8') as f:\n",
    "    f.write(tokenizer_json)\n"
   ],
   "metadata": {
    "collapsed": false,
    "ExecuteTime": {
     "end_time": "2023-05-22T00:02:40.236474500Z",
     "start_time": "2023-05-22T00:02:40.192517Z"
    }
   }
  },
  {
   "cell_type": "code",
   "execution_count": 23,
   "outputs": [],
   "source": [
    "pd.DataFrame(train_padded).to_csv('../../assets/data/splits/train/padded.csv', index=False)\n",
    "pd.DataFrame(val_padded).to_csv('../../assets/data/splits/val/padded.csv', index=False)"
   ],
   "metadata": {
    "collapsed": false,
    "ExecuteTime": {
     "end_time": "2023-05-22T00:04:30.604288300Z",
     "start_time": "2023-05-22T00:04:30.533164800Z"
    }
   }
  }
 ],
 "metadata": {
  "kernelspec": {
   "display_name": "Python 3",
   "language": "python",
   "name": "python3"
  },
  "language_info": {
   "codemirror_mode": {
    "name": "ipython",
    "version": 2
   },
   "file_extension": ".py",
   "mimetype": "text/x-python",
   "name": "python",
   "nbconvert_exporter": "python",
   "pygments_lexer": "ipython2",
   "version": "2.7.6"
  }
 },
 "nbformat": 4,
 "nbformat_minor": 0
}
