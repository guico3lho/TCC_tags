{
 "cells": [
  {
   "cell_type": "markdown",
   "source": [
    "## Packages and Assets"
   ],
   "metadata": {
    "collapsed": false
   }
  },
  {
   "cell_type": "code",
   "execution_count": 43,
   "outputs": [],
   "source": [
    "from gensim.models import Word2Vec\n",
    "import json\n",
    "import numpy as np\n",
    "import pandas as pd\n",
    "from keras.callbacks import EarlyStopping\n",
    "import seaborn as sns\n",
    "import keras_tuner as kt\n",
    "from keras.optimizers import SGD\n",
    "\n",
    "from keras.models import Sequential\n",
    "from keras.layers import Embedding, LSTM, Dense, Dropout, Bidirectional\n",
    "import matplotlib.pyplot as plt\n",
    "from keras.metrics import Accuracy, Precision, Recall\n",
    "from keras.preprocessing.text import tokenizer_from_json\n",
    "import os, sys\n",
    "\n",
    "\n",
    "import keras.backend as K"
   ],
   "metadata": {
    "collapsed": false,
    "ExecuteTime": {
     "end_time": "2023-05-22T00:39:05.190767Z",
     "start_time": "2023-05-22T00:39:05.166716700Z"
    }
   }
  },
  {
   "cell_type": "code",
   "execution_count": 2,
   "outputs": [
    {
     "name": "stdout",
     "output_type": "stream",
     "text": [
      "C:\\Users\\Guilherme\\.conda\\envs\\nlp2\\python.exe\n",
      "C:\\Users\\Guilherme\\Documents\\Programming\\Python\\DataScience\\TCC\\pipeline\\supervised_deep_models\n"
     ]
    }
   ],
   "source": [
    "print(sys.executable)\n",
    "print(os.getcwd())"
   ],
   "metadata": {
    "collapsed": false
   }
  },
  {
   "cell_type": "markdown",
   "source": [
    "## Dependencies"
   ],
   "metadata": {
    "collapsed": false
   }
  },
  {
   "cell_type": "code",
   "execution_count": 3,
   "outputs": [],
   "source": [
    "with open('../../assets/deep_assets/tokenizer.json', 'r', encoding='utf-8') as f:\n",
    "    tokenizer_json = f.read()\n",
    "    tokenizer = tokenizer_from_json(tokenizer_json)\n",
    "    word_index = tokenizer.word_index\n",
    "\n"
   ],
   "metadata": {
    "collapsed": false
   }
  },
  {
   "cell_type": "code",
   "execution_count": 4,
   "outputs": [
    {
     "name": "stdout",
     "output_type": "stream",
     "text": [
      "[('itub4', 0.990408718585968), ('banco', 0.9718618392944336), ('bradesco', 0.9700526595115662), ('bbas3', 0.9663271307945251), ('bbdc4', 0.9616492986679077), ('santander', 0.9615459442138672), ('xpbr31', 0.9500864148139954), ('unibanco', 0.9492729902267456), ('pagar', 0.9354850649833679), ('valioso', 0.9320330619812012)]\n"
     ]
    }
   ],
   "source": [
    "model_we = Word2Vec.load('../../assets/deep_assets/word2vec.model')\n",
    "\n",
    "print(model_we.wv.most_similar('itau'))\n",
    "\n",
    "# List of nparrays of size 300\n",
    "embeddings_dict = {}\n",
    "for word in model_we.wv.index_to_key:\n",
    "    embeddings_dict[word] = model_we.wv[word]\n",
    "\n",
    "embeddings_on_this_context = np.zeros((len(word_index), 300))\n",
    "for word, i in word_index.items():\n",
    "    embeddings_vector = embeddings_dict.get(word)\n",
    "    if embeddings_vector is not None:\n",
    "        embeddings_on_this_context[i - 1] = embeddings_vector\n"
   ],
   "metadata": {
    "collapsed": false
   }
  },
  {
   "cell_type": "code",
   "execution_count": 20,
   "outputs": [],
   "source": [
    "train = pd.read_csv('../../assets/data/splits/train/padded.csv')\n",
    "val = pd.read_csv('../../assets/data/splits/val/padded.csv')"
   ],
   "metadata": {
    "collapsed": false,
    "ExecuteTime": {
     "end_time": "2023-05-22T00:22:47.060904900Z",
     "start_time": "2023-05-22T00:22:47.007921500Z"
    }
   }
  },
  {
   "cell_type": "markdown",
   "source": [
    "## Functions"
   ],
   "metadata": {
    "collapsed": false
   }
  },
  {
   "cell_type": "code",
   "execution_count": 6,
   "outputs": [],
   "source": [
    "def index2word(word_index):\n",
    "    index_word = {}\n",
    "    for key in word_index:\n",
    "        index_word[word_index[key]] = key\n",
    "    return index_word\n",
    "\n",
    "\n",
    "def seq2text(seq, index_word):\n",
    "    text = []\n",
    "    for index in seq:\n",
    "        text.append(index_word[index])\n",
    "    return text\n",
    "\n",
    "\n",
    "def show_confusion_matrix(cm):\n",
    "    print(\"Confusion Matrix\")\n",
    "    plt.figure(figsize=(10, 7))\n",
    "\n",
    "    sns.heatmap(cm, annot=True, fmt='d', cmap='Blues', xticklabels=['Negative', 'Positive'],\n",
    "                yticklabels=['Negative', 'Positive'])\n",
    "    plt.xlabel('Predicted')\n",
    "    plt.ylabel('Truth')\n",
    "    plt.title('Confusion Matrix')\n",
    "    plt.show()"
   ],
   "metadata": {
    "collapsed": false
   }
  },
  {
   "cell_type": "code",
   "execution_count": 35,
   "outputs": [],
   "source": [
    "def get_f1(y_true, y_pred): #taken from old keras source code\n",
    "    true_positives = K.sum(K.round(K.clip(y_true * y_pred, 0, 1)))\n",
    "    possible_positives = K.sum(K.round(K.clip(y_true, 0, 1)))\n",
    "    predicted_positives = K.sum(K.round(K.clip(y_pred, 0, 1)))\n",
    "    precision = true_positives / (predicted_positives + K.epsilon())\n",
    "    recall = true_positives / (possible_positives + K.epsilon())\n",
    "    f1_val = 2*(precision*recall)/(precision+recall+K.epsilon())\n",
    "    return f1_val"
   ],
   "metadata": {
    "collapsed": false,
    "ExecuteTime": {
     "end_time": "2023-05-22T00:34:50.771100200Z",
     "start_time": "2023-05-22T00:34:50.758107700Z"
    }
   }
  },
  {
   "cell_type": "markdown",
   "source": [
    "## RNN Model"
   ],
   "metadata": {
    "collapsed": false
   }
  },
  {
   "cell_type": "markdown",
   "source": [
    "### Data transformation for model"
   ],
   "metadata": {
    "collapsed": false
   }
  },
  {
   "cell_type": "code",
   "execution_count": 21,
   "outputs": [],
   "source": [
    "X_train = train.to_numpy()[:, :-1]\n",
    "X_val = val.to_numpy()[:, :-1]\n",
    "y_train = train.to_numpy()[:, -1]\n",
    "y_val = val.to_numpy()[:, -1]"
   ],
   "metadata": {
    "collapsed": false,
    "ExecuteTime": {
     "end_time": "2023-05-22T00:22:49.470798Z",
     "start_time": "2023-05-22T00:22:49.447811500Z"
    }
   }
  },
  {
   "cell_type": "markdown",
   "source": [
    "### Tuning Architecture Hyperparams using RandomSearch and Early Stopping"
   ],
   "metadata": {
    "collapsed": false
   }
  },
  {
   "cell_type": "markdown",
   "source": [
    "#### Test 1"
   ],
   "metadata": {
    "collapsed": false
   }
  },
  {
   "cell_type": "code",
   "execution_count": 9,
   "outputs": [],
   "source": [
    "# def build_model(hp):\n",
    "#     model = Sequential([\n",
    "#         Embedding(input_dim=len(word_index), output_dim=300, input_length=X_train.shape[1], trainable=False,\n",
    "#                   weights=[embeddings_on_this_context]),\n",
    "#         Bidirectional(LSTM(16, return_sequences=True)),\n",
    "#         Dropout(hp.Float('rate_dp_1', 0, 0.4, step=0.1)),\n",
    "#         Bidirectional(LSTM(16)),\n",
    "#         Dense(64, 'tanh'),\n",
    "#         Dropout(hp.Float('rate_dp_1', 0.1, 0.4, step=0.1)),\n",
    "#         Dense(4, activation='softmax')\n",
    "#     ])\n",
    "#     loss = \"sparse_categorical_crossentropy\"\n",
    "#     # optimizer = SGD(learning_rate=0.01)\n",
    "#     metrics = ['accuracy']\n",
    "#\n",
    "#     model.compile(loss=loss, optimizer='adam', metrics=metrics)\n",
    "#     return model\n",
    "#\n",
    "#\n",
    "# es = EarlyStopping(monitor='val_loss', mode='min', verbose=1, patience=5)"
   ],
   "metadata": {
    "collapsed": false
   }
  },
  {
   "cell_type": "code",
   "execution_count": 31,
   "outputs": [
    {
     "ename": "TypeError",
     "evalue": "f1_score() missing 2 required positional arguments: 'y_true' and 'y_pred'",
     "output_type": "error",
     "traceback": [
      "\u001B[1;31m---------------------------------------------------------------------------\u001B[0m",
      "\u001B[1;31mTypeError\u001B[0m                                 Traceback (most recent call last)",
      "Cell \u001B[1;32mIn[31], line 1\u001B[0m\n\u001B[1;32m----> 1\u001B[0m \u001B[43mf1_score\u001B[49m\u001B[43m(\u001B[49m\u001B[43m)\u001B[49m\n",
      "\u001B[1;31mTypeError\u001B[0m: f1_score() missing 2 required positional arguments: 'y_true' and 'y_pred'"
     ]
    }
   ],
   "source": [],
   "metadata": {
    "collapsed": false,
    "ExecuteTime": {
     "end_time": "2023-05-22T00:28:49.771275800Z",
     "start_time": "2023-05-22T00:28:49.715308500Z"
    }
   }
  },
  {
   "cell_type": "markdown",
   "source": [
    "####  Test 2"
   ],
   "metadata": {
    "collapsed": false
   }
  },
  {
   "cell_type": "code",
   "execution_count": 58,
   "outputs": [],
   "source": [
    "def build_model(hp):\n",
    "    model = Sequential([\n",
    "    Embedding(input_dim=len(word_index), output_dim= 300, input_length=X_train.shape[1], trainable=False, weights=[embeddings_on_this_context]),\n",
    "    Bidirectional(LSTM(hp.Choice('units_bilstm_1',[16,32,64]), return_sequences=True)),\n",
    "    Dropout(hp.Float('rate_dp_1',0,0.3,step=0.1)),\n",
    "    Bidirectional(LSTM(hp.Choice('units_bilstm_2',[16,32,64]))),\n",
    "    Dense(hp.Choice('units_dense',[16,32,64]), hp.Choice('activation',['tanh']) ),\n",
    "    Dropout(hp.Float('rate_dp_2',0,0.3,step=0.1)),\n",
    "    Dense(4, activation='softmax')\n",
    "])\n",
    "    loss = \"sparse_categorical_crossentropy\"\n",
    "    # optimizer = SGD(learning_rate=0.01)\n",
    "    metrics = ['accuracy']\n",
    "    # metrics = ['accuracy', Precision(), Recall()]\n",
    "\n",
    "    model.compile(loss=loss,optimizer='adam',metrics=metrics)\n",
    "    return model\n",
    "\n",
    "es = EarlyStopping(monitor='val_loss', mode='min', verbose=1, patience=5)"
   ],
   "metadata": {
    "collapsed": false,
    "ExecuteTime": {
     "end_time": "2023-05-22T00:44:47.413576100Z",
     "start_time": "2023-05-22T00:44:47.384593300Z"
    }
   }
  },
  {
   "cell_type": "code",
   "execution_count": 59,
   "outputs": [
    {
     "name": "stdout",
     "output_type": "stream",
     "text": [
      "Search space summary\n",
      "Default search space size: 6\n",
      "units_bilstm_1 (Choice)\n",
      "{'default': 16, 'conditions': [], 'values': [16, 32, 64], 'ordered': True}\n",
      "rate_dp_1 (Float)\n",
      "{'default': 0.0, 'conditions': [], 'min_value': 0.0, 'max_value': 0.3, 'step': 0.1, 'sampling': 'linear'}\n",
      "units_bilstm_2 (Choice)\n",
      "{'default': 16, 'conditions': [], 'values': [16, 32, 64], 'ordered': True}\n",
      "units_dense (Choice)\n",
      "{'default': 16, 'conditions': [], 'values': [16, 32, 64], 'ordered': True}\n",
      "activation (Choice)\n",
      "{'default': 'tanh', 'conditions': [], 'values': ['tanh'], 'ordered': False}\n",
      "rate_dp_2 (Float)\n",
      "{'default': 0.0, 'conditions': [], 'min_value': 0.0, 'max_value': 0.3, 'step': 0.1, 'sampling': 'linear'}\n"
     ]
    }
   ],
   "source": [
    "# amanha testar dropout 0.0, 0.1, 0.2\n",
    "tuner = kt.RandomSearch(\n",
    "    build_model,\n",
    "    objective='val_accuracy',\n",
    "    max_trials=10,\n",
    "    executions_per_trial=1,\n",
    "    directory='../../assets/deep_assets',\n",
    "    overwrite=True,\n",
    "    project_name='lstm_tuning')\n",
    "\n",
    "tuner.search_space_summary()"
   ],
   "metadata": {
    "collapsed": false,
    "ExecuteTime": {
     "end_time": "2023-05-22T00:44:51.234091800Z",
     "start_time": "2023-05-22T00:44:49.149302200Z"
    }
   }
  },
  {
   "cell_type": "code",
   "execution_count": null,
   "outputs": [
    {
     "name": "stdout",
     "output_type": "stream",
     "text": [
      "Trial 10 Complete [00h 01m 41s]\n",
      "val_accuracy: 0.8339810967445374\n",
      "\n",
      "Best val_accuracy So Far: 0.8461965322494507\n",
      "Total elapsed time: 00h 23m 36s\n",
      "INFO:tensorflow:Oracle triggered exit\n"
     ]
    }
   ],
   "source": [
    "tuner.search(X_train, y_train, epochs=4000, validation_data=(X_val,y_val), callbacks=[es], batch_size=32, verbose=2)"
   ],
   "metadata": {
    "collapsed": false
   }
  },
  {
   "cell_type": "code",
   "execution_count": 62,
   "outputs": [
    {
     "name": "stdout",
     "output_type": "stream",
     "text": [
      "Results summary\n",
      "Results in ../../assets/deep_assets\\lstm_tuning\n",
      "Showing 10 best trials\n",
      "Objective(name=\"val_accuracy\", direction=\"max\")\n",
      "\n",
      "Trial 08 summary\n",
      "Hyperparameters:\n",
      "units_bilstm_1: 64\n",
      "rate_dp_1: 0.1\n",
      "units_bilstm_2: 32\n",
      "units_dense: 32\n",
      "activation: tanh\n",
      "rate_dp_2: 0.0\n",
      "Score: 0.8461965322494507\n",
      "\n",
      "Trial 05 summary\n",
      "Hyperparameters:\n",
      "units_bilstm_1: 16\n",
      "rate_dp_1: 0.0\n",
      "units_bilstm_2: 16\n",
      "units_dense: 64\n",
      "activation: tanh\n",
      "rate_dp_2: 0.1\n",
      "Score: 0.8400888442993164\n",
      "\n",
      "Trial 06 summary\n",
      "Hyperparameters:\n",
      "units_bilstm_1: 64\n",
      "rate_dp_1: 0.2\n",
      "units_bilstm_2: 16\n",
      "units_dense: 32\n",
      "activation: tanh\n",
      "rate_dp_2: 0.0\n",
      "Score: 0.8389783501625061\n",
      "\n",
      "Trial 04 summary\n",
      "Hyperparameters:\n",
      "units_bilstm_1: 64\n",
      "rate_dp_1: 0.0\n",
      "units_bilstm_2: 64\n",
      "units_dense: 32\n",
      "activation: tanh\n",
      "rate_dp_2: 0.1\n",
      "Score: 0.8378678560256958\n",
      "\n",
      "Trial 00 summary\n",
      "Hyperparameters:\n",
      "units_bilstm_1: 32\n",
      "rate_dp_1: 0.0\n",
      "units_bilstm_2: 64\n",
      "units_dense: 64\n",
      "activation: tanh\n",
      "rate_dp_2: 0.2\n",
      "Score: 0.8373125791549683\n",
      "\n",
      "Trial 01 summary\n",
      "Hyperparameters:\n",
      "units_bilstm_1: 32\n",
      "rate_dp_1: 0.2\n",
      "units_bilstm_2: 64\n",
      "units_dense: 32\n",
      "activation: tanh\n",
      "rate_dp_2: 0.2\n",
      "Score: 0.8373125791549683\n",
      "\n",
      "Trial 03 summary\n",
      "Hyperparameters:\n",
      "units_bilstm_1: 16\n",
      "rate_dp_1: 0.0\n",
      "units_bilstm_2: 16\n",
      "units_dense: 32\n",
      "activation: tanh\n",
      "rate_dp_2: 0.0\n",
      "Score: 0.8373125791549683\n",
      "\n",
      "Trial 02 summary\n",
      "Hyperparameters:\n",
      "units_bilstm_1: 16\n",
      "rate_dp_1: 0.0\n",
      "units_bilstm_2: 64\n",
      "units_dense: 64\n",
      "activation: tanh\n",
      "rate_dp_2: 0.2\n",
      "Score: 0.836202085018158\n",
      "\n",
      "Trial 07 summary\n",
      "Hyperparameters:\n",
      "units_bilstm_1: 32\n",
      "rate_dp_1: 0.1\n",
      "units_bilstm_2: 32\n",
      "units_dense: 64\n",
      "activation: tanh\n",
      "rate_dp_2: 0.1\n",
      "Score: 0.836202085018158\n",
      "\n",
      "Trial 09 summary\n",
      "Hyperparameters:\n",
      "units_bilstm_1: 32\n",
      "rate_dp_1: 0.2\n",
      "units_bilstm_2: 32\n",
      "units_dense: 16\n",
      "activation: tanh\n",
      "rate_dp_2: 0.0\n",
      "Score: 0.8339810967445374\n"
     ]
    }
   ],
   "source": [
    "tuner.results_summary()\n",
    " # 0.845774233341217"
   ],
   "metadata": {
    "collapsed": false,
    "ExecuteTime": {
     "end_time": "2023-05-22T01:12:11.287979800Z",
     "start_time": "2023-05-22T01:12:11.273977Z"
    }
   }
  },
  {
   "cell_type": "code",
   "execution_count": null,
   "outputs": [],
   "source": [
    "type(tuner.results_summary())"
   ],
   "metadata": {
    "collapsed": false,
    "ExecuteTime": {
     "start_time": "2023-05-22T00:20:25.582832300Z"
    }
   }
  },
  {
   "cell_type": "code",
   "execution_count": 63,
   "outputs": [
    {
     "name": "stdout",
     "output_type": "stream",
     "text": [
      "Results summary\n",
      "Results in ../../assets/deep_assets\\lstm_tuning\n",
      "Showing 10 best trials\n",
      "Objective(name=\"val_accuracy\", direction=\"max\")\n",
      "\n",
      "Trial 08 summary\n",
      "Hyperparameters:\n",
      "units_bilstm_1: 64\n",
      "rate_dp_1: 0.1\n",
      "units_bilstm_2: 32\n",
      "units_dense: 32\n",
      "activation: tanh\n",
      "rate_dp_2: 0.0\n",
      "Score: 0.8461965322494507\n",
      "\n",
      "Trial 05 summary\n",
      "Hyperparameters:\n",
      "units_bilstm_1: 16\n",
      "rate_dp_1: 0.0\n",
      "units_bilstm_2: 16\n",
      "units_dense: 64\n",
      "activation: tanh\n",
      "rate_dp_2: 0.1\n",
      "Score: 0.8400888442993164\n",
      "\n",
      "Trial 06 summary\n",
      "Hyperparameters:\n",
      "units_bilstm_1: 64\n",
      "rate_dp_1: 0.2\n",
      "units_bilstm_2: 16\n",
      "units_dense: 32\n",
      "activation: tanh\n",
      "rate_dp_2: 0.0\n",
      "Score: 0.8389783501625061\n",
      "\n",
      "Trial 04 summary\n",
      "Hyperparameters:\n",
      "units_bilstm_1: 64\n",
      "rate_dp_1: 0.0\n",
      "units_bilstm_2: 64\n",
      "units_dense: 32\n",
      "activation: tanh\n",
      "rate_dp_2: 0.1\n",
      "Score: 0.8378678560256958\n",
      "\n",
      "Trial 00 summary\n",
      "Hyperparameters:\n",
      "units_bilstm_1: 32\n",
      "rate_dp_1: 0.0\n",
      "units_bilstm_2: 64\n",
      "units_dense: 64\n",
      "activation: tanh\n",
      "rate_dp_2: 0.2\n",
      "Score: 0.8373125791549683\n",
      "\n",
      "Trial 01 summary\n",
      "Hyperparameters:\n",
      "units_bilstm_1: 32\n",
      "rate_dp_1: 0.2\n",
      "units_bilstm_2: 64\n",
      "units_dense: 32\n",
      "activation: tanh\n",
      "rate_dp_2: 0.2\n",
      "Score: 0.8373125791549683\n",
      "\n",
      "Trial 03 summary\n",
      "Hyperparameters:\n",
      "units_bilstm_1: 16\n",
      "rate_dp_1: 0.0\n",
      "units_bilstm_2: 16\n",
      "units_dense: 32\n",
      "activation: tanh\n",
      "rate_dp_2: 0.0\n",
      "Score: 0.8373125791549683\n",
      "\n",
      "Trial 02 summary\n",
      "Hyperparameters:\n",
      "units_bilstm_1: 16\n",
      "rate_dp_1: 0.0\n",
      "units_bilstm_2: 64\n",
      "units_dense: 64\n",
      "activation: tanh\n",
      "rate_dp_2: 0.2\n",
      "Score: 0.836202085018158\n",
      "\n",
      "Trial 07 summary\n",
      "Hyperparameters:\n",
      "units_bilstm_1: 32\n",
      "rate_dp_1: 0.1\n",
      "units_bilstm_2: 32\n",
      "units_dense: 64\n",
      "activation: tanh\n",
      "rate_dp_2: 0.1\n",
      "Score: 0.836202085018158\n",
      "\n",
      "Trial 09 summary\n",
      "Hyperparameters:\n",
      "units_bilstm_1: 32\n",
      "rate_dp_1: 0.2\n",
      "units_bilstm_2: 32\n",
      "units_dense: 16\n",
      "activation: tanh\n",
      "rate_dp_2: 0.0\n",
      "Score: 0.8339810967445374\n"
     ]
    }
   ],
   "source": [
    "with open('../../assets/deep_assets/tuner_results_10_attempts.txt', 'w') as f:\n",
    "    f.write(str(tuner.results_summary()))\n"
   ],
   "metadata": {
    "collapsed": false,
    "ExecuteTime": {
     "end_time": "2023-05-22T01:12:33.579386500Z",
     "start_time": "2023-05-22T01:12:33.538401200Z"
    }
   }
  },
  {
   "cell_type": "code",
   "execution_count": 71,
   "outputs": [],
   "source": [
    "best_model_hp = tuner.get_best_hyperparameters()[0].values\n"
   ],
   "metadata": {
    "collapsed": false,
    "ExecuteTime": {
     "end_time": "2023-05-22T01:20:10.447821Z",
     "start_time": "2023-05-22T01:20:10.438850400Z"
    }
   }
  },
  {
   "cell_type": "markdown",
   "source": [
    "#### Evaluation"
   ],
   "metadata": {
    "collapsed": false
   }
  },
  {
   "cell_type": "markdown",
   "source": [
    "### Tuning fit hyperparamters using GridSearch"
   ],
   "metadata": {
    "collapsed": false
   }
  },
  {
   "cell_type": "code",
   "execution_count": null,
   "outputs": [],
   "source": [
    "# model = Sequential([\n",
    "#     Embedding(input_dim=len(word_index), output_dim= 300, input_length=X_train.shape[1], trainable=False, weights=[embeddings_on_this_context]),\n",
    "#     Bidirectional(LSTM(64, return_sequences=True)),\n",
    "#     # Dropout(0.29),\n",
    "#     # Bidirectional(LSTM(hp.Choice('units',[32,64]))),\n",
    "#     Bidirectional(LSTM(64)),\n",
    "#     Dense(32, activation='relu'),\n",
    "#     # Dropout(0.73),\n",
    "#     Dense(4, activation='softmax')\n",
    "# ])\n",
    "#\n",
    "# model.summary()\n",
    "#\n",
    "# from keras.optimizers import SGD\n",
    "#\n",
    "# loss = \"sparse_categorical_crossentropy\"\n",
    "# optimizer = 'adam'\n",
    "# metrics = ['accuracy']\n",
    "#\n",
    "# model.compile(loss=loss,optimizer=optimizer,metrics=metrics)\n",
    "#\n",
    "# es = EarlyStopping(monitor='val_loss', mode='min', verbose=1, patience=5)\n",
    "#\n",
    "#\n",
    "# history = model.fit(X_train, y_train, epochs=4000, validation_data=(X_val,y_val), verbose=2, callbacks=[es])\n"
   ],
   "metadata": {
    "collapsed": false,
    "ExecuteTime": {
     "start_time": "2023-05-22T00:20:25.598821700Z"
    }
   }
  },
  {
   "cell_type": "code",
   "execution_count": null,
   "outputs": [],
   "source": [
    "# def architecture_tuned_model():\n",
    "#     model = Sequential([\n",
    "#         Embedding(input_dim=len(word_index), output_dim=300, input_length=X_train.shape[1], trainable=False,\n",
    "#                   weights=[embeddings_on_this_context]),\n",
    "#         Bidirectional(LSTM(32, return_sequences=True)),\n",
    "#         Dropout(0.29),\n",
    "#         Bidirectional(LSTM(16)),\n",
    "#         Dense(64, 'tanh'),\n",
    "#         Dropout(0.73),\n",
    "#         Dense(4, activation='softmax')\n",
    "#     ])\n",
    "#     loss = \"sparse_categorical_crossentropy\"\n",
    "#     optimizer = 'adam'\n",
    "#     metrics = ['accuracy']\n",
    "#\n",
    "#     model.compile(loss=loss, optimizer=optimizer, metrics=metrics)\n",
    "#     return model\n"
   ],
   "metadata": {
    "collapsed": false,
    "ExecuteTime": {
     "start_time": "2023-05-22T00:20:25.602819600Z"
    }
   }
  },
  {
   "cell_type": "code",
   "execution_count": null,
   "outputs": [],
   "source": [
    "# from keras.wrappers.scikit_learn import KerasClassifier\n",
    "#\n",
    "# model = KerasClassifier(build_fn=architecture_tuned_model, verbose=0)"
   ],
   "metadata": {
    "collapsed": false,
    "ExecuteTime": {
     "start_time": "2023-05-22T00:20:25.605818500Z"
    }
   }
  },
  {
   "cell_type": "code",
   "execution_count": null,
   "outputs": [],
   "source": [
    "# from sklearn.model_selection import GridSearchCV\n",
    "#\n",
    "# es = EarlyStopping(monitor='accuracy', mode='min', verbose=1, patience=5)\n",
    "#\n",
    "# param_grid = {'batch_size': [1,2,4,8]}\n",
    "#\n",
    "# gs = GridSearchCV(estimator=model,\n",
    "#                   param_grid=param_grid,\n",
    "#                   cv=5)\n",
    "# gs.fit(X_train, y_train, callbacks=[es])\n",
    "# print(f\"Best results for {model.__class__.__name__}\")\n",
    "# print(\"Best Score of train set: \" + str(gs.best_score_))\n",
    "# print(\"Best estimator: \" + str(gs.best_estimator_))\n",
    "# print(\"Best parameter set: \" + str(gs.best_params_))\n"
   ],
   "metadata": {
    "collapsed": false,
    "ExecuteTime": {
     "start_time": "2023-05-22T00:20:25.611814300Z"
    }
   }
  },
  {
   "cell_type": "code",
   "execution_count": null,
   "outputs": [],
   "source": [
    "# gs.best_estimator_.model.history.history\n",
    "# # 0.7766810655593872"
   ],
   "metadata": {
    "collapsed": false,
    "ExecuteTime": {
     "start_time": "2023-05-22T00:20:25.612814900Z"
    }
   }
  },
  {
   "cell_type": "code",
   "execution_count": null,
   "outputs": [],
   "source": [
    "# fig, (ax1, ax2) = plt.subplots(1, 2, figsize=(15, 5))\n",
    "# ax1.plot(gs.best_estimator_.model.history.history['accuracy'])\n",
    "# ax1.plot(gs.best_estimator_.model.history.history['loss'])\n",
    "# ax1.set_title('Model Accuracy')\n",
    "# ax1.set_ylabel('Accuracy')\n",
    "# ax1.set_xlabel('Epoch')\n",
    "# ax1.legend(['Train', 'Validation'], loc='upper left')\n",
    "#\n",
    "# ax2.plot(gs.best_estimator_.model.history.history['loss'])\n",
    "# ax2.plot(gs.best_estimator_.model.history.history['val_loss'])\n",
    "# ax2.set_title('Model Loss')\n",
    "# ax2.set_ylabel('Loss')\n",
    "# ax2.set_xlabel('Epoch')\n",
    "# ax2.legend(['Train', 'Validation'], loc='upper left')\n",
    "# plt.show()\n",
    "\n",
    "{'units_bilstm_1': 64,\n",
    " 'rate_dp_1': 0.1,\n",
    " 'units_bilstm_2': 32,\n",
    " 'units_dense': 32,\n",
    " 'activation': 'tanh',\n",
    " 'rate_dp_2': 0.0}"
   ],
   "metadata": {
    "collapsed": false,
    "ExecuteTime": {
     "start_time": "2023-05-22T00:20:25.616810900Z"
    }
   }
  },
  {
   "cell_type": "markdown",
   "source": [
    "### Tuning fit hyperparameters manually"
   ],
   "metadata": {
    "collapsed": false
   }
  },
  {
   "cell_type": "code",
   "execution_count": 72,
   "outputs": [
    {
     "name": "stdout",
     "output_type": "stream",
     "text": [
      "Model: \"sequential_1\"\n",
      "_________________________________________________________________\n",
      " Layer (type)                Output Shape              Param #   \n",
      "=================================================================\n",
      " embedding_2 (Embedding)     (None, 11, 300)           3120900   \n",
      "                                                                 \n",
      " bidirectional_2 (Bidirectio  (None, 11, 128)          186880    \n",
      " nal)                                                            \n",
      "                                                                 \n",
      " dropout_2 (Dropout)         (None, 11, 128)           0         \n",
      "                                                                 \n",
      " bidirectional_3 (Bidirectio  (None, 64)               41216     \n",
      " nal)                                                            \n",
      "                                                                 \n",
      " dense_2 (Dense)             (None, 32)                2080      \n",
      "                                                                 \n",
      " dense_3 (Dense)             (None, 4)                 132       \n",
      "                                                                 \n",
      "=================================================================\n",
      "Total params: 3,351,208\n",
      "Trainable params: 230,308\n",
      "Non-trainable params: 3,120,900\n",
      "_________________________________________________________________\n"
     ]
    }
   ],
   "source": [
    "best_model = Sequential([\n",
    "    Embedding(input_dim=len(word_index), output_dim= 300, input_length=X_train.shape[1], trainable=False, weights=[embeddings_on_this_context]),\n",
    "    Bidirectional(LSTM(best_model_hp['units_bilstm_1'], return_sequences=True)),\n",
    "    Dropout(best_model_hp['rate_dp_1']),\n",
    "    # Bidirectional(LSTM(hp.Choice('units',[32,64]))),\n",
    "    Bidirectional(LSTM(best_model_hp['units_bilstm_2'])),\n",
    "    Dense(best_model_hp['units_dense'], activation=best_model_hp['activation']),\n",
    "    # Dropout(0.73),\n",
    "    Dense(4, activation='softmax')\n",
    "])\n",
    "\n",
    "\n",
    "\n",
    "\n",
    "\n",
    "loss = \"sparse_categorical_crossentropy\"\n",
    "optimizer = 'adam'\n",
    "metrics = ['accuracy']\n",
    "\n",
    "\n",
    "best_model.compile(loss=loss,optimizer=optimizer,metrics=metrics)\n",
    "\n",
    "es = EarlyStopping(monitor='val_loss', mode='min', verbose=1, patience=10)\n",
    "\n",
    "\n",
    "best_model.summary()\n"
   ],
   "metadata": {
    "collapsed": false,
    "ExecuteTime": {
     "end_time": "2023-05-22T01:20:14.758512400Z",
     "start_time": "2023-05-22T01:20:13.019521700Z"
    }
   }
  },
  {
   "cell_type": "code",
   "execution_count": 73,
   "outputs": [
    {
     "name": "stdout",
     "output_type": "stream",
     "text": [
      "Epoch 1/4000\n",
      "451/451 - 18s - loss: 0.8896 - accuracy: 0.6495 - val_loss: 0.7289 - val_accuracy: 0.7285 - 18s/epoch - 41ms/step\n",
      "Epoch 2/4000\n",
      "451/451 - 8s - loss: 0.6888 - accuracy: 0.7419 - val_loss: 0.5999 - val_accuracy: 0.7885 - 8s/epoch - 18ms/step\n",
      "Epoch 3/4000\n",
      "451/451 - 8s - loss: 0.5943 - accuracy: 0.7835 - val_loss: 0.5686 - val_accuracy: 0.7940 - 8s/epoch - 18ms/step\n",
      "Epoch 4/4000\n",
      "451/451 - 9s - loss: 0.5477 - accuracy: 0.8018 - val_loss: 0.5374 - val_accuracy: 0.8090 - 9s/epoch - 19ms/step\n",
      "Epoch 5/4000\n",
      "451/451 - 9s - loss: 0.5192 - accuracy: 0.8130 - val_loss: 0.5168 - val_accuracy: 0.8179 - 9s/epoch - 20ms/step\n",
      "Epoch 6/4000\n",
      "451/451 - 10s - loss: 0.4968 - accuracy: 0.8199 - val_loss: 0.5113 - val_accuracy: 0.8218 - 10s/epoch - 23ms/step\n",
      "Epoch 7/4000\n",
      "451/451 - 7s - loss: 0.4769 - accuracy: 0.8274 - val_loss: 0.4980 - val_accuracy: 0.8306 - 7s/epoch - 16ms/step\n",
      "Epoch 8/4000\n",
      "451/451 - 8s - loss: 0.4672 - accuracy: 0.8330 - val_loss: 0.4993 - val_accuracy: 0.8234 - 8s/epoch - 18ms/step\n",
      "Epoch 9/4000\n",
      "451/451 - 8s - loss: 0.4509 - accuracy: 0.8384 - val_loss: 0.5089 - val_accuracy: 0.8207 - 8s/epoch - 18ms/step\n",
      "Epoch 10/4000\n",
      "451/451 - 8s - loss: 0.4361 - accuracy: 0.8436 - val_loss: 0.4904 - val_accuracy: 0.8306 - 8s/epoch - 17ms/step\n",
      "Epoch 11/4000\n",
      "451/451 - 8s - loss: 0.4229 - accuracy: 0.8473 - val_loss: 0.4890 - val_accuracy: 0.8323 - 8s/epoch - 17ms/step\n",
      "Epoch 12/4000\n",
      "451/451 - 7s - loss: 0.4143 - accuracy: 0.8492 - val_loss: 0.4994 - val_accuracy: 0.8279 - 7s/epoch - 15ms/step\n",
      "Epoch 13/4000\n",
      "451/451 - 7s - loss: 0.4022 - accuracy: 0.8561 - val_loss: 0.5207 - val_accuracy: 0.8090 - 7s/epoch - 17ms/step\n",
      "Epoch 14/4000\n",
      "451/451 - 9s - loss: 0.3851 - accuracy: 0.8604 - val_loss: 0.5034 - val_accuracy: 0.8257 - 9s/epoch - 19ms/step\n",
      "Epoch 15/4000\n",
      "451/451 - 8s - loss: 0.3732 - accuracy: 0.8671 - val_loss: 0.5229 - val_accuracy: 0.8251 - 8s/epoch - 18ms/step\n",
      "Epoch 16/4000\n",
      "451/451 - 8s - loss: 0.3573 - accuracy: 0.8697 - val_loss: 0.5562 - val_accuracy: 0.8268 - 8s/epoch - 18ms/step\n",
      "Epoch 17/4000\n",
      "451/451 - 8s - loss: 0.3431 - accuracy: 0.8755 - val_loss: 0.5454 - val_accuracy: 0.8134 - 8s/epoch - 17ms/step\n",
      "Epoch 18/4000\n",
      "451/451 - 9s - loss: 0.3303 - accuracy: 0.8788 - val_loss: 0.5411 - val_accuracy: 0.8223 - 9s/epoch - 21ms/step\n",
      "Epoch 19/4000\n",
      "451/451 - 9s - loss: 0.3169 - accuracy: 0.8867 - val_loss: 0.5697 - val_accuracy: 0.8129 - 9s/epoch - 20ms/step\n",
      "Epoch 20/4000\n",
      "451/451 - 8s - loss: 0.2980 - accuracy: 0.8912 - val_loss: 0.5559 - val_accuracy: 0.8190 - 8s/epoch - 19ms/step\n",
      "Epoch 21/4000\n",
      "451/451 - 8s - loss: 0.2849 - accuracy: 0.8961 - val_loss: 0.5707 - val_accuracy: 0.8306 - 8s/epoch - 17ms/step\n",
      "Epoch 21: early stopping\n"
     ]
    }
   ],
   "source": [
    "history = best_model.fit(X_train, y_train, epochs=4000, batch_size=32, validation_data=(X_val,y_val), verbose=2, callbacks=[es])"
   ],
   "metadata": {
    "collapsed": false,
    "ExecuteTime": {
     "end_time": "2023-05-22T01:23:19.339562600Z",
     "start_time": "2023-05-22T01:20:17.322175900Z"
    }
   }
  },
  {
   "cell_type": "code",
   "execution_count": 74,
   "outputs": [
    {
     "data": {
      "text/plain": "<Figure size 1500x500 with 2 Axes>",
      "image/png": "[encoded data removed]"
     },
     "metadata": {},
     "output_type": "display_data"
    }
   ],
   "source": [
    "fig, (ax1, ax2) = plt.subplots(1, 2, figsize=(15, 5))\n",
    "ax1.plot(history.history['accuracy'])\n",
    "ax1.plot(history.history['val_accuracy'])\n",
    "ax1.set_title('Model Accuracy')\n",
    "ax1.set_ylabel('Accuracy')\n",
    "ax1.set_xlabel('Epoch')\n",
    "ax1.legend(['Train', 'Validation'], loc='upper left')\n",
    "\n",
    "ax2.plot(history.history['loss'])\n",
    "ax2.plot(history.history['val_loss'])\n",
    "ax2.set_title('Model Loss')\n",
    "ax2.set_ylabel('Loss')\n",
    "ax2.set_xlabel('Epoch')\n",
    "ax2.legend(['Train', 'Validation'], loc='upper left')\n",
    "plt.show()"
   ],
   "metadata": {
    "collapsed": false,
    "ExecuteTime": {
     "end_time": "2023-05-22T01:23:20.133696500Z",
     "start_time": "2023-05-22T01:23:19.341561400Z"
    }
   }
  },
  {
   "cell_type": "markdown",
   "source": [
    "### Exporting model"
   ],
   "metadata": {
    "collapsed": false
   }
  },
  {
   "cell_type": "code",
   "execution_count": 75,
   "outputs": [
    {
     "name": "stdout",
     "output_type": "stream",
     "text": [
      "WARNING:tensorflow:Detecting that an object or model or tf.train.Checkpoint is being deleted with unrestored values. See the following logs for the specific values in question. To silence these warnings, use `status.expect_partial()`. See https://www.tensorflow.org/api_docs/python/tf/train/Checkpoint#restorefor details about the status object returned by the restore function.\n",
      "WARNING:tensorflow:Value in checkpoint could not be found in the restored object: (root).optimizer._variables.1\n",
      "WARNING:tensorflow:Value in checkpoint could not be found in the restored object: (root).optimizer._variables.2\n",
      "WARNING:tensorflow:Value in checkpoint could not be found in the restored object: (root).optimizer._variables.3\n",
      "WARNING:tensorflow:Value in checkpoint could not be found in the restored object: (root).optimizer._variables.4\n",
      "WARNING:tensorflow:Value in checkpoint could not be found in the restored object: (root).optimizer._variables.5\n",
      "WARNING:tensorflow:Value in checkpoint could not be found in the restored object: (root).optimizer._variables.6\n",
      "WARNING:tensorflow:Value in checkpoint could not be found in the restored object: (root).optimizer._variables.7\n",
      "WARNING:tensorflow:Value in checkpoint could not be found in the restored object: (root).optimizer._variables.8\n",
      "WARNING:tensorflow:Value in checkpoint could not be found in the restored object: (root).optimizer._variables.9\n",
      "WARNING:tensorflow:Value in checkpoint could not be found in the restored object: (root).optimizer._variables.10\n",
      "WARNING:tensorflow:Value in checkpoint could not be found in the restored object: (root).optimizer._variables.11\n",
      "WARNING:tensorflow:Value in checkpoint could not be found in the restored object: (root).optimizer._variables.12\n",
      "WARNING:tensorflow:Value in checkpoint could not be found in the restored object: (root).optimizer._variables.13\n",
      "WARNING:tensorflow:Value in checkpoint could not be found in the restored object: (root).optimizer._variables.14\n",
      "WARNING:tensorflow:Value in checkpoint could not be found in the restored object: (root).optimizer._variables.15\n",
      "WARNING:tensorflow:Value in checkpoint could not be found in the restored object: (root).optimizer._variables.16\n",
      "WARNING:tensorflow:Value in checkpoint could not be found in the restored object: (root).optimizer._variables.17\n",
      "WARNING:tensorflow:Value in checkpoint could not be found in the restored object: (root).optimizer._variables.18\n",
      "WARNING:tensorflow:Value in checkpoint could not be found in the restored object: (root).optimizer._variables.19\n",
      "WARNING:tensorflow:Value in checkpoint could not be found in the restored object: (root).optimizer._variables.20\n",
      "WARNING:tensorflow:Value in checkpoint could not be found in the restored object: (root).optimizer._variables.21\n",
      "WARNING:tensorflow:Value in checkpoint could not be found in the restored object: (root).optimizer._variables.22\n",
      "WARNING:tensorflow:Value in checkpoint could not be found in the restored object: (root).optimizer._variables.23\n",
      "WARNING:tensorflow:Value in checkpoint could not be found in the restored object: (root).optimizer._variables.24\n",
      "WARNING:tensorflow:Value in checkpoint could not be found in the restored object: (root).optimizer._variables.25\n",
      "WARNING:tensorflow:Value in checkpoint could not be found in the restored object: (root).optimizer._variables.26\n",
      "WARNING:tensorflow:Value in checkpoint could not be found in the restored object: (root).optimizer._variables.27\n",
      "WARNING:tensorflow:Value in checkpoint could not be found in the restored object: (root).optimizer._variables.28\n",
      "WARNING:tensorflow:Value in checkpoint could not be found in the restored object: (root).optimizer._variables.29\n",
      "WARNING:tensorflow:Value in checkpoint could not be found in the restored object: (root).optimizer._variables.30\n",
      "WARNING:tensorflow:Value in checkpoint could not be found in the restored object: (root).optimizer._variables.31\n",
      "WARNING:tensorflow:Value in checkpoint could not be found in the restored object: (root).optimizer._variables.32\n"
     ]
    },
    {
     "name": "stderr",
     "output_type": "stream",
     "text": [
      "WARNING:absl:Found untraced functions such as _update_step_xla, lstm_cell_7_layer_call_fn, lstm_cell_7_layer_call_and_return_conditional_losses, lstm_cell_8_layer_call_fn, lstm_cell_8_layer_call_and_return_conditional_losses while saving (showing 5 of 9). These functions will not be directly callable after loading.\n"
     ]
    },
    {
     "name": "stdout",
     "output_type": "stream",
     "text": [
      "INFO:tensorflow:Assets written to: ../../assets/deep_assets/lstm_model\\assets\n"
     ]
    },
    {
     "name": "stderr",
     "output_type": "stream",
     "text": [
      "INFO:tensorflow:Assets written to: ../../assets/deep_assets/lstm_model\\assets\n"
     ]
    }
   ],
   "source": [
    "best_model.save('../../assets/deep_assets/lstm_model')"
   ],
   "metadata": {
    "collapsed": false,
    "ExecuteTime": {
     "end_time": "2023-05-22T01:31:22.725059300Z",
     "start_time": "2023-05-22T01:30:38.912930Z"
    }
   }
  }
 ],
 "metadata": {
  "kernelspec": {
   "display_name": "Python 3",
   "language": "python",
   "name": "python3"
  },
  "language_info": {
   "codemirror_mode": {
    "name": "ipython",
    "version": 2
   },
   "file_extension": ".py",
   "mimetype": "text/x-python",
   "name": "python",
   "nbconvert_exporter": "python",
   "pygments_lexer": "ipython2",
   "version": "2.7.6"
  }
 },
 "nbformat": 4,
 "nbformat_minor": 0
}
