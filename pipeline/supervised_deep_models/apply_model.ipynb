{
 "cells": [
  {
   "cell_type": "markdown",
   "source": [
    "## Packages and Assets"
   ],
   "metadata": {
    "collapsed": false
   }
  },
  {
   "cell_type": "code",
   "execution_count": 3,
   "outputs": [],
   "source": [
    "import keras.models\n",
    "from sklearn.metrics import accuracy_score, precision_score, recall_score, f1_score, confusion_matrix, classification_report\n",
    "\n",
    "import seaborn as sns\n",
    "import json\n",
    "import matplotlib.pyplot as plt\n",
    "import numpy as np\n",
    "\n",
    "from keras.preprocessing.text import tokenizer_from_json\n",
    "\n",
    "from keras.utils import pad_sequences\n",
    "import pandas as pd\n",
    "import re\n",
    "import string\n",
    "import nltk\n"
   ],
   "metadata": {
    "collapsed": false,
    "ExecuteTime": {
     "end_time": "2023-05-22T01:31:47.071260700Z",
     "start_time": "2023-05-22T01:31:46.919348600Z"
    }
   }
  },
  {
   "cell_type": "markdown",
   "source": [
    "## Dependencies"
   ],
   "metadata": {
    "collapsed": false
   }
  },
  {
   "cell_type": "code",
   "execution_count": null,
   "outputs": [],
   "source": [
    "test_pp = pd.read_csv('../../assets/data/splits/test/preprocessed.csv')\n",
    "test_pp"
   ],
   "metadata": {
    "collapsed": false
   }
  },
  {
   "cell_type": "code",
   "execution_count": 4,
   "outputs": [
    {
     "name": "stdout",
     "output_type": "stream",
     "text": [
      "Model: \"sequential_1\"\n",
      "_________________________________________________________________\n",
      " Layer (type)                Output Shape              Param #   \n",
      "=================================================================\n",
      " embedding_2 (Embedding)     (None, 11, 300)           3120900   \n",
      "                                                                 \n",
      " bidirectional_2 (Bidirectio  (None, 11, 128)          186880    \n",
      " nal)                                                            \n",
      "                                                                 \n",
      " dropout_2 (Dropout)         (None, 11, 128)           0         \n",
      "                                                                 \n",
      " bidirectional_3 (Bidirectio  (None, 64)               41216     \n",
      " nal)                                                            \n",
      "                                                                 \n",
      " dense_2 (Dense)             (None, 32)                2080      \n",
      "                                                                 \n",
      " dense_3 (Dense)             (None, 4)                 132       \n",
      "                                                                 \n",
      "=================================================================\n",
      "Total params: 3,351,208\n",
      "Trainable params: 230,308\n",
      "Non-trainable params: 3,120,900\n",
      "_________________________________________________________________\n"
     ]
    }
   ],
   "source": [
    "model = keras.models.load_model('../../assets/deep_assets/lstm_model')\n",
    "model.summary()"
   ],
   "metadata": {
    "collapsed": false,
    "ExecuteTime": {
     "end_time": "2023-05-22T01:31:59.337304800Z",
     "start_time": "2023-05-22T01:31:46.938339100Z"
    }
   }
  },
  {
   "cell_type": "code",
   "execution_count": 5,
   "outputs": [],
   "source": [
    "# Load the tokenizer from the file\n",
    "with open('../../assets/deep_assets/tokenizer.json', 'r', encoding='utf-8') as f:\n",
    "    tokenizer_json = f.read()\n",
    "    tokenizer = tokenizer_from_json(tokenizer_json)\n",
    "    word_index = tokenizer.word_index"
   ],
   "metadata": {
    "collapsed": false,
    "ExecuteTime": {
     "end_time": "2023-05-22T01:31:59.352295800Z",
     "start_time": "2023-05-22T01:31:59.351296500Z"
    }
   }
  },
  {
   "cell_type": "markdown",
   "source": [],
   "metadata": {
    "collapsed": false
   }
  },
  {
   "cell_type": "markdown",
   "source": [
    "## Predictions considering best deep model"
   ],
   "metadata": {
    "collapsed": false
   }
  },
  {
   "cell_type": "code",
   "execution_count": 7,
   "outputs": [
    {
     "data": {
      "text/plain": "array([[  70,    5,   18, ..., 2510,  431,  326],\n       [  26,  101,   11, ...,    0,    0,    0],\n       [   7,  197,    2, ...,    0,    0,    0],\n       ...,\n       [   1,    1, 1853, ...,  174, 2044, 1178],\n       [   3,  726, 1042, ...,   90,  119,    0],\n       [6781, 4898, 1006, ...,    0,    0,    0]])"
     },
     "execution_count": 7,
     "metadata": {},
     "output_type": "execute_result"
    }
   ],
   "source": [
    "X_test = test_pp.title\n",
    "y_test = test_pp.to_numpy()[:, -1]\n",
    "\n",
    "test_sequences = tokenizer.texts_to_sequences(X_test)\n",
    "test_padded = pad_sequences(test_sequences, maxlen=11, padding='post', truncating='post')\n",
    "test_padded"
   ],
   "metadata": {
    "collapsed": false,
    "ExecuteTime": {
     "end_time": "2023-05-22T01:32:00.073877600Z",
     "start_time": "2023-05-22T01:31:59.675109100Z"
    }
   }
  },
  {
   "cell_type": "markdown",
   "source": [
    "### Functions"
   ],
   "metadata": {
    "collapsed": false
   }
  },
  {
   "cell_type": "code",
   "execution_count": 8,
   "outputs": [],
   "source": [
    "def index2word(word_index):\n",
    "    index_word = {}\n",
    "    for key in word_index:\n",
    "        index_word[word_index[key]] = key\n",
    "    return index_word\n",
    "\n",
    "\n",
    "def seq2text(seq, index_word):\n",
    "    text = []\n",
    "    for index in seq:\n",
    "        text.append(index_word[index])\n",
    "    return text\n",
    "\n",
    "def show_confusion_matrix(cm):\n",
    "        print(\"Confusion Matrix\")\n",
    "        plt.figure(figsize=(10, 7))\n",
    "\n",
    "        sns.heatmap(cm, annot=True, fmt='d', cmap='Blues', xticklabels=['Negative', 'Positive'],\n",
    "                    yticklabels=['Negative', 'Positive'])\n",
    "        plt.xlabel('Predicted')\n",
    "        plt.ylabel('Truth')\n",
    "        plt.title('Confusion Matrix')\n",
    "        plt.show()"
   ],
   "metadata": {
    "collapsed": false,
    "ExecuteTime": {
     "end_time": "2023-05-22T01:32:00.216795200Z",
     "start_time": "2023-05-22T01:31:59.941954Z"
    }
   }
  },
  {
   "cell_type": "code",
   "execution_count": 9,
   "outputs": [],
   "source": [
    "index_word = index2word(word_index)"
   ],
   "metadata": {
    "collapsed": false,
    "ExecuteTime": {
     "end_time": "2023-05-22T01:32:00.284754800Z",
     "start_time": "2023-05-22T01:32:00.174819700Z"
    }
   }
  },
  {
   "cell_type": "code",
   "execution_count": 10,
   "outputs": [
    {
     "name": "stdout",
     "output_type": "stream",
     "text": [
      "57/57 [==============================] - 4s 6ms/step\n"
     ]
    }
   ],
   "source": [
    "pred_prob = model.predict(test_padded)"
   ],
   "metadata": {
    "collapsed": false,
    "ExecuteTime": {
     "end_time": "2023-05-22T01:32:04.628685200Z",
     "start_time": "2023-05-22T01:32:00.278758900Z"
    }
   }
  },
  {
   "cell_type": "code",
   "execution_count": 11,
   "outputs": [],
   "source": [
    "# y_pred = [1 if p > 0.5 else 0 for p in pred_prob]\n",
    "y_pred = np.argmax(pred_prob, axis=1)"
   ],
   "metadata": {
    "collapsed": false,
    "ExecuteTime": {
     "end_time": "2023-05-22T01:32:05.080167300Z",
     "start_time": "2023-05-22T01:32:04.629687500Z"
    }
   }
  },
  {
   "cell_type": "code",
   "execution_count": 12,
   "outputs": [
    {
     "data": {
      "text/plain": "                                               sequence  \\\n0     [70, 5, 18, 417, 110, 32, 23, 1084, 2510, 431,...   \n1                           [26, 101, 11, 2, 4, 319, 2]   \n2                    [7, 197, 2, 60, 3024, 1, 886, 405]   \n3              [10, 729, 2872, 174, 407, 844, 150, 466]   \n4                     [59, 86, 370, 8, 17, 83, 34, 625]   \n...                                                 ...   \n1797   [3, 9, 277, 2, 4, 1162, 104, 483, 165, 442, 182]   \n1798                  [586, 6, 1027, 35, 2399, 1, 3262]   \n1799  [1, 1, 1853, 1577, 1753, 1, 1554, 5211, 174, 2...   \n1800    [3, 726, 1042, 2341, 1, 78, 1646, 133, 90, 119]   \n1801            [6781, 4898, 1006, 3729, 5523, 2182, 1]   \n\n                                                 X_test  \\\n0     radar vale vale3 atualiza valor acao dividendo...   \n1           dolar encerra alta <NUM> cento cotado <NUM>   \n2     itau pagara <NUM> mi cobranca indevida tarifas...   \n3     ibovespa ganha folego opera estavel destaque e...   \n4     xp troca duas acoes carteira semanal veja port...   \n...                                                 ...   \n1797  petrobras petr4 atinge <NUM> cento uso refinar...   \n1798  maia diz hora bolsonaro parar brincadeira trab...   \n1799  midas trend suposta piramide chegou patrocinar...   \n1800  petrobras leva bloco itapu sozinha oferta mini...   \n1801  daniel barbosa como transformar trava opcoes p...   \n\n                                               seq2text  y_pred  y_true  \n0     [radar, vale, vale3, atualiza, valor, acao, di...       2       2  \n1       [dolar, encerra, alta, num, cento, cotado, num]       0       0  \n2     [itau, pagara, num, mi, cobranca, <OOV>, tarif...       3       3  \n3     [ibovespa, ganha, folego, opera, estavel, dest...       0       2  \n4     [xp, troca, duas, acoes, carteira, semanal, ve...       1       2  \n...                                                 ...     ...     ...  \n1797  [petrobras, petr4, atinge, num, cento, uso, re...       1       1  \n1798  [maia, diz, hora, bolsonaro, parar, <OOV>, tra...       0       0  \n1799  [<OOV>, <OOV>, suposta, piramide, chegou, <OOV...       2       0  \n1800  [petrobras, leva, bloco, itapu, <OOV>, oferta,...       1       1  \n1801  [daniel, barbosa, como, transformar, trava, op...       0       1  \n\n[1802 rows x 5 columns]",
      "text/html": "<div>\n<style scoped>\n    .dataframe tbody tr th:only-of-type {\n        vertical-align: middle;\n    }\n\n    .dataframe tbody tr th {\n        vertical-align: top;\n    }\n\n    .dataframe thead th {\n        text-align: right;\n    }\n</style>\n<table border=\"1\" class=\"dataframe\">\n  <thead>\n    <tr style=\"text-align: right;\">\n      <th></th>\n      <th>sequence</th>\n      <th>X_test</th>\n      <th>seq2text</th>\n      <th>y_pred</th>\n      <th>y_true</th>\n    </tr>\n  </thead>\n  <tbody>\n    <tr>\n      <th>0</th>\n      <td>[70, 5, 18, 417, 110, 32, 23, 1084, 2510, 431,...</td>\n      <td>radar vale vale3 atualiza valor acao dividendo...</td>\n      <td>[radar, vale, vale3, atualiza, valor, acao, di...</td>\n      <td>2</td>\n      <td>2</td>\n    </tr>\n    <tr>\n      <th>1</th>\n      <td>[26, 101, 11, 2, 4, 319, 2]</td>\n      <td>dolar encerra alta &lt;NUM&gt; cento cotado &lt;NUM&gt;</td>\n      <td>[dolar, encerra, alta, num, cento, cotado, num]</td>\n      <td>0</td>\n      <td>0</td>\n    </tr>\n    <tr>\n      <th>2</th>\n      <td>[7, 197, 2, 60, 3024, 1, 886, 405]</td>\n      <td>itau pagara &lt;NUM&gt; mi cobranca indevida tarifas...</td>\n      <td>[itau, pagara, num, mi, cobranca, &lt;OOV&gt;, tarif...</td>\n      <td>3</td>\n      <td>3</td>\n    </tr>\n    <tr>\n      <th>3</th>\n      <td>[10, 729, 2872, 174, 407, 844, 150, 466]</td>\n      <td>ibovespa ganha folego opera estavel destaque e...</td>\n      <td>[ibovespa, ganha, folego, opera, estavel, dest...</td>\n      <td>0</td>\n      <td>2</td>\n    </tr>\n    <tr>\n      <th>4</th>\n      <td>[59, 86, 370, 8, 17, 83, 34, 625]</td>\n      <td>xp troca duas acoes carteira semanal veja port...</td>\n      <td>[xp, troca, duas, acoes, carteira, semanal, ve...</td>\n      <td>1</td>\n      <td>2</td>\n    </tr>\n    <tr>\n      <th>...</th>\n      <td>...</td>\n      <td>...</td>\n      <td>...</td>\n      <td>...</td>\n      <td>...</td>\n    </tr>\n    <tr>\n      <th>1797</th>\n      <td>[3, 9, 277, 2, 4, 1162, 104, 483, 165, 442, 182]</td>\n      <td>petrobras petr4 atinge &lt;NUM&gt; cento uso refinar...</td>\n      <td>[petrobras, petr4, atinge, num, cento, uso, re...</td>\n      <td>1</td>\n      <td>1</td>\n    </tr>\n    <tr>\n      <th>1798</th>\n      <td>[586, 6, 1027, 35, 2399, 1, 3262]</td>\n      <td>maia diz hora bolsonaro parar brincadeira trab...</td>\n      <td>[maia, diz, hora, bolsonaro, parar, &lt;OOV&gt;, tra...</td>\n      <td>0</td>\n      <td>0</td>\n    </tr>\n    <tr>\n      <th>1799</th>\n      <td>[1, 1, 1853, 1577, 1753, 1, 1554, 5211, 174, 2...</td>\n      <td>midas trend suposta piramide chegou patrocinar...</td>\n      <td>[&lt;OOV&gt;, &lt;OOV&gt;, suposta, piramide, chegou, &lt;OOV...</td>\n      <td>2</td>\n      <td>0</td>\n    </tr>\n    <tr>\n      <th>1800</th>\n      <td>[3, 726, 1042, 2341, 1, 78, 1646, 133, 90, 119]</td>\n      <td>petrobras leva bloco itapu sozinha oferta mini...</td>\n      <td>[petrobras, leva, bloco, itapu, &lt;OOV&gt;, oferta,...</td>\n      <td>1</td>\n      <td>1</td>\n    </tr>\n    <tr>\n      <th>1801</th>\n      <td>[6781, 4898, 1006, 3729, 5523, 2182, 1]</td>\n      <td>daniel barbosa como transformar trava opcoes p...</td>\n      <td>[daniel, barbosa, como, transformar, trava, op...</td>\n      <td>0</td>\n      <td>1</td>\n    </tr>\n  </tbody>\n</table>\n<p>1802 rows × 5 columns</p>\n</div>"
     },
     "execution_count": 12,
     "metadata": {},
     "output_type": "execute_result"
    }
   ],
   "source": [
    "df_results = pd.DataFrame()\n",
    "X_test = list(X_test)\n",
    "y_test = list(y_test)\n",
    "df_results['sequence'] = test_sequences\n",
    "df_results['X_test'] = X_test\n",
    "df_results['seq2text'] = df_results['sequence'].apply(lambda x: seq2text(x, index_word))\n",
    "df_results['y_pred'] = y_pred\n",
    "df_results['y_true'] = y_test\n",
    "df_results"
   ],
   "metadata": {
    "collapsed": false,
    "ExecuteTime": {
     "end_time": "2023-05-22T01:32:05.141131700Z",
     "start_time": "2023-05-22T01:32:05.050655900Z"
    }
   }
  },
  {
   "cell_type": "markdown",
   "source": [
    "### Metrics"
   ],
   "metadata": {
    "collapsed": false
   }
  },
  {
   "cell_type": "code",
   "execution_count": 13,
   "outputs": [],
   "source": [
    "# accuracy = accuracy_score(y_true=y_test, y_pred=y_pred)\n",
    "# precision = precision_score(average='macro', y_true=y_test, y_pred=y_pred)\n",
    "# recall = recall_score(average='macro', y_true=y_test, y_pred=y_pred)\n",
    "# f1 = f1_score(average='macro', y_true=y_test, y_pred=y_pred)\n",
    "# cm = confusion_matrix(y_true=y_test, y_pred=y_pred)"
   ],
   "metadata": {
    "collapsed": false,
    "ExecuteTime": {
     "end_time": "2023-05-22T01:32:05.163119200Z",
     "start_time": "2023-05-22T01:32:05.131137600Z"
    }
   }
  },
  {
   "cell_type": "code",
   "execution_count": 14,
   "outputs": [
    {
     "name": "stdout",
     "output_type": "stream",
     "text": [
      "              precision    recall  f1-score   support\n",
      "\n",
      "           0       0.77      0.89      0.83       565\n",
      "           1       0.88      0.84      0.86       638\n",
      "           2       0.83      0.81      0.82       379\n",
      "           3       0.81      0.64      0.71       220\n",
      "\n",
      "    accuracy                           0.82      1802\n",
      "   macro avg       0.82      0.79      0.80      1802\n",
      "weighted avg       0.83      0.82      0.82      1802\n",
      "\n",
      "Confusion Matrix\n"
     ]
    },
    {
     "data": {
      "text/plain": "<Figure size 1000x700 with 2 Axes>",
      "image/png": "[encoded data removed]"
     },
     "metadata": {},
     "output_type": "display_data"
    }
   ],
   "source": [
    "print(classification_report(y_test,y_pred))\n",
    "cm = confusion_matrix(y_true=y_test, y_pred=y_pred)\n",
    "show_confusion_matrix(cm)"
   ],
   "metadata": {
    "collapsed": false,
    "ExecuteTime": {
     "end_time": "2023-05-22T01:32:06.004374400Z",
     "start_time": "2023-05-22T01:32:05.156123600Z"
    }
   }
  },
  {
   "cell_type": "code",
   "execution_count": 14,
   "outputs": [],
   "source": [],
   "metadata": {
    "collapsed": false,
    "ExecuteTime": {
     "end_time": "2023-05-22T01:32:06.328642Z",
     "start_time": "2023-05-22T01:32:05.993380900Z"
    }
   }
  }
 ],
 "metadata": {
  "kernelspec": {
   "display_name": "Python 3",
   "language": "python",
   "name": "python3"
  },
  "language_info": {
   "codemirror_mode": {
    "name": "ipython",
    "version": 2
   },
   "file_extension": ".py",
   "mimetype": "text/x-python",
   "name": "python",
   "nbconvert_exporter": "python",
   "pygments_lexer": "ipython2",
   "version": "2.7.6"
  }
 },
 "nbformat": 4,
 "nbformat_minor": 0
}
