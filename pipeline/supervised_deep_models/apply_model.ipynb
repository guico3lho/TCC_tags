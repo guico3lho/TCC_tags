{
 "cells": [
  {
   "cell_type": "markdown",
   "source": [
    "## Packages and Assets"
   ],
   "metadata": {
    "collapsed": false
   }
  },
  {
   "cell_type": "code",
   "execution_count": 1,
   "outputs": [],
   "source": [
    "import keras.models\n",
    "from sklearn.metrics import accuracy_score, precision_score, recall_score, f1_score, confusion_matrix, classification_report\n",
    "\n",
    "import seaborn as sns\n",
    "import json\n",
    "import matplotlib.pyplot as plt\n",
    "import numpy as np\n",
    "\n",
    "from keras.preprocessing.text import tokenizer_from_json\n",
    "\n",
    "from keras.utils import pad_sequences\n",
    "import pandas as pd\n",
    "import re\n",
    "import string\n",
    "import nltk\n"
   ],
   "metadata": {
    "collapsed": false,
    "ExecuteTime": {
     "end_time": "2023-05-21T02:38:54.244774Z",
     "start_time": "2023-05-21T02:38:42.275127Z"
    }
   }
  },
  {
   "cell_type": "markdown",
   "source": [
    "## Dependencies"
   ],
   "metadata": {
    "collapsed": false
   }
  },
  {
   "cell_type": "code",
   "execution_count": 3,
   "outputs": [
    {
     "name": "stdout",
     "output_type": "stream",
     "text": [
      "Model: \"sequential\"\n",
      "_________________________________________________________________\n",
      " Layer (type)                Output Shape              Param #   \n",
      "=================================================================\n",
      " embedding (Embedding)       (None, 11, 300)           3278400   \n",
      "                                                                 \n",
      " bidirectional (Bidirectiona  (None, 11, 32)           40576     \n",
      " l)                                                              \n",
      "                                                                 \n",
      " dropout (Dropout)           (None, 11, 32)            0         \n",
      "                                                                 \n",
      " bidirectional_1 (Bidirectio  (None, 32)               6272      \n",
      " nal)                                                            \n",
      "                                                                 \n",
      " dense (Dense)               (None, 64)                2112      \n",
      "                                                                 \n",
      " dropout_1 (Dropout)         (None, 64)                0         \n",
      "                                                                 \n",
      " dense_1 (Dense)             (None, 4)                 260       \n",
      "                                                                 \n",
      "=================================================================\n",
      "Total params: 3,327,620\n",
      "Trainable params: 49,220\n",
      "Non-trainable params: 3,278,400\n",
      "_________________________________________________________________\n"
     ]
    }
   ],
   "source": [
    "model = keras.models.load_model('../../assets/deep_assets/lstm_model')\n",
    "model.summary()"
   ],
   "metadata": {
    "collapsed": false,
    "ExecuteTime": {
     "end_time": "2023-05-21T02:39:29.422718200Z",
     "start_time": "2023-05-21T02:39:19.355312500Z"
    }
   }
  },
  {
   "cell_type": "code",
   "execution_count": 5,
   "outputs": [],
   "source": [
    "# Load the tokenizer from the file\n",
    "with open('../../assets/deep_assets/tokenizer.json', 'r', encoding='utf-8') as f:\n",
    "    tokenizer_json = f.read()\n",
    "    tokenizer = tokenizer_from_json(tokenizer_json)\n",
    "    word_index = tokenizer.word_index"
   ],
   "metadata": {
    "collapsed": false,
    "ExecuteTime": {
     "end_time": "2023-05-21T02:39:48.386321200Z",
     "start_time": "2023-05-21T02:39:48.336319200Z"
    }
   }
  },
  {
   "cell_type": "markdown",
   "source": [],
   "metadata": {
    "collapsed": false
   }
  },
  {
   "cell_type": "markdown",
   "source": [
    "## Functions"
   ],
   "metadata": {
    "collapsed": false
   }
  },
  {
   "cell_type": "markdown",
   "source": [
    "## Loading test data"
   ],
   "metadata": {
    "collapsed": false
   }
  },
  {
   "cell_type": "code",
   "execution_count": 7,
   "outputs": [
    {
     "data": {
      "text/plain": "                                                  title  \\\n0     Além do minério de ferro: Como Vale (VALE3) ap...   \n1     Santander: euforia do mercado com o banco pode...   \n2     Petrobras precifica nova emissão de US$ 1,5 bi...   \n3     Petrobras vai aumentar preço da gasolina em 3,...   \n4     Após sessão histórica, Ibovespa inicia manhã a...   \n...                                                 ...   \n1797  Exportações da China sobem 11,4% em outubro, m...   \n1798  NASDAQ 100: Confira as 5 ações que mais desval...   \n1799  Petrobras prorroga até 2023 contratos com Vall...   \n1800  Cemig deve ser privatizada para deixar de ser ...   \n1801  Ibovespa tem leve alta, mas é contido por comm...   \n\n                                                   tags  \\\n0     ['Ações', 'BTG Pactual', 'Commodities', 'Compr...   \n1     ['Ações', 'Banco do Brasil', 'Bancos', 'BB Inv...   \n2     ['Empresas', 'Internacional', 'Petrobras', 'Re...   \n3     ['Diesel', 'Empresas', 'Gasolina', 'Petrobras'...   \n4                                          ['ibovespa']   \n...                                                 ...   \n1797  ['China', 'exportação', 'exportações da China'...   \n1798  ['cisco systems', 'lam research', 'Moderna', '...   \n1799  ['Empresas', 'Minas Gerais', 'Petrobras', 'Pet...   \n1800  ['Cemig', 'Energia', 'Minas Gerais', 'privatiz...   \n1801  ['Bolsas mundiais', 'commodities', 'Especialis...   \n\n                                                   link  label  \n0     https://www.moneytimes.com.br/alem-do-minerio-...      2  \n1     https://www.moneytimes.com.br/santander-eufori...      3  \n2     https://www.moneytimes.com.br/petrobras-precif...      1  \n3     https://www.moneytimes.com.br/petrobras-vai-au...      1  \n4     https://www.sunoresearch.com.br/noticias/ibove...      0  \n...                                                 ...    ...  \n1797  https://www.sunoresearch.com.br/noticias/expor...      0  \n1798  https://www.sunoresearch.com.br/noticias/nasda...      0  \n1799  https://www.moneytimes.com.br/petrobras-prorro...      1  \n1800  https://www.sunoresearch.com.br/noticias/cemig...      0  \n1801  https://www.suno.com.br/noticias/ibovespa-alta...      2  \n\n[1802 rows x 4 columns]",
      "text/html": "<div>\n<style scoped>\n    .dataframe tbody tr th:only-of-type {\n        vertical-align: middle;\n    }\n\n    .dataframe tbody tr th {\n        vertical-align: top;\n    }\n\n    .dataframe thead th {\n        text-align: right;\n    }\n</style>\n<table border=\"1\" class=\"dataframe\">\n  <thead>\n    <tr style=\"text-align: right;\">\n      <th></th>\n      <th>title</th>\n      <th>tags</th>\n      <th>link</th>\n      <th>label</th>\n    </tr>\n  </thead>\n  <tbody>\n    <tr>\n      <th>0</th>\n      <td>Além do minério de ferro: Como Vale (VALE3) ap...</td>\n      <td>['Ações', 'BTG Pactual', 'Commodities', 'Compr...</td>\n      <td>https://www.moneytimes.com.br/alem-do-minerio-...</td>\n      <td>2</td>\n    </tr>\n    <tr>\n      <th>1</th>\n      <td>Santander: euforia do mercado com o banco pode...</td>\n      <td>['Ações', 'Banco do Brasil', 'Bancos', 'BB Inv...</td>\n      <td>https://www.moneytimes.com.br/santander-eufori...</td>\n      <td>3</td>\n    </tr>\n    <tr>\n      <th>2</th>\n      <td>Petrobras precifica nova emissão de US$ 1,5 bi...</td>\n      <td>['Empresas', 'Internacional', 'Petrobras', 'Re...</td>\n      <td>https://www.moneytimes.com.br/petrobras-precif...</td>\n      <td>1</td>\n    </tr>\n    <tr>\n      <th>3</th>\n      <td>Petrobras vai aumentar preço da gasolina em 3,...</td>\n      <td>['Diesel', 'Empresas', 'Gasolina', 'Petrobras'...</td>\n      <td>https://www.moneytimes.com.br/petrobras-vai-au...</td>\n      <td>1</td>\n    </tr>\n    <tr>\n      <th>4</th>\n      <td>Após sessão histórica, Ibovespa inicia manhã a...</td>\n      <td>['ibovespa']</td>\n      <td>https://www.sunoresearch.com.br/noticias/ibove...</td>\n      <td>0</td>\n    </tr>\n    <tr>\n      <th>...</th>\n      <td>...</td>\n      <td>...</td>\n      <td>...</td>\n      <td>...</td>\n    </tr>\n    <tr>\n      <th>1797</th>\n      <td>Exportações da China sobem 11,4% em outubro, m...</td>\n      <td>['China', 'exportação', 'exportações da China'...</td>\n      <td>https://www.sunoresearch.com.br/noticias/expor...</td>\n      <td>0</td>\n    </tr>\n    <tr>\n      <th>1798</th>\n      <td>NASDAQ 100: Confira as 5 ações que mais desval...</td>\n      <td>['cisco systems', 'lam research', 'Moderna', '...</td>\n      <td>https://www.sunoresearch.com.br/noticias/nasda...</td>\n      <td>0</td>\n    </tr>\n    <tr>\n      <th>1799</th>\n      <td>Petrobras prorroga até 2023 contratos com Vall...</td>\n      <td>['Empresas', 'Minas Gerais', 'Petrobras', 'Pet...</td>\n      <td>https://www.moneytimes.com.br/petrobras-prorro...</td>\n      <td>1</td>\n    </tr>\n    <tr>\n      <th>1800</th>\n      <td>Cemig deve ser privatizada para deixar de ser ...</td>\n      <td>['Cemig', 'Energia', 'Minas Gerais', 'privatiz...</td>\n      <td>https://www.sunoresearch.com.br/noticias/cemig...</td>\n      <td>0</td>\n    </tr>\n    <tr>\n      <th>1801</th>\n      <td>Ibovespa tem leve alta, mas é contido por comm...</td>\n      <td>['Bolsas mundiais', 'commodities', 'Especialis...</td>\n      <td>https://www.suno.com.br/noticias/ibovespa-alta...</td>\n      <td>2</td>\n    </tr>\n  </tbody>\n</table>\n<p>1802 rows × 4 columns</p>\n</div>"
     },
     "execution_count": 7,
     "metadata": {},
     "output_type": "execute_result"
    }
   ],
   "source": [
    "test_pp = pd.read_csv('../../assets/data/splits/test/preprocessed.csv')\n",
    "test_pp"
   ],
   "metadata": {
    "collapsed": false,
    "ExecuteTime": {
     "end_time": "2023-05-21T02:40:05.699076400Z",
     "start_time": "2023-05-21T02:40:05.615625900Z"
    }
   }
  },
  {
   "cell_type": "code",
   "execution_count": 8,
   "outputs": [
    {
     "name": "stderr",
     "output_type": "stream",
     "text": [
      "[nltk_data] Downloading package stopwords to\n",
      "[nltk_data]     C:\\Users\\Guilherme\\AppData\\Roaming\\nltk_data...\n",
      "[nltk_data]   Package stopwords is already up-to-date!\n"
     ]
    },
    {
     "data": {
      "text/plain": "array([[2054,   15,   18, ...,  567, 9155, 1322],\n       [ 108, 6002,   34, ...,    0,    0,    0],\n       [   3, 1125,   44, ...,    0,    0,    0],\n       ...,\n       [   3, 1199,    2, ...,    0,    0,    0],\n       [ 699,   53, 1903, ...,    0,    0,    0],\n       [  10,  147,   11, ...,    2,    4,    0]])"
     },
     "execution_count": 8,
     "metadata": {},
     "output_type": "execute_result"
    }
   ],
   "source": [
    "X_test = test_pp.title\n",
    "y_test = test_pp.to_numpy()[:, -1]\n",
    "\n",
    "test_sequences = tokenizer.texts_to_sequences(X_test)\n",
    "test_padded = pad_sequences(test_sequences, maxlen=11, padding='post', truncating='post')\n",
    "test_padded"
   ],
   "metadata": {
    "collapsed": false,
    "ExecuteTime": {
     "end_time": "2023-05-21T02:40:08.366524900Z",
     "start_time": "2023-05-21T02:40:07.599798300Z"
    }
   }
  },
  {
   "cell_type": "markdown",
   "source": [
    "### Functions"
   ],
   "metadata": {
    "collapsed": false
   }
  },
  {
   "cell_type": "code",
   "execution_count": 9,
   "outputs": [],
   "source": [
    "def index2word(word_index):\n",
    "    index_word = {}\n",
    "    for key in word_index:\n",
    "        index_word[word_index[key]] = key\n",
    "    return index_word\n",
    "\n",
    "\n",
    "def seq2text(seq, index_word):\n",
    "    text = []\n",
    "    for index in seq:\n",
    "        text.append(index_word[index])\n",
    "    return text\n",
    "\n",
    "def show_confusion_matrix(cm):\n",
    "        print(\"Confusion Matrix\")\n",
    "        plt.figure(figsize=(10, 7))\n",
    "\n",
    "        sns.heatmap(cm, annot=True, fmt='d', cmap='Blues', xticklabels=['Negative', 'Positive'],\n",
    "                    yticklabels=['Negative', 'Positive'])\n",
    "        plt.xlabel('Predicted')\n",
    "        plt.ylabel('Truth')\n",
    "        plt.title('Confusion Matrix')\n",
    "        plt.show()"
   ],
   "metadata": {
    "collapsed": false,
    "ExecuteTime": {
     "end_time": "2023-05-21T02:40:09.066540300Z",
     "start_time": "2023-05-21T02:40:09.056541600Z"
    }
   }
  },
  {
   "cell_type": "code",
   "execution_count": 10,
   "outputs": [],
   "source": [
    "index_word = index2word(word_index)"
   ],
   "metadata": {
    "collapsed": false,
    "ExecuteTime": {
     "end_time": "2023-05-21T02:40:10.262027200Z",
     "start_time": "2023-05-21T02:40:10.242018Z"
    }
   }
  },
  {
   "cell_type": "code",
   "execution_count": 11,
   "outputs": [
    {
     "name": "stdout",
     "output_type": "stream",
     "text": [
      "57/57 [==============================] - 2s 5ms/step\n"
     ]
    }
   ],
   "source": [
    "pred_prob = model.predict(test_padded)"
   ],
   "metadata": {
    "collapsed": false,
    "ExecuteTime": {
     "end_time": "2023-05-21T02:40:13.599044Z",
     "start_time": "2023-05-21T02:40:10.992606400Z"
    }
   }
  },
  {
   "cell_type": "code",
   "execution_count": 12,
   "outputs": [],
   "source": [
    "# y_pred = [1 if p > 0.5 else 0 for p in pred_prob]\n",
    "y_pred = np.argmax(pred_prob, axis=1)"
   ],
   "metadata": {
    "collapsed": false,
    "ExecuteTime": {
     "end_time": "2023-05-21T02:40:13.609043100Z",
     "start_time": "2023-05-21T02:40:13.599044Z"
    }
   }
  },
  {
   "cell_type": "code",
   "execution_count": 13,
   "outputs": [
    {
     "data": {
      "text/plain": "                                               sequence  \\\n0     [2054, 15, 18, 660, 5, 19, 4175, 11, 567, 9155...   \n1                   [108, 6002, 34, 36, 30, 2187, 1444]   \n2                    [3, 1125, 44, 484, 2, 20, 99, 506]   \n3                        [3, 49, 516, 37, 42, 2, 4, 96]   \n4         [14, 724, 1009, 10, 72, 1469, 390, 2, 73, 87]   \n...                                                 ...   \n1797              [598, 57, 284, 2, 4, 226, 71, 11, 88]   \n1798                     [1705, 2, 83, 2, 8, 1829, 270]   \n1799                   [3, 1199, 2, 409, 1, 1421, 9728]   \n1800                [699, 53, 1903, 900, 1, 6, 1, 3455]   \n1801    [10, 147, 11, 4029, 431, 1345, 2695, 215, 2, 4]   \n\n                                                 X_test  \\\n0     alem minerio ferro como vale vale3 aproveita a...   \n1      santander euforia mercado banco pode durar pouco   \n2     petrobras precifica nova emissao <NUM> bi titu...   \n3     petrobras vai aumentar preco gasolina <NUM> ce...   \n4     apos sessao historica ibovespa inicia manha ac...   \n...                                                 ...   \n1797  exportacoes china sobem <NUM> cento outubro ma...   \n1798  nasdaq <NUM> confira <NUM> acoes desvalorizara...   \n1799  petrobras prorroga <NUM> contratos vallourec f...   \n1800  cemig deve privatizada deixar onus diz romeu zema   \n1801  ibovespa leve alta contido commodities sulamer...   \n\n                                               seq2text  y_pred  y_true  \n0     [alem, minerio, ferro, como, vale, vale3, apro...       2       2  \n1     [santander, euforia, mercado, banco, pode, dur...       0       3  \n2     [petrobras, precifica, nova, emissao, num, bi,...       1       1  \n3     [petrobras, vai, aumentar, preco, gasolina, nu...       1       1  \n4     [apos, sessao, historica, ibovespa, inicia, ma...       0       0  \n...                                                 ...     ...     ...  \n1797  [exportacoes, china, sobem, num, cento, outubr...       0       0  \n1798  [nasdaq, num, confira, num, acoes, desvaloriza...       0       0  \n1799  [petrobras, prorroga, num, contratos, <OOV>, f...       1       1  \n1800  [cemig, deve, privatizada, deixar, <OOV>, diz,...       0       0  \n1801  [ibovespa, leve, alta, contido, commodities, s...       2       2  \n\n[1802 rows x 5 columns]",
      "text/html": "<div>\n<style scoped>\n    .dataframe tbody tr th:only-of-type {\n        vertical-align: middle;\n    }\n\n    .dataframe tbody tr th {\n        vertical-align: top;\n    }\n\n    .dataframe thead th {\n        text-align: right;\n    }\n</style>\n<table border=\"1\" class=\"dataframe\">\n  <thead>\n    <tr style=\"text-align: right;\">\n      <th></th>\n      <th>sequence</th>\n      <th>X_test</th>\n      <th>seq2text</th>\n      <th>y_pred</th>\n      <th>y_true</th>\n    </tr>\n  </thead>\n  <tbody>\n    <tr>\n      <th>0</th>\n      <td>[2054, 15, 18, 660, 5, 19, 4175, 11, 567, 9155...</td>\n      <td>alem minerio ferro como vale vale3 aproveita a...</td>\n      <td>[alem, minerio, ferro, como, vale, vale3, apro...</td>\n      <td>2</td>\n      <td>2</td>\n    </tr>\n    <tr>\n      <th>1</th>\n      <td>[108, 6002, 34, 36, 30, 2187, 1444]</td>\n      <td>santander euforia mercado banco pode durar pouco</td>\n      <td>[santander, euforia, mercado, banco, pode, dur...</td>\n      <td>0</td>\n      <td>3</td>\n    </tr>\n    <tr>\n      <th>2</th>\n      <td>[3, 1125, 44, 484, 2, 20, 99, 506]</td>\n      <td>petrobras precifica nova emissao &lt;NUM&gt; bi titu...</td>\n      <td>[petrobras, precifica, nova, emissao, num, bi,...</td>\n      <td>1</td>\n      <td>1</td>\n    </tr>\n    <tr>\n      <th>3</th>\n      <td>[3, 49, 516, 37, 42, 2, 4, 96]</td>\n      <td>petrobras vai aumentar preco gasolina &lt;NUM&gt; ce...</td>\n      <td>[petrobras, vai, aumentar, preco, gasolina, nu...</td>\n      <td>1</td>\n      <td>1</td>\n    </tr>\n    <tr>\n      <th>4</th>\n      <td>[14, 724, 1009, 10, 72, 1469, 390, 2, 73, 87]</td>\n      <td>apos sessao historica ibovespa inicia manha ac...</td>\n      <td>[apos, sessao, historica, ibovespa, inicia, ma...</td>\n      <td>0</td>\n      <td>0</td>\n    </tr>\n    <tr>\n      <th>...</th>\n      <td>...</td>\n      <td>...</td>\n      <td>...</td>\n      <td>...</td>\n      <td>...</td>\n    </tr>\n    <tr>\n      <th>1797</th>\n      <td>[598, 57, 284, 2, 4, 226, 71, 11, 88]</td>\n      <td>exportacoes china sobem &lt;NUM&gt; cento outubro ma...</td>\n      <td>[exportacoes, china, sobem, num, cento, outubr...</td>\n      <td>0</td>\n      <td>0</td>\n    </tr>\n    <tr>\n      <th>1798</th>\n      <td>[1705, 2, 83, 2, 8, 1829, 270]</td>\n      <td>nasdaq &lt;NUM&gt; confira &lt;NUM&gt; acoes desvalorizara...</td>\n      <td>[nasdaq, num, confira, num, acoes, desvaloriza...</td>\n      <td>0</td>\n      <td>0</td>\n    </tr>\n    <tr>\n      <th>1799</th>\n      <td>[3, 1199, 2, 409, 1, 1421, 9728]</td>\n      <td>petrobras prorroga &lt;NUM&gt; contratos vallourec f...</td>\n      <td>[petrobras, prorroga, num, contratos, &lt;OOV&gt;, f...</td>\n      <td>1</td>\n      <td>1</td>\n    </tr>\n    <tr>\n      <th>1800</th>\n      <td>[699, 53, 1903, 900, 1, 6, 1, 3455]</td>\n      <td>cemig deve privatizada deixar onus diz romeu zema</td>\n      <td>[cemig, deve, privatizada, deixar, &lt;OOV&gt;, diz,...</td>\n      <td>0</td>\n      <td>0</td>\n    </tr>\n    <tr>\n      <th>1801</th>\n      <td>[10, 147, 11, 4029, 431, 1345, 2695, 215, 2, 4]</td>\n      <td>ibovespa leve alta contido commodities sulamer...</td>\n      <td>[ibovespa, leve, alta, contido, commodities, s...</td>\n      <td>2</td>\n      <td>2</td>\n    </tr>\n  </tbody>\n</table>\n<p>1802 rows × 5 columns</p>\n</div>"
     },
     "execution_count": 13,
     "metadata": {},
     "output_type": "execute_result"
    }
   ],
   "source": [
    "df_results = pd.DataFrame()\n",
    "X_test = list(X_test)\n",
    "y_test = list(y_test)\n",
    "df_results['sequence'] = test_sequences\n",
    "df_results['X_test'] = X_test\n",
    "df_results['seq2text'] = df_results['sequence'].apply(lambda x: seq2text(x, index_word))\n",
    "df_results['y_pred'] = y_pred\n",
    "df_results['y_true'] = y_test\n",
    "df_results"
   ],
   "metadata": {
    "collapsed": false,
    "ExecuteTime": {
     "end_time": "2023-05-21T02:40:13.657083400Z",
     "start_time": "2023-05-21T02:40:13.609043100Z"
    }
   }
  },
  {
   "cell_type": "markdown",
   "source": [
    "### Metrics"
   ],
   "metadata": {
    "collapsed": false
   }
  },
  {
   "cell_type": "code",
   "execution_count": 14,
   "outputs": [],
   "source": [
    "# accuracy = accuracy_score(y_true=y_test, y_pred=y_pred)\n",
    "# precision = precision_score(average='macro', y_true=y_test, y_pred=y_pred)\n",
    "# recall = recall_score(average='macro', y_true=y_test, y_pred=y_pred)\n",
    "# f1 = f1_score(average='macro', y_true=y_test, y_pred=y_pred)\n",
    "# cm = confusion_matrix(y_true=y_test, y_pred=y_pred)"
   ],
   "metadata": {
    "collapsed": false,
    "ExecuteTime": {
     "end_time": "2023-05-21T02:40:14.011395700Z",
     "start_time": "2023-05-21T02:40:14.001396600Z"
    }
   }
  },
  {
   "cell_type": "code",
   "execution_count": 15,
   "outputs": [
    {
     "name": "stdout",
     "output_type": "stream",
     "text": [
      "              precision    recall  f1-score   support\n",
      "\n",
      "           0       0.78      0.95      0.86       607\n",
      "           1       0.96      0.82      0.89       628\n",
      "           2       0.90      0.88      0.89       367\n",
      "           3       0.93      0.76      0.83       200\n",
      "\n",
      "    accuracy                           0.87      1802\n",
      "   macro avg       0.89      0.85      0.87      1802\n",
      "weighted avg       0.88      0.87      0.87      1802\n",
      "\n",
      "Confusion Matrix\n"
     ]
    },
    {
     "data": {
      "text/plain": "<Figure size 1000x700 with 2 Axes>",
      "image/png": "[encoded data removed]"
     },
     "metadata": {},
     "output_type": "display_data"
    }
   ],
   "source": [
    "print(classification_report(y_test,y_pred))\n",
    "cm = confusion_matrix(y_true=y_test, y_pred=y_pred)\n",
    "show_confusion_matrix(cm)"
   ],
   "metadata": {
    "collapsed": false,
    "ExecuteTime": {
     "end_time": "2023-05-21T02:40:14.840526900Z",
     "start_time": "2023-05-21T02:40:14.530292300Z"
    }
   }
  },
  {
   "cell_type": "code",
   "execution_count": null,
   "outputs": [],
   "source": [],
   "metadata": {
    "collapsed": false
   }
  }
 ],
 "metadata": {
  "kernelspec": {
   "display_name": "Python 3",
   "language": "python",
   "name": "python3"
  },
  "language_info": {
   "codemirror_mode": {
    "name": "ipython",
    "version": 2
   },
   "file_extension": ".py",
   "mimetype": "text/x-python",
   "name": "python",
   "nbconvert_exporter": "python",
   "pygments_lexer": "ipython2",
   "version": "2.7.6"
  }
 },
 "nbformat": 4,
 "nbformat_minor": 0
}
