{
 "cells": [
  {
   "cell_type": "markdown",
   "source": [
    "## Packages"
   ],
   "metadata": {
    "collapsed": false
   }
  },
  {
   "cell_type": "code",
   "execution_count": 28,
   "outputs": [],
   "source": [
    "import pandas as pd\n",
    "import json\n",
    "import requests"
   ],
   "metadata": {
    "collapsed": false
   }
  },
  {
   "cell_type": "markdown",
   "source": [
    "## Functions"
   ],
   "metadata": {
    "collapsed": false
   }
  },
  {
   "cell_type": "code",
   "execution_count": 29,
   "outputs": [],
   "source": [
    "def getDateOutOfDatetimeToIndex(df):\n",
    "    df['time'] = df['date'].apply(lambda x: str(x).split()[1])\n",
    "    df['date'] = pd.to_datetime(df['date'], format='%d/%m/%Y %H:%M')\n",
    "    df['date'] = df['date'].apply(lambda x: str(x).split()[0])\n",
    "    df.set_index('date', inplace=True)\n",
    "    df.sort_index(inplace=True)\n",
    "    return df\n"
   ],
   "metadata": {
    "collapsed": false
   }
  },
  {
   "cell_type": "code",
   "execution_count": 36,
   "outputs": [],
   "source": [
    "def makeDataset(df1_raw,df2_raw, shift=False):\n",
    "    df1 = df1_raw.copy()\n",
    "    # 27/12/2020 10:25 -> 27-12-2020\n",
    "    df1['date'] = pd.to_datetime(df1['date'], format='%d/%m/%Y %H:%M')\n",
    "\n",
    "    df1 = getDateOutOfDatetimeToIndex(df1)\n",
    "\n",
    "\n",
    "    df2 = df2_raw.copy()\n",
    "\n",
    "    df2['profit'] = (df2['Close'] - df2['Open'])\n",
    "    df2['label'] = df2['profit'].apply(lambda x: 1 if x > 0 else 0)\n",
    "    df2.rename(columns={'Date':'date'},inplace=True)\n",
    "    # profit will be influenced by news on same day (Shift\n",
    "    if shift:\n",
    "        df2['label'] = df2['label'].shift(-1)\n",
    "        # remove row with nan value\n",
    "        df2.dropna(inplace=True)\n",
    "    else:\n",
    "        pass\n",
    "\n",
    "    df2.set_index('date', inplace=True)\n",
    "\n",
    "    df_raw = df1.merge(on='date', right=df2[['label']], how='inner')\n",
    "\n",
    "\n",
    "    df_raw = df_raw[(df_raw['time'] > '10:00') & (df_raw['time'] < '18:00')]\n",
    "\n",
    "    df_raw['label'].value_counts()\n",
    "\n",
    "\n",
    "    return df_raw"
   ],
   "metadata": {
    "collapsed": false
   }
  },
  {
   "cell_type": "markdown",
   "source": [
    "## Get data"
   ],
   "metadata": {
    "collapsed": false
   }
  },
  {
   "cell_type": "markdown",
   "source": [
    "### News data"
   ],
   "metadata": {
    "collapsed": false
   }
  },
  {
   "cell_type": "code",
   "execution_count": 31,
   "outputs": [
    {
     "data": {
      "text/plain": "         topic                                              title  \\\n0     Negócios  Petrobras (PETR4) finaliza venda do Polo Peroá...   \n1     Economia  Conselheiro da Petrobras (PETR4) sugere congel...   \n2     Negócios  Radar: MRV (MRVE3) paga dividendos milionários...   \n3     Política  Líder dos caminhoneiros sobre voucher: “Não pr...   \n4     Negócios  Petrobras (PETR4): Petroleiros aprovam indicat...   \n...        ...                                                ...   \n1425   Mercado  Ibovespa fecha em queda de 0,35%, a 104.109,07...   \n1426  Negócios  Petrobras faz pré-pagamento de US$ 3,5 bi em l...   \n1427  Negócios  Petrobras (PETR4) divulga teaser de venda de p...   \n1428  Negócios  Agenda do Dia: Petrobras; Yduqs; Oi; AES Tietê...   \n1429  Negócios  Petrobras (PETR4): BNDES reprovou bonificação ...   \n\n                  date          search_date  \\\n0     03/08/2022 13:46  2022-08-04 00:21:19   \n1     17/06/2022 19:52  2022-08-04 00:21:35   \n2     20/06/2022 23:05  2022-08-04 00:21:35   \n3     22/06/2022 17:24  2022-08-04 00:21:35   \n4     10/07/2022 09:40  2022-08-04 00:21:35   \n...                ...                  ...   \n1425  28/07/2020 17:37  2022-05-03 16:22:55   \n1426  28/07/2020 15:00  2022-05-03 16:22:56   \n1427  28/07/2020 11:26  2022-05-03 16:22:57   \n1428  28/07/2020 09:49  2022-05-03 16:22:57   \n1429  28/07/2020 08:28  2022-05-03 16:22:57   \n\n                                                    url  \\\n0     https://www.suno.com.br/noticias/petrobras-pet...   \n1     https://www.suno.com.br/noticias/petrobras-pet...   \n2     https://www.suno.com.br/noticias/radar-petrobr...   \n3     https://www.suno.com.br/noticias/lider-caminho...   \n4     https://www.suno.com.br/noticias/petrobras-pet...   \n...                                                 ...   \n1425  https://www.suno.com.br/noticias/ibovespa-fech...   \n1426  https://www.suno.com.br/noticias/petrobras-pre...   \n1427  https://www.suno.com.br/noticias/petrobras-pet...   \n1428  https://www.suno.com.br/noticias/agenda-do-dia...   \n1429  https://www.suno.com.br/noticias/petrobras-pet...   \n\n                                                   tags  \n0     [Petrobras (PETR4), 3R Petroleum (RRRP3), Petr...  \n1     [Petrobras (PETR4), Arthur Lira, Jair Bolsonar...  \n2     [Ibovespa, Ibovespa, Magazine Luiza (MGLU3), M...  \n3     [Petrobras (PETR4), combustíveis, diesel, Jair...  \n4     [Petrobras (PETR4), greves, Petrobras (PETR4),...  \n...                                                 ...  \n1425  [AES Tietê (TIET3/TIET4/TIET11), BNDES, Iboves...  \n1426                         [PETR3, Petrobras (PETR4)]  \n1427                         [PETR3, Petrobras (PETR4)]  \n1428  [AES Tietê (TIET3/TIET4/TIET11), agenda do dia...  \n1429                      [BNDESPar, Petrobras (PETR4)]  \n\n[1430 rows x 6 columns]",
      "text/html": "<div>\n<style scoped>\n    .dataframe tbody tr th:only-of-type {\n        vertical-align: middle;\n    }\n\n    .dataframe tbody tr th {\n        vertical-align: top;\n    }\n\n    .dataframe thead th {\n        text-align: right;\n    }\n</style>\n<table border=\"1\" class=\"dataframe\">\n  <thead>\n    <tr style=\"text-align: right;\">\n      <th></th>\n      <th>topic</th>\n      <th>title</th>\n      <th>date</th>\n      <th>search_date</th>\n      <th>url</th>\n      <th>tags</th>\n    </tr>\n  </thead>\n  <tbody>\n    <tr>\n      <th>0</th>\n      <td>Negócios</td>\n      <td>Petrobras (PETR4) finaliza venda do Polo Peroá...</td>\n      <td>03/08/2022 13:46</td>\n      <td>2022-08-04 00:21:19</td>\n      <td>https://www.suno.com.br/noticias/petrobras-pet...</td>\n      <td>[Petrobras (PETR4), 3R Petroleum (RRRP3), Petr...</td>\n    </tr>\n    <tr>\n      <th>1</th>\n      <td>Economia</td>\n      <td>Conselheiro da Petrobras (PETR4) sugere congel...</td>\n      <td>17/06/2022 19:52</td>\n      <td>2022-08-04 00:21:35</td>\n      <td>https://www.suno.com.br/noticias/petrobras-pet...</td>\n      <td>[Petrobras (PETR4), Arthur Lira, Jair Bolsonar...</td>\n    </tr>\n    <tr>\n      <th>2</th>\n      <td>Negócios</td>\n      <td>Radar: MRV (MRVE3) paga dividendos milionários...</td>\n      <td>20/06/2022 23:05</td>\n      <td>2022-08-04 00:21:35</td>\n      <td>https://www.suno.com.br/noticias/radar-petrobr...</td>\n      <td>[Ibovespa, Ibovespa, Magazine Luiza (MGLU3), M...</td>\n    </tr>\n    <tr>\n      <th>3</th>\n      <td>Política</td>\n      <td>Líder dos caminhoneiros sobre voucher: “Não pr...</td>\n      <td>22/06/2022 17:24</td>\n      <td>2022-08-04 00:21:35</td>\n      <td>https://www.suno.com.br/noticias/lider-caminho...</td>\n      <td>[Petrobras (PETR4), combustíveis, diesel, Jair...</td>\n    </tr>\n    <tr>\n      <th>4</th>\n      <td>Negócios</td>\n      <td>Petrobras (PETR4): Petroleiros aprovam indicat...</td>\n      <td>10/07/2022 09:40</td>\n      <td>2022-08-04 00:21:35</td>\n      <td>https://www.suno.com.br/noticias/petrobras-pet...</td>\n      <td>[Petrobras (PETR4), greves, Petrobras (PETR4),...</td>\n    </tr>\n    <tr>\n      <th>...</th>\n      <td>...</td>\n      <td>...</td>\n      <td>...</td>\n      <td>...</td>\n      <td>...</td>\n      <td>...</td>\n    </tr>\n    <tr>\n      <th>1425</th>\n      <td>Mercado</td>\n      <td>Ibovespa fecha em queda de 0,35%, a 104.109,07...</td>\n      <td>28/07/2020 17:37</td>\n      <td>2022-05-03 16:22:55</td>\n      <td>https://www.suno.com.br/noticias/ibovespa-fech...</td>\n      <td>[AES Tietê (TIET3/TIET4/TIET11), BNDES, Iboves...</td>\n    </tr>\n    <tr>\n      <th>1426</th>\n      <td>Negócios</td>\n      <td>Petrobras faz pré-pagamento de US$ 3,5 bi em l...</td>\n      <td>28/07/2020 15:00</td>\n      <td>2022-05-03 16:22:56</td>\n      <td>https://www.suno.com.br/noticias/petrobras-pre...</td>\n      <td>[PETR3, Petrobras (PETR4)]</td>\n    </tr>\n    <tr>\n      <th>1427</th>\n      <td>Negócios</td>\n      <td>Petrobras (PETR4) divulga teaser de venda de p...</td>\n      <td>28/07/2020 11:26</td>\n      <td>2022-05-03 16:22:57</td>\n      <td>https://www.suno.com.br/noticias/petrobras-pet...</td>\n      <td>[PETR3, Petrobras (PETR4)]</td>\n    </tr>\n    <tr>\n      <th>1428</th>\n      <td>Negócios</td>\n      <td>Agenda do Dia: Petrobras; Yduqs; Oi; AES Tietê...</td>\n      <td>28/07/2020 09:49</td>\n      <td>2022-05-03 16:22:57</td>\n      <td>https://www.suno.com.br/noticias/agenda-do-dia...</td>\n      <td>[AES Tietê (TIET3/TIET4/TIET11), agenda do dia...</td>\n    </tr>\n    <tr>\n      <th>1429</th>\n      <td>Negócios</td>\n      <td>Petrobras (PETR4): BNDES reprovou bonificação ...</td>\n      <td>28/07/2020 08:28</td>\n      <td>2022-05-03 16:22:57</td>\n      <td>https://www.suno.com.br/noticias/petrobras-pet...</td>\n      <td>[BNDESPar, Petrobras (PETR4)]</td>\n    </tr>\n  </tbody>\n</table>\n<p>1430 rows × 6 columns</p>\n</div>"
     },
     "execution_count": 31,
     "metadata": {},
     "output_type": "execute_result"
    }
   ],
   "source": [
    "url = 'https://raw.githubusercontent.com/guico3lho/TCC/main/assets/Datasets/suno/suno-petr4.json?token=GHSAT0AAAAAABYDRQ4ZASOZJOMO2OAKI4MEZAOJOKA'\n",
    "r = requests.get(url)\n",
    "json_data = r.json()\n",
    "df_news_raw = pd.DataFrame(json_data)\n",
    "df_news_raw"
   ],
   "metadata": {
    "collapsed": false
   }
  },
  {
   "cell_type": "markdown",
   "source": [
    "### Historical data"
   ],
   "metadata": {
    "collapsed": false
   }
  },
  {
   "cell_type": "code",
   "execution_count": 32,
   "outputs": [
    {
     "data": {
      "text/plain": "           Date       Open       High        Low      Close  Adj Close  \\\n0    2020-07-16  23.160000  23.280001  22.520000  22.719999  10.791756   \n1    2020-07-17  22.830000  23.030001  22.580000  22.740000  10.801254   \n2    2020-07-20  22.700001  22.910000  22.520000  22.740000  10.801254   \n3    2020-07-21  23.150000  23.600000  23.139999  23.370001  11.100499   \n4    2020-07-22  23.299999  23.410000  23.010000  23.049999  10.948501   \n..          ...        ...        ...        ...        ...        ...   \n359  2021-12-29  28.700001  28.900000  28.420000  28.540001  16.678885   \n360  2021-12-30  28.549999  28.700001  28.389999  28.450001  16.626287   \n361  2022-01-03  28.540001  29.219999  28.530001  29.090000  17.000307   \n362  2022-01-04  29.160000  29.400000  28.910000  29.200001  17.064590   \n363  2022-01-05  29.190001  29.270000  27.940001  28.070000  16.404213   \n\n        Volume  \n0     69698700  \n1     49927600  \n2     48679800  \n3    101769600  \n4     43085500  \n..         ...  \n359   35508400  \n360   43229100  \n361   52704700  \n362   51739200  \n363   78459800  \n\n[364 rows x 7 columns]",
      "text/html": "<div>\n<style scoped>\n    .dataframe tbody tr th:only-of-type {\n        vertical-align: middle;\n    }\n\n    .dataframe tbody tr th {\n        vertical-align: top;\n    }\n\n    .dataframe thead th {\n        text-align: right;\n    }\n</style>\n<table border=\"1\" class=\"dataframe\">\n  <thead>\n    <tr style=\"text-align: right;\">\n      <th></th>\n      <th>Date</th>\n      <th>Open</th>\n      <th>High</th>\n      <th>Low</th>\n      <th>Close</th>\n      <th>Adj Close</th>\n      <th>Volume</th>\n    </tr>\n  </thead>\n  <tbody>\n    <tr>\n      <th>0</th>\n      <td>2020-07-16</td>\n      <td>23.160000</td>\n      <td>23.280001</td>\n      <td>22.520000</td>\n      <td>22.719999</td>\n      <td>10.791756</td>\n      <td>69698700</td>\n    </tr>\n    <tr>\n      <th>1</th>\n      <td>2020-07-17</td>\n      <td>22.830000</td>\n      <td>23.030001</td>\n      <td>22.580000</td>\n      <td>22.740000</td>\n      <td>10.801254</td>\n      <td>49927600</td>\n    </tr>\n    <tr>\n      <th>2</th>\n      <td>2020-07-20</td>\n      <td>22.700001</td>\n      <td>22.910000</td>\n      <td>22.520000</td>\n      <td>22.740000</td>\n      <td>10.801254</td>\n      <td>48679800</td>\n    </tr>\n    <tr>\n      <th>3</th>\n      <td>2020-07-21</td>\n      <td>23.150000</td>\n      <td>23.600000</td>\n      <td>23.139999</td>\n      <td>23.370001</td>\n      <td>11.100499</td>\n      <td>101769600</td>\n    </tr>\n    <tr>\n      <th>4</th>\n      <td>2020-07-22</td>\n      <td>23.299999</td>\n      <td>23.410000</td>\n      <td>23.010000</td>\n      <td>23.049999</td>\n      <td>10.948501</td>\n      <td>43085500</td>\n    </tr>\n    <tr>\n      <th>...</th>\n      <td>...</td>\n      <td>...</td>\n      <td>...</td>\n      <td>...</td>\n      <td>...</td>\n      <td>...</td>\n      <td>...</td>\n    </tr>\n    <tr>\n      <th>359</th>\n      <td>2021-12-29</td>\n      <td>28.700001</td>\n      <td>28.900000</td>\n      <td>28.420000</td>\n      <td>28.540001</td>\n      <td>16.678885</td>\n      <td>35508400</td>\n    </tr>\n    <tr>\n      <th>360</th>\n      <td>2021-12-30</td>\n      <td>28.549999</td>\n      <td>28.700001</td>\n      <td>28.389999</td>\n      <td>28.450001</td>\n      <td>16.626287</td>\n      <td>43229100</td>\n    </tr>\n    <tr>\n      <th>361</th>\n      <td>2022-01-03</td>\n      <td>28.540001</td>\n      <td>29.219999</td>\n      <td>28.530001</td>\n      <td>29.090000</td>\n      <td>17.000307</td>\n      <td>52704700</td>\n    </tr>\n    <tr>\n      <th>362</th>\n      <td>2022-01-04</td>\n      <td>29.160000</td>\n      <td>29.400000</td>\n      <td>28.910000</td>\n      <td>29.200001</td>\n      <td>17.064590</td>\n      <td>51739200</td>\n    </tr>\n    <tr>\n      <th>363</th>\n      <td>2022-01-05</td>\n      <td>29.190001</td>\n      <td>29.270000</td>\n      <td>27.940001</td>\n      <td>28.070000</td>\n      <td>16.404213</td>\n      <td>78459800</td>\n    </tr>\n  </tbody>\n</table>\n<p>364 rows × 7 columns</p>\n</div>"
     },
     "execution_count": 32,
     "metadata": {},
     "output_type": "execute_result"
    }
   ],
   "source": [
    "# read csv\n",
    "df_historical = pd.read_csv('https://raw.githubusercontent.com/guico3lho/TCC/main/assets/Datasets/historical_data/PETR4.SA_2020_2022.csv?token=GHSAT0AAAAAABYDRQ4YHUL4MN5RAT5ILM7OZAOKZTA')\n",
    "df_historical"
   ],
   "metadata": {
    "collapsed": false
   }
  },
  {
   "cell_type": "markdown",
   "source": [
    "### Merge datasets"
   ],
   "metadata": {
    "collapsed": false
   }
  },
  {
   "cell_type": "code",
   "execution_count": 37,
   "outputs": [
    {
     "data": {
      "text/plain": "               topic                                              title  \\\ndate                                                                      \n2020-07-16   Mercado  Ibovespa hoje cai 1,22% em mau humor com bater...   \n2020-07-21  Negócios  Petrobras (PETR4) tem queda de 3% na produção ...   \n2020-07-21  Negócios  Petrobras tem decisão favorável da Justiça em ...   \n2020-07-21   Mercado  Ibovespa se descola das bolsas no exterior e c...   \n2020-07-21   Mercado  Ibovespa abre em alta de 0,6% e opera acima de...   \n...              ...                                                ...   \n2021-12-27  Negócios  Petrobras (PETR4): XP diz que ação está barata...   \n2021-12-28  Negócios  Petrobras (PETR4) recupera R$ 6,17 bilhões em ...   \n2021-12-28  Negócios  Perdas robustas, medo e instabilidade: relembr...   \n2021-12-29  Economia  Petrobras (PETR4) vai recorrer de decisão que ...   \n2021-12-30  Economia  Petrobras (PETR4) tenta reverter suspensão de ...   \n\n                    search_date  \\\ndate                              \n2020-07-16  2022-05-03 16:22:45   \n2020-07-21  2022-05-03 16:22:45   \n2020-07-21  2022-05-03 16:22:46   \n2020-07-21  2022-05-03 16:22:44   \n2020-07-21  2022-05-03 16:22:45   \n...                         ...   \n2021-12-27  2022-05-03 16:01:41   \n2021-12-28  2022-05-03 16:03:23   \n2021-12-28  2022-05-03 16:03:23   \n2021-12-29  2022-05-03 16:01:08   \n2021-12-30  2022-05-03 16:01:14   \n\n                                                          url  \\\ndate                                                            \n2020-07-16  https://www.suno.com.br/noticias/ibovespa-fech...   \n2020-07-21  https://www.suno.com.br/noticias/petrobras-pet...   \n2020-07-21  https://www.suno.com.br/noticias/petrobras-tev...   \n2020-07-21  https://www.suno.com.br/noticias/ibovespa-fehc...   \n2020-07-21  https://www.suno.com.br/noticias/ibovespa-ue-b...   \n...                                                       ...   \n2021-12-27  https://www.suno.com.br/noticias/petrobras-pet...   \n2021-12-28  https://www.suno.com.br/noticias/petrobras-pet...   \n2021-12-28  https://www.suno.com.br/noticias/10-piores-dia...   \n2021-12-29  https://www.suno.com.br/noticias/petrobras-pet...   \n2021-12-30  https://www.suno.com.br/noticias/petrobras-pet...   \n\n                                                         tags      time  label  \ndate                                                                            \n2020-07-16  [Ibovespa, JHSF (JHSF3), Petrobras (PETR4), Va...  17:28:00      0  \n2020-07-21          [ANP, PETR3, Petrobras (PETR4), Petróleo]  12:32:00      1  \n2020-07-21            [COFINS, PETR3, Petrobras (PETR4), PIS]  10:14:00      1  \n2020-07-21  [Ibovespa, Paulo Guedes, Petrobras (PETR4), Qu...  17:41:00      1  \n2020-07-21  [Ibovespa, Petrobras (PETR4), União Europeia, ...  10:42:00      1  \n...                                                       ...       ...    ...  \n2021-12-27              [Petrobras (PETR4), XP Investimentos]  15:08:00      1  \n2021-12-28            [Operação Lava Jato, Petrobras (PETR4)]  13:22:00      0  \n2021-12-28        [Ibovespa, Petrobras (PETR4), Vale (VALE3)]  10:00:00      0  \n2021-12-29                                [Petrobras (PETR4)]  13:19:00      0  \n2021-12-30                                [Petrobras (PETR4)]  15:05:00      0  \n\n[485 rows x 7 columns]",
      "text/html": "<div>\n<style scoped>\n    .dataframe tbody tr th:only-of-type {\n        vertical-align: middle;\n    }\n\n    .dataframe tbody tr th {\n        vertical-align: top;\n    }\n\n    .dataframe thead th {\n        text-align: right;\n    }\n</style>\n<table border=\"1\" class=\"dataframe\">\n  <thead>\n    <tr style=\"text-align: right;\">\n      <th></th>\n      <th>topic</th>\n      <th>title</th>\n      <th>search_date</th>\n      <th>url</th>\n      <th>tags</th>\n      <th>time</th>\n      <th>label</th>\n    </tr>\n    <tr>\n      <th>date</th>\n      <th></th>\n      <th></th>\n      <th></th>\n      <th></th>\n      <th></th>\n      <th></th>\n      <th></th>\n    </tr>\n  </thead>\n  <tbody>\n    <tr>\n      <th>2020-07-16</th>\n      <td>Mercado</td>\n      <td>Ibovespa hoje cai 1,22% em mau humor com bater...</td>\n      <td>2022-05-03 16:22:45</td>\n      <td>https://www.suno.com.br/noticias/ibovespa-fech...</td>\n      <td>[Ibovespa, JHSF (JHSF3), Petrobras (PETR4), Va...</td>\n      <td>17:28:00</td>\n      <td>0</td>\n    </tr>\n    <tr>\n      <th>2020-07-21</th>\n      <td>Negócios</td>\n      <td>Petrobras (PETR4) tem queda de 3% na produção ...</td>\n      <td>2022-05-03 16:22:45</td>\n      <td>https://www.suno.com.br/noticias/petrobras-pet...</td>\n      <td>[ANP, PETR3, Petrobras (PETR4), Petróleo]</td>\n      <td>12:32:00</td>\n      <td>1</td>\n    </tr>\n    <tr>\n      <th>2020-07-21</th>\n      <td>Negócios</td>\n      <td>Petrobras tem decisão favorável da Justiça em ...</td>\n      <td>2022-05-03 16:22:46</td>\n      <td>https://www.suno.com.br/noticias/petrobras-tev...</td>\n      <td>[COFINS, PETR3, Petrobras (PETR4), PIS]</td>\n      <td>10:14:00</td>\n      <td>1</td>\n    </tr>\n    <tr>\n      <th>2020-07-21</th>\n      <td>Mercado</td>\n      <td>Ibovespa se descola das bolsas no exterior e c...</td>\n      <td>2022-05-03 16:22:44</td>\n      <td>https://www.suno.com.br/noticias/ibovespa-fehc...</td>\n      <td>[Ibovespa, Paulo Guedes, Petrobras (PETR4), Qu...</td>\n      <td>17:41:00</td>\n      <td>1</td>\n    </tr>\n    <tr>\n      <th>2020-07-21</th>\n      <td>Mercado</td>\n      <td>Ibovespa abre em alta de 0,6% e opera acima de...</td>\n      <td>2022-05-03 16:22:45</td>\n      <td>https://www.suno.com.br/noticias/ibovespa-ue-b...</td>\n      <td>[Ibovespa, Petrobras (PETR4), União Europeia, ...</td>\n      <td>10:42:00</td>\n      <td>1</td>\n    </tr>\n    <tr>\n      <th>...</th>\n      <td>...</td>\n      <td>...</td>\n      <td>...</td>\n      <td>...</td>\n      <td>...</td>\n      <td>...</td>\n      <td>...</td>\n    </tr>\n    <tr>\n      <th>2021-12-27</th>\n      <td>Negócios</td>\n      <td>Petrobras (PETR4): XP diz que ação está barata...</td>\n      <td>2022-05-03 16:01:41</td>\n      <td>https://www.suno.com.br/noticias/petrobras-pet...</td>\n      <td>[Petrobras (PETR4), XP Investimentos]</td>\n      <td>15:08:00</td>\n      <td>1</td>\n    </tr>\n    <tr>\n      <th>2021-12-28</th>\n      <td>Negócios</td>\n      <td>Petrobras (PETR4) recupera R$ 6,17 bilhões em ...</td>\n      <td>2022-05-03 16:03:23</td>\n      <td>https://www.suno.com.br/noticias/petrobras-pet...</td>\n      <td>[Operação Lava Jato, Petrobras (PETR4)]</td>\n      <td>13:22:00</td>\n      <td>0</td>\n    </tr>\n    <tr>\n      <th>2021-12-28</th>\n      <td>Negócios</td>\n      <td>Perdas robustas, medo e instabilidade: relembr...</td>\n      <td>2022-05-03 16:03:23</td>\n      <td>https://www.suno.com.br/noticias/10-piores-dia...</td>\n      <td>[Ibovespa, Petrobras (PETR4), Vale (VALE3)]</td>\n      <td>10:00:00</td>\n      <td>0</td>\n    </tr>\n    <tr>\n      <th>2021-12-29</th>\n      <td>Economia</td>\n      <td>Petrobras (PETR4) vai recorrer de decisão que ...</td>\n      <td>2022-05-03 16:01:08</td>\n      <td>https://www.suno.com.br/noticias/petrobras-pet...</td>\n      <td>[Petrobras (PETR4)]</td>\n      <td>13:19:00</td>\n      <td>0</td>\n    </tr>\n    <tr>\n      <th>2021-12-30</th>\n      <td>Economia</td>\n      <td>Petrobras (PETR4) tenta reverter suspensão de ...</td>\n      <td>2022-05-03 16:01:14</td>\n      <td>https://www.suno.com.br/noticias/petrobras-pet...</td>\n      <td>[Petrobras (PETR4)]</td>\n      <td>15:05:00</td>\n      <td>0</td>\n    </tr>\n  </tbody>\n</table>\n<p>485 rows × 7 columns</p>\n</div>"
     },
     "execution_count": 37,
     "metadata": {},
     "output_type": "execute_result"
    }
   ],
   "source": [
    "df_raw = makeDataset(df_news_raw, df_historical)\n",
    "df_raw"
   ],
   "metadata": {
    "collapsed": false
   }
  },
  {
   "cell_type": "code",
   "execution_count": 34,
   "outputs": [],
   "source": [
    "# 2020-07-16 -> 2022-01-06"
   ],
   "metadata": {
    "collapsed": false
   }
  },
  {
   "cell_type": "code",
   "execution_count": 38,
   "outputs": [
    {
     "data": {
      "text/plain": "0    281\n1    204\nName: label, dtype: int64"
     },
     "execution_count": 38,
     "metadata": {},
     "output_type": "execute_result"
    }
   ],
   "source": [
    "df_raw['label'].value_counts()"
   ],
   "metadata": {
    "collapsed": false
   }
  },
  {
   "cell_type": "code",
   "execution_count": null,
   "outputs": [],
   "source": [
    "# only samples with 'time' > 10:00 and < 16:00\n",
    "df_raw = df_raw[(df_raw['time'] > '10:00') & (df_raw['time'] < '18:00')]"
   ],
   "metadata": {
    "collapsed": false
   }
  }
 ],
 "metadata": {
  "kernelspec": {
   "display_name": "Python 3",
   "language": "python",
   "name": "python3"
  },
  "language_info": {
   "codemirror_mode": {
    "name": "ipython",
    "version": 2
   },
   "file_extension": ".py",
   "mimetype": "text/x-python",
   "name": "python",
   "nbconvert_exporter": "python",
   "pygments_lexer": "ipython2",
   "version": "2.7.6"
  }
 },
 "nbformat": 4,
 "nbformat_minor": 0
}
