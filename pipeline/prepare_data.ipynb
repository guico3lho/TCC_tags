{
 "cells": [
  {
   "cell_type": "markdown",
   "source": [
    "## Packages"
   ],
   "metadata": {
    "collapsed": false
   }
  },
  {
   "cell_type": "code",
   "execution_count": 2,
   "outputs": [
    {
     "name": "stdout",
     "output_type": "stream",
     "text": [
      "C:\\Users\\Guilherme\\.conda\\envs\\tcc\\python.exe\n",
      "D:\\Programming\\Python\\DataScience\\TCC\\pipeline\n"
     ]
    }
   ],
   "source": [
    "import json\n",
    "import pandas as pd\n",
    "import os\n",
    "import sys\n",
    "import requests\n",
    "# import gdown\n",
    "import opendatasets as od\n",
    "\n",
    "print(sys.executable)\n",
    "print(os.getcwd())"
   ],
   "metadata": {
    "collapsed": false,
    "ExecuteTime": {
     "end_time": "2023-11-30T18:51:01.354544700Z",
     "start_time": "2023-11-30T18:50:56.686957Z"
    }
   }
  },
  {
   "cell_type": "markdown",
   "source": [
    "## Load data"
   ],
   "metadata": {
    "collapsed": false
   }
  },
  {
   "cell_type": "markdown",
   "source": [
    "### [1] PETR4"
   ],
   "metadata": {
    "collapsed": false
   }
  },
  {
   "cell_type": "markdown",
   "source": [
    "#### Suno"
   ],
   "metadata": {
    "collapsed": false
   }
  },
  {
   "cell_type": "code",
   "execution_count": 3,
   "outputs": [
    {
     "data": {
      "text/plain": "         topic                                              title  \\\n0     Negócios  Petrobras (PETR4) finaliza venda do Polo Peroá...   \n1     Economia  Conselheiro da Petrobras (PETR4) sugere congel...   \n2     Negócios  Radar: MRV (MRVE3) paga dividendos milionários...   \n3     Política  Líder dos caminhoneiros sobre voucher: “Não pr...   \n4     Negócios  Petrobras (PETR4): Petroleiros aprovam indicat...   \n...        ...                                                ...   \n1425   Mercado  Ibovespa fecha em queda de 0,35%, a 104.109,07...   \n1426  Negócios  Petrobras faz pré-pagamento de US$ 3,5 bi em l...   \n1427  Negócios  Petrobras (PETR4) divulga teaser de venda de p...   \n1428  Negócios  Agenda do Dia: Petrobras; Yduqs; Oi; AES Tietê...   \n1429  Negócios  Petrobras (PETR4): BNDES reprovou bonificação ...   \n\n                  date          search_date  \\\n0     03/08/2022 13:46  2022-08-04 00:21:19   \n1     17/06/2022 19:52  2022-08-04 00:21:35   \n2     20/06/2022 23:05  2022-08-04 00:21:35   \n3     22/06/2022 17:24  2022-08-04 00:21:35   \n4     10/07/2022 09:40  2022-08-04 00:21:35   \n...                ...                  ...   \n1425  28/07/2020 17:37  2022-05-03 16:22:55   \n1426  28/07/2020 15:00  2022-05-03 16:22:56   \n1427  28/07/2020 11:26  2022-05-03 16:22:57   \n1428  28/07/2020 09:49  2022-05-03 16:22:57   \n1429  28/07/2020 08:28  2022-05-03 16:22:57   \n\n                                                   link  \\\n0     https://www.suno.com.br/noticias/petrobras-pet...   \n1     https://www.suno.com.br/noticias/petrobras-pet...   \n2     https://www.suno.com.br/noticias/radar-petrobr...   \n3     https://www.suno.com.br/noticias/lider-caminho...   \n4     https://www.suno.com.br/noticias/petrobras-pet...   \n...                                                 ...   \n1425  https://www.suno.com.br/noticias/ibovespa-fech...   \n1426  https://www.suno.com.br/noticias/petrobras-pre...   \n1427  https://www.suno.com.br/noticias/petrobras-pet...   \n1428  https://www.suno.com.br/noticias/agenda-do-dia...   \n1429  https://www.suno.com.br/noticias/petrobras-pet...   \n\n                                                   tags  \n0     [Petrobras (PETR4), 3R Petroleum (RRRP3), Petr...  \n1     [Petrobras (PETR4), Arthur Lira, Jair Bolsonar...  \n2     [Ibovespa, Ibovespa, Magazine Luiza (MGLU3), M...  \n3     [Petrobras (PETR4), combustíveis, diesel, Jair...  \n4     [Petrobras (PETR4), greves, Petrobras (PETR4),...  \n...                                                 ...  \n1425  [AES Tietê (TIET3/TIET4/TIET11), BNDES, Iboves...  \n1426                         [PETR3, Petrobras (PETR4)]  \n1427                         [PETR3, Petrobras (PETR4)]  \n1428  [AES Tietê (TIET3/TIET4/TIET11), agenda do dia...  \n1429                      [BNDESPar, Petrobras (PETR4)]  \n\n[1261 rows x 6 columns]",
      "text/html": "<div>\n<style scoped>\n    .dataframe tbody tr th:only-of-type {\n        vertical-align: middle;\n    }\n\n    .dataframe tbody tr th {\n        vertical-align: top;\n    }\n\n    .dataframe thead th {\n        text-align: right;\n    }\n</style>\n<table border=\"1\" class=\"dataframe\">\n  <thead>\n    <tr style=\"text-align: right;\">\n      <th></th>\n      <th>topic</th>\n      <th>title</th>\n      <th>date</th>\n      <th>search_date</th>\n      <th>link</th>\n      <th>tags</th>\n    </tr>\n  </thead>\n  <tbody>\n    <tr>\n      <th>0</th>\n      <td>Negócios</td>\n      <td>Petrobras (PETR4) finaliza venda do Polo Peroá...</td>\n      <td>03/08/2022 13:46</td>\n      <td>2022-08-04 00:21:19</td>\n      <td>https://www.suno.com.br/noticias/petrobras-pet...</td>\n      <td>[Petrobras (PETR4), 3R Petroleum (RRRP3), Petr...</td>\n    </tr>\n    <tr>\n      <th>1</th>\n      <td>Economia</td>\n      <td>Conselheiro da Petrobras (PETR4) sugere congel...</td>\n      <td>17/06/2022 19:52</td>\n      <td>2022-08-04 00:21:35</td>\n      <td>https://www.suno.com.br/noticias/petrobras-pet...</td>\n      <td>[Petrobras (PETR4), Arthur Lira, Jair Bolsonar...</td>\n    </tr>\n    <tr>\n      <th>2</th>\n      <td>Negócios</td>\n      <td>Radar: MRV (MRVE3) paga dividendos milionários...</td>\n      <td>20/06/2022 23:05</td>\n      <td>2022-08-04 00:21:35</td>\n      <td>https://www.suno.com.br/noticias/radar-petrobr...</td>\n      <td>[Ibovespa, Ibovespa, Magazine Luiza (MGLU3), M...</td>\n    </tr>\n    <tr>\n      <th>3</th>\n      <td>Política</td>\n      <td>Líder dos caminhoneiros sobre voucher: “Não pr...</td>\n      <td>22/06/2022 17:24</td>\n      <td>2022-08-04 00:21:35</td>\n      <td>https://www.suno.com.br/noticias/lider-caminho...</td>\n      <td>[Petrobras (PETR4), combustíveis, diesel, Jair...</td>\n    </tr>\n    <tr>\n      <th>4</th>\n      <td>Negócios</td>\n      <td>Petrobras (PETR4): Petroleiros aprovam indicat...</td>\n      <td>10/07/2022 09:40</td>\n      <td>2022-08-04 00:21:35</td>\n      <td>https://www.suno.com.br/noticias/petrobras-pet...</td>\n      <td>[Petrobras (PETR4), greves, Petrobras (PETR4),...</td>\n    </tr>\n    <tr>\n      <th>...</th>\n      <td>...</td>\n      <td>...</td>\n      <td>...</td>\n      <td>...</td>\n      <td>...</td>\n      <td>...</td>\n    </tr>\n    <tr>\n      <th>1425</th>\n      <td>Mercado</td>\n      <td>Ibovespa fecha em queda de 0,35%, a 104.109,07...</td>\n      <td>28/07/2020 17:37</td>\n      <td>2022-05-03 16:22:55</td>\n      <td>https://www.suno.com.br/noticias/ibovespa-fech...</td>\n      <td>[AES Tietê (TIET3/TIET4/TIET11), BNDES, Iboves...</td>\n    </tr>\n    <tr>\n      <th>1426</th>\n      <td>Negócios</td>\n      <td>Petrobras faz pré-pagamento de US$ 3,5 bi em l...</td>\n      <td>28/07/2020 15:00</td>\n      <td>2022-05-03 16:22:56</td>\n      <td>https://www.suno.com.br/noticias/petrobras-pre...</td>\n      <td>[PETR3, Petrobras (PETR4)]</td>\n    </tr>\n    <tr>\n      <th>1427</th>\n      <td>Negócios</td>\n      <td>Petrobras (PETR4) divulga teaser de venda de p...</td>\n      <td>28/07/2020 11:26</td>\n      <td>2022-05-03 16:22:57</td>\n      <td>https://www.suno.com.br/noticias/petrobras-pet...</td>\n      <td>[PETR3, Petrobras (PETR4)]</td>\n    </tr>\n    <tr>\n      <th>1428</th>\n      <td>Negócios</td>\n      <td>Agenda do Dia: Petrobras; Yduqs; Oi; AES Tietê...</td>\n      <td>28/07/2020 09:49</td>\n      <td>2022-05-03 16:22:57</td>\n      <td>https://www.suno.com.br/noticias/agenda-do-dia...</td>\n      <td>[AES Tietê (TIET3/TIET4/TIET11), agenda do dia...</td>\n    </tr>\n    <tr>\n      <th>1429</th>\n      <td>Negócios</td>\n      <td>Petrobras (PETR4): BNDES reprovou bonificação ...</td>\n      <td>28/07/2020 08:28</td>\n      <td>2022-05-03 16:22:57</td>\n      <td>https://www.suno.com.br/noticias/petrobras-pet...</td>\n      <td>[BNDESPar, Petrobras (PETR4)]</td>\n    </tr>\n  </tbody>\n</table>\n<p>1261 rows × 6 columns</p>\n</div>"
     },
     "execution_count": 3,
     "metadata": {},
     "output_type": "execute_result"
    }
   ],
   "source": [
    "json_data_path = 'https://raw.githubusercontent.com/guico3lho/DataScience_Assets/main/Datasets/financial_market/suno/suno-petr4.json'\n",
    "\n",
    "r = requests.get(json_data_path)\n",
    "data = r.json()\n",
    "df_suno_petr_raw = pd.DataFrame(data)\n",
    "df_suno_petr = df_suno_petr_raw[\n",
    "    df_suno_petr_raw['tags'].apply(lambda x: 'Vale (VALE3)' not in x and 'Itaú Unibanco (ITUB3/ITUB4)' not in x)]\n",
    "df_suno_petr = df_suno_petr.rename(columns={'url': 'link'})\n",
    "df_suno_petr"
   ],
   "metadata": {
    "collapsed": false,
    "ExecuteTime": {
     "end_time": "2023-11-30T18:51:02.729138600Z",
     "start_time": "2023-11-30T18:51:01.356544300Z"
    }
   }
  },
  {
   "cell_type": "code",
   "execution_count": 4,
   "outputs": [
    {
     "data": {
      "text/plain": "                      topic  title  date  search_date  link\ntags                                                       \nPetrobras (PETR4)      1430   1430  1430         1430  1430\nPETR3                   298    298   298          298   298\nIbovespa                164    164   164          164   164\nEspecialistas           157    157   157          157   157\nPetróleo                102    102   102          102   102\n...                     ...    ...   ...          ...   ...\nMosaico (MOSI3)           1      1     1            1     1\nMoura Dubeux (MDNE3)      1      1     1            1     1\nMultilaser (MLAS3)        1      1     1            1     1\nMéxico                    1      1     1            1     1\nzona do euro              1      1     1            1     1\n\n[455 rows x 5 columns]",
      "text/html": "<div>\n<style scoped>\n    .dataframe tbody tr th:only-of-type {\n        vertical-align: middle;\n    }\n\n    .dataframe tbody tr th {\n        vertical-align: top;\n    }\n\n    .dataframe thead th {\n        text-align: right;\n    }\n</style>\n<table border=\"1\" class=\"dataframe\">\n  <thead>\n    <tr style=\"text-align: right;\">\n      <th></th>\n      <th>topic</th>\n      <th>title</th>\n      <th>date</th>\n      <th>search_date</th>\n      <th>link</th>\n    </tr>\n    <tr>\n      <th>tags</th>\n      <th></th>\n      <th></th>\n      <th></th>\n      <th></th>\n      <th></th>\n    </tr>\n  </thead>\n  <tbody>\n    <tr>\n      <th>Petrobras (PETR4)</th>\n      <td>1430</td>\n      <td>1430</td>\n      <td>1430</td>\n      <td>1430</td>\n      <td>1430</td>\n    </tr>\n    <tr>\n      <th>PETR3</th>\n      <td>298</td>\n      <td>298</td>\n      <td>298</td>\n      <td>298</td>\n      <td>298</td>\n    </tr>\n    <tr>\n      <th>Ibovespa</th>\n      <td>164</td>\n      <td>164</td>\n      <td>164</td>\n      <td>164</td>\n      <td>164</td>\n    </tr>\n    <tr>\n      <th>Especialistas</th>\n      <td>157</td>\n      <td>157</td>\n      <td>157</td>\n      <td>157</td>\n      <td>157</td>\n    </tr>\n    <tr>\n      <th>Petróleo</th>\n      <td>102</td>\n      <td>102</td>\n      <td>102</td>\n      <td>102</td>\n      <td>102</td>\n    </tr>\n    <tr>\n      <th>...</th>\n      <td>...</td>\n      <td>...</td>\n      <td>...</td>\n      <td>...</td>\n      <td>...</td>\n    </tr>\n    <tr>\n      <th>Mosaico (MOSI3)</th>\n      <td>1</td>\n      <td>1</td>\n      <td>1</td>\n      <td>1</td>\n      <td>1</td>\n    </tr>\n    <tr>\n      <th>Moura Dubeux (MDNE3)</th>\n      <td>1</td>\n      <td>1</td>\n      <td>1</td>\n      <td>1</td>\n      <td>1</td>\n    </tr>\n    <tr>\n      <th>Multilaser (MLAS3)</th>\n      <td>1</td>\n      <td>1</td>\n      <td>1</td>\n      <td>1</td>\n      <td>1</td>\n    </tr>\n    <tr>\n      <th>México</th>\n      <td>1</td>\n      <td>1</td>\n      <td>1</td>\n      <td>1</td>\n      <td>1</td>\n    </tr>\n    <tr>\n      <th>zona do euro</th>\n      <td>1</td>\n      <td>1</td>\n      <td>1</td>\n      <td>1</td>\n      <td>1</td>\n    </tr>\n  </tbody>\n</table>\n<p>455 rows × 5 columns</p>\n</div>"
     },
     "execution_count": 4,
     "metadata": {},
     "output_type": "execute_result"
    }
   ],
   "source": [
    "df_suno_petr.explode('tags').groupby('tags').count().sort_values('title', ascending=False)"
   ],
   "metadata": {
    "collapsed": false,
    "ExecuteTime": {
     "end_time": "2023-11-30T18:51:02.904381900Z",
     "start_time": "2023-11-30T18:51:02.729138600Z"
    }
   }
  },
  {
   "cell_type": "markdown",
   "source": [
    "#### Moneytimes"
   ],
   "metadata": {
    "collapsed": false
   }
  },
  {
   "cell_type": "code",
   "execution_count": 5,
   "outputs": [
    {
     "data": {
      "text/plain": "                     topic                                              title  \\\n0                 Mercados  Ibovespa dispara hoje por quê? Inflação no Bra...   \n1             Combustíveis  Defasagem do diesel cai para 17% após aumento,...   \n2     Carteira Recomendada  Adeus, Ibovespa: 5 ações do BB Investimentos p...   \n3                 Política  Setor de etanol não se surpreenderá se após Al...   \n4                 Petróleo  EUA perguntaram se Petrobras poderia aumentar ...   \n...                    ...                                                ...   \n6124          George Soros  George Soros volta a comprar ação da Petrobras...   \n6125    Comprar ou vender?  Petrobras deve aumentar gasolina em breve, diz...   \n6126    Comprar ou vender?      XP recoloca Petrobras em carteira recomendada   \n6127              Benndorf  Petrobras: Dia é decisivo para tendência de al...   \n6128    Comprar ou vender?  Quer comprar ação da Petrobras? Passa lá no po...   \n\n                    date          search_date  \\\n0     11/05/2022 - 12:14  2022-05-11 19:03:09   \n1     10/05/2022 - 13:40  2022-05-11 19:03:17   \n2     08/05/2022 - 17:18  2022-05-11 19:03:22   \n3     11/05/2022 - 11:57  2022-05-11 19:03:22   \n4      10/05/2022 - 8:23  2022-05-11 19:03:22   \n...                  ...                  ...   \n6124  23/11/2016 - 12:22  2022-05-11 21:19:57   \n6125  02/12/2016 - 18:32  2022-05-11 21:19:57   \n6126  21/11/2016 - 19:55  2022-05-11 21:20:00   \n6127  01/12/2016 - 11:59  2022-05-11 21:20:00   \n6128  21/11/2016 - 12:52  2022-05-11 21:20:03   \n\n                                                   link  \\\n0     https://www.moneytimes.com.br/ibovespa-dispara...   \n1     https://www.moneytimes.com.br/defasagem-do-die...   \n2     https://www.moneytimes.com.br/adeus-ibovespa-5...   \n3     https://www.moneytimes.com.br/setor-de-etanol-...   \n4     https://www.moneytimes.com.br/eua-perguntaram-...   \n...                                                 ...   \n6124  https://www.moneytimes.com.br/george-soros-vol...   \n6125  https://www.moneytimes.com.br/petrobras-deve-a...   \n6126  https://www.moneytimes.com.br/xp-recoloca-petr...   \n6127  https://www.moneytimes.com.br/petrobras-dia-e-...   \n6128  https://www.moneytimes.com.br/quer-comprar-aca...   \n\n                                                   tags  \n0     [Ações, Alimentos, Ativa Investimentos, B3, Bo...  \n1     [Amazonas, Bahia, Combustíveis, Diesel, Estadã...  \n2     [Ações, Alpargatas, BB Investimentos, Bradesco...  \n3     [Agro Times, Bento Albuquerque, Etanol, Jair B...  \n4     [Bento Albuquerque, Brasil, Combustíveis, Comm...  \n...                                                 ...  \n6124                          [George Soros, Petrobras]  \n6125    [Comprar ou vender?, Itaú BBA, Opep, Petrobras]  \n6126  [Comprar ou vender?, Petrobras, XP Investimentos]  \n6127   [Benndorf, Bolsa, Comprar ou vender?, Petrobras]  \n6128  [Comprar ou vender?, Fusões & Aquisições, Petr...  \n\n[4852 rows x 6 columns]",
      "text/html": "<div>\n<style scoped>\n    .dataframe tbody tr th:only-of-type {\n        vertical-align: middle;\n    }\n\n    .dataframe tbody tr th {\n        vertical-align: top;\n    }\n\n    .dataframe thead th {\n        text-align: right;\n    }\n</style>\n<table border=\"1\" class=\"dataframe\">\n  <thead>\n    <tr style=\"text-align: right;\">\n      <th></th>\n      <th>topic</th>\n      <th>title</th>\n      <th>date</th>\n      <th>search_date</th>\n      <th>link</th>\n      <th>tags</th>\n    </tr>\n  </thead>\n  <tbody>\n    <tr>\n      <th>0</th>\n      <td>Mercados</td>\n      <td>Ibovespa dispara hoje por quê? Inflação no Bra...</td>\n      <td>11/05/2022 - 12:14</td>\n      <td>2022-05-11 19:03:09</td>\n      <td>https://www.moneytimes.com.br/ibovespa-dispara...</td>\n      <td>[Ações, Alimentos, Ativa Investimentos, B3, Bo...</td>\n    </tr>\n    <tr>\n      <th>1</th>\n      <td>Combustíveis</td>\n      <td>Defasagem do diesel cai para 17% após aumento,...</td>\n      <td>10/05/2022 - 13:40</td>\n      <td>2022-05-11 19:03:17</td>\n      <td>https://www.moneytimes.com.br/defasagem-do-die...</td>\n      <td>[Amazonas, Bahia, Combustíveis, Diesel, Estadã...</td>\n    </tr>\n    <tr>\n      <th>2</th>\n      <td>Carteira Recomendada</td>\n      <td>Adeus, Ibovespa: 5 ações do BB Investimentos p...</td>\n      <td>08/05/2022 - 17:18</td>\n      <td>2022-05-11 19:03:22</td>\n      <td>https://www.moneytimes.com.br/adeus-ibovespa-5...</td>\n      <td>[Ações, Alpargatas, BB Investimentos, Bradesco...</td>\n    </tr>\n    <tr>\n      <th>3</th>\n      <td>Política</td>\n      <td>Setor de etanol não se surpreenderá se após Al...</td>\n      <td>11/05/2022 - 11:57</td>\n      <td>2022-05-11 19:03:22</td>\n      <td>https://www.moneytimes.com.br/setor-de-etanol-...</td>\n      <td>[Agro Times, Bento Albuquerque, Etanol, Jair B...</td>\n    </tr>\n    <tr>\n      <th>4</th>\n      <td>Petróleo</td>\n      <td>EUA perguntaram se Petrobras poderia aumentar ...</td>\n      <td>10/05/2022 - 8:23</td>\n      <td>2022-05-11 19:03:22</td>\n      <td>https://www.moneytimes.com.br/eua-perguntaram-...</td>\n      <td>[Bento Albuquerque, Brasil, Combustíveis, Comm...</td>\n    </tr>\n    <tr>\n      <th>...</th>\n      <td>...</td>\n      <td>...</td>\n      <td>...</td>\n      <td>...</td>\n      <td>...</td>\n      <td>...</td>\n    </tr>\n    <tr>\n      <th>6124</th>\n      <td>George Soros</td>\n      <td>George Soros volta a comprar ação da Petrobras...</td>\n      <td>23/11/2016 - 12:22</td>\n      <td>2022-05-11 21:19:57</td>\n      <td>https://www.moneytimes.com.br/george-soros-vol...</td>\n      <td>[George Soros, Petrobras]</td>\n    </tr>\n    <tr>\n      <th>6125</th>\n      <td>Comprar ou vender?</td>\n      <td>Petrobras deve aumentar gasolina em breve, diz...</td>\n      <td>02/12/2016 - 18:32</td>\n      <td>2022-05-11 21:19:57</td>\n      <td>https://www.moneytimes.com.br/petrobras-deve-a...</td>\n      <td>[Comprar ou vender?, Itaú BBA, Opep, Petrobras]</td>\n    </tr>\n    <tr>\n      <th>6126</th>\n      <td>Comprar ou vender?</td>\n      <td>XP recoloca Petrobras em carteira recomendada</td>\n      <td>21/11/2016 - 19:55</td>\n      <td>2022-05-11 21:20:00</td>\n      <td>https://www.moneytimes.com.br/xp-recoloca-petr...</td>\n      <td>[Comprar ou vender?, Petrobras, XP Investimentos]</td>\n    </tr>\n    <tr>\n      <th>6127</th>\n      <td>Benndorf</td>\n      <td>Petrobras: Dia é decisivo para tendência de al...</td>\n      <td>01/12/2016 - 11:59</td>\n      <td>2022-05-11 21:20:00</td>\n      <td>https://www.moneytimes.com.br/petrobras-dia-e-...</td>\n      <td>[Benndorf, Bolsa, Comprar ou vender?, Petrobras]</td>\n    </tr>\n    <tr>\n      <th>6128</th>\n      <td>Comprar ou vender?</td>\n      <td>Quer comprar ação da Petrobras? Passa lá no po...</td>\n      <td>21/11/2016 - 12:52</td>\n      <td>2022-05-11 21:20:03</td>\n      <td>https://www.moneytimes.com.br/quer-comprar-aca...</td>\n      <td>[Comprar ou vender?, Fusões &amp; Aquisições, Petr...</td>\n    </tr>\n  </tbody>\n</table>\n<p>4852 rows × 6 columns</p>\n</div>"
     },
     "execution_count": 5,
     "metadata": {},
     "output_type": "execute_result"
    }
   ],
   "source": [
    "json_data_path = 'https://raw.githubusercontent.com/guico3lho/DataScience_Assets/main/Datasets/financial_market/moneytimes/moneytimes-petr4.json'\n",
    "\n",
    "r = requests.get(json_data_path)\n",
    "data = r.json()\n",
    "\n",
    "df_moneytimes_petr_raw = pd.DataFrame(data)\n",
    "\n",
    "df_moneytimes_petr = df_moneytimes_petr_raw[\n",
    "    df_moneytimes_petr_raw['tags'].apply(lambda x: 'Vale' not in x and 'Itaú Unibanco' not in x)]\n",
    "df_moneytimes_petr"
   ],
   "metadata": {
    "collapsed": false,
    "ExecuteTime": {
     "end_time": "2023-11-30T18:51:05.566383100Z",
     "start_time": "2023-11-30T18:51:02.786385600Z"
    }
   }
  },
  {
   "cell_type": "markdown",
   "source": [
    "#### Concat suno with moneytimes"
   ],
   "metadata": {
    "collapsed": false
   }
  },
  {
   "cell_type": "code",
   "execution_count": 5,
   "outputs": [],
   "source": [],
   "metadata": {
    "collapsed": false,
    "ExecuteTime": {
     "end_time": "2023-11-30T18:51:05.570419700Z",
     "start_time": "2023-11-30T18:51:05.566383100Z"
    }
   }
  },
  {
   "cell_type": "code",
   "execution_count": 6,
   "outputs": [
    {
     "data": {
      "text/plain": "                                                  title  \\\n0     Petrobras (PETR4) finaliza venda do Polo Peroá...   \n1     Conselheiro da Petrobras (PETR4) sugere congel...   \n2     Radar: MRV (MRVE3) paga dividendos milionários...   \n3     Líder dos caminhoneiros sobre voucher: “Não pr...   \n4     Petrobras (PETR4): Petroleiros aprovam indicat...   \n...                                                 ...   \n6108  George Soros volta a comprar ação da Petrobras...   \n6109  Petrobras deve aumentar gasolina em breve, diz...   \n6110      XP recoloca Petrobras em carteira recomendada   \n6111  Petrobras: Dia é decisivo para tendência de al...   \n6112  Quer comprar ação da Petrobras? Passa lá no po...   \n\n                                                   tags  \\\n0     [Petrobras (PETR4), 3R Petroleum (RRRP3), Petr...   \n1     [Petrobras (PETR4), Arthur Lira, Jair Bolsonar...   \n2     [Ibovespa, Ibovespa, Magazine Luiza (MGLU3), M...   \n3     [Petrobras (PETR4), combustíveis, diesel, Jair...   \n4     [Petrobras (PETR4), greves, Petrobras (PETR4),...   \n...                                                 ...   \n6108                          [George Soros, Petrobras]   \n6109    [Comprar ou vender?, Itaú BBA, Opep, Petrobras]   \n6110  [Comprar ou vender?, Petrobras, XP Investimentos]   \n6111   [Benndorf, Bolsa, Comprar ou vender?, Petrobras]   \n6112  [Comprar ou vender?, Fusões & Aquisições, Petr...   \n\n                                                   link  label  \n0     https://www.suno.com.br/noticias/petrobras-pet...      1  \n1     https://www.suno.com.br/noticias/petrobras-pet...      1  \n2     https://www.suno.com.br/noticias/radar-petrobr...      1  \n3     https://www.suno.com.br/noticias/lider-caminho...      1  \n4     https://www.suno.com.br/noticias/petrobras-pet...      1  \n...                                                 ...    ...  \n6108  https://www.moneytimes.com.br/george-soros-vol...      1  \n6109  https://www.moneytimes.com.br/petrobras-deve-a...      1  \n6110  https://www.moneytimes.com.br/xp-recoloca-petr...      1  \n6111  https://www.moneytimes.com.br/petrobras-dia-e-...      1  \n6112  https://www.moneytimes.com.br/quer-comprar-aca...      1  \n\n[6113 rows x 4 columns]",
      "text/html": "<div>\n<style scoped>\n    .dataframe tbody tr th:only-of-type {\n        vertical-align: middle;\n    }\n\n    .dataframe tbody tr th {\n        vertical-align: top;\n    }\n\n    .dataframe thead th {\n        text-align: right;\n    }\n</style>\n<table border=\"1\" class=\"dataframe\">\n  <thead>\n    <tr style=\"text-align: right;\">\n      <th></th>\n      <th>title</th>\n      <th>tags</th>\n      <th>link</th>\n      <th>label</th>\n    </tr>\n  </thead>\n  <tbody>\n    <tr>\n      <th>0</th>\n      <td>Petrobras (PETR4) finaliza venda do Polo Peroá...</td>\n      <td>[Petrobras (PETR4), 3R Petroleum (RRRP3), Petr...</td>\n      <td>https://www.suno.com.br/noticias/petrobras-pet...</td>\n      <td>1</td>\n    </tr>\n    <tr>\n      <th>1</th>\n      <td>Conselheiro da Petrobras (PETR4) sugere congel...</td>\n      <td>[Petrobras (PETR4), Arthur Lira, Jair Bolsonar...</td>\n      <td>https://www.suno.com.br/noticias/petrobras-pet...</td>\n      <td>1</td>\n    </tr>\n    <tr>\n      <th>2</th>\n      <td>Radar: MRV (MRVE3) paga dividendos milionários...</td>\n      <td>[Ibovespa, Ibovespa, Magazine Luiza (MGLU3), M...</td>\n      <td>https://www.suno.com.br/noticias/radar-petrobr...</td>\n      <td>1</td>\n    </tr>\n    <tr>\n      <th>3</th>\n      <td>Líder dos caminhoneiros sobre voucher: “Não pr...</td>\n      <td>[Petrobras (PETR4), combustíveis, diesel, Jair...</td>\n      <td>https://www.suno.com.br/noticias/lider-caminho...</td>\n      <td>1</td>\n    </tr>\n    <tr>\n      <th>4</th>\n      <td>Petrobras (PETR4): Petroleiros aprovam indicat...</td>\n      <td>[Petrobras (PETR4), greves, Petrobras (PETR4),...</td>\n      <td>https://www.suno.com.br/noticias/petrobras-pet...</td>\n      <td>1</td>\n    </tr>\n    <tr>\n      <th>...</th>\n      <td>...</td>\n      <td>...</td>\n      <td>...</td>\n      <td>...</td>\n    </tr>\n    <tr>\n      <th>6108</th>\n      <td>George Soros volta a comprar ação da Petrobras...</td>\n      <td>[George Soros, Petrobras]</td>\n      <td>https://www.moneytimes.com.br/george-soros-vol...</td>\n      <td>1</td>\n    </tr>\n    <tr>\n      <th>6109</th>\n      <td>Petrobras deve aumentar gasolina em breve, diz...</td>\n      <td>[Comprar ou vender?, Itaú BBA, Opep, Petrobras]</td>\n      <td>https://www.moneytimes.com.br/petrobras-deve-a...</td>\n      <td>1</td>\n    </tr>\n    <tr>\n      <th>6110</th>\n      <td>XP recoloca Petrobras em carteira recomendada</td>\n      <td>[Comprar ou vender?, Petrobras, XP Investimentos]</td>\n      <td>https://www.moneytimes.com.br/xp-recoloca-petr...</td>\n      <td>1</td>\n    </tr>\n    <tr>\n      <th>6111</th>\n      <td>Petrobras: Dia é decisivo para tendência de al...</td>\n      <td>[Benndorf, Bolsa, Comprar ou vender?, Petrobras]</td>\n      <td>https://www.moneytimes.com.br/petrobras-dia-e-...</td>\n      <td>1</td>\n    </tr>\n    <tr>\n      <th>6112</th>\n      <td>Quer comprar ação da Petrobras? Passa lá no po...</td>\n      <td>[Comprar ou vender?, Fusões &amp; Aquisições, Petr...</td>\n      <td>https://www.moneytimes.com.br/quer-comprar-aca...</td>\n      <td>1</td>\n    </tr>\n  </tbody>\n</table>\n<p>6113 rows × 4 columns</p>\n</div>"
     },
     "execution_count": 6,
     "metadata": {},
     "output_type": "execute_result"
    }
   ],
   "source": [
    "df_petr4 = pd.concat([df_suno_petr[['title', 'tags', 'link']], df_moneytimes_petr[['title', 'tags', 'link']]])\n",
    "\n",
    "df_petr4.reset_index(inplace=True, drop=True)\n",
    "\n",
    "df_petr4['title'] = df_petr4['title'].map(lambda s: s.replace('\\xa0', ''))\n",
    "\n",
    "df_petr4['label'] = 1\n",
    "\n",
    "df_petr4"
   ],
   "metadata": {
    "collapsed": false,
    "ExecuteTime": {
     "end_time": "2023-11-30T18:51:05.712468200Z",
     "start_time": "2023-11-30T18:51:05.572419300Z"
    }
   }
  },
  {
   "cell_type": "markdown",
   "source": [
    "### [2] VALE3"
   ],
   "metadata": {
    "collapsed": false
   }
  },
  {
   "cell_type": "markdown",
   "source": [
    "#### Suno"
   ],
   "metadata": {
    "collapsed": false
   }
  },
  {
   "cell_type": "code",
   "execution_count": 7,
   "outputs": [
    {
     "data": {
      "text/plain": "         topic                                              title  \\\n0      Mercado  Ibovespa segue exterior e amplia alta; Marfrig...   \n2     Negócios  Vale (VALE3) diminui estimativa das reservas d...   \n3      Mercado  Ibovespa estável em 103 mil pontos; Magazine L...   \n5     Negócios  Radar: Vale (VALE3) aumenta lucro no 4T21 e an...   \n6     Negócios  Vale (VALE3): Preço do níquel dispara, bate re...   \n...        ...                                                ...   \n1206  Política  Samarco – Vale e BHP fecham acordo parcial sob...   \n1207   Mercado            Vale compra Ferrous por US$ 550 milhões   \n1208   Mercado  Ibovespa fecha em alta de 0,83% seguindo dispa...   \n1210  Negócios  Terça-feira em negócios: acordo de R$ 2,5bi da...   \n1211  Economia  Balanço da Vale mostra lucro liquido de R$ 5,7...   \n\n                  date          search_date  \\\n0     19/07/2022 11:50  2022-08-04 00:12:08   \n2     15/04/2022 12:19  2022-08-04 00:12:08   \n3     03/08/2022 10:49  2022-08-04 00:12:08   \n5     24/02/2022 23:26  2022-08-04 00:12:08   \n6     08/03/2022 14:06  2022-08-04 00:12:08   \n...                ...                  ...   \n1206  03/10/2018 11:02  2022-05-03 16:49:16   \n1207  06/12/2018 10:03  2022-05-03 16:49:22   \n1208  25/09/2018 17:42  2022-05-03 16:49:22   \n1210  11/09/2018 12:20  2022-05-03 16:49:25   \n1211  24/10/2018 18:59  2022-05-03 16:49:28   \n\n                                                   link  \\\n0     https://www.suno.com.br/noticias/ibovespa-hoje...   \n2     https://www.suno.com.br/noticias/vale-vale3-re...   \n3     https://www.suno.com.br/noticias/ibovespa-hoje...   \n5     https://www.suno.com.br/noticias/radar-vale-va...   \n6     https://www.suno.com.br/noticias/vale-vale3-pr...   \n...                                                 ...   \n1206  https://www.suno.com.br/noticias/samarco-acord...   \n1207  https://www.suno.com.br/noticias/vale-compra-f...   \n1208  https://www.suno.com.br/noticias/ibovespa-alta...   \n1210  https://www.suno.com.br/noticias/negocios-acor...   \n1211  https://www.suno.com.br/noticias/balanco-da-va...   \n\n                                                   tags  \n0     [Ibovespa, Embraer (EMBR3), Fleury (FLRY3), Go...  \n2                          [Vale (VALE3), Vale (VALE3)]  \n3     [Ibovespa, Cielo (CIEL3), Engie (EGIE3), Gerda...  \n5     [Vale (VALE3), Azul, AZUL4, Caixa Econômica Fe...  \n6     [Vale (VALE3), Especialistas, minério de ferro...  \n...                                                 ...  \n1206                                     [Vale (VALE3)]  \n1207                   [minério de ferro, Vale (VALE3)]  \n1208                                     [Vale (VALE3)]  \n1210  [Azul, BB Seguridade (BBSE3), Bradespar (BRAP3...  \n1211                                     [Vale (VALE3)]  \n\n[972 rows x 6 columns]",
      "text/html": "<div>\n<style scoped>\n    .dataframe tbody tr th:only-of-type {\n        vertical-align: middle;\n    }\n\n    .dataframe tbody tr th {\n        vertical-align: top;\n    }\n\n    .dataframe thead th {\n        text-align: right;\n    }\n</style>\n<table border=\"1\" class=\"dataframe\">\n  <thead>\n    <tr style=\"text-align: right;\">\n      <th></th>\n      <th>topic</th>\n      <th>title</th>\n      <th>date</th>\n      <th>search_date</th>\n      <th>link</th>\n      <th>tags</th>\n    </tr>\n  </thead>\n  <tbody>\n    <tr>\n      <th>0</th>\n      <td>Mercado</td>\n      <td>Ibovespa segue exterior e amplia alta; Marfrig...</td>\n      <td>19/07/2022 11:50</td>\n      <td>2022-08-04 00:12:08</td>\n      <td>https://www.suno.com.br/noticias/ibovespa-hoje...</td>\n      <td>[Ibovespa, Embraer (EMBR3), Fleury (FLRY3), Go...</td>\n    </tr>\n    <tr>\n      <th>2</th>\n      <td>Negócios</td>\n      <td>Vale (VALE3) diminui estimativa das reservas d...</td>\n      <td>15/04/2022 12:19</td>\n      <td>2022-08-04 00:12:08</td>\n      <td>https://www.suno.com.br/noticias/vale-vale3-re...</td>\n      <td>[Vale (VALE3), Vale (VALE3)]</td>\n    </tr>\n    <tr>\n      <th>3</th>\n      <td>Mercado</td>\n      <td>Ibovespa estável em 103 mil pontos; Magazine L...</td>\n      <td>03/08/2022 10:49</td>\n      <td>2022-08-04 00:12:08</td>\n      <td>https://www.suno.com.br/noticias/ibovespa-hoje...</td>\n      <td>[Ibovespa, Cielo (CIEL3), Engie (EGIE3), Gerda...</td>\n    </tr>\n    <tr>\n      <th>5</th>\n      <td>Negócios</td>\n      <td>Radar: Vale (VALE3) aumenta lucro no 4T21 e an...</td>\n      <td>24/02/2022 23:26</td>\n      <td>2022-08-04 00:12:08</td>\n      <td>https://www.suno.com.br/noticias/radar-vale-va...</td>\n      <td>[Vale (VALE3), Azul, AZUL4, Caixa Econômica Fe...</td>\n    </tr>\n    <tr>\n      <th>6</th>\n      <td>Negócios</td>\n      <td>Vale (VALE3): Preço do níquel dispara, bate re...</td>\n      <td>08/03/2022 14:06</td>\n      <td>2022-08-04 00:12:08</td>\n      <td>https://www.suno.com.br/noticias/vale-vale3-pr...</td>\n      <td>[Vale (VALE3), Especialistas, minério de ferro...</td>\n    </tr>\n    <tr>\n      <th>...</th>\n      <td>...</td>\n      <td>...</td>\n      <td>...</td>\n      <td>...</td>\n      <td>...</td>\n      <td>...</td>\n    </tr>\n    <tr>\n      <th>1206</th>\n      <td>Política</td>\n      <td>Samarco – Vale e BHP fecham acordo parcial sob...</td>\n      <td>03/10/2018 11:02</td>\n      <td>2022-05-03 16:49:16</td>\n      <td>https://www.suno.com.br/noticias/samarco-acord...</td>\n      <td>[Vale (VALE3)]</td>\n    </tr>\n    <tr>\n      <th>1207</th>\n      <td>Mercado</td>\n      <td>Vale compra Ferrous por US$ 550 milhões</td>\n      <td>06/12/2018 10:03</td>\n      <td>2022-05-03 16:49:22</td>\n      <td>https://www.suno.com.br/noticias/vale-compra-f...</td>\n      <td>[minério de ferro, Vale (VALE3)]</td>\n    </tr>\n    <tr>\n      <th>1208</th>\n      <td>Mercado</td>\n      <td>Ibovespa fecha em alta de 0,83% seguindo dispa...</td>\n      <td>25/09/2018 17:42</td>\n      <td>2022-05-03 16:49:22</td>\n      <td>https://www.suno.com.br/noticias/ibovespa-alta...</td>\n      <td>[Vale (VALE3)]</td>\n    </tr>\n    <tr>\n      <th>1210</th>\n      <td>Negócios</td>\n      <td>Terça-feira em negócios: acordo de R$ 2,5bi da...</td>\n      <td>11/09/2018 12:20</td>\n      <td>2022-05-03 16:49:25</td>\n      <td>https://www.suno.com.br/noticias/negocios-acor...</td>\n      <td>[Azul, BB Seguridade (BBSE3), Bradespar (BRAP3...</td>\n    </tr>\n    <tr>\n      <th>1211</th>\n      <td>Economia</td>\n      <td>Balanço da Vale mostra lucro liquido de R$ 5,7...</td>\n      <td>24/10/2018 18:59</td>\n      <td>2022-05-03 16:49:28</td>\n      <td>https://www.suno.com.br/noticias/balanco-da-va...</td>\n      <td>[Vale (VALE3)]</td>\n    </tr>\n  </tbody>\n</table>\n<p>972 rows × 6 columns</p>\n</div>"
     },
     "execution_count": 7,
     "metadata": {},
     "output_type": "execute_result"
    }
   ],
   "source": [
    "json_data_path = 'https://raw.githubusercontent.com/guico3lho/DataScience_Assets/main/Datasets/financial_market/suno/suno-vale3.json'\n",
    "\n",
    "r = requests.get(json_data_path)\n",
    "data = r.json()\n",
    "\n",
    "df_suno_vale_raw = pd.DataFrame(data)\n",
    "\n",
    "df_suno_vale = df_suno_vale_raw[df_suno_vale_raw['tags'].apply(lambda\n",
    "                                                                   x: 'Petrobras (PETR4)' not in x and 'PETR3' not in x and 'Itaú Unibanco (ITUB3/ITUB4)' not in x)]\n",
    "df_suno_vale = df_suno_vale.rename(columns={'url': 'link'})\n",
    "df_suno_vale"
   ],
   "metadata": {
    "collapsed": false,
    "ExecuteTime": {
     "end_time": "2023-11-30T18:51:08.391467300Z",
     "start_time": "2023-11-30T18:51:05.606469600Z"
    }
   }
  },
  {
   "cell_type": "code",
   "execution_count": 11,
   "outputs": [],
   "source": [
    "df_suno_vale_without_valestr = df_suno_vale[df_suno_vale['title'].str.contains('Vale') == False]\n",
    "df_suno_vale_without_valestr.to_csv('../assets/data/vale3_without_valestr.csv', index=True)"
   ],
   "metadata": {
    "collapsed": false,
    "ExecuteTime": {
     "end_time": "2023-11-30T18:59:13.154700700Z",
     "start_time": "2023-11-30T18:59:13.090703300Z"
    }
   }
  },
  {
   "cell_type": "markdown",
   "source": [
    "#### Moneytimes"
   ],
   "metadata": {
    "collapsed": false
   }
  },
  {
   "cell_type": "code",
   "execution_count": 7,
   "outputs": [
    {
     "data": {
      "text/plain": "                     topic                                              title  \\\n0     Carteira Recomendada  Ibovespa: Fuja dos 100 mil pontos com 5 ações ...   \n4                 Empresas  Vale (VALE3) confirma acordo com Tesla (TSLA) ...   \n10      Comprar ou vender?  10 ações para comprar agora e poder lucrar até...   \n11    Carteira Recomendada  10 ações que devem ficar no radar dos investid...   \n13    Carteira Recomendada  Elite escala Sanepar (SAPR11) em carteira sema...   \n...                    ...                                                ...   \n4058                  Citi  Analistas veem venda de ativos da Vale para Mo...   \n4059               Samarco                 HSBC: Vale e o problema da Samarco   \n4060    Comprar ou vender?  Santander vê Gerdau como melhor opção no setor...   \n4061           BTG Pactual            Analista pede cautela com ações da Vale   \n4062           BTG Pactual  China deve importar 1 bilhão de toneladas de m...   \n\n                    date          search_date  \\\n0     09/05/2022 - 15:56  2022-05-11 16:11:36   \n4     06/05/2022 - 11:17  2022-05-11 16:11:49   \n10    05/05/2022 - 14:04  2022-05-11 16:12:21   \n11    29/04/2022 - 16:13  2022-05-11 16:12:21   \n13    08/05/2022 - 18:50  2022-05-11 16:12:32   \n...                  ...                  ...   \n4058  20/12/2016 - 16:23  2022-05-11 17:42:18   \n4059  28/09/2016 - 20:08  2022-05-11 17:42:22   \n4060  12/12/2016 - 18:28  2022-05-11 17:42:22   \n4061  12/12/2016 - 13:46  2022-05-11 17:42:25   \n4062  07/12/2016 - 12:47  2022-05-11 17:42:28   \n\n                                                   link  \\\n0     https://www.moneytimes.com.br/ibovespa-fuja-do...   \n4     https://www.moneytimes.com.br/vale-vale3-anunc...   \n10    https://www.moneytimes.com.br/10-acoes-para-co...   \n11    https://www.moneytimes.com.br/10-acoes-que-dev...   \n13    https://www.moneytimes.com.br/elite-escala-san...   \n...                                                 ...   \n4058  https://www.moneytimes.com.br/analistas-veem-v...   \n4059  https://www.moneytimes.com.br/hsbc-vale-e-o-pr...   \n4060  https://www.moneytimes.com.br/santander-ve-ger...   \n4061  https://www.moneytimes.com.br/analista-pede-ca...   \n4062  https://www.moneytimes.com.br/china-deve-impor...   \n\n                                                   tags  \n0     [Ações, Ativa Investimentos, Banco Inter, BRF,...  \n4     [Ações, Carros elétricos, Empresas, Mercados, ...  \n10    [Ações, AES Brasil, Banco do Brasil, BB Seguri...  \n11    [Ações, Carteira Recomendada, Comprar ou vende...  \n13    [Ações, BrasilAgro, Carteira Recomendada, Comp...  \n...                                                 ...  \n4058  [Citi, Comprar ou vender?, Fusões & Aquisições...  \n4059                                    [Samarco, Vale]  \n4060  [Comprar ou vender?, Gerdau, Minério de ferro,...  \n4061            [BTG Pactual, Comprar ou vender?, Vale]  \n4062  [BTG Pactual, China, Comprar ou vender?, Minér...  \n\n[2768 rows x 6 columns]",
      "text/html": "<div>\n<style scoped>\n    .dataframe tbody tr th:only-of-type {\n        vertical-align: middle;\n    }\n\n    .dataframe tbody tr th {\n        vertical-align: top;\n    }\n\n    .dataframe thead th {\n        text-align: right;\n    }\n</style>\n<table border=\"1\" class=\"dataframe\">\n  <thead>\n    <tr style=\"text-align: right;\">\n      <th></th>\n      <th>topic</th>\n      <th>title</th>\n      <th>date</th>\n      <th>search_date</th>\n      <th>link</th>\n      <th>tags</th>\n    </tr>\n  </thead>\n  <tbody>\n    <tr>\n      <th>0</th>\n      <td>Carteira Recomendada</td>\n      <td>Ibovespa: Fuja dos 100 mil pontos com 5 ações ...</td>\n      <td>09/05/2022 - 15:56</td>\n      <td>2022-05-11 16:11:36</td>\n      <td>https://www.moneytimes.com.br/ibovespa-fuja-do...</td>\n      <td>[Ações, Ativa Investimentos, Banco Inter, BRF,...</td>\n    </tr>\n    <tr>\n      <th>4</th>\n      <td>Empresas</td>\n      <td>Vale (VALE3) confirma acordo com Tesla (TSLA) ...</td>\n      <td>06/05/2022 - 11:17</td>\n      <td>2022-05-11 16:11:49</td>\n      <td>https://www.moneytimes.com.br/vale-vale3-anunc...</td>\n      <td>[Ações, Carros elétricos, Empresas, Mercados, ...</td>\n    </tr>\n    <tr>\n      <th>10</th>\n      <td>Comprar ou vender?</td>\n      <td>10 ações para comprar agora e poder lucrar até...</td>\n      <td>05/05/2022 - 14:04</td>\n      <td>2022-05-11 16:12:21</td>\n      <td>https://www.moneytimes.com.br/10-acoes-para-co...</td>\n      <td>[Ações, AES Brasil, Banco do Brasil, BB Seguri...</td>\n    </tr>\n    <tr>\n      <th>11</th>\n      <td>Carteira Recomendada</td>\n      <td>10 ações que devem ficar no radar dos investid...</td>\n      <td>29/04/2022 - 16:13</td>\n      <td>2022-05-11 16:12:21</td>\n      <td>https://www.moneytimes.com.br/10-acoes-que-dev...</td>\n      <td>[Ações, Carteira Recomendada, Comprar ou vende...</td>\n    </tr>\n    <tr>\n      <th>13</th>\n      <td>Carteira Recomendada</td>\n      <td>Elite escala Sanepar (SAPR11) em carteira sema...</td>\n      <td>08/05/2022 - 18:50</td>\n      <td>2022-05-11 16:12:32</td>\n      <td>https://www.moneytimes.com.br/elite-escala-san...</td>\n      <td>[Ações, BrasilAgro, Carteira Recomendada, Comp...</td>\n    </tr>\n    <tr>\n      <th>...</th>\n      <td>...</td>\n      <td>...</td>\n      <td>...</td>\n      <td>...</td>\n      <td>...</td>\n      <td>...</td>\n    </tr>\n    <tr>\n      <th>4058</th>\n      <td>Citi</td>\n      <td>Analistas veem venda de ativos da Vale para Mo...</td>\n      <td>20/12/2016 - 16:23</td>\n      <td>2022-05-11 17:42:18</td>\n      <td>https://www.moneytimes.com.br/analistas-veem-v...</td>\n      <td>[Citi, Comprar ou vender?, Fusões &amp; Aquisições...</td>\n    </tr>\n    <tr>\n      <th>4059</th>\n      <td>Samarco</td>\n      <td>HSBC: Vale e o problema da Samarco</td>\n      <td>28/09/2016 - 20:08</td>\n      <td>2022-05-11 17:42:22</td>\n      <td>https://www.moneytimes.com.br/hsbc-vale-e-o-pr...</td>\n      <td>[Samarco, Vale]</td>\n    </tr>\n    <tr>\n      <th>4060</th>\n      <td>Comprar ou vender?</td>\n      <td>Santander vê Gerdau como melhor opção no setor...</td>\n      <td>12/12/2016 - 18:28</td>\n      <td>2022-05-11 17:42:22</td>\n      <td>https://www.moneytimes.com.br/santander-ve-ger...</td>\n      <td>[Comprar ou vender?, Gerdau, Minério de ferro,...</td>\n    </tr>\n    <tr>\n      <th>4061</th>\n      <td>BTG Pactual</td>\n      <td>Analista pede cautela com ações da Vale</td>\n      <td>12/12/2016 - 13:46</td>\n      <td>2022-05-11 17:42:25</td>\n      <td>https://www.moneytimes.com.br/analista-pede-ca...</td>\n      <td>[BTG Pactual, Comprar ou vender?, Vale]</td>\n    </tr>\n    <tr>\n      <th>4062</th>\n      <td>BTG Pactual</td>\n      <td>China deve importar 1 bilhão de toneladas de m...</td>\n      <td>07/12/2016 - 12:47</td>\n      <td>2022-05-11 17:42:28</td>\n      <td>https://www.moneytimes.com.br/china-deve-impor...</td>\n      <td>[BTG Pactual, China, Comprar ou vender?, Minér...</td>\n    </tr>\n  </tbody>\n</table>\n<p>2768 rows × 6 columns</p>\n</div>"
     },
     "execution_count": 7,
     "metadata": {},
     "output_type": "execute_result"
    }
   ],
   "source": [
    "json_data_path = 'https://raw.githubusercontent.com/guico3lho/DataScience_Assets/main/Datasets/financial_market/moneytimes/moneytimes-vale3.json'\n",
    "\n",
    "r = requests.get(json_data_path)\n",
    "data = r.json()\n",
    "\n",
    "df_moneytimes_vale_raw = pd.DataFrame(data)\n",
    "\n",
    "df_moneytimes_vale = df_moneytimes_vale_raw[\n",
    "    df_moneytimes_vale_raw['tags'].apply(lambda x: 'Petrobras' not in x and 'Itaú Unibanco' not in x)]\n",
    "df_moneytimes_vale"
   ],
   "metadata": {
    "collapsed": false,
    "ExecuteTime": {
     "end_time": "2023-11-30T00:55:09.758107800Z",
     "start_time": "2023-11-30T00:55:07.000862Z"
    }
   }
  },
  {
   "cell_type": "markdown",
   "source": [
    "#### Concat suno with moneytimes"
   ],
   "metadata": {
    "collapsed": false
   }
  },
  {
   "cell_type": "code",
   "execution_count": 8,
   "outputs": [
    {
     "data": {
      "text/plain": "                                                  title  \\\n0     Ibovespa segue exterior e amplia alta; Marfrig...   \n1     Vale (VALE3) diminui estimativa das reservas d...   \n2     Ibovespa estável em 103 mil pontos; Magazine L...   \n3     Radar: Vale (VALE3) aumenta lucro no 4T21 e an...   \n4     Vale (VALE3): Preço do níquel dispara, bate re...   \n...                                                 ...   \n3735  Analistas veem venda de ativos da Vale para Mo...   \n3736                 HSBC: Vale e o problema da Samarco   \n3737  Santander vê Gerdau como melhor opção no setor...   \n3738            Analista pede cautela com ações da Vale   \n3739  China deve importar 1 bilhão de toneladas de m...   \n\n                                                   tags  \\\n0     [Ibovespa, Embraer (EMBR3), Fleury (FLRY3), Go...   \n1                          [Vale (VALE3), Vale (VALE3)]   \n2     [Ibovespa, Cielo (CIEL3), Engie (EGIE3), Gerda...   \n3     [Vale (VALE3), Azul, AZUL4, Caixa Econômica Fe...   \n4     [Vale (VALE3), Especialistas, minério de ferro...   \n...                                                 ...   \n3735  [Citi, Comprar ou vender?, Fusões & Aquisições...   \n3736                                    [Samarco, Vale]   \n3737  [Comprar ou vender?, Gerdau, Minério de ferro,...   \n3738            [BTG Pactual, Comprar ou vender?, Vale]   \n3739  [BTG Pactual, China, Comprar ou vender?, Minér...   \n\n                                                   link  label  \n0     https://www.suno.com.br/noticias/ibovespa-hoje...      2  \n1     https://www.suno.com.br/noticias/vale-vale3-re...      2  \n2     https://www.suno.com.br/noticias/ibovespa-hoje...      2  \n3     https://www.suno.com.br/noticias/radar-vale-va...      2  \n4     https://www.suno.com.br/noticias/vale-vale3-pr...      2  \n...                                                 ...    ...  \n3735  https://www.moneytimes.com.br/analistas-veem-v...      2  \n3736  https://www.moneytimes.com.br/hsbc-vale-e-o-pr...      2  \n3737  https://www.moneytimes.com.br/santander-ve-ger...      2  \n3738  https://www.moneytimes.com.br/analista-pede-ca...      2  \n3739  https://www.moneytimes.com.br/china-deve-impor...      2  \n\n[3740 rows x 4 columns]",
      "text/html": "<div>\n<style scoped>\n    .dataframe tbody tr th:only-of-type {\n        vertical-align: middle;\n    }\n\n    .dataframe tbody tr th {\n        vertical-align: top;\n    }\n\n    .dataframe thead th {\n        text-align: right;\n    }\n</style>\n<table border=\"1\" class=\"dataframe\">\n  <thead>\n    <tr style=\"text-align: right;\">\n      <th></th>\n      <th>title</th>\n      <th>tags</th>\n      <th>link</th>\n      <th>label</th>\n    </tr>\n  </thead>\n  <tbody>\n    <tr>\n      <th>0</th>\n      <td>Ibovespa segue exterior e amplia alta; Marfrig...</td>\n      <td>[Ibovespa, Embraer (EMBR3), Fleury (FLRY3), Go...</td>\n      <td>https://www.suno.com.br/noticias/ibovespa-hoje...</td>\n      <td>2</td>\n    </tr>\n    <tr>\n      <th>1</th>\n      <td>Vale (VALE3) diminui estimativa das reservas d...</td>\n      <td>[Vale (VALE3), Vale (VALE3)]</td>\n      <td>https://www.suno.com.br/noticias/vale-vale3-re...</td>\n      <td>2</td>\n    </tr>\n    <tr>\n      <th>2</th>\n      <td>Ibovespa estável em 103 mil pontos; Magazine L...</td>\n      <td>[Ibovespa, Cielo (CIEL3), Engie (EGIE3), Gerda...</td>\n      <td>https://www.suno.com.br/noticias/ibovespa-hoje...</td>\n      <td>2</td>\n    </tr>\n    <tr>\n      <th>3</th>\n      <td>Radar: Vale (VALE3) aumenta lucro no 4T21 e an...</td>\n      <td>[Vale (VALE3), Azul, AZUL4, Caixa Econômica Fe...</td>\n      <td>https://www.suno.com.br/noticias/radar-vale-va...</td>\n      <td>2</td>\n    </tr>\n    <tr>\n      <th>4</th>\n      <td>Vale (VALE3): Preço do níquel dispara, bate re...</td>\n      <td>[Vale (VALE3), Especialistas, minério de ferro...</td>\n      <td>https://www.suno.com.br/noticias/vale-vale3-pr...</td>\n      <td>2</td>\n    </tr>\n    <tr>\n      <th>...</th>\n      <td>...</td>\n      <td>...</td>\n      <td>...</td>\n      <td>...</td>\n    </tr>\n    <tr>\n      <th>3735</th>\n      <td>Analistas veem venda de ativos da Vale para Mo...</td>\n      <td>[Citi, Comprar ou vender?, Fusões &amp; Aquisições...</td>\n      <td>https://www.moneytimes.com.br/analistas-veem-v...</td>\n      <td>2</td>\n    </tr>\n    <tr>\n      <th>3736</th>\n      <td>HSBC: Vale e o problema da Samarco</td>\n      <td>[Samarco, Vale]</td>\n      <td>https://www.moneytimes.com.br/hsbc-vale-e-o-pr...</td>\n      <td>2</td>\n    </tr>\n    <tr>\n      <th>3737</th>\n      <td>Santander vê Gerdau como melhor opção no setor...</td>\n      <td>[Comprar ou vender?, Gerdau, Minério de ferro,...</td>\n      <td>https://www.moneytimes.com.br/santander-ve-ger...</td>\n      <td>2</td>\n    </tr>\n    <tr>\n      <th>3738</th>\n      <td>Analista pede cautela com ações da Vale</td>\n      <td>[BTG Pactual, Comprar ou vender?, Vale]</td>\n      <td>https://www.moneytimes.com.br/analista-pede-ca...</td>\n      <td>2</td>\n    </tr>\n    <tr>\n      <th>3739</th>\n      <td>China deve importar 1 bilhão de toneladas de m...</td>\n      <td>[BTG Pactual, China, Comprar ou vender?, Minér...</td>\n      <td>https://www.moneytimes.com.br/china-deve-impor...</td>\n      <td>2</td>\n    </tr>\n  </tbody>\n</table>\n<p>3740 rows × 4 columns</p>\n</div>"
     },
     "execution_count": 8,
     "metadata": {},
     "output_type": "execute_result"
    }
   ],
   "source": [
    "df_vale3 = pd.concat([df_suno_vale[['title', 'tags', 'link']], df_moneytimes_vale[['title', 'tags', 'link']]])\n",
    "\n",
    "df_vale3.reset_index(inplace=True, drop=True)\n",
    "\n",
    "df_vale3['title'] = df_vale3['title'].map(lambda s: s.replace('\\xa0', ''))\n",
    "\n",
    "df_vale3['label'] = 2\n",
    "\n",
    "df_vale3"
   ],
   "metadata": {
    "collapsed": false,
    "ExecuteTime": {
     "end_time": "2023-11-30T00:55:09.833422200Z",
     "start_time": "2023-11-30T00:55:09.760107900Z"
    }
   }
  },
  {
   "cell_type": "markdown",
   "source": [
    "### [3] ITUB4"
   ],
   "metadata": {
    "collapsed": false
   }
  },
  {
   "cell_type": "markdown",
   "source": [
    "#### Suno"
   ],
   "metadata": {
    "collapsed": false
   }
  },
  {
   "cell_type": "code",
   "execution_count": 9,
   "outputs": [
    {
     "data": {
      "text/plain": "        topic                                              title  \\\n1    Startups  Startup Tembici, das bicicletas do Itaú (ITUB4...   \n2    Negócios  Itaú (ITUB4), Banco do Brasil (BBAS3): o que e...   \n3    Economia  IPCA, Selic, PIB, dólar: Itaú (ITUB4) revê pre...   \n4    Negócios  Iti, do Itaú (ITUB4), abrirá contas para menor...   \n5     Mercado  Ibovespa abre em queda com Precatórios e Itaú ...   \n..        ...                                                ...   \n806  Negócios  Itaú Unibanco busca análise de crédito ao comp...   \n807  Negócios  Concorrência com fintechs tem “nos angustiado”...   \n808  Economia  Concessões de infraestrutura só terão impacto ...   \n809  Negócios  Itaú vai distribuir mais dividendos do que o e...   \n810  Economia  Itaú prevê redução da Selic para 4,5% em 2019 ...   \n\n                 date          search_date  \\\n1    01/10/2021 09:47  2022-08-04 01:16:38   \n2    27/10/2021 09:42  2022-08-04 01:16:38   \n3    17/01/2022 16:42  2022-08-04 01:16:38   \n4    02/08/2022 15:29  2022-08-04 01:16:38   \n5    04/11/2021 11:20  2022-08-04 01:16:38   \n..                ...                  ...   \n806  01/11/2019 17:48  2022-05-05 00:52:17   \n807  04/09/2019 09:04  2022-05-05 00:52:17   \n808  07/10/2019 20:08  2022-05-05 00:52:17   \n809  04/09/2019 08:19  2022-05-05 00:52:17   \n810  14/10/2019 17:46  2022-05-05 00:52:17   \n\n                                                  link  \\\n1    https://www.suno.com.br/noticias/startup-tembi...   \n2    https://www.suno.com.br/noticias/itau-itub4-ba...   \n3    https://www.suno.com.br/noticias/itau-itub4-pr...   \n4    https://www.suno.com.br/noticias/iti-itau-itub...   \n5    https://www.suno.com.br/noticias/ibovespa-qued...   \n..                                                 ...   \n806  https://www.suno.com.br/noticias/itau-unibanco...   \n807  https://www.suno.com.br/noticias/itau-unibanco...   \n808  https://www.suno.com.br/noticias/concessoes-in...   \n809  https://www.suno.com.br/noticias/itau-dividend...   \n810  https://www.suno.com.br/noticias/itau-reducao-...   \n\n                                                  tags  \n1    [Itaú Unibanco (ITUB3/ITUB4), Agências, energi...  \n2    [balanços trimestrais, balanços trimestrais, B...  \n3    [dólar, dólar, Especialistas, IPCA, Itaú Uniba...  \n4    [Itaú Unibanco (ITUB3/ITUB4), Agências, Itaú U...  \n5    [Ibovespa, Arezzo (ARZZ3), Bolsa de Valores de...  \n..                                                 ...  \n806                      [Itaú Unibanco (ITUB3/ITUB4)]  \n807                      [Itaú Unibanco (ITUB3/ITUB4)]  \n808  [Banco Central (BC), Itaú Unibanco (ITUB3/ITUB...  \n809          [dividendos, Itaú Unibanco (ITUB3/ITUB4)]  \n810  [Banco Central (BC), IPCA, Itaú Unibanco (ITUB...  \n\n[711 rows x 6 columns]",
      "text/html": "<div>\n<style scoped>\n    .dataframe tbody tr th:only-of-type {\n        vertical-align: middle;\n    }\n\n    .dataframe tbody tr th {\n        vertical-align: top;\n    }\n\n    .dataframe thead th {\n        text-align: right;\n    }\n</style>\n<table border=\"1\" class=\"dataframe\">\n  <thead>\n    <tr style=\"text-align: right;\">\n      <th></th>\n      <th>topic</th>\n      <th>title</th>\n      <th>date</th>\n      <th>search_date</th>\n      <th>link</th>\n      <th>tags</th>\n    </tr>\n  </thead>\n  <tbody>\n    <tr>\n      <th>1</th>\n      <td>Startups</td>\n      <td>Startup Tembici, das bicicletas do Itaú (ITUB4...</td>\n      <td>01/10/2021 09:47</td>\n      <td>2022-08-04 01:16:38</td>\n      <td>https://www.suno.com.br/noticias/startup-tembi...</td>\n      <td>[Itaú Unibanco (ITUB3/ITUB4), Agências, energi...</td>\n    </tr>\n    <tr>\n      <th>2</th>\n      <td>Negócios</td>\n      <td>Itaú (ITUB4), Banco do Brasil (BBAS3): o que e...</td>\n      <td>27/10/2021 09:42</td>\n      <td>2022-08-04 01:16:38</td>\n      <td>https://www.suno.com.br/noticias/itau-itub4-ba...</td>\n      <td>[balanços trimestrais, balanços trimestrais, B...</td>\n    </tr>\n    <tr>\n      <th>3</th>\n      <td>Economia</td>\n      <td>IPCA, Selic, PIB, dólar: Itaú (ITUB4) revê pre...</td>\n      <td>17/01/2022 16:42</td>\n      <td>2022-08-04 01:16:38</td>\n      <td>https://www.suno.com.br/noticias/itau-itub4-pr...</td>\n      <td>[dólar, dólar, Especialistas, IPCA, Itaú Uniba...</td>\n    </tr>\n    <tr>\n      <th>4</th>\n      <td>Negócios</td>\n      <td>Iti, do Itaú (ITUB4), abrirá contas para menor...</td>\n      <td>02/08/2022 15:29</td>\n      <td>2022-08-04 01:16:38</td>\n      <td>https://www.suno.com.br/noticias/iti-itau-itub...</td>\n      <td>[Itaú Unibanco (ITUB3/ITUB4), Agências, Itaú U...</td>\n    </tr>\n    <tr>\n      <th>5</th>\n      <td>Mercado</td>\n      <td>Ibovespa abre em queda com Precatórios e Itaú ...</td>\n      <td>04/11/2021 11:20</td>\n      <td>2022-08-04 01:16:38</td>\n      <td>https://www.suno.com.br/noticias/ibovespa-qued...</td>\n      <td>[Ibovespa, Arezzo (ARZZ3), Bolsa de Valores de...</td>\n    </tr>\n    <tr>\n      <th>...</th>\n      <td>...</td>\n      <td>...</td>\n      <td>...</td>\n      <td>...</td>\n      <td>...</td>\n      <td>...</td>\n    </tr>\n    <tr>\n      <th>806</th>\n      <td>Negócios</td>\n      <td>Itaú Unibanco busca análise de crédito ao comp...</td>\n      <td>01/11/2019 17:48</td>\n      <td>2022-05-05 00:52:17</td>\n      <td>https://www.suno.com.br/noticias/itau-unibanco...</td>\n      <td>[Itaú Unibanco (ITUB3/ITUB4)]</td>\n    </tr>\n    <tr>\n      <th>807</th>\n      <td>Negócios</td>\n      <td>Concorrência com fintechs tem “nos angustiado”...</td>\n      <td>04/09/2019 09:04</td>\n      <td>2022-05-05 00:52:17</td>\n      <td>https://www.suno.com.br/noticias/itau-unibanco...</td>\n      <td>[Itaú Unibanco (ITUB3/ITUB4)]</td>\n    </tr>\n    <tr>\n      <th>808</th>\n      <td>Economia</td>\n      <td>Concessões de infraestrutura só terão impacto ...</td>\n      <td>07/10/2019 20:08</td>\n      <td>2022-05-05 00:52:17</td>\n      <td>https://www.suno.com.br/noticias/concessoes-in...</td>\n      <td>[Banco Central (BC), Itaú Unibanco (ITUB3/ITUB...</td>\n    </tr>\n    <tr>\n      <th>809</th>\n      <td>Negócios</td>\n      <td>Itaú vai distribuir mais dividendos do que o e...</td>\n      <td>04/09/2019 08:19</td>\n      <td>2022-05-05 00:52:17</td>\n      <td>https://www.suno.com.br/noticias/itau-dividend...</td>\n      <td>[dividendos, Itaú Unibanco (ITUB3/ITUB4)]</td>\n    </tr>\n    <tr>\n      <th>810</th>\n      <td>Economia</td>\n      <td>Itaú prevê redução da Selic para 4,5% em 2019 ...</td>\n      <td>14/10/2019 17:46</td>\n      <td>2022-05-05 00:52:17</td>\n      <td>https://www.suno.com.br/noticias/itau-reducao-...</td>\n      <td>[Banco Central (BC), IPCA, Itaú Unibanco (ITUB...</td>\n    </tr>\n  </tbody>\n</table>\n<p>711 rows × 6 columns</p>\n</div>"
     },
     "execution_count": 9,
     "metadata": {},
     "output_type": "execute_result"
    }
   ],
   "source": [
    "json_data_path = 'https://raw.githubusercontent.com/guico3lho/DataScience_Assets/main/Datasets/financial_market/suno/suno-itub4.json'\n",
    "\n",
    "r = requests.get(json_data_path)\n",
    "data = r.json()\n",
    "\n",
    "df_suno_itub4_raw = pd.DataFrame(data)\n",
    "\n",
    "df_suno_itub4 = df_suno_itub4_raw[df_suno_itub4_raw['tags'].apply(\n",
    "    lambda x: 'Petrobras (PETR4)' not in x and 'PETR3' not in x and 'Vale (VALE3)' not in x)]\n",
    "df_suno_itub4 = df_suno_itub4.rename(columns={'url': 'link'})\n",
    "df_suno_itub4"
   ],
   "metadata": {
    "collapsed": false,
    "ExecuteTime": {
     "end_time": "2023-11-30T00:55:11.294855100Z",
     "start_time": "2023-11-30T00:55:09.796904400Z"
    }
   }
  },
  {
   "cell_type": "markdown",
   "source": [
    "#### Moneytimes"
   ],
   "metadata": {
    "collapsed": false
   }
  },
  {
   "cell_type": "code",
   "execution_count": 10,
   "outputs": [
    {
     "data": {
      "text/plain": "                   topic                                              title  \\\n1     Comprar ou vender?  Day Trade: 6 ações para comprar e ter chances ...   \n3                 Bancos  Itaú conclui aquisição de 11,4% da XP por R$ 8 bi   \n5     Comprar ou vender?  Bancões: Por que Itaú (ITUB4) e Banco do Brasi...   \n6                 Nubank  Bônus no Nubank (NUBR33): Em média de R$ 15,5 ...   \n8     Comprar ou vender?  1T22: Veja o banco que deve entregar os result...   \n...                  ...                                                ...   \n2271               Bolsa  Exclusivo: Itaú testa plataforma com investime...   \n2272     Banco do Brasil  Itaú e Bradesco são mais rentáveis do que banc...   \n2273              Bancos                       Ação do Itaú ou do Bradesco?   \n2274     Análise Técnica  Ibovespa caminha para máxima histórica em 74 m...   \n2275       Banco Central    Qual é o momento de reduzir a meta de inflação?   \n\n                    date          search_date  \\\n1      04/05/2022 - 8:28  2022-05-06 14:47:44   \n3     29/04/2022 - 19:03  2022-05-06 14:47:49   \n5     26/04/2022 - 10:25  2022-05-06 14:47:59   \n6     29/04/2022 - 16:59  2022-05-06 14:47:59   \n8     18/04/2022 - 16:05  2022-05-06 14:48:08   \n...                  ...                  ...   \n2271  17/01/2017 - 19:55  2022-05-06 15:38:07   \n2272  07/03/2017 - 14:51  2022-05-06 15:38:07   \n2273  29/11/2016 - 11:03  2022-05-06 15:38:07   \n2274  26/01/2017 - 11:35  2022-05-06 15:38:07   \n2275  11/03/2017 - 16:18  2022-05-06 15:38:07   \n\n                                                   link  \\\n1     https://www.moneytimes.com.br/day-trade-6-acoe...   \n3     https://www.moneytimes.com.br/itau-conclui-aqu...   \n5     https://www.moneytimes.com.br/bancoes-por-que-...   \n6     https://www.moneytimes.com.br/bonus-no-nubank-...   \n8     https://www.moneytimes.com.br/1t22-veja-o-banc...   \n...                                                 ...   \n2271  https://www.moneytimes.com.br/exclusivo-itau-t...   \n2272  https://www.moneytimes.com.br/itau-e-bradesco-...   \n2273  https://www.moneytimes.com.br/acao-do-itau-ou-...   \n2274  https://www.moneytimes.com.br/ibovespa-caminha...   \n2275  https://www.moneytimes.com.br/qual-e-o-momento...   \n\n                                                   tags  \n1     [Ágora Investimentos, BTG Pactual, Comprar ou ...  \n3     [Banco Central, Bancos, Empresas, Fusões & Aqu...  \n5     [Bradesco, Comprar ou vender?, Genial Investim...  \n6     [Bill Gates, Bradesco, Carreira, CEOs, CVM, Da...  \n8     [Ações, Banco do Brasil, Bancos, Bradesco, Com...  \n...                                                 ...  \n2271                   [Bolsa, Ibovespa, Itaú Unibanco]  \n2272  [Banco do Brasil, Bancos, Bradesco, Economatic...  \n2273  [Bancos, Bradesco, Comprar ou vender?, Itaú Un...  \n2274         [Análise Técnica, Ibovespa, Itaú Unibanco]  \n2275  [Banco Central, CMN, Inflação, Itaú Unibanco, ...  \n\n[1392 rows x 6 columns]",
      "text/html": "<div>\n<style scoped>\n    .dataframe tbody tr th:only-of-type {\n        vertical-align: middle;\n    }\n\n    .dataframe tbody tr th {\n        vertical-align: top;\n    }\n\n    .dataframe thead th {\n        text-align: right;\n    }\n</style>\n<table border=\"1\" class=\"dataframe\">\n  <thead>\n    <tr style=\"text-align: right;\">\n      <th></th>\n      <th>topic</th>\n      <th>title</th>\n      <th>date</th>\n      <th>search_date</th>\n      <th>link</th>\n      <th>tags</th>\n    </tr>\n  </thead>\n  <tbody>\n    <tr>\n      <th>1</th>\n      <td>Comprar ou vender?</td>\n      <td>Day Trade: 6 ações para comprar e ter chances ...</td>\n      <td>04/05/2022 - 8:28</td>\n      <td>2022-05-06 14:47:44</td>\n      <td>https://www.moneytimes.com.br/day-trade-6-acoe...</td>\n      <td>[Ágora Investimentos, BTG Pactual, Comprar ou ...</td>\n    </tr>\n    <tr>\n      <th>3</th>\n      <td>Bancos</td>\n      <td>Itaú conclui aquisição de 11,4% da XP por R$ 8 bi</td>\n      <td>29/04/2022 - 19:03</td>\n      <td>2022-05-06 14:47:49</td>\n      <td>https://www.moneytimes.com.br/itau-conclui-aqu...</td>\n      <td>[Banco Central, Bancos, Empresas, Fusões &amp; Aqu...</td>\n    </tr>\n    <tr>\n      <th>5</th>\n      <td>Comprar ou vender?</td>\n      <td>Bancões: Por que Itaú (ITUB4) e Banco do Brasi...</td>\n      <td>26/04/2022 - 10:25</td>\n      <td>2022-05-06 14:47:59</td>\n      <td>https://www.moneytimes.com.br/bancoes-por-que-...</td>\n      <td>[Bradesco, Comprar ou vender?, Genial Investim...</td>\n    </tr>\n    <tr>\n      <th>6</th>\n      <td>Nubank</td>\n      <td>Bônus no Nubank (NUBR33): Em média de R$ 15,5 ...</td>\n      <td>29/04/2022 - 16:59</td>\n      <td>2022-05-06 14:47:59</td>\n      <td>https://www.moneytimes.com.br/bonus-no-nubank-...</td>\n      <td>[Bill Gates, Bradesco, Carreira, CEOs, CVM, Da...</td>\n    </tr>\n    <tr>\n      <th>8</th>\n      <td>Comprar ou vender?</td>\n      <td>1T22: Veja o banco que deve entregar os result...</td>\n      <td>18/04/2022 - 16:05</td>\n      <td>2022-05-06 14:48:08</td>\n      <td>https://www.moneytimes.com.br/1t22-veja-o-banc...</td>\n      <td>[Ações, Banco do Brasil, Bancos, Bradesco, Com...</td>\n    </tr>\n    <tr>\n      <th>...</th>\n      <td>...</td>\n      <td>...</td>\n      <td>...</td>\n      <td>...</td>\n      <td>...</td>\n      <td>...</td>\n    </tr>\n    <tr>\n      <th>2271</th>\n      <td>Bolsa</td>\n      <td>Exclusivo: Itaú testa plataforma com investime...</td>\n      <td>17/01/2017 - 19:55</td>\n      <td>2022-05-06 15:38:07</td>\n      <td>https://www.moneytimes.com.br/exclusivo-itau-t...</td>\n      <td>[Bolsa, Ibovespa, Itaú Unibanco]</td>\n    </tr>\n    <tr>\n      <th>2272</th>\n      <td>Banco do Brasil</td>\n      <td>Itaú e Bradesco são mais rentáveis do que banc...</td>\n      <td>07/03/2017 - 14:51</td>\n      <td>2022-05-06 15:38:07</td>\n      <td>https://www.moneytimes.com.br/itau-e-bradesco-...</td>\n      <td>[Banco do Brasil, Bancos, Bradesco, Economatic...</td>\n    </tr>\n    <tr>\n      <th>2273</th>\n      <td>Bancos</td>\n      <td>Ação do Itaú ou do Bradesco?</td>\n      <td>29/11/2016 - 11:03</td>\n      <td>2022-05-06 15:38:07</td>\n      <td>https://www.moneytimes.com.br/acao-do-itau-ou-...</td>\n      <td>[Bancos, Bradesco, Comprar ou vender?, Itaú Un...</td>\n    </tr>\n    <tr>\n      <th>2274</th>\n      <td>Análise Técnica</td>\n      <td>Ibovespa caminha para máxima histórica em 74 m...</td>\n      <td>26/01/2017 - 11:35</td>\n      <td>2022-05-06 15:38:07</td>\n      <td>https://www.moneytimes.com.br/ibovespa-caminha...</td>\n      <td>[Análise Técnica, Ibovespa, Itaú Unibanco]</td>\n    </tr>\n    <tr>\n      <th>2275</th>\n      <td>Banco Central</td>\n      <td>Qual é o momento de reduzir a meta de inflação?</td>\n      <td>11/03/2017 - 16:18</td>\n      <td>2022-05-06 15:38:07</td>\n      <td>https://www.moneytimes.com.br/qual-e-o-momento...</td>\n      <td>[Banco Central, CMN, Inflação, Itaú Unibanco, ...</td>\n    </tr>\n  </tbody>\n</table>\n<p>1392 rows × 6 columns</p>\n</div>"
     },
     "execution_count": 10,
     "metadata": {},
     "output_type": "execute_result"
    }
   ],
   "source": [
    "json_data_path = 'https://raw.githubusercontent.com/guico3lho/DataScience_Assets/main/Datasets/financial_market/moneytimes/moneytimes-itub4.json'\n",
    "\n",
    "r = requests.get(json_data_path)\n",
    "data = r.json()\n",
    "\n",
    "df_moneytimes_itub4_raw = pd.DataFrame(data)\n",
    "\n",
    "df_moneytimes_itub4 = df_moneytimes_itub4_raw[\n",
    "    df_moneytimes_itub4_raw['tags'].apply(lambda x: 'Petrobras' not in x and 'Vale' not in x)]\n",
    "df_moneytimes_itub4"
   ],
   "metadata": {
    "collapsed": false,
    "ExecuteTime": {
     "end_time": "2023-11-30T00:55:14.318009500Z",
     "start_time": "2023-11-30T00:55:11.271856Z"
    }
   }
  },
  {
   "cell_type": "markdown",
   "source": [
    "#### Infomoney"
   ],
   "metadata": {
    "collapsed": false
   }
  },
  {
   "cell_type": "code",
   "execution_count": 11,
   "outputs": [],
   "source": [
    "json_data_path = 'https://raw.githubusercontent.com/guico3lho/DataScience_Assets/main/Datasets/financial_market/infomoney_test/infomoney-results.json'\n",
    "\n",
    "r = requests.get(json_data_path)\n",
    "data = r.json()\n",
    "\n",
    "df_infomoney_raw = pd.DataFrame(data)\n",
    "\n",
    "df_infomoney_itub4 = df_infomoney_raw[df_infomoney_raw['tags'].apply(lambda x: 'Itaú' in x)]\n",
    "\n",
    "# df_moneytimes_vale = df_moneytimes_vale_raw[\n",
    "#     df_moneytimes_vale_raw['tags'].apply(lambda x: 'Petrobras' not in x and 'Itaú Unibanco' not in x)]\n",
    "# df_moneytimes_vale"
   ],
   "metadata": {
    "collapsed": false,
    "ExecuteTime": {
     "end_time": "2023-11-30T00:55:16.619907600Z",
     "start_time": "2023-11-30T00:55:14.317010100Z"
    }
   }
  },
  {
   "cell_type": "code",
   "execution_count": 12,
   "outputs": [
    {
     "data": {
      "text/plain": "                                                  title  \\\n0     Startup Tembici, das bicicletas do Itaú (ITUB4...   \n1     Itaú (ITUB4), Banco do Brasil (BBAS3): o que e...   \n2     IPCA, Selic, PIB, dólar: Itaú (ITUB4) revê pre...   \n3     Iti, do Itaú (ITUB4), abrirá contas para menor...   \n4     Ibovespa abre em queda com Precatórios e Itaú ...   \n...                                                 ...   \n2154  Como os diferentes setores da economia brasile...   \n2155  Para economista do Itaú, mercado estaria reagi...   \n2156  Credit Suisse eleva preço-alvo para Itaúsa e v...   \n2157                             Itaú é uma meme stock?   \n2158  Itaú Consignado é multado em R$ 9,6 mi pela Se...   \n\n                                                   tags  \\\n0     [Itaú Unibanco (ITUB3/ITUB4), Agências, energi...   \n1     [balanços trimestrais, balanços trimestrais, B...   \n2     [dólar, dólar, Especialistas, IPCA, Itaú Uniba...   \n3     [Itaú Unibanco (ITUB3/ITUB4), Agências, Itaú U...   \n4     [Ibovespa, Arezzo (ARZZ3), Bolsa de Valores de...   \n...                                                 ...   \n2154  [Economia, Mercados, Banco Central, Bradesco, ...   \n2155                  [Economia, Mercados, Itaú, Risco]   \n2156  [Mercados, Ações, Credit Suisse, Itaú, Itaúsa,...   \n2157  [Mercados, Stock Pickers, EUA, Itaú, Memes, Ne...   \n2158        [Minhas Finanças, Crédito Consignado, Itaú]   \n\n                                                   link  label  \n0     https://www.suno.com.br/noticias/startup-tembi...      3  \n1     https://www.suno.com.br/noticias/itau-itub4-ba...      3  \n2     https://www.suno.com.br/noticias/itau-itub4-pr...      3  \n3     https://www.suno.com.br/noticias/iti-itau-itub...      3  \n4     https://www.suno.com.br/noticias/ibovespa-qued...      3  \n...                                                 ...    ...  \n2154  https://www.infomoney.com.br/economia/como-os-...      3  \n2155  https://www.infomoney.com.br/mercados/para-eco...      3  \n2156  https://www.infomoney.com.br/mercados/credit-s...      3  \n2157  https://www.infomoney.com.br/stock-pickers/ita...      3  \n2158  https://www.infomoney.com.br/minhas-financas/i...      3  \n\n[2159 rows x 4 columns]",
      "text/html": "<div>\n<style scoped>\n    .dataframe tbody tr th:only-of-type {\n        vertical-align: middle;\n    }\n\n    .dataframe tbody tr th {\n        vertical-align: top;\n    }\n\n    .dataframe thead th {\n        text-align: right;\n    }\n</style>\n<table border=\"1\" class=\"dataframe\">\n  <thead>\n    <tr style=\"text-align: right;\">\n      <th></th>\n      <th>title</th>\n      <th>tags</th>\n      <th>link</th>\n      <th>label</th>\n    </tr>\n  </thead>\n  <tbody>\n    <tr>\n      <th>0</th>\n      <td>Startup Tembici, das bicicletas do Itaú (ITUB4...</td>\n      <td>[Itaú Unibanco (ITUB3/ITUB4), Agências, energi...</td>\n      <td>https://www.suno.com.br/noticias/startup-tembi...</td>\n      <td>3</td>\n    </tr>\n    <tr>\n      <th>1</th>\n      <td>Itaú (ITUB4), Banco do Brasil (BBAS3): o que e...</td>\n      <td>[balanços trimestrais, balanços trimestrais, B...</td>\n      <td>https://www.suno.com.br/noticias/itau-itub4-ba...</td>\n      <td>3</td>\n    </tr>\n    <tr>\n      <th>2</th>\n      <td>IPCA, Selic, PIB, dólar: Itaú (ITUB4) revê pre...</td>\n      <td>[dólar, dólar, Especialistas, IPCA, Itaú Uniba...</td>\n      <td>https://www.suno.com.br/noticias/itau-itub4-pr...</td>\n      <td>3</td>\n    </tr>\n    <tr>\n      <th>3</th>\n      <td>Iti, do Itaú (ITUB4), abrirá contas para menor...</td>\n      <td>[Itaú Unibanco (ITUB3/ITUB4), Agências, Itaú U...</td>\n      <td>https://www.suno.com.br/noticias/iti-itau-itub...</td>\n      <td>3</td>\n    </tr>\n    <tr>\n      <th>4</th>\n      <td>Ibovespa abre em queda com Precatórios e Itaú ...</td>\n      <td>[Ibovespa, Arezzo (ARZZ3), Bolsa de Valores de...</td>\n      <td>https://www.suno.com.br/noticias/ibovespa-qued...</td>\n      <td>3</td>\n    </tr>\n    <tr>\n      <th>...</th>\n      <td>...</td>\n      <td>...</td>\n      <td>...</td>\n      <td>...</td>\n    </tr>\n    <tr>\n      <th>2154</th>\n      <td>Como os diferentes setores da economia brasile...</td>\n      <td>[Economia, Mercados, Banco Central, Bradesco, ...</td>\n      <td>https://www.infomoney.com.br/economia/como-os-...</td>\n      <td>3</td>\n    </tr>\n    <tr>\n      <th>2155</th>\n      <td>Para economista do Itaú, mercado estaria reagi...</td>\n      <td>[Economia, Mercados, Itaú, Risco]</td>\n      <td>https://www.infomoney.com.br/mercados/para-eco...</td>\n      <td>3</td>\n    </tr>\n    <tr>\n      <th>2156</th>\n      <td>Credit Suisse eleva preço-alvo para Itaúsa e v...</td>\n      <td>[Mercados, Ações, Credit Suisse, Itaú, Itaúsa,...</td>\n      <td>https://www.infomoney.com.br/mercados/credit-s...</td>\n      <td>3</td>\n    </tr>\n    <tr>\n      <th>2157</th>\n      <td>Itaú é uma meme stock?</td>\n      <td>[Mercados, Stock Pickers, EUA, Itaú, Memes, Ne...</td>\n      <td>https://www.infomoney.com.br/stock-pickers/ita...</td>\n      <td>3</td>\n    </tr>\n    <tr>\n      <th>2158</th>\n      <td>Itaú Consignado é multado em R$ 9,6 mi pela Se...</td>\n      <td>[Minhas Finanças, Crédito Consignado, Itaú]</td>\n      <td>https://www.infomoney.com.br/minhas-financas/i...</td>\n      <td>3</td>\n    </tr>\n  </tbody>\n</table>\n<p>2159 rows × 4 columns</p>\n</div>"
     },
     "execution_count": 12,
     "metadata": {},
     "output_type": "execute_result"
    }
   ],
   "source": [
    "df_itub4 = pd.concat([df_suno_itub4[['title', 'tags', 'link']], df_moneytimes_itub4[['title', 'tags', 'link']], df_infomoney_itub4[['title','tags','link']]])\n",
    "\n",
    "df_itub4.reset_index(inplace=True, drop=True)\n",
    "\n",
    "df_itub4['title'] = df_itub4['title'].map(lambda s: s.replace('\\xa0', ''))\n",
    "\n",
    "df_itub4['label'] = 3\n",
    "\n",
    "df_itub4"
   ],
   "metadata": {
    "collapsed": false,
    "ExecuteTime": {
     "end_time": "2023-11-30T00:55:16.694870900Z",
     "start_time": "2023-11-30T00:55:16.624899600Z"
    }
   }
  },
  {
   "cell_type": "markdown",
   "source": [
    "### [0] Notícias do SUNO que não são PETR4, ITUB4 ou VALE3 using Kaggle"
   ],
   "metadata": {
    "collapsed": false
   }
  },
  {
   "cell_type": "markdown",
   "source": [
    "#### Importing"
   ],
   "metadata": {
    "collapsed": false
   }
  },
  {
   "cell_type": "code",
   "execution_count": 13,
   "outputs": [
    {
     "name": "stdout",
     "output_type": "stream",
     "text": [
      "Skipping, found downloaded files in \"../assets/data\\suno-news-2018-2020\" (use force=True to force download)\n"
     ]
    }
   ],
   "source": [
    "# https://drive.google.com/file/d/1OGmCmxSVM0SFdbce6zRXQ458xGmUo5Xs/view?usp=sharing\n",
    "\n",
    "od.download('https://www.kaggle.com/datasets/guico3lho/suno-news-2018-2020', '../assets/data')"
   ],
   "metadata": {
    "collapsed": false,
    "ExecuteTime": {
     "end_time": "2023-11-30T00:55:16.695870300Z",
     "start_time": "2023-11-30T00:55:16.650074100Z"
    }
   }
  },
  {
   "cell_type": "code",
   "execution_count": 14,
   "outputs": [],
   "source": [
    "json_data_path = '../assets/data/suno-news-2018-2020/results-full-suno-2020.json'\n",
    "\n",
    "with open(json_data_path, 'r', encoding='utf8') as json_file:\n",
    "    data = json.load(json_file)\n",
    "\n",
    "df_suno_raw = pd.DataFrame(data)\n",
    "# df_suno_raw"
   ],
   "metadata": {
    "collapsed": false,
    "ExecuteTime": {
     "end_time": "2023-11-30T00:55:19.290897500Z",
     "start_time": "2023-11-30T00:55:16.663871400Z"
    }
   }
  },
  {
   "cell_type": "markdown",
   "source": [
    "#### Filters to remove stocks that are PETR4, ITUB4 or VALE3"
   ],
   "metadata": {
    "collapsed": false
   }
  },
  {
   "cell_type": "code",
   "execution_count": 15,
   "outputs": [],
   "source": [
    "df_suno_other_stocks = df_suno_raw[df_suno_raw['tags'].apply(lambda x: 'PETR4' not in x\n",
    "                                                                       and 'PETR3' not in x\n",
    "                                                                       and 'Petrobras' not in x\n",
    "                                                                       and 'Vale (VALE3)' not in x\n",
    "                                                                       and 'Vale' not in x\n",
    "                                                                       and 'VALE3' not in x\n",
    "                                                                       and 'Itaú Unibanco (ITUB4)' not in x\n",
    "                                                                       and 'Itau Unibanco' not in x\n",
    "                                                                       and 'ITUB4' not in x\n",
    "                                                                       and 'ITUB3' not in x\n",
    "                                                                       and 'Itau' not in x\n",
    "\n",
    "                                                             )]\n",
    "\n"
   ],
   "metadata": {
    "collapsed": false,
    "ExecuteTime": {
     "end_time": "2023-11-30T00:55:19.339578800Z",
     "start_time": "2023-11-30T00:55:19.293896400Z"
    }
   }
  },
  {
   "cell_type": "code",
   "execution_count": 16,
   "outputs": [],
   "source": [
    "# df_suno_raw[df_suno_raw['tags'].apply(lambda x: lambda y: y.str.contains('Petrobras') for y in x)]\n",
    "# df_suno_raw[df_suno_raw['tags'].apply(lambda x: lambda y: y.str.contains('Vale') for y in x)]\n",
    "\n",
    "# df_suno_other_stocks[df_suno_other_stocks['tags'].apply(lambda x: 'Itau' in x)]"
   ],
   "metadata": {
    "collapsed": false,
    "ExecuteTime": {
     "end_time": "2023-11-30T00:55:19.355605400Z",
     "start_time": "2023-11-30T00:55:19.335575900Z"
    }
   }
  },
  {
   "cell_type": "code",
   "execution_count": 17,
   "outputs": [],
   "source": [
    "df_other_stocks = df_suno_other_stocks.sample(6000)"
   ],
   "metadata": {
    "collapsed": false,
    "ExecuteTime": {
     "end_time": "2023-11-30T00:55:19.369513900Z",
     "start_time": "2023-11-30T00:55:19.356605200Z"
    }
   }
  },
  {
   "cell_type": "code",
   "execution_count": 18,
   "outputs": [],
   "source": [
    "df_other_stocks = df_other_stocks[['title', 'tags', 'url']]\n",
    "df_other_stocks = df_other_stocks.rename(columns={'url': 'link'})\n",
    "df_other_stocks['label'] = 0\n",
    "df_other_stocks.reset_index(inplace=True, drop=True)"
   ],
   "metadata": {
    "collapsed": false,
    "ExecuteTime": {
     "end_time": "2023-11-30T00:55:19.414033600Z",
     "start_time": "2023-11-30T00:55:19.369513900Z"
    }
   }
  },
  {
   "cell_type": "markdown",
   "source": [
    "## Concat all loaded data and shuffle to generate final dataframe"
   ],
   "metadata": {
    "collapsed": false
   }
  },
  {
   "cell_type": "code",
   "execution_count": 19,
   "outputs": [
    {
     "data": {
      "text/plain": "                                                   title  \\\n0      Após Nubank, Credit Suisse também leva executi...   \n1      Caixa Econômica vai fechar a “máquina de preju...   \n2      XP traz 5 atualizações na carteira de análise ...   \n3      Itaú leiloa 27 imóveis residenciais e comercia...   \n4      Gerdau pagará R$ 90 mi em dividendos; empresa ...   \n...                                                  ...   \n18007  Petrobras inicia teste em Albacora, no pré-sal...   \n18008  Dólar e euro abrem em queda no último pregão d...   \n18009  Polaris vê conclusão de retirada de combustíve...   \n18010  Resultado da Petrobras mostra que o melhor ain...   \n18011  Moelis busca negócios na Argentina e vê Brasil...   \n\n                                                    tags  \\\n0      [Conselho de Administração, Credit Suisse (C1S...   \n1      [Ações, Banco Pan, Bancos, Caixa Econômica Fed...   \n2      [Ações, Bradespar, BRF, Carteira Recomendada, ...   \n3      [Empresas, Imóveis, Itaú Unibanco, Leilão, Set...   \n4                                          [aço, Gerdau]   \n...                                                  ...   \n18007    [Empresas, Macaé, Petrobras, Petróleo, Reuters]   \n18008                                            [dólar]   \n18009  [Empresas, Maranhão, Mineração, Minério de fer...   \n18010  [Comprar ou vender?, Petrobras, XP Investimentos]   \n18011  [Alberto Fernández, América Latina, Argentina,...   \n\n                                                    link  label  \n0      https://www.suno.com.br/noticias/apos-nubank-c...      3  \n1      https://www.moneytimes.com.br/caixa-economica-...      1  \n2      https://www.moneytimes.com.br/xp-traz-5-atuali...      2  \n3      https://www.moneytimes.com.br/itau-leiloa-27-i...      3  \n4      https://www.sunoresearch.com.br/noticias/gerda...      0  \n...                                                  ...    ...  \n18007  https://www.moneytimes.com.br/petrobras-inicia...      1  \n18008  https://www.sunoresearch.com.br/noticias/dolar...      0  \n18009  https://www.moneytimes.com.br/polaris-ve-concl...      2  \n18010  https://www.moneytimes.com.br/resultado-da-pet...      1  \n18011  https://www.moneytimes.com.br/moelis-busca-neg...      1  \n\n[18012 rows x 4 columns]",
      "text/html": "<div>\n<style scoped>\n    .dataframe tbody tr th:only-of-type {\n        vertical-align: middle;\n    }\n\n    .dataframe tbody tr th {\n        vertical-align: top;\n    }\n\n    .dataframe thead th {\n        text-align: right;\n    }\n</style>\n<table border=\"1\" class=\"dataframe\">\n  <thead>\n    <tr style=\"text-align: right;\">\n      <th></th>\n      <th>title</th>\n      <th>tags</th>\n      <th>link</th>\n      <th>label</th>\n    </tr>\n  </thead>\n  <tbody>\n    <tr>\n      <th>0</th>\n      <td>Após Nubank, Credit Suisse também leva executi...</td>\n      <td>[Conselho de Administração, Credit Suisse (C1S...</td>\n      <td>https://www.suno.com.br/noticias/apos-nubank-c...</td>\n      <td>3</td>\n    </tr>\n    <tr>\n      <th>1</th>\n      <td>Caixa Econômica vai fechar a “máquina de preju...</td>\n      <td>[Ações, Banco Pan, Bancos, Caixa Econômica Fed...</td>\n      <td>https://www.moneytimes.com.br/caixa-economica-...</td>\n      <td>1</td>\n    </tr>\n    <tr>\n      <th>2</th>\n      <td>XP traz 5 atualizações na carteira de análise ...</td>\n      <td>[Ações, Bradespar, BRF, Carteira Recomendada, ...</td>\n      <td>https://www.moneytimes.com.br/xp-traz-5-atuali...</td>\n      <td>2</td>\n    </tr>\n    <tr>\n      <th>3</th>\n      <td>Itaú leiloa 27 imóveis residenciais e comercia...</td>\n      <td>[Empresas, Imóveis, Itaú Unibanco, Leilão, Set...</td>\n      <td>https://www.moneytimes.com.br/itau-leiloa-27-i...</td>\n      <td>3</td>\n    </tr>\n    <tr>\n      <th>4</th>\n      <td>Gerdau pagará R$ 90 mi em dividendos; empresa ...</td>\n      <td>[aço, Gerdau]</td>\n      <td>https://www.sunoresearch.com.br/noticias/gerda...</td>\n      <td>0</td>\n    </tr>\n    <tr>\n      <th>...</th>\n      <td>...</td>\n      <td>...</td>\n      <td>...</td>\n      <td>...</td>\n    </tr>\n    <tr>\n      <th>18007</th>\n      <td>Petrobras inicia teste em Albacora, no pré-sal...</td>\n      <td>[Empresas, Macaé, Petrobras, Petróleo, Reuters]</td>\n      <td>https://www.moneytimes.com.br/petrobras-inicia...</td>\n      <td>1</td>\n    </tr>\n    <tr>\n      <th>18008</th>\n      <td>Dólar e euro abrem em queda no último pregão d...</td>\n      <td>[dólar]</td>\n      <td>https://www.sunoresearch.com.br/noticias/dolar...</td>\n      <td>0</td>\n    </tr>\n    <tr>\n      <th>18009</th>\n      <td>Polaris vê conclusão de retirada de combustíve...</td>\n      <td>[Empresas, Maranhão, Mineração, Minério de fer...</td>\n      <td>https://www.moneytimes.com.br/polaris-ve-concl...</td>\n      <td>2</td>\n    </tr>\n    <tr>\n      <th>18010</th>\n      <td>Resultado da Petrobras mostra que o melhor ain...</td>\n      <td>[Comprar ou vender?, Petrobras, XP Investimentos]</td>\n      <td>https://www.moneytimes.com.br/resultado-da-pet...</td>\n      <td>1</td>\n    </tr>\n    <tr>\n      <th>18011</th>\n      <td>Moelis busca negócios na Argentina e vê Brasil...</td>\n      <td>[Alberto Fernández, América Latina, Argentina,...</td>\n      <td>https://www.moneytimes.com.br/moelis-busca-neg...</td>\n      <td>1</td>\n    </tr>\n  </tbody>\n</table>\n<p>18012 rows × 4 columns</p>\n</div>"
     },
     "execution_count": 19,
     "metadata": {},
     "output_type": "execute_result"
    }
   ],
   "source": [
    "df_concat = pd.concat([df_petr4, df_vale3, df_itub4, df_other_stocks])\n",
    "df_raw = df_concat.sample(frac=1).reset_index(drop=True)\n",
    "df_raw"
   ],
   "metadata": {
    "collapsed": false,
    "ExecuteTime": {
     "end_time": "2023-11-30T00:55:19.453210Z",
     "start_time": "2023-11-30T00:55:19.392032800Z"
    }
   }
  },
  {
   "cell_type": "code",
   "execution_count": 20,
   "outputs": [
    {
     "data": {
      "text/plain": "                                               title  label\n0  Vale fará obras para captar água em ponto não ...      2\n1    Vale instala primeira barreira no rio Paraopeba      2\n2  IRB fecha em alta de 6,66% após fundo de Warre...      3\n3  Itaú (ITUB4) vai pagar JCP no valor de R$ 0,05...      3\n4  Coluna do TradingView: Ibovespa rejeita o topo...      2\n5  Petrobras (PETR4) receberá US$ 950 milhões da ...      1\n6  Futuros de NY operam em queda após o melhor tr...      0\n7  Avianca pode perder quatro de seus seis aviões...      0\n8  Radar: lucro da Vibra (VBBR3) cai 67,4%, Merca...      2\n9  Dias Toffoli suspende decisão de Marco Aurélio...      0",
      "text/html": "<div>\n<style scoped>\n    .dataframe tbody tr th:only-of-type {\n        vertical-align: middle;\n    }\n\n    .dataframe tbody tr th {\n        vertical-align: top;\n    }\n\n    .dataframe thead th {\n        text-align: right;\n    }\n</style>\n<table border=\"1\" class=\"dataframe\">\n  <thead>\n    <tr style=\"text-align: right;\">\n      <th></th>\n      <th>title</th>\n      <th>label</th>\n    </tr>\n  </thead>\n  <tbody>\n    <tr>\n      <th>0</th>\n      <td>Vale fará obras para captar água em ponto não ...</td>\n      <td>2</td>\n    </tr>\n    <tr>\n      <th>1</th>\n      <td>Vale instala primeira barreira no rio Paraopeba</td>\n      <td>2</td>\n    </tr>\n    <tr>\n      <th>2</th>\n      <td>IRB fecha em alta de 6,66% após fundo de Warre...</td>\n      <td>3</td>\n    </tr>\n    <tr>\n      <th>3</th>\n      <td>Itaú (ITUB4) vai pagar JCP no valor de R$ 0,05...</td>\n      <td>3</td>\n    </tr>\n    <tr>\n      <th>4</th>\n      <td>Coluna do TradingView: Ibovespa rejeita o topo...</td>\n      <td>2</td>\n    </tr>\n    <tr>\n      <th>5</th>\n      <td>Petrobras (PETR4) receberá US$ 950 milhões da ...</td>\n      <td>1</td>\n    </tr>\n    <tr>\n      <th>6</th>\n      <td>Futuros de NY operam em queda após o melhor tr...</td>\n      <td>0</td>\n    </tr>\n    <tr>\n      <th>7</th>\n      <td>Avianca pode perder quatro de seus seis aviões...</td>\n      <td>0</td>\n    </tr>\n    <tr>\n      <th>8</th>\n      <td>Radar: lucro da Vibra (VBBR3) cai 67,4%, Merca...</td>\n      <td>2</td>\n    </tr>\n    <tr>\n      <th>9</th>\n      <td>Dias Toffoli suspende decisão de Marco Aurélio...</td>\n      <td>0</td>\n    </tr>\n  </tbody>\n</table>\n</div>"
     },
     "execution_count": 20,
     "metadata": {},
     "output_type": "execute_result"
    }
   ],
   "source": [
    "df_sample = df_raw.sample(10).reset_index(drop=True)\n",
    "df_sample= df_sample[['title', 'label']]\n",
    "df_sample"
   ],
   "metadata": {
    "collapsed": false,
    "ExecuteTime": {
     "end_time": "2023-11-30T00:55:19.465836200Z",
     "start_time": "2023-11-30T00:55:19.447211900Z"
    }
   }
  },
  {
   "cell_type": "code",
   "execution_count": 21,
   "outputs": [
    {
     "data": {
      "text/plain": "label\n0    6000\n1    6113\n2    3740\n3    2159\nName: count, dtype: int64"
     },
     "execution_count": 21,
     "metadata": {},
     "output_type": "execute_result"
    }
   ],
   "source": [
    "df_raw.value_counts('label').sort_index()"
   ],
   "metadata": {
    "collapsed": false,
    "ExecuteTime": {
     "end_time": "2023-11-30T00:55:19.514836700Z",
     "start_time": "2023-11-30T00:55:19.462836Z"
    }
   }
  },
  {
   "cell_type": "markdown",
   "source": [
    "## Split data into train (80%), val (10%) and test (10%) sets"
   ],
   "metadata": {
    "collapsed": false
   }
  },
  {
   "cell_type": "code",
   "execution_count": 22,
   "outputs": [],
   "source": [
    "from sklearn.model_selection import train_test_split\n",
    "\n",
    "# Split data into train and test\n",
    "train, rem = train_test_split(df_raw, train_size=0.8, random_state=52)  # 80% train\n",
    "\n",
    "val, test = train_test_split(rem, test_size=0.5, random_state=52)  # 10% val, 10% test\n"
   ],
   "metadata": {
    "collapsed": false,
    "ExecuteTime": {
     "end_time": "2023-11-30T00:55:54.682715700Z",
     "start_time": "2023-11-30T00:55:19.485837400Z"
    }
   }
  },
  {
   "cell_type": "markdown",
   "source": [
    "## Split size"
   ],
   "metadata": {
    "collapsed": false
   }
  },
  {
   "cell_type": "code",
   "execution_count": 23,
   "outputs": [
    {
     "data": {
      "text/plain": "       count category_name\nlabel                     \n0       6000        OTHERS\n1       6113         PETR4\n2       3740         VALE3\n3       2159         ITUB4",
      "text/html": "<div>\n<style scoped>\n    .dataframe tbody tr th:only-of-type {\n        vertical-align: middle;\n    }\n\n    .dataframe tbody tr th {\n        vertical-align: top;\n    }\n\n    .dataframe thead th {\n        text-align: right;\n    }\n</style>\n<table border=\"1\" class=\"dataframe\">\n  <thead>\n    <tr style=\"text-align: right;\">\n      <th></th>\n      <th>count</th>\n      <th>category_name</th>\n    </tr>\n    <tr>\n      <th>label</th>\n      <th></th>\n      <th></th>\n    </tr>\n  </thead>\n  <tbody>\n    <tr>\n      <th>0</th>\n      <td>6000</td>\n      <td>OTHERS</td>\n    </tr>\n    <tr>\n      <th>1</th>\n      <td>6113</td>\n      <td>PETR4</td>\n    </tr>\n    <tr>\n      <th>2</th>\n      <td>3740</td>\n      <td>VALE3</td>\n    </tr>\n    <tr>\n      <th>3</th>\n      <td>2159</td>\n      <td>ITUB4</td>\n    </tr>\n  </tbody>\n</table>\n</div>"
     },
     "execution_count": 23,
     "metadata": {},
     "output_type": "execute_result"
    }
   ],
   "source": [
    "df_overview_categories = pd.DataFrame(df_raw.value_counts('label').sort_index())\n",
    "df_overview_categories = df_overview_categories.assign(category_name=['OTHERS', 'PETR4', 'VALE3', 'ITUB4'])\n",
    "df_overview_categories"
   ],
   "metadata": {
    "collapsed": false,
    "ExecuteTime": {
     "end_time": "2023-11-30T00:55:54.716647800Z",
     "start_time": "2023-11-30T00:55:54.691710Z"
    }
   }
  },
  {
   "cell_type": "code",
   "execution_count": 24,
   "outputs": [
    {
     "name": "stdout",
     "output_type": "stream",
     "text": [
      "label\n",
      "0    4826\n",
      "1    4854\n",
      "2    2995\n",
      "3    1734\n",
      "Name: count, dtype: int64\n",
      "label\n",
      "0    566\n",
      "1    633\n",
      "2    374\n",
      "3    228\n",
      "Name: count, dtype: int64\n",
      "label\n",
      "0    608\n",
      "1    626\n",
      "2    371\n",
      "3    197\n",
      "Name: count, dtype: int64\n",
      "Total treino:  14409\n",
      "Total validação:  1801\n",
      "Total teste:  1802\n"
     ]
    }
   ],
   "source": [
    "print(train.value_counts('label').sort_index())\n",
    "print(val.value_counts('label').sort_index())\n",
    "print(test.value_counts('label').sort_index())\n",
    "print(\"Total treino: \", train.shape[0])\n",
    "print(\"Total validação: \", val.shape[0])\n",
    "print(\"Total teste: \", test.shape[0])"
   ],
   "metadata": {
    "collapsed": false,
    "ExecuteTime": {
     "end_time": "2023-11-30T00:55:54.757171900Z",
     "start_time": "2023-11-30T00:55:54.715646500Z"
    }
   }
  },
  {
   "cell_type": "code",
   "execution_count": 25,
   "outputs": [
    {
     "ename": "ImportError",
     "evalue": "matplotlib is required for plotting when the default backend \"matplotlib\" is selected.",
     "output_type": "error",
     "traceback": [
      "\u001B[1;31m---------------------------------------------------------------------------\u001B[0m",
      "\u001B[1;31mImportError\u001B[0m                               Traceback (most recent call last)",
      "Cell \u001B[1;32mIn[25], line 1\u001B[0m\n\u001B[1;32m----> 1\u001B[0m \u001B[43mtrain\u001B[49m\u001B[38;5;241;43m.\u001B[39;49m\u001B[43mvalue_counts\u001B[49m\u001B[43m(\u001B[49m\u001B[38;5;124;43m'\u001B[39;49m\u001B[38;5;124;43mlabel\u001B[39;49m\u001B[38;5;124;43m'\u001B[39;49m\u001B[43m)\u001B[49m\u001B[38;5;241;43m.\u001B[39;49m\u001B[43mplot\u001B[49m\u001B[43m(\u001B[49m\u001B[43mkind\u001B[49m\u001B[38;5;241;43m=\u001B[39;49m\u001B[38;5;124;43m'\u001B[39;49m\u001B[38;5;124;43mbar\u001B[39;49m\u001B[38;5;124;43m'\u001B[39;49m\u001B[43m)\u001B[49m\n",
      "File \u001B[1;32m~\\.conda\\envs\\tcc\\Lib\\site-packages\\pandas\\plotting\\_core.py:951\u001B[0m, in \u001B[0;36mPlotAccessor.__call__\u001B[1;34m(self, *args, **kwargs)\u001B[0m\n\u001B[0;32m    950\u001B[0m \u001B[38;5;28;01mdef\u001B[39;00m \u001B[38;5;21m__call__\u001B[39m(\u001B[38;5;28mself\u001B[39m, \u001B[38;5;241m*\u001B[39margs, \u001B[38;5;241m*\u001B[39m\u001B[38;5;241m*\u001B[39mkwargs):\n\u001B[1;32m--> 951\u001B[0m     plot_backend \u001B[38;5;241m=\u001B[39m \u001B[43m_get_plot_backend\u001B[49m\u001B[43m(\u001B[49m\u001B[43mkwargs\u001B[49m\u001B[38;5;241;43m.\u001B[39;49m\u001B[43mpop\u001B[49m\u001B[43m(\u001B[49m\u001B[38;5;124;43m\"\u001B[39;49m\u001B[38;5;124;43mbackend\u001B[39;49m\u001B[38;5;124;43m\"\u001B[39;49m\u001B[43m,\u001B[49m\u001B[43m \u001B[49m\u001B[38;5;28;43;01mNone\u001B[39;49;00m\u001B[43m)\u001B[49m\u001B[43m)\u001B[49m\n\u001B[0;32m    953\u001B[0m     x, y, kind, kwargs \u001B[38;5;241m=\u001B[39m \u001B[38;5;28mself\u001B[39m\u001B[38;5;241m.\u001B[39m_get_call_args(\n\u001B[0;32m    954\u001B[0m         plot_backend\u001B[38;5;241m.\u001B[39m\u001B[38;5;18m__name__\u001B[39m, \u001B[38;5;28mself\u001B[39m\u001B[38;5;241m.\u001B[39m_parent, args, kwargs\n\u001B[0;32m    955\u001B[0m     )\n\u001B[0;32m    957\u001B[0m     kind \u001B[38;5;241m=\u001B[39m \u001B[38;5;28mself\u001B[39m\u001B[38;5;241m.\u001B[39m_kind_aliases\u001B[38;5;241m.\u001B[39mget(kind, kind)\n",
      "File \u001B[1;32m~\\.conda\\envs\\tcc\\Lib\\site-packages\\pandas\\plotting\\_core.py:1947\u001B[0m, in \u001B[0;36m_get_plot_backend\u001B[1;34m(backend)\u001B[0m\n\u001B[0;32m   1944\u001B[0m \u001B[38;5;28;01mif\u001B[39;00m backend_str \u001B[38;5;129;01min\u001B[39;00m _backends:\n\u001B[0;32m   1945\u001B[0m     \u001B[38;5;28;01mreturn\u001B[39;00m _backends[backend_str]\n\u001B[1;32m-> 1947\u001B[0m module \u001B[38;5;241m=\u001B[39m \u001B[43m_load_backend\u001B[49m\u001B[43m(\u001B[49m\u001B[43mbackend_str\u001B[49m\u001B[43m)\u001B[49m\n\u001B[0;32m   1948\u001B[0m _backends[backend_str] \u001B[38;5;241m=\u001B[39m module\n\u001B[0;32m   1949\u001B[0m \u001B[38;5;28;01mreturn\u001B[39;00m module\n",
      "File \u001B[1;32m~\\.conda\\envs\\tcc\\Lib\\site-packages\\pandas\\plotting\\_core.py:1877\u001B[0m, in \u001B[0;36m_load_backend\u001B[1;34m(backend)\u001B[0m\n\u001B[0;32m   1875\u001B[0m         module \u001B[38;5;241m=\u001B[39m importlib\u001B[38;5;241m.\u001B[39mimport_module(\u001B[38;5;124m\"\u001B[39m\u001B[38;5;124mpandas.plotting._matplotlib\u001B[39m\u001B[38;5;124m\"\u001B[39m)\n\u001B[0;32m   1876\u001B[0m     \u001B[38;5;28;01mexcept\u001B[39;00m \u001B[38;5;167;01mImportError\u001B[39;00m:\n\u001B[1;32m-> 1877\u001B[0m         \u001B[38;5;28;01mraise\u001B[39;00m \u001B[38;5;167;01mImportError\u001B[39;00m(\n\u001B[0;32m   1878\u001B[0m             \u001B[38;5;124m\"\u001B[39m\u001B[38;5;124mmatplotlib is required for plotting when the \u001B[39m\u001B[38;5;124m\"\u001B[39m\n\u001B[0;32m   1879\u001B[0m             \u001B[38;5;124m'\u001B[39m\u001B[38;5;124mdefault backend \u001B[39m\u001B[38;5;124m\"\u001B[39m\u001B[38;5;124mmatplotlib\u001B[39m\u001B[38;5;124m\"\u001B[39m\u001B[38;5;124m is selected.\u001B[39m\u001B[38;5;124m'\u001B[39m\n\u001B[0;32m   1880\u001B[0m         ) \u001B[38;5;28;01mfrom\u001B[39;00m \u001B[38;5;28;01mNone\u001B[39;00m\n\u001B[0;32m   1881\u001B[0m     \u001B[38;5;28;01mreturn\u001B[39;00m module\n\u001B[0;32m   1883\u001B[0m found_backend \u001B[38;5;241m=\u001B[39m \u001B[38;5;28;01mFalse\u001B[39;00m\n",
      "\u001B[1;31mImportError\u001B[0m: matplotlib is required for plotting when the default backend \"matplotlib\" is selected."
     ]
    }
   ],
   "source": [
    "train.value_counts('label').plot(kind='bar')"
   ],
   "metadata": {
    "collapsed": false,
    "ExecuteTime": {
     "end_time": "2023-11-30T00:55:55.496757400Z",
     "start_time": "2023-11-30T00:55:54.738173500Z"
    }
   }
  },
  {
   "cell_type": "markdown",
   "source": [
    "## Export full df, train, val and test for future use"
   ],
   "metadata": {
    "collapsed": false
   }
  },
  {
   "cell_type": "code",
   "execution_count": 34,
   "outputs": [],
   "source": [
    "df_raw.to_csv('../assets/data/df_raw.csv', index=False)\n",
    "train.to_csv('../assets/data/splits/train/raw.csv', index=False)\n",
    "val.to_csv('../assets/data/splits/val/raw.csv', index=False)\n",
    "test.to_csv('../assets/data/splits/test/raw.csv', index=False)"
   ],
   "metadata": {
    "collapsed": false,
    "ExecuteTime": {
     "end_time": "2023-11-30T01:48:53.952150Z",
     "start_time": "2023-11-30T01:48:52.859544400Z"
    }
   }
  }
 ],
 "metadata": {
  "kernelspec": {
   "display_name": "Python 3",
   "language": "python",
   "name": "python3"
  },
  "language_info": {
   "codemirror_mode": {
    "name": "ipython",
    "version": 2
   },
   "file_extension": ".py",
   "mimetype": "text/x-python",
   "name": "python",
   "nbconvert_exporter": "python",
   "pygments_lexer": "ipython2",
   "version": "2.7.6"
  }
 },
 "nbformat": 4,
 "nbformat_minor": 0
}
