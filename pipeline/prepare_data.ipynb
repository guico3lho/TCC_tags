{
 "cells": [
  {
   "cell_type": "markdown",
   "source": [
    "## Packages"
   ],
   "metadata": {
    "collapsed": false
   }
  },
  {
   "cell_type": "code",
   "execution_count": 2,
   "outputs": [],
   "source": [
    "import pandas as pd\n",
    "import json\n",
    "import requests"
   ],
   "metadata": {
    "collapsed": false
   }
  },
  {
   "cell_type": "markdown",
   "source": [
    "## Functions"
   ],
   "metadata": {
    "collapsed": false
   }
  },
  {
   "cell_type": "code",
   "execution_count": 16,
   "outputs": [],
   "source": [
    "def getDateOutOfDatetimeToIndex(df):\n",
    "    df['time'] = df['date'].apply(lambda x: str(x).split()[1])\n",
    "    df['date'] = pd.to_datetime(df['date'], format='%d/%m/%Y %H:%M')\n",
    "    df['date'] = df['date'].apply(lambda x: str(x).split()[0])\n",
    "    df.set_index('date', inplace=True)\n",
    "    df.sort_index(inplace=True)\n",
    "    return df"
   ],
   "metadata": {
    "collapsed": false
   }
  },
  {
   "cell_type": "markdown",
   "source": [
    "## Get data"
   ],
   "metadata": {
    "collapsed": false
   }
  },
  {
   "cell_type": "markdown",
   "source": [
    "### PETR4"
   ],
   "metadata": {
    "collapsed": false
   }
  },
  {
   "cell_type": "code",
   "execution_count": 20,
   "outputs": [
    {
     "data": {
      "text/plain": "         topic                                              title  \\\n0     Negócios  Petrobras (PETR4) finaliza venda do Polo Peroá...   \n1     Economia  Conselheiro da Petrobras (PETR4) sugere congel...   \n2     Negócios  Radar: MRV (MRVE3) paga dividendos milionários...   \n3     Política  Líder dos caminhoneiros sobre voucher: “Não pr...   \n4     Negócios  Petrobras (PETR4): Petroleiros aprovam indicat...   \n...        ...                                                ...   \n1425   Mercado  Ibovespa fecha em queda de 0,35%, a 104.109,07...   \n1426  Negócios  Petrobras faz pré-pagamento de US$ 3,5 bi em l...   \n1427  Negócios  Petrobras (PETR4) divulga teaser de venda de p...   \n1428  Negócios  Agenda do Dia: Petrobras; Yduqs; Oi; AES Tietê...   \n1429  Negócios  Petrobras (PETR4): BNDES reprovou bonificação ...   \n\n                  date          search_date  \\\n0     03/08/2022 13:46  2022-08-04 00:21:19   \n1     17/06/2022 19:52  2022-08-04 00:21:35   \n2     20/06/2022 23:05  2022-08-04 00:21:35   \n3     22/06/2022 17:24  2022-08-04 00:21:35   \n4     10/07/2022 09:40  2022-08-04 00:21:35   \n...                ...                  ...   \n1425  28/07/2020 17:37  2022-05-03 16:22:55   \n1426  28/07/2020 15:00  2022-05-03 16:22:56   \n1427  28/07/2020 11:26  2022-05-03 16:22:57   \n1428  28/07/2020 09:49  2022-05-03 16:22:57   \n1429  28/07/2020 08:28  2022-05-03 16:22:57   \n\n                                                    url  \\\n0     https://www.suno.com.br/noticias/petrobras-pet...   \n1     https://www.suno.com.br/noticias/petrobras-pet...   \n2     https://www.suno.com.br/noticias/radar-petrobr...   \n3     https://www.suno.com.br/noticias/lider-caminho...   \n4     https://www.suno.com.br/noticias/petrobras-pet...   \n...                                                 ...   \n1425  https://www.suno.com.br/noticias/ibovespa-fech...   \n1426  https://www.suno.com.br/noticias/petrobras-pre...   \n1427  https://www.suno.com.br/noticias/petrobras-pet...   \n1428  https://www.suno.com.br/noticias/agenda-do-dia...   \n1429  https://www.suno.com.br/noticias/petrobras-pet...   \n\n                                                   tags  \n0     [Petrobras (PETR4), 3R Petroleum (RRRP3), Petr...  \n1     [Petrobras (PETR4), Arthur Lira, Jair Bolsonar...  \n2     [Ibovespa, Ibovespa, Magazine Luiza (MGLU3), M...  \n3     [Petrobras (PETR4), combustíveis, diesel, Jair...  \n4     [Petrobras (PETR4), greves, Petrobras (PETR4),...  \n...                                                 ...  \n1425  [AES Tietê (TIET3/TIET4/TIET11), BNDES, Iboves...  \n1426                         [PETR3, Petrobras (PETR4)]  \n1427                         [PETR3, Petrobras (PETR4)]  \n1428  [AES Tietê (TIET3/TIET4/TIET11), agenda do dia...  \n1429                      [BNDESPar, Petrobras (PETR4)]  \n\n[1430 rows x 6 columns]",
      "text/html": "<div>\n<style scoped>\n    .dataframe tbody tr th:only-of-type {\n        vertical-align: middle;\n    }\n\n    .dataframe tbody tr th {\n        vertical-align: top;\n    }\n\n    .dataframe thead th {\n        text-align: right;\n    }\n</style>\n<table border=\"1\" class=\"dataframe\">\n  <thead>\n    <tr style=\"text-align: right;\">\n      <th></th>\n      <th>topic</th>\n      <th>title</th>\n      <th>date</th>\n      <th>search_date</th>\n      <th>url</th>\n      <th>tags</th>\n    </tr>\n  </thead>\n  <tbody>\n    <tr>\n      <th>0</th>\n      <td>Negócios</td>\n      <td>Petrobras (PETR4) finaliza venda do Polo Peroá...</td>\n      <td>03/08/2022 13:46</td>\n      <td>2022-08-04 00:21:19</td>\n      <td>https://www.suno.com.br/noticias/petrobras-pet...</td>\n      <td>[Petrobras (PETR4), 3R Petroleum (RRRP3), Petr...</td>\n    </tr>\n    <tr>\n      <th>1</th>\n      <td>Economia</td>\n      <td>Conselheiro da Petrobras (PETR4) sugere congel...</td>\n      <td>17/06/2022 19:52</td>\n      <td>2022-08-04 00:21:35</td>\n      <td>https://www.suno.com.br/noticias/petrobras-pet...</td>\n      <td>[Petrobras (PETR4), Arthur Lira, Jair Bolsonar...</td>\n    </tr>\n    <tr>\n      <th>2</th>\n      <td>Negócios</td>\n      <td>Radar: MRV (MRVE3) paga dividendos milionários...</td>\n      <td>20/06/2022 23:05</td>\n      <td>2022-08-04 00:21:35</td>\n      <td>https://www.suno.com.br/noticias/radar-petrobr...</td>\n      <td>[Ibovespa, Ibovespa, Magazine Luiza (MGLU3), M...</td>\n    </tr>\n    <tr>\n      <th>3</th>\n      <td>Política</td>\n      <td>Líder dos caminhoneiros sobre voucher: “Não pr...</td>\n      <td>22/06/2022 17:24</td>\n      <td>2022-08-04 00:21:35</td>\n      <td>https://www.suno.com.br/noticias/lider-caminho...</td>\n      <td>[Petrobras (PETR4), combustíveis, diesel, Jair...</td>\n    </tr>\n    <tr>\n      <th>4</th>\n      <td>Negócios</td>\n      <td>Petrobras (PETR4): Petroleiros aprovam indicat...</td>\n      <td>10/07/2022 09:40</td>\n      <td>2022-08-04 00:21:35</td>\n      <td>https://www.suno.com.br/noticias/petrobras-pet...</td>\n      <td>[Petrobras (PETR4), greves, Petrobras (PETR4),...</td>\n    </tr>\n    <tr>\n      <th>...</th>\n      <td>...</td>\n      <td>...</td>\n      <td>...</td>\n      <td>...</td>\n      <td>...</td>\n      <td>...</td>\n    </tr>\n    <tr>\n      <th>1425</th>\n      <td>Mercado</td>\n      <td>Ibovespa fecha em queda de 0,35%, a 104.109,07...</td>\n      <td>28/07/2020 17:37</td>\n      <td>2022-05-03 16:22:55</td>\n      <td>https://www.suno.com.br/noticias/ibovespa-fech...</td>\n      <td>[AES Tietê (TIET3/TIET4/TIET11), BNDES, Iboves...</td>\n    </tr>\n    <tr>\n      <th>1426</th>\n      <td>Negócios</td>\n      <td>Petrobras faz pré-pagamento de US$ 3,5 bi em l...</td>\n      <td>28/07/2020 15:00</td>\n      <td>2022-05-03 16:22:56</td>\n      <td>https://www.suno.com.br/noticias/petrobras-pre...</td>\n      <td>[PETR3, Petrobras (PETR4)]</td>\n    </tr>\n    <tr>\n      <th>1427</th>\n      <td>Negócios</td>\n      <td>Petrobras (PETR4) divulga teaser de venda de p...</td>\n      <td>28/07/2020 11:26</td>\n      <td>2022-05-03 16:22:57</td>\n      <td>https://www.suno.com.br/noticias/petrobras-pet...</td>\n      <td>[PETR3, Petrobras (PETR4)]</td>\n    </tr>\n    <tr>\n      <th>1428</th>\n      <td>Negócios</td>\n      <td>Agenda do Dia: Petrobras; Yduqs; Oi; AES Tietê...</td>\n      <td>28/07/2020 09:49</td>\n      <td>2022-05-03 16:22:57</td>\n      <td>https://www.suno.com.br/noticias/agenda-do-dia...</td>\n      <td>[AES Tietê (TIET3/TIET4/TIET11), agenda do dia...</td>\n    </tr>\n    <tr>\n      <th>1429</th>\n      <td>Negócios</td>\n      <td>Petrobras (PETR4): BNDES reprovou bonificação ...</td>\n      <td>28/07/2020 08:28</td>\n      <td>2022-05-03 16:22:57</td>\n      <td>https://www.suno.com.br/noticias/petrobras-pet...</td>\n      <td>[BNDESPar, Petrobras (PETR4)]</td>\n    </tr>\n  </tbody>\n</table>\n<p>1430 rows × 6 columns</p>\n</div>"
     },
     "execution_count": 20,
     "metadata": {},
     "output_type": "execute_result"
    }
   ],
   "source": [
    "url = 'https://raw.githubusercontent.com/guico3lho/TCC/main/assets/Datasets/suno/suno-petr4.json?token=GHSAT0AAAAAABYDRQ4ZASOZJOMO2OAKI4MEZAOJOKA'\n",
    "r = requests.get(url)\n",
    "json_data = r.json()\n",
    "df_petr_raw = pd.DataFrame(json_data)\n",
    "df_petr_raw"
   ],
   "metadata": {
    "collapsed": false
   }
  },
  {
   "cell_type": "code",
   "execution_count": 18,
   "outputs": [
    {
     "data": {
      "text/plain": "               topic                                              title  \\\ndate                                                                      \n2020-07-16  Negócios  Agenda do Dia: JHSF; Tim; Oi; Petrobras; Metal...   \n2020-07-16  Negócios  Petrobras (PETR4): exportação de petróleo para...   \n2020-07-16  Negócios  Petrobras (PETR4) conclui venda de campos pelo...   \n2020-07-16   Mercado  Ibovespa hoje cai 1,22% em mau humor com bater...   \n2020-07-17  Negócios  Agenda do Dia: Moura Dubeux; Tenda; Petrobras;...   \n...              ...                                                ...   \n2022-07-31  Negócios  Dividendos bilionários da Petrobras (PETR4) sã...   \n2022-08-01  Negócios  Radar: Petrobras (PETR4) lidera ranking de div...   \n2022-08-02  Negócios  Carteira de dividendos: BTG troca Vale (VALE3)...   \n2022-08-02   Mercado  Ibovespa se mantém em 103 mil pontos; Magazine...   \n2022-08-03  Negócios  Petrobras (PETR4) finaliza venda do Polo Peroá...   \n\n                    search_date  \\\ndate                              \n2020-07-16  2022-05-03 16:22:46   \n2020-07-16  2022-05-03 16:22:44   \n2020-07-16  2022-05-03 16:22:45   \n2020-07-16  2022-05-03 16:22:45   \n2020-07-17  2022-05-03 16:22:44   \n...                         ...   \n2022-07-31  2022-08-04 00:24:23   \n2022-08-01  2022-08-04 00:24:25   \n2022-08-02  2022-08-04 00:21:51   \n2022-08-02  2022-08-04 00:24:45   \n2022-08-03  2022-08-04 00:21:19   \n\n                                                          url  \\\ndate                                                            \n2020-07-16  https://www.suno.com.br/noticias/agenda-do-dia...   \n2020-07-16  https://www.suno.com.br/noticias/petrobras-pet...   \n2020-07-16  https://www.suno.com.br/noticias/petrobras-pet...   \n2020-07-16  https://www.suno.com.br/noticias/ibovespa-fech...   \n2020-07-17  https://www.suno.com.br/noticias/agenda-do-dia...   \n...                                                       ...   \n2022-07-31  https://www.suno.com.br/noticias/dividendos-bi...   \n2022-08-01  https://www.suno.com.br/noticias/radar-petrobr...   \n2022-08-02  https://www.suno.com.br/noticias/dividendos-ca...   \n2022-08-02  https://www.suno.com.br/noticias/ibovespa-102-...   \n2022-08-03  https://www.suno.com.br/noticias/petrobras-pet...   \n\n                                                         tags   time  \ndate                                                                  \n2020-07-16  [agenda do dia, JHSF (JHSF3), Metalfrio (FRIO3...  08:27  \n2020-07-16        [China, PETR3, Petrobras (PETR4), Petróleo]  19:04  \n2020-07-16                         [PETR3, Petrobras (PETR4)]  09:46  \n2020-07-16  [Ibovespa, JHSF (JHSF3), Petrobras (PETR4), Va...  17:28  \n2020-07-17  [agenda do dia, Cia Hering (HGTX3), Moura Dube...  09:06  \n...                                                       ...    ...  \n2022-07-31             [Petrobras (PETR4), Petrobras (PETR4)]  16:28  \n2022-08-01  [Petrobras (PETR4), CSN (CSNA3), EDP Brasil (E...  23:21  \n2022-08-02  [Petrobras (PETR4), BTG Pactual (BPAC11/BPAC3/...  12:34  \n2022-08-02  [Ibovespa, Bradesco (BBDC3/BBDC4), CVC (CVCB3)...  10:55  \n2022-08-03  [Petrobras (PETR4), 3R Petroleum (RRRP3), Petr...  13:46  \n\n[1430 rows x 6 columns]",
      "text/html": "<div>\n<style scoped>\n    .dataframe tbody tr th:only-of-type {\n        vertical-align: middle;\n    }\n\n    .dataframe tbody tr th {\n        vertical-align: top;\n    }\n\n    .dataframe thead th {\n        text-align: right;\n    }\n</style>\n<table border=\"1\" class=\"dataframe\">\n  <thead>\n    <tr style=\"text-align: right;\">\n      <th></th>\n      <th>topic</th>\n      <th>title</th>\n      <th>search_date</th>\n      <th>url</th>\n      <th>tags</th>\n      <th>time</th>\n    </tr>\n    <tr>\n      <th>date</th>\n      <th></th>\n      <th></th>\n      <th></th>\n      <th></th>\n      <th></th>\n      <th></th>\n    </tr>\n  </thead>\n  <tbody>\n    <tr>\n      <th>2020-07-16</th>\n      <td>Negócios</td>\n      <td>Agenda do Dia: JHSF; Tim; Oi; Petrobras; Metal...</td>\n      <td>2022-05-03 16:22:46</td>\n      <td>https://www.suno.com.br/noticias/agenda-do-dia...</td>\n      <td>[agenda do dia, JHSF (JHSF3), Metalfrio (FRIO3...</td>\n      <td>08:27</td>\n    </tr>\n    <tr>\n      <th>2020-07-16</th>\n      <td>Negócios</td>\n      <td>Petrobras (PETR4): exportação de petróleo para...</td>\n      <td>2022-05-03 16:22:44</td>\n      <td>https://www.suno.com.br/noticias/petrobras-pet...</td>\n      <td>[China, PETR3, Petrobras (PETR4), Petróleo]</td>\n      <td>19:04</td>\n    </tr>\n    <tr>\n      <th>2020-07-16</th>\n      <td>Negócios</td>\n      <td>Petrobras (PETR4) conclui venda de campos pelo...</td>\n      <td>2022-05-03 16:22:45</td>\n      <td>https://www.suno.com.br/noticias/petrobras-pet...</td>\n      <td>[PETR3, Petrobras (PETR4)]</td>\n      <td>09:46</td>\n    </tr>\n    <tr>\n      <th>2020-07-16</th>\n      <td>Mercado</td>\n      <td>Ibovespa hoje cai 1,22% em mau humor com bater...</td>\n      <td>2022-05-03 16:22:45</td>\n      <td>https://www.suno.com.br/noticias/ibovespa-fech...</td>\n      <td>[Ibovespa, JHSF (JHSF3), Petrobras (PETR4), Va...</td>\n      <td>17:28</td>\n    </tr>\n    <tr>\n      <th>2020-07-17</th>\n      <td>Negócios</td>\n      <td>Agenda do Dia: Moura Dubeux; Tenda; Petrobras;...</td>\n      <td>2022-05-03 16:22:44</td>\n      <td>https://www.suno.com.br/noticias/agenda-do-dia...</td>\n      <td>[agenda do dia, Cia Hering (HGTX3), Moura Dube...</td>\n      <td>09:06</td>\n    </tr>\n    <tr>\n      <th>...</th>\n      <td>...</td>\n      <td>...</td>\n      <td>...</td>\n      <td>...</td>\n      <td>...</td>\n      <td>...</td>\n    </tr>\n    <tr>\n      <th>2022-07-31</th>\n      <td>Negócios</td>\n      <td>Dividendos bilionários da Petrobras (PETR4) sã...</td>\n      <td>2022-08-04 00:24:23</td>\n      <td>https://www.suno.com.br/noticias/dividendos-bi...</td>\n      <td>[Petrobras (PETR4), Petrobras (PETR4)]</td>\n      <td>16:28</td>\n    </tr>\n    <tr>\n      <th>2022-08-01</th>\n      <td>Negócios</td>\n      <td>Radar: Petrobras (PETR4) lidera ranking de div...</td>\n      <td>2022-08-04 00:24:25</td>\n      <td>https://www.suno.com.br/noticias/radar-petrobr...</td>\n      <td>[Petrobras (PETR4), CSN (CSNA3), EDP Brasil (E...</td>\n      <td>23:21</td>\n    </tr>\n    <tr>\n      <th>2022-08-02</th>\n      <td>Negócios</td>\n      <td>Carteira de dividendos: BTG troca Vale (VALE3)...</td>\n      <td>2022-08-04 00:21:51</td>\n      <td>https://www.suno.com.br/noticias/dividendos-ca...</td>\n      <td>[Petrobras (PETR4), BTG Pactual (BPAC11/BPAC3/...</td>\n      <td>12:34</td>\n    </tr>\n    <tr>\n      <th>2022-08-02</th>\n      <td>Mercado</td>\n      <td>Ibovespa se mantém em 103 mil pontos; Magazine...</td>\n      <td>2022-08-04 00:24:45</td>\n      <td>https://www.suno.com.br/noticias/ibovespa-102-...</td>\n      <td>[Ibovespa, Bradesco (BBDC3/BBDC4), CVC (CVCB3)...</td>\n      <td>10:55</td>\n    </tr>\n    <tr>\n      <th>2022-08-03</th>\n      <td>Negócios</td>\n      <td>Petrobras (PETR4) finaliza venda do Polo Peroá...</td>\n      <td>2022-08-04 00:21:19</td>\n      <td>https://www.suno.com.br/noticias/petrobras-pet...</td>\n      <td>[Petrobras (PETR4), 3R Petroleum (RRRP3), Petr...</td>\n      <td>13:46</td>\n    </tr>\n  </tbody>\n</table>\n<p>1430 rows × 6 columns</p>\n</div>"
     },
     "execution_count": 18,
     "metadata": {},
     "output_type": "execute_result"
    }
   ],
   "source": [
    "df_petr = getDateOutOfDatetimeToIndex(df_petr_raw)\n",
    "df_petr"
   ],
   "metadata": {
    "collapsed": false
   }
  },
  {
   "cell_type": "code",
   "execution_count": 24,
   "outputs": [
    {
     "data": {
      "text/plain": "pandas.core.indexes.base.Index"
     },
     "execution_count": 24,
     "metadata": {},
     "output_type": "execute_result"
    }
   ],
   "source": [
    "# 2020-07-16 -> 2022-01-06"
   ],
   "metadata": {
    "collapsed": false
   }
  }
 ],
 "metadata": {
  "kernelspec": {
   "display_name": "Python 3",
   "language": "python",
   "name": "python3"
  },
  "language_info": {
   "codemirror_mode": {
    "name": "ipython",
    "version": 2
   },
   "file_extension": ".py",
   "mimetype": "text/x-python",
   "name": "python",
   "nbconvert_exporter": "python",
   "pygments_lexer": "ipython2",
   "version": "2.7.6"
  }
 },
 "nbformat": 4,
 "nbformat_minor": 0
}
